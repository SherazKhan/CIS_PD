{
 "cells": [
  {
   "cell_type": "markdown",
   "metadata": {},
   "source": [
    "# An example on how to do an FFT, PSD, HP filtering and Cross Correlation in Python"
   ]
  },
  {
   "cell_type": "code",
   "execution_count": null,
   "metadata": {
    "collapsed": false
   },
   "outputs": [],
   "source": [
    "import numpy as np\n",
    "import seaborn as sns\n",
    "import scipy.signal\n",
    "from scipy.signal import butter, welch\n",
    "import nolds\n",
    "import matplotlib.pyplot as plt\n",
    "%matplotlib inline"
   ]
  },
  {
   "cell_type": "code",
   "execution_count": null,
   "metadata": {
    "collapsed": false
   },
   "outputs": [],
   "source": [
    "#An example of FFT \n",
    "Fs = 100 #sample rate\n",
    "pi = np.pi\n",
    "\n",
    "f0 = 2 #cycles per sec\n",
    "f1 = 6\n",
    "t = np.linspace(0,10,1000) \n",
    "x = np.sin(2*pi*f0*t) + 0.5*np.sin(2*pi*f1*t)+2\n",
    "plt.figure(figsize=(5,3))\n",
    "plt.plot(t,x)\n",
    "plt.xlabel('time [s]')\n",
    "plt.ylabel('amplitude [AU]')\n",
    "\n",
    "Xf = np.fft.fft(x)\n",
    "n = x.size\n",
    "timestep = 1/Fs\n",
    "freq = np.fft.fftfreq(n,d=timestep)\n",
    "print(max(freq))\n",
    "plt.figure(figsize=(5,3))\n",
    "plt.plot(freq[:int(n/2)],Xf.real[:int(n/2)])\n",
    "plt.xlim([0,10])\n",
    "plt.xlabel('Freq [Hz]')\n",
    "plt.ylabel('|FFT(x)|')\n",
    "\n",
    "Pxx = np.abs(Xf)**2 #power spectrum\n",
    "Pxx = Pxx/np.sum(Pxx) #relative power to total\n",
    "plt.figure(figsize=(5,3))\n",
    "plt.plot(freq[:int(n/2)],Pxx[:int(n/2)])\n",
    "plt.xlim([0,10])\n",
    "plt.xlabel('Freq [Hz]')\n",
    "plt.ylabel('Power')"
   ]
  },
  {
   "cell_type": "markdown",
   "metadata": {},
   "source": [
    "## Average PSD within bins"
   ]
  },
  {
   "cell_type": "code",
   "execution_count": null,
   "metadata": {
    "collapsed": false
   },
   "outputs": [],
   "source": [
    "#power spectra averaged within bins\n",
    "fm = 1; fM = 10; nbins = 10 #frequency bins\n",
    "bin1 = int(timestep*n*fm)\n",
    "bin2 = int(timestep*n*fM)\n",
    "bins = np.linspace(bin1,bin2,nbins,dtype=int) #sample indices\n",
    "deltab = int(0.5*np.diff(bins)[0]) #half the size of bin (in samples)\n",
    "Pxxm = []\n",
    "for i in bins:\n",
    "    start = int(max(i-deltab,bins[0]))\n",
    "    end = int(min(i+deltab,bins[-1]))\n",
    "#     print(start,end)\n",
    "#     print(np.mean(Pxx[start:end]))\n",
    "    Pxxm.append(np.mean(Pxx[start:end]))\n",
    "Pxxm = np.asarray(Pxxm)\n",
    "plt.plot(bins/(timestep*n),Pxxm)"
   ]
  },
  {
   "cell_type": "markdown",
   "metadata": {},
   "source": [
    "## Using the Welch method"
   ]
  },
  {
   "cell_type": "code",
   "execution_count": null,
   "metadata": {
    "collapsed": false
   },
   "outputs": [],
   "source": [
    "f,Pxx_den = welch(x,fs=Fs)\n",
    "# plt.semilogy(f,Pxx_den)\n",
    "plt.plot(f,Pxx_den)"
   ]
  },
  {
   "cell_type": "markdown",
   "metadata": {},
   "source": [
    "# HP filter on the data"
   ]
  },
  {
   "cell_type": "code",
   "execution_count": null,
   "metadata": {
    "collapsed": false
   },
   "outputs": [],
   "source": [
    "cutoff = 3\n",
    "cutoff_norm = cutoff/(0.5*Fs)\n",
    "b,a = butter(1,cutoff_norm,btype='lowpass',analog=False)\n",
    "xfilt = scipy.signal.filtfilt(b,a,x)\n",
    "plt.plot(t,x,t,xfilt)\n",
    "plt.xlabel('time [s]')\n",
    "plt.ylabel('amplitude [AU]')"
   ]
  },
  {
   "cell_type": "code",
   "execution_count": null,
   "metadata": {
    "collapsed": true
   },
   "outputs": [],
   "source": [
    "#EXAMPLE of creating dict of dicts\n",
    "# trial = 0\n",
    "# s  = 'accel'\n",
    "# clip_data={}\n",
    "# clip_data[trial] = {}\n",
    "# clip_data[trial][s] = clips\n",
    "# s2 = 'gyro'\n",
    "# clip_data[trial][s2] = clips\n",
    "# # clip_data[trial]['size'] = clip_len"
   ]
  },
  {
   "cell_type": "markdown",
   "metadata": {},
   "source": [
    "# Cross correlation of 2 timeseries"
   ]
  },
  {
   "cell_type": "code",
   "execution_count": null,
   "metadata": {
    "collapsed": false
   },
   "outputs": [],
   "source": [
    "np.random.seed(10)\n",
    "x = np.zeros((100,))\n",
    "y = np.zeros((100,))\n",
    "y[37:57]=np.ones((20,))\n",
    "# y = np.random.randn(100)\n",
    "x[40:60]=np.ones((20,))\n",
    "xcorr_xy = np.correlate(x,y,mode='same')\n",
    "xcorr_xy = xcorr_xy/np.sum(xcorr_xy)\n",
    "\n",
    "peak = np.max(xcorr_xy) \n",
    "peak_lag = (np.argmax(xcorr_xy))/len(xcorr_xy)\n",
    "print(peak,peak_lag)\n",
    "\n",
    "plt.plot(x,'g')\n",
    "plt.plot(y,'r')\n",
    "plt.plot(xcorr_xy,'bo')\n",
    "#Use same to return output of size max(M,N) with M,N being the length of y and x respectively\n",
    "#By default, mode is ‘full’. This returns the convolution at each point of overlap, with an output shape of (N+M-1,).\n",
    "#At the end-points of the convolution, the signals do not overlap completely, and boundary effects may be seen."
   ]
  },
  {
   "cell_type": "markdown",
   "metadata": {},
   "source": [
    "# Sample entropy"
   ]
  },
  {
   "cell_type": "code",
   "execution_count": null,
   "metadata": {
    "collapsed": false
   },
   "outputs": [],
   "source": [
    "nolds.sampen(x)"
   ]
  },
  {
   "cell_type": "code",
   "execution_count": null,
   "metadata": {
    "collapsed": false
   },
   "outputs": [],
   "source": [
    "z = x+np.random.randn(x.shape[0])"
   ]
  },
  {
   "cell_type": "code",
   "execution_count": null,
   "metadata": {
    "collapsed": false
   },
   "outputs": [],
   "source": [
    "plt.plot(x)\n",
    "plt.plot(z)"
   ]
  },
  {
   "cell_type": "code",
   "execution_count": null,
   "metadata": {
    "collapsed": false
   },
   "outputs": [],
   "source": [
    "nolds.sampen(z)"
   ]
  },
  {
   "cell_type": "code",
   "execution_count": null,
   "metadata": {
    "collapsed": true
   },
   "outputs": [],
   "source": [
    "z = np.sin(np.arange(100))"
   ]
  },
  {
   "cell_type": "code",
   "execution_count": null,
   "metadata": {
    "collapsed": false
   },
   "outputs": [],
   "source": [
    "plt.plot(z)"
   ]
  },
  {
   "cell_type": "code",
   "execution_count": null,
   "metadata": {
    "collapsed": false
   },
   "outputs": [],
   "source": [
    "nolds.sampen(z)"
   ]
  },
  {
   "cell_type": "code",
   "execution_count": null,
   "metadata": {
    "collapsed": true
   },
   "outputs": [],
   "source": []
  }
 ],
 "metadata": {
  "anaconda-cloud": {},
  "kernelspec": {
   "display_name": "Python [conda env:py35_pd20]",
   "language": "python",
   "name": "conda-env-py35_pd20-py"
  },
  "language_info": {
   "codemirror_mode": {
    "name": "ipython",
    "version": 3
   },
   "file_extension": ".py",
   "mimetype": "text/x-python",
   "name": "python",
   "nbconvert_exporter": "python",
   "pygments_lexer": "ipython3",
   "version": "3.5.2"
  }
 },
 "nbformat": 4,
 "nbformat_minor": 1
}
