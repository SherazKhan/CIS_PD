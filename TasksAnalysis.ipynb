{
 "cells": [
  {
   "cell_type": "code",
   "execution_count": 1,
   "metadata": {},
   "outputs": [],
   "source": [
    "import os\n",
    "import numpy as np\n",
    "import pandas as pd\n",
    "import seaborn as sns\n",
    "import matplotlib.pyplot as plt\n",
    "import datetime as dt\n",
    "import pathlib\n",
    "import pickle #to save files\n",
    "from itertools import product\n",
    "from scipy.stats import skew, kurtosis\n",
    "from scipy.signal import butter, welch, filtfilt, resample\n",
    "import xgboost as xgb\n",
    "from xgboost.sklearn import XGBClassifier #this is the SKlearn wrapper\n",
    "from sklearn.metrics import confusion_matrix, auc, f1_score, roc_auc_score, precision_score, recall_score, precision_recall_curve\n",
    "from sklearn.model_selection import train_test_split\n",
    "from sklearn.preprocessing import LabelEncoder, StandardScaler\n",
    "from sklearn import svm\n",
    "import time\n",
    "import platform\n",
    "\n",
    "from PreprocessFcns import *\n",
    "\n",
    "from mpl_toolkits.mplot3d import Axes3D\n",
    "%matplotlib inline\n",
    "\n",
    "sns.set_context('talk',font_scale=1)\n",
    "#-- For interactive plots--\n",
    "# from mpl_toolkits.mplot3d import Axes3D\n",
    "# %matplotlib notebook"
   ]
  },
  {
   "cell_type": "code",
   "execution_count": 2,
   "metadata": {},
   "outputs": [
    {
     "name": "stderr",
     "output_type": "stream",
     "text": [
      "C:\\Users\\andre\\Anaconda3\\lib\\site-packages\\h5py\\__init__.py:36: FutureWarning: Conversion of the second argument of issubdtype from `float` to `np.floating` is deprecated. In future, it will be treated as `np.float64 == np.dtype(float).type`.\n",
      "  from ._conv import register_converters as _register_converters\n",
      "Using TensorFlow backend.\n"
     ]
    }
   ],
   "source": [
    "import keras\n",
    "from keras.models import Sequential\n",
    "from keras.layers import Conv2D, MaxPooling2D, LSTM, Dense, Dropout, Flatten, BatchNormalization\n",
    "from keras.layers.core import Permute, Reshape\n",
    "from keras import backend as K"
   ]
  },
  {
   "cell_type": "code",
   "execution_count": 3,
   "metadata": {},
   "outputs": [],
   "source": [
    "if platform.system() == 'Windows':\n",
    "    if platform.release() == '10':\n",
    "        path = r'D:\\CIS-PD Study\\Subjects' #Windows remote path\n",
    "        folder_path = r'D:\\CIS-PD Study' #generic Windows repo path\n",
    "        dict_path = 'D:\\CIS-PD Study\\Data_dict'\n",
    "        scores_path = r'D:\\CIS-PD Study\\Scores' #remote repo\n",
    "        features_path = r'D:\\CIS-PD Study\\FeatureMatrix' #remote repo\n",
    "        \n",
    "    elif platform.release() == '7':\n",
    "        path = r'X:\\CIS-PD Study\\Subjects'\n",
    "        folder_path = r'X:\\CIS-PD Study'\n",
    "#         dict_path = r'C:\\Users\\adai\\Documents\\Data_dict'\n",
    "        dict_path = r'X:\\CIS-PD Study\\Data_dict'\n",
    "        scores_path = r'X:\\CIS-PD Study\\Scores'\n",
    "        features_path = r'X:\\CIS-PD Study\\FeatureMatrix'"
   ]
  },
  {
   "cell_type": "code",
   "execution_count": 4,
   "metadata": {},
   "outputs": [],
   "source": [
    "mot_scores = pd.read_excel(os.path.join(scores_path,'Scores.xls'))"
   ]
  },
  {
   "cell_type": "code",
   "execution_count": 5,
   "metadata": {},
   "outputs": [
    {
     "data": {
      "text/html": [
       "<div>\n",
       "<style scoped>\n",
       "    .dataframe tbody tr th:only-of-type {\n",
       "        vertical-align: middle;\n",
       "    }\n",
       "\n",
       "    .dataframe tbody tr th {\n",
       "        vertical-align: top;\n",
       "    }\n",
       "\n",
       "    .dataframe thead th {\n",
       "        text-align: right;\n",
       "    }\n",
       "</style>\n",
       "<table border=\"1\" class=\"dataframe\">\n",
       "  <thead>\n",
       "    <tr style=\"text-align: right;\">\n",
       "      <th></th>\n",
       "      <th>site</th>\n",
       "      <th>subject</th>\n",
       "      <th>visit</th>\n",
       "      <th>crf#</th>\n",
       "      <th>data collected</th>\n",
       "      <th>date of assessment</th>\n",
       "      <th>what is the participant’s state</th>\n",
       "      <th>on which hand is the subject wearing the apple watch</th>\n",
       "      <th>was the device shaken 5 times up and down prior to beginning the assessment</th>\n",
       "      <th>patient’s apple watch clock time when the stop watch is turned on</th>\n",
       "      <th>...</th>\n",
       "      <th>folding towels tremor left upper limb</th>\n",
       "      <th>folding towels tremor right upper limb</th>\n",
       "      <th>was sitting assessed</th>\n",
       "      <th>sitting start time</th>\n",
       "      <th>sitting end time</th>\n",
       "      <th>sitting dyskinesia left upper limb</th>\n",
       "      <th>sitting dyskinesia right upper limb</th>\n",
       "      <th>sitting tremor left upper limb</th>\n",
       "      <th>sitting tremor upper right limb</th>\n",
       "      <th>general comments</th>\n",
       "    </tr>\n",
       "  </thead>\n",
       "  <tbody>\n",
       "    <tr>\n",
       "      <th>0</th>\n",
       "      <td>Northwestern Memorial Hospital, Chicago, IL</td>\n",
       "      <td>1004</td>\n",
       "      <td>2 Weeks: Time 0</td>\n",
       "      <td>438</td>\n",
       "      <td>Yes</td>\n",
       "      <td>2017-07-07</td>\n",
       "      <td>Off</td>\n",
       "      <td>Right</td>\n",
       "      <td>Yes</td>\n",
       "      <td>0.360185</td>\n",
       "      <td>...</td>\n",
       "      <td>1.0</td>\n",
       "      <td>1.0</td>\n",
       "      <td>Yes</td>\n",
       "      <td>0.010648</td>\n",
       "      <td>0.010995</td>\n",
       "      <td>0.0</td>\n",
       "      <td>0.0</td>\n",
       "      <td>0.0</td>\n",
       "      <td>0.0</td>\n",
       "      <td>NaN</td>\n",
       "    </tr>\n",
       "    <tr>\n",
       "      <th>1</th>\n",
       "      <td>Northwestern Memorial Hospital, Chicago, IL</td>\n",
       "      <td>1004</td>\n",
       "      <td>2 Weeks: Time 30</td>\n",
       "      <td>447</td>\n",
       "      <td>Yes</td>\n",
       "      <td>2017-07-07</td>\n",
       "      <td>Off</td>\n",
       "      <td>Right</td>\n",
       "      <td>Yes</td>\n",
       "      <td>0.390961</td>\n",
       "      <td>...</td>\n",
       "      <td>0.0</td>\n",
       "      <td>0.0</td>\n",
       "      <td>Yes</td>\n",
       "      <td>0.008252</td>\n",
       "      <td>0.008600</td>\n",
       "      <td>0.0</td>\n",
       "      <td>0.0</td>\n",
       "      <td>0.0</td>\n",
       "      <td>0.0</td>\n",
       "      <td>NaN</td>\n",
       "    </tr>\n",
       "    <tr>\n",
       "      <th>2</th>\n",
       "      <td>Northwestern Memorial Hospital, Chicago, IL</td>\n",
       "      <td>1004</td>\n",
       "      <td>2 Weeks: Time 60</td>\n",
       "      <td>449</td>\n",
       "      <td>Yes</td>\n",
       "      <td>2017-07-07</td>\n",
       "      <td>On</td>\n",
       "      <td>Right</td>\n",
       "      <td>Yes</td>\n",
       "      <td>0.419329</td>\n",
       "      <td>...</td>\n",
       "      <td>0.0</td>\n",
       "      <td>0.0</td>\n",
       "      <td>Yes</td>\n",
       "      <td>0.007060</td>\n",
       "      <td>0.007407</td>\n",
       "      <td>0.0</td>\n",
       "      <td>1.0</td>\n",
       "      <td>0.0</td>\n",
       "      <td>0.0</td>\n",
       "      <td>NaN</td>\n",
       "    </tr>\n",
       "    <tr>\n",
       "      <th>3</th>\n",
       "      <td>Northwestern Memorial Hospital, Chicago, IL</td>\n",
       "      <td>1004</td>\n",
       "      <td>2 Weeks: Time 90</td>\n",
       "      <td>452</td>\n",
       "      <td>Yes</td>\n",
       "      <td>2017-07-07</td>\n",
       "      <td>On</td>\n",
       "      <td>Right</td>\n",
       "      <td>Yes</td>\n",
       "      <td>0.441146</td>\n",
       "      <td>...</td>\n",
       "      <td>0.0</td>\n",
       "      <td>0.0</td>\n",
       "      <td>Yes</td>\n",
       "      <td>0.007384</td>\n",
       "      <td>0.007731</td>\n",
       "      <td>0.0</td>\n",
       "      <td>0.0</td>\n",
       "      <td>0.0</td>\n",
       "      <td>0.0</td>\n",
       "      <td>NaN</td>\n",
       "    </tr>\n",
       "    <tr>\n",
       "      <th>4</th>\n",
       "      <td>Northwestern Memorial Hospital, Chicago, IL</td>\n",
       "      <td>1004</td>\n",
       "      <td>2 Weeks: Time 120</td>\n",
       "      <td>454</td>\n",
       "      <td>Yes</td>\n",
       "      <td>2017-07-07</td>\n",
       "      <td>On</td>\n",
       "      <td>Right</td>\n",
       "      <td>Yes</td>\n",
       "      <td>0.459236</td>\n",
       "      <td>...</td>\n",
       "      <td>0.0</td>\n",
       "      <td>0.0</td>\n",
       "      <td>Yes</td>\n",
       "      <td>0.006435</td>\n",
       "      <td>0.006782</td>\n",
       "      <td>0.0</td>\n",
       "      <td>0.0</td>\n",
       "      <td>0.0</td>\n",
       "      <td>0.0</td>\n",
       "      <td>NaN</td>\n",
       "    </tr>\n",
       "  </tbody>\n",
       "</table>\n",
       "<p>5 rows × 152 columns</p>\n",
       "</div>"
      ],
      "text/plain": [
       "                                          site  subject              visit  \\\n",
       "0  Northwestern Memorial Hospital, Chicago, IL     1004    2 Weeks: Time 0   \n",
       "1  Northwestern Memorial Hospital, Chicago, IL     1004   2 Weeks: Time 30   \n",
       "2  Northwestern Memorial Hospital, Chicago, IL     1004   2 Weeks: Time 60   \n",
       "3  Northwestern Memorial Hospital, Chicago, IL     1004   2 Weeks: Time 90   \n",
       "4  Northwestern Memorial Hospital, Chicago, IL     1004  2 Weeks: Time 120   \n",
       "\n",
       "   crf# data collected date of assessment what is the participant’s state  \\\n",
       "0   438            Yes         2017-07-07                             Off   \n",
       "1   447            Yes         2017-07-07                             Off   \n",
       "2   449            Yes         2017-07-07                              On   \n",
       "3   452            Yes         2017-07-07                              On   \n",
       "4   454            Yes         2017-07-07                              On   \n",
       "\n",
       "  on which hand is the subject wearing the apple watch  \\\n",
       "0                                              Right     \n",
       "1                                              Right     \n",
       "2                                              Right     \n",
       "3                                              Right     \n",
       "4                                              Right     \n",
       "\n",
       "  was the device shaken 5 times up and down prior to beginning the assessment  \\\n",
       "0                                                Yes                            \n",
       "1                                                Yes                            \n",
       "2                                                Yes                            \n",
       "3                                                Yes                            \n",
       "4                                                Yes                            \n",
       "\n",
       "   patient’s apple watch clock time when the stop watch is turned on  \\\n",
       "0                                           0.360185                   \n",
       "1                                           0.390961                   \n",
       "2                                           0.419329                   \n",
       "3                                           0.441146                   \n",
       "4                                           0.459236                   \n",
       "\n",
       "         ...         folding towels tremor left upper limb  \\\n",
       "0        ...                                           1.0   \n",
       "1        ...                                           0.0   \n",
       "2        ...                                           0.0   \n",
       "3        ...                                           0.0   \n",
       "4        ...                                           0.0   \n",
       "\n",
       "   folding towels tremor right upper limb was sitting assessed  \\\n",
       "0                                     1.0                  Yes   \n",
       "1                                     0.0                  Yes   \n",
       "2                                     0.0                  Yes   \n",
       "3                                     0.0                  Yes   \n",
       "4                                     0.0                  Yes   \n",
       "\n",
       "   sitting start time  sitting end time  sitting dyskinesia left upper limb  \\\n",
       "0            0.010648          0.010995                                 0.0   \n",
       "1            0.008252          0.008600                                 0.0   \n",
       "2            0.007060          0.007407                                 0.0   \n",
       "3            0.007384          0.007731                                 0.0   \n",
       "4            0.006435          0.006782                                 0.0   \n",
       "\n",
       "   sitting dyskinesia right upper limb  sitting tremor left upper limb  \\\n",
       "0                                  0.0                             0.0   \n",
       "1                                  0.0                             0.0   \n",
       "2                                  1.0                             0.0   \n",
       "3                                  0.0                             0.0   \n",
       "4                                  0.0                             0.0   \n",
       "\n",
       "   sitting tremor upper right limb  general comments  \n",
       "0                              0.0               NaN  \n",
       "1                              0.0               NaN  \n",
       "2                              0.0               NaN  \n",
       "3                              0.0               NaN  \n",
       "4                              0.0               NaN  \n",
       "\n",
       "[5 rows x 152 columns]"
      ]
     },
     "execution_count": 5,
     "metadata": {},
     "output_type": "execute_result"
    }
   ],
   "source": [
    "mot_scores.head()"
   ]
  },
  {
   "cell_type": "code",
   "execution_count": 6,
   "metadata": {},
   "outputs": [],
   "source": [
    "task_scores = ['walking','walking while counting','finger to nose','alternating','sit to stand',\n",
    "               'drawing on a paper','typing on a computer keyboard','assembling nuts and bolts',\n",
    "               'taking a glass of water and drinking','organizing sheets in a folder','folding towels',\n",
    "               'standing','sitting']"
   ]
  },
  {
   "cell_type": "code",
   "execution_count": 7,
   "metadata": {},
   "outputs": [
    {
     "name": "stdout",
     "output_type": "stream",
     "text": [
      "full: ['1004', '1016', '1018', '1019', '1020', '1024', '1029', '1030', '1032', '1038', '1044', '1046', '1047', '1049', '1051', '1052', '1053', '1054', '1055', '1056']\n",
      "\n",
      "fluctuators: ['1038', '1047', '1052', '1053', '1054', '1055', '1056']\n",
      "\n",
      "non fluctuators: ['1004', '1016', '1018', '1019', '1020', '1024', '1029', '1030', '1032', '1044', '1046', '1049', '1051']\n",
      "\n"
     ]
    }
   ],
   "source": [
    "d = os.listdir(dict_path)\n",
    "fnames = [filename[:4] for filename in d if filename.startswith('1')]\n",
    "\n",
    "fluc = ['1038','1047','1052','1053','1054','1055','1056']\n",
    "\n",
    "nonfluc = [names for names in fnames if names not in fluc]\n",
    "\n",
    "full = fnames\n",
    "print('full: %s\\n'%full)\n",
    "print('fluctuators: %s\\n'%fluc)\n",
    "print('non fluctuators: %s\\n'%nonfluc)"
   ]
  },
  {
   "cell_type": "code",
   "execution_count": 8,
   "metadata": {},
   "outputs": [],
   "source": [
    "def aggregate_scores(task_scores):\n",
    "    scores = pd.DataFrame()\n",
    "\n",
    "    fnames = full;\n",
    "#     fnames = fluc;\n",
    "#     fnames = nonfluc;\n",
    "    \n",
    "\n",
    "    for subjnames in fnames:\n",
    "        for task in task_scores:\n",
    "            for side in ['right','left']:\n",
    "                ts = task;\n",
    "                subj = int(subjnames);\n",
    "\n",
    "                if (task.find('alternating') > -1) | (task.find('finger to nose') > -1):\n",
    "                    task=ts+ ' ' + side\n",
    "\n",
    "                subj_score = mot_scores.loc[mot_scores['subject']==subj,['subject','visit',\n",
    "                                            task+ ' ' + 'bradykinesia ' + side + ' upper limb',\n",
    "                                            task+ ' ' + 'tremor ' + side + ' upper limb']]\n",
    "\n",
    "                subj_score = subj_score.rename(index=str,\n",
    "                                               columns={subj_score.columns[2]:'Bradykinesia',subj_score.columns[3]:'Tremor'})\n",
    "\n",
    "                scores = pd.concat([scores,subj_score])\n",
    "\n",
    "    return scores"
   ]
  },
  {
   "cell_type": "code",
   "execution_count": 9,
   "metadata": {},
   "outputs": [
    {
     "name": "stderr",
     "output_type": "stream",
     "text": [
      "C:\\Users\\andre\\Anaconda3\\lib\\site-packages\\ipykernel_launcher.py:20: FutureWarning: \n",
      "Passing list-likes to .loc or [] with any missing label will raise\n",
      "KeyError in the future, you can use .reindex() as an alternative.\n",
      "\n",
      "See the documentation here:\n",
      "http://pandas.pydata.org/pandas-docs/stable/indexing.html#deprecate-loc-reindex-listlike\n",
      "C:\\Users\\andre\\Anaconda3\\lib\\site-packages\\pandas\\core\\indexing.py:1367: FutureWarning: \n",
      "Passing list-likes to .loc or [] with any missing label will raise\n",
      "KeyError in the future, you can use .reindex() as an alternative.\n",
      "\n",
      "See the documentation here:\n",
      "http://pandas.pydata.org/pandas-docs/stable/indexing.html#deprecate-loc-reindex-listlike\n",
      "  return self._getitem_tuple(key)\n"
     ]
    },
    {
     "data": {
      "text/html": [
       "<div>\n",
       "<style scoped>\n",
       "    .dataframe tbody tr th:only-of-type {\n",
       "        vertical-align: middle;\n",
       "    }\n",
       "\n",
       "    .dataframe tbody tr th {\n",
       "        vertical-align: top;\n",
       "    }\n",
       "\n",
       "    .dataframe thead th {\n",
       "        text-align: right;\n",
       "    }\n",
       "</style>\n",
       "<table border=\"1\" class=\"dataframe\">\n",
       "  <thead>\n",
       "    <tr style=\"text-align: right;\">\n",
       "      <th></th>\n",
       "      <th>subject</th>\n",
       "      <th>visit</th>\n",
       "      <th>Bradykinesia</th>\n",
       "      <th>Tremor</th>\n",
       "    </tr>\n",
       "  </thead>\n",
       "  <tbody>\n",
       "    <tr>\n",
       "      <th>0</th>\n",
       "      <td>1004</td>\n",
       "      <td>2 Weeks: Time 0</td>\n",
       "      <td>0.0</td>\n",
       "      <td>0.0</td>\n",
       "    </tr>\n",
       "    <tr>\n",
       "      <th>1</th>\n",
       "      <td>1004</td>\n",
       "      <td>2 Weeks: Time 30</td>\n",
       "      <td>1.0</td>\n",
       "      <td>0.0</td>\n",
       "    </tr>\n",
       "    <tr>\n",
       "      <th>2</th>\n",
       "      <td>1004</td>\n",
       "      <td>2 Weeks: Time 60</td>\n",
       "      <td>0.0</td>\n",
       "      <td>0.0</td>\n",
       "    </tr>\n",
       "    <tr>\n",
       "      <th>3</th>\n",
       "      <td>1004</td>\n",
       "      <td>2 Weeks: Time 90</td>\n",
       "      <td>0.0</td>\n",
       "      <td>0.0</td>\n",
       "    </tr>\n",
       "    <tr>\n",
       "      <th>4</th>\n",
       "      <td>1004</td>\n",
       "      <td>2 Weeks: Time 120</td>\n",
       "      <td>1.0</td>\n",
       "      <td>0.0</td>\n",
       "    </tr>\n",
       "  </tbody>\n",
       "</table>\n",
       "</div>"
      ],
      "text/plain": [
       "   subject              visit  Bradykinesia  Tremor\n",
       "0     1004    2 Weeks: Time 0           0.0     0.0\n",
       "1     1004   2 Weeks: Time 30           1.0     0.0\n",
       "2     1004   2 Weeks: Time 60           0.0     0.0\n",
       "3     1004   2 Weeks: Time 90           0.0     0.0\n",
       "4     1004  2 Weeks: Time 120           1.0     0.0"
      ]
     },
     "execution_count": 9,
     "metadata": {},
     "output_type": "execute_result"
    }
   ],
   "source": [
    "scores = aggregate_scores(task_scores)\n",
    "scores.head()"
   ]
  },
  {
   "cell_type": "code",
   "execution_count": 46,
   "metadata": {},
   "outputs": [
    {
     "name": "stdout",
     "output_type": "stream",
     "text": [
      "Subject: 1004\n",
      "# Positive Tremor instances: 11\n",
      "# Negative Tremor instances: 150\n",
      "\n",
      "Subject: 1016\n",
      "# Positive Tremor instances: 64\n",
      "# Negative Tremor instances: 95\n",
      "\n",
      "Subject: 1018\n",
      "# Positive Tremor instances: 7\n",
      "# Negative Tremor instances: 154\n",
      "\n",
      "Subject: 1019\n",
      "# Positive Tremor instances: 3\n",
      "# Negative Tremor instances: 158\n",
      "\n",
      "Subject: 1020\n",
      "# Positive Tremor instances: 5\n",
      "# Negative Tremor instances: 18\n",
      "\n",
      "Subject: 1024\n",
      "# Positive Tremor instances: 29\n",
      "# Negative Tremor instances: 128\n",
      "\n",
      "Subject: 1029\n",
      "# Positive Tremor instances: 57\n",
      "# Negative Tremor instances: 104\n",
      "\n",
      "Subject: 1030\n",
      "# Positive Tremor instances: 5\n",
      "# Negative Tremor instances: 156\n",
      "\n",
      "Subject: 1032\n",
      "# Positive Tremor instances: 5\n",
      "# Negative Tremor instances: 156\n",
      "\n",
      "Subject: 1038\n",
      "# Positive Tremor instances: 84\n",
      "# Negative Tremor instances: 77\n",
      "\n",
      "Subject: 1044\n",
      "# Positive Tremor instances: 0\n",
      "# Negative Tremor instances: 161\n",
      "\n",
      "Subject: 1046\n",
      "# Positive Tremor instances: 28\n",
      "# Negative Tremor instances: 133\n",
      "\n",
      "Subject: 1047\n",
      "# Positive Tremor instances: 2\n",
      "# Negative Tremor instances: 136\n",
      "\n",
      "Subject: 1049\n",
      "# Positive Tremor instances: 61\n",
      "# Negative Tremor instances: 100\n",
      "\n",
      "Subject: 1051\n",
      "# Positive Tremor instances: 0\n",
      "# Negative Tremor instances: 161\n",
      "\n",
      "Subject: 1052\n",
      "# Positive Tremor instances: 8\n",
      "# Negative Tremor instances: 128\n",
      "\n",
      "Subject: 1053\n",
      "# Positive Tremor instances: 0\n",
      "# Negative Tremor instances: 138\n",
      "\n",
      "Subject: 1054\n",
      "# Positive Tremor instances: 1\n",
      "# Negative Tremor instances: 136\n",
      "\n",
      "Subject: 1055\n",
      "# Positive Tremor instances: 109\n",
      "# Negative Tremor instances: 29\n",
      "\n",
      "Subject: 1056\n",
      "# Positive Tremor instances: 101\n",
      "# Negative Tremor instances: 37\n",
      "\n"
     ]
    }
   ],
   "source": [
    "subList = scores['subject'].unique()\n",
    "\n",
    "for subs in subList:\n",
    "    df = scores.loc[scores['subject'] == subs]['Tremor']\n",
    "    df = df[~np.isnan(df)]\n",
    "    pos = np.size(df[df!=0])\n",
    "    neg = np.size(df[df==0])\n",
    "    print('Subject: %d'%subs)\n",
    "    print('# Positive Tremor instances: %d'%pos)\n",
    "    print('# Negative Tremor instances: %d\\n'%neg)"
   ]
  },
  {
   "cell_type": "code",
   "execution_count": 22,
   "metadata": {},
   "outputs": [],
   "source": [
    "structured = ['finger to nose','alternating']\n",
    "functional = ['walking','walking while counting','sit to stand','standing','sitting']\n",
    "finemot = ['drawing on a paper','typing on a computer keyboard','assembling nuts and bolts']\n",
    "grosmot = ['taking a glass of water and drinking','organizing sheets in a folder','folding towels']"
   ]
  },
  {
   "cell_type": "code",
   "execution_count": 23,
   "metadata": {
    "scrolled": true
   },
   "outputs": [
    {
     "name": "stderr",
     "output_type": "stream",
     "text": [
      "C:\\Users\\andre\\Anaconda3\\lib\\site-packages\\ipykernel_launcher.py:20: FutureWarning: \n",
      "Passing list-likes to .loc or [] with any missing label will raise\n",
      "KeyError in the future, you can use .reindex() as an alternative.\n",
      "\n",
      "See the documentation here:\n",
      "http://pandas.pydata.org/pandas-docs/stable/indexing.html#deprecate-loc-reindex-listlike\n",
      "C:\\Users\\andre\\Anaconda3\\lib\\site-packages\\pandas\\core\\indexing.py:1367: FutureWarning: \n",
      "Passing list-likes to .loc or [] with any missing label will raise\n",
      "KeyError in the future, you can use .reindex() as an alternative.\n",
      "\n",
      "See the documentation here:\n",
      "http://pandas.pydata.org/pandas-docs/stable/indexing.html#deprecate-loc-reindex-listlike\n",
      "  return self._getitem_tuple(key)\n"
     ]
    }
   ],
   "source": [
    "structured_scores = aggregate_scores(structured)\n",
    "functional_scores = aggregate_scores(functional)\n",
    "finemot_scores = aggregate_scores(finemot)\n",
    "grosmot_scores = aggregate_scores(grosmot)"
   ]
  },
  {
   "cell_type": "code",
   "execution_count": 24,
   "metadata": {},
   "outputs": [
    {
     "data": {
      "text/plain": [
       "135"
      ]
     },
     "execution_count": 24,
     "metadata": {},
     "output_type": "execute_result"
    }
   ],
   "source": [
    "np.size(structured_scores.Bradykinesia[structured_scores.Bradykinesia > 0])"
   ]
  },
  {
   "cell_type": "markdown",
   "metadata": {},
   "source": [
    "## Bradykinesia Instances"
   ]
  },
  {
   "cell_type": "code",
   "execution_count": 55,
   "metadata": {},
   "outputs": [
    {
     "name": "stdout",
     "output_type": "stream",
     "text": [
      "bradykinesia structured: 135\n",
      "no bradykinesia structured: 121\n",
      "bradykinesia functional: 242\n",
      "no bradykinesia functional: 266\n",
      "bradykinesia fine motor: 384\n",
      "no bradykinesia fine motor: 384\n",
      "bradykinesia gross motor: 320\n",
      "no bradykinesia gross motor: 448\n",
      "\n",
      "\n",
      "Structured Tasks: ['finger to nose', 'alternating']\n",
      "Functional Tasks: ['walking', 'walking while counting', 'sit to stand', 'standing', 'sitting']\n",
      "Fine Motor Tasks: ['drawing on a paper', 'typing on a computer keyboard', 'assembling nuts and bolts']\n",
      "Gross Motor Tasks: ['taking a glass of water and drinking', 'organizing sheets in a folder', 'folding towels']\n"
     ]
    },
    {
     "data": {
      "image/png": "[encoded data removed]",
      "text/plain": [
       "<matplotlib.figure.Figure at 0x1fce2f23278>"
      ]
     },
     "metadata": {},
     "output_type": "display_data"
    }
   ],
   "source": [
    "struc_brady = len(structured_scores.Bradykinesia[structured_scores.Bradykinesia > 0])\n",
    "print('bradykinesia structured: %d'%struc_brady)\n",
    "struc_nobrady = len(structured_scores.Bradykinesia[structured_scores.Bradykinesia == 0])\n",
    "print('no bradykinesia structured: %d'%struc_nobrady)\n",
    "\n",
    "func_brady = len(functional_scores.Bradykinesia[functional_scores.Bradykinesia > 0])\n",
    "print('bradykinesia functional: %d'%func_brady)\n",
    "func_nobrady = len(functional_scores.Bradykinesia[functional_scores.Bradykinesia == 0])\n",
    "print('no bradykinesia functional: %d'%func_nobrady)\n",
    "\n",
    "finemot_brady = len(finemot_scores.Bradykinesia[finemot_scores.Bradykinesia > 0])\n",
    "print('bradykinesia fine motor: %d'%finemot_brady)\n",
    "finemot_nobrady = len(finemot_scores.Bradykinesia[finemot_scores.Bradykinesia == 0])\n",
    "print('no bradykinesia fine motor: %d'%finemot_nobrady)\n",
    "\n",
    "grosmot_brady = len(grosmot_scores.Bradykinesia[grosmot_scores.Bradykinesia > 0])\n",
    "print('bradykinesia gross motor: %d'%grosmot_brady)\n",
    "grosmot_nobrady = len(grosmot_scores.Bradykinesia[grosmot_scores.Bradykinesia == 0])\n",
    "print('no bradykinesia gross motor: %d'%grosmot_nobrady)\n",
    "\n",
    "print('\\n')\n",
    "\n",
    "print('Structured Tasks: %s'%structured)\n",
    "print('Functional Tasks: %s'%functional)\n",
    "print('Fine Motor Tasks: %s'%finemot)\n",
    "print('Gross Motor Tasks: %s'%grosmot)\n",
    "\n",
    "symptom = pd.DataFrame(data=[struc_brady, func_brady, finemot_brady, grosmot_brady], index=['structured','functional','finemotor','grossmotor'],columns=['bradykinesia']);\n",
    "symptom = pd.concat([symptom, pd.DataFrame(data=[struc_nobrady, func_nobrady, finemot_nobrady, grosmot_nobrady], index=['structured','functional','finemotor','grossmotor'],\n",
    "                                          columns=['no bradykinesia'])],axis=1);\n",
    "\n",
    "ind = np.arange(2); width = 0.35;\n",
    "\n",
    "ax = symptom.plot.bar(stacked=True,figsize=(8,6))\n",
    "rect = ax.patches\n",
    "\n",
    "label = 100*np.around([(struc_brady / (struc_brady + struc_nobrady)),\n",
    "                  (func_brady / (func_brady + func_nobrady)),\n",
    "                  (finemot_brady / (finemot_brady + finemot_nobrady)),\n",
    "                  (grosmot_brady / (grosmot_brady + grosmot_nobrady))],\n",
    "                  decimals=4)\n",
    "\n",
    "\n",
    "for rect, label in zip(rect,label):\n",
    "    label = str(label) + '% symptoms'\n",
    "    height = rect.get_height()\n",
    "    ax.text(rect.get_x() + rect.get_width() / 2, height, label,\n",
    "            ha='center', va='bottom')\n",
    "    \n",
    "plt.title('Bradykinesia comparison')\n",
    "plt.ylabel('Instances')\n",
    "plt.savefig('Bradykinesia score comparison.png',bbox_inches='tight')\n",
    "plt.show()"
   ]
  },
  {
   "cell_type": "markdown",
   "metadata": {},
   "source": [
    "## Tremor Instances"
   ]
  },
  {
   "cell_type": "code",
   "execution_count": 54,
   "metadata": {},
   "outputs": [
    {
     "name": "stdout",
     "output_type": "stream",
     "text": [
      "tremor structured: 73\n",
      "no tremor structured: 183\n",
      "tremor functional: 139\n",
      "no tremor functional: 1006\n",
      "tremor fine motor: 165\n",
      "no tremor fine motor: 601\n",
      "tremor gross motor: 203\n",
      "no tremor gross motor: 565\n",
      "\n",
      "\n",
      "Structured Tasks: ['finger to nose', 'alternating']\n",
      "Functional Tasks: ['walking', 'walking while counting', 'sit to stand', 'standing', 'sitting']\n",
      "Fine Motor Tasks: ['drawing on a paper', 'typing on a computer keyboard', 'assembling nuts and bolts']\n",
      "Gross Motor Tasks: ['taking a glass of water and drinking', 'organizing sheets in a folder', 'folding towels']\n"
     ]
    },
    {
     "data": {
      "image/png": "[encoded data removed]",
      "text/plain": [
       "<matplotlib.figure.Figure at 0x1fce2fa4dd8>"
      ]
     },
     "metadata": {},
     "output_type": "display_data"
    }
   ],
   "source": [
    "struc_tremor = len(structured_scores.Tremor[structured_scores.Tremor > 0])\n",
    "print('tremor structured: %d'%struc_tremor)\n",
    "struc_notremor = len(structured_scores.Tremor[structured_scores.Tremor == 0])\n",
    "print('no tremor structured: %d'%struc_notremor)\n",
    "\n",
    "func_tremor = len(functional_scores.Tremor[functional_scores.Tremor > 0])\n",
    "print('tremor functional: %d'%func_tremor)\n",
    "func_notremor = len(functional_scores.Tremor[functional_scores.Tremor == 0])\n",
    "print('no tremor functional: %d'%func_notremor)\n",
    "\n",
    "finemot_tremor = len(finemot_scores.Tremor[finemot_scores.Tremor > 0])\n",
    "print('tremor fine motor: %d'%finemot_tremor)\n",
    "finemot_notremor = len(finemot_scores.Tremor[finemot_scores.Tremor == 0])\n",
    "print('no tremor fine motor: %d'%finemot_notremor)\n",
    "\n",
    "grosmot_tremor = len(grosmot_scores.Tremor[grosmot_scores.Tremor > 0])\n",
    "print('tremor gross motor: %d'%grosmot_tremor)\n",
    "grosmot_notremor = len(grosmot_scores.Tremor[grosmot_scores.Tremor == 0])\n",
    "print('no tremor gross motor: %d'%grosmot_notremor)\n",
    "\n",
    "print('\\n')\n",
    "\n",
    "print('Structured Tasks: %s'%structured)\n",
    "print('Functional Tasks: %s'%functional)\n",
    "print('Fine Motor Tasks: %s'%finemot)\n",
    "print('Gross Motor Tasks: %s'%grosmot)\n",
    "\n",
    "symptom = pd.DataFrame(data=[struc_tremor, func_tremor, finemot_tremor, grosmot_tremor], index=['structured','functional','finemotor','grossmotor'],columns=['tremor']);\n",
    "symptom = pd.concat([symptom, pd.DataFrame(data=[struc_notremor, func_notremor, finemot_notremor, grosmot_notremor], index=['structured','functional','finemotor','grossmotor'],\n",
    "                                          columns=['no tremor'])],axis=1);\n",
    "\n",
    "ind = np.arange(2); width = 0.35;\n",
    "\n",
    "ax = symptom.plot.bar(stacked=True,figsize=(8,6))\n",
    "rect = ax.patches\n",
    "\n",
    "label = 100*np.around([(struc_tremor / (struc_tremor + struc_notremor))+0.01,\n",
    "                  (func_tremor / (func_tremor + func_notremor)),\n",
    "                  (finemot_tremor / (finemot_tremor + finemot_notremor)),\n",
    "                  (grosmot_tremor / (grosmot_tremor + grosmot_notremor))],\n",
    "                  decimals=2)\n",
    "\n",
    "\n",
    "for rect, label in zip(rect,label):\n",
    "    label = str(label) + '% symptoms'\n",
    "    height = rect.get_height()\n",
    "    ax.text(rect.get_x() + rect.get_width() / 2, height, label,\n",
    "            ha='center', va='bottom')\n",
    "    \n",
    "plt.title('Tremor comparison')\n",
    "plt.ylabel('Instances')\n",
    "plt.savefig('Tremor score comparison.png',bbox_inches='tight')\n",
    "plt.show()"
   ]
  },
  {
   "cell_type": "markdown",
   "metadata": {},
   "source": [
    "## Try different activities for tremor"
   ]
  },
  {
   "cell_type": "code",
   "execution_count": 201,
   "metadata": {},
   "outputs": [
    {
     "name": "stderr",
     "output_type": "stream",
     "text": [
      "C:\\Users\\andre\\Anaconda3\\lib\\site-packages\\ipykernel_launcher.py:20: FutureWarning: \n",
      "Passing list-likes to .loc or [] with any missing label will raise\n",
      "KeyError in the future, you can use .reindex() as an alternative.\n",
      "\n",
      "See the documentation here:\n",
      "http://pandas.pydata.org/pandas-docs/stable/indexing.html#deprecate-loc-reindex-listlike\n",
      "C:\\Users\\andre\\Anaconda3\\lib\\site-packages\\pandas\\core\\indexing.py:1367: FutureWarning: \n",
      "Passing list-likes to .loc or [] with any missing label will raise\n",
      "KeyError in the future, you can use .reindex() as an alternative.\n",
      "\n",
      "See the documentation here:\n",
      "http://pandas.pydata.org/pandas-docs/stable/indexing.html#deprecate-loc-reindex-listlike\n",
      "  return self._getitem_tuple(key)\n"
     ]
    }
   ],
   "source": [
    "structured = ['finger to nose','alternating']\n",
    "functional = ['walking','walking while counting','sit to stand','standing','sitting',\n",
    "              'drawing on a paper','typing on a computer keyboard','assembling nuts and bolts',\n",
    "              'taking a glass of water and drinking','organizing sheets in a folder','folding towels']\n",
    "\n",
    "structured_scores = aggregate_scores(structured)\n",
    "functional_scores = aggregate_scores(functional)"
   ]
  },
  {
   "cell_type": "code",
   "execution_count": 202,
   "metadata": {},
   "outputs": [
    {
     "name": "stdout",
     "output_type": "stream",
     "text": [
      "tremor structured: 138\n",
      "no tremor structured: 118\n",
      "tremor functional: 274\n",
      "no tremor functional: 1131\n",
      "\n",
      "\n",
      "Structured Tasks: ['finger to nose', 'alternating']\n",
      "Functional Tasks: ['walking', 'walking while counting', 'sit to stand', 'standing', 'sitting', 'drawing on a paper', 'typing on a computer keyboard', 'assembling nuts and bolts', 'taking a glass of water and drinking', 'organizing sheets in a folder', 'folding towels']\n"
     ]
    },
    {
     "data": {
      "image/png": "[encoded data removed]",
      "text/plain": [
       "<matplotlib.figure.Figure at 0x1e81bcc07f0>"
      ]
     },
     "metadata": {},
     "output_type": "display_data"
    }
   ],
   "source": [
    "struc_tremor = len(structured_scores.Tremor[structured_scores.Tremor > 0])\n",
    "print('tremor structured: %d'%struc_tremor)\n",
    "struc_notremor = len(structured_scores.Tremor[structured_scores.Tremor == 0])\n",
    "print('no tremor structured: %d'%struc_notremor)\n",
    "\n",
    "func_tremor = len(functional_scores.Tremor[functional_scores.Tremor > 0])\n",
    "print('tremor functional: %d'%func_tremor)\n",
    "func_notremor = len(functional_scores.Tremor[functional_scores.Tremor == 0])\n",
    "print('no tremor functional: %d'%func_notremor)\n",
    "\n",
    "print('\\n')\n",
    "\n",
    "print('Structured Tasks: %s'%structured)\n",
    "print('Functional Tasks: %s'%functional)\n",
    "\n",
    "symptom = pd.DataFrame(data=[struc_tremor, func_tremor], index=['structured','functional'],columns=['tremor']);\n",
    "symptom = pd.concat([symptom, pd.DataFrame(data=[struc_notremor, func_notremor], index=['structured','functional'],\n",
    "                                          columns=['no tremor'])],axis=1);\n",
    "\n",
    "ind = np.arange(2); width = 0.35;\n",
    "\n",
    "ax = symptom.plot.bar(stacked=True,figsize=(8,6))\n",
    "rect = ax.patches\n",
    "\n",
    "label = np.around([(struc_tremor / (struc_tremor + struc_notremor)),\n",
    "                  (func_tremor / (func_tremor + func_notremor))],\n",
    "                  decimals=2)\n",
    "\n",
    "\n",
    "for rect, label in zip(rect,label):\n",
    "    label = str(label) + ' symptoms'\n",
    "    height = rect.get_height()\n",
    "    ax.text(rect.get_x() + rect.get_width() / 2, height, label,\n",
    "            ha='center', va='bottom')\n",
    "    \n",
    "plt.title('Tremor comparison - all upper body motor tasks')\n",
    "plt.ylabel('Instances')\n",
    "\n",
    "plt.show()"
   ]
  },
  {
   "cell_type": "code",
   "execution_count": 203,
   "metadata": {},
   "outputs": [
    {
     "name": "stderr",
     "output_type": "stream",
     "text": [
      "C:\\Users\\andre\\Anaconda3\\lib\\site-packages\\ipykernel_launcher.py:20: FutureWarning: \n",
      "Passing list-likes to .loc or [] with any missing label will raise\n",
      "KeyError in the future, you can use .reindex() as an alternative.\n",
      "\n",
      "See the documentation here:\n",
      "http://pandas.pydata.org/pandas-docs/stable/indexing.html#deprecate-loc-reindex-listlike\n",
      "C:\\Users\\andre\\Anaconda3\\lib\\site-packages\\pandas\\core\\indexing.py:1367: FutureWarning: \n",
      "Passing list-likes to .loc or [] with any missing label will raise\n",
      "KeyError in the future, you can use .reindex() as an alternative.\n",
      "\n",
      "See the documentation here:\n",
      "http://pandas.pydata.org/pandas-docs/stable/indexing.html#deprecate-loc-reindex-listlike\n",
      "  return self._getitem_tuple(key)\n"
     ]
    }
   ],
   "source": [
    "structured = ['finger to nose','alternating']\n",
    "functional = ['sit to stand','standing','sitting',\n",
    "              'drawing on a paper','typing on a computer keyboard','assembling nuts and bolts',\n",
    "              'taking a glass of water and drinking','organizing sheets in a folder','folding towels']\n",
    "\n",
    "structured_scores = aggregate_scores(structured)\n",
    "functional_scores = aggregate_scores(functional)"
   ]
  },
  {
   "cell_type": "code",
   "execution_count": 204,
   "metadata": {},
   "outputs": [
    {
     "name": "stdout",
     "output_type": "stream",
     "text": [
      "tremor structured: 138\n",
      "no tremor structured: 118\n",
      "tremor functional: 250\n",
      "no tremor functional: 901\n",
      "\n",
      "\n",
      "Structured Tasks: ['finger to nose', 'alternating']\n",
      "Functional Tasks: ['sit to stand', 'standing', 'sitting', 'drawing on a paper', 'typing on a computer keyboard', 'assembling nuts and bolts', 'taking a glass of water and drinking', 'organizing sheets in a folder', 'folding towels']\n"
     ]
    },
    {
     "data": {
      "image/png": "[encoded data removed]",
      "text/plain": [
       "<matplotlib.figure.Figure at 0x1e81bd2ee80>"
      ]
     },
     "metadata": {},
     "output_type": "display_data"
    }
   ],
   "source": [
    "struc_tremor = len(structured_scores.Tremor[structured_scores.Tremor > 0])\n",
    "print('tremor structured: %d'%struc_tremor)\n",
    "struc_notremor = len(structured_scores.Tremor[structured_scores.Tremor == 0])\n",
    "print('no tremor structured: %d'%struc_notremor)\n",
    "\n",
    "func_tremor = len(functional_scores.Tremor[functional_scores.Tremor > 0])\n",
    "print('tremor functional: %d'%func_tremor)\n",
    "func_notremor = len(functional_scores.Tremor[functional_scores.Tremor == 0])\n",
    "print('no tremor functional: %d'%func_notremor)\n",
    "\n",
    "print('\\n')\n",
    "\n",
    "print('Structured Tasks: %s'%structured)\n",
    "print('Functional Tasks: %s'%functional)\n",
    "\n",
    "symptom = pd.DataFrame(data=[struc_tremor, func_tremor], index=['structured','functional'],columns=['tremor']);\n",
    "symptom = pd.concat([symptom, pd.DataFrame(data=[struc_notremor, func_notremor], index=['structured','functional'],\n",
    "                                          columns=['no tremor'])],axis=1);\n",
    "\n",
    "ind = np.arange(2); width = 0.35;\n",
    "\n",
    "ax = symptom.plot.bar(stacked=True,figsize=(8,6))\n",
    "rect = ax.patches\n",
    "\n",
    "label = np.around([(struc_tremor / (struc_tremor + struc_notremor)),\n",
    "                  (func_tremor / (func_tremor + func_notremor))],\n",
    "                  decimals=2)\n",
    "\n",
    "\n",
    "for rect, label in zip(rect,label):\n",
    "    label = str(label) + ' symptoms'\n",
    "    height = rect.get_height()\n",
    "    ax.text(rect.get_x() + rect.get_width() / 2, height, label,\n",
    "            ha='center', va='bottom')\n",
    "    \n",
    "plt.title('Tremor comparison - no walking')\n",
    "plt.ylabel('Instances')\n",
    "\n",
    "plt.show()"
   ]
  },
  {
   "cell_type": "code",
   "execution_count": 205,
   "metadata": {},
   "outputs": [],
   "source": [
    "structured = ['finger to nose','alternating']\n",
    "functional = ['drawing on a paper','typing on a computer keyboard','assembling nuts and bolts',\n",
    "              'taking a glass of water and drinking','organizing sheets in a folder','folding towels']\n",
    "\n",
    "structured_scores = aggregate_scores(structured)\n",
    "functional_scores = aggregate_scores(functional)"
   ]
  },
  {
   "cell_type": "code",
   "execution_count": 206,
   "metadata": {},
   "outputs": [
    {
     "name": "stdout",
     "output_type": "stream",
     "text": [
      "tremor structured: 138\n",
      "no tremor structured: 118\n",
      "tremor functional: 207\n",
      "no tremor functional: 560\n",
      "\n",
      "\n",
      "Structured Tasks: ['finger to nose', 'alternating']\n",
      "Functional Tasks: ['drawing on a paper', 'typing on a computer keyboard', 'assembling nuts and bolts', 'taking a glass of water and drinking', 'organizing sheets in a folder', 'folding towels']\n"
     ]
    },
    {
     "data": {
      "image/png": "[encoded data removed]",
      "text/plain": [
       "<matplotlib.figure.Figure at 0x1e81baa5d30>"
      ]
     },
     "metadata": {},
     "output_type": "display_data"
    }
   ],
   "source": [
    "struc_tremor = len(structured_scores.Tremor[structured_scores.Tremor > 0])\n",
    "print('tremor structured: %d'%struc_tremor)\n",
    "struc_notremor = len(structured_scores.Tremor[structured_scores.Tremor == 0])\n",
    "print('no tremor structured: %d'%struc_notremor)\n",
    "\n",
    "func_tremor = len(functional_scores.Tremor[functional_scores.Tremor > 0])\n",
    "print('tremor functional: %d'%func_tremor)\n",
    "func_notremor = len(functional_scores.Tremor[functional_scores.Tremor == 0])\n",
    "print('no tremor functional: %d'%func_notremor)\n",
    "\n",
    "print('\\n')\n",
    "\n",
    "print('Structured Tasks: %s'%structured)\n",
    "print('Functional Tasks: %s'%functional)\n",
    "\n",
    "symptom = pd.DataFrame(data=[struc_tremor, func_tremor], index=['structured','functional'],columns=['tremor']);\n",
    "symptom = pd.concat([symptom, pd.DataFrame(data=[struc_notremor, func_notremor], index=['structured','functional'],\n",
    "                                          columns=['no tremor'])],axis=1);\n",
    "\n",
    "ind = np.arange(2); width = 0.35;\n",
    "\n",
    "ax = symptom.plot.bar(stacked=True,figsize=(8,6))\n",
    "rect = ax.patches\n",
    "\n",
    "label = np.around([(struc_tremor / (struc_tremor + struc_notremor)),\n",
    "                  (func_tremor / (func_tremor + func_notremor))],\n",
    "                  decimals=2)\n",
    "\n",
    "\n",
    "for rect, label in zip(rect,label):\n",
    "    label = str(label) + ' symptoms'\n",
    "    height = rect.get_height()\n",
    "    ax.text(rect.get_x() + rect.get_width() / 2, height, label,\n",
    "            ha='center', va='bottom')\n",
    "    \n",
    "plt.title('Tremor comparison - just upper body motor tasks')\n",
    "plt.ylabel('Instances')\n",
    "\n",
    "plt.show()"
   ]
  },
  {
   "cell_type": "code",
   "execution_count": 207,
   "metadata": {},
   "outputs": [],
   "source": [
    "structured = ['finger to nose','alternating']\n",
    "functional = ['drawing on a paper','typing on a computer keyboard','assembling nuts and bolts']\n",
    "\n",
    "structured_scores = aggregate_scores(structured)\n",
    "functional_scores = aggregate_scores(functional)"
   ]
  },
  {
   "cell_type": "code",
   "execution_count": 208,
   "metadata": {},
   "outputs": [
    {
     "name": "stdout",
     "output_type": "stream",
     "text": [
      "tremor structured: 138\n",
      "no tremor structured: 118\n",
      "tremor functional: 89\n",
      "no tremor functional: 294\n",
      "\n",
      "\n",
      "Structured Tasks: ['finger to nose', 'alternating']\n",
      "Functional Tasks: ['drawing on a paper', 'typing on a computer keyboard', 'assembling nuts and bolts']\n"
     ]
    },
    {
     "data": {
      "image/png": "[encoded data removed]",
      "text/plain": [
       "<matplotlib.figure.Figure at 0x1e81bbaccf8>"
      ]
     },
     "metadata": {},
     "output_type": "display_data"
    }
   ],
   "source": [
    "struc_tremor = len(structured_scores.Tremor[structured_scores.Tremor > 0])\n",
    "print('tremor structured: %d'%struc_tremor)\n",
    "struc_notremor = len(structured_scores.Tremor[structured_scores.Tremor == 0])\n",
    "print('no tremor structured: %d'%struc_notremor)\n",
    "\n",
    "func_tremor = len(functional_scores.Tremor[functional_scores.Tremor > 0])\n",
    "print('tremor functional: %d'%func_tremor)\n",
    "func_notremor = len(functional_scores.Tremor[functional_scores.Tremor == 0])\n",
    "print('no tremor functional: %d'%func_notremor)\n",
    "\n",
    "print('\\n')\n",
    "\n",
    "print('Structured Tasks: %s'%structured)\n",
    "print('Functional Tasks: %s'%functional)\n",
    "\n",
    "symptom = pd.DataFrame(data=[struc_tremor, func_tremor], index=['structured','functional'],columns=['tremor']);\n",
    "symptom = pd.concat([symptom, pd.DataFrame(data=[struc_notremor, func_notremor], index=['structured','functional'],\n",
    "                                          columns=['no tremor'])],axis=1);\n",
    "\n",
    "ind = np.arange(2); width = 0.35;\n",
    "\n",
    "ax = symptom.plot.bar(stacked=True,figsize=(8,6))\n",
    "rect = ax.patches\n",
    "\n",
    "label = np.around([(struc_tremor / (struc_tremor + struc_notremor)),\n",
    "                  (func_tremor / (func_tremor + func_notremor))],\n",
    "                  decimals=2)\n",
    "\n",
    "\n",
    "for rect, label in zip(rect,label):\n",
    "    label = str(label) + ' symptoms'\n",
    "    height = rect.get_height()\n",
    "    ax.text(rect.get_x() + rect.get_width() / 2, height, label,\n",
    "            ha='center', va='bottom')\n",
    "    \n",
    "plt.title('Tremor comparison - just fine motor tasks')\n",
    "plt.ylabel('Instances')\n",
    "\n",
    "plt.show()"
   ]
  },
  {
   "cell_type": "code",
   "execution_count": 209,
   "metadata": {},
   "outputs": [],
   "source": [
    "structured = ['finger to nose','alternating']\n",
    "functional = ['taking a glass of water and drinking','organizing sheets in a folder','folding towels']\n",
    "\n",
    "structured_scores = aggregate_scores(structured)\n",
    "functional_scores = aggregate_scores(functional)"
   ]
  },
  {
   "cell_type": "code",
   "execution_count": 210,
   "metadata": {},
   "outputs": [
    {
     "name": "stdout",
     "output_type": "stream",
     "text": [
      "tremor structured: 138\n",
      "no tremor structured: 118\n",
      "tremor functional: 118\n",
      "no tremor functional: 266\n",
      "\n",
      "\n",
      "Structured Tasks: ['finger to nose', 'alternating']\n",
      "Functional Tasks: ['taking a glass of water and drinking', 'organizing sheets in a folder', 'folding towels']\n"
     ]
    },
    {
     "data": {
      "image/png": "[encoded data removed]",
      "text/plain": [
       "<matplotlib.figure.Figure at 0x1e81bbaca90>"
      ]
     },
     "metadata": {},
     "output_type": "display_data"
    }
   ],
   "source": [
    "struc_tremor = len(structured_scores.Tremor[structured_scores.Tremor > 0])\n",
    "print('tremor structured: %d'%struc_tremor)\n",
    "struc_notremor = len(structured_scores.Tremor[structured_scores.Tremor == 0])\n",
    "print('no tremor structured: %d'%struc_notremor)\n",
    "\n",
    "func_tremor = len(functional_scores.Tremor[functional_scores.Tremor > 0])\n",
    "print('tremor functional: %d'%func_tremor)\n",
    "func_notremor = len(functional_scores.Tremor[functional_scores.Tremor == 0])\n",
    "print('no tremor functional: %d'%func_notremor)\n",
    "\n",
    "print('\\n')\n",
    "\n",
    "print('Structured Tasks: %s'%structured)\n",
    "print('Functional Tasks: %s'%functional)\n",
    "\n",
    "symptom = pd.DataFrame(data=[struc_tremor, func_tremor], index=['structured','functional'],columns=['tremor']);\n",
    "symptom = pd.concat([symptom, pd.DataFrame(data=[struc_notremor, func_notremor], index=['structured','functional'],\n",
    "                                          columns=['no tremor'])],axis=1);\n",
    "\n",
    "ind = np.arange(2); width = 0.35;\n",
    "\n",
    "ax = symptom.plot.bar(stacked=True,figsize=(8,6))\n",
    "rect = ax.patches\n",
    "\n",
    "label = np.around([(struc_tremor / (struc_tremor + struc_notremor)),\n",
    "                  (func_tremor / (func_tremor + func_notremor))],\n",
    "                  decimals=2)\n",
    "\n",
    "\n",
    "for rect, label in zip(rect,label):\n",
    "    label = str(label) + ' symptoms'\n",
    "    height = rect.get_height()\n",
    "    ax.text(rect.get_x() + rect.get_width() / 2, height, label,\n",
    "            ha='center', va='bottom')\n",
    "    \n",
    "plt.title('Tremor comparison - just gross motor tasks')\n",
    "plt.ylabel('Instances')\n",
    "\n",
    "plt.show()"
   ]
  },
  {
   "cell_type": "code",
   "execution_count": 211,
   "metadata": {},
   "outputs": [
    {
     "name": "stderr",
     "output_type": "stream",
     "text": [
      "C:\\Users\\andre\\Anaconda3\\lib\\site-packages\\ipykernel_launcher.py:20: FutureWarning: \n",
      "Passing list-likes to .loc or [] with any missing label will raise\n",
      "KeyError in the future, you can use .reindex() as an alternative.\n",
      "\n",
      "See the documentation here:\n",
      "http://pandas.pydata.org/pandas-docs/stable/indexing.html#deprecate-loc-reindex-listlike\n",
      "C:\\Users\\andre\\Anaconda3\\lib\\site-packages\\pandas\\core\\indexing.py:1367: FutureWarning: \n",
      "Passing list-likes to .loc or [] with any missing label will raise\n",
      "KeyError in the future, you can use .reindex() as an alternative.\n",
      "\n",
      "See the documentation here:\n",
      "http://pandas.pydata.org/pandas-docs/stable/indexing.html#deprecate-loc-reindex-listlike\n",
      "  return self._getitem_tuple(key)\n"
     ]
    }
   ],
   "source": [
    "structured = ['finger to nose','alternating']\n",
    "functional = ['walking','standing','sitting',\n",
    "              'taking a glass of water and drinking','organizing sheets in a folder','folding towels']\n",
    "\n",
    "structured_scores = aggregate_scores(structured)\n",
    "functional_scores = aggregate_scores(functional)"
   ]
  },
  {
   "cell_type": "code",
   "execution_count": 212,
   "metadata": {},
   "outputs": [
    {
     "name": "stdout",
     "output_type": "stream",
     "text": [
      "tremor structured: 138\n",
      "no tremor structured: 118\n",
      "tremor functional: 162\n",
      "no tremor functional: 606\n",
      "\n",
      "\n",
      "Structured Tasks: ['finger to nose', 'alternating']\n",
      "Functional Tasks: ['walking', 'standing', 'sitting', 'taking a glass of water and drinking', 'organizing sheets in a folder', 'folding towels']\n"
     ]
    },
    {
     "data": {
      "image/png": "[encoded data removed]",
      "text/plain": [
       "<matplotlib.figure.Figure at 0x1e81bcf8908>"
      ]
     },
     "metadata": {},
     "output_type": "display_data"
    }
   ],
   "source": [
    "struc_tremor = len(structured_scores.Tremor[structured_scores.Tremor > 0])\n",
    "print('tremor structured: %d'%struc_tremor)\n",
    "struc_notremor = len(structured_scores.Tremor[structured_scores.Tremor == 0])\n",
    "print('no tremor structured: %d'%struc_notremor)\n",
    "\n",
    "func_tremor = len(functional_scores.Tremor[functional_scores.Tremor > 0])\n",
    "print('tremor functional: %d'%func_tremor)\n",
    "func_notremor = len(functional_scores.Tremor[functional_scores.Tremor == 0])\n",
    "print('no tremor functional: %d'%func_notremor)\n",
    "\n",
    "print('\\n')\n",
    "\n",
    "print('Structured Tasks: %s'%structured)\n",
    "print('Functional Tasks: %s'%functional)\n",
    "\n",
    "symptom = pd.DataFrame(data=[struc_tremor, func_tremor], index=['structured','functional'],columns=['tremor']);\n",
    "symptom = pd.concat([symptom, pd.DataFrame(data=[struc_notremor, func_notremor], index=['structured','functional'],\n",
    "                                          columns=['no tremor'])],axis=1);\n",
    "\n",
    "ind = np.arange(2); width = 0.35;\n",
    "\n",
    "ax = symptom.plot.bar(stacked=True,figsize=(8,6))\n",
    "rect = ax.patches\n",
    "\n",
    "label = np.around([(struc_tremor / (struc_tremor + struc_notremor)),\n",
    "                  (func_tremor / (func_tremor + func_notremor))],\n",
    "                  decimals=2)\n",
    "\n",
    "\n",
    "for rect, label in zip(rect,label):\n",
    "    label = str(label) + ' symptoms'\n",
    "    height = rect.get_height()\n",
    "    ax.text(rect.get_x() + rect.get_width() / 2, height, label,\n",
    "            ha='center', va='bottom')\n",
    "    \n",
    "plt.title('Tremor comparison - gross motor and functional')\n",
    "plt.ylabel('Instances')\n",
    "\n",
    "plt.show()"
   ]
  },
  {
   "cell_type": "code",
   "execution_count": 213,
   "metadata": {},
   "outputs": [
    {
     "name": "stderr",
     "output_type": "stream",
     "text": [
      "C:\\Users\\andre\\Anaconda3\\lib\\site-packages\\ipykernel_launcher.py:20: FutureWarning: \n",
      "Passing list-likes to .loc or [] with any missing label will raise\n",
      "KeyError in the future, you can use .reindex() as an alternative.\n",
      "\n",
      "See the documentation here:\n",
      "http://pandas.pydata.org/pandas-docs/stable/indexing.html#deprecate-loc-reindex-listlike\n",
      "C:\\Users\\andre\\Anaconda3\\lib\\site-packages\\pandas\\core\\indexing.py:1367: FutureWarning: \n",
      "Passing list-likes to .loc or [] with any missing label will raise\n",
      "KeyError in the future, you can use .reindex() as an alternative.\n",
      "\n",
      "See the documentation here:\n",
      "http://pandas.pydata.org/pandas-docs/stable/indexing.html#deprecate-loc-reindex-listlike\n",
      "  return self._getitem_tuple(key)\n"
     ]
    }
   ],
   "source": [
    "structured = ['finger to nose','alternating']\n",
    "functional = ['walking while counting','standing','sitting']\n",
    "\n",
    "structured_scores = aggregate_scores(structured)\n",
    "functional_scores = aggregate_scores(functional)"
   ]
  },
  {
   "cell_type": "code",
   "execution_count": 215,
   "metadata": {},
   "outputs": [
    {
     "name": "stdout",
     "output_type": "stream",
     "text": [
      "tremor structured: 138\n",
      "no tremor structured: 118\n",
      "tremor functional: 44\n",
      "no tremor functional: 338\n",
      "\n",
      "\n",
      "Structured Tasks: ['finger to nose', 'alternating']\n",
      "Functional Tasks: ['walking while counting', 'standing', 'sitting']\n"
     ]
    },
    {
     "data": {
      "image/png": "[encoded data removed]",
      "text/plain": [
       "<matplotlib.figure.Figure at 0x1e81bcf8d68>"
      ]
     },
     "metadata": {},
     "output_type": "display_data"
    }
   ],
   "source": [
    "struc_tremor = len(structured_scores.Tremor[structured_scores.Tremor > 0])\n",
    "print('tremor structured: %d'%struc_tremor)\n",
    "struc_notremor = len(structured_scores.Tremor[structured_scores.Tremor == 0])\n",
    "print('no tremor structured: %d'%struc_notremor)\n",
    "\n",
    "func_tremor = len(functional_scores.Tremor[functional_scores.Tremor > 0])\n",
    "print('tremor functional: %d'%func_tremor)\n",
    "func_notremor = len(functional_scores.Tremor[functional_scores.Tremor == 0])\n",
    "print('no tremor functional: %d'%func_notremor)\n",
    "\n",
    "print('\\n')\n",
    "\n",
    "print('Structured Tasks: %s'%structured)\n",
    "print('Functional Tasks: %s'%functional)\n",
    "\n",
    "symptom = pd.DataFrame(data=[struc_tremor, func_tremor], index=['structured','functional'],columns=['tremor']);\n",
    "symptom = pd.concat([symptom, pd.DataFrame(data=[struc_notremor, func_notremor], index=['structured','functional'],\n",
    "                                          columns=['no tremor'])],axis=1);\n",
    "\n",
    "ind = np.arange(2); width = 0.35;\n",
    "\n",
    "ax = symptom.plot.bar(stacked=True,figsize=(8,6))\n",
    "rect = ax.patches\n",
    "\n",
    "label = np.around([(struc_tremor / (struc_tremor + struc_notremor)),\n",
    "                  (func_tremor / (func_tremor + func_notremor))],\n",
    "                  decimals=2)\n",
    "\n",
    "\n",
    "for rect, label in zip(rect,label):\n",
    "    label = str(label) + ' symptoms'\n",
    "    height = rect.get_height()\n",
    "    ax.text(rect.get_x() + rect.get_width() / 2, height, label,\n",
    "            ha='center', va='bottom')\n",
    "    \n",
    "plt.title('Tremor comparison - functional, highest instances')\n",
    "plt.ylabel('Instances')\n",
    "\n",
    "plt.show()"
   ]
  },
  {
   "cell_type": "code",
   "execution_count": 178,
   "metadata": {},
   "outputs": [
    {
     "name": "stdout",
     "output_type": "stream",
     "text": [
      "(43002, 44)\n"
     ]
    },
    {
     "data": {
      "text/html": [
       "<div>\n",
       "<style scoped>\n",
       "    .dataframe tbody tr th:only-of-type {\n",
       "        vertical-align: middle;\n",
       "    }\n",
       "\n",
       "    .dataframe tbody tr th {\n",
       "        vertical-align: top;\n",
       "    }\n",
       "\n",
       "    .dataframe thead th {\n",
       "        text-align: right;\n",
       "    }\n",
       "</style>\n",
       "<table border=\"1\" class=\"dataframe\">\n",
       "  <thead>\n",
       "    <tr style=\"text-align: right;\">\n",
       "      <th></th>\n",
       "      <th>Unnamed: 0</th>\n",
       "      <th>Subject</th>\n",
       "      <th>Visit</th>\n",
       "      <th>Task</th>\n",
       "      <th>Location</th>\n",
       "      <th>Bradykinesia</th>\n",
       "      <th>Tremor</th>\n",
       "      <th>RMSX</th>\n",
       "      <th>RMSY</th>\n",
       "      <th>RMSZ</th>\n",
       "      <th>...</th>\n",
       "      <th>PSD_std</th>\n",
       "      <th>PSD_skew</th>\n",
       "      <th>PSD_kur</th>\n",
       "      <th>jerk_mean</th>\n",
       "      <th>jerk_std</th>\n",
       "      <th>jerk_skew</th>\n",
       "      <th>jerk_kur</th>\n",
       "      <th>Sen_X</th>\n",
       "      <th>Sen_Y</th>\n",
       "      <th>Sen_Z</th>\n",
       "    </tr>\n",
       "  </thead>\n",
       "  <tbody>\n",
       "    <tr>\n",
       "      <th>0</th>\n",
       "      <td>0</td>\n",
       "      <td>1004</td>\n",
       "      <td>2 Weeks: Time 0</td>\n",
       "      <td>Motor #2: Walking</td>\n",
       "      <td>dorsal_hand_left</td>\n",
       "      <td>1.0</td>\n",
       "      <td>0.0</td>\n",
       "      <td>0.007757</td>\n",
       "      <td>0.010663</td>\n",
       "      <td>0.006639</td>\n",
       "      <td>...</td>\n",
       "      <td>0.001943</td>\n",
       "      <td>3.019358</td>\n",
       "      <td>8.685826</td>\n",
       "      <td>0.000318</td>\n",
       "      <td>0.039815</td>\n",
       "      <td>-0.184625</td>\n",
       "      <td>12.745926</td>\n",
       "      <td>0.632860</td>\n",
       "      <td>0.662610</td>\n",
       "      <td>0.612830</td>\n",
       "    </tr>\n",
       "    <tr>\n",
       "      <th>1</th>\n",
       "      <td>1</td>\n",
       "      <td>1004</td>\n",
       "      <td>2 Weeks: Time 0</td>\n",
       "      <td>Motor #2: Walking</td>\n",
       "      <td>dorsal_hand_left</td>\n",
       "      <td>1.0</td>\n",
       "      <td>0.0</td>\n",
       "      <td>0.007055</td>\n",
       "      <td>0.010101</td>\n",
       "      <td>0.006168</td>\n",
       "      <td>...</td>\n",
       "      <td>0.001101</td>\n",
       "      <td>2.173485</td>\n",
       "      <td>4.459587</td>\n",
       "      <td>0.000191</td>\n",
       "      <td>0.025149</td>\n",
       "      <td>-0.091885</td>\n",
       "      <td>0.860041</td>\n",
       "      <td>0.621925</td>\n",
       "      <td>0.629151</td>\n",
       "      <td>0.538592</td>\n",
       "    </tr>\n",
       "  </tbody>\n",
       "</table>\n",
       "<p>2 rows × 44 columns</p>\n",
       "</div>"
      ],
      "text/plain": [
       "   Unnamed: 0  Subject            Visit               Task          Location  \\\n",
       "0           0     1004  2 Weeks: Time 0  Motor #2: Walking  dorsal_hand_left   \n",
       "1           1     1004  2 Weeks: Time 0  Motor #2: Walking  dorsal_hand_left   \n",
       "\n",
       "   Bradykinesia  Tremor      RMSX      RMSY      RMSZ    ...      PSD_std  \\\n",
       "0           1.0     0.0  0.007757  0.010663  0.006639    ...     0.001943   \n",
       "1           1.0     0.0  0.007055  0.010101  0.006168    ...     0.001101   \n",
       "\n",
       "   PSD_skew   PSD_kur  jerk_mean  jerk_std  jerk_skew   jerk_kur     Sen_X  \\\n",
       "0  3.019358  8.685826   0.000318  0.039815  -0.184625  12.745926  0.632860   \n",
       "1  2.173485  4.459587   0.000191  0.025149  -0.091885   0.860041  0.621925   \n",
       "\n",
       "      Sen_Y     Sen_Z  \n",
       "0  0.662610  0.612830  \n",
       "1  0.629151  0.538592  \n",
       "\n",
       "[2 rows x 44 columns]"
      ]
     },
     "execution_count": 178,
     "metadata": {},
     "output_type": "execute_result"
    }
   ],
   "source": [
    "Data = pd.read_csv(os.path.join(features_path,'Data_New.csv')) #only HP filter\n",
    "print(Data.shape)\n",
    "Data.head(2)"
   ]
  },
  {
   "cell_type": "markdown",
   "metadata": {},
   "source": [
    "## Exploring each Subject's score distribution per task"
   ]
  },
  {
   "cell_type": "code",
   "execution_count": 38,
   "metadata": {
    "scrolled": false
   },
   "outputs": [
    {
     "ename": "NameError",
     "evalue": "name 'Data' is not defined",
     "output_type": "error",
     "traceback": [
      "\u001b[1;31m---------------------------------------------------------------------------\u001b[0m",
      "\u001b[1;31mNameError\u001b[0m                                 Traceback (most recent call last)",
      "\u001b[1;32m<ipython-input-38-260c8b847a39>\u001b[0m in \u001b[0;36m<module>\u001b[1;34m()\u001b[0m\n\u001b[1;32m----> 1\u001b[1;33m \u001b[1;32mfor\u001b[0m \u001b[0msubs\u001b[0m \u001b[1;32min\u001b[0m \u001b[0mData\u001b[0m\u001b[1;33m[\u001b[0m\u001b[1;34m'Subject'\u001b[0m\u001b[1;33m]\u001b[0m\u001b[1;33m.\u001b[0m\u001b[0munique\u001b[0m\u001b[1;33m(\u001b[0m\u001b[1;33m)\u001b[0m\u001b[1;33m:\u001b[0m\u001b[1;33m\u001b[0m\u001b[0m\n\u001b[0m\u001b[0;32m      2\u001b[0m     \u001b[0mtemp_d\u001b[0m \u001b[1;33m=\u001b[0m \u001b[0mData\u001b[0m\u001b[1;33m.\u001b[0m\u001b[0mloc\u001b[0m\u001b[1;33m[\u001b[0m\u001b[0mData\u001b[0m\u001b[1;33m[\u001b[0m\u001b[1;34m'Subject'\u001b[0m\u001b[1;33m]\u001b[0m \u001b[1;33m==\u001b[0m \u001b[0msubs\u001b[0m\u001b[1;33m]\u001b[0m\u001b[1;33m\u001b[0m\u001b[0m\n\u001b[0;32m      3\u001b[0m \u001b[1;33m\u001b[0m\u001b[0m\n\u001b[0;32m      4\u001b[0m     \u001b[0mBradP\u001b[0m\u001b[1;33m=\u001b[0m\u001b[1;33m[\u001b[0m\u001b[1;33m]\u001b[0m\u001b[1;33m;\u001b[0m \u001b[0mTremorP\u001b[0m\u001b[1;33m=\u001b[0m\u001b[1;33m[\u001b[0m\u001b[1;33m]\u001b[0m\u001b[1;33m;\u001b[0m\u001b[1;33m\u001b[0m\u001b[0m\n\u001b[0;32m      5\u001b[0m \u001b[1;33m\u001b[0m\u001b[0m\n",
      "\u001b[1;31mNameError\u001b[0m: name 'Data' is not defined"
     ]
    }
   ],
   "source": [
    "for subs in Data['Subject'].unique():\n",
    "    temp_d = Data.loc[Data['Subject'] == subs]\n",
    "    \n",
    "    BradP=[]; TremorP=[];\n",
    "    \n",
    "    for t in temp_d['Task'].unique(): \n",
    "        d = temp_d.loc[temp_d['Task']==t]\n",
    "        BradP.append(sum(d['Bradykinesia'] > 0))\n",
    "        TremorP.append(sum(d['Tremor'] > 0))\n",
    "        \n",
    "#         BradR.append((sum(d['Bradykinesia'] > 0)) / np.shape(d['Bradykinesia'])[0])\n",
    "#         TremorR.append((sum(d['Tremor'] > 0)) / np.shape(d['Tremor'])[0])\n",
    "\n",
    "    fig = plt.figure(figsize=(12,6))\n",
    "    fig.add_subplot(121)\n",
    "    sns.barplot(x=np.arange(len(BradP)),y=BradP)\n",
    "    plt.title('Sub %s: Bradykinesia'%subs), plt.xlabel('Task')\n",
    "    fig.add_subplot(122)\n",
    "    sns.barplot(x=np.arange(len(TremorP)),y=TremorP)\n",
    "    plt.title('Sub %s: Tremor'%subs), plt.xlabel('Task')\n",
    "#     fig.add_subplot(223)\n",
    "#     sns.barplot(x=np.arange(len(BradR)),y=BradR)\n",
    "#     plt.title('Bradykinesia Ratio per task'), plt.xlabel('Task')\n",
    "#     fig.add_subplot(224)\n",
    "#     sns.barplot(x=np.arange(len(TremorR)),y=TremorR)\n",
    "#     plt.title('Tremor Ratio per task'), plt.xlabel('Task')"
   ]
  },
  {
   "cell_type": "code",
   "execution_count": 21,
   "metadata": {},
   "outputs": [
    {
     "name": "stdout",
     "output_type": "stream",
     "text": [
      "[312, 224, 202, 176, 164, 115, 106, 95, 86, 0, 0]\n"
     ]
    }
   ],
   "source": [
    "x = BradP.sort(reverse=True)\n",
    "print(BradP)"
   ]
  },
  {
   "cell_type": "code",
   "execution_count": null,
   "metadata": {},
   "outputs": [],
   "source": []
  }
 ],
 "metadata": {
  "kernelspec": {
   "display_name": "Python 3",
   "language": "python",
   "name": "python3"
  },
  "language_info": {
   "codemirror_mode": {
    "name": "ipython",
    "version": 3
   },
   "file_extension": ".py",
   "mimetype": "text/x-python",
   "name": "python",
   "nbconvert_exporter": "python",
   "pygments_lexer": "ipython3",
   "version": "3.6.4"
  }
 },
 "nbformat": 4,
 "nbformat_minor": 2
}
