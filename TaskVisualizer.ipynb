{
 "cells": [
  {
   "cell_type": "code",
   "execution_count": null,
   "metadata": {
    "collapsed": false
   },
   "outputs": [],
   "source": [
    "import os\n",
    "import numpy as np\n",
    "import pandas as pd\n",
    "import seaborn as sns\n",
    "import matplotlib.pyplot as plt\n",
    "import datetime as dt\n",
    "import pathlib\n",
    "import pickle #to save files\n",
    "from itertools import product\n",
    "from scipy.stats import skew, kurtosis\n",
    "\n",
    "%matplotlib inline\n",
    "\n",
    "#for interactive plots\n",
    "# from mpl_toolkits.mplot3d import Axes3D\n",
    "# %matplotlib notebook\n",
    "pd.__version__"
   ]
  },
  {
   "cell_type": "code",
   "execution_count": null,
   "metadata": {
    "collapsed": true
   },
   "outputs": [],
   "source": [
    "# Set path to folder containing Subject data Dictionaries\n",
    "path = '../Data_dict/' #dictionaries data Mac - (local, much faster)\n",
    "# path = '/Volumes/RT&O/CIS-PD Study/Data_dict/' #Mac\n",
    "# path = r'W:\\CIS-PD Study\\Data_dict' #windows repo path\n",
    "\n",
    "#path to subject scores\n",
    "pathscores = '../Scores/' #local\n",
    "# pathscores = r'W:\\CIS-PD Study\\Scores' #windows repo path\n",
    "#---------------------------------------------------------------------------------------------------------"
   ]
  },
  {
   "cell_type": "code",
   "execution_count": null,
   "metadata": {
    "collapsed": true
   },
   "outputs": [],
   "source": [
    "def plot_data(acts, activity, trial, sensor, data, start=0, end=100000, plt_ax=None):\n",
    "#---------------------------------------------------------------------------------------------------------\n",
    "# Plots requested data\n",
    "# \n",
    "# Inputs: acts - activity dataframe containing all sensor data from one subject\n",
    "#         activity - desired activity to plot\n",
    "#         trial - desired trial number to plot\n",
    "#         sensor - desired sensor (serial number or name of location) to analyze\n",
    "#         data - desired type of data to analyze (accel, gyro, EMG/ECG)\n",
    "#         start - starting index, default starts at first point\n",
    "#         end - ending index, default is 500th data point\n",
    "#---------------------------------------------------------------------------------------------------------\n",
    "    rawdata = pd.DataFrame(acts[activity][trial]).loc[data, sensor]#[start:end]\n",
    "    #reindex time (relative to start)\n",
    "    idx = rawdata.index\n",
    "    idx = idx-idx[0]\n",
    "    rawdata.index = idx\n",
    "    rawdata.plot(figsize=(8,6),ax=plt_ax)"
   ]
  },
  {
   "cell_type": "code",
   "execution_count": null,
   "metadata": {
    "collapsed": false
   },
   "outputs": [],
   "source": [
    "#list subjects in db\n",
    "d = os.listdir(path)\n",
    "f = [filename[:4] for filename in d if filename.startswith('1')]\n",
    "print(np.sort(f))"
   ]
  },
  {
   "cell_type": "markdown",
   "metadata": {},
   "source": [
    "## Choose subject, task, visit and sensor location"
   ]
  },
  {
   "cell_type": "code",
   "execution_count": null,
   "metadata": {
    "collapsed": true
   },
   "outputs": [],
   "source": [
    "subj = 1046 #choose subj to visualize"
   ]
  },
  {
   "cell_type": "code",
   "execution_count": null,
   "metadata": {
    "collapsed": true
   },
   "outputs": [],
   "source": [
    "#load Pickle file dict\n",
    "subj_filename = str(subj) + 'dict.pkl'\n",
    "f = open(os.path.join(path, subj_filename), 'rb')\n",
    "act_dict = pickle.load(f)\n",
    "f.close()"
   ]
  },
  {
   "cell_type": "code",
   "execution_count": null,
   "metadata": {
    "collapsed": true
   },
   "outputs": [],
   "source": [
    "#choose task, trials(visits) and sensor location\n",
    "# task = 'Motor #8: Typing on a Computer'\n",
    "# task_scores = 'Typing on a computer keyboard' #the task name in the scores file\n",
    "# task = 'Motor #1: Standing'\n",
    "# task_scores = 'Standing'\n",
    "# task = 'Motor #3: Walking while Counting'\n",
    "# task_scores = 'Walking while counting'\n",
    "# task = 'Motor #2: Walking'\n",
    "# task_scores = 'Walking'\n",
    "# task = 'Motor #7: Drawing on Paper'\n",
    "# task_scores = 'Drawing on a paper'\n",
    "task =  'Motor #5: Alternating Hand Movements',\n",
    "task_scores = 'Alternating right hand movements'\n",
    "\n",
    "# loc = 'dorsal_hand_left'\n",
    "loc = 'dorsal_hand_right'\n",
    "# loc = 'sacrum'\n",
    "# loc = 'flexor_digitorum_left'\n",
    "# loc = 'flexor_digitorum_right'\n",
    "\n",
    "side = 'right' #side score to use\n",
    "\n",
    "trials = [0,2,4,5,6]"
   ]
  },
  {
   "cell_type": "markdown",
   "metadata": {},
   "source": [
    "## Scores for current subject"
   ]
  },
  {
   "cell_type": "code",
   "execution_count": null,
   "metadata": {
    "collapsed": false
   },
   "outputs": [],
   "source": [
    "#load subject scores\n",
    "mot_scores = pd.read_excel(os.path.join(pathscores, 'MotorTasks.xls'))\n",
    "#remove words:(Qxx) and 'rating' from each column for readability\n",
    "cols= mot_scores.columns\n",
    "cols = cols[4:]\n",
    "cols = cols.tolist()\n",
    "colsnew = [x.split('(')[0] for x in cols]\n",
    "colsnew = [x.strip() for x in colsnew] #remove whitspace\n",
    "colsnew = [x.split('rating')[0] for x in colsnew]\n",
    "colsnew = [x.strip() for x in colsnew]\n",
    "c = dict(zip(cols,colsnew))\n",
    "mot_scores = mot_scores.rename(index=str, columns=c)\n",
    "\n",
    "#extract scores for corresponding task, subject and side\n",
    "subj_score = mot_scores.loc[mot_scores['Subject']==subj,['Subject','Visit',\n",
    "                            task_scores+ ' ' + 'bradykinesia ' + side + ' upper limb',\n",
    "                            task_scores+ ' ' + 'tremor ' + side + ' upper limb',\n",
    "                            task_scores+ ' ' + 'overall score']]\n",
    "#rename cols\n",
    "subj_score = subj_score.rename(index=str,\n",
    "                               columns={subj_score.columns[2]:'Bradykinesia',subj_score.columns[3]:'Tremor', \n",
    "                                       subj_score.columns[4]:'overall'})\n",
    "subj_score.index = range(len(subj_score))\n",
    "subj_score.head()\n"
   ]
  },
  {
   "cell_type": "code",
   "execution_count": null,
   "metadata": {
    "collapsed": true
   },
   "outputs": [],
   "source": [
    "# #extract both sides scores for corresponding task and subject\n",
    "# subj_score = mot_scores.loc[mot_scores['Subject']==subj,['Subject','Visit',\n",
    "#                             task_scores+ ' ' + 'bradykinesia right upper limb',\n",
    "#                             task_scores+ ' ' + 'tremor right upper limb',\n",
    "#                             task_scores+ ' ' + 'bradykinesia left upper limb',\n",
    "#                             task_scores+ ' ' + 'tremor left upper limb',\n",
    "#                             task_scores+ ' ' + 'overall score']]\n",
    "# subj_score = subj_score.rename(index=str,\n",
    "#                                columns={subj_score.columns[2]:'Bradykinesia right',subj_score.columns[3]:'Tremor right', \n",
    "#                                        subj_score.columns[4]:'Bradykinesia left',subj_score.columns[5]:'Tremor left',\n",
    "#                                        subj_score.columns[6]:'overall'})\n"
   ]
  },
  {
   "cell_type": "markdown",
   "metadata": {},
   "source": [
    "## Histogram of scores for specific task and all subjects "
   ]
  },
  {
   "cell_type": "code",
   "execution_count": null,
   "metadata": {
    "collapsed": false
   },
   "outputs": [],
   "source": [
    "#histogram of motor scores from all subjects for current task\n",
    "S = mot_scores[[            task_scores+ ' ' + 'bradykinesia right upper limb',\n",
    "                            task_scores+ ' ' + 'tremor right upper limb',\n",
    "                            task_scores+ ' ' + 'bradykinesia left upper limb',\n",
    "                            task_scores+ ' ' + 'tremor left upper limb',\n",
    "                            task_scores+ ' ' + 'overall score']]\n",
    "\n",
    "S = S.rename(index=str,columns={S.columns[0]:'Bradykinesia right',S.columns[1]:'Tremor right', \n",
    "                                       S.columns[2]:'Bradykinesia left',S.columns[3]:'Tremor left',\n",
    "                                       S.columns[4]:'overall'})\n",
    "sns.set_context('paper',font_scale=1.5)\n",
    "ax = S.hist(figsize=(20,20),xlabelsize=12,ylabelsize=12)"
   ]
  },
  {
   "cell_type": "markdown",
   "metadata": {},
   "source": [
    "# Raw sensors data visualization"
   ]
  },
  {
   "cell_type": "code",
   "execution_count": null,
   "metadata": {
    "collapsed": false,
    "scrolled": false
   },
   "outputs": [],
   "source": [
    "sns.set_context('paper')\n",
    "p = product([task],trials)\n",
    "taskslist = list(p)\n",
    "for t in taskslist:\n",
    "    plot_data(act_dict,t[0],t[1],loc,'accel')\n",
    "    plt.title(tuple([str(subj)])+t+tuple([loc]))"
   ]
  },
  {
   "cell_type": "code",
   "execution_count": null,
   "metadata": {
    "collapsed": false,
    "scrolled": false
   },
   "outputs": [],
   "source": [
    "sns.set_context('paper')\n",
    "p = product([task],trials)\n",
    "taskslist = list(p)\n",
    "for t in taskslist:\n",
    "    plot_data(act_dict,t[0],t[1],loc,'accel')\n",
    "    plt.title(tuple([str(subj)])+t+tuple([loc]))"
   ]
  },
  {
   "cell_type": "markdown",
   "metadata": {},
   "source": [
    "# Plot raw data from all subjects for a given task"
   ]
  },
  {
   "cell_type": "code",
   "execution_count": null,
   "metadata": {
    "collapsed": true
   },
   "outputs": [],
   "source": [
    "#choose task, trials(visits) and sensor location\n",
    "task =  'Motor #5: Alternating Hand Movements'\n",
    "loc1 = 'dorsal_hand_left'\n",
    "loc2 = 'dorsal_hand_right'\n",
    "# loc = 'sacrum'\n",
    "# loc = 'flexor_digitorum_left'\n",
    "# loc = 'flexor_digitorum_right'\n",
    "trial = 3"
   ]
  },
  {
   "cell_type": "code",
   "execution_count": null,
   "metadata": {
    "collapsed": false
   },
   "outputs": [],
   "source": [
    "#list subjects in db\n",
    "d = os.listdir(path)\n",
    "all_f = [filename[:4] for filename in d if filename.startswith('1')]\n",
    "print(np.sort(all_f))"
   ]
  },
  {
   "cell_type": "code",
   "execution_count": null,
   "metadata": {
    "collapsed": false,
    "scrolled": false
   },
   "outputs": [],
   "source": [
    "#load Pickle file dict\n",
    "for subj in all_f:\n",
    "    subj_filename = str(subj) + 'dict.pkl'\n",
    "    f = open(os.path.join(path, subj_filename), 'rb')\n",
    "    act_dict = pickle.load(f)\n",
    "    f.close()\n",
    "    fig=plt.figure()\n",
    "    ax1 = fig.add_subplot(121)\n",
    "    plot_data(act_dict,task,trial,loc1,'accel',plt_ax=ax1)\n",
    "    ax1.set_title(tuple([str(subj)])+tuple([str(trial)])+tuple([loc1]))\n",
    "    ax2 = fig.add_subplot(122)\n",
    "    plot_data(act_dict,task,trial,loc2,'accel',plt_ax=ax2)\n",
    "    ax2.set_title('testR')\n",
    "    ax2.set_title(tuple([str(subj)])+tuple([str(trial)])+tuple([loc2]))"
   ]
  },
  {
   "cell_type": "markdown",
   "metadata": {
    "collapsed": true
   },
   "source": [
    "# List of activities / sensor locations"
   ]
  },
  {
   "cell_type": "code",
   "execution_count": null,
   "metadata": {
    "collapsed": false
   },
   "outputs": [],
   "source": [
    "sorted(list(act_dict.keys()))"
   ]
  },
  {
   "cell_type": "code",
   "execution_count": null,
   "metadata": {
    "collapsed": false
   },
   "outputs": [],
   "source": [
    "sorted(list(act_dict[ 'Motor #2: Walking'][0].keys()))"
   ]
  }
 ],
 "metadata": {
  "anaconda-cloud": {},
  "kernelspec": {
   "display_name": "Python [default]",
   "language": "python",
   "name": "python3"
  },
  "language_info": {
   "codemirror_mode": {
    "name": "ipython",
    "version": 3
   },
   "file_extension": ".py",
   "mimetype": "text/x-python",
   "name": "python",
   "nbconvert_exporter": "python",
   "pygments_lexer": "ipython3",
   "version": "3.5.2"
  }
 },
 "nbformat": 4,
 "nbformat_minor": 1
}
