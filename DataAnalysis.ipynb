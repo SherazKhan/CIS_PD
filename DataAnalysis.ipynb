{
 "cells": [
  {
   "cell_type": "code",
   "execution_count": null,
   "metadata": {},
   "outputs": [],
   "source": [
    "import os\n",
    "import glob\n",
    "import numpy as np\n",
    "import pandas as pd\n",
    "import seaborn as sns\n",
    "import matplotlib.pyplot as plt\n",
    "import datetime as dt\n",
    "import xlsxwriter as xw\n",
    "\n",
    "%matplotlib inline"
   ]
  },
  {
   "cell_type": "code",
   "execution_count": null,
   "metadata": {},
   "outputs": [],
   "source": [
    "path = r'C:\\Users\\adai\\Documents\\PD Study Data\\Subjects\\1004'\n",
    "path2 = r'C:\\Users\\adai\\Documents\\PD Study Data\\Subjects'\n",
    "folderDepth = glob.glob('*/*/*/*')\n",
    "\n",
    "accel = xw.Workbook('AccelData.xlsx')\n",
    "gyro = xw.Workbook('GyroData.xlsx')\n",
    "elec = xw.Workbook('ElecData.xlsx')\n",
    "\n",
    "for root, dirs, files in os.walk(path, topdown=True):\n",
    "    depth = root[len(path) + len(os.path.sep):].count(os.path.sep)\n",
    "    for filenames in files:\n",
    "        #if os.path.splittext(filenames)[-1] == '.csv':\n",
    "        if filenames.endswith('annotations.csv'):\n",
    "            filename_path = os.path.join(root, filenames)\n",
    "            print(filenames)\n",
    "            print(filename_path)\n",
    "            #df = pd.read_csv(os.path.join(path, filenames))\n",
    "        elif filenames.endswith('accel.csv'):\n",
    "            filename_path = os.path.join(root, filenames)\n",
    "            print(filenames)\n",
    "            print(filename_path)\n",
    "        elif filenames.endswith('elec.csv'):\n",
    "            filename_path = os.path.join(root, filenames)\n",
    "            print(filenames)\n",
    "            print(filename_path)\n",
    "        elif filenames.endswith('gyro.csv'):\n",
    "            gyro"
   ]
  },
  {
   "cell_type": "code",
   "execution_count": null,
   "metadata": {
    "scrolled": false
   },
   "outputs": [],
   "source": [
    "path = r'C:\\Users\\adai\\Documents\\PD Study Data\\Subjects\\1004'\n",
    "\n",
    "for root, dirs, files in os.walk(path):\n",
    "    for filenames in files:\n",
    "        #if os.path.splittext(filenames)[-1] == '.csv':\n",
    "        if filenames.endswith('.csv'):\n",
    "            filename_path = os.path.join(root, filenames)\n",
    "            print(filenames)\n",
    "            print(filename_path)\n",
    "\n",
    "#files = os.listdir(path)\n",
    "\n",
    "#for entries in files:\n",
    "#    if entries == 'annotations.csv':\n",
    "#        print(os.path.join(path, entries))\n",
    "#        df = pd.read_csv(os.path.join(path, entries))\n",
    "\n",
    "        \n",
    "### Annotations Processing\n",
    "# removes unnecessary data columns\n",
    "del df['Timestamp (ms)']\n",
    "del df['AnnotationId']\n",
    "del df['AuthorId']\n",
    "\n",
    "df['Start Timestamp (ms)'] = pd.to_datetime(df['Start Timestamp (ms)'], unit='ms', utc=True).dt.tz_localize('UTC').dt.tz_convert('US/Central')\n",
    "df['Stop Timestamp (ms)'] = pd.to_datetime(df['Stop Timestamp (ms)'], unit='ms', utc=True).dt.tz_localize('UTC').dt.tz_convert('US/Central')\n",
    "\n",
    "testDay = df[df.EventType == 'Testing Day'].dropna(how='any').iloc[0]['Value'].replace(\" \", \"\")\n",
    "\n",
    "df = df[(df.EventType != 'Testing Day')]\n",
    "del df['Value']\n",
    "\n",
    "### Activity Sorting\n",
    "sorter = df.EventType.unique()\n",
    "sorterIndex = dict(zip(sorter,range(len(sorter))))\n",
    "\n",
    "print(sorter)\n",
    "\n",
    "df['EventType_Rank'] = df['EventType'].map(sorterIndex)\n",
    "df['Cycle'] = df.groupby('EventType')['Start Timestamp (ms)'].rank(ascending=True).astype(int)\n",
    "df[df['EventType'].str.contains('MDS-UPDRS')] = df[df['EventType'].str.contains('MDS-UPDRS')].replace(to_replace={'Cycle': {2: 3}})\n",
    "df[df['EventType'].str.contains('Heart')] = df[df['EventType'].str.contains('Heart')].replace(to_replace={'Cycle': {1: 'NaN', 2: 'NaN'}})\n",
    "df.sort_values(['EventType', 'EventType_Rank', 'Start Timestamp (ms)'], axis=0)\n",
    "\n",
    "name = 'NewAnnotations_' + str(testDay) + '.xlsx'\n",
    "writer = pd.ExcelWriter(name, options={'remove_timezone': True})\n",
    "df.to_excel(writer,'Sheet1')"
   ]
  },
  {
   "cell_type": "code",
   "execution_count": null,
   "metadata": {
    "collapsed": true
   },
   "outputs": [],
   "source": [
    "def activityCheck(activities):\n",
    "# Checks the downloaded data from mc10cloud.com for missing or duplicate\n",
    "# activity timestamps and returns missing and duplicate activity labels\n",
    "#\n",
    "# Inputs: activities - list of unique activities in the entire dataframe per day\n",
    "#         testDay - desired testDay to scan\n",
    "#\n",
    "# Outputs: missing - list of missing activities per test day and cycle\n",
    "#          duplicates - list of duplicate activity labels per test day and cycle\n",
    "complete = {'Heart Rate Variability', 'MDS-UPDRS #1: Finger Tapping',\n",
    "           'MDS-UPDRS #2: Hand Movements', 'MDS-UPDRS #3: Pronation-Supination',\n",
    "           'MDS-UPDRS #4: Toe Tapping', 'MDS-UPDRS #5: Leg Agility',\n",
    "           'MDS-UPDRS #6: Arising from Chair', 'MDS-UPDRS #7: Gait',\n",
    "           'MDS-UPDRS #8: Postural Stability', 'MDS-UPDRS #9: Postural Hand Tremor',\n",
    "           'MDS-UPDRS #10: Kinetic Hand Tremor', 'MDS-UPDRS #11: Rest Tremor',\n",
    "           'Motor #1: Standing', 'Motor #2: Walking', 'Motor #3: Walking while Counting',\n",
    "           'Motor #4: Finger to Nose', 'Motor #5: Alternating Hand Movements',\n",
    "           'Motor #6: Sit to Stand', 'Motor #7: Drawing on Paper',\n",
    "           'Motor #8: Typing on a Computer', 'Motor #9: Nuts and Bolts',\n",
    "           'Motor #10: Drinking Water', 'Motor #11: Organizing Folder',\n",
    "           'Motor #12: Folding Towels', 'Motor #13: Sitting', 'Testing Day'}\n",
    "\n"
   ]
  },
  {
   "cell_type": "code",
   "execution_count": null,
   "metadata": {
    "collapsed": true
   },
   "outputs": [],
   "source": [
    "def merge_timestamps(df, duplicates):\n",
    "# Inputs:  df - original annotation dataframe\n",
    "#          duplicates - dataframe of activities to merge\n",
    "#\n",
    "# Outputs: df_new - updated dataframe with merged timestampes per activities\n",
    "    for labels in duplicates:\n",
    "            \n",
    "        \n",
    "    "
   ]
  },
  {
   "cell_type": "code",
   "execution_count": null,
   "metadata": {},
   "outputs": [],
   "source": [
    "def missing_timestamps(df, missing):\n",
    "# Inputs:  df - original annotation dataframe\n",
    "#          missing - dataframe of missing activity labels\n",
    "#\n",
    "# Outputs: df_new - updated dataframe with placeholder activities to indicate\n",
    "#                   the activity was missing\n",
    "    for labels in missing:\n",
    "            "
   ]
  },
  {
   "cell_type": "code",
   "execution_count": null,
   "metadata": {
    "collapsed": true
   },
   "outputs": [],
   "source": [
    "def split_timestamps(df, split):\n",
    "# Inputs:  df - original annotation dataframe\n",
    "#          split - dataframe of activity labels needed to be split\n",
    "#\n",
    "# Outputs: df_new - updated dataframe with split activities\n",
    "    for labels in split:\n",
    "        "
   ]
  }
 ],
 "metadata": {
  "celltoolbar": "Raw Cell Format",
  "kernelspec": {
   "display_name": "Python 3",
   "language": "python",
   "name": "python3"
  },
  "language_info": {
   "codemirror_mode": {
    "name": "ipython",
    "version": 3
   },
   "file_extension": ".py",
   "mimetype": "text/x-python",
   "name": "python",
   "nbconvert_exporter": "python",
   "pygments_lexer": "ipython3",
   "version": "3.6.1"
  }
 },
 "nbformat": 4,
 "nbformat_minor": 2
}
