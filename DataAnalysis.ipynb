{
 "cells": [
  {
   "cell_type": "code",
   "execution_count": 1,
   "metadata": {
    "collapsed": true
   },
   "outputs": [],
   "source": [
    "import os\n",
    "import glob\n",
    "import numpy as np\n",
    "import pandas as pd\n",
    "import seaborn as sns\n",
    "import matplotlib.pyplot as plt\n",
    "import datetime as dt\n",
    "import xlsxwriter as xw\n",
    "\n",
    "%matplotlib inline"
   ]
  },
  {
   "cell_type": "code",
   "execution_count": 2,
   "metadata": {},
   "outputs": [],
   "source": [
    "def process_activities(df):\n",
    "# Helper function for process_annotations\n",
    "# Sorts cycles after splitting raw annotations file into Day 1 and Day 2 data\n",
    "#\n",
    "# Inputs:  df - dataframe to sort annotations\n",
    "#\n",
    "# Outputs: df - processed dataframe\n",
    "    complete = set(np.array(['Heart Rate Variability', 'MDS-UPDRS #1: Finger Tapping',\n",
    "           'MDS-UPDRS #2: Hand Movements', 'MDS-UPDRS #3: Pronation-Supination',\n",
    "           'MDS-UPDRS #4: Toe Tapping', 'MDS-UPDRS #5: Leg Agility',\n",
    "           'MDS-UPDRS #6: Arising from Chair', 'MDS-UPDRS #7: Gait',\n",
    "           'MDS-UPDRS #8: Postural Stability', 'MDS-UPDRS #9: Postural Hand Tremor',\n",
    "           'MDS-UPDRS #10: Kinetic Hand Tremor', 'MDS-UPDRS #11: Rest Tremor',\n",
    "           'Motor #1: Standing', 'Motor #2: Walking', 'Motor #3: Walking while Counting',\n",
    "           'Motor #4: Finger to Nose', 'Motor #5: Alternating Hand Movements',\n",
    "           'Motor #6: Sit to Stand', 'Motor #7: Drawing on Paper',\n",
    "           'Motor #8: Typing on a Computer', 'Motor #9: Nuts and Bolts',\n",
    "           'Motor #10: Drinking Water', 'Motor #11: Organizing Folder',\n",
    "           'Motor #12: Folding Towels', 'Motor #13: Sitting']).flatten())\n",
    "\n",
    "    sorter = set(df.EventType.unique().flatten())\n",
    "    sorterIndex = dict(zip(sorter, range(len(sorter))))\n",
    "\n",
    "    if not (complete ^ sorter):\n",
    "        print('All activities present')\n",
    "    else:\n",
    "        print(complete ^ sorter)\n",
    "        \n",
    "    df['EventType_Rank'] = df['EventType'].map(sorterIndex)\n",
    "    df['Cycle'] = df.groupby('EventType')['Start Timestamp (ms)'].rank(ascending=True).astype(int)\n",
    "    df[df['EventType'].str.contains('MDS-UPDRS')] = df[df['EventType'].str.contains('MDS-UPDRS')].replace(to_replace={'Cycle': {2: 3}})\n",
    "    df[df['EventType'].str.contains('Heart')] = df[df['EventType'].str.contains('Heart')].replace(to_replace={'Cycle': {1: 'NaN', 2: 'NaN'}})\n",
    "    df.sort_values(['EventType', 'EventType_Rank', 'Start Timestamp (ms)'], axis=0)\n",
    "    \n",
    "    return df\n",
    "\n",
    "\n",
    "def process_annotations(path):\n",
    "# Splits raw annotation file into Day 1 and Day 2 data by sheet in the .xlsx file\n",
    "# 'RawAnnotations.xlsx'\n",
    "#\n",
    "# Inputs:  path - filepath of the subject folder containing annotations.csv\n",
    "#\n",
    "# Outputs: d1_df - dataframe containing all Day 1 activities and timestamps\n",
    "#          d2_df - dataframe containing all Day 2 activities and timestamps\n",
    "    df = pd.read_csv(os.path.join(path, 'annotations.csv'))\n",
    "    del df['Timestamp (ms)']\n",
    "    del df['AnnotationId']\n",
    "    del df['AuthorId']\n",
    "    \n",
    "    df['Start Timestamp (ms)'] = pd.to_datetime(df['Start Timestamp (ms)'], unit='ms', utc=True).dt.tz_localize('UTC').dt.tz_convert('US/Central')\n",
    "    df['Stop Timestamp (ms)'] = pd.to_datetime(df['Stop Timestamp (ms)'], unit='ms', utc=True).dt.tz_localize('UTC').dt.tz_convert('US/Central')\n",
    "            \n",
    "    testInfo = df[df.EventType == 'Testing Day'].dropna(how='any', axis=0)\n",
    "    del testInfo['Stop Timestamp (ms)']\n",
    "    del testInfo['EventType']\n",
    "    del df['Value']\n",
    "    \n",
    "    testInfo = testInfo.rename(columns = {'Value':'Day', 'Start Timestamp (ms)':'Date'}).reset_index(drop=True)\n",
    "    testInfo['Date'] = testInfo['Date'].dt.date\n",
    "    \n",
    "    df = df[(df.EventType != 'Testing Day')]\n",
    "\n",
    "    Day1 = testInfo.loc[testInfo['Day'] == 'DAY 1', 'Date']\n",
    "    Day2 = testInfo.loc[testInfo['Day'] == 'DAY 2', 'Date']\n",
    "\n",
    "    d1_df = process_activities(df[df['Start Timestamp (ms)'].dt.date.isin(Day1)].reset_index(drop=True)).set_index('EventType')\n",
    "    d2_df = process_activities(df[df['Start Timestamp (ms)'].dt.date.isin(Day2)].reset_index(drop=True)).set_index('EventType')\n",
    "\n",
    "    file = os.path.join(path, 'RawAnnotations.xlsx')\n",
    "    writer = pd.ExcelWriter(file, options={'remove_timezone': True})\n",
    "    d1_df.to_excel(writer, sheet_name='Day1')\n",
    "    d2_df.to_excel(writer, sheet_name='Day2')\n",
    "    writer.save()\n",
    "    \n",
    "    return d1_df, d2_df"
   ]
  },
  {
   "cell_type": "code",
   "execution_count": 3,
   "metadata": {},
   "outputs": [
    {
     "name": "stdout",
     "output_type": "stream",
     "text": [
      "All activities present\n",
      "All activities present\n"
     ]
    }
   ],
   "source": [
    "path = r'C:\\Users\\adai\\Documents\\PD Study Data\\RawData\\1004'\n",
    "#path2 = r'C:\\Users\\adai\\Documents\\PD Study Data\\RawData'\n",
    "#path3 = r'C:\\Users\\adai\\Documents\\PD Study Data\\RawData\\*\\*'\n",
    "#print(path3)\n",
    "#folderDepth = glob.glob(path3)\n",
    "#dirsDepth = filter(lambda f: os.path.isdir(f), folderDepth)\n",
    "\n",
    "#for folders in folderDepth:\n",
    "    #if not folders.endswith('.csv'):\n",
    "       # print(folders)\n",
    "\n",
    "#testInfo, annotations = process_annotations(path)\n",
    "\n",
    "#accel = xw.Workbook(os.path.join(path, 'AccelData.xlsx'))\n",
    "#gyro = xw.Workbook(os.path.join(path, 'GyroData.xlsx'))\n",
    "#elec = xw.Workbook(os.path.join(path, 'ElecData.xlsx'))\n",
    "\n",
    "day1_df, day2_df = process_annotations(path)\n",
    "\n",
    "#print(day1_df.loc['Motor #2: Walking']['Start Timestamp (ms)'])\n",
    "\n",
    "for root, dirs, files in os.walk(path, topdown=True):\n",
    "    for filenames in files:\n",
    "        if filenames.endswith('accel.csv'):\n",
    "            i = 1\n",
    "            #filename_path = os.path.join(root, filenames)\n",
    "            #print(filenames)\n",
    "            #print(filename_path)\n",
    "        elif filenames.endswith('elec.csv'):\n",
    "            i = 1\n",
    "            #filename_path = os.path.join(root, filenames)\n",
    "            #print(filenames)\n",
    "            #print(filename_path)\n",
    "        elif filenames.endswith('gyro.csv'):\n",
    "            i = 1\n",
    "            #filename_path = os.path.join(root, filenames)\n",
    "            #print(filenames)\n",
    "            #print(filename_path)"
   ]
  },
  {
   "cell_type": "code",
   "execution_count": null,
   "metadata": {
    "collapsed": true
   },
   "outputs": [],
   "source": [
    "def merge_timestamps(df, merge):\n",
    "# Inputs:  df - original annotation dataframe\n",
    "#          merge - dataframe of activities to merge\n",
    "#\n",
    "# Outputs: df_new - updated dataframe with merged timestampes per activities\n",
    "    for labels in merge:\n",
    "            \n",
    "        \n",
    "    "
   ]
  },
  {
   "cell_type": "code",
   "execution_count": null,
   "metadata": {
    "collapsed": true
   },
   "outputs": [],
   "source": [
    "def absent_timestamps(df, absent):\n",
    "# Inputs:  df - original annotation dataframe\n",
    "#          absent - dataframe of absent (missing or skipped) activity labels\n",
    "#\n",
    "# Outputs: df_new - updated dataframe with placeholder activities to indicate\n",
    "#                   the activity was missing\n",
    "    for labels in missing:\n",
    "            "
   ]
  },
  {
   "cell_type": "code",
   "execution_count": null,
   "metadata": {
    "collapsed": true
   },
   "outputs": [],
   "source": [
    "def split_timestamps(df, split):\n",
    "# Inputs:  df - original annotation dataframe\n",
    "#          split - dataframe of activity labels needed to be split\n",
    "#\n",
    "# Outputs: df_new - updated dataframe with split activities\n",
    "    for labels in split:\n",
    "        "
   ]
  }
 ],
 "metadata": {
  "celltoolbar": "Raw Cell Format",
  "kernelspec": {
   "display_name": "Python 3",
   "language": "python",
   "name": "python3"
  },
  "language_info": {
   "codemirror_mode": {
    "name": "ipython",
    "version": 3
   },
   "file_extension": ".py",
   "mimetype": "text/x-python",
   "name": "python",
   "nbconvert_exporter": "python",
   "pygments_lexer": "ipython3",
   "version": "3.6.1"
  }
 },
 "nbformat": 4,
 "nbformat_minor": 2
}
