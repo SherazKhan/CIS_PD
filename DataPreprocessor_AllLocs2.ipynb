{
 "cells": [
  {
   "cell_type": "code",
   "execution_count": 14,
   "metadata": {},
   "outputs": [],
   "source": [
    "import os\n",
    "import platform\n",
    "import numpy as np\n",
    "import pandas as pd\n",
    "import seaborn as sns\n",
    "import matplotlib.pyplot as plt\n",
    "import datetime as dt\n",
    "import pathlib\n",
    "import pickle #to save files\n",
    "from itertools import product\n",
    "from scipy.stats import skew, kurtosis, pearsonr\n",
    "from scipy.signal import butter, welch, filtfilt, resample\n",
    "from scipy.interpolate import interp1d\n",
    "import time\n",
    "import nolds\n",
    "import re\n",
    "import copy\n",
    "\n",
    "from PreprocessFcns import *\n",
    "\n",
    "%matplotlib inline\n",
    "\n",
    "#-- For interactive plots--\n",
    "# from mpl_toolkits.mplot3d import Axes3D\n",
    "# %matplotlib notebook"
   ]
  },
  {
   "cell_type": "code",
   "execution_count": 15,
   "metadata": {},
   "outputs": [],
   "source": [
    "if platform.system() == 'Windows':\n",
    "    if platform.release() == '10':\n",
    "        path = r'D:\\CIS-PD Study\\Subjects' #Windows remote path\n",
    "        folder_path = r'D:\\CIS-PD Study' #generic Windows repo path\n",
    "        dict_path = 'D:\\CIS-PD Study\\Data_dict'\n",
    "        scores_path = r'D:\\CIS-PD Study\\Scores' #remote repo\n",
    "        features_path = r'D:\\CIS-PD Study\\FeatureMatrix' #remote repo\n",
    "        \n",
    "    elif platform.release() == '7':\n",
    "        path = r'X:\\CIS-PD Study\\Subjects'\n",
    "        folder_path = r'X:\\CIS-PD Study'\n",
    "#         dict_path = r'C:\\Users\\adai\\Documents\\Data_dict'\n",
    "        dict_path = r'X:\\CIS-PD Study\\Data_dict'\n",
    "        scores_path = r'X:\\CIS-PD Study\\Scores'\n",
    "        features_path = r'X:\\CIS-PD Study\\FeatureMatrix'\n",
    "    \n",
    "else:\n",
    "    path = '/Volumes/RTO/CIS-PD Study/Subjects/' #Mac\n",
    "    folder_path = '/Volumes/RTO/CIS-PD Study/'\n",
    "    dict_path = '../Data_dict' # Mac local path\n",
    "    scores_path = '../Scores/' # Mac local path\n",
    "    features_path = '../FeatureMatrix' # Mac local path"
   ]
  },
  {
   "cell_type": "code",
   "execution_count": 16,
   "metadata": {},
   "outputs": [],
   "source": [
    "def gen_unimodal_data(input_dict, side, unimodal_acts=None, shift=50):\n",
    "#---------------------------------------------------------------------------------------------------------\n",
    "# Reduces certain activities and subgroup of sensors in act_dict to only include data during active periods\n",
    "# i.e right hand sensor excludes data when left hand is performing task (e.g. supination-pronation)\n",
    "#\n",
    "# Inputs: act_dict - dictionary of both MDS-UPDRS and Motor Assessment activities separated by trial, sensor location, and\n",
    "#                    accelerometer + gyroscope or accelerometer + EMG/ECG data\n",
    "#         unimodal_acts - list of tasks to consider for data reduction, default value is None and uses list generated within\n",
    "#                         function that cycles through all unimodal tasks. Can feed list to only look at specific subset\n",
    "#         shift - shifting value of starting and ending index of reduced data. Default value is 50\n",
    "#\n",
    "# Outputs: act_dict - returns dictionary with appropriate tasks and sensors limited in scope to active data\n",
    "#---------------------------------------------------------------------------------------------------------\n",
    "\n",
    "    output_dict = copy.deepcopy(input_dict)\n",
    "    \n",
    "    if unimodal_acts and unimodal_acts is not list:\n",
    "        \n",
    "        raise Error(\"unimodal_acts must be of type list\")\n",
    "        \n",
    "    elif not unimodal_acts:\n",
    "        unimodal_acts = list(['Motor #4: Finger to Nose', 'Motor #5: Alternating Hand Movements'])\n",
    "      \n",
    "    for acts in unimodal_acts:\n",
    "\n",
    "        for trials in range(0, len(input_dict[acts].keys())):\n",
    "            \n",
    "            for sensors in input_dict[acts][trials].keys():\n",
    "                \n",
    "                for data in input_dict[acts][trials][sensors].keys():\n",
    "\n",
    "                    index = len(input_dict[acts][trials][sensors][data]);\n",
    "                    \n",
    "                    if side == 'right':\n",
    "                    \n",
    "                        temp_data = input_dict[acts][trials][sensors][data][shift:((index//2)-shift)];\n",
    "                        output_dict[acts][trials][sensors][data] = temp_data;\n",
    "                    \n",
    "                    elif side == 'left':\n",
    "                    \n",
    "                        temp_data = input_dict[acts][trials][sensors][data][((index//2)+shift):(index-shift)];\n",
    "                        output_dict[acts][trials][sensors][data] = temp_data;\n",
    "                    \n",
    "    return output_dict"
   ]
  },
  {
   "cell_type": "code",
   "execution_count": 4,
   "metadata": {
    "collapsed": true
   },
   "outputs": [],
   "source": [
    "#save corrected version of motor scores.xls \n",
    "mot_scores = pd.read_excel(os.path.join(scores_path, 'MotorTasks.xls'))\n",
    "#fix error in original cols labels\n",
    "mot_scores.columns.values[75] = 'alternating left hand movements tremor right upper limb'\n",
    "#remove words:(Qxx) and 'rating' from each column for readability\n",
    "cols= mot_scores.columns\n",
    "cols = cols.tolist()\n",
    "colsnew = [x.split('(')[0] for x in cols]\n",
    "colsnew = [x.strip() for x in colsnew] #remove whitspace\n",
    "colsnew = [x.split('rating')[0] for x in colsnew]\n",
    "colsnew = [x.strip() for x in colsnew]\n",
    "colsnew = [x.lower() for x in colsnew] #make all lower case \n",
    "colsnew = [x.replace('\\x97',' ') for x in colsnew]    \n",
    "#simplify notation\n",
    "for i in range(len(colsnew)):\n",
    "    x = colsnew[i]\n",
    "    if x.find('finger to nose')>-1:\n",
    "        colsnew[i] = x.replace(' hand','')\n",
    "    if x.find('alternating')>-1:\n",
    "        colsnew[i] = x.replace(' hand movements','')\n",
    "c = dict(zip(cols,colsnew))\n",
    "mot_scores = mot_scores.rename(index=str, columns=c)\n",
    "#change 1 month label to 4 wks for proper sorting (to incorporate in xls file)\n",
    "mot_scores.loc[mot_scores['visit']=='1 Month','visit']='4 Weeks'\n",
    "mot_scores.to_excel(os.path.join(scores_path, 'Scores.xls')) #note that timestamps are not properly converted"
   ]
  },
  {
   "cell_type": "code",
   "execution_count": 18,
   "metadata": {},
   "outputs": [],
   "source": [
    "#aggreagate metadata and rawdata from all sensor (accel,gyro) locations\n",
    "#startTS and endTS specificies fraction of raw sensors data to use to generate clips\n",
    "def DataAggregator_allLocs(tasks,task_scores_all,clipsize=5000,overlap=0,locations=[],namesuffix=None,verbose=False,resample=True):\n",
    "\n",
    "# task_scores_all=task_scores\n",
    "# clipsize=5000\n",
    "# overlap=0\n",
    "# verbose=False\n",
    "\n",
    "    t0=time.time()\n",
    "    #load subject scores (std motor assessments)\n",
    "    mot_scores = pd.read_excel(os.path.join(scores_path, 'Scores.xls'))\n",
    "\n",
    "    #load subjects features data and assemble with scores/subj metadata\n",
    "    d = os.listdir(dict_path)\n",
    "    fnames = [filename for filename in d if filename.startswith('1')]\n",
    "#     fnames=[fnames[0]] #test only on 1st subject (uncomment TO DEBUG)\n",
    "\n",
    "    clip_data = pd.DataFrame() #the table with features and metadata\n",
    "\n",
    "    #loop through subjects\n",
    "    print(fnames)\n",
    "    for subj_filename in fnames:\n",
    "\n",
    "        #load current subject sensor data\n",
    "        subj = int(subj_filename[:4]) #subj code\n",
    "        f = open(os.path.join(dict_path,subj_filename),'rb')    \n",
    "        act_dict_full = pickle.load(f)\n",
    "        f.close()\n",
    "        print('\\nLoaded Subj %s sensor data'%subj)\n",
    "            \n",
    "        T = zip(tasks,task_scores_all) #make iterator\n",
    "\n",
    "        act_dict_left = gen_unimodal_data(act_dict_full, side='left')\n",
    "        act_dict_right = gen_unimodal_data(act_dict_full, side='right')\n",
    "\n",
    "        #loop through tasks for current subject\n",
    "        for task,task_scores in T: \n",
    "\n",
    "            print(task)\n",
    "            ts = task_scores #copy variable\n",
    "\n",
    "            for side in ['left','right']:\n",
    "\n",
    "                if side == 'left':\n",
    "                    act_dict = act_dict_left\n",
    "                elif side == 'right':\n",
    "                    act_dict = act_dict_right\n",
    "                else:\n",
    "                    act_dict = act_dict_full\n",
    "\n",
    "                #****EXTRACT SCORES DATA FOR CURRENT TASK AND SIDE***\n",
    "                #deal with exception for alternating and finger to nose (unilateral tasks)\n",
    "                if (task_scores.find('alternating') > -1) | (task_scores.find('finger to nose') > -1):\n",
    "                    task_scores=ts+ ' ' + side\n",
    "                print('Aggregating scores for %s side'%side)\n",
    "                #extract scores for corresponding task, subject and side\n",
    "                subj_score = mot_scores.loc[mot_scores['subject']==subj,['subject','visit',\n",
    "                                            task_scores+ ' ' + 'bradykinesia ' + side + ' upper limb',\n",
    "                                            task_scores+ ' ' + 'tremor ' + side + ' upper limb',\n",
    "                                            task_scores+ ' ' + 'dyskinesia ' + side + ' upper limb']]\n",
    "                #rename cols\n",
    "                subj_score = subj_score.rename(index=str,\n",
    "                                               columns={subj_score.columns[2]:'Bradykinesia',subj_score.columns[3]:'Tremor',\n",
    "                                                        subj_score.columns[4]:'Dyskinesia'})\n",
    "                #reindex score table\n",
    "                subj_score.index = range(len(subj_score))\n",
    "\n",
    "\n",
    "    #                 print(subj_score.head())\n",
    "\n",
    "                #Check that # of recordings and # of scored visits are equal\n",
    "                Visits = act_dict[task].keys()\n",
    "                n_rec = len(Visits) #of sensor recordings\n",
    "                n_scores = len(subj_score)  #of visits in Database\n",
    "                if n_scores != n_rec:\n",
    "                    print('WARNING # of recordings does not match # of scored visits - matching first %d recs!'%min(n_scores,n_rec))\n",
    "                    Visits = list(act_dict[task].keys())[0:min(n_scores,n_rec)]\n",
    "\n",
    "                if len(subj_score) < 1:\n",
    "                    print('no scores data for subject %d -- skipping..'%subj)\n",
    "                    continue\n",
    "\n",
    "                #****EXTRACT RAW CLIPS FROM ALL LOCATIONS FOR CURRENT VISIT+SIDE AND APPEND***\n",
    "                for visit in Visits:\n",
    "    #                 print(visit,subj_score.iloc[visit]['visit'])\n",
    "    \n",
    "\n",
    "                    clip_data_visit=pd.DataFrame() #storing all clips from current visit and side\n",
    "        \n",
    "                    #choose to extract from all locations or only the ones contained in locations\n",
    "                    if len(locations) == 0: #all locations\n",
    "                        locs = act_dict[task][visit].keys()\n",
    "                        locs = [i for i in locs if (i.find(side)>0)] #choose senors on current side\n",
    "                        locs.append('sacrum'); locs.append('medial_chest')\n",
    "                    else: #selected locations \n",
    "                        locs = [i+side for i in locations if (i != 'sacrum') & (i != 'medial_chest')] #choose senors on current side \n",
    "                        if 'sacrum' in locations:\n",
    "                            locs.append('sacrum')\n",
    "                        if 'medial_chest' in locations:\n",
    "                            locs.append('medial_chest')\n",
    "                        \n",
    "                    for location in locs:\n",
    "                        \n",
    "                        for s in ['accel','gyro']:\n",
    "                            \n",
    "                            if verbose:\n",
    "                                print(task,' sensortype = %s - visit %d'%(s,visit))\n",
    "                            #create clips and store in a list\n",
    "                            rawdata = act_dict[task][visit][location][s].copy()\n",
    "\n",
    "                            if rawdata.empty is True: #skip if no data for current sensor\n",
    "                                continue\n",
    "                                \n",
    "                            #by default filters accelerometer data only\n",
    "                            #HP filter 0.5Hz (remove gravity)\n",
    "#                             filterdata(act_dict,task,location,visit)\n",
    "                            #Lowpass filter (Bradykinesia)\n",
    "#                                 filterdata(act_dict,task,location,visit,ftype='lowpass',cutoff=3)                                \n",
    "                            #BPass filter (Tremor)\n",
    "#                                 filterdata(act_dict,task,location,visit,ftype='bandpass',cutoff_bp=[3,8])\n",
    "\n",
    "                            rawdata = act_dict[task][visit][location][s].copy()\n",
    "                            #reindex time (relative to start)\n",
    "                            idx = rawdata.index\n",
    "                            idx = idx-idx[0]\n",
    "                            rawdata.index = idx\n",
    "                            #create clips data\n",
    "                            deltat = np.median(np.diff(rawdata.index))\n",
    "                            clips = pd.DataFrame()  \n",
    "                            #take clips\n",
    "                            \n",
    "                            if location.find(side)>-1:\n",
    "                                location_name = re.sub(side, '', location) #column name dataframe (remove side info)\n",
    "                            else:\n",
    "                                location_name = location\n",
    "                                \n",
    "                            idx = np.arange(0,rawdata.index[-1],clipsize*(1-overlap))\n",
    "                            for i in idx:\n",
    "                                c = (rawdata[(rawdata.index>=i) & (rawdata.index<i+clipsize)]).copy()\n",
    "                                #add time information to clips [seconds]\n",
    "                                c['Time']=(c.index.values/1000)-(c.index.values/1000)[0]\n",
    "                                \n",
    "                                #resample to equal number of samples (313)\n",
    "                                if resample:\n",
    "                                    numsamples = int(np.ceil(62.5*clipsize/1000)) #number of new samples\n",
    "                                    #resample if clip has enough samples\n",
    "                                    if  (( (location_name != 'medial_chest') | (location_name[:-1] != 'flexor_digitorum') ) & (len(c) > 290))  | (((location_name == 'medial_chest') | (location_name[:-1] == 'flexor_digitorum')) & (len(c) > 144)):\n",
    "\n",
    "                                        datares = np.empty((numsamples,4))\n",
    "                                        t = c['Time'].values #time vector\n",
    "                                        tnew = np.linspace(0,t[-1],numsamples) #!assume end of clip coincides with clip length (5 secs)\n",
    "                                        datares[:,-1] = tnew\n",
    "                                        for a in range(3):\n",
    "                                            f=interp1d(t,c.iloc[:,a],kind='linear')\n",
    "                                            datares[:,a] = f(tnew)\n",
    "                                    else:\n",
    "#                                         print('%s %s,nan inserted'%(location_name,len(c)))\n",
    "                                        datares = np.nan*np.empty(1)\n",
    "#                                         datares = np.array([]) #discard clip (empty array)\n",
    "                                        \n",
    "                                            \n",
    "                                    df = pd.DataFrame({location_name+'_'+s:[datares]},index=[visit])\n",
    "\n",
    "                                else: #do not resample\n",
    "                                    df = pd.DataFrame({location_name+'_'+s:[c.values]},index=[visit])\n",
    "                                \n",
    "                                clips=pd.concat((clips,df)) #concatenate clips from current visit\n",
    "\n",
    "                            nc = len(clips)\n",
    "                            if (nc < clip_data_visit.shape[0]) & (clip_data_visit.empty is False):\n",
    "                                print(visit,location+s,len(clips))\n",
    "                                nd = clip_data_visit.shape[0]-nc\n",
    "                                print('current sensor has less clips - adding %d empties'%nd)\n",
    "                                clips=pd.concat((clips,pd.DataFrame({location_name+'_'+s:np.nan*np.empty(nd)},\n",
    "                                                                    index=[np.ones(nd)*visit])))\n",
    "                            if (nc > clip_data_visit.shape[0]) & (clip_data_visit.empty is False):\n",
    "                                print(visit,location+s,len(clips))\n",
    "                                nd = nc-clip_data_visit.shape[0]\n",
    "                                print('current sensor has more clips - discarding last %d clips'%nd)\n",
    "                                clips = clips.iloc[:-nd]\n",
    "\n",
    "                            clips.reset_index(inplace=True, drop=True)  # temp fix unique indexing bug from gen_unimodal_data\n",
    "                                                                        # will look into, added 3/19/2018\n",
    "\n",
    "                            clip_data_visit=pd.concat((clip_data_visit,clips),axis=1) #concatenate clips across locations\n",
    "\n",
    "                    #concatenates metadata to all clips for current visit\n",
    "                    clip_data_visit['Subject']=subj\n",
    "                    clip_data_visit['Task']=task\n",
    "                    clip_data_visit['Side']=side\n",
    "                    clip_data_visit['Visit']=subj_score.iloc[visit]['visit']\n",
    "                    #scores\n",
    "                    clip_data_visit['Bradykinesia'] = subj_score['Bradykinesia'][visit]\n",
    "                    clip_data_visit['Tremor'] = subj_score['Tremor'][visit]\n",
    "                    clip_data_visit['Dyskinesia'] = subj_score['Dyskinesia'][visit]\n",
    "\n",
    "                    clip_data = pd.concat((clip_data,clip_data_visit)) #concatenate clips across visits (index) \n",
    "\n",
    "\n",
    "    #SAVING DATA \n",
    "    metadata = ['Subject','Visit','Side','Task','Tremor','Bradykinesia','Dyskinesia']\n",
    "    cols = clip_data.columns.tolist()\n",
    "    cols = np.setdiff1d(cols,metadata).tolist()\n",
    "    clip_data = clip_data[metadata+cols]\n",
    "    # clip_data = clip_data[cols]\n",
    "    # clip_data = clip_data[metadata+list(clip_data.columns[:10].values)]    \n",
    "    print('\\nClip Data matrix generated')\n",
    "    print(clip_data.shape)\n",
    "\n",
    "    if namesuffix == None:\n",
    "        namesuffix=''\n",
    "    #save as hdf5 (not suitable for large dataframes)\n",
    "#     saved_filename = 'DataRaw_AllLocs'+namesuffix+'.hdf5'\n",
    "#     clip_data.to_hdf(os.path.join(features_path,saved_filename),'w')\n",
    "    \n",
    "    #save data as dictionary pickle\n",
    "    clip_data=clip_data.reset_index() #to save dictionary with proper indices\n",
    "    clip_dict = clip_data.to_dict()    \n",
    "    saved_filename = 'DataRaw_AllLocs'+namesuffix+'.pkl'\n",
    "    f = open(os.path.join(features_path,saved_filename),'wb')\n",
    "    pickle.dump(clip_dict,f)\n",
    "    f.close()\n",
    "    \n",
    "    print('Data matrix saved in ' + str(os.path.join(features_path,saved_filename)))\n",
    "    t = time.time()\n",
    "    eltime = (t-t0)/60\n",
    "    print('Elapsed time = %.2f min'%eltime)\n",
    "\n",
    "    return clip_data,clip_dict\n"
   ]
  },
  {
   "cell_type": "code",
   "execution_count": 20,
   "metadata": {},
   "outputs": [],
   "source": [
    "tasks = ['Motor #2: Walking','Motor #3: Walking while Counting','Motor #4: Finger to Nose',\n",
    "         'Motor #5: Alternating Hand Movements','Motor #6: Sit to Stand','Motor #7: Drawing on Paper',\n",
    "         'Motor #8: Typing on a Computer','Motor #9: Nuts and Bolts','Motor #10: Drinking Water',\n",
    "         'Motor #11: Organizing Folder','Motor #12: Folding Towels','Motor #1: Standing','Motor #13: Sitting']\n",
    "\n",
    "task_scores = ['walking','walking while counting','finger to nose','alternating','sit to stand','drawing on a paper',\n",
    "               'typing on a computer keyboard','assembling nuts and bolts','taking a glass of water and drinking',\n",
    "               'organizing sheets in a folder','folding towels','standing','sitting'] #name of task in scores sheet\n",
    "\n",
    "locs = ['dorsal_hand_','anterior_thigh_','sacrum'] #sensor location"
   ]
  },
  {
   "cell_type": "code",
   "execution_count": 50,
   "metadata": {
    "collapsed": true
   },
   "outputs": [],
   "source": [
    "tasks = ['Motor #4: Finger to Nose']\n",
    "task_scores = ['finger to nose']\n",
    "locs =[] #to generate clips from all locations"
   ]
  },
  {
   "cell_type": "code",
   "execution_count": 21,
   "metadata": {
    "scrolled": true
   },
   "outputs": [
    {
     "name": "stdout",
     "output_type": "stream",
     "text": [
      "['1004dict.pkl', '1016dict.pkl', '1018dict.pkl', '1019dict.pkl', '1020dict.pkl', '1024dict.pkl', '1029dict.pkl', '1030dict.pkl', '1032dict.pkl', '1038dict.pkl', '1044dict.pkl', '1046dict.pkl', '1047dict.pkl', '1049dict.pkl', '1051dict.pkl', '1052dict.pkl', '1053dict.pkl', '1054dict.pkl', '1055dict.pkl', '1056dict.pkl']\n",
      "\n",
      "Loaded Subj 1004 sensor data\n",
      "Motor #2: Walking\n",
      "Aggregating scores for left side\n",
      "Aggregating scores for right side\n",
      "Motor #3: Walking while Counting\n",
      "Aggregating scores for left side\n"
     ]
    },
    {
     "ename": "KeyboardInterrupt",
     "evalue": "",
     "output_type": "error",
     "traceback": [
      "\u001b[1;31m---------------------------------------------------------------------------\u001b[0m",
      "\u001b[1;31mKeyboardInterrupt\u001b[0m                         Traceback (most recent call last)",
      "\u001b[1;32m<ipython-input-21-14d1b2f7e8ac>\u001b[0m in \u001b[0;36m<module>\u001b[1;34m()\u001b[0m\n\u001b[1;32m----> 1\u001b[1;33m \u001b[0mdata\u001b[0m \u001b[1;33m=\u001b[0m \u001b[0mDataAggregator_allLocs\u001b[0m\u001b[1;33m(\u001b[0m\u001b[0mtasks\u001b[0m\u001b[1;33m,\u001b[0m\u001b[0mtask_scores\u001b[0m\u001b[1;33m,\u001b[0m\u001b[0mlocations\u001b[0m\u001b[1;33m=\u001b[0m\u001b[0mlocs\u001b[0m\u001b[1;33m,\u001b[0m\u001b[0moverlap\u001b[0m\u001b[1;33m=\u001b[0m\u001b[1;36m0.5\u001b[0m\u001b[1;33m,\u001b[0m\u001b[0mnamesuffix\u001b[0m\u001b[1;33m=\u001b[0m\u001b[1;34m'Unfiltered'\u001b[0m\u001b[1;33m)\u001b[0m\u001b[1;33m\u001b[0m\u001b[0m\n\u001b[0m",
      "\u001b[1;32m<ipython-input-18-13d918c7e2dc>\u001b[0m in \u001b[0;36mDataAggregator_allLocs\u001b[1;34m(tasks, task_scores_all, clipsize, overlap, locations, namesuffix, verbose, resample)\u001b[0m\n\u001b[0;32m    153\u001b[0m                                         \u001b[0mdatares\u001b[0m\u001b[1;33m[\u001b[0m\u001b[1;33m:\u001b[0m\u001b[1;33m,\u001b[0m\u001b[1;33m-\u001b[0m\u001b[1;36m1\u001b[0m\u001b[1;33m]\u001b[0m \u001b[1;33m=\u001b[0m \u001b[0mtnew\u001b[0m\u001b[1;33m\u001b[0m\u001b[0m\n\u001b[0;32m    154\u001b[0m                                         \u001b[1;32mfor\u001b[0m \u001b[0ma\u001b[0m \u001b[1;32min\u001b[0m \u001b[0mrange\u001b[0m\u001b[1;33m(\u001b[0m\u001b[1;36m3\u001b[0m\u001b[1;33m)\u001b[0m\u001b[1;33m:\u001b[0m\u001b[1;33m\u001b[0m\u001b[0m\n\u001b[1;32m--> 155\u001b[1;33m                                             \u001b[0mf\u001b[0m\u001b[1;33m=\u001b[0m\u001b[0minterp1d\u001b[0m\u001b[1;33m(\u001b[0m\u001b[0mt\u001b[0m\u001b[1;33m,\u001b[0m\u001b[0mc\u001b[0m\u001b[1;33m.\u001b[0m\u001b[0miloc\u001b[0m\u001b[1;33m[\u001b[0m\u001b[1;33m:\u001b[0m\u001b[1;33m,\u001b[0m\u001b[0ma\u001b[0m\u001b[1;33m]\u001b[0m\u001b[1;33m,\u001b[0m\u001b[0mkind\u001b[0m\u001b[1;33m=\u001b[0m\u001b[1;34m'linear'\u001b[0m\u001b[1;33m)\u001b[0m\u001b[1;33m\u001b[0m\u001b[0m\n\u001b[0m\u001b[0;32m    156\u001b[0m                                             \u001b[0mdatares\u001b[0m\u001b[1;33m[\u001b[0m\u001b[1;33m:\u001b[0m\u001b[1;33m,\u001b[0m\u001b[0ma\u001b[0m\u001b[1;33m]\u001b[0m \u001b[1;33m=\u001b[0m \u001b[0mf\u001b[0m\u001b[1;33m(\u001b[0m\u001b[0mtnew\u001b[0m\u001b[1;33m)\u001b[0m\u001b[1;33m\u001b[0m\u001b[0m\n\u001b[0;32m    157\u001b[0m                                     \u001b[1;32melse\u001b[0m\u001b[1;33m:\u001b[0m\u001b[1;33m\u001b[0m\u001b[0m\n",
      "\u001b[1;32m~\\Anaconda3\\lib\\site-packages\\scipy\\interpolate\\interpolate.py\u001b[0m in \u001b[0;36m__init__\u001b[1;34m(self, x, y, kind, axis, copy, bounds_error, fill_value, assume_sorted)\u001b[0m\n\u001b[0;32m    448\u001b[0m \u001b[1;33m\u001b[0m\u001b[0m\n\u001b[0;32m    449\u001b[0m         \u001b[1;32mif\u001b[0m \u001b[1;32mnot\u001b[0m \u001b[0massume_sorted\u001b[0m\u001b[1;33m:\u001b[0m\u001b[1;33m\u001b[0m\u001b[0m\n\u001b[1;32m--> 450\u001b[1;33m             \u001b[0mind\u001b[0m \u001b[1;33m=\u001b[0m \u001b[0mnp\u001b[0m\u001b[1;33m.\u001b[0m\u001b[0margsort\u001b[0m\u001b[1;33m(\u001b[0m\u001b[0mx\u001b[0m\u001b[1;33m)\u001b[0m\u001b[1;33m\u001b[0m\u001b[0m\n\u001b[0m\u001b[0;32m    451\u001b[0m             \u001b[0mx\u001b[0m \u001b[1;33m=\u001b[0m \u001b[0mx\u001b[0m\u001b[1;33m[\u001b[0m\u001b[0mind\u001b[0m\u001b[1;33m]\u001b[0m\u001b[1;33m\u001b[0m\u001b[0m\n\u001b[0;32m    452\u001b[0m             \u001b[0my\u001b[0m \u001b[1;33m=\u001b[0m \u001b[0mnp\u001b[0m\u001b[1;33m.\u001b[0m\u001b[0mtake\u001b[0m\u001b[1;33m(\u001b[0m\u001b[0my\u001b[0m\u001b[1;33m,\u001b[0m \u001b[0mind\u001b[0m\u001b[1;33m,\u001b[0m \u001b[0maxis\u001b[0m\u001b[1;33m=\u001b[0m\u001b[0maxis\u001b[0m\u001b[1;33m)\u001b[0m\u001b[1;33m\u001b[0m\u001b[0m\n",
      "\u001b[1;32m~\\Anaconda3\\lib\\site-packages\\numpy\\core\\fromnumeric.py\u001b[0m in \u001b[0;36margsort\u001b[1;34m(a, axis, kind, order)\u001b[0m\n\u001b[0;32m    938\u001b[0m \u001b[1;33m\u001b[0m\u001b[0m\n\u001b[0;32m    939\u001b[0m     \"\"\"\n\u001b[1;32m--> 940\u001b[1;33m     \u001b[1;32mreturn\u001b[0m \u001b[0m_wrapfunc\u001b[0m\u001b[1;33m(\u001b[0m\u001b[0ma\u001b[0m\u001b[1;33m,\u001b[0m \u001b[1;34m'argsort'\u001b[0m\u001b[1;33m,\u001b[0m \u001b[0maxis\u001b[0m\u001b[1;33m=\u001b[0m\u001b[0maxis\u001b[0m\u001b[1;33m,\u001b[0m \u001b[0mkind\u001b[0m\u001b[1;33m=\u001b[0m\u001b[0mkind\u001b[0m\u001b[1;33m,\u001b[0m \u001b[0morder\u001b[0m\u001b[1;33m=\u001b[0m\u001b[0morder\u001b[0m\u001b[1;33m)\u001b[0m\u001b[1;33m\u001b[0m\u001b[0m\n\u001b[0m\u001b[0;32m    941\u001b[0m \u001b[1;33m\u001b[0m\u001b[0m\n\u001b[0;32m    942\u001b[0m \u001b[1;33m\u001b[0m\u001b[0m\n",
      "\u001b[1;32m~\\Anaconda3\\lib\\site-packages\\numpy\\core\\fromnumeric.py\u001b[0m in \u001b[0;36m_wrapfunc\u001b[1;34m(obj, method, *args, **kwds)\u001b[0m\n\u001b[0;32m     50\u001b[0m \u001b[1;32mdef\u001b[0m \u001b[0m_wrapfunc\u001b[0m\u001b[1;33m(\u001b[0m\u001b[0mobj\u001b[0m\u001b[1;33m,\u001b[0m \u001b[0mmethod\u001b[0m\u001b[1;33m,\u001b[0m \u001b[1;33m*\u001b[0m\u001b[0margs\u001b[0m\u001b[1;33m,\u001b[0m \u001b[1;33m**\u001b[0m\u001b[0mkwds\u001b[0m\u001b[1;33m)\u001b[0m\u001b[1;33m:\u001b[0m\u001b[1;33m\u001b[0m\u001b[0m\n\u001b[0;32m     51\u001b[0m     \u001b[1;32mtry\u001b[0m\u001b[1;33m:\u001b[0m\u001b[1;33m\u001b[0m\u001b[0m\n\u001b[1;32m---> 52\u001b[1;33m         \u001b[1;32mreturn\u001b[0m \u001b[0mgetattr\u001b[0m\u001b[1;33m(\u001b[0m\u001b[0mobj\u001b[0m\u001b[1;33m,\u001b[0m \u001b[0mmethod\u001b[0m\u001b[1;33m)\u001b[0m\u001b[1;33m(\u001b[0m\u001b[1;33m*\u001b[0m\u001b[0margs\u001b[0m\u001b[1;33m,\u001b[0m \u001b[1;33m**\u001b[0m\u001b[0mkwds\u001b[0m\u001b[1;33m)\u001b[0m\u001b[1;33m\u001b[0m\u001b[0m\n\u001b[0m\u001b[0;32m     53\u001b[0m \u001b[1;33m\u001b[0m\u001b[0m\n\u001b[0;32m     54\u001b[0m     \u001b[1;31m# An AttributeError occurs if the object does not have\u001b[0m\u001b[1;33m\u001b[0m\u001b[1;33m\u001b[0m\u001b[0m\n",
      "\u001b[1;31mKeyboardInterrupt\u001b[0m: "
     ]
    }
   ],
   "source": [
    "data = DataAggregator_allLocs(tasks,task_scores,locations=locs,overlap=0.5,namesuffix='Unfiltered')"
   ]
  },
  {
   "cell_type": "code",
   "execution_count": 9,
   "metadata": {},
   "outputs": [
    {
     "data": {
      "text/plain": [
       "48579"
      ]
     },
     "execution_count": 9,
     "metadata": {},
     "output_type": "execute_result"
    }
   ],
   "source": [
    "len(data)"
   ]
  },
  {
   "cell_type": "code",
   "execution_count": null,
   "metadata": {},
   "outputs": [],
   "source": [
    "# for loading dict, converting to df with metadata\n",
    "# f = open('../FeatureMatrix/DataRaw_AllLocsResample.pkl','rb')\n",
    "# data2 = pickle.load(f)\n",
    "# f.close()\n",
    "# metadata = ['index','Subject','Visit','Side','Task','Tremor','Bradykinesia','Dyskinesia']\n",
    "# cols = data2.columns.tolist()\n",
    "# cols = np.setdiff1d(cols,metadata).tolist()\n",
    "# data2 = data2[metadata+cols]"
   ]
  },
  {
   "cell_type": "code",
   "execution_count": 10,
   "metadata": {},
   "outputs": [],
   "source": [
    "data = pd.read_pickle(os.path.join(features_path,'DataRaw_AllLocsResample.pkl'))"
   ]
  },
  {
   "cell_type": "code",
   "execution_count": 11,
   "metadata": {},
   "outputs": [
    {
     "data": {
      "text/html": [
       "<div>\n",
       "<style scoped>\n",
       "    .dataframe tbody tr th:only-of-type {\n",
       "        vertical-align: middle;\n",
       "    }\n",
       "\n",
       "    .dataframe tbody tr th {\n",
       "        vertical-align: top;\n",
       "    }\n",
       "\n",
       "    .dataframe thead th {\n",
       "        text-align: right;\n",
       "    }\n",
       "</style>\n",
       "<table border=\"1\" class=\"dataframe\">\n",
       "  <thead>\n",
       "    <tr style=\"text-align: right;\">\n",
       "      <th></th>\n",
       "      <th>Subject</th>\n",
       "      <th>Visit</th>\n",
       "      <th>Side</th>\n",
       "      <th>Task</th>\n",
       "      <th>Tremor</th>\n",
       "      <th>Bradykinesia</th>\n",
       "      <th>Dyskinesia</th>\n",
       "      <th>anterior_thigh__accel</th>\n",
       "      <th>anterior_thigh__gyro</th>\n",
       "      <th>dorsal_hand__accel</th>\n",
       "      <th>dorsal_hand__gyro</th>\n",
       "      <th>sacrum_accel</th>\n",
       "      <th>sacrum_gyro</th>\n",
       "    </tr>\n",
       "  </thead>\n",
       "  <tbody>\n",
       "    <tr>\n",
       "      <th>0</th>\n",
       "      <td>1004</td>\n",
       "      <td>2 Weeks: Time 0</td>\n",
       "      <td>left</td>\n",
       "      <td>Motor #2: Walking</td>\n",
       "      <td>0.0</td>\n",
       "      <td>1.0</td>\n",
       "      <td>0.0</td>\n",
       "      <td>[[0.015140164229147435, 0.09125127414187245, 0...</td>\n",
       "      <td>[[78.5229266803999, -34.94316014343485, -75.77...</td>\n",
       "      <td>[[-0.015859067050104605, -0.031970438023114146...</td>\n",
       "      <td>[[2.410925459678083, 28.71747920958251, 1.8005...</td>\n",
       "      <td>[[0.007898593153291361, 0.00678187379336016, -...</td>\n",
       "      <td>[[-7.660028992141633, -6.195162890058782, 2.47...</td>\n",
       "    </tr>\n",
       "    <tr>\n",
       "      <th>1</th>\n",
       "      <td>1004</td>\n",
       "      <td>2 Weeks: Time 0</td>\n",
       "      <td>left</td>\n",
       "      <td>Motor #2: Walking</td>\n",
       "      <td>0.0</td>\n",
       "      <td>1.0</td>\n",
       "      <td>0.0</td>\n",
       "      <td>[[-0.3806930569670697, 0.6838462262489783, 0.1...</td>\n",
       "      <td>[[-121.79751277943092, -0.6408789196611906, -1...</td>\n",
       "      <td>[[-0.06425506990178886, -0.07859306651980949, ...</td>\n",
       "      <td>[[-54.41367208361953, 12.970168612191856, 110....</td>\n",
       "      <td>[[0.05902357568430044, 0.2458570946481517, 0.1...</td>\n",
       "      <td>[[-5.645838101777599, 17.975127794308268, 9.36...</td>\n",
       "    </tr>\n",
       "    <tr>\n",
       "      <th>2</th>\n",
       "      <td>1004</td>\n",
       "      <td>2 Weeks: Time 0</td>\n",
       "      <td>left</td>\n",
       "      <td>Motor #2: Walking</td>\n",
       "      <td>0.0</td>\n",
       "      <td>1.0</td>\n",
       "      <td>0.0</td>\n",
       "      <td>[[-0.2732291564669609, 0.6298778421184241, -0....</td>\n",
       "      <td>[[458.8998245212483, -81.57473105973895, -65.3...</td>\n",
       "      <td>[[0.2325753850152822, 0.13933967039797374, 0.1...</td>\n",
       "      <td>[[-45.25825894560171, 7.660028992141633, 38.78...</td>\n",
       "      <td>[[0.03456002988070333, 0.07714713579397142, 0....</td>\n",
       "      <td>[[-2.4719615472647547, 31.219958800640825, -18...</td>\n",
       "    </tr>\n",
       "    <tr>\n",
       "      <th>3</th>\n",
       "      <td>1004</td>\n",
       "      <td>2 Weeks: Time 0</td>\n",
       "      <td>left</td>\n",
       "      <td>Motor #2: Walking</td>\n",
       "      <td>0.0</td>\n",
       "      <td>1.0</td>\n",
       "      <td>0.0</td>\n",
       "      <td>[[0.01841745040861887, 0.1155331246873035, -0....</td>\n",
       "      <td>[[-37.2625314717327, 6.256198977645455, 16.388...</td>\n",
       "      <td>[[0.03136723829891441, -0.0505767582769632, 0....</td>\n",
       "      <td>[[-10.711833371480909, -65.64431219958806, 15....</td>\n",
       "      <td>[[0.025640670942468885, 0.05803182937743645, 0...</td>\n",
       "      <td>[[-2.777141985198796, 66.25467307545614, 25.72...</td>\n",
       "    </tr>\n",
       "    <tr>\n",
       "      <th>4</th>\n",
       "      <td>1004</td>\n",
       "      <td>2 Weeks: Time 0</td>\n",
       "      <td>left</td>\n",
       "      <td>Motor #2: Walking</td>\n",
       "      <td>0.0</td>\n",
       "      <td>1.0</td>\n",
       "      <td>0.0</td>\n",
       "      <td>[[0.18770204609670904, -0.02498542395414173, 0...</td>\n",
       "      <td>[[86.39658197909512, -15.533684290836847, 109....</td>\n",
       "      <td>[[0.03801377922804165, 0.03617817081373831, -0...</td>\n",
       "      <td>[[62.34836346990142, 23.95666437781324, -94.88...</td>\n",
       "      <td>[[0.07941650588237587, -0.3029917175421306, -0...</td>\n",
       "      <td>[[-5.3406576638437855, 4.6692607003890325, 21....</td>\n",
       "    </tr>\n",
       "  </tbody>\n",
       "</table>\n",
       "</div>"
      ],
      "text/plain": [
       "   Subject            Visit  Side               Task  Tremor  Bradykinesia  \\\n",
       "0     1004  2 Weeks: Time 0  left  Motor #2: Walking     0.0           1.0   \n",
       "1     1004  2 Weeks: Time 0  left  Motor #2: Walking     0.0           1.0   \n",
       "2     1004  2 Weeks: Time 0  left  Motor #2: Walking     0.0           1.0   \n",
       "3     1004  2 Weeks: Time 0  left  Motor #2: Walking     0.0           1.0   \n",
       "4     1004  2 Weeks: Time 0  left  Motor #2: Walking     0.0           1.0   \n",
       "\n",
       "   Dyskinesia                              anterior_thigh__accel  \\\n",
       "0         0.0  [[0.015140164229147435, 0.09125127414187245, 0...   \n",
       "1         0.0  [[-0.3806930569670697, 0.6838462262489783, 0.1...   \n",
       "2         0.0  [[-0.2732291564669609, 0.6298778421184241, -0....   \n",
       "3         0.0  [[0.01841745040861887, 0.1155331246873035, -0....   \n",
       "4         0.0  [[0.18770204609670904, -0.02498542395414173, 0...   \n",
       "\n",
       "                                anterior_thigh__gyro  \\\n",
       "0  [[78.5229266803999, -34.94316014343485, -75.77...   \n",
       "1  [[-121.79751277943092, -0.6408789196611906, -1...   \n",
       "2  [[458.8998245212483, -81.57473105973895, -65.3...   \n",
       "3  [[-37.2625314717327, 6.256198977645455, 16.388...   \n",
       "4  [[86.39658197909512, -15.533684290836847, 109....   \n",
       "\n",
       "                                  dorsal_hand__accel  \\\n",
       "0  [[-0.015859067050104605, -0.031970438023114146...   \n",
       "1  [[-0.06425506990178886, -0.07859306651980949, ...   \n",
       "2  [[0.2325753850152822, 0.13933967039797374, 0.1...   \n",
       "3  [[0.03136723829891441, -0.0505767582769632, 0....   \n",
       "4  [[0.03801377922804165, 0.03617817081373831, -0...   \n",
       "\n",
       "                                   dorsal_hand__gyro  \\\n",
       "0  [[2.410925459678083, 28.71747920958251, 1.8005...   \n",
       "1  [[-54.41367208361953, 12.970168612191856, 110....   \n",
       "2  [[-45.25825894560171, 7.660028992141633, 38.78...   \n",
       "3  [[-10.711833371480909, -65.64431219958806, 15....   \n",
       "4  [[62.34836346990142, 23.95666437781324, -94.88...   \n",
       "\n",
       "                                        sacrum_accel  \\\n",
       "0  [[0.007898593153291361, 0.00678187379336016, -...   \n",
       "1  [[0.05902357568430044, 0.2458570946481517, 0.1...   \n",
       "2  [[0.03456002988070333, 0.07714713579397142, 0....   \n",
       "3  [[0.025640670942468885, 0.05803182937743645, 0...   \n",
       "4  [[0.07941650588237587, -0.3029917175421306, -0...   \n",
       "\n",
       "                                         sacrum_gyro  \n",
       "0  [[-7.660028992141633, -6.195162890058782, 2.47...  \n",
       "1  [[-5.645838101777599, 17.975127794308268, 9.36...  \n",
       "2  [[-2.4719615472647547, 31.219958800640825, -18...  \n",
       "3  [[-2.777141985198796, 66.25467307545614, 25.72...  \n",
       "4  [[-5.3406576638437855, 4.6692607003890325, 21....  "
      ]
     },
     "execution_count": 11,
     "metadata": {},
     "output_type": "execute_result"
    }
   ],
   "source": [
    "data.head()"
   ]
  },
  {
   "cell_type": "code",
   "execution_count": 12,
   "metadata": {},
   "outputs": [
    {
     "data": {
      "text/plain": [
       "(313, 4)"
      ]
     },
     "execution_count": 12,
     "metadata": {},
     "output_type": "execute_result"
    }
   ],
   "source": [
    "data.anterior_thigh__accel.iloc[0].shape"
   ]
  },
  {
   "cell_type": "code",
   "execution_count": 13,
   "metadata": {},
   "outputs": [
    {
     "data": {
      "text/plain": [
       "48579"
      ]
     },
     "execution_count": 13,
     "metadata": {},
     "output_type": "execute_result"
    }
   ],
   "source": [
    "len(data)"
   ]
  },
  {
   "cell_type": "code",
   "execution_count": 38,
   "metadata": {},
   "outputs": [
    {
     "data": {
      "text/plain": [
       "[<matplotlib.lines.Line2D at 0x34b5764a8>,\n",
       " <matplotlib.lines.Line2D at 0x34b56fa90>,\n",
       " <matplotlib.lines.Line2D at 0x34b56fb38>,\n",
       " <matplotlib.lines.Line2D at 0x36605d898>]"
      ]
     },
     "execution_count": 38,
     "metadata": {},
     "output_type": "execute_result"
    },
    {
     "data": {
      "image/png": "[encoded data removed]",
      "text/plain": [
       "<matplotlib.figure.Figure at 0x36638af98>"
      ]
     },
     "metadata": {},
     "output_type": "display_data"
    }
   ],
   "source": [
    "plt.plot(data.dorsal_hand__accel.iloc[4])"
   ]
  },
  {
   "cell_type": "code",
   "execution_count": 39,
   "metadata": {},
   "outputs": [
    {
     "data": {
      "text/plain": [
       "[<matplotlib.lines.Line2D at 0x36e934fd0>,\n",
       " <matplotlib.lines.Line2D at 0x36e9345f8>,\n",
       " <matplotlib.lines.Line2D at 0x36e934b38>]"
      ]
     },
     "execution_count": 39,
     "metadata": {},
     "output_type": "execute_result"
    },
    {
     "data": {
      "image/png": "[encoded data removed]",
      "text/plain": [
       "<matplotlib.figure.Figure at 0x36e9f7eb8>"
      ]
     },
     "metadata": {},
     "output_type": "display_data"
    }
   ],
   "source": [
    "plt.plot(data.anterior_thigh__gyro.iloc[4][:,:-1])"
   ]
  },
  {
   "cell_type": "code",
   "execution_count": null,
   "metadata": {
    "collapsed": true
   },
   "outputs": [],
   "source": [
    "#remove rows where some sensors have empty clips\n",
    "for s in data.columns[7:].values:\n",
    "    print(s,sum(data[s].apply(type) == float))\n",
    "    indempty = data[s].apply(type) == float\n",
    "    data = data[~indempty]\n",
    "    \n",
    "print(len(data))"
   ]
  },
  {
   "cell_type": "code",
   "execution_count": 11,
   "metadata": {},
   "outputs": [
    {
     "name": "stdout",
     "output_type": "stream",
     "text": [
      "anterior_thigh__accel 0\n",
      "anterior_thigh__gyro 0\n",
      "dorsal_hand__accel 0\n",
      "dorsal_hand__gyro 0\n",
      "sacrum_accel 0\n",
      "sacrum_gyro 0\n",
      "1224\n"
     ]
    }
   ],
   "source": [
    "print(len(data))\n",
    "for s in data.columns[7:].values:\n",
    "    print(s)\n",
    "    print(data[s].apply(len).unique()) #sanity check"
   ]
  },
  {
   "cell_type": "markdown",
   "metadata": {},
   "source": [
    "## Compute Features on multiple sensors"
   ]
  },
  {
   "cell_type": "code",
   "execution_count": null,
   "metadata": {},
   "outputs": [],
   "source": [
    "# load data and reconvert from dict to dataframe with metadata\n",
    "f = open(os.path.join(features_path,'DataRaw_AllLocsHP.pkl'),'rb')\n",
    "data = pickle.load(f)\n",
    "f.close()\n",
    "metadata = ['index','Subject','Visit','Side','Task','Tremor','Bradykinesia','Dyskinesia']\n",
    "cols = data.columns.tolist()\n",
    "cols = np.setdiff1d(cols,metadata).tolist()\n",
    "data = data[metadata+cols]\n",
    "\n",
    "# f = open('../FeatureMatrix/DataRaw_AllLocsResample.pkl','rb')\n",
    "# data2 = pickle.load(f)\n",
    "# f.close()\n",
    "# metadata = ['index','Subject','Visit','Side','Task','Tremor','Bradykinesia','Dyskinesia']\n",
    "# cols = data2.columns.tolist()\n",
    "# cols = np.setdiff1d(cols,metadata).tolist()\n",
    "# data2 = data2[metadata+cols]"
   ]
  },
  {
   "cell_type": "code",
   "execution_count": 13,
   "metadata": {
    "collapsed": true
   },
   "outputs": [],
   "source": [
    "#rawdata is a numpy array\n",
    "def feature_extraction_array(rawdata):\n",
    "\n",
    "    if np.size(rawdata) == 1:\n",
    "#         print('empty')\n",
    "        return np.empty([])\n",
    "    \n",
    "    time = rawdata[:,-1]\n",
    "    Fs = np.mean(1/(np.diff(time))) #mean sampling rate in clip\n",
    "\n",
    "    #remove time column \n",
    "    if rawdata.shape[1] > 3:\n",
    "        rawdata = rawdata[:,:-1] \n",
    "        \n",
    "    #Root mean square of signal on each axis\n",
    "    N = np.shape(rawdata)[0]\n",
    "    RMS = 1/N*np.sqrt(np.asarray(np.sum(rawdata**2,axis=0)))\n",
    "\n",
    "    #range on each axis\n",
    "    min_xyz = np.min(rawdata,axis=0)\n",
    "    max_xyz = np.max(rawdata,axis=0)\n",
    "    r = np.asarray(max_xyz-min_xyz)\n",
    "\n",
    "    #Moments on each axis\n",
    "    mean = np.asarray(np.mean(rawdata,axis=0))\n",
    "    var = np.asarray(np.std(rawdata,axis=0))\n",
    "    sk = skew(rawdata)\n",
    "    kurt = kurtosis(rawdata)\n",
    "\n",
    "    #Cross-correlation between axes pairs\n",
    "    xcorr_xy = np.correlate(rawdata[:,0],rawdata[:,1],mode='same')\n",
    "    # xcorr_xy = xcorr_xy/np.abs(np.sum(xcorr_xy)) #normalize values\n",
    "    xcorr_peak_xy = np.max(xcorr_xy)\n",
    "    xcorr_lag_xy = (np.argmax(xcorr_xy))/np.shape(xcorr_xy)[0] #normalized lag\n",
    "\n",
    "    xcorr_xz = np.correlate(rawdata[:,0],rawdata[:,2],mode='same')\n",
    "    # xcorr_xz = xcorr_xz/np.abs(np.sum(xcorr_xz)) #normalize values\n",
    "    xcorr_peak_xz = np.max(xcorr_xz)\n",
    "    xcorr_lag_xz = (np.argmax(xcorr_xz))/np.shape(xcorr_xz)[0]\n",
    "\n",
    "    xcorr_yz = np.correlate(rawdata[:,1],rawdata[:,2],mode='same')\n",
    "    # xcorr_yz = xcorr_yz/np.abs(np.sum(xcorr_yz)) #normalize values\n",
    "    xcorr_peak_yz = np.max(xcorr_yz)\n",
    "    xcorr_lag_yz = (np.argmax(xcorr_yz))/np.shape(xcorr_yz)[0]\n",
    "\n",
    "    #pack xcorr features\n",
    "    xcorr_peak = np.array([xcorr_peak_xy,xcorr_peak_xz,xcorr_peak_yz])\n",
    "    xcorr_lag = np.array([xcorr_lag_xy,xcorr_lag_xz,xcorr_lag_yz])\n",
    "\n",
    "    #Dominant freq and relative magnitude (on acc magnitude)\n",
    "    xnorm = np.linalg.norm(rawdata,axis=1)\n",
    "    n = np.shape(xnorm)[0] #number of samples in clip\n",
    "    f,Pxx = welch(xnorm,Fs,nperseg=min(256,n))\n",
    "    Pxx=Pxx[(f > 0) & (f <= 10)] #frequency range between 0 and 10 Hz\n",
    "    domfreq = f[Pxx.argmax()].reshape(-1)\n",
    "    Pdom_rel = (max(Pxx)/np.sum(Pxx)).reshape(-1) #power at dominant freq rel to total\n",
    "\n",
    "    #moments of PSD\n",
    "    Pxx_moments = np.array([np.nanmean(Pxx),np.nanstd(Pxx),skew(Pxx),kurtosis(Pxx)])\n",
    "\n",
    "    #moments of jerk magnitude\n",
    "    jerk = np.diff(xnorm)\n",
    "    jerk_moments = np.array([np.nanmean(jerk),np.nanstd(jerk),skew(jerk[~np.isnan(jerk)]),kurtosis(jerk[~np.isnan(jerk)])])\n",
    "\n",
    "    #sample entropy raw data (magnitude) and FFT\n",
    "    sH_raw = []; sH_fft = []\n",
    "\n",
    "    for a in range(3):\n",
    "        x = rawdata[:,a]\n",
    "        n = np.shape(x)[0] #number of samples in clip\n",
    "        sH_raw.append(nolds.sampen(x)) #samp entr raw data\n",
    "        #for now disable SH on fft\n",
    "        # f,Pxx_den = welch(x,Fs,nperseg=min(256,n/4))\n",
    "        # sH_fft.append(nolds.sampen(Pxx_den)) #samp entr fft\n",
    "    sH_raw=np.asarray(sH_raw)\n",
    "    \n",
    "    #Assemble features in array\n",
    "    X = np.concatenate((RMS,r,mean,var,sk,kurt,xcorr_peak,xcorr_lag,domfreq,Pdom_rel,Pxx_moments,jerk_moments,sH_raw))\n",
    "    return X"
   ]
  },
  {
   "cell_type": "code",
   "execution_count": 14,
   "metadata": {
    "scrolled": true
   },
   "outputs": [
    {
     "name": "stdout",
     "output_type": "stream",
     "text": [
      "(37,)\n"
     ]
    }
   ],
   "source": [
    "# #test on 1 row\n",
    "# x = data.anterior_thigh__accel.iloc[0]\n",
    "# F = feature_extraction_array(x)\n",
    "# print(F.shape)"
   ]
  },
  {
   "cell_type": "code",
   "execution_count": 73,
   "metadata": {},
   "outputs": [
    {
     "name": "stdout",
     "output_type": "stream",
     "text": [
      "9.002225053310394\n"
     ]
    }
   ],
   "source": [
    "#compute features only on hand acc and gyro\n",
    "t1 = time.time()\n",
    "F = data.iloc[:,9:11].applymap(feature_extraction_array)\n",
    "print((time.time()-t1)/60)"
   ]
  },
  {
   "cell_type": "code",
   "execution_count": 74,
   "metadata": {},
   "outputs": [
    {
     "data": {
      "text/plain": [
       "dorsal_hand__accel    4320\n",
       "dorsal_hand__gyro     4320\n",
       "dtype: int64"
      ]
     },
     "execution_count": 74,
     "metadata": {},
     "output_type": "execute_result"
    }
   ],
   "source": [
    "F.apply(len)"
   ]
  },
  {
   "cell_type": "code",
   "execution_count": 75,
   "metadata": {},
   "outputs": [],
   "source": [
    "dataF = data.iloc[:,:7]\n",
    "dataF=pd.concat((dataF,F),axis=1)"
   ]
  },
  {
   "cell_type": "code",
   "execution_count": 76,
   "metadata": {},
   "outputs": [
    {
     "data": {
      "text/html": [
       "<div>\n",
       "<style>\n",
       "    .dataframe thead tr:only-child th {\n",
       "        text-align: right;\n",
       "    }\n",
       "\n",
       "    .dataframe thead th {\n",
       "        text-align: left;\n",
       "    }\n",
       "\n",
       "    .dataframe tbody tr th {\n",
       "        vertical-align: top;\n",
       "    }\n",
       "</style>\n",
       "<table border=\"1\" class=\"dataframe\">\n",
       "  <thead>\n",
       "    <tr style=\"text-align: right;\">\n",
       "      <th></th>\n",
       "      <th>Subject</th>\n",
       "      <th>Visit</th>\n",
       "      <th>Side</th>\n",
       "      <th>Task</th>\n",
       "      <th>Tremor</th>\n",
       "      <th>Bradykinesia</th>\n",
       "      <th>Dyskinesia</th>\n",
       "      <th>dorsal_hand__accel</th>\n",
       "      <th>dorsal_hand__gyro</th>\n",
       "    </tr>\n",
       "  </thead>\n",
       "  <tbody>\n",
       "    <tr>\n",
       "      <th>0</th>\n",
       "      <td>1004</td>\n",
       "      <td>2 Weeks: Time 0</td>\n",
       "      <td>left</td>\n",
       "      <td>Motor #4: Finger to Nose</td>\n",
       "      <td>1.0</td>\n",
       "      <td>1.0</td>\n",
       "      <td>0.0</td>\n",
       "      <td>[0.0111451202246, 0.0129562059727, 0.013638602...</td>\n",
       "      <td>[5.01652047541, 8.45564189278, 3.55284750763, ...</td>\n",
       "    </tr>\n",
       "    <tr>\n",
       "      <th>1</th>\n",
       "      <td>1004</td>\n",
       "      <td>2 Weeks: Time 0</td>\n",
       "      <td>left</td>\n",
       "      <td>Motor #4: Finger to Nose</td>\n",
       "      <td>1.0</td>\n",
       "      <td>1.0</td>\n",
       "      <td>0.0</td>\n",
       "      <td>[0.0101368337193, 0.00980851677036, 0.01192579...</td>\n",
       "      <td>[3.28336373051, 11.7446881916, 3.68519049331, ...</td>\n",
       "    </tr>\n",
       "  </tbody>\n",
       "</table>\n",
       "</div>"
      ],
      "text/plain": [
       "   Subject            Visit  Side                      Task  Tremor  \\\n",
       "0     1004  2 Weeks: Time 0  left  Motor #4: Finger to Nose     1.0   \n",
       "1     1004  2 Weeks: Time 0  left  Motor #4: Finger to Nose     1.0   \n",
       "\n",
       "   Bradykinesia  Dyskinesia  \\\n",
       "0           1.0         0.0   \n",
       "1           1.0         0.0   \n",
       "\n",
       "                                  dorsal_hand__accel  \\\n",
       "0  [0.0111451202246, 0.0129562059727, 0.013638602...   \n",
       "1  [0.0101368337193, 0.00980851677036, 0.01192579...   \n",
       "\n",
       "                                   dorsal_hand__gyro  \n",
       "0  [5.01652047541, 8.45564189278, 3.55284750763, ...  \n",
       "1  [3.28336373051, 11.7446881916, 3.68519049331, ...  "
      ]
     },
     "execution_count": 76,
     "metadata": {},
     "output_type": "execute_result"
    }
   ],
   "source": [
    "dataF.head(2)"
   ]
  },
  {
   "cell_type": "code",
   "execution_count": 77,
   "metadata": {},
   "outputs": [
    {
     "name": "stderr",
     "output_type": "stream",
     "text": [
      "/Users/luca/anaconda/envs/py35_pd20/lib/python3.5/site-packages/pandas/core/generic.py:1299: PerformanceWarning: \n",
      "your performance may suffer as PyTables will pickle object types that it cannot\n",
      "map directly to c-types [inferred_type->mixed,key->block2_values] [items->['Visit', 'Side', 'Task', 'dorsal_hand__accel', 'dorsal_hand__gyro']]\n",
      "\n",
      "  return pytables.to_hdf(path_or_buf, key, self, **kwargs)\n"
     ]
    }
   ],
   "source": [
    "dataF.to_hdf('../FeatureMatrix/Features_HP+LP.h5','w')"
   ]
  },
  {
   "cell_type": "code",
   "execution_count": 15,
   "metadata": {
    "scrolled": true
   },
   "outputs": [
    {
     "name": "stdout",
     "output_type": "stream",
     "text": [
      "empty\n",
      "empty\n",
      "empty\n",
      "empty\n",
      "empty\n",
      "empty\n",
      "empty\n",
      "empty\n",
      "empty\n",
      "empty\n",
      "empty\n",
      "empty\n",
      "empty\n",
      "empty\n",
      "empty\n",
      "empty\n",
      "empty\n",
      "empty\n",
      "empty\n",
      "empty\n",
      "empty\n",
      "empty\n",
      "empty\n",
      "empty\n",
      "empty\n",
      "empty\n",
      "empty\n",
      "empty\n",
      "empty\n",
      "empty\n",
      "empty\n",
      "empty\n",
      "empty\n",
      "empty\n",
      "empty\n",
      "empty\n",
      "empty\n",
      "empty\n",
      "empty\n",
      "empty\n",
      "empty\n",
      "empty\n",
      "empty\n",
      "empty\n",
      "empty\n",
      "empty\n",
      "empty\n",
      "empty\n",
      "empty\n",
      "empty\n",
      "empty\n",
      "empty\n",
      "empty\n",
      "empty\n",
      "empty\n",
      "empty\n",
      "empty\n",
      "empty\n",
      "empty\n",
      "empty\n",
      "empty\n",
      "empty\n",
      "empty\n",
      "empty\n",
      "empty\n",
      "empty\n",
      "empty\n",
      "empty\n",
      "empty\n",
      "empty\n",
      "empty\n",
      "empty\n",
      "empty\n",
      "empty\n",
      "empty\n",
      "empty\n",
      "empty\n",
      "0.5310867150624593\n"
     ]
    }
   ],
   "source": [
    "#test on 100 rows\n",
    "t1 = time.time()\n",
    "F = data.iloc[:100,7:].applymap(feature_extraction_array)\n",
    "print((time.time()-t1)/60)"
   ]
  },
  {
   "cell_type": "code",
   "execution_count": 16,
   "metadata": {},
   "outputs": [
    {
     "data": {
      "text/plain": [
       "anterior_thigh__accel    100\n",
       "anterior_thigh__gyro     100\n",
       "dorsal_hand__accel       100\n",
       "dorsal_hand__gyro        100\n",
       "sacrum_accel             100\n",
       "sacrum_gyro              100\n",
       "dtype: int64"
      ]
     },
     "execution_count": 16,
     "metadata": {},
     "output_type": "execute_result"
    }
   ],
   "source": [
    "F.apply(len)"
   ]
  },
  {
   "cell_type": "code",
   "execution_count": 17,
   "metadata": {},
   "outputs": [
    {
     "data": {
      "text/html": [
       "<div>\n",
       "<style>\n",
       "    .dataframe thead tr:only-child th {\n",
       "        text-align: right;\n",
       "    }\n",
       "\n",
       "    .dataframe thead th {\n",
       "        text-align: left;\n",
       "    }\n",
       "\n",
       "    .dataframe tbody tr th {\n",
       "        vertical-align: top;\n",
       "    }\n",
       "</style>\n",
       "<table border=\"1\" class=\"dataframe\">\n",
       "  <thead>\n",
       "    <tr style=\"text-align: right;\">\n",
       "      <th></th>\n",
       "      <th>anterior_thigh__accel</th>\n",
       "      <th>anterior_thigh__gyro</th>\n",
       "      <th>dorsal_hand__accel</th>\n",
       "      <th>dorsal_hand__gyro</th>\n",
       "      <th>sacrum_accel</th>\n",
       "      <th>sacrum_gyro</th>\n",
       "    </tr>\n",
       "  </thead>\n",
       "  <tbody>\n",
       "    <tr>\n",
       "      <th>0</th>\n",
       "      <td>[0.0190065256974, 0.0392332703719, 0.022744978...</td>\n",
       "      <td>[10.2735064283, 2.70628321634, 5.06156027666, ...</td>\n",
       "      <td>[0.00864849467653, 0.0109489753008, 0.00729320...</td>\n",
       "      <td>[2.76357718659, 1.92269058745, 4.20092382287, ...</td>\n",
       "      <td>[0.00526835057686, 0.0119961084358, 0.00705591...</td>\n",
       "      <td>[0.821561465605, 1.12651785292, 0.664853976891...</td>\n",
       "    </tr>\n",
       "    <tr>\n",
       "      <th>1</th>\n",
       "      <td>[0.0149832300964, 0.0342450895391, 0.016847710...</td>\n",
       "      <td>[9.00806781087, 2.191344381, 4.14873090415, 13...</td>\n",
       "      <td>[0.007308936014, 0.00999890421054, 0.005955145...</td>\n",
       "      <td>[2.6885012577, 2.87449818754, 4.43727495635, 2...</td>\n",
       "      <td>[0.00560763652441, 0.00985573688914, 0.0061202...</td>\n",
       "      <td>[0.705814899314, 3.47252797918, 0.743363474454...</td>\n",
       "    </tr>\n",
       "    <tr>\n",
       "      <th>2</th>\n",
       "      <td>[0.0180417583751, 0.0404949369895, 0.021012452...</td>\n",
       "      <td>[9.57420548284, 2.41849860453, 5.09429658375, ...</td>\n",
       "      <td>[0.00789533806077, 0.0102285568271, 0.00862667...</td>\n",
       "      <td>[3.26187420639, 2.94128163697, 4.68921869519, ...</td>\n",
       "      <td>[0.00640904323001, 0.0121600018656, 0.00671856...</td>\n",
       "      <td>[0.827483443807, 2.65230166411, 0.864615727337...</td>\n",
       "    </tr>\n",
       "    <tr>\n",
       "      <th>3</th>\n",
       "      <td>[0.0205105367974, 0.0415885417297, 0.023263090...</td>\n",
       "      <td>[10.7951006304, 3.06603190743, 5.37095998162, ...</td>\n",
       "      <td>[0.00858875387415, 0.0122192149539, 0.00688990...</td>\n",
       "      <td>[2.77810907781, 2.31555905589, 4.96053014631, ...</td>\n",
       "      <td>[0.00605284836418, 0.0140876462334, 0.00754228...</td>\n",
       "      <td>[0.825750092007, 2.28549990288, 0.829151685578...</td>\n",
       "    </tr>\n",
       "    <tr>\n",
       "      <th>4</th>\n",
       "      <td>[0.0195279524902, 0.0377563093994, 0.021351920...</td>\n",
       "      <td>[9.59769867838, 2.49859289183, 4.61524565683, ...</td>\n",
       "      <td>[0.00887350847284, 0.0105458055384, 0.00604401...</td>\n",
       "      <td>[2.82170510505, 3.09674298953, 5.07018285471, ...</td>\n",
       "      <td>[0.00618242353299, 0.0117429551314, 0.00659903...</td>\n",
       "      <td>[0.752788915681, 3.66242572682, 0.87323241417,...</td>\n",
       "    </tr>\n",
       "  </tbody>\n",
       "</table>\n",
       "</div>"
      ],
      "text/plain": [
       "                               anterior_thigh__accel  \\\n",
       "0  [0.0190065256974, 0.0392332703719, 0.022744978...   \n",
       "1  [0.0149832300964, 0.0342450895391, 0.016847710...   \n",
       "2  [0.0180417583751, 0.0404949369895, 0.021012452...   \n",
       "3  [0.0205105367974, 0.0415885417297, 0.023263090...   \n",
       "4  [0.0195279524902, 0.0377563093994, 0.021351920...   \n",
       "\n",
       "                                anterior_thigh__gyro  \\\n",
       "0  [10.2735064283, 2.70628321634, 5.06156027666, ...   \n",
       "1  [9.00806781087, 2.191344381, 4.14873090415, 13...   \n",
       "2  [9.57420548284, 2.41849860453, 5.09429658375, ...   \n",
       "3  [10.7951006304, 3.06603190743, 5.37095998162, ...   \n",
       "4  [9.59769867838, 2.49859289183, 4.61524565683, ...   \n",
       "\n",
       "                                  dorsal_hand__accel  \\\n",
       "0  [0.00864849467653, 0.0109489753008, 0.00729320...   \n",
       "1  [0.007308936014, 0.00999890421054, 0.005955145...   \n",
       "2  [0.00789533806077, 0.0102285568271, 0.00862667...   \n",
       "3  [0.00858875387415, 0.0122192149539, 0.00688990...   \n",
       "4  [0.00887350847284, 0.0105458055384, 0.00604401...   \n",
       "\n",
       "                                   dorsal_hand__gyro  \\\n",
       "0  [2.76357718659, 1.92269058745, 4.20092382287, ...   \n",
       "1  [2.6885012577, 2.87449818754, 4.43727495635, 2...   \n",
       "2  [3.26187420639, 2.94128163697, 4.68921869519, ...   \n",
       "3  [2.77810907781, 2.31555905589, 4.96053014631, ...   \n",
       "4  [2.82170510505, 3.09674298953, 5.07018285471, ...   \n",
       "\n",
       "                                        sacrum_accel  \\\n",
       "0  [0.00526835057686, 0.0119961084358, 0.00705591...   \n",
       "1  [0.00560763652441, 0.00985573688914, 0.0061202...   \n",
       "2  [0.00640904323001, 0.0121600018656, 0.00671856...   \n",
       "3  [0.00605284836418, 0.0140876462334, 0.00754228...   \n",
       "4  [0.00618242353299, 0.0117429551314, 0.00659903...   \n",
       "\n",
       "                                         sacrum_gyro  \n",
       "0  [0.821561465605, 1.12651785292, 0.664853976891...  \n",
       "1  [0.705814899314, 3.47252797918, 0.743363474454...  \n",
       "2  [0.827483443807, 2.65230166411, 0.864615727337...  \n",
       "3  [0.825750092007, 2.28549990288, 0.829151685578...  \n",
       "4  [0.752788915681, 3.66242572682, 0.87323241417,...  "
      ]
     },
     "execution_count": 17,
     "metadata": {},
     "output_type": "execute_result"
    }
   ],
   "source": [
    "F.head()"
   ]
  },
  {
   "cell_type": "code",
   "execution_count": 17,
   "metadata": {
    "scrolled": true
   },
   "outputs": [
    {
     "data": {
      "text/plain": [
       "array(['Motor #2: Walking', 'Motor #3: Walking while Counting',\n",
       "       'Motor #4: Finger to Nose', 'Motor #5: Alternating Hand Movements',\n",
       "       'Motor #6: Sit to Stand', 'Motor #7: Drawing on Paper',\n",
       "       'Motor #8: Typing on a Computer', 'Motor #9: Nuts and Bolts',\n",
       "       'Motor #10: Drinking Water', 'Motor #11: Organizing Folder',\n",
       "       'Motor #12: Folding Towels', 'Motor #1: Standing',\n",
       "       'Motor #13: Sitting'], dtype=object)"
      ]
     },
     "execution_count": 17,
     "metadata": {},
     "output_type": "execute_result"
    }
   ],
   "source": [
    "data.Task.unique()"
   ]
  },
  {
   "cell_type": "code",
   "execution_count": null,
   "metadata": {
    "collapsed": true
   },
   "outputs": [],
   "source": []
  }
 ],
 "metadata": {
  "anaconda-cloud": {},
  "kernelspec": {
   "display_name": "Python 3",
   "language": "python",
   "name": "python3"
  },
  "language_info": {
   "codemirror_mode": {
    "name": "ipython",
    "version": 3
   },
   "file_extension": ".py",
   "mimetype": "text/x-python",
   "name": "python",
   "nbconvert_exporter": "python",
   "pygments_lexer": "ipython3",
   "version": "3.6.4"
  }
 },
 "nbformat": 4,
 "nbformat_minor": 1
}
