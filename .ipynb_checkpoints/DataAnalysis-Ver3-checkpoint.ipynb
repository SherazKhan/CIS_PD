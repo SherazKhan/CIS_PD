{
 "cells": [
  {
   "cell_type": "code",
   "execution_count": 1,
   "metadata": {
    "collapsed": true
   },
   "outputs": [],
   "source": [
    "import os\n",
    "import numpy as np\n",
    "import pandas as pd\n",
    "import seaborn as sns\n",
    "import matplotlib.pyplot as plt\n",
    "import datetime as dt\n",
    "import xlsxwriter as xw\n",
    "import pathlib\n",
    "import pytz\n",
    "\n",
    "%matplotlib inline"
   ]
  },
  {
   "cell_type": "code",
   "execution_count": 2,
   "metadata": {
    "collapsed": true
   },
   "outputs": [],
   "source": [
    "#---------------------------------------------------------------------------------------------------------\n",
    "# Set path to folder containing Subject ID numbers\n",
    "#path = r'X:\\CIS-PD Study\\Subjects'\n",
    "#---------------------------------------------------------------------------------------------------------\n",
    "\n",
    "\n",
    "complete = list(['Heart Rate Variability', 'MDS-UPDRS #1: Finger Tapping',\n",
    "           'MDS-UPDRS #2: Hand Movements', 'MDS-UPDRS #3: Pronation-Supination',\n",
    "           'MDS-UPDRS #4: Toe Tapping', 'MDS-UPDRS #5: Leg Agility',\n",
    "           'MDS-UPDRS #6: Arising from Chair', 'MDS-UPDRS #7: Gait',\n",
    "           'MDS-UPDRS #8: Postural Stability', 'MDS-UPDRS #9: Postural Hand Tremor',\n",
    "           'MDS-UPDRS #10: Kinetic Hand Tremor', 'MDS-UPDRS #11: Rest Tremor',\n",
    "           'Motor #1: Standing', 'Motor #2: Walking', 'Motor #3: Walking while Counting',\n",
    "           'Motor #4: Finger to Nose', 'Motor #5: Alternating Hand Movements',\n",
    "           'Motor #6: Sit to Stand', 'Motor #7: Drawing on Paper',\n",
    "           'Motor #8: Typing on a Computer', 'Motor #9: Nuts and Bolts',\n",
    "           'Motor #10: Drinking Water', 'Motor #11: Organizing Folder',\n",
    "           'Motor #12: Folding Towels', 'Motor #13: Sitting'])\n",
    "\n",
    "\n",
    "def process_annotations(path):\n",
    "#---------------------------------------------------------------------------------------------------------\n",
    "# Processes raw annotations file to extract start / end timestamps and remove unnecessary data\n",
    "#\n",
    "# Inputs:  path - filepath of the subject folder containing annotations.csv\n",
    "#\n",
    "# Outputs: df - dataframe containing list of activities and their start / end timestamps\n",
    "#---------------------------------------------------------------------------------------------------------\n",
    "    df = pd.read_csv(os.path.join(path, 'annotations.csv'))\n",
    "    del df['Timestamp (ms)']\n",
    "    del df['AnnotationId']\n",
    "    del df['AuthorId']\n",
    "    \n",
    "    testInfo = df[df.EventType == 'Testing Day'].dropna(how='any', axis=0)\n",
    "    testInfo['Start Timestamp (ms)'] = pd.to_datetime(testInfo['Start Timestamp (ms)'], unit='ms', utc=True).dt.tz_localize('UTC').dt.tz_convert('US/Central')\n",
    "    del testInfo['Stop Timestamp (ms)']\n",
    "    del testInfo['EventType']\n",
    "    del df['Value']\n",
    "    \n",
    "    testInfo = testInfo.rename(columns = {'Value':'Day', 'Start Timestamp (ms)':'Date'}).reset_index(drop=True)\n",
    "    testInfo['Date'] = testInfo['Date'].dt.date\n",
    "    \n",
    "    df = df[(df.EventType != 'Testing Day')]\n",
    "\n",
    "    # RESIDUAL: Separation into Day 1 and Day 2 data, may re-include at later time\n",
    "    #Day1 = testInfo.loc[testInfo['Day'] == 'DAY 1', 'Date']\n",
    "    #Day2 = testInfo.loc[testInfo['Day'] == 'DAY 2', 'Date']\n",
    "\n",
    "    #d1_df = process_activities(df[df['Start Timestamp (ms)'].dt.date.isin(Day1)].reset_index(drop=True)).set_index('EventType')\n",
    "    #d2_df = process_activities(df[df['Start Timestamp (ms)'].dt.date.isin(Day2)].reset_index(drop=True)).set_index('EventType')\n",
    "    \n",
    "    sorter = set(df.EventType.unique().flatten())\n",
    "    sorterIndex = dict(zip(sorter, range(len(sorter))))\n",
    "        \n",
    "    df['EventType_Rank'] = df['EventType'].map(sorterIndex)\n",
    "    df['Cycle'] = df.groupby('EventType')['Start Timestamp (ms)'].rank(ascending=True).astype(int)\n",
    "    del df['EventType_Rank']\n",
    "    df[df['EventType'].str.contains('MDS-UPDRS')] = df[df['EventType'].str.contains('MDS-UPDRS')].replace(to_replace={'Cycle': {2: 3}})\n",
    "    df[df['EventType'].str.contains('Heart')] = df[df['EventType'].str.contains('Heart')].replace(to_replace={'Cycle': {1: 'NaN', 2: 'NaN'}})\n",
    "    df = df.reset_index(drop=True).set_index('EventType')\n",
    "    \n",
    "    # return d1_df, d2_df, df\n",
    "    return df"
   ]
  },
  {
   "cell_type": "code",
   "execution_count": 3,
   "metadata": {
    "scrolled": true
   },
   "outputs": [
    {
     "ename": "IndentationError",
     "evalue": "expected an indented block (<ipython-input-3-4af9d2999305>, line 11)",
     "output_type": "error",
     "traceback": [
      "\u001b[1;36m  File \u001b[1;32m\"<ipython-input-3-4af9d2999305>\"\u001b[1;36m, line \u001b[1;32m11\u001b[0m\n\u001b[1;33m    timestamps = process_annotations(path)\u001b[0m\n\u001b[1;37m             ^\u001b[0m\n\u001b[1;31mIndentationError\u001b[0m\u001b[1;31m:\u001b[0m expected an indented block\n"
     ]
    }
   ],
   "source": [
    "def extract_data(SubID, path):\n",
    "#---------------------------------------------------------------------------------------------------------\n",
    "# For a given subject, extracts and separates accelerometer, gyroscope, and EMG/ECG data into trials and sensor per activity\n",
    "#\n",
    "# Inputs: SubID - string of numbers corresponding to the subject ID\n",
    "#         path - system path to corresponding subject's raw data files\n",
    "#\n",
    "# Outputs: act_dict - dictionary of both MDS-UPDRS and Motor Assessment activities separated by trial, sensor location, and\n",
    "#                     accelerometer + gyroscope or accelerometer + EMG/ECG data. Every key within this dictionary is a dictionary\n",
    "#---------------------------------------------------------------------------------------------------------\n",
    "    timestamps = process_annotations(path)\n",
    "    \n",
    "    # Creates list of sensor locations from folders within subject's raw data directory\n",
    "    locations = [locs for locs in os.listdir(path) if os.path.isdir(os.path.join(path, locs))]\n",
    "    \n",
    "    # Creates dictionary of empty dataframes to merge all accelerometer, gyroscope, and EMG/ECG data for each sensor\n",
    "    accel = {locs: pd.DataFrame() for locs in locations}\n",
    "    gyro = {locs: pd.DataFrame() for locs in locations}\n",
    "    elec = {locs: pd.DataFrame() for locs in locations}\n",
    "    \n",
    "    # Finds and merges all accelerometer, gyroscope, and EMG/ECG data for each sensor, retains datetime information\n",
    "    for root, dirs, files in os.walk(path, topdown=True):\n",
    "        for filenames in files:\n",
    "            if filenames.endswith('accel.csv'):\n",
    "                p = pathlib.Path(os.path.join(root, filenames))\n",
    "                location = str(p.relative_to(path)).split(\"\\\\\")[0]\n",
    "                temp_df = pd.read_csv(p).set_index('Timestamp (ms)')\n",
    "                accel[location] = accel[location].append(temp_df)\n",
    "\n",
    "            elif filenames.endswith('gyro.csv'):\n",
    "                p = pathlib.Path(os.path.join(root, filenames))\n",
    "                location = str(p.relative_to(path)).split(\"\\\\\")[0]\n",
    "                temp_df = pd.read_csv(p).set_index('Timestamp (ms)')\n",
    "                gyro[location] = gyro[location].append(temp_df)\n",
    "\n",
    "            if filenames.endswith('elec.csv'):\n",
    "                p = pathlib.Path(os.path.join(root, filenames))\n",
    "                location = str(p.relative_to(path)).split(\"\\\\\")[0]\n",
    "                temp_df = pd.read_csv(p).set_index('Timestamp (ms)')\n",
    "                elec[location] = elec[location].append(temp_df)\n",
    "                \n",
    "    # Complete dictionary of all activities\n",
    "    act_dict = {acts: pd.DataFrame() for acts in complete}\n",
    "\n",
    "    # Populate dictionary keys per activity with every iteration / trial\n",
    "    for activities in complete:\n",
    "\n",
    "        startTimestamp = timestamps.loc[activities, 'Start Timestamp (ms)'].values\n",
    "        endTimestamp = timestamps.loc[activities, 'Stop Timestamp (ms)'].values\n",
    "\n",
    "        # Create trial dictionary with each key containing all sensor data related with each activity's trial\n",
    "        trial_dict = {trials: pd.DataFrame() for trials in range(0, len(startTimestamp))}\n",
    "\n",
    "        # Populate trial directory keys\n",
    "        for trials in range(0, len(startTimestamp)):\n",
    "\n",
    "            startTime = startTimestamp[trials]\n",
    "            endTime = endTimestamp[trials]\n",
    "\n",
    "            # Create sensor location dictionary with each key corresponding to sensor locations\n",
    "            sensor_dict = {locs: pd.DataFrame() for locs in locations}\n",
    "\n",
    "            # Extract sensor data and populate sensor_dict with sensor data\n",
    "            for location in locations:\n",
    "\n",
    "                data = {'accel': pd.DataFrame(), 'gyro': pd.DataFrame(), 'elec': pd.DataFrame()}\n",
    "\n",
    "                if not accel[location].empty:\n",
    "                    accelData = accel[location]\n",
    "                    data['accel'] = accelData[(accelData.index >= startTime) & (accelData.index <= endTime)]\n",
    "\n",
    "                if not gyro[location].empty:\n",
    "                    gyroData = gyro[location]\n",
    "                    data['gyro'] = gyroData[(gyroData.index >= startTime) & (gyroData.index <= endTime)]\n",
    "\n",
    "                if not elec[location].empty:\n",
    "                    elecData = elec[location]\n",
    "                    data['elec'] = elecData[(elecData.index >= startTime) & (elecData.index <= endTime)]\n",
    "\n",
    "                sensor_dict[location] = data\n",
    "\n",
    "            trial_dict[trials] = sensor_dict\n",
    "\n",
    "        act_dict[activities] = trial_dict\n",
    "    \n",
    "    return act_dict"
   ]
  },
  {
   "cell_type": "code",
   "execution_count": null,
   "metadata": {
    "collapsed": true
   },
   "outputs": [],
   "source": [
    "path3 = r'C:\\users\\Andrew\\Documents\\PD Study Data\\RawData'\n",
    "SubID = '1004'\n",
    "\n",
    "act_dict = extract_data(SubID, os.path.join(path3, SubID))"
   ]
  },
  {
   "cell_type": "code",
   "execution_count": null,
   "metadata": {},
   "outputs": [],
   "source": [
    "dat = pd.DataFrame(act_dict['Motor #8: Typing on a Computer'][0])\n",
    "dat.loc['accel', 'dorsal_hand_right'][0:500].plot()"
   ]
  },
  {
   "cell_type": "code",
   "execution_count": null,
   "metadata": {
    "collapsed": true
   },
   "outputs": [],
   "source": [
    "SubID2 = '1029'\n",
    "\n",
    "act_dict2 = extract_data(SubID2, os.path.join(path3, SubID2))"
   ]
  },
  {
   "cell_type": "code",
   "execution_count": null,
   "metadata": {},
   "outputs": [],
   "source": [
    "# Subject 1029 - OFF\n",
    "dat2 = pd.DataFrame(act_dict2['Motor #8: Typing on a Computer'][0])\n",
    "dat2.loc['accel', 'dorsal_hand_right'][0:500].plot()"
   ]
  },
  {
   "cell_type": "code",
   "execution_count": null,
   "metadata": {},
   "outputs": [],
   "source": [
    "# Subject 1029 - ON\n",
    "dat3 = pd.DataFrame(act_dict2['Motor #8: Typing on a Computer'][5])\n",
    "dat3.loc['accel', 'dorsal_hand_right'][0:500].plot()"
   ]
  },
  {
   "cell_type": "code",
   "execution_count": null,
   "metadata": {},
   "outputs": [],
   "source": [
    "path2 = r'C:\\Users\\Andrew\\Documents\\PD Study Data\\RawData'\n",
    "\n",
    "subjects = os.listdir(path2)\n",
    "\n",
    "for subjs in subjects:\n",
    "    print(os.path.join(path2, subjs))"
   ]
  },
  {
   "cell_type": "code",
   "execution_count": null,
   "metadata": {
    "collapsed": true
   },
   "outputs": [],
   "source": []
  },
  {
   "cell_type": "code",
   "execution_count": null,
   "metadata": {
    "collapsed": true
   },
   "outputs": [],
   "source": []
  }
 ],
 "metadata": {
  "celltoolbar": "Raw Cell Format",
  "kernelspec": {
   "display_name": "Python 3",
   "language": "python",
   "name": "python3"
  },
  "language_info": {
   "codemirror_mode": {
    "name": "ipython",
    "version": 3
   },
   "file_extension": ".py",
   "mimetype": "text/x-python",
   "name": "python",
   "nbconvert_exporter": "python",
   "pygments_lexer": "ipython3",
   "version": "3.6.2"
  }
 },
 "nbformat": 4,
 "nbformat_minor": 2
}
