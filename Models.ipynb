{
 "cells": [
  {
   "cell_type": "code",
   "execution_count": 343,
   "metadata": {
    "collapsed": true
   },
   "outputs": [],
   "source": [
    "import os\n",
    "import numpy as np\n",
    "import pandas as pd\n",
    "import seaborn as sns\n",
    "import matplotlib.pyplot as plt\n",
    "import datetime as dt\n",
    "import pathlib\n",
    "import pickle #to save files\n",
    "from itertools import product\n",
    "from scipy.stats import skew, kurtosis\n",
    "from scipy.signal import butter, welch, filtfilt, resample\n",
    "import xgboost as xgb\n",
    "from xgboost.sklearn import XGBClassifier #this is the SKlearn wrapper\n",
    "from sklearn.metrics import confusion_matrix, auc, f1_score, roc_auc_score, precision_score, recall_score, precision_recall_curve\n",
    "from sklearn.model_selection import train_test_split\n",
    "from sklearn.preprocessing import LabelEncoder\n",
    "import time\n",
    "\n",
    "from PreprocessFcns import *\n",
    "\n",
    "from mpl_toolkits.mplot3d import Axes3D\n",
    "%matplotlib inline\n",
    "\n",
    "#-- For interactive plots--\n",
    "# from mpl_toolkits.mplot3d import Axes3D\n",
    "# %matplotlib notebook"
   ]
  },
  {
   "cell_type": "code",
   "execution_count": 338,
   "metadata": {
    "collapsed": false
   },
   "outputs": [
    {
     "name": "stderr",
     "output_type": "stream",
     "text": [
      "Using Theano backend.\n"
     ]
    }
   ],
   "source": [
    "import keras\n",
    "from keras.models import Sequential\n",
    "from keras.layers import Conv2D, MaxPooling2D, LSTM, Dense, Dropout, Flatten, BatchNormalization\n",
    "from keras.layers.core import Permute, Reshape\n",
    "from keras import backend as K"
   ]
  },
  {
   "cell_type": "markdown",
   "metadata": {},
   "source": [
    "## Helper fcns"
   ]
  },
  {
   "cell_type": "code",
   "execution_count": 96,
   "metadata": {
    "collapsed": true
   },
   "outputs": [],
   "source": [
    "def LOSOCV(Data,X,y,groups,models):\n",
    "\n",
    "    subj = LeaveOneGroupOut() \n",
    "\n",
    "    #train multiple classifiers\n",
    "    for m in models:\n",
    "        Sens_all=[]; Spec_all=[]; \n",
    "        acc_all=[]; acc_train=[] #sens and spec for current model and all subject\n",
    "        f1_test_all=[]; prec_all=[]; rec_all=[]; auprc_all=[]\n",
    "\n",
    "        clf = m[0]; model_name = m[1]            \n",
    "        print('Training %s'%model_name)\n",
    "        \n",
    "        #LOSO CV for current classifier\n",
    "        for train_index, test_index in subj.split(X, y, groups):\n",
    "            Xtr, Xte = X[train_index], X[test_index]\n",
    "            ytr, yte = y[train_index], y[test_index]\n",
    "            clf.fit(Xtr,ytr)\n",
    "            ypred = clf.predict(Xte)\n",
    "            yscore = clf.predict_proba(Xte)\n",
    "            yscore = yscore[:,1]\n",
    "            \n",
    "            #accuracy on train set\n",
    "            ypred_train = clf.predict(Xtr)\n",
    "            acc_train.append(sum(ypred_train==ytr)/len(ytr))\n",
    "            \n",
    "            #f1-score, prec and recall, auprc\n",
    "            f1_test_all.append(f1_score(yte,ypred))\n",
    "            precision, recall, _ = precision_recall_curve(yte,yscore)\n",
    "            auprc = auc(recall,precision)\n",
    "            \n",
    "            prec_all.append(precision_score(yte,ypred))\n",
    "            rec_all.append(recall_score(yte,ypred))\n",
    "            auprc_all.append(auprc)\n",
    "            \n",
    "        print('f1_test=%.3f+/-%.3f, prec=%.3f+/-%.3f, rec=%.3f+/-%.3f, auprc=%.3f+/-%.3f'%(\n",
    "        np.nanmean(f1_test_all),np.nanstd(f1_test_all),\n",
    "        np.nanmean(prec_all),np.nanstd(prec_all), np.nanmean(rec_all),np.nanstd(rec_all),\n",
    "        np.nanmean(auprc_all),np.nanstd(auprc_all)))\n",
    "          \n",
    "\n",
    "\n",
    "#             #compute Sens and Spec for current subject and classifier\n",
    "#             if np.sum(yte==1)>0:                    \n",
    "#                 Sens = sum((ypred==1)&( yte==1))/sum(yte==1)\n",
    "#             else:\n",
    "#                 print('%s has no positive examples'%Data.Subject[test_index].unique())\n",
    "#                 Sens = np.nan\n",
    "#             if np.sum(yte==0)>0:\n",
    "#                 Spec = sum((ypred==0) & (yte==0))/sum(yte==0)\n",
    "#             else:\n",
    "#                 Spec = np.nan\n",
    "#                 print('%s has no negative examples'%Data.Subject[test_index].unique())\n",
    "#             Sens_all.append(Sens); Spec_all.append(Spec)\n",
    "#             #compute accuracy\n",
    "#             acc = sum(ypred==yte)/len(yte)\n",
    "#             acc_all.append(acc)\n",
    "        \n",
    "        #mean across all subjects\n",
    "#         print(('%s, mean Acc on training set = %.3f (+/- %0.3f)')%(model_name,np.nanmean(acc_train),2*np.nanstd(acc_train)/np.sqrt(len(acc_train))))\n",
    "#         print(('%s, mean Sens = %.3f (+/- %0.3f)')%(model_name,np.nanmean(Sens_all),2*np.nanstd(Sens_all)/np.sqrt(len(Sens_all))))\n",
    "#         print(('%s, mean Spec = %.3f (+/- %0.3f)')%(model_name,np.nanmean(Spec_all),2*np.nanstd(Spec_all)/np.sqrt(len(Spec_all))))\n",
    "#         print(('%s, mean Acc = %.3f (+/- %0.3f)')%(model_name,np.nanmean(acc_all),2*np.nanstd(acc_all)/np.sqrt(len(acc_all))))\n",
    "        \n",
    "       \n",
    "    \n",
    "\n",
    "#train multiple classifiers using stratified kfold\n",
    "def trainmodel_Kfold(Xf,y,models,nfolds=5,balance=False):\n",
    "\n",
    "    scaler = StandardScaler()\n",
    "    f1_fold_clf=[]; auc_fold_clf=[]; cmats={}\n",
    "\n",
    "    skf = StratifiedKFold(n_splits=nfolds,shuffle=True,random_state=46)\n",
    "        \n",
    "    for clf,model_name in models:\n",
    "        f1_fold = []; f1_train_fold=[]; prec_fold=[]; rec_fold=[]; auprc_fold=[]\n",
    "\n",
    "        for train_idx,test_idx in skf.split(Xf,y):\n",
    "            Xtr = Xf[train_idx]\n",
    "            ytr = y[train_idx]\n",
    "            if balance:\n",
    "                #balance dataset\n",
    "                indsp = np.where(ytr==1)[0]\n",
    "                indsn = np.random.choice(np.where(ytr==0)[0],size=round(1*len(indsp)),replace=False)\n",
    "                inds = np.hstack((indsp,indsn))\n",
    "                Xtr = Xtr[inds]; ytr = ytr[inds]\n",
    "#             print(len(ytr[ytr==0])/len(ytr[ytr>0]))\n",
    "            Xte = Xf[test_idx]\n",
    "            yte = y[test_idx]\n",
    "            Xtr = scaler.fit_transform(Xtr)\n",
    "            Xte = scaler.transform(Xte)\n",
    "            clf.fit(Xtr,ytr)\n",
    "            ypred_train = clf.predict(Xtr)\n",
    "            ypred = clf.predict(Xte)\n",
    "            yscore = clf.predict_proba(Xte)\n",
    "            yscore = yscore[:,1]\n",
    "            \n",
    "            #accuracy on train and test set for current fold\n",
    "            precision, recall, _ = precision_recall_curve(yte,yscore)\n",
    "            \n",
    "            f1_train_fold.append(f1_score(ytr,ypred_train))\n",
    "            f1_fold.append(f1_score(yte,ypred))\n",
    "            prec_fold.append(precision_score(yte,ypred))\n",
    "            rec_fold.append(recall_score(yte,ypred))\n",
    "            auprc_fold.append(auc(recall,precision)\n",
    ")\n",
    "\n",
    "\n",
    "        #mean accuracy across folds\n",
    "        if balance:\n",
    "            print('Npos = %d, Nneg = %d'%(len(indsp),len(indsn)))\n",
    "            \n",
    "        print('%s'%model_name)\n",
    "        print('f1_train=%.3f+/-%.3f, f1_test=%.3f+/-%.3f, prec=%.3f+/-%.3f, rec=%.3f+/-%.3f, auprc=%.3f+/-%.3f'%(\n",
    "        np.nanmean(f1_train_fold),np.nanstd(f1_train_fold),\n",
    "        np.nanmean(f1_fold),np.nanstd(f1_fold),\n",
    "        np.nanmean(prec_fold),np.nanstd(prec_fold), np.nanmean(rec_fold),np.nanstd(rec_fold),\n",
    "        np.nanmean(auprc_fold),np.nanstd(auprc_fold)))\n",
    "        \n",
    "        cf_matrix = confusion_matrix(yte, ypred)\n",
    "        print(cf_matrix)\n",
    "        #store f1 and auc for each fold and clf\n",
    "        f1_fold_clf.append(f1_fold)\n",
    "        auc_fold_clf.append(auprc_fold)\n",
    "        #store cmat for each clf (on last fold)\n",
    "        cmats.update({model_name:cf_matrix})\n",
    "        \n",
    "    return f1_fold_clf, auc_fold_clf, cmats\n",
    "\n",
    "    \n",
    "    \n",
    "def plot_confusion_matrix(cm, classes,\n",
    "                          normalize=False,\n",
    "                          title=None,\n",
    "                          cmap=plt.cm.Blues):\n",
    "    \"\"\"\n",
    "    This function prints and plots the confusion matrix.\n",
    "    Normalization can be applied by setting `normalize=True`.\n",
    "    \"\"\"\n",
    "    if normalize:\n",
    "        cm = cm.astype('float') / cm.sum(axis=1)[:, np.newaxis]\n",
    "#     print(cm)\n",
    "\n",
    "    plt.imshow(cm, interpolation='nearest', cmap=cmap)\n",
    "    plt.title(title)\n",
    "    plt.colorbar()\n",
    "    tick_marks = np.arange(len(classes))\n",
    "    plt.xticks(tick_marks, classes, rotation=45)\n",
    "    plt.yticks(tick_marks, classes)\n",
    "\n",
    "    fmt = '.2f' if normalize else 'd'\n",
    "    thresh = cm.max() / 2.\n",
    "    for i, j in itertools.product(range(cm.shape[0]), range(cm.shape[1])):\n",
    "        plt.text(j, i, format(cm[i, j], fmt),\n",
    "                 horizontalalignment=\"center\",\n",
    "                 color=\"white\" if cm[i, j] > thresh else \"black\")\n",
    "\n",
    "    plt.tight_layout()\n",
    "    plt.ylabel('True label')\n",
    "    plt.xlabel('Predicted label')\n",
    "\n",
    "    \n",
    "\n",
    "def plot_roc(tpr_all,fpr,roc_auc,ax=None,plotname=None,col=None):\n",
    "    #plot mean ROC across subjects (need to add shaded conf interval)\n",
    "    tprmu = np.mean(np.asarray(tpr_all),axis=0)\n",
    "    tpr=np.asarray(tpr_all)\n",
    "    fpr=np.reshape(fpr,(1,-1))\n",
    "    tprmu=np.reshape(tprmu,(1,-1))\n",
    "    label=pd.Series(data = ['%s - AUC = %0.3f' % (plotname,roc_auc)]*len(fpr))\n",
    "    if plotname=='Threshold':\n",
    "        ls = '-'\n",
    "    else:\n",
    "        ls='-'\n",
    "    if ax == None:\n",
    "        ax = sns.tsplot(data=tpr,time=fpr,ci=95,condition=label,legend=True,color=col,lw=3,linestyle=ls)\n",
    "    else:\n",
    "        sns.tsplot(data=tpr,time=fpr,ci=95,condition=label, legend=True,ax=ax,color=col,lw=3,linestyle=ls)\n",
    "             \n",
    "    lw = 3\n",
    "    ax.plot([0, 1], [0, 1], color='navy', lw=lw, linestyle='--')\n",
    "    ax.set_xlim([-0.05, 1.0])\n",
    "    ax.set_ylim([0.0, 1.05])\n",
    "    ax.set_xlabel('False Positive Rate',fontsize=16)\n",
    "    ax.set_ylabel('True Positive Rate',fontsize=16)\n",
    "    ax.legend(loc='lower right')\n",
    "    \n",
    "    return ax"
   ]
  },
  {
   "cell_type": "code",
   "execution_count": 3,
   "metadata": {
    "collapsed": true
   },
   "outputs": [],
   "source": [
    "#---------------------------------------------------------------------------------------------------------\n",
    "# Set path to folder containing Subject ID numbers\n",
    "path = '/Volumes/RTO/CIS-PD Study/Subjects/' #Mac\n",
    "# path = r'W:\\CIS-PD Study\\Subjects' #Windows local path adai\n",
    "#---------------------------------------------------------------------------------------------------------\n",
    "#Path where dictionary subject data is stored\n",
    "# dict_path = 'W:\\CIS-PD Study\\Data_dict' #remote repo\n",
    "dict_path = '../Data_dict' #local path\n",
    "# dict_path = r'C:\\Users\\adai\\Documents\\Data_dict' #Windows local path adai\n",
    "\n",
    "# scores_path = r'W:\\CIS-PD Study\\Scores' #remote repo\n",
    "scores_path = '../Scores/' #local path\n",
    "\n",
    "#path where feature matrix is saved\n",
    "features_path = '../FeatureMatrix' #local"
   ]
  },
  {
   "cell_type": "markdown",
   "metadata": {},
   "source": [
    "### CNN functions"
   ]
  },
  {
   "cell_type": "code",
   "execution_count": 382,
   "metadata": {
    "collapsed": true
   },
   "outputs": [],
   "source": [
    "# useful functions\n",
    "def _data_reshaping(X_train, X_valid, network_type):\n",
    "    _, win_len, dim = X_train.shape\n",
    "    print(network_type)\n",
    "    if network_type=='CNN' or network_type=='ConvLSTM':\n",
    "\n",
    "        # make it into (frame_number, dimension, window_size, channel=1) for convNet\n",
    "        X_train = np.swapaxes(X_train,1,2)\n",
    "        X_valid = np.swapaxes(X_valid,1,2)\n",
    "\n",
    "        X_train = np.reshape(X_train, (-1, dim, win_len, 1))\n",
    "        X_valid = np.reshape(X_valid, (-1, dim, win_len, 1))\n",
    "    if network_type=='MLP':\n",
    "        X_train = np.reshape(X_train, (-1, dim*win_len))\n",
    "        X_valid = np.reshape(X_valid, (-1, dim*win_len))\n",
    "\n",
    "    return X_train, X_valid\n",
    "\n",
    "\n",
    "def model_conv(model):\n",
    "    model.add(Conv2D(feat_map_num, kernel_size=(1, 5),\n",
    "                 activation='relu',\n",
    "                 input_shape=(dim, win_len, 1),\n",
    "                 padding='same'))\n",
    "    model.add(MaxPooling2D(pool_size=(1, 2)))\n",
    "    model.add(Dropout(0.5))\n",
    "    model.add(Conv2D(feat_map_num, kernel_size=(1, 5), activation='relu',padding='same'))\n",
    "    model.add(MaxPooling2D(pool_size=(1, 2)))\n",
    "    model.add(Dropout(0.5))\n",
    "\n",
    "\n",
    "def model_eval(X_valid,y_valid):\n",
    "    fig=plt.figure()\n",
    "    fig.add_subplot(121)\n",
    "    plt.plot(hist.history['loss'])\n",
    "    plt.plot(hist.history['val_loss'])\n",
    "    plt.title('loss')\n",
    "    fig.add_subplot(122)\n",
    "    plt.plot(hist.history['acc'])\n",
    "    plt.plot(hist.history['val_acc'])\n",
    "    plt.title('accuracy')\n",
    "    plt.legend(['train','test'],loc='best')\n",
    "\n",
    "    #performance eval\n",
    "    y_pred = np.argmax(model.predict(X_valid), axis=1)\n",
    "    y_true = np.argmax(y_valid, axis=1)\n",
    "    y_score = model.predict(X_valid)\n",
    "    \n",
    "    f1_test=f1_score(y_true,y_pred)\n",
    "    Prec = precision_score(y_true,y_pred)\n",
    "    Rec = recall_score(y_true,y_pred)\n",
    "    precision, recall, _ = precision_recall_curve(y_true,y_score)\n",
    "    auprc = auc(recall,precision)\n",
    "\n",
    "    print('f1_test=%.3f, Prec=%.3f, Rec=%.3f, auprc=%.3f'%(f1_test,Prec,Rec,auprc))\n",
    "    cf_matrix = confusion_matrix(y_true, y_pred)\n",
    "    print(cf_matrix)\n",
    "    class_wise_f1 = np.round(f1_score(y_true, y_pred, average=None)*100)*0.01\n",
    "    print('the mean f1 score:{:.2f}'.format(np.mean(class_wise_f1)))\n",
    "\n",
    "def stdclipdata(X,plotdata=False):\n",
    "    #standardize clips data by channel (for CNN)\n",
    "    Xn = X.copy()\n",
    "    acc = np.reshape(X,(X.shape[0]*X.shape[1],X.shape[2]))\n",
    "    m = np.mean(acc,axis=0)\n",
    "    s = np.std(acc,axis=0)\n",
    "    for c in range(X.shape[0]):\n",
    "        for a in range(X.shape[2]):\n",
    "            Xn[c,:,a]=(X[c,:,a]-m[a])/s[a]\n",
    "    Xn.shape\n",
    "    if plotdata:\n",
    "        for i in range(5,10):\n",
    "            print(np.std(Xn[i],axis=0),np.std(X[i],axis=0))\n",
    "            plt.plot(Xn[i])\n",
    "\n",
    "    return Xn"
   ]
  },
  {
   "cell_type": "markdown",
   "metadata": {},
   "source": [
    "### Load data"
   ]
  },
  {
   "cell_type": "code",
   "execution_count": 4,
   "metadata": {
    "collapsed": false
   },
   "outputs": [
    {
     "name": "stdout",
     "output_type": "stream",
     "text": [
      "(28499, 44)\n"
     ]
    },
    {
     "data": {
      "text/html": [
       "<div>\n",
       "<style>\n",
       "    .dataframe thead tr:only-child th {\n",
       "        text-align: right;\n",
       "    }\n",
       "\n",
       "    .dataframe thead th {\n",
       "        text-align: left;\n",
       "    }\n",
       "\n",
       "    .dataframe tbody tr th {\n",
       "        vertical-align: top;\n",
       "    }\n",
       "</style>\n",
       "<table border=\"1\" class=\"dataframe\">\n",
       "  <thead>\n",
       "    <tr style=\"text-align: right;\">\n",
       "      <th></th>\n",
       "      <th>Unnamed: 0</th>\n",
       "      <th>Subject</th>\n",
       "      <th>Visit</th>\n",
       "      <th>Task</th>\n",
       "      <th>Location</th>\n",
       "      <th>Bradykinesia</th>\n",
       "      <th>Tremor</th>\n",
       "      <th>RMSX</th>\n",
       "      <th>RMSY</th>\n",
       "      <th>RMSZ</th>\n",
       "      <th>...</th>\n",
       "      <th>PSD_std</th>\n",
       "      <th>PSD_skew</th>\n",
       "      <th>PSD_kur</th>\n",
       "      <th>jerk_mean</th>\n",
       "      <th>jerk_std</th>\n",
       "      <th>jerk_skew</th>\n",
       "      <th>jerk_kur</th>\n",
       "      <th>Sen_X</th>\n",
       "      <th>Sen_Y</th>\n",
       "      <th>Sen_Z</th>\n",
       "    </tr>\n",
       "  </thead>\n",
       "  <tbody>\n",
       "    <tr>\n",
       "      <th>0</th>\n",
       "      <td>0</td>\n",
       "      <td>1004</td>\n",
       "      <td>2 Weeks: Time 0</td>\n",
       "      <td>Motor #2: Walking</td>\n",
       "      <td>dorsal_hand_left</td>\n",
       "      <td>1.0</td>\n",
       "      <td>0.0</td>\n",
       "      <td>0.007757</td>\n",
       "      <td>0.010663</td>\n",
       "      <td>0.006639</td>\n",
       "      <td>...</td>\n",
       "      <td>0.001943</td>\n",
       "      <td>3.019358</td>\n",
       "      <td>8.685826</td>\n",
       "      <td>0.000318</td>\n",
       "      <td>0.039815</td>\n",
       "      <td>-0.184625</td>\n",
       "      <td>12.745926</td>\n",
       "      <td>0.632860</td>\n",
       "      <td>0.662610</td>\n",
       "      <td>0.612830</td>\n",
       "    </tr>\n",
       "    <tr>\n",
       "      <th>1</th>\n",
       "      <td>1</td>\n",
       "      <td>1004</td>\n",
       "      <td>2 Weeks: Time 0</td>\n",
       "      <td>Motor #2: Walking</td>\n",
       "      <td>dorsal_hand_left</td>\n",
       "      <td>1.0</td>\n",
       "      <td>0.0</td>\n",
       "      <td>0.007055</td>\n",
       "      <td>0.010101</td>\n",
       "      <td>0.006168</td>\n",
       "      <td>...</td>\n",
       "      <td>0.001101</td>\n",
       "      <td>2.173485</td>\n",
       "      <td>4.459587</td>\n",
       "      <td>0.000191</td>\n",
       "      <td>0.025149</td>\n",
       "      <td>-0.091885</td>\n",
       "      <td>0.860041</td>\n",
       "      <td>0.621925</td>\n",
       "      <td>0.629151</td>\n",
       "      <td>0.538592</td>\n",
       "    </tr>\n",
       "  </tbody>\n",
       "</table>\n",
       "<p>2 rows × 44 columns</p>\n",
       "</div>"
      ],
      "text/plain": [
       "   Unnamed: 0  Subject            Visit               Task          Location  \\\n",
       "0           0     1004  2 Weeks: Time 0  Motor #2: Walking  dorsal_hand_left   \n",
       "1           1     1004  2 Weeks: Time 0  Motor #2: Walking  dorsal_hand_left   \n",
       "\n",
       "   Bradykinesia  Tremor      RMSX      RMSY      RMSZ    ...      PSD_std  \\\n",
       "0           1.0     0.0  0.007757  0.010663  0.006639    ...     0.001943   \n",
       "1           1.0     0.0  0.007055  0.010101  0.006168    ...     0.001101   \n",
       "\n",
       "   PSD_skew   PSD_kur  jerk_mean  jerk_std  jerk_skew   jerk_kur     Sen_X  \\\n",
       "0  3.019358  8.685826   0.000318  0.039815  -0.184625  12.745926  0.632860   \n",
       "1  2.173485  4.459587   0.000191  0.025149  -0.091885   0.860041  0.621925   \n",
       "\n",
       "      Sen_Y     Sen_Z  \n",
       "0  0.662610  0.612830  \n",
       "1  0.629151  0.538592  \n",
       "\n",
       "[2 rows x 44 columns]"
      ]
     },
     "execution_count": 4,
     "metadata": {},
     "output_type": "execute_result"
    }
   ],
   "source": [
    "#load feature matrix - TREMOR\n",
    "# Data = pd.read_csv(os.path.join(features_path,'Datatremor.csv')) #band-pass filter 3-8 Hz\n",
    "# Data = pd.read_csv(os.path.join(features_path,'Databradykinesia.csv')) #low-pass 3 Hz\n",
    "Data = pd.read_csv(os.path.join(features_path,'Data.csv')) #only HP filter\n",
    "print(Data.shape)\n",
    "Data.head(2)"
   ]
  },
  {
   "cell_type": "code",
   "execution_count": 25,
   "metadata": {
    "collapsed": false
   },
   "outputs": [
    {
     "data": {
      "text/plain": [
       "array(['dorsal_hand_left', 'dorsal_hand_right'], dtype=object)"
      ]
     },
     "execution_count": 25,
     "metadata": {},
     "output_type": "execute_result"
    }
   ],
   "source": [
    "Data.Location.unique()"
   ]
  },
  {
   "cell_type": "code",
   "execution_count": 6,
   "metadata": {
    "collapsed": false
   },
   "outputs": [
    {
     "data": {
      "text/plain": [
       "<matplotlib.text.Text at 0x1043b0668>"
      ]
     },
     "execution_count": 6,
     "metadata": {},
     "output_type": "execute_result"
    },
    {
     "data": {
      "image/png": "[encoded data removed]",
      "text/plain": [
       "<matplotlib.figure.Figure at 0x110476f98>"
      ]
     },
     "metadata": {},
     "output_type": "display_data"
    }
   ],
   "source": [
    "fig = plt.figure(figsize=(10,5))\n",
    "fig.add_subplot(121)\n",
    "Data['Bradykinesia'].hist()\n",
    "plt.title('Bradykinesia')\n",
    "fig.add_subplot(122)\n",
    "Data['Tremor'].hist()\n",
    "plt.title('Tremor')"
   ]
  },
  {
   "cell_type": "markdown",
   "metadata": {},
   "source": [
    "How many instances of symptoms (>0) we have per subject and task"
   ]
  },
  {
   "cell_type": "code",
   "execution_count": 17,
   "metadata": {
    "collapsed": false
   },
   "outputs": [
    {
     "data": {
      "text/plain": [
       "(<matplotlib.text.Text at 0x1126d2da0>, <matplotlib.text.Text at 0x11256e1d0>)"
      ]
     },
     "execution_count": 17,
     "metadata": {},
     "output_type": "execute_result"
    },
    {
     "data": {
      "image/png": "[encoded data removed]",
      "text/plain": [
       "<matplotlib.figure.Figure at 0x1043e50b8>"
      ]
     },
     "metadata": {},
     "output_type": "display_data"
    }
   ],
   "source": [
    "BradP=[]; TremorP=[]\n",
    "for t in Data['Task'].unique():\n",
    "    d = Data.loc[Data['Task']==t]\n",
    "    BradP.append(sum(d['Bradykinesia'] > 0))\n",
    "    TremorP.append(sum(d['Tremor'] > 0))\n",
    "\n",
    "fig = plt.figure(figsize=(8,4))\n",
    "fig.add_subplot(121)\n",
    "sns.barplot(x=np.arange(len(BradP)),y=BradP)\n",
    "plt.title('Bradykinesia - Symptoms > 0 per Task'), plt.xlabel('Task')\n",
    "fig.add_subplot(122)\n",
    "sns.barplot(x=np.arange(len(TremorP)),y=TremorP)\n",
    "plt.title('Tremor - Symptoms > 0 per Task'), plt.xlabel('Task')\n"
   ]
  },
  {
   "cell_type": "code",
   "execution_count": 19,
   "metadata": {
    "collapsed": false
   },
   "outputs": [
    {
     "data": {
      "text/plain": [
       "(<matplotlib.text.Text at 0x11284e3c8>, <matplotlib.text.Text at 0x111f7a0f0>)"
      ]
     },
     "execution_count": 19,
     "metadata": {},
     "output_type": "execute_result"
    },
    {
     "data": {
      "image/png": "[encoded data removed]",
      "text/plain": [
       "<matplotlib.figure.Figure at 0x1122fff60>"
      ]
     },
     "metadata": {},
     "output_type": "display_data"
    }
   ],
   "source": [
    "BradP=[]; TremorP=[]\n",
    "for t in Data['Subject'].unique():\n",
    "    d = Data.loc[Data['Subject']==t]\n",
    "    BradP.append(sum(d['Bradykinesia'] > 0))\n",
    "    TremorP.append(sum(d['Tremor'] > 0))\n",
    "\n",
    "fig = plt.figure(figsize=(8,4))\n",
    "fig.add_subplot(121)\n",
    "sns.barplot(x=np.arange(len(BradP)),y=BradP)\n",
    "plt.title('Bradykinesia - Symptoms > 0 per Subj'), plt.xlabel('Subj')\n",
    "fig.add_subplot(122)\n",
    "sns.barplot(x=np.arange(len(TremorP)),y=TremorP)\n",
    "plt.title('Tremor - Symptoms > 0 per Subj'), plt.xlabel('Subj')\n"
   ]
  },
  {
   "cell_type": "markdown",
   "metadata": {},
   "source": [
    "## Organize target scores into array"
   ]
  },
  {
   "cell_type": "code",
   "execution_count": 37,
   "metadata": {
    "collapsed": true
   },
   "outputs": [],
   "source": [
    "# symptom = 'Bradykinesia'\n",
    "symptom = 'Tremor'"
   ]
  },
  {
   "cell_type": "code",
   "execution_count": 38,
   "metadata": {
    "collapsed": false
   },
   "outputs": [],
   "source": [
    "#rows with symptoms \n",
    "indp = ((Data[symptom]>0))\n",
    "indp = indp.values"
   ]
  },
  {
   "cell_type": "code",
   "execution_count": 39,
   "metadata": {
    "collapsed": false
   },
   "outputs": [
    {
     "name": "stdout",
     "output_type": "stream",
     "text": [
      "Rows w Tremor 6421/28499 = 0.23\n"
     ]
    }
   ],
   "source": [
    "print('Rows w %s %d/%d = %.2f'%(symptom,sum(indp),len(indp),(sum(indp)/len(indp))))"
   ]
  },
  {
   "cell_type": "markdown",
   "metadata": {},
   "source": [
    "# PCA on features to visualize subjects with symptom\n"
   ]
  },
  {
   "cell_type": "code",
   "execution_count": 40,
   "metadata": {
    "collapsed": true
   },
   "outputs": [],
   "source": [
    "from sklearn.decomposition import PCA\n",
    "from sklearn.discriminant_analysis import LinearDiscriminantAnalysis as LDA\n",
    "from sklearn.preprocessing import StandardScaler"
   ]
  },
  {
   "cell_type": "code",
   "execution_count": 41,
   "metadata": {
    "collapsed": false
   },
   "outputs": [
    {
     "name": "stdout",
     "output_type": "stream",
     "text": [
      "(28499, 37)\n"
     ]
    }
   ],
   "source": [
    "#standardize features\n",
    "X = Data.iloc[:,7:]\n",
    "X_std = StandardScaler().fit_transform(X)\n",
    "print(X.shape)"
   ]
  },
  {
   "cell_type": "code",
   "execution_count": 42,
   "metadata": {
    "collapsed": false
   },
   "outputs": [
    {
     "name": "stdout",
     "output_type": "stream",
     "text": [
      "total explained variance ratio (first 10 components): 0.698\n",
      "[ 0.25546264  0.11378354  0.07891475  0.0557975   0.04323559  0.03197158\n",
      "  0.03068572  0.03004261  0.02988952  0.02823359]\n"
     ]
    },
    {
     "data": {
      "text/plain": [
       "<matplotlib.text.Text at 0x11d91f240>"
      ]
     },
     "execution_count": 42,
     "metadata": {},
     "output_type": "execute_result"
    },
    {
     "data": {
      "image/png": "[encoded data removed]",
      "text/plain": [
       "<matplotlib.figure.Figure at 0x112a5ddd8>"
      ]
     },
     "metadata": {},
     "output_type": "display_data"
    }
   ],
   "source": [
    "%matplotlib inline\n",
    "nC = 10\n",
    "pca = PCA(n_components=nC)\n",
    "Xpca = pca.fit(X_std).transform(X_std)\n",
    "# Percentage of variance explained for each components\n",
    "print('total explained variance ratio (first %d components): %.3f'%(nC, pca.explained_variance_ratio_[0:nC].sum()))\n",
    "print(pca.explained_variance_ratio_[:10])\n",
    "ax = plt.plot(range(1,nC+1),pca.explained_variance_ratio_,'.-')\n",
    "plt.xlabel('# of components')\n",
    "plt.ylabel('% of variance explained')"
   ]
  },
  {
   "cell_type": "code",
   "execution_count": 43,
   "metadata": {
    "collapsed": false
   },
   "outputs": [
    {
     "data": {
      "text/plain": [
       "(28499, 10)"
      ]
     },
     "execution_count": 43,
     "metadata": {},
     "output_type": "execute_result"
    }
   ],
   "source": [
    "Xpca.shape"
   ]
  },
  {
   "cell_type": "code",
   "execution_count": 44,
   "metadata": {
    "collapsed": false
   },
   "outputs": [
    {
     "data": {
      "text/plain": [
       "<matplotlib.legend.Legend at 0x11db3da58>"
      ]
     },
     "execution_count": 44,
     "metadata": {},
     "output_type": "execute_result"
    },
    {
     "data": {
      "image/png": "[encoded data removed]",
      "text/plain": [
       "<matplotlib.figure.Figure at 0x11d935da0>"
      ]
     },
     "metadata": {},
     "output_type": "display_data"
    }
   ],
   "source": [
    "sns.set_context('talk')\n",
    "fig = plt.figure(figsize=(8,6))\n",
    "plt.scatter(Xpca[~indp,0],Xpca[~indp,1],cmap=plt.cm.Set1,edgecolors='k',alpha=0.8,label='No '+symptom)\n",
    "plt.scatter(Xpca[indp,0],Xpca[indp,1],cmap=plt.cm.Set1,edgecolors='k',alpha=0.4,label=symptom)\n",
    "plt.legend()"
   ]
  },
  {
   "cell_type": "markdown",
   "metadata": {},
   "source": [
    "# Fit some classifiers to data using LOSOCV"
   ]
  },
  {
   "cell_type": "code",
   "execution_count": 60,
   "metadata": {
    "collapsed": true
   },
   "outputs": [],
   "source": [
    "from sklearn.model_selection import LeaveOneGroupOut\n",
    "from sklearn import preprocessing\n",
    "from sklearn import neighbors, linear_model\n",
    "from sklearn.ensemble import RandomForestClassifier, AdaBoostClassifier, GradientBoostingClassifier, ExtraTreesClassifier\n",
    "from sklearn.svm import SVC\n",
    "from sklearn.neighbors import KNeighborsClassifier\n",
    "from sklearn.model_selection import KFold, StratifiedKFold, cross_val_score\n",
    "from sklearn.model_selection import GridSearchCV\n",
    "from sklearn import metrics\n",
    "from sklearn.linear_model import ElasticNetCV, LogisticRegression\n",
    "from sklearn.metrics import roc_curve, auc, roc_auc_score\n",
    "from sklearn.metrics import confusion_matrix"
   ]
  },
  {
   "cell_type": "code",
   "execution_count": 61,
   "metadata": {
    "collapsed": true
   },
   "outputs": [],
   "source": [
    "#LOSO CV\n",
    "groups = Data.Subject.as_matrix()"
   ]
  },
  {
   "cell_type": "code",
   "execution_count": 63,
   "metadata": {
    "collapsed": false
   },
   "outputs": [
    {
     "name": "stdout",
     "output_type": "stream",
     "text": [
      "(28499, 37)\n"
     ]
    }
   ],
   "source": [
    "#standardize features (should be done in the CV loop)\n",
    "X = Data.iloc[:,7:]\n",
    "X_std = StandardScaler().fit_transform(X)\n",
    "print(X_std.shape)"
   ]
  },
  {
   "cell_type": "code",
   "execution_count": 95,
   "metadata": {
    "collapsed": false
   },
   "outputs": [
    {
     "name": "stdout",
     "output_type": "stream",
     "text": [
      "Rows w Tremor 6421/28499 = 0.23\n",
      "Training Random Forest\n",
      "f1_test=0.256+/-0.196, prec=0.438+/-0.282, rec=0.225+/-0.185, auprc=0.398+/-0.258\n",
      "Training XGB\n",
      "f1_test=0.241+/-0.179, prec=0.467+/-0.294, rec=0.203+/-0.189, auprc=0.414+/-0.264\n",
      "Rows w Bradykinesia 13734/28499 = 0.48\n",
      "Training Random Forest\n",
      "f1_test=0.531+/-0.128, prec=0.563+/-0.205, rec=0.558+/-0.133, auprc=0.582+/-0.210\n",
      "Training XGB\n",
      "f1_test=0.554+/-0.121, prec=0.555+/-0.195, rec=0.620+/-0.131, auprc=0.574+/-0.206\n"
     ]
    }
   ],
   "source": [
    "t1=time.time()\n",
    "\n",
    "for symptom in ['Tremor','Bradykinesia']:\n",
    "    \n",
    "    indp = ((Data[symptom]>0))\n",
    "    indp = indp.values\n",
    "    y = indp.astype(int) #target \n",
    "    print('Rows w %s %d/%d = %.2f'%(symptom,sum(indp),len(indp),(sum(indp)/len(indp))))\n",
    "\n",
    "    models = [RandomForestClassifier(n_estimators=100,random_state=2),          \n",
    "          XGBClassifier()]\n",
    "    model_name = ['Random Forest','XGB']\n",
    "    models = list(zip(models,model_name))\n",
    "\n",
    "    LOSOCV(Data,X_std,y,groups,models)\n",
    "    \n",
    "print('Elapsed time = %.3f'%(round(time.time()-t1)))    "
   ]
  },
  {
   "cell_type": "markdown",
   "metadata": {},
   "source": [
    "## Try with k-fold CV"
   ]
  },
  {
   "cell_type": "code",
   "execution_count": 98,
   "metadata": {
    "collapsed": false
   },
   "outputs": [
    {
     "name": "stdout",
     "output_type": "stream",
     "text": [
      "Rows w Tremor 6421/28499 = 0.23\n",
      "Random Forest\n",
      "f1_train=1.000+/-0.000, f1_test=0.556+/-0.008, prec=0.843+/-0.016, rec=0.415+/-0.010, auprc=0.736+/-0.005\n",
      "[[4294  121]\n",
      " [ 743  541]]\n",
      "XGB\n",
      "f1_train=0.468+/-0.006, f1_test=0.447+/-0.015, prec=0.758+/-0.010, rec=0.317+/-0.014, auprc=0.637+/-0.005\n",
      "[[4279  136]\n",
      " [ 843  441]]\n",
      "Rows w Bradykinesia 13734/28499 = 0.48\n",
      "Random Forest\n",
      "f1_train=1.000+/-0.000, f1_test=0.758+/-0.005, prec=0.773+/-0.004, rec=0.743+/-0.008, auprc=0.850+/-0.003\n",
      "[[2338  615]\n",
      " [ 731 2015]]\n",
      "XGB\n",
      "f1_train=0.721+/-0.002, f1_test=0.703+/-0.009, prec=0.693+/-0.008, rec=0.714+/-0.011, auprc=0.758+/-0.008\n",
      "[[2040  913]\n",
      " [ 823 1923]]\n"
     ]
    }
   ],
   "source": [
    "t1=time.time()\n",
    "\n",
    "for symptom in ['Tremor','Bradykinesia']:\n",
    "    \n",
    "    indp = ((Data[symptom]>0))\n",
    "    indp = indp.values\n",
    "    y = indp.astype(int) #target \n",
    "    print('Rows w %s %d/%d = %.2f'%(symptom,sum(indp),len(indp),(sum(indp)/len(indp))))\n",
    "\n",
    "    models = [RandomForestClassifier(n_estimators=100,random_state=2),          \n",
    "          XGBClassifier()]\n",
    "    model_name = ['Random Forest','XGB']\n",
    "    models = list(zip(models,model_name))\n",
    "\n",
    "    f1_fold_clf, auc_fold_clf, cmats = trainmodel_Kfold(X_std,y,models,nfolds=5,balance=False)\n",
    "    \n",
    "print('Elapsed time = %.3f'%(round(time.time()-t1)))    "
   ]
  },
  {
   "cell_type": "code",
   "execution_count": 109,
   "metadata": {
    "collapsed": false
   },
   "outputs": [
    {
     "name": "stdout",
     "output_type": "stream",
     "text": [
      "\n",
      "Rows w Tremor 6421/28499 = 0.23\n",
      "Npos = 5137, Nneg = 5137\n",
      "Random Forest\n",
      "f1_train=1.000+/-0.000, f1_test=0.613+/-0.007, prec=0.505+/-0.010, rec=0.781+/-0.010, auprc=0.698+/-0.009\n",
      "[[3401 1014]\n",
      " [ 291  993]]\n",
      "Npos = 5137, Nneg = 5137\n",
      "XGB\n",
      "f1_train=0.784+/-0.004, f1_test=0.570+/-0.010, prec=0.458+/-0.010, rec=0.755+/-0.017, auprc=0.627+/-0.006\n",
      "[[3259 1156]\n",
      " [ 302  982]]\n",
      "\n",
      "Rows w Bradykinesia 13734/28499 = 0.48\n",
      "Npos = 10988, Nneg = 10988\n",
      "Random Forest\n",
      "f1_train=1.000+/-0.000, f1_test=0.763+/-0.009, prec=0.758+/-0.009, rec=0.767+/-0.010, auprc=0.848+/-0.005\n",
      "[[2245  708]\n",
      " [ 672 2074]]\n",
      "Npos = 10988, Nneg = 10988\n",
      "XGB\n",
      "f1_train=0.735+/-0.001, f1_test=0.707+/-0.009, prec=0.678+/-0.008, rec=0.739+/-0.012, auprc=0.757+/-0.009\n",
      "[[1941 1012]\n",
      " [ 767 1979]]\n",
      "Elapsed time = 131.000\n"
     ]
    }
   ],
   "source": [
    "t1=time.time()\n",
    "for symptom in ['Tremor','Bradykinesia']:\n",
    "    \n",
    "    indp = ((Data[symptom]>0))\n",
    "    indp = indp.values\n",
    "    y = indp.astype(int) #target \n",
    "    print('\\nRows w %s %d/%d = %.2f'%(symptom,sum(indp),len(indp),(sum(indp)/len(indp))))\n",
    "\n",
    "    models = [RandomForestClassifier(n_estimators=100,random_state=2),          \n",
    "          XGBClassifier()]\n",
    "    model_name = ['Random Forest','XGB']\n",
    "    models = list(zip(models,model_name))\n",
    "\n",
    "    f1_fold_clf, auc_fold_clf, cmats = trainmodel_Kfold(X_std,y,models,nfolds=5,balance=True)\n",
    "\n",
    "print('Elapsed time = %.3f'%(round(time.time()-t1)))"
   ]
  },
  {
   "cell_type": "markdown",
   "metadata": {},
   "source": [
    "## Recall per Task"
   ]
  },
  {
   "cell_type": "markdown",
   "metadata": {},
   "source": [
    "## CNN on rawdata"
   ]
  },
  {
   "cell_type": "code",
   "execution_count": 154,
   "metadata": {
    "collapsed": true
   },
   "outputs": [],
   "source": [
    "data = pd.read_hdf('../FeatureMatrix/DataRawclips.hdf5')"
   ]
  },
  {
   "cell_type": "code",
   "execution_count": 155,
   "metadata": {
    "collapsed": false
   },
   "outputs": [
    {
     "data": {
      "text/html": [
       "<div>\n",
       "<style>\n",
       "    .dataframe thead tr:only-child th {\n",
       "        text-align: right;\n",
       "    }\n",
       "\n",
       "    .dataframe thead th {\n",
       "        text-align: left;\n",
       "    }\n",
       "\n",
       "    .dataframe tbody tr th {\n",
       "        vertical-align: top;\n",
       "    }\n",
       "</style>\n",
       "<table border=\"1\" class=\"dataframe\">\n",
       "  <thead>\n",
       "    <tr style=\"text-align: right;\">\n",
       "      <th></th>\n",
       "      <th>Subject</th>\n",
       "      <th>Visit</th>\n",
       "      <th>Task</th>\n",
       "      <th>Location</th>\n",
       "      <th>Bradykinesia</th>\n",
       "      <th>Tremor</th>\n",
       "      <th>acc_xyz</th>\n",
       "      <th>gyr_xyz</th>\n",
       "    </tr>\n",
       "  </thead>\n",
       "  <tbody>\n",
       "    <tr>\n",
       "      <th>0</th>\n",
       "      <td>1004</td>\n",
       "      <td>2 Weeks: Time 0</td>\n",
       "      <td>Motor #2: Walking</td>\n",
       "      <td>dorsal_hand_left</td>\n",
       "      <td>1.0</td>\n",
       "      <td>0.0</td>\n",
       "      <td>[[0.00442182590312, -0.0200148763835, -0.01990...</td>\n",
       "      <td>[[2.41092545968, 28.7174792096, 1.80056458381]...</td>\n",
       "    </tr>\n",
       "    <tr>\n",
       "      <th>1</th>\n",
       "      <td>1004</td>\n",
       "      <td>2 Weeks: Time 0</td>\n",
       "      <td>Motor #2: Walking</td>\n",
       "      <td>dorsal_hand_left</td>\n",
       "      <td>1.0</td>\n",
       "      <td>0.0</td>\n",
       "      <td>[[-0.0607082544856, -0.0905657087803, 0.064953...</td>\n",
       "      <td>[[-54.4136720836, 12.9701686122, 110.688944839...</td>\n",
       "    </tr>\n",
       "    <tr>\n",
       "      <th>2</th>\n",
       "      <td>1004</td>\n",
       "      <td>2 Weeks: Time 0</td>\n",
       "      <td>Motor #2: Walking</td>\n",
       "      <td>dorsal_hand_left</td>\n",
       "      <td>1.0</td>\n",
       "      <td>0.0</td>\n",
       "      <td>[[0.220442267724, 0.152858651212, 0.1146350880...</td>\n",
       "      <td>[[-45.2582589456, 7.66002899214, 38.7884336614...</td>\n",
       "    </tr>\n",
       "    <tr>\n",
       "      <th>3</th>\n",
       "      <td>1004</td>\n",
       "      <td>2 Weeks: Time 0</td>\n",
       "      <td>Motor #2: Walking</td>\n",
       "      <td>dorsal_hand_left</td>\n",
       "      <td>1.0</td>\n",
       "      <td>0.0</td>\n",
       "      <td>[[-0.000921648804147, -0.0425384594624, 0.1049...</td>\n",
       "      <td>[[-10.7118333715, -65.6443121996, 15.411612115...</td>\n",
       "    </tr>\n",
       "    <tr>\n",
       "      <th>4</th>\n",
       "      <td>1004</td>\n",
       "      <td>2 Weeks: Time 0</td>\n",
       "      <td>Motor #2: Walking</td>\n",
       "      <td>dorsal_hand_left</td>\n",
       "      <td>1.0</td>\n",
       "      <td>0.0</td>\n",
       "      <td>[[0.055472374389, 0.0319095435029, -0.09051654...</td>\n",
       "      <td>[[62.3483634699, 23.9566643778, -94.8805981537...</td>\n",
       "    </tr>\n",
       "  </tbody>\n",
       "</table>\n",
       "</div>"
      ],
      "text/plain": [
       "   Subject            Visit               Task          Location  \\\n",
       "0     1004  2 Weeks: Time 0  Motor #2: Walking  dorsal_hand_left   \n",
       "1     1004  2 Weeks: Time 0  Motor #2: Walking  dorsal_hand_left   \n",
       "2     1004  2 Weeks: Time 0  Motor #2: Walking  dorsal_hand_left   \n",
       "3     1004  2 Weeks: Time 0  Motor #2: Walking  dorsal_hand_left   \n",
       "4     1004  2 Weeks: Time 0  Motor #2: Walking  dorsal_hand_left   \n",
       "\n",
       "   Bradykinesia  Tremor                                            acc_xyz  \\\n",
       "0           1.0     0.0  [[0.00442182590312, -0.0200148763835, -0.01990...   \n",
       "1           1.0     0.0  [[-0.0607082544856, -0.0905657087803, 0.064953...   \n",
       "2           1.0     0.0  [[0.220442267724, 0.152858651212, 0.1146350880...   \n",
       "3           1.0     0.0  [[-0.000921648804147, -0.0425384594624, 0.1049...   \n",
       "4           1.0     0.0  [[0.055472374389, 0.0319095435029, -0.09051654...   \n",
       "\n",
       "                                             gyr_xyz  \n",
       "0  [[2.41092545968, 28.7174792096, 1.80056458381]...  \n",
       "1  [[-54.4136720836, 12.9701686122, 110.688944839...  \n",
       "2  [[-45.2582589456, 7.66002899214, 38.7884336614...  \n",
       "3  [[-10.7118333715, -65.6443121996, 15.411612115...  \n",
       "4  [[62.3483634699, 23.9566643778, -94.8805981537...  "
      ]
     },
     "execution_count": 155,
     "metadata": {},
     "output_type": "execute_result"
    }
   ],
   "source": [
    "data.head()"
   ]
  },
  {
   "cell_type": "code",
   "execution_count": 156,
   "metadata": {
    "collapsed": false
   },
   "outputs": [
    {
     "data": {
      "text/plain": [
       "27805"
      ]
     },
     "execution_count": 156,
     "metadata": {},
     "output_type": "execute_result"
    }
   ],
   "source": [
    "len(data)"
   ]
  },
  {
   "cell_type": "code",
   "execution_count": null,
   "metadata": {
    "collapsed": true
   },
   "outputs": [],
   "source": [
    "# data['acclen']=data.apply()"
   ]
  },
  {
   "cell_type": "code",
   "execution_count": 264,
   "metadata": {
    "collapsed": false
   },
   "outputs": [],
   "source": [
    "#unpack clips, scores, subj and task data\n",
    "le = LabelEncoder()\n",
    "acc = data.acc_xyz.values\n",
    "gyr = data.gyr_xyz.values\n",
    "scores_brady = data.Bradykinesia\n",
    "scores_tremor = data.Tremor\n",
    "task = le.fit_transform(data.Task)\n",
    "visit = le.fit_transform(data.Visit)\n",
    "subj = le.fit_transform(data.Subject)"
   ]
  },
  {
   "cell_type": "markdown",
   "metadata": {},
   "source": [
    "### Resample data"
   ]
  },
  {
   "cell_type": "code",
   "execution_count": 267,
   "metadata": {
    "collapsed": false
   },
   "outputs": [
    {
     "name": "stdout",
     "output_type": "stream",
     "text": [
      "[313]\n"
     ]
    }
   ],
   "source": [
    "#check clips with less than 313 samples and resample\n",
    "la=[]; lg=[]\n",
    "for i in range(len(acc)):\n",
    "    la.append(acc[i].shape[0])\n",
    "    lg.append(gyr[i].shape[0])\n",
    "\n",
    "print(np.unique(lg))\n",
    "\n",
    "#resample all clips to 313 samples (62.5 Hz)\n",
    "# accres = []\n",
    "num = 313\n",
    "accres = np.zeros((len(acc),num,3) )\n",
    "gyrres = np.zeros((len(gyr),num,3) )\n",
    "for i in range(len(acc)):\n",
    "    if len(acc[i]<num):\n",
    "        accres[i,:,0] = resample(acc[i][:,0],num)\n",
    "        accres[i,:,1] = resample(acc[i][:,1],num)\n",
    "        accres[i,:,2] = resample(acc[i][:,2],num)\n",
    "    else: \n",
    "        accres[i,:,:] = acc[i].copy()\n",
    "        \n",
    "    if len(gyr[i]<num):\n",
    "        gyrres[i,:,0] = resample(acc[i][:,0],num)\n",
    "        gyrres[i,:,1] = resample(acc[i][:,1],num)\n",
    "        gyrres[i,:,2] = resample(acc[i][:,2],num)\n",
    "    else:\n",
    "        gyrres[i,:,:] = acc[i].copy()"
   ]
  },
  {
   "cell_type": "code",
   "execution_count": null,
   "metadata": {
    "collapsed": true
   },
   "outputs": [],
   "source": [
    "acc = accres\n",
    "gyr = gyrres"
   ]
  },
  {
   "cell_type": "code",
   "execution_count": 288,
   "metadata": {
    "collapsed": true
   },
   "outputs": [],
   "source": [
    "def stdclipdata(X,plotdata=False):\n",
    "    #standardize clips data by channel (for CNN)\n",
    "    Xn = X.copy()\n",
    "    acc = np.reshape(X,(X.shape[0]*X.shape[1],X.shape[2]))\n",
    "    m = np.mean(acc,axis=0)\n",
    "    s = np.std(acc,axis=0)\n",
    "    for c in range(X.shape[0]):\n",
    "        for a in range(X.shape[2]):\n",
    "            Xn[c,:,a]=(X[c,:,a]-m[a])/s[a]\n",
    "    Xn.shape\n",
    "    if plotdata:\n",
    "        for i in range(0,5):\n",
    "            print(np.mean(Xn[i],axis=0),np.std(X[i],axis=0))\n",
    "            plt.plot(Xn[i])\n",
    "\n",
    "    return Xn"
   ]
  },
  {
   "cell_type": "code",
   "execution_count": 295,
   "metadata": {
    "collapsed": false
   },
   "outputs": [],
   "source": [
    "accn = stdclipdata(acc,False)\n",
    "gyrn = stdclipdata(gyr,False)"
   ]
  },
  {
   "cell_type": "markdown",
   "metadata": {},
   "source": [
    "### Train CNN on bradykinesia data\n",
    "* accelerometer only"
   ]
  },
  {
   "cell_type": "code",
   "execution_count": 333,
   "metadata": {
    "collapsed": false
   },
   "outputs": [
    {
     "name": "stdout",
     "output_type": "stream",
     "text": [
      "(27805, 313, 3)\n",
      "(27805,)\n"
     ]
    }
   ],
   "source": [
    "X = accn.copy()\n",
    "y = scores_brady.values\n",
    "print(X.shape)\n",
    "print(y.shape)"
   ]
  },
  {
   "cell_type": "code",
   "execution_count": 335,
   "metadata": {
    "collapsed": false
   },
   "outputs": [],
   "source": [
    "#remove rows (tasks) for which bradykinesia scores do not exists\n",
    "indok = np.where(~np.isnan(y))[0]\n",
    "X = X[indok,:,:]\n",
    "y = y[indok]\n",
    "task = task[indok]\n",
    "visit = visit[indok]\n",
    "subj = subj[indok]"
   ]
  },
  {
   "cell_type": "code",
   "execution_count": 425,
   "metadata": {
    "collapsed": false
   },
   "outputs": [
    {
     "data": {
      "text/plain": [
       "array([ 0,  1,  2,  3,  4,  5,  6,  8,  9, 10])"
      ]
     },
     "execution_count": 425,
     "metadata": {},
     "output_type": "execute_result"
    }
   ],
   "source": [
    "np.unique(task)"
   ]
  },
  {
   "cell_type": "code",
   "execution_count": 337,
   "metadata": {
    "collapsed": false
   },
   "outputs": [
    {
     "name": "stdout",
     "output_type": "stream",
     "text": [
      "(26449, 313, 3)\n",
      "(26449,)\n",
      "(26449,)\n",
      "(26449,)\n",
      "(26449,)\n"
     ]
    }
   ],
   "source": [
    "print(X.shape)\n",
    "print(y.shape)\n",
    "print(task.shape)\n",
    "print(visit.shape)\n",
    "print(subj.shape)"
   ]
  },
  {
   "cell_type": "code",
   "execution_count": 346,
   "metadata": {
    "collapsed": true
   },
   "outputs": [],
   "source": [
    "#binarize labels\n",
    "y[y>0] = 1"
   ]
  },
  {
   "cell_type": "code",
   "execution_count": 371,
   "metadata": {
    "collapsed": true
   },
   "outputs": [],
   "source": [
    "#load clips, standardize and split data into train and valid set\n",
    "def prepare_data(X,y,network_type,balance=False):\n",
    "    \n",
    "    #standardize all data (note - should std training and apply on test)\n",
    "#     Xn = stdclipdata(X)\n",
    "#     Xn = X\n",
    "    \n",
    "    #perform a random train_valid split first to test approach\n",
    "    inds = np.arange(0,len(y))\n",
    "    X_train,X_valid,y_train,y_valid,inds_train,inds_valid = train_test_split(X,y,inds,test_size=0.2,stratify=task,random_state=32)\n",
    "    print('X_train = ')\n",
    "    print(X_train.shape)\n",
    "    print('X_valid = ')\n",
    "    print(X_valid.shape)\n",
    "    \n",
    "    #balance training dataset\n",
    "    if balance:\n",
    "        indsp = np.where(y_train==1)[0]\n",
    "        indsn = np.random.choice(np.where(y_train==0)[0],size=round(1.5*len(indsp)),replace=False)\n",
    "        inds = np.hstack((indsp,indsn))\n",
    "        X_train=X_train[inds]\n",
    "        y_train=y_train[inds]\n",
    "\n",
    "    num_classes = 2 # \n",
    "    # convert class vectors to binary class matrices\n",
    "    y_train = keras.utils.to_categorical(y_train, num_classes)\n",
    "    y_valid = keras.utils.to_categorical(y_valid, num_classes)\n",
    "    \n",
    "    #format data for specific network\n",
    "    _, win_len, dim = X.shape\n",
    "    print('reshaping data for different models ...')\n",
    "    X_train, X_valid = _data_reshaping(X_train, X_valid, network_type)\n",
    "    print('X_train = ')\n",
    "    print(X_train.shape)\n",
    "\n",
    "    return X_train,y_train,X_valid,y_valid,inds_train,inds_valid,win_len,dim"
   ]
  },
  {
   "cell_type": "code",
   "execution_count": 372,
   "metadata": {
    "collapsed": false
   },
   "outputs": [
    {
     "name": "stdout",
     "output_type": "stream",
     "text": [
      "X_train = \n",
      "(21159, 313, 3)\n",
      "X_valid = \n",
      "(5290, 313, 3)\n",
      "reshaping data for different models ...\n",
      "CNN\n",
      "X_train = \n",
      "(21159, 3, 313, 1)\n"
     ]
    }
   ],
   "source": [
    "X_train,y_train,X_valid,y_valid,inds_train,inds_valid,win_len,dim = prepare_data(X,y,'CNN')"
   ]
  },
  {
   "cell_type": "code",
   "execution_count": 373,
   "metadata": {
    "collapsed": false
   },
   "outputs": [
    {
     "name": "stdout",
     "output_type": "stream",
     "text": [
      "(21159, 1, 313, 3)\n"
     ]
    }
   ],
   "source": [
    "#swap axes to have channel as last dim\n",
    "X_train = np.swapaxes(X_train,1,3)\n",
    "X_valid = np.swapaxes(X_valid,1,3)\n",
    "print(X_train.shape)"
   ]
  },
  {
   "cell_type": "code",
   "execution_count": 376,
   "metadata": {
    "collapsed": true
   },
   "outputs": [],
   "source": [
    "#specifying hyper-parameters\n",
    "batch_size = 512 #1024\n",
    "feat_map_num = 16\n",
    "num_classes =2 "
   ]
  },
  {
   "cell_type": "code",
   "execution_count": 377,
   "metadata": {
    "collapsed": false
   },
   "outputs": [
    {
     "name": "stdout",
     "output_type": "stream",
     "text": [
      "building the model ...\n",
      "_________________________________________________________________\n",
      "Layer (type)                 Output Shape              Param #   \n",
      "=================================================================\n",
      "conv2d_3 (Conv2D)            (None, 1, 313, 16)        1552      \n",
      "_________________________________________________________________\n",
      "max_pooling2d_3 (MaxPooling2 (None, 1, 78, 16)         0         \n",
      "_________________________________________________________________\n",
      "conv2d_4 (Conv2D)            (None, 1, 78, 16)         4112      \n",
      "_________________________________________________________________\n",
      "max_pooling2d_4 (MaxPooling2 (None, 1, 13, 16)         0         \n",
      "_________________________________________________________________\n",
      "flatten_2 (Flatten)          (None, 208)               0         \n",
      "_________________________________________________________________\n",
      "dense_3 (Dense)              (None, 32)                6688      \n",
      "_________________________________________________________________\n",
      "dropout_3 (Dropout)          (None, 32)                0         \n",
      "_________________________________________________________________\n",
      "dense_4 (Dense)              (None, 32)                1056      \n",
      "_________________________________________________________________\n",
      "dropout_4 (Dropout)          (None, 32)                0         \n",
      "_________________________________________________________________\n",
      "dense_5 (Dense)              (None, 2)                 66        \n",
      "=================================================================\n",
      "Total params: 13,474\n",
      "Trainable params: 13,474\n",
      "Non-trainable params: 0\n",
      "_________________________________________________________________\n"
     ]
    }
   ],
   "source": [
    "print('building the model ...')\n",
    "model=Sequential()\n",
    "model.add(Conv2D(filters=16, kernel_size=(1, 32),activation='relu',input_shape=(1, win_len, dim),padding='same'))\n",
    "model.add(MaxPooling2D(pool_size=(1, 4)))\n",
    "model.add(Conv2D(filters=16, kernel_size=(1, 16), activation='relu',padding='same'))\n",
    "model.add(MaxPooling2D(pool_size=(1, 6)))\n",
    "model.add(Flatten())\n",
    "model.add(Dense(32, activation='relu'))\n",
    "model.add(Dropout(0.5))\n",
    "model.add(Dense(32,activation='relu'))\n",
    "model.add(Dropout(0.5))\n",
    "model.add(Dense(num_classes, activation='softmax'))\n",
    "model.summary()"
   ]
  },
  {
   "cell_type": "code",
   "execution_count": 378,
   "metadata": {
    "collapsed": false,
    "scrolled": true
   },
   "outputs": [
    {
     "name": "stdout",
     "output_type": "stream",
     "text": [
      "model training ...\n",
      "Train on 21159 samples, validate on 5290 samples\n",
      "Epoch 1/20\n",
      "21159/21159 [==============================] - 7s - loss: 0.7025 - acc: 0.5203 - val_loss: 0.6858 - val_acc: 0.5815\n",
      "Epoch 2/20\n",
      "21159/21159 [==============================] - 7s - loss: 0.6843 - acc: 0.5578 - val_loss: 0.6718 - val_acc: 0.6066\n",
      "Epoch 3/20\n",
      "21159/21159 [==============================] - 8s - loss: 0.6711 - acc: 0.5922 - val_loss: 0.6540 - val_acc: 0.6278\n",
      "Epoch 4/20\n",
      "21159/21159 [==============================] - 8s - loss: 0.6489 - acc: 0.6270 - val_loss: 0.6298 - val_acc: 0.6501\n",
      "Epoch 5/20\n",
      "21159/21159 [==============================] - 8s - loss: 0.6374 - acc: 0.6419 - val_loss: 0.6229 - val_acc: 0.6544\n",
      "Epoch 6/20\n",
      "21159/21159 [==============================] - 8s - loss: 0.6216 - acc: 0.6632 - val_loss: 0.6044 - val_acc: 0.6671\n",
      "Epoch 7/20\n",
      "21159/21159 [==============================] - 8s - loss: 0.6181 - acc: 0.6683 - val_loss: 0.5959 - val_acc: 0.6796\n",
      "Epoch 8/20\n",
      "21159/21159 [==============================] - 8s - loss: 0.6017 - acc: 0.6839 - val_loss: 0.5829 - val_acc: 0.7104\n",
      "Epoch 9/20\n",
      "21159/21159 [==============================] - 7s - loss: 0.5866 - acc: 0.6959 - val_loss: 0.5724 - val_acc: 0.7204\n",
      "Epoch 10/20\n",
      "21159/21159 [==============================] - 7s - loss: 0.5745 - acc: 0.7103 - val_loss: 0.5662 - val_acc: 0.7183\n",
      "Epoch 11/20\n",
      "21159/21159 [==============================] - 7s - loss: 0.5656 - acc: 0.7161 - val_loss: 0.5761 - val_acc: 0.7049\n",
      "Epoch 12/20\n",
      "21159/21159 [==============================] - 8s - loss: 0.5615 - acc: 0.7204 - val_loss: 0.5621 - val_acc: 0.7238\n",
      "Epoch 13/20\n",
      "21159/21159 [==============================] - 8s - loss: 0.5491 - acc: 0.7293 - val_loss: 0.5454 - val_acc: 0.7376\n",
      "Epoch 14/20\n",
      "21159/21159 [==============================] - 8s - loss: 0.5343 - acc: 0.7412 - val_loss: 0.5437 - val_acc: 0.7287\n",
      "Epoch 15/20\n",
      "21159/21159 [==============================] - 7s - loss: 0.5266 - acc: 0.7471 - val_loss: 0.5338 - val_acc: 0.7452\n",
      "Epoch 16/20\n",
      "21159/21159 [==============================] - 7s - loss: 0.5212 - acc: 0.7525 - val_loss: 0.5303 - val_acc: 0.7450\n",
      "Epoch 17/20\n",
      "21159/21159 [==============================] - 7s - loss: 0.5144 - acc: 0.7561 - val_loss: 0.5279 - val_acc: 0.7423\n",
      "Epoch 18/20\n",
      "21159/21159 [==============================] - 7s - loss: 0.5093 - acc: 0.7632 - val_loss: 0.5238 - val_acc: 0.7486\n",
      "Epoch 19/20\n",
      "21159/21159 [==============================] - 7s - loss: 0.4927 - acc: 0.7739 - val_loss: 0.5184 - val_acc: 0.7495\n",
      "Epoch 20/20\n",
      "21159/21159 [==============================] - 7s - loss: 0.4954 - acc: 0.7712 - val_loss: 0.5156 - val_acc: 0.7544\n"
     ]
    }
   ],
   "source": [
    "print('model training ...')\n",
    "epochs = 20\n",
    "model.compile(loss=keras.losses.categorical_crossentropy,optimizer='adam',metrics=['accuracy'])\n",
    "hist=model.fit(X_train,y_train,batch_size,epochs,shuffle=True,validation_data=(X_valid,y_valid))"
   ]
  },
  {
   "cell_type": "code",
   "execution_count": 379,
   "metadata": {
    "collapsed": false
   },
   "outputs": [
    {
     "name": "stdout",
     "output_type": "stream",
     "text": [
      "f1_test=0.771, Prec=0.736, Rec=0.809\n",
      "[[1808  783]\n",
      " [ 516 2183]]\n",
      "the mean f1 score:0.76\n"
     ]
    },
    {
     "data": {
      "image/png": "[encoded data removed]",
      "text/plain": [
       "<matplotlib.figure.Figure at 0x11eab2e48>"
      ]
     },
     "metadata": {},
     "output_type": "display_data"
    }
   ],
   "source": [
    "model_eval(X_valid,y_valid)"
   ]
  },
  {
   "cell_type": "markdown",
   "metadata": {},
   "source": [
    "after 20 epochs it starts to overfit"
   ]
  },
  {
   "cell_type": "code",
   "execution_count": 380,
   "metadata": {
    "collapsed": false,
    "scrolled": true
   },
   "outputs": [
    {
     "name": "stdout",
     "output_type": "stream",
     "text": [
      "model training ...\n",
      "Train on 21159 samples, validate on 5290 samples\n",
      "Epoch 1/20\n",
      "21159/21159 [==============================] - 7s - loss: 0.4864 - acc: 0.7751 - val_loss: 0.5151 - val_acc: 0.7580\n",
      "Epoch 2/20\n",
      "21159/21159 [==============================] - 7s - loss: 0.4756 - acc: 0.7840 - val_loss: 0.5221 - val_acc: 0.7486\n",
      "Epoch 3/20\n",
      "21159/21159 [==============================] - 7s - loss: 0.4764 - acc: 0.7816 - val_loss: 0.5113 - val_acc: 0.7569\n",
      "Epoch 4/20\n",
      "21159/21159 [==============================] - 8s - loss: 0.4658 - acc: 0.7913 - val_loss: 0.5152 - val_acc: 0.7535\n",
      "Epoch 5/20\n",
      "21159/21159 [==============================] - 8s - loss: 0.4591 - acc: 0.7946 - val_loss: 0.5265 - val_acc: 0.7520\n",
      "Epoch 6/20\n",
      "21159/21159 [==============================] - 8s - loss: 0.4581 - acc: 0.7948 - val_loss: 0.5082 - val_acc: 0.7569\n",
      "Epoch 7/20\n",
      "21159/21159 [==============================] - 7s - loss: 0.4610 - acc: 0.7923 - val_loss: 0.5157 - val_acc: 0.7520\n",
      "Epoch 8/20\n",
      "21159/21159 [==============================] - 8s - loss: 0.4457 - acc: 0.8022 - val_loss: 0.5153 - val_acc: 0.7552\n",
      "Epoch 9/20\n",
      "21159/21159 [==============================] - 7s - loss: 0.4423 - acc: 0.8046 - val_loss: 0.5226 - val_acc: 0.7548\n",
      "Epoch 10/20\n",
      "21159/21159 [==============================] - 7s - loss: 0.4391 - acc: 0.8042 - val_loss: 0.5148 - val_acc: 0.7556\n",
      "Epoch 11/20\n",
      "21159/21159 [==============================] - 8s - loss: 0.4470 - acc: 0.8016 - val_loss: 0.5132 - val_acc: 0.7571\n",
      "Epoch 12/20\n",
      "21159/21159 [==============================] - 9s - loss: 0.4380 - acc: 0.8069 - val_loss: 0.5325 - val_acc: 0.7471\n",
      "Epoch 13/20\n",
      "21159/21159 [==============================] - 10s - loss: 0.4320 - acc: 0.8093 - val_loss: 0.5242 - val_acc: 0.7507\n",
      "Epoch 14/20\n",
      "21159/21159 [==============================] - 11s - loss: 0.4245 - acc: 0.8162 - val_loss: 0.5130 - val_acc: 0.7578\n",
      "Epoch 15/20\n",
      "21159/21159 [==============================] - 12s - loss: 0.4196 - acc: 0.8193 - val_loss: 0.5110 - val_acc: 0.7590\n",
      "Epoch 16/20\n",
      "21159/21159 [==============================] - 9s - loss: 0.4131 - acc: 0.8238 - val_loss: 0.5282 - val_acc: 0.7550\n",
      "Epoch 17/20\n",
      "21159/21159 [==============================] - 9s - loss: 0.4136 - acc: 0.8217 - val_loss: 0.5244 - val_acc: 0.7582\n",
      "Epoch 18/20\n",
      "21159/21159 [==============================] - 9s - loss: 0.4090 - acc: 0.8249 - val_loss: 0.5161 - val_acc: 0.7548\n",
      "Epoch 19/20\n",
      "21159/21159 [==============================] - 9s - loss: 0.4053 - acc: 0.8280 - val_loss: 0.5199 - val_acc: 0.7563\n",
      "Epoch 20/20\n",
      "21159/21159 [==============================] - 7s - loss: 0.4206 - acc: 0.8163 - val_loss: 0.5518 - val_acc: 0.7459\n",
      "f1_test=0.724, Prec=0.813, Rec=0.652\n",
      "[[2187  404]\n",
      " [ 940 1759]]\n",
      "the mean f1 score:0.74\n"
     ]
    },
    {
     "data": {
      "image/png": "[encoded data removed]",
      "text/plain": [
       "<matplotlib.figure.Figure at 0x11f303c50>"
      ]
     },
     "metadata": {},
     "output_type": "display_data"
    }
   ],
   "source": [
    "print('model training ...')\n",
    "epochs = 20\n",
    "model.compile(loss=keras.losses.categorical_crossentropy,optimizer='adam',metrics=['accuracy'])\n",
    "hist=model.fit(X_train,y_train,batch_size,epochs,shuffle=True,validation_data=(X_valid,y_valid))\n",
    "model_eval(X_valid,y_valid)"
   ]
  },
  {
   "cell_type": "code",
   "execution_count": 405,
   "metadata": {
    "collapsed": false
   },
   "outputs": [
    {
     "data": {
      "text/plain": [
       "<matplotlib.text.Text at 0x1229bc160>"
      ]
     },
     "execution_count": 405,
     "metadata": {},
     "output_type": "execute_result"
    },
    {
     "data": {
      "image/png": "[encoded data removed]",
      "text/plain": [
       "<matplotlib.figure.Figure at 0x1229a8630>"
      ]
     },
     "metadata": {},
     "output_type": "display_data"
    }
   ],
   "source": [
    "#recall rate per subject\n",
    "y_pred = np.argmax(model.predict(X_valid),axis=1)\n",
    "y_valid = np.argmax(y_valid,axis=1)\n",
    "subj_valid=subj[inds_valid]\n",
    "\n",
    "RecS = []\n",
    "for s in np.unique(subj_valid):\n",
    "\n",
    "    indS = np.where(subj_valid==s)\n",
    "    ytrue_s = y_valid[indS]\n",
    "    ypred_s = y_pred[indS]\n",
    "    TP=sum(ypred_s[ytrue_s==1])\n",
    "    P = sum(ytrue_s == 1)\n",
    "    RecS.append(TP/P)\n",
    "    \n",
    "ax = sns.barplot(x=np.arange(len(RecS)),y=RecS)\n",
    "plt.title('Recall per Subject')"
   ]
  },
  {
   "cell_type": "code",
   "execution_count": 428,
   "metadata": {
    "collapsed": false
   },
   "outputs": [
    {
     "data": {
      "text/plain": [
       "array([ 0,  1,  2,  3,  4,  5,  6,  8,  9, 10])"
      ]
     },
     "execution_count": 428,
     "metadata": {},
     "output_type": "execute_result"
    }
   ],
   "source": [
    "np.unique(task_valid)"
   ]
  },
  {
   "cell_type": "code",
   "execution_count": 429,
   "metadata": {
    "collapsed": false
   },
   "outputs": [
    {
     "data": {
      "text/plain": [
       "<matplotlib.text.Text at 0x123675048>"
      ]
     },
     "execution_count": 429,
     "metadata": {},
     "output_type": "execute_result"
    },
    {
     "data": {
      "image/png": "[encoded data removed]",
      "text/plain": [
       "<matplotlib.figure.Figure at 0x123334400>"
      ]
     },
     "metadata": {},
     "output_type": "display_data"
    }
   ],
   "source": [
    "#recall rate per task\n",
    "y_pred = np.argmax(model.predict(X_valid),axis=1)\n",
    "# y_valid = np.argmax(y_valid,axis=1)\n",
    "task_valid=task[inds_valid]\n",
    "\n",
    "RecS = []\n",
    "for s in np.unique(task_valid):\n",
    "\n",
    "    indS = np.where(task_valid==s)\n",
    "    ytrue_s = y_valid[indS]\n",
    "    ypred_s = y_pred[indS]\n",
    "    TP=sum(ypred_s[ytrue_s==1])\n",
    "    P = sum(ytrue_s == 1)\n",
    "    RecS.append(TP/P)\n",
    "    \n",
    "ax = sns.barplot(x=np.unique(task_valid),y=RecS)\n",
    "plt.title('Recall per Task')\n",
    "plt.xticks()"
   ]
  },
  {
   "cell_type": "code",
   "execution_count": 418,
   "metadata": {
    "collapsed": false
   },
   "outputs": [
    {
     "data": {
      "text/plain": [
       "array([10,  0,  0, ...,  9,  1,  9])"
      ]
     },
     "execution_count": 418,
     "metadata": {},
     "output_type": "execute_result"
    }
   ],
   "source": [
    "task[inds_valid]"
   ]
  },
  {
   "cell_type": "code",
   "execution_count": 417,
   "metadata": {
    "collapsed": false
   },
   "outputs": [
    {
     "data": {
      "text/plain": [
       "array([ 0,  1,  2,  3,  4,  5,  6,  8,  9, 10])"
      ]
     },
     "execution_count": 417,
     "metadata": {},
     "output_type": "execute_result"
    }
   ],
   "source": [
    "np.unique(task[inds_valid])"
   ]
  },
  {
   "cell_type": "code",
   "execution_count": 415,
   "metadata": {
    "collapsed": false
   },
   "outputs": [
    {
     "data": {
      "text/plain": [
       "11"
      ]
     },
     "execution_count": 415,
     "metadata": {},
     "output_type": "execute_result"
    }
   ],
   "source": [
    "len(np.unique(Data.Task))"
   ]
  },
  {
   "cell_type": "code",
   "execution_count": 407,
   "metadata": {
    "collapsed": true
   },
   "outputs": [],
   "source": [
    "le = LabelEncoder()\n",
    "taskcodes = le.fit_transform(data.Task)\n",
    "taskcodes = np.unique(taskcodes)\n",
    "tasknames = le.inverse_transform(taskcodes)"
   ]
  },
  {
   "cell_type": "code",
   "execution_count": 412,
   "metadata": {
    "collapsed": false
   },
   "outputs": [
    {
     "name": "stdout",
     "output_type": "stream",
     "text": [
      "[(0, 'Motor #10: Drinking Water'), (1, 'Motor #11: Organizing Folder'), (2, 'Motor #12: Folding Towels'), (3, 'Motor #2: Walking'), (4, 'Motor #3: Walking while Counting'), (5, 'Motor #4: Finger to Nose'), (6, 'Motor #5: Alternating Hand Movements'), (7, 'Motor #6: Sit to Stand'), (8, 'Motor #7: Drawing on Paper'), (9, 'Motor #8: Typing on a Computer'), (10, 'Motor #9: Nuts and Bolts')]\n"
     ]
    }
   ],
   "source": [
    "print(list(zip(taskcodes,tasknames)))"
   ]
  },
  {
   "cell_type": "markdown",
   "metadata": {},
   "source": [
    "## Feature importance"
   ]
  },
  {
   "cell_type": "code",
   "execution_count": null,
   "metadata": {
    "collapsed": true
   },
   "outputs": [],
   "source": []
  },
  {
   "cell_type": "code",
   "execution_count": 181,
   "metadata": {
    "collapsed": false
   },
   "outputs": [
    {
     "data": {
      "text/plain": [
       "<matplotlib.text.Text at 0x11d1399b0>"
      ]
     },
     "execution_count": 181,
     "metadata": {},
     "output_type": "execute_result"
    },
    {
     "data": {
      "image/png": "[encoded data removed]",
      "text/plain": [
       "<matplotlib.figure.Figure at 0x11ea04f28>"
      ]
     },
     "metadata": {},
     "output_type": "display_data"
    }
   ],
   "source": [
    "clf = models[1][0]\n",
    "fimp = pd.Series(index=Data.columns[7:],data=clf.feature_importances_)\n",
    "plt.figure(figsize=(20,8))\n",
    "ax = sns.barplot(x=fimp.index,y=fimp.values)\n",
    "_ = plt.xticks(rotation=75)\n",
    "plt.title('Random forest')"
   ]
  },
  {
   "cell_type": "code",
   "execution_count": 180,
   "metadata": {
    "collapsed": false
   },
   "outputs": [
    {
     "data": {
      "text/plain": [
       "<matplotlib.text.Text at 0x11d93bb70>"
      ]
     },
     "execution_count": 180,
     "metadata": {},
     "output_type": "execute_result"
    },
    {
     "data": {
      "image/png": "[encoded data removed]",
      "text/plain": [
       "<matplotlib.figure.Figure at 0x11d130518>"
      ]
     },
     "metadata": {},
     "output_type": "display_data"
    }
   ],
   "source": [
    "clf = models[2][0]\n",
    "fimp = pd.Series(index=Data.columns[7:],data=clf.feature_importances_)\n",
    "plt.figure(figsize=(20,8))\n",
    "ax = sns.barplot(x=fimp.index,y=fimp.values)\n",
    "_ = plt.xticks(rotation=75)\n",
    "plt.title('Gradient Boosting')"
   ]
  },
  {
   "cell_type": "code",
   "execution_count": 187,
   "metadata": {
    "collapsed": false
   },
   "outputs": [
    {
     "data": {
      "text/plain": [
       "<matplotlib.text.Text at 0x11c491be0>"
      ]
     },
     "execution_count": 187,
     "metadata": {},
     "output_type": "execute_result"
    },
    {
     "data": {
      "image/png": "[encoded data removed]",
      "text/plain": [
       "<matplotlib.figure.Figure at 0x11c5107f0>"
      ]
     },
     "metadata": {},
     "output_type": "display_data"
    }
   ],
   "source": [
    "clf = models[4][0]\n",
    "fimp = pd.Series(index=Data.columns[7:],data=clf.feature_importances_)\n",
    "fimp = pd.Series(index=Data.columns[7:],data=clf.feature_importances_)\n",
    "plt.figure(figsize=(20,8))\n",
    "ax = sns.barplot(x=fimp.index,y=fimp.values)\n",
    "_ = plt.xticks(rotation=75)\n",
    "plt.title('XGBoost')"
   ]
  },
  {
   "cell_type": "code",
   "execution_count": null,
   "metadata": {
    "collapsed": true
   },
   "outputs": [],
   "source": []
  }
 ],
 "metadata": {
  "anaconda-cloud": {},
  "celltoolbar": "Raw Cell Format",
  "kernelspec": {
   "display_name": "Python [default]",
   "language": "python",
   "name": "python3"
  },
  "language_info": {
   "codemirror_mode": {
    "name": "ipython",
    "version": 3
   },
   "file_extension": ".py",
   "mimetype": "text/x-python",
   "name": "python",
   "nbconvert_exporter": "python",
   "pygments_lexer": "ipython3",
   "version": "3.5.2"
  }
 },
 "nbformat": 4,
 "nbformat_minor": 2
}
