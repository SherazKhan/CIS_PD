{
 "cells": [
  {
   "cell_type": "code",
   "execution_count": 8,
   "metadata": {
    "collapsed": true
   },
   "outputs": [],
   "source": [
    "import os\n",
    "import numpy as np\n",
    "import pandas as pd\n",
    "import seaborn as sns\n",
    "import matplotlib.pyplot as plt\n",
    "import datetime as dt\n",
    "import pathlib\n",
    "import pickle #to save files\n",
    "from itertools import product\n",
    "from scipy.stats import skew, kurtosis\n",
    "from scipy.signal import butter, welch, filtfilt, resample\n",
    "import xgboost as xgb\n",
    "from xgboost.sklearn import XGBClassifier #this is the SKlearn wrapper\n",
    "from sklearn.metrics import confusion_matrix, auc, f1_score, roc_auc_score, precision_score, recall_score, precision_recall_curve\n",
    "from sklearn.model_selection import train_test_split\n",
    "from sklearn.preprocessing import LabelEncoder, StandardScaler\n",
    "from sklearn import svm\n",
    "import time\n",
    "\n",
    "from PreprocessFcns import *\n",
    "\n",
    "from mpl_toolkits.mplot3d import Axes3D\n",
    "%matplotlib inline\n",
    "\n",
    "sns.set_context('talk',font_scale=1)\n",
    "#-- For interactive plots--\n",
    "# from mpl_toolkits.mplot3d import Axes3D\n",
    "# %matplotlib notebook"
   ]
  },
  {
   "cell_type": "markdown",
   "metadata": {},
   "source": [
    "## Helper fcns"
   ]
  },
  {
   "cell_type": "code",
   "execution_count": 9,
   "metadata": {
    "collapsed": true
   },
   "outputs": [],
   "source": [
    "def LOSOCV(Data,X,y,groups,models,LOin=0):\n",
    "\n",
    "    subj = LeaveOneGroupOut() \n",
    "    results = pd.DataFrame(data=None,columns=['model','f1','auprc','auroc'])\n",
    "    groupres = {} #results on each group for each model\n",
    "\n",
    "\n",
    "    #train multiple classifiers\n",
    "    for m in models:\n",
    "        acc_all=[]; acc_train=[] \n",
    "        f1_test_all=[]; prec_all=[]; rec_all=[]; spec_all=[]; auprc_all=[]; auroc_train_all=[]; \n",
    "        auroc_all=[]; fpr_all=[]; tpr_all=[]; fi_all=[]\n",
    "\n",
    "        clf = m[0]; model_name = m[1]            \n",
    "        print('Training %s'%model_name)\n",
    "        s = 0\n",
    "        #LOSO CV for current classifier\n",
    "        for train_index, test_index in subj.split(X, y, groups):\n",
    "        #leave one in:\n",
    "            if LOin:\n",
    "                tridx = train_index.copy()\n",
    "                train_index = test_index.copy()\n",
    "                test_index = tridx\n",
    "            Xtr, Xte = X[train_index], X[test_index]\n",
    "            ytr, yte = y[train_index], y[test_index]\n",
    "            if len(np.unique(ytr))<2: #skip if no positive or negative examples are available for training\n",
    "                print('only 1 class available in train data - skipping')\n",
    "                continue\n",
    "            clf.fit(Xtr,ytr)\n",
    "            ypred = clf.predict(Xte)\n",
    "            yscore = clf.predict_proba(Xte)\n",
    "            yscore = yscore[:,1]\n",
    "            \n",
    "            #accuracy on train set\n",
    "            ypred_train = clf.predict(Xtr)\n",
    "            acc_train.append(sum(ypred_train==ytr)/len(ytr))\n",
    "            auroc_train = roc_auc_score(ytr,clf.predict_proba(Xtr)[:,1])\n",
    "            \n",
    "            #f1-score, prec, recall, specificity, auprc, auroc\n",
    "            f1_test_all.append(f1_score(yte,ypred))\n",
    "            precision, recall, _ = precision_recall_curve(yte,yscore)\n",
    "            auprc = auc(recall,precision)\n",
    "            if len(np.unique(yte))>1:\n",
    "                auroc = roc_auc_score(yte,yscore)\n",
    "            else:\n",
    "                print('only 1 class in test data - cannot compute roc curve')\n",
    "                auroc = np.nan\n",
    "            spec = sum((ypred==0) & (yte==0))/sum(yte==0)\n",
    "\n",
    "\n",
    "            prec_all.append(precision_score(yte,ypred))\n",
    "            rec_all.append(recall_score(yte,ypred))\n",
    "            auprc_all.append(auprc)\n",
    "            auroc_all.append(auroc)\n",
    "            auroc_train_all.append(auroc_train)\n",
    "            spec_all.append(spec)\n",
    "            \n",
    "            #the recall per task - TO BE COMPLETED\n",
    "            \n",
    "#             tasks=Data.iloc[test_index,:].Task\n",
    "#             for t in tasks.unique():\n",
    "#                 tasks\n",
    "            \n",
    "            #compute ROC points at fixed fpr (to plot error bars)\n",
    "            fpr=np.linspace(0,1,101); tpr=[]\n",
    "\n",
    "            if len(np.unique(yte))>1:                \n",
    "                nscores = np.sort(np.column_stack((yscore[yte==0],yte[yte==0])),axis=0)\n",
    "                neg_counts = sum(yte==0)\n",
    "                for f in fpr:\n",
    "                    ind = neg_counts-int(neg_counts*f)-1\n",
    "                    t = (nscores[ind])[0]\n",
    "                    if f==1:\n",
    "                        t = 0\n",
    "                    tpr_t = sum(yscore[yte==1]>t) / sum(yte==1)\n",
    "                    tpr.append(tpr_t) \n",
    "\n",
    "            fpr = np.asarray(fpr); tpr = np.asarray(tpr)\n",
    "            fpr_all.append(fpr); tpr_all.append(tpr)\n",
    "            \n",
    "            #store feature importance\n",
    "            if model_name != 'SVM':\n",
    "                fi_all.append(clf.feature_importances_)\n",
    "            \n",
    "            print('\\nSubj/Visit %d, prec=%.3f, rec=%.3f, Spec=%.3f, auroc_train=%.3f, auroc=%.3f'%(s,precision_score(yte,ypred),recall_score(yte,ypred),\n",
    "                                                                                 spec,auroc_train,auroc))\n",
    "            s+=1\n",
    "\n",
    "        print('f1_test=%.3f+/-%.3f, prec=%.3f+/-%.3f, rec=%.3f+/-%.3f, auprc=%.3f+/-%.3f, auroc=%.3f+/-%.3f'%(\n",
    "        np.nanmean(f1_test_all),np.nanstd(f1_test_all),\n",
    "        np.nanmean(prec_all),np.nanstd(prec_all), np.nanmean(rec_all),np.nanstd(rec_all),\n",
    "        np.nanmean(auprc_all),np.nanstd(auprc_all), np.nanmean(auroc_all),np.nanstd(auroc_all)))\n",
    "        \n",
    "        #group results for each model\n",
    "        groupres[model_name] = {'f1':f1_test_all, 'auprc':auprc_all, 'auroc':auroc_all, 'tpr':tpr_all, 'fpr':fpr_all, \n",
    "                                'rec':rec_all, 'spec':spec_all, 'fi':fi_all}\n",
    "        \n",
    "        #mean across groups for each model\n",
    "        r = pd.DataFrame({'model':model_name, 'f1':np.nanmean(f1_test_all), 'auprc':np.nanmean(auprc_all), 'auroc':np.nanmean(auroc_all)}\n",
    "                        ,index=[0])\n",
    "        results = pd.concat((results,r))\n",
    "        \n",
    "    return results,groupres \n",
    "    \n",
    "\n",
    "#train multiple classifiers using stratified kfold\n",
    "def trainmodel_Kfold(Xf,y,models,nfolds=5,balance=False):\n",
    "\n",
    "    scaler = StandardScaler()\n",
    "    f1_fold_clf=[]; auc_fold_clf=[]; cmats={}\n",
    "\n",
    "    skf = StratifiedKFold(n_splits=nfolds,shuffle=True,random_state=46)\n",
    "        \n",
    "    for clf,model_name in models:\n",
    "        f1_fold = []; f1_train_fold=[]; prec_fold=[]; rec_fold=[]; auprc_fold=[]\n",
    "\n",
    "        for train_idx,test_idx in skf.split(Xf,y):\n",
    "            Xtr = Xf[train_idx]\n",
    "            ytr = y[train_idx]\n",
    "            if balance:\n",
    "                #balance dataset\n",
    "                indsp = np.where(ytr==1)[0]\n",
    "                indsn = np.random.choice(np.where(ytr==0)[0],size=round(1*len(indsp)),replace=False)\n",
    "                inds = np.hstack((indsp,indsn))\n",
    "                Xtr = Xtr[inds]; ytr = ytr[inds]\n",
    "#             print(len(ytr[ytr==0])/len(ytr[ytr>0]))\n",
    "            Xte = Xf[test_idx]\n",
    "            yte = y[test_idx]\n",
    "            Xtr = scaler.fit_transform(Xtr)\n",
    "            Xte = scaler.transform(Xte)\n",
    "            clf.fit(Xtr,ytr)\n",
    "            ypred_train = clf.predict(Xtr)\n",
    "            ypred = clf.predict(Xte)\n",
    "            yscore = clf.predict_proba(Xte)\n",
    "            yscore = yscore[:,1]\n",
    "            \n",
    "            #accuracy on train and test set for current fold\n",
    "            precision, recall, _ = precision_recall_curve(yte,yscore)\n",
    "            \n",
    "            f1_train_fold.append(f1_score(ytr,ypred_train))\n",
    "            f1_fold.append(f1_score(yte,ypred))\n",
    "            prec_fold.append(precision_score(yte,ypred))\n",
    "            rec_fold.append(recall_score(yte,ypred))\n",
    "            auprc_fold.append(auc(recall,precision)\n",
    ")\n",
    "\n",
    "\n",
    "        #mean accuracy across folds\n",
    "        if balance:\n",
    "            print('Npos = %d, Nneg = %d'%(len(indsp),len(indsn)))\n",
    "            \n",
    "        print('%s'%model_name)\n",
    "        print('f1_train=%.3f+/-%.3f, f1_test=%.3f+/-%.3f, prec=%.3f+/-%.3f, rec=%.3f+/-%.3f, auprc=%.3f+/-%.3f'%(\n",
    "        np.nanmean(f1_train_fold),np.nanstd(f1_train_fold),\n",
    "        np.nanmean(f1_fold),np.nanstd(f1_fold),\n",
    "        np.nanmean(prec_fold),np.nanstd(prec_fold), np.nanmean(rec_fold),np.nanstd(rec_fold),\n",
    "        np.nanmean(auprc_fold),np.nanstd(auprc_fold)))\n",
    "        \n",
    "        cf_matrix = confusion_matrix(yte, ypred)\n",
    "        print(cf_matrix)\n",
    "        #store f1 and auc for each fold and clf\n",
    "        f1_fold_clf.append(f1_fold)\n",
    "        auc_fold_clf.append(auprc_fold)\n",
    "        #store cmat for each clf (on last fold)\n",
    "        cmats.update({model_name:cf_matrix})\n",
    "        \n",
    "    return f1_fold_clf, auc_fold_clf, cmats\n",
    "\n",
    "    \n",
    "    \n",
    "def plot_confusion_matrix(cm, classes,\n",
    "                          normalize=False,\n",
    "                          title=None,\n",
    "                          cmap=plt.cm.Blues):\n",
    "    \"\"\"\n",
    "    This function prints and plots the confusion matrix.\n",
    "    Normalization can be applied by setting `normalize=True`.\n",
    "    \"\"\"\n",
    "    if normalize:\n",
    "        cm = cm.astype('float') / cm.sum(axis=1)[:, np.newaxis]\n",
    "#     print(cm)\n",
    "\n",
    "    plt.imshow(cm, interpolation='nearest', cmap=cmap)\n",
    "    plt.title(title)\n",
    "    plt.colorbar()\n",
    "    tick_marks = np.arange(len(classes))\n",
    "    plt.xticks(tick_marks, classes, rotation=45)\n",
    "    plt.yticks(tick_marks, classes)\n",
    "\n",
    "    fmt = '.2f' if normalize else 'd'\n",
    "    thresh = cm.max() / 2.\n",
    "    for i, j in itertools.product(range(cm.shape[0]), range(cm.shape[1])):\n",
    "        plt.text(j, i, format(cm[i, j], fmt),\n",
    "                 horizontalalignment=\"center\",\n",
    "                 color=\"white\" if cm[i, j] > thresh else \"black\")\n",
    "\n",
    "    plt.tight_layout()\n",
    "    plt.ylabel('True label')\n",
    "    plt.xlabel('Predicted label')\n",
    "\n",
    "    \n",
    "\n",
    "def plot_roc(tpr_all,fpr,roc_auc,ax=None,plotname=None,col=None):\n",
    "    #plot mean ROC across subjects (need to add shaded conf interval)\n",
    "    tprmu = np.mean(np.asarray(tpr_all),axis=0)\n",
    "    tpr=np.asarray(tpr_all)\n",
    "    fpr=np.reshape(fpr,(1,-1))\n",
    "    tprmu=np.reshape(tprmu,(1,-1))\n",
    "    label=pd.Series(data = ['%s - AUC = %0.3f' % (plotname,roc_auc)]*len(fpr))\n",
    "    if plotname=='Threshold':\n",
    "        ls = '-'\n",
    "    else:\n",
    "        ls='-'\n",
    "    if ax == None:\n",
    "        ax = sns.tsplot(data=tpr,time=fpr,ci=95,condition=label,legend=True,color=col,lw=3,linestyle=ls)\n",
    "    else:\n",
    "        sns.tsplot(data=tpr,time=fpr,ci=95,condition=label, legend=True,ax=ax,color=col,lw=3,linestyle=ls)\n",
    "             \n",
    "    lw = 3\n",
    "    ax.plot([0, 1], [0, 1], color='navy', lw=lw, linestyle='--')\n",
    "    ax.set_xlim([-0.05, 1.0])\n",
    "    ax.set_ylim([0.0, 1.05])\n",
    "    ax.set_xlabel('False Positive Rate',fontsize=16)\n",
    "    ax.set_ylabel('True Positive Rate',fontsize=16)\n",
    "    ax.legend(loc='lower right')\n",
    "    \n",
    "    return ax"
   ]
  },
  {
   "cell_type": "code",
   "execution_count": 10,
   "metadata": {
    "collapsed": true
   },
   "outputs": [],
   "source": [
    "from sklearn.model_selection import LeaveOneGroupOut\n",
    "from sklearn import preprocessing\n",
    "from sklearn import neighbors, linear_model\n",
    "from sklearn.ensemble import RandomForestClassifier, AdaBoostClassifier, GradientBoostingClassifier, ExtraTreesClassifier\n",
    "from sklearn.svm import SVC\n",
    "from sklearn.neighbors import KNeighborsClassifier\n",
    "from sklearn.model_selection import KFold, StratifiedKFold, cross_val_score\n",
    "from sklearn.model_selection import GridSearchCV\n",
    "from sklearn import metrics\n",
    "from sklearn.linear_model import ElasticNetCV, LogisticRegression\n",
    "from sklearn.metrics import roc_curve, auc, roc_auc_score\n",
    "from sklearn.metrics import confusion_matrix"
   ]
  },
  {
   "cell_type": "code",
   "execution_count": 12,
   "metadata": {
    "collapsed": true
   },
   "outputs": [],
   "source": [
    "#---------------------------------------------------------------------------------------------------------\n",
    "# Set path to folder containing Subject ID numbers\n",
    "path = '/Volumes/RTO/CIS-PD Study/Subjects/' #Mac\n",
    "# path = r'W:\\CIS-PD Study\\Subjects' #Windows local path adai\n",
    "#---------------------------------------------------------------------------------------------------------\n",
    "#Path where dictionary subject data is stored\n",
    "# dict_path = 'W:\\CIS-PD Study\\Data_dict' #remote repo\n",
    "dict_path = '../Data_dict' #local path\n",
    "# dict_path = r'C:\\Users\\adai\\Documents\\Data_dict' #Windows local path adai\n",
    "\n",
    "# scores_path = r'W:\\CIS-PD Study\\Scores' #remote repo\n",
    "scores_path = '../Scores/' #local path\n",
    "\n",
    "#path where feature matrix is saved\n",
    "features_path = '../FeatureMatrix' #local"
   ]
  },
  {
   "cell_type": "markdown",
   "metadata": {},
   "source": [
    "## Load unpacked features data"
   ]
  },
  {
   "cell_type": "code",
   "execution_count": 303,
   "metadata": {
    "collapsed": false
   },
   "outputs": [
    {
     "name": "stdout",
     "output_type": "stream",
     "text": [
      "(42100, 81)\n"
     ]
    }
   ],
   "source": [
    "# filename = 'Features_AllLocsHP+LP_Hand.pkl'\n",
    "filename = 'Features_AllLocsHP_Hand.pkl'\n",
    "Data = pickle.load(open(os.path.join(features_path,filename),'rb'))\n",
    "Data = Data.reset_index(drop=True)\n",
    "print(Data.shape)"
   ]
  },
  {
   "cell_type": "code",
   "execution_count": 304,
   "metadata": {
    "collapsed": false
   },
   "outputs": [
    {
     "data": {
      "text/html": [
       "<div>\n",
       "<style>\n",
       "    .dataframe thead tr:only-child th {\n",
       "        text-align: right;\n",
       "    }\n",
       "\n",
       "    .dataframe thead th {\n",
       "        text-align: left;\n",
       "    }\n",
       "\n",
       "    .dataframe tbody tr th {\n",
       "        vertical-align: top;\n",
       "    }\n",
       "</style>\n",
       "<table border=\"1\" class=\"dataframe\">\n",
       "  <thead>\n",
       "    <tr style=\"text-align: right;\">\n",
       "      <th></th>\n",
       "      <th>Subject</th>\n",
       "      <th>Visit</th>\n",
       "      <th>Side</th>\n",
       "      <th>Task</th>\n",
       "      <th>Tremor</th>\n",
       "      <th>Bradykinesia</th>\n",
       "      <th>Dyskinesia</th>\n",
       "      <th>RMSXacc</th>\n",
       "      <th>RMSYacc</th>\n",
       "      <th>RMSZacc</th>\n",
       "      <th>...</th>\n",
       "      <th>PSD_stdgyr</th>\n",
       "      <th>PSD_skewgyr</th>\n",
       "      <th>PSD_kurgyr</th>\n",
       "      <th>jerk_meangyr</th>\n",
       "      <th>jerk_stdgyr</th>\n",
       "      <th>jerk_skewgyr</th>\n",
       "      <th>jerk_kurgyr</th>\n",
       "      <th>Sen_Xgyr</th>\n",
       "      <th>Sen_Ygyr</th>\n",
       "      <th>Sen_Zgyr</th>\n",
       "    </tr>\n",
       "  </thead>\n",
       "  <tbody>\n",
       "    <tr>\n",
       "      <th>0</th>\n",
       "      <td>1004</td>\n",
       "      <td>2 Weeks: Time 0</td>\n",
       "      <td>left</td>\n",
       "      <td>Motor #2: Walking</td>\n",
       "      <td>0.0</td>\n",
       "      <td>1.0</td>\n",
       "      <td>0.0</td>\n",
       "      <td>0.008648</td>\n",
       "      <td>0.010949</td>\n",
       "      <td>0.007293</td>\n",
       "      <td>...</td>\n",
       "      <td>333.369231</td>\n",
       "      <td>3.587466</td>\n",
       "      <td>15.204802</td>\n",
       "      <td>0.114246</td>\n",
       "      <td>10.726893</td>\n",
       "      <td>0.176444</td>\n",
       "      <td>-0.009173</td>\n",
       "      <td>0.416625</td>\n",
       "      <td>0.571324</td>\n",
       "      <td>0.438326</td>\n",
       "    </tr>\n",
       "    <tr>\n",
       "      <th>1</th>\n",
       "      <td>1004</td>\n",
       "      <td>2 Weeks: Time 0</td>\n",
       "      <td>left</td>\n",
       "      <td>Motor #2: Walking</td>\n",
       "      <td>0.0</td>\n",
       "      <td>1.0</td>\n",
       "      <td>0.0</td>\n",
       "      <td>0.008127</td>\n",
       "      <td>0.010331</td>\n",
       "      <td>0.007008</td>\n",
       "      <td>...</td>\n",
       "      <td>511.580241</td>\n",
       "      <td>4.261274</td>\n",
       "      <td>17.609498</td>\n",
       "      <td>-0.173831</td>\n",
       "      <td>10.278264</td>\n",
       "      <td>0.551148</td>\n",
       "      <td>0.059904</td>\n",
       "      <td>0.321724</td>\n",
       "      <td>0.525199</td>\n",
       "      <td>0.307797</td>\n",
       "    </tr>\n",
       "  </tbody>\n",
       "</table>\n",
       "<p>2 rows × 81 columns</p>\n",
       "</div>"
      ],
      "text/plain": [
       "   Subject            Visit  Side               Task  Tremor  Bradykinesia  \\\n",
       "0     1004  2 Weeks: Time 0  left  Motor #2: Walking     0.0           1.0   \n",
       "1     1004  2 Weeks: Time 0  left  Motor #2: Walking     0.0           1.0   \n",
       "\n",
       "   Dyskinesia   RMSXacc   RMSYacc   RMSZacc    ...     PSD_stdgyr  \\\n",
       "0         0.0  0.008648  0.010949  0.007293    ...     333.369231   \n",
       "1         0.0  0.008127  0.010331  0.007008    ...     511.580241   \n",
       "\n",
       "   PSD_skewgyr  PSD_kurgyr  jerk_meangyr  jerk_stdgyr  jerk_skewgyr  \\\n",
       "0     3.587466   15.204802      0.114246    10.726893      0.176444   \n",
       "1     4.261274   17.609498     -0.173831    10.278264      0.551148   \n",
       "\n",
       "   jerk_kurgyr  Sen_Xgyr  Sen_Ygyr  Sen_Zgyr  \n",
       "0    -0.009173  0.416625  0.571324  0.438326  \n",
       "1     0.059904  0.321724  0.525199  0.307797  \n",
       "\n",
       "[2 rows x 81 columns]"
      ]
     },
     "execution_count": 304,
     "metadata": {},
     "output_type": "execute_result"
    }
   ],
   "source": [
    "Data.head(2)"
   ]
  },
  {
   "cell_type": "code",
   "execution_count": 305,
   "metadata": {
    "collapsed": false
   },
   "outputs": [],
   "source": [
    "#drop features \n",
    "Data=Data.drop(labels=['RMSXacc','RMSYacc','RMSZacc'],axis=1)    #equivalent to variance if mean 0\n",
    "Data=Data.drop(labels=['meanXacc','meanYacc','meanZacc'],axis=1) #if signal is mean 0 this feature is useless\n",
    "Data=Data.drop(labels=['varXacc','varYacc','varZacc'],axis=1) #range is strongly correlated with variance\n",
    "Data=Data.drop(labels=['RMSXgyr','RMSYgyr','RMSZgyr'],axis=1)    #equivalent to variance if mean 0\n",
    "Data=Data.drop(labels=['meanXgyr','meanYgyr','meanZgyr'],axis=1) #if signal is mean 0 this feature is useless\n",
    "Data=Data.drop(labels=['varXgyr','varYgyr','varZgyr'],axis=1) #range is strongly correlated with variance"
   ]
  },
  {
   "cell_type": "code",
   "execution_count": 306,
   "metadata": {
    "collapsed": true
   },
   "outputs": [],
   "source": [
    "# #drop features \n",
    "# Data=Data.drop(labels=['RMSXacc_dorsal_hand_','RMSYacc_dorsal_hand_','RMSZacc_dorsal_hand_'],axis=1)    #equivalent to variance if mean 0\n",
    "# Data=Data.drop(labels=['meanXacc_dorsal_hand_','meanYacc_dorsal_hand_','meanZacc_dorsal_hand_'],axis=1) #if signal is mean 0 this feature is useless\n",
    "# Data=Data.drop(labels=['varXacc_dorsal_hand_','varYacc_dorsal_hand_','varZacc_dorsal_hand_'],axis=1) #range is strongly correlated with variance\n",
    "# Data=Data.drop(labels=['RMSXgyr_dorsal_hand_','RMSYgyr_dorsal_hand_','RMSZgyr_dorsal_hand_'],axis=1)    #equivalent to variance if mean 0\n",
    "# Data=Data.drop(labels=['meanXgyr_dorsal_hand_','meanYgyr_dorsal_hand_','meanZgyr_dorsal_hand_'],axis=1) #if signal is mean 0 this feature is useless\n",
    "# Data=Data.drop(labels=['varXgyr_dorsal_hand_','varYgyr_dorsal_hand_','varZgyr_dorsal_hand_'],axis=1) #range is strongly correlated with variance"
   ]
  },
  {
   "cell_type": "code",
   "execution_count": 74,
   "metadata": {
    "collapsed": true
   },
   "outputs": [],
   "source": [
    "Data=Data[Data.Subject!=1020] #remove subj does not have visits 1-5"
   ]
  },
  {
   "cell_type": "code",
   "execution_count": 75,
   "metadata": {
    "collapsed": false
   },
   "outputs": [
    {
     "data": {
      "text/plain": [
       "(40377, 63)"
      ]
     },
     "execution_count": 75,
     "metadata": {},
     "output_type": "execute_result"
    }
   ],
   "source": [
    "Dataorig = Data.copy()\n",
    "Data.shape"
   ]
  },
  {
   "cell_type": "code",
   "execution_count": 76,
   "metadata": {
    "collapsed": false
   },
   "outputs": [
    {
     "data": {
      "text/plain": [
       "array(['Motor #2: Walking', 'Motor #3: Walking while Counting',\n",
       "       'Motor #4: Finger to Nose', 'Motor #5: Alternating Hand Movements',\n",
       "       'Motor #6: Sit to Stand', 'Motor #7: Drawing on Paper',\n",
       "       'Motor #8: Typing on a Computer', 'Motor #9: Nuts and Bolts',\n",
       "       'Motor #10: Drinking Water', 'Motor #11: Organizing Folder',\n",
       "       'Motor #12: Folding Towels', 'Motor #1: Standing',\n",
       "       'Motor #13: Sitting'], dtype=object)"
      ]
     },
     "execution_count": 76,
     "metadata": {},
     "output_type": "execute_result"
    }
   ],
   "source": [
    "Data.Task.unique()"
   ]
  },
  {
   "cell_type": "markdown",
   "metadata": {
    "collapsed": false
   },
   "source": [
    "## LOSO CV - ALL TASKS"
   ]
  },
  {
   "cell_type": "markdown",
   "metadata": {},
   "source": [
    "## Bradykinesia"
   ]
  },
  {
   "cell_type": "code",
   "execution_count": 30,
   "metadata": {
    "collapsed": false
   },
   "outputs": [],
   "source": [
    "# #amount of data per subject\n",
    "# subjdata=[]\n",
    "# for s in Data.Subject.unique():\n",
    "# #     print(s,len(Data[Data.Subject==s]))\n",
    "#     subjdata.append(len(Data[Data.Subject==s]))\n",
    "    \n",
    "# sns.barplot(Data.Subject.unique(),subjdata)\n",
    "# ax=plt.xticks(rotation=90)"
   ]
  },
  {
   "cell_type": "code",
   "execution_count": 160,
   "metadata": {
    "collapsed": true
   },
   "outputs": [],
   "source": [
    "Dataorig = Data.copy()"
   ]
  },
  {
   "cell_type": "code",
   "execution_count": 161,
   "metadata": {
    "collapsed": false
   },
   "outputs": [
    {
     "data": {
      "text/plain": [
       "array([  0.,   1.,  nan,   2.,   3.,   4.])"
      ]
     },
     "execution_count": 161,
     "metadata": {},
     "output_type": "execute_result"
    }
   ],
   "source": [
    "Dataorig[symptom].unique()"
   ]
  },
  {
   "cell_type": "code",
   "execution_count": 162,
   "metadata": {
    "collapsed": false
   },
   "outputs": [
    {
     "data": {
      "text/plain": [
       "array([  0.,   1.,  nan,   2.,   3.,   4.])"
      ]
     },
     "execution_count": 162,
     "metadata": {},
     "output_type": "execute_result"
    }
   ],
   "source": [
    "Data[symptom].unique()"
   ]
  },
  {
   "cell_type": "code",
   "execution_count": 297,
   "metadata": {
    "collapsed": false,
    "scrolled": true
   },
   "outputs": [
    {
     "name": "stdout",
     "output_type": "stream",
     "text": [
      "Rows w Bradykinesia 16682/32592 = 0.51\n",
      "Training Random Forest\n",
      "\n",
      "Subj/Visit 0, prec=0.537, rec=0.546, Spec=0.764, auroc_train=1.000, auroc=0.717\n",
      "\n",
      "Subj/Visit 1, prec=0.952, rec=0.747, Spec=0.595, auroc_train=1.000, auroc=0.730\n",
      "\n",
      "Subj/Visit 2, prec=0.760, rec=0.765, Spec=0.682, auroc_train=1.000, auroc=0.788\n",
      "\n",
      "Subj/Visit 3, prec=0.467, rec=0.934, Spec=0.575, auroc_train=1.000, auroc=0.859\n",
      "\n",
      "Subj/Visit 4, prec=0.484, rec=0.574, Spec=0.431, auroc_train=1.000, auroc=0.516\n",
      "\n",
      "Subj/Visit 5, prec=0.799, rec=0.594, Spec=0.749, auroc_train=1.000, auroc=0.746\n",
      "\n",
      "Subj/Visit 6, prec=0.602, rec=0.624, Spec=0.409, auroc_train=1.000, auroc=0.531\n",
      "\n",
      "Subj/Visit 7, prec=0.646, rec=0.777, Spec=0.603, auroc_train=1.000, auroc=0.784\n",
      "\n",
      "Subj/Visit 8, prec=0.875, rec=0.641, Spec=0.438, auroc_train=1.000, auroc=0.524\n",
      "\n",
      "Subj/Visit 9, prec=0.309, rec=0.534, Spec=0.537, auroc_train=1.000, auroc=0.547\n",
      "\n",
      "Subj/Visit 10, prec=0.663, rec=0.809, Spec=0.599, auroc_train=1.000, auroc=0.763\n",
      "\n",
      "Subj/Visit 11, prec=0.578, rec=0.568, Spec=0.701, auroc_train=1.000, auroc=0.702\n",
      "\n",
      "Subj/Visit 12, prec=0.286, rec=0.766, Spec=0.760, auroc_train=1.000, auroc=0.863\n",
      "\n",
      "Subj/Visit 13, prec=0.584, rec=0.613, Spec=0.488, auroc_train=1.000, auroc=0.552\n",
      "\n",
      "Subj/Visit 14, prec=0.249, rec=0.625, Spec=0.639, auroc_train=1.000, auroc=0.693\n",
      "\n",
      "Subj/Visit 15, prec=0.803, rec=0.605, Spec=0.814, auroc_train=1.000, auroc=0.789\n",
      "\n",
      "Subj/Visit 16, prec=0.363, rec=0.753, Spec=0.650, auroc_train=1.000, auroc=0.760\n",
      "\n",
      "Subj/Visit 17, prec=0.778, rec=0.703, Spec=0.783, auroc_train=1.000, auroc=0.819\n",
      "\n",
      "Subj/Visit 18, prec=0.650, rec=0.636, Spec=0.654, auroc_train=1.000, auroc=0.681\n",
      "\n",
      "Subj/Visit 19, prec=0.934, rec=0.461, Spec=0.704, auroc_train=1.000, auroc=0.600\n",
      "f1_test=0.614+/-0.127, prec=0.616+/-0.206, rec=0.664+/-0.111, auprc=0.664+/-0.179, auroc=0.698+/-0.112\n",
      "Elapsed time = 4.361 min\n"
     ]
    }
   ],
   "source": [
    "t1=time.time()\n",
    "res_all = pd.DataFrame()\n",
    "\n",
    "Data=Data.reset_index(drop=True) #reset index\n",
    "\n",
    "for symptom in ['Bradykinesia']:\n",
    "    \n",
    "    #remove nan rows for current symptom\n",
    "    Data = Dataorig.copy() #original unmodified dataframe\n",
    "    Data=Data[~Data[symptom].isnull()]\n",
    "    Data=Data.reset_index(drop=True) #reset index\n",
    "    \n",
    "    X = Data.iloc[:,7:].as_matrix()\n",
    "    # X = StandardScaler().fit_transform(X)\n",
    "    fnames = Data.iloc[:,7:].columns.values\n",
    "\n",
    "    indp = ((Data[symptom]>0))\n",
    "    indp = indp.values\n",
    "    y = indp.astype(int) #target \n",
    "    print('Rows w %s %d/%d = %.2f'%(symptom,sum(indp),len(indp),(sum(indp)/len(indp))))\n",
    "\n",
    "    models = [RandomForestClassifier(n_estimators=50,random_state=2)]          \n",
    "#           XGBClassifier()]\n",
    "    model_name = ['Random Forest']#,'XGB']\n",
    "    models = list(zip(models,model_name))\n",
    "    groups = Data.Subject.as_matrix()\n",
    "\n",
    "    res,res_group = LOSOCV(Data,X,y,groups,models)\n",
    "    res_all = pd.concat((res_all,res))\n",
    "    \n",
    "print('Elapsed time = %.3f min'%((time.time()-t1)/60))    "
   ]
  },
  {
   "cell_type": "code",
   "execution_count": 289,
   "metadata": {
    "collapsed": false
   },
   "outputs": [],
   "source": [
    "resultsbrady = res_group['Random Forest']['auroc']"
   ]
  },
  {
   "cell_type": "code",
   "execution_count": 292,
   "metadata": {
    "collapsed": false
   },
   "outputs": [],
   "source": [
    "np.save('./Results/resultsbradyLOSO.npy',resultsbrady)"
   ]
  },
  {
   "cell_type": "code",
   "execution_count": 79,
   "metadata": {
    "collapsed": false
   },
   "outputs": [
    {
     "data": {
      "text/plain": [
       "array([1004, 1016, 1018, 1019, 1024, 1029, 1030, 1032, 1038, 1044, 1046,\n",
       "       1047, 1049, 1051, 1052, 1053, 1054, 1055, 1056])"
      ]
     },
     "execution_count": 79,
     "metadata": {},
     "output_type": "execute_result"
    }
   ],
   "source": [
    "np.unique(groups)"
   ]
  },
  {
   "cell_type": "markdown",
   "metadata": {},
   "source": [
    "Removing nans"
   ]
  },
  {
   "cell_type": "code",
   "execution_count": 300,
   "metadata": {
    "collapsed": false
   },
   "outputs": [
    {
     "data": {
      "text/plain": [
       "<matplotlib.text.Text at 0x11c852128>"
      ]
     },
     "execution_count": 300,
     "metadata": {},
     "output_type": "execute_result"
    },
    {
     "data": {
      "image/png": "[encoded data removed]",
      "text/plain": [
       "<matplotlib.figure.Figure at 0x117525b00>"
      ]
     },
     "metadata": {},
     "output_type": "display_data"
    }
   ],
   "source": [
    "aurocall = res_group['Random Forest']['auroc']\n",
    "sns.barplot(np.unique(groups),aurocall) #to show subj codes\n",
    "ax=plt.xticks(rotation=90)\n",
    "# sns.barplot(np.arange(len(aurocall)),aurocall) #to show subj codes\n",
    "plt.ylim([0.45,1.])\n",
    "plt.title('LOSO - Mean AUROC = %.3f +/- %.3f'%(np.nanmean(aurocall),np.nanstd(aurocall)))"
   ]
  },
  {
   "cell_type": "markdown",
   "metadata": {},
   "source": [
    "### Tremor"
   ]
  },
  {
   "cell_type": "code",
   "execution_count": 307,
   "metadata": {
    "collapsed": false,
    "scrolled": false
   },
   "outputs": [
    {
     "name": "stdout",
     "output_type": "stream",
     "text": [
      "Rows w Tremor 8937/38675 = 0.23\n",
      "Training Random Forest\n",
      "\n",
      "Subj/Visit 0, prec=0.353, rec=0.346, Spec=0.932, auroc_train=1.000, auroc=0.810\n",
      "\n",
      "Subj/Visit 1, prec=0.746, rec=0.106, Spec=0.970, auroc_train=1.000, auroc=0.759\n",
      "\n",
      "Subj/Visit 2, prec=0.694, rec=0.364, Spec=0.984, auroc_train=1.000, auroc=0.816\n",
      "\n",
      "Subj/Visit 3, prec=0.163, rec=0.355, Spec=0.916, auroc_train=1.000, auroc=0.712\n",
      "\n",
      "Subj/Visit 4, prec=0.556, rec=0.431, Spec=0.906, auroc_train=1.000, auroc=0.757\n",
      "\n",
      "Subj/Visit 5, prec=0.505, rec=0.085, Spec=0.971, auroc_train=1.000, auroc=0.685\n",
      "\n",
      "Subj/Visit 6, prec=0.677, rec=0.373, Spec=0.882, auroc_train=1.000, auroc=0.737\n",
      "\n",
      "Subj/Visit 7, prec=0.750, rec=0.415, Spec=0.991, auroc_train=1.000, auroc=0.913\n",
      "\n",
      "Subj/Visit 8, prec=0.704, rec=0.365, Spec=0.994, auroc_train=1.000, auroc=0.915\n",
      "\n",
      "Subj/Visit 9, prec=0.951, rec=0.288, Spec=0.981, auroc_train=1.000, auroc=0.789\n",
      "\n",
      "Subj/Visit 10, prec=0.200, rec=0.362, Spec=0.945, auroc_train=1.000, auroc=0.896\n",
      "\n",
      "Subj/Visit 11, prec=0.552, rec=0.208, Spec=0.957, auroc_train=1.000, auroc=0.714\n",
      "\n",
      "Subj/Visit 12, prec=0.000, rec=0.000, Spec=0.990, auroc_train=1.000, auroc=0.697\n",
      "\n",
      "Subj/Visit 13, prec=0.745, rec=0.532, Spec=0.863, auroc_train=1.000, auroc=0.809\n",
      "\n",
      "Subj/Visit 14, prec=0.050, rec=0.500, Spec=0.970, auroc_train=1.000, auroc=0.872\n",
      "\n",
      "Subj/Visit 15, prec=0.225, rec=0.185, Spec=0.952, auroc_train=1.000, auroc=0.717\n"
     ]
    },
    {
     "name": "stderr",
     "output_type": "stream",
     "text": [
      "/Users/luca/anaconda/envs/py35_pd20/lib/python3.5/site-packages/sklearn/metrics/classification.py:1137: UndefinedMetricWarning: F-score is ill-defined and being set to 0.0 due to no true samples.\n",
      "  'recall', 'true', average, warn_for)\n",
      "/Users/luca/anaconda/envs/py35_pd20/lib/python3.5/site-packages/sklearn/metrics/ranking.py:420: RuntimeWarning: invalid value encountered in true_divide\n",
      "  recall = tps / tps[-1]\n",
      "/Users/luca/anaconda/envs/py35_pd20/lib/python3.5/site-packages/sklearn/metrics/classification.py:1137: UndefinedMetricWarning: Recall is ill-defined and being set to 0.0 due to no true samples.\n",
      "  'recall', 'true', average, warn_for)\n"
     ]
    },
    {
     "name": "stdout",
     "output_type": "stream",
     "text": [
      "only 1 class in test data - cannot compute roc curve\n",
      "\n",
      "Subj/Visit 16, prec=0.000, rec=0.000, Spec=0.977, auroc_train=1.000, auroc=nan\n",
      "\n",
      "Subj/Visit 17, prec=0.030, rec=0.167, Spec=0.963, auroc_train=1.000, auroc=0.868\n",
      "\n",
      "Subj/Visit 18, prec=0.941, rec=0.147, Spec=0.960, auroc_train=1.000, auroc=0.612\n",
      "\n",
      "Subj/Visit 19, prec=0.909, rec=0.323, Spec=0.903, auroc_train=1.000, auroc=0.712\n",
      "f1_test=0.303+/-0.185, prec=0.488+/-0.323, rec=0.278+/-0.152, auprc=0.446+/-0.289, auroc=0.778+/-0.084\n",
      "Elapsed time = 5.075 min\n"
     ]
    }
   ],
   "source": [
    "t1=time.time()\n",
    "res_all = pd.DataFrame()\n",
    "\n",
    "Data=Data.reset_index(drop=True) #reset index\n",
    "\n",
    "for symptom in ['Tremor']:\n",
    "    \n",
    "    #remove nan rows for current symptom\n",
    "    Data = Dataorig.copy() #original unmodified dataframe\n",
    "    Data=Data[~Data[symptom].isnull()]\n",
    "    Data=Data.reset_index(drop=True) #reset index\n",
    "    \n",
    "    X = Data.iloc[:,7:].as_matrix()\n",
    "    # X = StandardScaler().fit_transform(X)\n",
    "    fnames = Data.iloc[:,7:].columns.values\n",
    "\n",
    "    indp = ((Data[symptom]>0))\n",
    "    indp = indp.values\n",
    "    y = indp.astype(int) #target \n",
    "    print('Rows w %s %d/%d = %.2f'%(symptom,sum(indp),len(indp),(sum(indp)/len(indp))))\n",
    "\n",
    "    models = [RandomForestClassifier(n_estimators=50,random_state=2)]          \n",
    "#           XGBClassifier()]\n",
    "    model_name = ['Random Forest']#,'XGB']\n",
    "    models = list(zip(models,model_name))\n",
    "    groups = Data.Subject.as_matrix()\n",
    "\n",
    "    res,res_group = LOSOCV(Data,X,y,groups,models)\n",
    "    res_all = pd.concat((res_all,res))\n",
    "    \n",
    "print('Elapsed time = %.3f min'%((time.time()-t1)/60))    "
   ]
  },
  {
   "cell_type": "code",
   "execution_count": 309,
   "metadata": {
    "collapsed": false
   },
   "outputs": [],
   "source": [
    "resultstremor = res_group['Random Forest']['auroc']"
   ]
  },
  {
   "cell_type": "code",
   "execution_count": 310,
   "metadata": {
    "collapsed": false
   },
   "outputs": [],
   "source": [
    "np.save('./Results/resultstremorLOSO.npy',resultstremor)"
   ]
  },
  {
   "cell_type": "code",
   "execution_count": null,
   "metadata": {
    "collapsed": true
   },
   "outputs": [],
   "source": []
  },
  {
   "cell_type": "markdown",
   "metadata": {},
   "source": [
    "Removing nans"
   ]
  },
  {
   "cell_type": "code",
   "execution_count": 13,
   "metadata": {
    "collapsed": false
   },
   "outputs": [
    {
     "data": {
      "text/plain": [
       "<matplotlib.text.Text at 0x117881710>"
      ]
     },
     "execution_count": 13,
     "metadata": {},
     "output_type": "execute_result"
    },
    {
     "data": {
      "image/png": "[encoded data removed]",
      "text/plain": [
       "<matplotlib.figure.Figure at 0x1111c6fd0>"
      ]
     },
     "metadata": {},
     "output_type": "display_data"
    }
   ],
   "source": [
    "aurocall = res_group['Random Forest']['auroc']\n",
    "sns.barplot(np.unique(groups),aurocall) #to show subj codes\n",
    "ax=plt.xticks(rotation=90)\n",
    "# sns.barplot(np.arange(len(aurocall)),aurocall) #to show subj codes\n",
    "plt.ylim([0.45,1.])\n",
    "plt.title('LOSO - Mean AUROC = %.3f +/- %.3f'%(np.nanmean(aurocall),np.nanstd(aurocall)))"
   ]
  },
  {
   "cell_type": "markdown",
   "metadata": {},
   "source": [
    "## Evaluate performance of global models on Subtasks (this section has to be rewritten to train global and personal models on all tasks and analyze performance on each subset of tasks)"
   ]
  },
  {
   "cell_type": "code",
   "execution_count": 20,
   "metadata": {
    "collapsed": true
   },
   "outputs": [],
   "source": [
    "Dataorig = Data.copy()\n",
    "taskA = ['Motor #4: Finger to Nose','Motor #5: Alternating Hand Movements']\n",
    "taskB = ['Motor #2: Walking', 'Motor #3: Walking while Counting']\n",
    "taskB1 = ['Motor #1: Standing','Motor #13: Sitting'] #tremor\n",
    "taskC = ['Motor #10: Drinking Water','Motor #11: Organizing Folder','Motor #12: Folding Towels']\n",
    "taskD = ['Motor #7: Drawing on Paper','Motor #8: Typing on a Computer', 'Motor #9: Nuts and Bolts',]\n",
    "tasks = [taskA,taskB,taskC,taskD]"
   ]
  },
  {
   "cell_type": "code",
   "execution_count": 146,
   "metadata": {
    "collapsed": false,
    "scrolled": true
   },
   "outputs": [
    {
     "name": "stdout",
     "output_type": "stream",
     "text": [
      "\n",
      " ['Motor #4: Finger to Nose' 'Motor #5: Alternating Hand Movements']\n",
      "Rows w Tremor 1333/3187 = 0.42\n",
      "Training Random Forest\n",
      "\n",
      "Subj/Visit 0, prec=0.757, rec=0.812, Spec=0.926, auroc_train=1.000, auroc=0.923\n",
      "\n",
      "Subj/Visit 1, prec=0.768, rec=0.495, Spec=0.698, auroc_train=1.000, auroc=0.648\n",
      "\n",
      "Subj/Visit 2, prec=0.802, rec=0.901, Spec=0.778, auroc_train=1.000, auroc=0.930\n",
      "\n",
      "Subj/Visit 3, prec=0.562, rec=0.800, Spec=0.776, auroc_train=1.000, auroc=0.852\n",
      "\n",
      "Subj/Visit 4, prec=0.775, rec=0.392, Spec=0.892, auroc_train=1.000, auroc=0.683\n",
      "\n",
      "Subj/Visit 5, prec=0.717, rec=0.804, Spec=0.460, auroc_train=1.000, auroc=0.722\n",
      "\n",
      "Subj/Visit 6, prec=0.949, rec=0.825, Spec=0.922, auroc_train=1.000, auroc=0.939\n",
      "\n",
      "Subj/Visit 7, prec=0.521, rec=0.700, Spec=0.408, auroc_train=1.000, auroc=0.566\n",
      "\n",
      "Subj/Visit 8, prec=0.894, rec=0.596, Spec=0.389, auroc_train=1.000, auroc=0.405\n",
      "\n",
      "Subj/Visit 9, prec=0.758, rec=0.625, Spec=0.830, auroc_train=1.000, auroc=0.838\n",
      "\n",
      "Subj/Visit 10, prec=0.000, rec=0.000, Spec=0.883, auroc_train=1.000, auroc=0.637\n",
      "\n",
      "Subj/Visit 11, prec=0.250, rec=0.167, Spec=0.950, auroc_train=1.000, auroc=0.908\n",
      "\n",
      "Subj/Visit 12, prec=0.632, rec=0.757, Spec=0.347, auroc_train=1.000, auroc=0.632\n",
      "\n",
      "Subj/Visit 13, prec=0.143, rec=0.167, Spec=0.960, auroc_train=1.000, auroc=0.880\n",
      "\n",
      "Subj/Visit 14, prec=0.029, rec=0.167, Spec=0.770, auroc_train=1.000, auroc=0.565\n"
     ]
    },
    {
     "name": "stderr",
     "output_type": "stream",
     "text": [
      "/Users/luca/anaconda/envs/py35_pd20/lib/python3.5/site-packages/sklearn/metrics/classification.py:1137: UndefinedMetricWarning: F-score is ill-defined and being set to 0.0 due to no true samples.\n",
      "  'recall', 'true', average, warn_for)\n",
      "/Users/luca/anaconda/envs/py35_pd20/lib/python3.5/site-packages/sklearn/metrics/ranking.py:420: RuntimeWarning: invalid value encountered in true_divide\n",
      "  recall = tps / tps[-1]\n",
      "/Users/luca/anaconda/envs/py35_pd20/lib/python3.5/site-packages/sklearn/metrics/classification.py:1137: UndefinedMetricWarning: Recall is ill-defined and being set to 0.0 due to no true samples.\n",
      "  'recall', 'true', average, warn_for)\n"
     ]
    },
    {
     "name": "stdout",
     "output_type": "stream",
     "text": [
      "only 1 class in test data - cannot compute roc curve\n",
      "\n",
      "Subj/Visit 15, prec=0.000, rec=0.000, Spec=0.904, auroc_train=1.000, auroc=nan\n",
      "\n",
      "Subj/Visit 16, prec=0.286, rec=0.833, Spec=0.781, auroc_train=1.000, auroc=0.875\n",
      "\n",
      "Subj/Visit 17, prec=1.000, rec=0.328, Spec=1.000, auroc_train=1.000, auroc=0.751\n",
      "\n",
      "Subj/Visit 18, prec=0.979, rec=0.354, Spec=0.958, auroc_train=1.000, auroc=0.747\n",
      "f1_test=0.504+/-0.281, prec=0.570+/-0.336, rec=0.512+/-0.297, auprc=0.631+/-0.302, auroc=0.750+/-0.150\n",
      "\n",
      " ['Motor #2: Walking' 'Motor #3: Walking while Counting']\n",
      "Rows w Tremor 895/6673 = 0.13\n",
      "Training Random Forest\n"
     ]
    },
    {
     "name": "stderr",
     "output_type": "stream",
     "text": [
      "/Users/luca/anaconda/envs/py35_pd20/lib/python3.5/site-packages/sklearn/metrics/classification.py:1137: UndefinedMetricWarning: F-score is ill-defined and being set to 0.0 due to no true samples.\n",
      "  'recall', 'true', average, warn_for)\n",
      "/Users/luca/anaconda/envs/py35_pd20/lib/python3.5/site-packages/sklearn/metrics/ranking.py:420: RuntimeWarning: invalid value encountered in true_divide\n",
      "  recall = tps / tps[-1]\n",
      "/Users/luca/anaconda/envs/py35_pd20/lib/python3.5/site-packages/sklearn/metrics/classification.py:1137: UndefinedMetricWarning: Recall is ill-defined and being set to 0.0 due to no true samples.\n",
      "  'recall', 'true', average, warn_for)\n"
     ]
    },
    {
     "name": "stdout",
     "output_type": "stream",
     "text": [
      "only 1 class in test data - cannot compute roc curve\n",
      "\n",
      "Subj/Visit 0, prec=0.000, rec=0.000, Spec=0.922, auroc_train=1.000, auroc=nan\n"
     ]
    },
    {
     "name": "stderr",
     "output_type": "stream",
     "text": [
      "/Users/luca/anaconda/envs/py35_pd20/lib/python3.5/site-packages/sklearn/metrics/ranking.py:420: RuntimeWarning: invalid value encountered in true_divide\n",
      "  recall = tps / tps[-1]\n"
     ]
    },
    {
     "name": "stdout",
     "output_type": "stream",
     "text": [
      "only 1 class in test data - cannot compute roc curve\n",
      "\n",
      "Subj/Visit 1, prec=0.000, rec=0.000, Spec=1.000, auroc_train=1.000, auroc=nan\n"
     ]
    },
    {
     "name": "stderr",
     "output_type": "stream",
     "text": [
      "/Users/luca/anaconda/envs/py35_pd20/lib/python3.5/site-packages/sklearn/metrics/ranking.py:420: RuntimeWarning: invalid value encountered in true_divide\n",
      "  recall = tps / tps[-1]\n"
     ]
    },
    {
     "name": "stdout",
     "output_type": "stream",
     "text": [
      "only 1 class in test data - cannot compute roc curve\n",
      "\n",
      "Subj/Visit 2, prec=0.000, rec=0.000, Spec=1.000, auroc_train=1.000, auroc=nan\n"
     ]
    },
    {
     "name": "stderr",
     "output_type": "stream",
     "text": [
      "/Users/luca/anaconda/envs/py35_pd20/lib/python3.5/site-packages/sklearn/metrics/ranking.py:420: RuntimeWarning: invalid value encountered in true_divide\n",
      "  recall = tps / tps[-1]\n"
     ]
    },
    {
     "name": "stdout",
     "output_type": "stream",
     "text": [
      "only 1 class in test data - cannot compute roc curve\n",
      "\n",
      "Subj/Visit 3, prec=0.000, rec=0.000, Spec=1.000, auroc_train=1.000, auroc=nan\n"
     ]
    },
    {
     "name": "stderr",
     "output_type": "stream",
     "text": [
      "/Users/luca/anaconda/envs/py35_pd20/lib/python3.5/site-packages/sklearn/metrics/classification.py:1137: UndefinedMetricWarning: F-score is ill-defined and being set to 0.0 due to no true samples.\n",
      "  'recall', 'true', average, warn_for)\n",
      "/Users/luca/anaconda/envs/py35_pd20/lib/python3.5/site-packages/sklearn/metrics/ranking.py:420: RuntimeWarning: invalid value encountered in true_divide\n",
      "  recall = tps / tps[-1]\n",
      "/Users/luca/anaconda/envs/py35_pd20/lib/python3.5/site-packages/sklearn/metrics/classification.py:1137: UndefinedMetricWarning: Recall is ill-defined and being set to 0.0 due to no true samples.\n",
      "  'recall', 'true', average, warn_for)\n"
     ]
    },
    {
     "name": "stdout",
     "output_type": "stream",
     "text": [
      "only 1 class in test data - cannot compute roc curve\n",
      "\n",
      "Subj/Visit 4, prec=0.000, rec=0.000, Spec=0.997, auroc_train=1.000, auroc=nan\n",
      "\n",
      "Subj/Visit 5, prec=0.000, rec=0.000, Spec=0.994, auroc_train=1.000, auroc=0.124\n"
     ]
    },
    {
     "name": "stderr",
     "output_type": "stream",
     "text": [
      "/Users/luca/anaconda/envs/py35_pd20/lib/python3.5/site-packages/sklearn/metrics/ranking.py:420: RuntimeWarning: invalid value encountered in true_divide\n",
      "  recall = tps / tps[-1]\n"
     ]
    },
    {
     "name": "stdout",
     "output_type": "stream",
     "text": [
      "only 1 class in test data - cannot compute roc curve\n",
      "\n",
      "Subj/Visit 6, prec=0.000, rec=0.000, Spec=1.000, auroc_train=1.000, auroc=nan\n"
     ]
    },
    {
     "name": "stderr",
     "output_type": "stream",
     "text": [
      "/Users/luca/anaconda/envs/py35_pd20/lib/python3.5/site-packages/sklearn/metrics/ranking.py:420: RuntimeWarning: invalid value encountered in true_divide\n",
      "  recall = tps / tps[-1]\n"
     ]
    },
    {
     "name": "stdout",
     "output_type": "stream",
     "text": [
      "only 1 class in test data - cannot compute roc curve\n",
      "\n",
      "Subj/Visit 7, prec=0.000, rec=0.000, Spec=1.000, auroc_train=1.000, auroc=nan\n"
     ]
    },
    {
     "name": "stderr",
     "output_type": "stream",
     "text": [
      "/Users/luca/anaconda/envs/py35_pd20/lib/python3.5/site-packages/sklearn/metrics/classification.py:1135: UndefinedMetricWarning: F-score is ill-defined and being set to 0.0 due to no predicted samples.\n",
      "  'precision', 'predicted', average, warn_for)\n",
      "/Users/luca/anaconda/envs/py35_pd20/lib/python3.5/site-packages/sklearn/metrics/classification.py:1135: UndefinedMetricWarning: Precision is ill-defined and being set to 0.0 due to no predicted samples.\n",
      "  'precision', 'predicted', average, warn_for)\n"
     ]
    },
    {
     "name": "stdout",
     "output_type": "stream",
     "text": [
      "\n",
      "Subj/Visit 8, prec=0.000, rec=0.000, Spec=1.000, auroc_train=1.000, auroc=0.636\n"
     ]
    },
    {
     "name": "stderr",
     "output_type": "stream",
     "text": [
      "/Users/luca/anaconda/envs/py35_pd20/lib/python3.5/site-packages/sklearn/metrics/ranking.py:420: RuntimeWarning: invalid value encountered in true_divide\n",
      "  recall = tps / tps[-1]\n"
     ]
    },
    {
     "name": "stdout",
     "output_type": "stream",
     "text": [
      "only 1 class in test data - cannot compute roc curve\n",
      "\n",
      "Subj/Visit 9, prec=0.000, rec=0.000, Spec=1.000, auroc_train=1.000, auroc=nan\n",
      "\n",
      "Subj/Visit 10, prec=1.000, rec=0.322, Spec=1.000, auroc_train=1.000, auroc=0.945\n"
     ]
    },
    {
     "name": "stderr",
     "output_type": "stream",
     "text": [
      "/Users/luca/anaconda/envs/py35_pd20/lib/python3.5/site-packages/sklearn/metrics/ranking.py:420: RuntimeWarning: invalid value encountered in true_divide\n",
      "  recall = tps / tps[-1]\n"
     ]
    },
    {
     "name": "stdout",
     "output_type": "stream",
     "text": [
      "only 1 class in test data - cannot compute roc curve\n",
      "\n",
      "Subj/Visit 11, prec=0.000, rec=0.000, Spec=1.000, auroc_train=1.000, auroc=nan\n",
      "\n",
      "Subj/Visit 12, prec=0.631, rec=0.745, Spec=0.932, auroc_train=1.000, auroc=0.950\n"
     ]
    },
    {
     "name": "stderr",
     "output_type": "stream",
     "text": [
      "/Users/luca/anaconda/envs/py35_pd20/lib/python3.5/site-packages/sklearn/metrics/classification.py:1137: UndefinedMetricWarning: F-score is ill-defined and being set to 0.0 due to no true samples.\n",
      "  'recall', 'true', average, warn_for)\n",
      "/Users/luca/anaconda/envs/py35_pd20/lib/python3.5/site-packages/sklearn/metrics/ranking.py:420: RuntimeWarning: invalid value encountered in true_divide\n",
      "  recall = tps / tps[-1]\n",
      "/Users/luca/anaconda/envs/py35_pd20/lib/python3.5/site-packages/sklearn/metrics/classification.py:1137: UndefinedMetricWarning: Recall is ill-defined and being set to 0.0 due to no true samples.\n",
      "  'recall', 'true', average, warn_for)\n"
     ]
    },
    {
     "name": "stdout",
     "output_type": "stream",
     "text": [
      "only 1 class in test data - cannot compute roc curve\n",
      "\n",
      "Subj/Visit 13, prec=0.000, rec=0.000, Spec=0.997, auroc_train=1.000, auroc=nan\n"
     ]
    },
    {
     "name": "stderr",
     "output_type": "stream",
     "text": [
      "/Users/luca/anaconda/envs/py35_pd20/lib/python3.5/site-packages/sklearn/metrics/ranking.py:420: RuntimeWarning: invalid value encountered in true_divide\n",
      "  recall = tps / tps[-1]\n"
     ]
    },
    {
     "name": "stdout",
     "output_type": "stream",
     "text": [
      "only 1 class in test data - cannot compute roc curve\n",
      "\n",
      "Subj/Visit 14, prec=0.000, rec=0.000, Spec=1.000, auroc_train=1.000, auroc=nan\n"
     ]
    },
    {
     "name": "stderr",
     "output_type": "stream",
     "text": [
      "/Users/luca/anaconda/envs/py35_pd20/lib/python3.5/site-packages/sklearn/metrics/classification.py:1137: UndefinedMetricWarning: F-score is ill-defined and being set to 0.0 due to no true samples.\n",
      "  'recall', 'true', average, warn_for)\n",
      "/Users/luca/anaconda/envs/py35_pd20/lib/python3.5/site-packages/sklearn/metrics/ranking.py:420: RuntimeWarning: invalid value encountered in true_divide\n",
      "  recall = tps / tps[-1]\n",
      "/Users/luca/anaconda/envs/py35_pd20/lib/python3.5/site-packages/sklearn/metrics/classification.py:1137: UndefinedMetricWarning: Recall is ill-defined and being set to 0.0 due to no true samples.\n",
      "  'recall', 'true', average, warn_for)\n"
     ]
    },
    {
     "name": "stdout",
     "output_type": "stream",
     "text": [
      "only 1 class in test data - cannot compute roc curve\n",
      "\n",
      "Subj/Visit 15, prec=0.000, rec=0.000, Spec=0.983, auroc_train=1.000, auroc=nan\n"
     ]
    },
    {
     "name": "stderr",
     "output_type": "stream",
     "text": [
      "/Users/luca/anaconda/envs/py35_pd20/lib/python3.5/site-packages/sklearn/metrics/ranking.py:420: RuntimeWarning: invalid value encountered in true_divide\n",
      "  recall = tps / tps[-1]\n"
     ]
    },
    {
     "name": "stdout",
     "output_type": "stream",
     "text": [
      "only 1 class in test data - cannot compute roc curve\n",
      "\n",
      "Subj/Visit 16, prec=0.000, rec=0.000, Spec=1.000, auroc_train=1.000, auroc=nan\n",
      "\n",
      "Subj/Visit 17, prec=1.000, rec=0.018, Spec=1.000, auroc_train=1.000, auroc=0.804\n",
      "\n",
      "Subj/Visit 18, prec=0.992, rec=0.510, Spec=0.987, auroc_train=1.000, auroc=0.799\n",
      "f1_test=0.099+/-0.226, prec=0.191+/-0.376, rec=0.084+/-0.203, auprc=0.678+/-0.362, auroc=0.709+/-0.282\n",
      "\n",
      " ['Motor #10: Drinking Water' 'Motor #11: Organizing Folder'\n",
      " 'Motor #12: Folding Towels']\n",
      "Rows w Tremor 3714/12167 = 0.31\n",
      "Training Random Forest\n",
      "\n",
      "Subj/Visit 0, prec=0.421, rec=0.232, Spec=0.935, auroc_train=1.000, auroc=0.707\n",
      "\n",
      "Subj/Visit 1, prec=0.894, rec=0.063, Spec=0.952, auroc_train=1.000, auroc=0.531\n",
      "\n",
      "Subj/Visit 2, prec=0.167, rec=0.087, Spec=0.938, auroc_train=1.000, auroc=0.555\n",
      "\n",
      "Subj/Visit 3, prec=0.028, rec=0.042, Spec=0.948, auroc_train=1.000, auroc=0.509\n",
      "\n",
      "Subj/Visit 4, prec=0.569, rec=0.120, Spec=0.947, auroc_train=1.000, auroc=0.587\n",
      "\n",
      "Subj/Visit 5, prec=0.744, rec=0.450, Spec=0.780, auroc_train=1.000, auroc=0.664\n",
      "\n",
      "Subj/Visit 6, prec=0.000, rec=0.000, Spec=0.968, auroc_train=1.000, auroc=0.152\n"
     ]
    },
    {
     "name": "stderr",
     "output_type": "stream",
     "text": [
      "/Users/luca/anaconda/envs/py35_pd20/lib/python3.5/site-packages/sklearn/metrics/classification.py:1137: UndefinedMetricWarning: F-score is ill-defined and being set to 0.0 due to no true samples.\n",
      "  'recall', 'true', average, warn_for)\n",
      "/Users/luca/anaconda/envs/py35_pd20/lib/python3.5/site-packages/sklearn/metrics/ranking.py:420: RuntimeWarning: invalid value encountered in true_divide\n",
      "  recall = tps / tps[-1]\n",
      "/Users/luca/anaconda/envs/py35_pd20/lib/python3.5/site-packages/sklearn/metrics/classification.py:1137: UndefinedMetricWarning: Recall is ill-defined and being set to 0.0 due to no true samples.\n",
      "  'recall', 'true', average, warn_for)\n"
     ]
    },
    {
     "name": "stdout",
     "output_type": "stream",
     "text": [
      "only 1 class in test data - cannot compute roc curve\n",
      "\n",
      "Subj/Visit 7, prec=0.000, rec=0.000, Spec=0.952, auroc_train=1.000, auroc=nan\n",
      "\n",
      "Subj/Visit 8, prec=1.000, rec=0.237, Spec=1.000, auroc_train=1.000, auroc=0.731\n"
     ]
    },
    {
     "name": "stderr",
     "output_type": "stream",
     "text": [
      "/Users/luca/anaconda/envs/py35_pd20/lib/python3.5/site-packages/sklearn/metrics/classification.py:1137: UndefinedMetricWarning: F-score is ill-defined and being set to 0.0 due to no true samples.\n",
      "  'recall', 'true', average, warn_for)\n",
      "/Users/luca/anaconda/envs/py35_pd20/lib/python3.5/site-packages/sklearn/metrics/ranking.py:420: RuntimeWarning: invalid value encountered in true_divide\n",
      "  recall = tps / tps[-1]\n",
      "/Users/luca/anaconda/envs/py35_pd20/lib/python3.5/site-packages/sklearn/metrics/classification.py:1137: UndefinedMetricWarning: Recall is ill-defined and being set to 0.0 due to no true samples.\n",
      "  'recall', 'true', average, warn_for)\n"
     ]
    },
    {
     "name": "stdout",
     "output_type": "stream",
     "text": [
      "only 1 class in test data - cannot compute roc curve\n",
      "\n",
      "Subj/Visit 9, prec=0.000, rec=0.000, Spec=0.930, auroc_train=1.000, auroc=nan\n",
      "\n",
      "Subj/Visit 10, prec=0.000, rec=0.000, Spec=0.944, auroc_train=1.000, auroc=0.504\n"
     ]
    },
    {
     "name": "stderr",
     "output_type": "stream",
     "text": [
      "/Users/luca/anaconda/envs/py35_pd20/lib/python3.5/site-packages/sklearn/metrics/classification.py:1137: UndefinedMetricWarning: F-score is ill-defined and being set to 0.0 due to no true samples.\n",
      "  'recall', 'true', average, warn_for)\n",
      "/Users/luca/anaconda/envs/py35_pd20/lib/python3.5/site-packages/sklearn/metrics/ranking.py:420: RuntimeWarning: invalid value encountered in true_divide\n",
      "  recall = tps / tps[-1]\n",
      "/Users/luca/anaconda/envs/py35_pd20/lib/python3.5/site-packages/sklearn/metrics/classification.py:1137: UndefinedMetricWarning: Recall is ill-defined and being set to 0.0 due to no true samples.\n",
      "  'recall', 'true', average, warn_for)\n"
     ]
    },
    {
     "name": "stdout",
     "output_type": "stream",
     "text": [
      "only 1 class in test data - cannot compute roc curve\n",
      "\n",
      "Subj/Visit 11, prec=0.000, rec=0.000, Spec=0.985, auroc_train=1.000, auroc=nan\n",
      "\n",
      "Subj/Visit 12, prec=0.691, rec=0.506, Spec=0.748, auroc_train=1.000, auroc=0.672\n"
     ]
    },
    {
     "name": "stderr",
     "output_type": "stream",
     "text": [
      "/Users/luca/anaconda/envs/py35_pd20/lib/python3.5/site-packages/sklearn/metrics/classification.py:1137: UndefinedMetricWarning: F-score is ill-defined and being set to 0.0 due to no true samples.\n",
      "  'recall', 'true', average, warn_for)\n",
      "/Users/luca/anaconda/envs/py35_pd20/lib/python3.5/site-packages/sklearn/metrics/ranking.py:420: RuntimeWarning: invalid value encountered in true_divide\n",
      "  recall = tps / tps[-1]\n",
      "/Users/luca/anaconda/envs/py35_pd20/lib/python3.5/site-packages/sklearn/metrics/classification.py:1137: UndefinedMetricWarning: Recall is ill-defined and being set to 0.0 due to no true samples.\n",
      "  'recall', 'true', average, warn_for)\n"
     ]
    },
    {
     "name": "stdout",
     "output_type": "stream",
     "text": [
      "only 1 class in test data - cannot compute roc curve\n",
      "\n",
      "Subj/Visit 13, prec=0.000, rec=0.000, Spec=0.913, auroc_train=1.000, auroc=nan\n",
      "\n",
      "Subj/Visit 14, prec=0.365, rec=0.342, Spec=0.909, auroc_train=1.000, auroc=0.728\n"
     ]
    },
    {
     "name": "stderr",
     "output_type": "stream",
     "text": [
      "/Users/luca/anaconda/envs/py35_pd20/lib/python3.5/site-packages/sklearn/metrics/classification.py:1137: UndefinedMetricWarning: F-score is ill-defined and being set to 0.0 due to no true samples.\n",
      "  'recall', 'true', average, warn_for)\n",
      "/Users/luca/anaconda/envs/py35_pd20/lib/python3.5/site-packages/sklearn/metrics/ranking.py:420: RuntimeWarning: invalid value encountered in true_divide\n",
      "  recall = tps / tps[-1]\n",
      "/Users/luca/anaconda/envs/py35_pd20/lib/python3.5/site-packages/sklearn/metrics/classification.py:1137: UndefinedMetricWarning: Recall is ill-defined and being set to 0.0 due to no true samples.\n",
      "  'recall', 'true', average, warn_for)\n"
     ]
    },
    {
     "name": "stdout",
     "output_type": "stream",
     "text": [
      "only 1 class in test data - cannot compute roc curve\n",
      "\n",
      "Subj/Visit 15, prec=0.000, rec=0.000, Spec=0.971, auroc_train=1.000, auroc=nan\n"
     ]
    },
    {
     "name": "stderr",
     "output_type": "stream",
     "text": [
      "/Users/luca/anaconda/envs/py35_pd20/lib/python3.5/site-packages/sklearn/metrics/classification.py:1137: UndefinedMetricWarning: F-score is ill-defined and being set to 0.0 due to no true samples.\n",
      "  'recall', 'true', average, warn_for)\n",
      "/Users/luca/anaconda/envs/py35_pd20/lib/python3.5/site-packages/sklearn/metrics/ranking.py:420: RuntimeWarning: invalid value encountered in true_divide\n",
      "  recall = tps / tps[-1]\n",
      "/Users/luca/anaconda/envs/py35_pd20/lib/python3.5/site-packages/sklearn/metrics/classification.py:1137: UndefinedMetricWarning: Recall is ill-defined and being set to 0.0 due to no true samples.\n",
      "  'recall', 'true', average, warn_for)\n"
     ]
    },
    {
     "name": "stdout",
     "output_type": "stream",
     "text": [
      "only 1 class in test data - cannot compute roc curve\n",
      "\n",
      "Subj/Visit 16, prec=0.000, rec=0.000, Spec=0.957, auroc_train=1.000, auroc=nan\n",
      "\n",
      "Subj/Visit 17, prec=0.852, rec=0.176, Spec=0.821, auroc_train=1.000, auroc=0.430\n",
      "\n",
      "Subj/Visit 18, prec=0.879, rec=0.269, Spec=0.867, auroc_train=1.000, auroc=0.624\n",
      "f1_test=0.176+/-0.199, prec=0.348+/-0.376, rec=0.133+/-0.159, auprc=0.481+/-0.343, auroc=0.569+/-0.151\n",
      "\n",
      " ['Motor #7: Drawing on Paper' 'Motor #8: Typing on a Computer'\n",
      " 'Motor #9: Nuts and Bolts']\n",
      "Rows w Tremor 2227/10303 = 0.22\n",
      "Training Random Forest\n",
      "\n",
      "Subj/Visit 0, prec=0.241, rec=0.140, Spec=0.955, auroc_train=1.000, auroc=0.782\n",
      "\n",
      "Subj/Visit 1, prec=0.905, rec=0.083, Spec=0.994, auroc_train=1.000, auroc=0.805\n",
      "\n",
      "Subj/Visit 2, prec=1.000, rec=0.077, Spec=1.000, auroc_train=1.000, auroc=0.823\n"
     ]
    },
    {
     "name": "stderr",
     "output_type": "stream",
     "text": [
      "/Users/luca/anaconda/envs/py35_pd20/lib/python3.5/site-packages/sklearn/metrics/classification.py:1137: UndefinedMetricWarning: F-score is ill-defined and being set to 0.0 due to no true samples.\n",
      "  'recall', 'true', average, warn_for)\n",
      "/Users/luca/anaconda/envs/py35_pd20/lib/python3.5/site-packages/sklearn/metrics/ranking.py:420: RuntimeWarning: invalid value encountered in true_divide\n",
      "  recall = tps / tps[-1]\n",
      "/Users/luca/anaconda/envs/py35_pd20/lib/python3.5/site-packages/sklearn/metrics/classification.py:1137: UndefinedMetricWarning: Recall is ill-defined and being set to 0.0 due to no true samples.\n",
      "  'recall', 'true', average, warn_for)\n"
     ]
    },
    {
     "name": "stdout",
     "output_type": "stream",
     "text": [
      "only 1 class in test data - cannot compute roc curve\n",
      "\n",
      "Subj/Visit 3, prec=0.000, rec=0.000, Spec=0.931, auroc_train=1.000, auroc=nan\n",
      "\n",
      "Subj/Visit 4, prec=0.364, rec=0.019, Spec=0.982, auroc_train=1.000, auroc=0.667\n",
      "\n",
      "Subj/Visit 5, prec=0.658, rec=0.200, Spec=0.922, auroc_train=1.000, auroc=0.676\n"
     ]
    },
    {
     "name": "stderr",
     "output_type": "stream",
     "text": [
      "/Users/luca/anaconda/envs/py35_pd20/lib/python3.5/site-packages/sklearn/metrics/ranking.py:420: RuntimeWarning: invalid value encountered in true_divide\n",
      "  recall = tps / tps[-1]\n"
     ]
    },
    {
     "name": "stdout",
     "output_type": "stream",
     "text": [
      "only 1 class in test data - cannot compute roc curve\n",
      "\n",
      "Subj/Visit 6, prec=0.000, rec=0.000, Spec=1.000, auroc_train=1.000, auroc=nan\n",
      "\n",
      "Subj/Visit 7, prec=0.000, rec=0.000, Spec=0.998, auroc_train=1.000, auroc=0.807\n",
      "\n",
      "Subj/Visit 8, prec=0.963, rec=0.270, Spec=0.980, auroc_train=1.000, auroc=0.845\n"
     ]
    },
    {
     "name": "stderr",
     "output_type": "stream",
     "text": [
      "/Users/luca/anaconda/envs/py35_pd20/lib/python3.5/site-packages/sklearn/metrics/classification.py:1137: UndefinedMetricWarning: F-score is ill-defined and being set to 0.0 due to no true samples.\n",
      "  'recall', 'true', average, warn_for)\n",
      "/Users/luca/anaconda/envs/py35_pd20/lib/python3.5/site-packages/sklearn/metrics/ranking.py:420: RuntimeWarning: invalid value encountered in true_divide\n",
      "  recall = tps / tps[-1]\n",
      "/Users/luca/anaconda/envs/py35_pd20/lib/python3.5/site-packages/sklearn/metrics/classification.py:1137: UndefinedMetricWarning: Recall is ill-defined and being set to 0.0 due to no true samples.\n",
      "  'recall', 'true', average, warn_for)\n"
     ]
    },
    {
     "name": "stdout",
     "output_type": "stream",
     "text": [
      "only 1 class in test data - cannot compute roc curve\n",
      "\n",
      "Subj/Visit 9, prec=0.000, rec=0.000, Spec=0.956, auroc_train=1.000, auroc=nan\n",
      "\n",
      "Subj/Visit 10, prec=0.000, rec=0.000, Spec=0.952, auroc_train=1.000, auroc=0.418\n"
     ]
    },
    {
     "name": "stderr",
     "output_type": "stream",
     "text": [
      "/Users/luca/anaconda/envs/py35_pd20/lib/python3.5/site-packages/sklearn/metrics/classification.py:1137: UndefinedMetricWarning: F-score is ill-defined and being set to 0.0 due to no true samples.\n",
      "  'recall', 'true', average, warn_for)\n",
      "/Users/luca/anaconda/envs/py35_pd20/lib/python3.5/site-packages/sklearn/metrics/ranking.py:420: RuntimeWarning: invalid value encountered in true_divide\n",
      "  recall = tps / tps[-1]\n",
      "/Users/luca/anaconda/envs/py35_pd20/lib/python3.5/site-packages/sklearn/metrics/classification.py:1137: UndefinedMetricWarning: Recall is ill-defined and being set to 0.0 due to no true samples.\n",
      "  'recall', 'true', average, warn_for)\n"
     ]
    },
    {
     "name": "stdout",
     "output_type": "stream",
     "text": [
      "only 1 class in test data - cannot compute roc curve\n",
      "\n",
      "Subj/Visit 11, prec=0.000, rec=0.000, Spec=0.995, auroc_train=1.000, auroc=nan\n",
      "\n",
      "Subj/Visit 12, prec=0.699, rec=0.657, Spec=0.768, auroc_train=1.000, auroc=0.777\n"
     ]
    },
    {
     "name": "stderr",
     "output_type": "stream",
     "text": [
      "/Users/luca/anaconda/envs/py35_pd20/lib/python3.5/site-packages/sklearn/metrics/classification.py:1137: UndefinedMetricWarning: F-score is ill-defined and being set to 0.0 due to no true samples.\n",
      "  'recall', 'true', average, warn_for)\n",
      "/Users/luca/anaconda/envs/py35_pd20/lib/python3.5/site-packages/sklearn/metrics/ranking.py:420: RuntimeWarning: invalid value encountered in true_divide\n",
      "  recall = tps / tps[-1]\n",
      "/Users/luca/anaconda/envs/py35_pd20/lib/python3.5/site-packages/sklearn/metrics/classification.py:1137: UndefinedMetricWarning: Recall is ill-defined and being set to 0.0 due to no true samples.\n",
      "  'recall', 'true', average, warn_for)\n"
     ]
    },
    {
     "name": "stdout",
     "output_type": "stream",
     "text": [
      "only 1 class in test data - cannot compute roc curve\n",
      "\n",
      "Subj/Visit 13, prec=0.000, rec=0.000, Spec=0.979, auroc_train=1.000, auroc=nan\n",
      "\n",
      "Subj/Visit 14, prec=0.133, rec=0.051, Spec=0.967, auroc_train=1.000, auroc=0.586\n"
     ]
    },
    {
     "name": "stderr",
     "output_type": "stream",
     "text": [
      "/Users/luca/anaconda/envs/py35_pd20/lib/python3.5/site-packages/sklearn/metrics/classification.py:1137: UndefinedMetricWarning: F-score is ill-defined and being set to 0.0 due to no true samples.\n",
      "  'recall', 'true', average, warn_for)\n",
      "/Users/luca/anaconda/envs/py35_pd20/lib/python3.5/site-packages/sklearn/metrics/ranking.py:420: RuntimeWarning: invalid value encountered in true_divide\n",
      "  recall = tps / tps[-1]\n",
      "/Users/luca/anaconda/envs/py35_pd20/lib/python3.5/site-packages/sklearn/metrics/classification.py:1137: UndefinedMetricWarning: Recall is ill-defined and being set to 0.0 due to no true samples.\n",
      "  'recall', 'true', average, warn_for)\n"
     ]
    },
    {
     "name": "stdout",
     "output_type": "stream",
     "text": [
      "only 1 class in test data - cannot compute roc curve\n",
      "\n",
      "Subj/Visit 15, prec=0.000, rec=0.000, Spec=0.990, auroc_train=1.000, auroc=nan\n"
     ]
    },
    {
     "name": "stderr",
     "output_type": "stream",
     "text": [
      "/Users/luca/anaconda/envs/py35_pd20/lib/python3.5/site-packages/sklearn/metrics/classification.py:1137: UndefinedMetricWarning: F-score is ill-defined and being set to 0.0 due to no true samples.\n",
      "  'recall', 'true', average, warn_for)\n",
      "/Users/luca/anaconda/envs/py35_pd20/lib/python3.5/site-packages/sklearn/metrics/ranking.py:420: RuntimeWarning: invalid value encountered in true_divide\n",
      "  recall = tps / tps[-1]\n",
      "/Users/luca/anaconda/envs/py35_pd20/lib/python3.5/site-packages/sklearn/metrics/classification.py:1137: UndefinedMetricWarning: Recall is ill-defined and being set to 0.0 due to no true samples.\n",
      "  'recall', 'true', average, warn_for)\n"
     ]
    },
    {
     "name": "stdout",
     "output_type": "stream",
     "text": [
      "only 1 class in test data - cannot compute roc curve\n",
      "\n",
      "Subj/Visit 16, prec=0.000, rec=0.000, Spec=0.986, auroc_train=1.000, auroc=nan\n",
      "\n",
      "Subj/Visit 17, prec=0.968, rec=0.276, Spec=0.975, auroc_train=1.000, auroc=0.789\n",
      "\n",
      "Subj/Visit 18, prec=0.915, rec=0.328, Spec=0.942, auroc_train=1.000, auroc=0.780\n",
      "f1_test=0.153+/-0.204, prec=0.360+/-0.409, rec=0.111+/-0.167, auprc=0.501+/-0.320, auroc=0.730+/-0.119\n"
     ]
    },
    {
     "data": {
      "image/png": "[encoded data removed]",
      "text/plain": [
       "<matplotlib.figure.Figure at 0x11a6a2cc0>"
      ]
     },
     "metadata": {},
     "output_type": "display_data"
    },
    {
     "data": {
      "image/png": "[encoded data removed]",
      "text/plain": [
       "<matplotlib.figure.Figure at 0x118236e10>"
      ]
     },
     "metadata": {},
     "output_type": "display_data"
    },
    {
     "data": {
      "image/png": "[encoded data removed]",
      "text/plain": [
       "<matplotlib.figure.Figure at 0x11a6a23c8>"
      ]
     },
     "metadata": {},
     "output_type": "display_data"
    },
    {
     "data": {
      "image/png": "[encoded data removed]",
      "text/plain": [
       "<matplotlib.figure.Figure at 0x11a6bb2b0>"
      ]
     },
     "metadata": {},
     "output_type": "display_data"
    },
    {
     "data": {
      "image/png": "[encoded data removed]",
      "text/plain": [
       "<matplotlib.figure.Figure at 0x11f47b898>"
      ]
     },
     "metadata": {},
     "output_type": "display_data"
    },
    {
     "data": {
      "image/png": "[encoded data removed]",
      "text/plain": [
       "<matplotlib.figure.Figure at 0x11a5fe400>"
      ]
     },
     "metadata": {},
     "output_type": "display_data"
    },
    {
     "data": {
      "image/png": "[encoded data removed]",
      "text/plain": [
       "<matplotlib.figure.Figure at 0x115a73cf8>"
      ]
     },
     "metadata": {},
     "output_type": "display_data"
    },
    {
     "data": {
      "image/png": "[encoded data removed]",
      "text/plain": [
       "<matplotlib.figure.Figure at 0x120d4ae80>"
      ]
     },
     "metadata": {},
     "output_type": "display_data"
    }
   ],
   "source": [
    "results_task = pd.DataFrame(data=[]) #sae auc for each subject and set of tasks\n",
    "\n",
    "for i,T in enumerate(tasks): \n",
    "    #select group of tasks (A,B,..)\n",
    "    Data=pd.DataFrame()\n",
    "    for t in T:\n",
    "        Data=pd.concat((Data,Dataorig[Dataorig.Task==t]))\n",
    "    \n",
    "    print('\\n %s'%Data.Task.unique())\n",
    "    \n",
    "    #show symptoms per group of tasks\n",
    "    BradP=[]; TremorP=[]; subjs = []\n",
    "    for s in Data['Subject'].unique():\n",
    "        d = Data.loc[Data['Subject']==s]\n",
    "        BradP.append(sum(d['Bradykinesia'] > 0)/len(d['Bradykinesia']))\n",
    "        TremorP.append(sum(d['Tremor'] > 0)/len(d['Tremor']))\n",
    "        subjs.append(s)\n",
    "    fig = plt.figure(figsize=(16,4))\n",
    "    fig.add_subplot(121)\n",
    "    sns.barplot(x=np.arange(len(BradP)),y=BradP)\n",
    "    ax=plt.xticks(np.arange(len(BradP)),subjs,rotation=90)\n",
    "    plt.title('Bradykinesia - Symptoms > 0 - Tasks %d'%(i)), plt.xlabel('Subj')\n",
    "    plt.ylim([0,1])\n",
    "    fig.add_subplot(122)\n",
    "    sns.barplot(x=np.arange(len(TremorP)),y=TremorP)\n",
    "    plt.title('Tremor - Symptoms > 0 per Subj'), plt.xlabel('Subj')\n",
    "    ax=plt.xticks(np.arange(len(BradP)),subjs,rotation=90)\n",
    "    plt.ylim([0,1])\n",
    "    \n",
    "    #train clf on each subject\n",
    "    res_all = pd.DataFrame()\n",
    "    fnames = Data.iloc[:,7:].columns\n",
    "    for symptom in ['Tremor']:\n",
    "        \n",
    "        #remove nan rows for current symptom\n",
    "        Data=Data[~Data[symptom].isnull()]\n",
    "        X = Data.iloc[:,7:].as_matrix()\n",
    "        # X = StandardScaler().fit_transform(X)\n",
    "\n",
    "        #use all data\n",
    "        indp = ((Data[symptom]>0))\n",
    "        indp = indp.values\n",
    "        y = indp.astype(int) #target \n",
    "        groups = Data.Subject.as_matrix()\n",
    "\n",
    "    #     #balance classes\n",
    "    #     X = Data.iloc[np.hstack((indp_new,indn_new)),7:].as_matrix()  \n",
    "    #     y = Data.iloc[np.hstack((indp_new,indn_new))][symptom]  \n",
    "    #     y=(y>0).values.astype(int)\n",
    "    #     groups=Data.iloc[np.hstack((indp_new,indn_new))]['Subject']\n",
    "\n",
    "        print('Rows w %s %d/%d = %.2f'%(symptom,sum(y),len(y),(sum(y)/len(y))))\n",
    "        models = [RandomForestClassifier(n_estimators=50,random_state=0)]#,GradientBoostingClassifier()]\n",
    "                  #SVC(cache_size=800,probability=True)]          \n",
    "        model_name = ['Random Forest']#,'GB']#,'SVM']#,'XGB']\n",
    "        models = list(zip(models,model_name))\n",
    "        res,res_group = LOSOCV(Data,X,y,groups,models)\n",
    "        res_all = pd.concat((res_all,res))\n",
    "        \n",
    "        #plot results\n",
    "        le = LabelEncoder()\n",
    "        subj = le.fit_transform(np.unique(groups))\n",
    "        aurocall = res_group['Random Forest']['auroc']\n",
    "        plt.figure()\n",
    "        ax=sns.barplot(x=np.arange(len(np.unique(subj))),y=aurocall)\n",
    "        plt.xlabel('Subject')\n",
    "        plt.ylim([0.45,1.])\n",
    "        plt.title('Mean AUROC = %.3f +/- %.3f'%(np.nanmean(aurocall),np.nanstd(aurocall)))\n",
    "        \n",
    "        r = pd.DataFrame({i:res_group['Random Forest']['auroc']})\n",
    "        results_task=pd.concat((results_task,r),axis=1)\n",
    "\n",
    "\n",
    "results_task=results_task.rename(columns={0: \"Structured\", 1: \"Walking\", 2:'Gross',3:'Fine'})\n"
   ]
  },
  {
   "cell_type": "markdown",
   "metadata": {},
   "source": [
    "# Effect of # of subjects"
   ]
  },
  {
   "cell_type": "code",
   "execution_count": 132,
   "metadata": {
    "collapsed": false
   },
   "outputs": [],
   "source": [
    "# #if want to use only the selected features (to speed up)\n",
    "# topf = ['rangeYacc', 'rangeXgyr', 'Sen_Xgyr', 'xcorr_peakXZgyr',\n",
    "#        'jerk_stdgyr', 'rangeZgyr', 'PSD_meangyr', 'Sen_Zgyr',\n",
    "#        'xcorr_peakXZacc', 'xcor_peakXYacc', 'xcor_peakXYgyr', 'Sen_Ygyr',\n",
    "#        'rangeXacc']"
   ]
  },
  {
   "cell_type": "markdown",
   "metadata": {},
   "source": [
    "### Bradykinesia"
   ]
  },
  {
   "cell_type": "code",
   "execution_count": 163,
   "metadata": {
    "collapsed": true
   },
   "outputs": [],
   "source": [
    "symptom = 'Bradykinesia'\n",
    "Data=Data[~Data[symptom].isnull()]\n",
    "Data=Data.reset_index(drop=True) #reset index"
   ]
  },
  {
   "cell_type": "code",
   "execution_count": 167,
   "metadata": {
    "collapsed": false
   },
   "outputs": [
    {
     "data": {
      "text/plain": [
       "'Bradykinesia'"
      ]
     },
     "execution_count": 167,
     "metadata": {},
     "output_type": "execute_result"
    }
   ],
   "source": [
    "symptom"
   ]
  },
  {
   "cell_type": "code",
   "execution_count": 168,
   "metadata": {
    "collapsed": false,
    "scrolled": true
   },
   "outputs": [
    {
     "name": "stdout",
     "output_type": "stream",
     "text": [
      "0 [1032 1056 1052 1029 1016 1038 1004 1054 1019 1018 1053 1047 1030 1020 1044\n",
      " 1024] 1046\n",
      "10 [1052 1038 1049 1019 1047 1054 1051 1030 1020 1032 1046 1044 1029 1016 1004\n",
      " 1024] 1053\n",
      "20 [1049 1056 1055 1029 1044 1038 1047 1004 1024 1018 1020 1032 1053 1051 1019\n",
      " 1054] 1016\n",
      "30 [1019 1016 1044 1024 1053 1038 1051 1004 1030 1018 1052 1029 1032 1056 1047\n",
      " 1054] 1046\n",
      "40 [1056 1052 1047 1055 1053 1024 1029 1054 1049 1004 1030 1016 1020 1051 1032\n",
      " 1019] 1018\n",
      "50 [1053 1051 1052 1055 1019 1038 1032 1056 1016 1046 1054 1029 1049 1024 1020\n",
      " 1004] 1018\n",
      "60 [1016 1029 1030 1056 1024 1018 1004 1046 1049 1051 1038 1055 1052 1053 1044\n",
      " 1032] 1019\n",
      "70 [1020 1018 1053 1029 1054 1038 1055 1052 1004 1047 1016 1032 1019 1030 1049\n",
      " 1024] 1051\n",
      "80 [1038 1029 1004 1016 1024 1019 1030 1020 1056 1018 1032 1052 1051 1044 1049\n",
      " 1047] 1053\n",
      "90 [1024 1029 1054 1038 1052 1044 1018 1053 1055 1049 1046 1019 1047 1030 1004\n",
      " 1056] 1020\n",
      "100 [1044 1047 1018 1053 1052 1032 1054 1024 1030 1038 1016 1049 1019 1029 1020\n",
      " 1056] 1051\n",
      "110 [1024 1046 1056 1030 1055 1020 1049 1044 1053 1029 1032 1018 1054 1038 1052\n",
      " 1016] 1004\n",
      "120 [1004 1056 1054 1055 1029 1020 1038 1051 1052 1019 1047 1016 1044 1046 1053\n",
      " 1032] 1024\n",
      "130 [1053 1004 1055 1049 1024 1051 1029 1046 1056 1038 1016 1052 1020 1018 1047\n",
      " 1030] 1019\n",
      "140 [1038 1019 1018 1044 1053 1016 1020 1052 1046 1056 1004 1029 1024 1051 1032\n",
      " 1047] 1030\n",
      "150 [1032 1056 1053 1038 1044 1029 1030 1024 1046 1055 1004 1020 1019 1054 1018\n",
      " 1016] 1049\n",
      "160 [1053 1051 1055 1019 1056 1044 1020 1054 1016 1029 1049 1038 1052 1018 1046\n",
      " 1047] 1024\n",
      "170 [1018 1053 1051 1047 1046 1004 1019 1038 1024 1016 1052 1029 1030 1049 1032\n",
      " 1054] 1056\n",
      "180 [1038 1020 1046 1049 1052 1051 1030 1016 1044 1047 1018 1032 1019 1053 1054\n",
      " 1055] 1056\n",
      "190 [1049 1029 1055 1052 1030 1024 1051 1004 1046 1054 1044 1020 1056 1053 1032\n",
      " 1016] 1047\n",
      "200 [1016 1029 1051 1055 1024 1019 1004 1056 1047 1046 1018 1032 1038 1049 1054\n",
      " 1030] 1052\n",
      "210 [1016 1004 1055 1053 1032 1052 1024 1056 1047 1049 1030 1029 1038 1020 1019\n",
      " 1044] 1054\n",
      "220 [1030 1051 1019 1047 1004 1018 1054 1029 1044 1038 1046 1024 1032 1053 1016\n",
      " 1020] 1052\n",
      "230 [1020 1032 1054 1004 1052 1056 1055 1047 1038 1024 1030 1016 1051 1018 1046\n",
      " 1053] 1049\n",
      "240 [1046 1056 1020 1055 1024 1030 1049 1019 1029 1016 1004 1053 1032 1044 1051\n",
      " 1052] 1038\n",
      "250 [1029 1053 1020 1030 1049 1052 1044 1032 1056 1055 1018 1019 1016 1051 1046\n",
      " 1024] 1047\n",
      "260 [1044 1038 1046 1029 1024 1020 1054 1019 1016 1056 1053 1052 1049 1051 1047\n",
      " 1018] 1004\n",
      "270 [1004 1038 1032 1056 1016 1051 1029 1049 1020 1019 1054 1053 1052 1046 1055\n",
      " 1018] 1047\n",
      "280 [1019 1051 1047 1018 1056 1052 1046 1054 1049 1004 1029 1020 1044 1053 1024\n",
      " 1016] 1055\n",
      "290 [1016 1020 1018 1044 1054 1056 1029 1019 1053 1046 1038 1032 1051 1049 1047\n",
      " 1030] 1024\n",
      "300 [1046 1053 1055 1051 1052 1020 1056 1024 1004 1030 1018 1016 1044 1047 1032\n",
      " 1054] 1029\n",
      "310 [1018 1046 1056 1004 1054 1016 1051 1032 1053 1038 1047 1029 1019 1055 1052\n",
      " 1049] 1024\n",
      "320 [1019 1038 1056 1044 1051 1018 1052 1046 1029 1047 1049 1024 1032 1055 1016\n",
      " 1030] 1054\n",
      "330 [1051 1049 1019 1047 1029 1044 1052 1030 1032 1020 1024 1055 1053 1038 1046\n",
      " 1054] 1004\n",
      "340 [1018 1047 1055 1029 1052 1049 1020 1056 1030 1032 1004 1044 1051 1024 1053\n",
      " 1016] 1054\n",
      "350 [1049 1030 1038 1029 1052 1051 1047 1018 1004 1032 1046 1024 1054 1020 1019\n",
      " 1056] 1053\n",
      "360 [1020 1046 1032 1038 1056 1004 1052 1044 1054 1055 1049 1029 1019 1018 1030\n",
      " 1024] 1053\n",
      "370 [1055 1020 1024 1032 1044 1049 1054 1029 1046 1053 1047 1038 1030 1016 1051\n",
      " 1019] 1004\n",
      "380 [1056 1053 1047 1046 1055 1054 1029 1004 1030 1032 1016 1052 1038 1049 1019\n",
      " 1051] 1024\n",
      "390 [1024 1004 1030 1053 1047 1020 1054 1049 1029 1044 1055 1052 1051 1032 1016\n",
      " 1018] 1019\n",
      "400 [1004 1038 1054 1016 1047 1029 1018 1024 1056 1055 1051 1046 1030 1019 1052\n",
      " 1020] 1032\n",
      "410 [1032 1051 1049 1044 1024 1004 1029 1047 1054 1055 1030 1019 1046 1018 1053\n",
      " 1038] 1020\n",
      "420 [1019 1055 1052 1051 1047 1024 1054 1044 1032 1029 1018 1030 1038 1016 1020\n",
      " 1056] 1053\n",
      "430 [1052 1049 1038 1051 1024 1030 1032 1056 1053 1019 1044 1020 1047 1055 1029\n",
      " 1016] 1018\n",
      "440 [1029 1004 1046 1052 1053 1016 1049 1038 1047 1055 1044 1024 1051 1019 1056\n",
      " 1054] 1018\n",
      "450 [1044 1024 1054 1051 1019 1030 1016 1052 1046 1056 1004 1038 1053 1018 1049\n",
      " 1055] 1032\n",
      "460 [1054 1053 1032 1016 1047 1055 1024 1038 1020 1044 1019 1056 1051 1030 1052\n",
      " 1046] 1004\n",
      "470 [1030 1019 1018 1038 1032 1051 1020 1053 1054 1046 1029 1044 1052 1049 1047\n",
      " 1004] 1024\n",
      "480 [1024 1046 1019 1032 1056 1047 1029 1051 1004 1020 1030 1044 1055 1038 1054\n",
      " 1052] 1018\n",
      "490 [1055 1029 1051 1020 1047 1044 1030 1054 1049 1004 1053 1019 1032 1052 1046\n",
      " 1038] 1024\n",
      "elapsed 195.544 min\n"
     ]
    }
   ],
   "source": [
    "#sample p subjects at random for train and test on 1 random remaining subject\n",
    "\n",
    "results = pd.DataFrame()\n",
    "subjs=Data.Subject.unique()\n",
    "nsubj = [4,6,8,12,16] #of subjects to train on\n",
    "clf = RandomForestClassifier(n_estimators=50,random_state=2)\n",
    "auc_all={}\n",
    "testsublist = []\n",
    "t1=time.time()\n",
    "\n",
    "for iteration in range(500):\n",
    "    \n",
    "\n",
    "    trainsubjall = np.random.choice(subjs,size=16,replace=False) #sample 16 subjects at random\n",
    "    \n",
    "    #pick a test subject at random\n",
    "    losubjs = Data[~Data.Subject.isin(trainsubjall)].Subject.unique()\n",
    "    testsubj = np.random.choice(losubjs)\n",
    "    dtest = Data[Data.Subject==testsubj]\n",
    "    testsublist.append(testsubj)\n",
    "    \n",
    "    #use top features\n",
    "    Xte = dtest.iloc[:,7:].as_matrix()\n",
    "#     Xte = dtest[topf].as_matrix()\n",
    "    yte = (dtest[symptom]>0).values.astype(int)\n",
    "\n",
    "    if iteration%10==0:\n",
    "        print(iteration,trainsubjall,testsubj)\n",
    "\n",
    "    #compute and store AUC for an incremental number of train subjects tested on the left out subject\n",
    "    for NS in nsubj:\n",
    "    \n",
    "        trainsubj = trainsubjall[:NS] #add subjects incrementally each time\n",
    "        dtrain = Data[Data.Subject.isin(trainsubj)]\n",
    "\n",
    "        Xtr = dtrain.iloc[:,7:].as_matrix()\n",
    "        #use top features\n",
    "#         Xtr = dtrain[topf].as_matrix()\n",
    "        ytr = (dtrain[symptom]>0).values.astype(int)\n",
    "\n",
    "        if len(np.unique(ytr))<2: #skip if no positive or negative examples are available for training\n",
    "            print('only 1 class available in train data - skipping')\n",
    "            continue\n",
    "        clf.fit(Xtr,ytr)\n",
    "        ypred = clf.predict(Xte)\n",
    "        yscore = clf.predict_proba(Xte)\n",
    "        yscore = yscore[:,1]\n",
    "\n",
    "        if len(np.unique(yte))>1:\n",
    "            auroc = roc_auc_score(yte,yscore)\n",
    "        else:\n",
    "            print('only 1 class in test data - cannot compute roc curve')\n",
    "            auroc = np.nan\n",
    "        auc_all.update({NS:auroc}) #store auc for each grp\n",
    "\n",
    "\n",
    "    results=pd.concat((results,pd.DataFrame(auc_all,index=[iteration])))\n",
    "    \n",
    "\n",
    "\n",
    "#     results.update({ng:auc_all}) #save auc for all runs for each group\n",
    "print('elapsed %.3f min'%((time.time()-t1)/60))\n"
   ]
  },
  {
   "cell_type": "code",
   "execution_count": 170,
   "metadata": {
    "collapsed": true
   },
   "outputs": [],
   "source": [
    "results.to_csv('SimsMultiSubj_Brady.csv')"
   ]
  },
  {
   "cell_type": "code",
   "execution_count": 171,
   "metadata": {
    "collapsed": false
   },
   "outputs": [],
   "source": [
    "np.save('SimsMultiSubj_testsublist_brady.npy',testsublist)"
   ]
  },
  {
   "cell_type": "markdown",
   "metadata": {},
   "source": [
    "Bradykinesia Results"
   ]
  },
  {
   "cell_type": "code",
   "execution_count": 270,
   "metadata": {
    "collapsed": true
   },
   "outputs": [],
   "source": [
    "results=pd.read_csv('SimsMultiSubj_Brady.csv',index_col=False)\n",
    "results=results.drop('Unnamed: 0',axis=1)"
   ]
  },
  {
   "cell_type": "code",
   "execution_count": 271,
   "metadata": {
    "collapsed": false
   },
   "outputs": [],
   "source": [
    "results2=results.iloc[:,1:].copy()"
   ]
  },
  {
   "cell_type": "code",
   "execution_count": 272,
   "metadata": {
    "collapsed": false
   },
   "outputs": [],
   "source": [
    "baseline = results.iloc[:,0].copy()"
   ]
  },
  {
   "cell_type": "code",
   "execution_count": 273,
   "metadata": {
    "collapsed": false
   },
   "outputs": [],
   "source": [
    "diffs = results2.apply(lambda x:x - baseline)"
   ]
  },
  {
   "cell_type": "code",
   "execution_count": 274,
   "metadata": {
    "collapsed": false
   },
   "outputs": [
    {
     "data": {
      "text/plain": [
       "<matplotlib.axes._subplots.AxesSubplot at 0x11940fba8>"
      ]
     },
     "execution_count": 274,
     "metadata": {},
     "output_type": "execute_result"
    },
    {
     "data": {
      "image/png": "[encoded data removed]",
      "text/plain": [
       "<matplotlib.figure.Figure at 0x119405828>"
      ]
     },
     "metadata": {},
     "output_type": "display_data"
    }
   ],
   "source": [
    "diffs.plot(kind='box')"
   ]
  },
  {
   "cell_type": "code",
   "execution_count": 214,
   "metadata": {
    "collapsed": false
   },
   "outputs": [
    {
     "name": "stdout",
     "output_type": "stream",
     "text": [
      "-0.0791147729506 0.132757622925\n",
      "-0.0966322374058 0.153694321298\n",
      "-0.0943197229707 0.173267278522\n",
      "-0.112794756692 0.192318924207\n"
     ]
    },
    {
     "data": {
      "image/png": "[encoded data removed]",
      "text/plain": [
       "<matplotlib.figure.Figure at 0x11f738898>"
      ]
     },
     "metadata": {},
     "output_type": "display_data"
    }
   ],
   "source": [
    "ci = []\n",
    "for c in range(len(diffs.columns.values)):\n",
    "    sns.distplot(diffs.iloc[:,c])\n",
    "    print(np.percentile(diffs.iloc[:,c].values,2.5),np.percentile(diffs.iloc[:,c].values,97.5))\n",
    "    ci.append(np.array([np.percentile(diffs.iloc[:,c].values,2.5),np.percentile(diffs.iloc[:,c].values,97.5)]))"
   ]
  },
  {
   "cell_type": "code",
   "execution_count": 276,
   "metadata": {
    "collapsed": false,
    "scrolled": true
   },
   "outputs": [],
   "source": [
    "diffs['TestSubj']= testsublist"
   ]
  },
  {
   "cell_type": "code",
   "execution_count": 2,
   "metadata": {
    "collapsed": false
   },
   "outputs": [],
   "source": [
    "# plt.figure(figsize=(12,8))\n",
    "# sns.boxplot(x='TestSubj',y='6',data=diffs)"
   ]
  },
  {
   "cell_type": "code",
   "execution_count": 3,
   "metadata": {
    "collapsed": false
   },
   "outputs": [],
   "source": [
    "# plt.figure(figsize=(12,8))\n",
    "# sns.boxplot(x='TestSubj',y='16',data=diffs)"
   ]
  },
  {
   "cell_type": "code",
   "execution_count": 268,
   "metadata": {
    "collapsed": false
   },
   "outputs": [
    {
     "data": {
      "text/plain": [
       "(500,)"
      ]
     },
     "execution_count": 268,
     "metadata": {},
     "output_type": "execute_result"
    }
   ],
   "source": [
    "a.shape"
   ]
  },
  {
   "cell_type": "markdown",
   "metadata": {},
   "source": [
    "### Tremor Results"
   ]
  },
  {
   "cell_type": "code",
   "execution_count": 237,
   "metadata": {
    "collapsed": false
   },
   "outputs": [],
   "source": [
    "results=pd.read_csv('SimsMultiSubj_Tremor.csv',index_col=False)"
   ]
  },
  {
   "cell_type": "code",
   "execution_count": 238,
   "metadata": {
    "collapsed": false
   },
   "outputs": [],
   "source": [
    "results=results.drop('Unnamed: 0',axis=1)"
   ]
  },
  {
   "cell_type": "code",
   "execution_count": 239,
   "metadata": {
    "collapsed": false
   },
   "outputs": [],
   "source": [
    "results=results.dropna()"
   ]
  },
  {
   "cell_type": "code",
   "execution_count": 240,
   "metadata": {
    "collapsed": false
   },
   "outputs": [],
   "source": [
    "results2=results.iloc[:,1:].copy()"
   ]
  },
  {
   "cell_type": "code",
   "execution_count": 241,
   "metadata": {
    "collapsed": false
   },
   "outputs": [],
   "source": [
    "baseline = results.iloc[:,0].copy()"
   ]
  },
  {
   "cell_type": "code",
   "execution_count": 242,
   "metadata": {
    "collapsed": false
   },
   "outputs": [],
   "source": [
    "diffs = results2.apply(lambda x:x - baseline)"
   ]
  },
  {
   "cell_type": "code",
   "execution_count": 243,
   "metadata": {
    "collapsed": false
   },
   "outputs": [
    {
     "data": {
      "text/plain": [
       "<matplotlib.axes._subplots.AxesSubplot at 0x1155cb160>"
      ]
     },
     "execution_count": 243,
     "metadata": {},
     "output_type": "execute_result"
    },
    {
     "data": {
      "image/png": "[encoded data removed]",
      "text/plain": [
       "<matplotlib.figure.Figure at 0x11aad0518>"
      ]
     },
     "metadata": {},
     "output_type": "display_data"
    }
   ],
   "source": [
    "diffs.plot(kind='box')"
   ]
  },
  {
   "cell_type": "code",
   "execution_count": 248,
   "metadata": {
    "collapsed": false
   },
   "outputs": [
    {
     "name": "stdout",
     "output_type": "stream",
     "text": [
      "-0.116055849322 0.177949411558\n",
      "-0.0691723836327 0.186991451785\n",
      "-0.0855872511339 0.181640949656\n",
      "-0.0657825338663 0.214298338209\n"
     ]
    },
    {
     "data": {
      "image/png": "[encoded data removed]",
      "text/plain": [
       "<matplotlib.figure.Figure at 0x11f7386d8>"
      ]
     },
     "metadata": {},
     "output_type": "display_data"
    }
   ],
   "source": [
    "ci = []\n",
    "for c in range(len(diffs.columns.values)):\n",
    "    sns.distplot(diffs.iloc[:,c])\n",
    "    print(np.percentile(diffs.iloc[:,c].values,2.5),np.percentile(diffs.iloc[:,c].values,97.5))\n",
    "    ci.append(np.array([np.percentile(diffs.iloc[:,c].values,2.5),np.percentile(diffs.iloc[:,c].values,97.5)]))"
   ]
  },
  {
   "cell_type": "code",
   "execution_count": 255,
   "metadata": {
    "collapsed": false
   },
   "outputs": [
    {
     "data": {
      "text/plain": [
       "(25552, 56)"
      ]
     },
     "execution_count": 255,
     "metadata": {},
     "output_type": "execute_result"
    }
   ],
   "source": [
    "Xtr.shape"
   ]
  },
  {
   "cell_type": "code",
   "execution_count": 1,
   "metadata": {
    "collapsed": false
   },
   "outputs": [],
   "source": [
    "# y=np.asarray(diffs)\n",
    "# x = diffs.columns.values\n",
    "# sns.tsplot(y,x,ci='sd')"
   ]
  },
  {
   "cell_type": "markdown",
   "metadata": {},
   "source": [
    "## Personal Models"
   ]
  },
  {
   "cell_type": "code",
   "execution_count": 42,
   "metadata": {
    "collapsed": false,
    "scrolled": true
   },
   "outputs": [
    {
     "name": "stdout",
     "output_type": "stream",
     "text": [
      "Subject 1004\n",
      "Training Random Forest\n",
      "\n",
      "Subj/Visit 0, prec=0.794, rec=0.222, Spec=0.548, auroc_train=1.000, auroc=0.474\n",
      "\n",
      "Subj/Visit 1, prec=0.281, rec=0.257, Spec=0.876, auroc_train=1.000, auroc=0.671\n",
      "\n",
      "Subj/Visit 2, prec=0.478, rec=0.458, Spec=0.940, auroc_train=1.000, auroc=0.908\n",
      "\n",
      "Subj/Visit 3, prec=0.589, rec=0.644, Spec=0.727, auroc_train=1.000, auroc=0.766\n",
      "\n",
      "Subj/Visit 4, prec=0.442, rec=0.885, Spec=0.849, auroc_train=1.000, auroc=0.884\n",
      "\n",
      "Subj/Visit 5, prec=0.688, rec=0.478, Spec=0.943, auroc_train=1.000, auroc=0.900\n",
      "\n",
      "Subj/Visit 6, prec=0.564, rec=0.595, Spec=0.762, auroc_train=1.000, auroc=0.770\n",
      "f1_test=0.490+/-0.125, prec=0.548+/-0.155, rec=0.506+/-0.212, auprc=0.549+/-0.202, auroc=0.768+/-0.144\n",
      "Subject 1016\n",
      "Training Random Forest\n",
      "\n",
      "Subj/Visit 0, prec=0.984, rec=0.984, Spec=0.714, auroc_train=1.000, auroc=0.976\n",
      "\n",
      "Subj/Visit 1, prec=0.955, rec=1.000, Spec=0.633, auroc_train=1.000, auroc=0.991\n",
      "\n",
      "Subj/Visit 2, prec=0.945, rec=1.000, Spec=0.536, auroc_train=1.000, auroc=0.992\n",
      "\n",
      "Subj/Visit 3, prec=0.996, rec=0.961, Spec=0.923, auroc_train=1.000, auroc=0.993\n",
      "\n",
      "Subj/Visit 4, prec=0.922, rec=1.000, Spec=0.472, auroc_train=1.000, auroc=0.798\n",
      "\n",
      "Subj/Visit 5, prec=0.977, rec=0.984, Spec=0.750, auroc_train=1.000, auroc=0.989\n",
      "\n",
      "Subj/Visit 6, prec=0.996, rec=0.944, Spec=0.923, auroc_train=1.000, auroc=0.991\n",
      "f1_test=0.974+/-0.008, prec=0.968+/-0.026, rec=0.982+/-0.020, auprc=0.994+/-0.012, auroc=0.961+/-0.067\n",
      "Subject 1018\n",
      "Training Random Forest\n",
      "\n",
      "Subj/Visit 0, prec=0.868, rec=0.767, Spec=0.787, auroc_train=1.000, auroc=0.867\n",
      "\n",
      "Subj/Visit 1, prec=0.810, rec=0.947, Spec=0.713, auroc_train=1.000, auroc=0.899\n",
      "\n",
      "Subj/Visit 2, prec=0.780, rec=0.944, Spec=0.689, auroc_train=1.000, auroc=0.881\n",
      "\n",
      "Subj/Visit 3, prec=0.837, rec=0.953, Spec=0.767, auroc_train=1.000, auroc=0.948\n",
      "\n",
      "Subj/Visit 4, prec=0.974, rec=0.836, Spec=0.949, auroc_train=1.000, auroc=0.960\n",
      "\n",
      "Subj/Visit 5, prec=0.622, rec=0.955, Spec=0.542, auroc_train=1.000, auroc=0.858\n",
      "\n",
      "Subj/Visit 6, prec=0.667, rec=0.815, Spec=0.522, auroc_train=1.000, auroc=0.724\n",
      "f1_test=0.831+/-0.062, prec=0.794+/-0.111, rec=0.888+/-0.074, auprc=0.886+/-0.079, auroc=0.877+/-0.072\n",
      "Subject 1019\n",
      "Training Random Forest\n",
      "\n",
      "Subj/Visit 0, prec=0.667, rec=0.283, Spec=0.894, auroc_train=1.000, auroc=0.782\n",
      "\n",
      "Subj/Visit 1, prec=0.980, rec=0.842, Spec=0.995, auroc_train=1.000, auroc=0.983\n",
      "\n",
      "Subj/Visit 2, prec=0.596, rec=1.000, Spec=0.905, auroc_train=1.000, auroc=0.992\n",
      "\n",
      "Subj/Visit 3, prec=0.792, rec=0.396, Spec=0.937, auroc_train=1.000, auroc=0.873\n",
      "\n",
      "Subj/Visit 4, prec=0.976, rec=0.488, Spec=0.994, auroc_train=1.000, auroc=0.949\n",
      "\n",
      "Subj/Visit 5, prec=0.824, rec=0.737, Spec=0.953, auroc_train=1.000, auroc=0.963\n",
      "\n",
      "Subj/Visit 6, prec=0.900, rec=0.643, Spec=0.975, auroc_train=1.000, auroc=0.951\n",
      "f1_test=0.679+/-0.157, prec=0.819+/-0.137, rec=0.627+/-0.236, auprc=0.878+/-0.080, auroc=0.928+/-0.069\n",
      "Subject 1024\n",
      "Training Random Forest\n",
      "\n",
      "Subj/Visit 0, prec=0.996, rec=0.691, Spec=0.950, auroc_train=1.000, auroc=0.901\n",
      "\n",
      "Subj/Visit 1, prec=0.743, rec=0.983, Spec=0.683, auroc_train=1.000, auroc=0.948\n",
      "\n",
      "Subj/Visit 2, prec=0.606, rec=1.000, Spec=0.545, auroc_train=1.000, auroc=0.976\n",
      "\n",
      "Subj/Visit 3, prec=0.866, rec=0.730, Spec=0.405, auroc_train=1.000, auroc=0.723\n",
      "\n",
      "Subj/Visit 4, prec=0.836, rec=0.817, Spec=0.779, auroc_train=1.000, auroc=0.869\n",
      "\n",
      "Subj/Visit 5, prec=0.731, rec=0.791, Spec=0.652, auroc_train=1.000, auroc=0.812\n",
      "\n",
      "Subj/Visit 6, prec=0.494, rec=0.752, Spec=0.429, auroc_train=1.000, auroc=0.685\n",
      "f1_test=0.770+/-0.078, prec=0.753+/-0.155, rec=0.823+/-0.113, auprc=0.881+/-0.118, auroc=0.845+/-0.102\n",
      "Subject 1029\n",
      "Training Random Forest\n",
      "\n",
      "Subj/Visit 0, prec=0.956, rec=0.522, Spec=0.818, auroc_train=1.000, auroc=0.799\n",
      "\n",
      "Subj/Visit 1, prec=0.757, rec=0.975, Spec=0.739, auroc_train=1.000, auroc=0.968\n",
      "\n",
      "Subj/Visit 2, prec=0.693, rec=0.805, Spec=0.618, auroc_train=1.000, auroc=0.797\n",
      "\n",
      "Subj/Visit 3, prec=0.592, rec=0.731, Spec=0.618, auroc_train=1.000, auroc=0.699\n",
      "\n",
      "Subj/Visit 4, prec=0.708, rec=0.955, Spec=0.639, auroc_train=1.000, auroc=0.944\n",
      "\n",
      "Subj/Visit 5, prec=0.748, rec=0.968, Spec=0.727, auroc_train=1.000, auroc=0.961\n",
      "\n",
      "Subj/Visit 6, prec=0.861, rec=0.581, Spec=0.509, auroc_train=1.000, auroc=0.646\n",
      "f1_test=0.754+/-0.077, prec=0.759+/-0.110, rec=0.791+/-0.174, auprc=0.876+/-0.125, auroc=0.831+/-0.121\n",
      "Subject 1030\n",
      "Training Random Forest\n",
      "\n",
      "Subj/Visit 0, prec=0.903, rec=0.592, Spec=0.906, auroc_train=1.000, auroc=0.857\n",
      "\n",
      "Subj/Visit 1, prec=0.840, rec=0.741, Spec=0.832, auroc_train=1.000, auroc=0.896\n",
      "\n",
      "Subj/Visit 2, prec=0.755, rec=0.770, Spec=0.829, auroc_train=1.000, auroc=0.905\n",
      "\n",
      "Subj/Visit 3, prec=0.831, rec=0.622, Spec=0.862, auroc_train=1.000, auroc=0.868\n",
      "\n",
      "Subj/Visit 4, prec=0.818, rec=0.909, Spec=0.852, auroc_train=1.000, auroc=0.955\n",
      "\n",
      "Subj/Visit 5, prec=0.739, rec=0.759, Spec=0.766, auroc_train=1.000, auroc=0.853\n",
      "\n",
      "Subj/Visit 6, prec=0.750, rec=0.683, Spec=0.835, auroc_train=1.000, auroc=0.844\n",
      "f1_test=0.757+/-0.050, prec=0.805+/-0.056, rec=0.725+/-0.098, auprc=0.872+/-0.062, auroc=0.883+/-0.036\n",
      "Subject 1032\n",
      "Training Random Forest\n",
      "\n",
      "Subj/Visit 0, prec=0.988, rec=0.982, Spec=0.714, auroc_train=1.000, auroc=0.882\n",
      "\n",
      "Subj/Visit 1, prec=0.942, rec=0.997, Spec=0.667, auroc_train=1.000, auroc=0.930\n",
      "\n",
      "Subj/Visit 2, prec=0.846, rec=1.000, Spec=0.194, auroc_train=1.000, auroc=0.874\n",
      "\n",
      "Subj/Visit 3, prec=0.975, rec=0.989, Spec=0.816, auroc_train=1.000, auroc=0.992\n",
      "\n",
      "Subj/Visit 4, prec=0.966, rec=0.955, Spec=0.750, auroc_train=1.000, auroc=0.938\n",
      "\n",
      "Subj/Visit 5, prec=0.929, rec=0.993, Spec=0.638, auroc_train=1.000, auroc=0.834\n",
      "\n",
      "Subj/Visit 6, prec=0.828, rec=0.847, Spec=0.169, auroc_train=1.000, auroc=0.608\n",
      "f1_test=0.944+/-0.048, prec=0.925+/-0.059, rec=0.966+/-0.051, auprc=0.964+/-0.037, auroc=0.865+/-0.115\n",
      "Subject 1038\n",
      "Training Random Forest\n",
      "\n",
      "Subj/Visit 0, prec=0.973, rec=0.545, Spec=0.995, auroc_train=1.000, auroc=0.896\n",
      "\n",
      "Subj/Visit 1, prec=0.979, rec=0.479, Spec=0.995, auroc_train=1.000, auroc=0.833\n",
      "\n",
      "Subj/Visit 2, prec=0.978, rec=0.625, Spec=0.995, auroc_train=1.000, auroc=0.901\n",
      "\n",
      "Subj/Visit 3, prec=0.765, rec=0.736, Spec=0.943, auroc_train=1.000, auroc=0.946\n",
      "\n",
      "Subj/Visit 4, prec=0.773, rec=0.694, Spec=0.955, auroc_train=1.000, auroc=0.943\n",
      "\n",
      "Subj/Visit 5, prec=0.980, rec=0.500, Spec=0.995, auroc_train=1.000, auroc=0.788\n",
      "\n",
      "Subj/Visit 6, prec=0.245, rec=0.117, Spec=0.770, auroc_train=1.000, auroc=0.447\n",
      "f1_test=0.629+/-0.197, prec=0.813+/-0.249, rec=0.528+/-0.190, auprc=0.734+/-0.166, auroc=0.822+/-0.162\n",
      "Subject 1044\n",
      "Training Random Forest\n",
      "\n",
      "Subj/Visit 0, prec=0.960, rec=0.786, Spec=0.950, auroc_train=1.000, auroc=0.926\n",
      "\n",
      "Subj/Visit 1, prec=0.906, rec=0.828, Spec=0.929, auroc_train=1.000, auroc=0.935\n",
      "\n",
      "Subj/Visit 2, prec=0.809, rec=0.835, Spec=0.823, auroc_train=1.000, auroc=0.910\n",
      "\n",
      "Subj/Visit 3, prec=0.816, rec=0.867, Spec=0.804, auroc_train=1.000, auroc=0.927\n",
      "\n",
      "Subj/Visit 4, prec=0.881, rec=0.897, Spec=0.889, auroc_train=1.000, auroc=0.957\n",
      "\n",
      "Subj/Visit 5, prec=0.881, rec=0.839, Spec=0.896, auroc_train=1.000, auroc=0.950\n",
      "\n",
      "Subj/Visit 6, prec=0.741, rec=0.826, Spec=0.746, auroc_train=1.000, auroc=0.837\n",
      "f1_test=0.846+/-0.033, prec=0.856+/-0.067, rec=0.840+/-0.032, auprc=0.908+/-0.050, auroc=0.920+/-0.037\n",
      "Subject 1046\n",
      "Training Random Forest\n",
      "\n",
      "Subj/Visit 0, prec=0.974, rec=0.712, Spec=0.986, auroc_train=1.000, auroc=0.944\n",
      "\n",
      "Subj/Visit 1, prec=0.824, rec=0.959, Spec=0.901, auroc_train=1.000, auroc=0.988\n",
      "\n",
      "Subj/Visit 2, prec=0.893, rec=0.918, Spec=0.940, auroc_train=1.000, auroc=0.985\n",
      "\n",
      "Subj/Visit 3, prec=0.947, rec=0.755, Spec=0.969, auroc_train=1.000, auroc=0.956\n",
      "\n",
      "Subj/Visit 4, prec=0.960, rec=0.805, Spec=0.965, auroc_train=1.000, auroc=0.947\n",
      "\n",
      "Subj/Visit 5, prec=0.776, rec=0.760, Spec=0.833, auroc_train=1.000, auroc=0.881\n",
      "\n",
      "Subj/Visit 6, prec=0.852, rec=0.719, Spec=0.898, auroc_train=1.000, auroc=0.879\n",
      "f1_test=0.840+/-0.049, prec=0.889+/-0.070, rec=0.804+/-0.090, auprc=0.938+/-0.039, auroc=0.940+/-0.041\n",
      "Subject 1047\n",
      "Training Random Forest\n",
      "\n",
      "Subj/Visit 0, prec=0.784, rec=0.372, Spec=0.947, auroc_train=1.000, auroc=0.829\n",
      "only 1 class in test data - cannot compute roc curve\n"
     ]
    },
    {
     "name": "stderr",
     "output_type": "stream",
     "text": [
      "/Users/luca/anaconda/envs/py35_pd20/lib/python3.5/site-packages/sklearn/metrics/ranking.py:420: RuntimeWarning: invalid value encountered in true_divide\n",
      "  recall = tps / tps[-1]\n"
     ]
    },
    {
     "name": "stdout",
     "output_type": "stream",
     "text": [
      "\n",
      "Subj/Visit 1, prec=0.000, rec=0.000, Spec=1.000, auroc_train=1.000, auroc=nan\n"
     ]
    },
    {
     "name": "stderr",
     "output_type": "stream",
     "text": [
      "/Users/luca/anaconda/envs/py35_pd20/lib/python3.5/site-packages/sklearn/metrics/classification.py:1137: UndefinedMetricWarning: F-score is ill-defined and being set to 0.0 due to no true samples.\n",
      "  'recall', 'true', average, warn_for)\n",
      "/Users/luca/anaconda/envs/py35_pd20/lib/python3.5/site-packages/sklearn/metrics/ranking.py:420: RuntimeWarning: invalid value encountered in true_divide\n",
      "  recall = tps / tps[-1]\n",
      "/Users/luca/anaconda/envs/py35_pd20/lib/python3.5/site-packages/sklearn/metrics/classification.py:1137: UndefinedMetricWarning: Recall is ill-defined and being set to 0.0 due to no true samples.\n",
      "  'recall', 'true', average, warn_for)\n"
     ]
    },
    {
     "name": "stdout",
     "output_type": "stream",
     "text": [
      "only 1 class in test data - cannot compute roc curve\n",
      "\n",
      "Subj/Visit 2, prec=0.000, rec=0.000, Spec=0.990, auroc_train=1.000, auroc=nan\n",
      "\n",
      "Subj/Visit 3, prec=1.000, rec=0.429, Spec=1.000, auroc_train=1.000, auroc=0.862\n"
     ]
    },
    {
     "name": "stderr",
     "output_type": "stream",
     "text": [
      "/Users/luca/anaconda/envs/py35_pd20/lib/python3.5/site-packages/sklearn/metrics/classification.py:1137: UndefinedMetricWarning: F-score is ill-defined and being set to 0.0 due to no true samples.\n",
      "  'recall', 'true', average, warn_for)\n",
      "/Users/luca/anaconda/envs/py35_pd20/lib/python3.5/site-packages/sklearn/metrics/ranking.py:420: RuntimeWarning: invalid value encountered in true_divide\n",
      "  recall = tps / tps[-1]\n",
      "/Users/luca/anaconda/envs/py35_pd20/lib/python3.5/site-packages/sklearn/metrics/classification.py:1137: UndefinedMetricWarning: Recall is ill-defined and being set to 0.0 due to no true samples.\n",
      "  'recall', 'true', average, warn_for)\n"
     ]
    },
    {
     "name": "stdout",
     "output_type": "stream",
     "text": [
      "only 1 class in test data - cannot compute roc curve\n",
      "\n",
      "Subj/Visit 4, prec=0.000, rec=0.000, Spec=0.995, auroc_train=1.000, auroc=nan\n"
     ]
    },
    {
     "name": "stderr",
     "output_type": "stream",
     "text": [
      "/Users/luca/anaconda/envs/py35_pd20/lib/python3.5/site-packages/sklearn/metrics/classification.py:1137: UndefinedMetricWarning: F-score is ill-defined and being set to 0.0 due to no true samples.\n",
      "  'recall', 'true', average, warn_for)\n",
      "/Users/luca/anaconda/envs/py35_pd20/lib/python3.5/site-packages/sklearn/metrics/ranking.py:420: RuntimeWarning: invalid value encountered in true_divide\n",
      "  recall = tps / tps[-1]\n",
      "/Users/luca/anaconda/envs/py35_pd20/lib/python3.5/site-packages/sklearn/metrics/classification.py:1137: UndefinedMetricWarning: Recall is ill-defined and being set to 0.0 due to no true samples.\n",
      "  'recall', 'true', average, warn_for)\n"
     ]
    },
    {
     "name": "stdout",
     "output_type": "stream",
     "text": [
      "only 1 class in test data - cannot compute roc curve\n",
      "\n",
      "Subj/Visit 5, prec=0.000, rec=0.000, Spec=0.995, auroc_train=1.000, auroc=nan\n",
      "f1_test=0.184+/-0.262, prec=0.297+/-0.425, rec=0.133+/-0.189, auprc=0.768+/-0.024, auroc=0.845+/-0.016\n",
      "Subject 1049\n",
      "Training Random Forest\n",
      "\n",
      "Subj/Visit 0, prec=0.791, rec=0.738, Spec=0.768, auroc_train=1.000, auroc=0.821\n",
      "\n",
      "Subj/Visit 1, prec=0.842, rec=0.830, Spec=0.812, auroc_train=1.000, auroc=0.857\n",
      "\n",
      "Subj/Visit 2, prec=0.801, rec=0.842, Spec=0.746, auroc_train=1.000, auroc=0.885\n",
      "\n",
      "Subj/Visit 3, prec=0.901, rec=0.694, Spec=0.904, auroc_train=1.000, auroc=0.882\n",
      "\n",
      "Subj/Visit 4, prec=0.822, rec=0.811, Spec=0.793, auroc_train=1.000, auroc=0.889\n",
      "\n",
      "Subj/Visit 5, prec=0.780, rec=0.748, Spec=0.744, auroc_train=1.000, auroc=0.805\n",
      "\n",
      "Subj/Visit 6, prec=0.472, rec=0.482, Spec=0.469, auroc_train=1.000, auroc=0.467\n",
      "f1_test=0.752+/-0.115, prec=0.773+/-0.128, rec=0.735+/-0.115, auprc=0.829+/-0.134, auroc=0.801+/-0.140\n",
      "Subject 1051\n",
      "Training Random Forest\n",
      "\n",
      "Subj/Visit 0, prec=0.875, rec=0.091, Spec=0.994, auroc_train=1.000, auroc=0.804\n",
      "\n",
      "Subj/Visit 1, prec=0.750, rec=0.353, Spec=0.990, auroc_train=1.000, auroc=0.854\n",
      "\n",
      "Subj/Visit 2, prec=0.600, rec=1.000, Spec=0.980, auroc_train=1.000, auroc=0.999\n",
      "\n",
      "Subj/Visit 3, prec=1.000, rec=0.149, Spec=1.000, auroc_train=1.000, auroc=0.800\n",
      "\n",
      "Subj/Visit 4, prec=0.278, rec=1.000, Spec=0.942, auroc_train=1.000, auroc=1.000\n",
      "\n",
      "Subj/Visit 5, prec=0.700, rec=0.412, Spec=0.985, auroc_train=1.000, auroc=0.957\n",
      "\n",
      "Subj/Visit 6, prec=0.769, rec=0.175, Spec=0.983, auroc_train=1.000, auroc=0.767\n",
      "f1_test=0.413+/-0.182, prec=0.710+/-0.212, rec=0.454+/-0.361, auprc=0.729+/-0.174, auroc=0.883+/-0.093\n",
      "Subject 1052\n",
      "Training Random Forest\n",
      "\n",
      "Subj/Visit 0, prec=0.995, rec=0.903, Spec=0.979, auroc_train=1.000, auroc=0.979\n",
      "\n",
      "Subj/Visit 1, prec=0.810, rec=0.991, Spec=0.815, auroc_train=1.000, auroc=0.960\n",
      "\n",
      "Subj/Visit 2, prec=0.721, rec=0.949, Spec=0.753, auroc_train=1.000, auroc=0.947\n",
      "\n",
      "Subj/Visit 3, prec=0.906, rec=0.951, Spec=0.731, auroc_train=1.000, auroc=0.905\n",
      "\n",
      "Subj/Visit 4, prec=0.619, rec=0.660, Spec=0.688, auroc_train=1.000, auroc=0.724\n",
      "\n",
      "Subj/Visit 5, prec=0.911, rec=0.864, Spec=0.925, auroc_train=1.000, auroc=0.951\n",
      "f1_test=0.852+/-0.103, prec=0.827+/-0.127, rec=0.887+/-0.109, auprc=0.890+/-0.116, auroc=0.911+/-0.086\n",
      "Subject 1053\n",
      "Training Random Forest\n",
      "\n",
      "Subj/Visit 0, prec=0.304, rec=0.069, Spec=0.884, auroc_train=1.000, auroc=0.723\n",
      "\n",
      "Subj/Visit 1, prec=0.367, rec=0.917, Spec=0.902, auroc_train=1.000, auroc=0.963\n",
      "\n",
      "Subj/Visit 2, prec=0.500, rec=0.917, Spec=0.942, auroc_train=1.000, auroc=0.981\n",
      "\n",
      "Subj/Visit 3, prec=0.941, rec=0.330, Spec=0.986, auroc_train=1.000, auroc=0.844\n",
      "\n",
      "Subj/Visit 4, prec=0.448, rec=1.000, Spec=0.920, auroc_train=1.000, auroc=0.966\n",
      "\n",
      "Subj/Visit 5, prec=0.750, rec=0.462, Spec=0.966, auroc_train=1.000, auroc=0.861\n",
      "f1_test=0.494+/-0.179, prec=0.552+/-0.224, rec=0.616+/-0.350, auprc=0.655+/-0.108, auroc=0.889+/-0.092\n",
      "Subject 1054\n",
      "Training Random Forest\n",
      "\n",
      "Subj/Visit 0, prec=1.000, rec=0.780, Spec=1.000, auroc_train=1.000, auroc=0.978\n",
      "\n",
      "Subj/Visit 1, prec=0.457, rec=0.960, Spec=0.703, auroc_train=1.000, auroc=0.938\n",
      "\n",
      "Subj/Visit 2, prec=0.544, rec=0.725, Spec=0.789, auroc_train=1.000, auroc=0.819\n",
      "\n",
      "Subj/Visit 3, prec=0.944, rec=0.510, Spec=0.619, auroc_train=1.000, auroc=0.509\n",
      "\n",
      "Subj/Visit 4, prec=0.598, rec=0.667, Spec=0.787, auroc_train=1.000, auroc=0.731\n",
      "\n",
      "Subj/Visit 5, prec=0.532, rec=1.000, Spec=0.801, auroc_train=1.000, auroc=0.985\n",
      "f1_test=0.684+/-0.090, prec=0.679+/-0.212, rec=0.774+/-0.168, auprc=0.838+/-0.120, auroc=0.827+/-0.168\n",
      "Subject 1055\n",
      "Training Random Forest\n",
      "\n",
      "Subj/Visit 0, prec=1.000, rec=0.644, Spec=1.000, auroc_train=1.000, auroc=0.887\n",
      "\n",
      "Subj/Visit 1, prec=0.294, rec=1.000, Spec=0.403, auroc_train=1.000, auroc=0.879\n",
      "\n",
      "Subj/Visit 2, prec=0.391, rec=0.804, Spec=0.588, auroc_train=1.000, auroc=0.753\n",
      "\n",
      "Subj/Visit 3, prec=0.829, rec=0.622, Spec=0.661, auroc_train=1.000, auroc=0.672\n",
      "\n",
      "Subj/Visit 4, prec=0.989, rec=0.521, Spec=0.984, auroc_train=1.000, auroc=0.949\n",
      "\n",
      "Subj/Visit 5, prec=0.488, rec=0.924, Spec=0.584, auroc_train=1.000, auroc=0.776\n",
      "f1_test=0.633+/-0.111, prec=0.665+/-0.285, rec=0.752+/-0.171, auprc=0.736+/-0.200, auroc=0.819+/-0.094\n",
      "Subject 1056\n",
      "Training Random Forest\n",
      "\n",
      "Subj/Visit 0, prec=0.841, rec=1.000, Spec=0.137, auroc_train=1.000, auroc=0.872\n",
      "\n",
      "Subj/Visit 1, prec=0.907, rec=0.996, Spec=0.452, auroc_train=1.000, auroc=0.939\n",
      "\n",
      "Subj/Visit 2, prec=0.904, rec=0.975, Spec=0.359, auroc_train=1.000, auroc=0.916\n",
      "\n",
      "Subj/Visit 3, prec=0.966, rec=1.000, Spec=0.625, auroc_train=1.000, auroc=0.989\n",
      "only 1 class in test data - cannot compute roc curve\n",
      "\n",
      "Subj/Visit 4, prec=1.000, rec=0.993, Spec=nan, auroc_train=1.000, auroc=nan\n"
     ]
    },
    {
     "name": "stderr",
     "output_type": "stream",
     "text": [
      "/Users/luca/anaconda/envs/py35_pd20/lib/python3.5/site-packages/ipykernel/__main__.py:48: RuntimeWarning: invalid value encountered in long_scalars\n"
     ]
    },
    {
     "name": "stdout",
     "output_type": "stream",
     "text": [
      "\n",
      "Subj/Visit 5, prec=0.993, rec=1.000, Spec=0.846, auroc_train=1.000, auroc=0.962\n",
      "f1_test=0.963+/-0.031, prec=0.935+/-0.057, rec=0.994+/-0.009, auprc=0.989+/-0.012, auroc=0.935+/-0.040\n"
     ]
    }
   ],
   "source": [
    "symptom = 'Bradykinesia'\n",
    "le = LabelEncoder()\n",
    "res_all = pd.DataFrame(data=None,index=None)\n",
    "#train on all sessions, predict on left out session for each patient\n",
    "res_visit_all = [] #data from each subject \n",
    "\n",
    "#remove nan rows for current symptom\n",
    "Data = Dataorig.copy() #original unmodified dataframe\n",
    "Data=Data[~Data[symptom].isnull()]\n",
    "Data=Data.reset_index(drop=True) #reset index\n",
    "\n",
    "for s in Data.Subject.unique():\n",
    "    print('Subject %s'%s)\n",
    "    ds = Data.loc[Data.Subject==s]\n",
    "    indp = (ds[symptom]>0).values\n",
    "    y = indp.astype(int) #target \n",
    "    X = ds.iloc[:,7:]\n",
    "    X_std = StandardScaler().fit_transform(X) #standardize input data\n",
    "    models = [RandomForestClassifier(n_estimators=50,random_state=2)]#,XGBClassifier()]\n",
    "    model_name = ['Random Forest']#,'XGB']\n",
    "    models = list(zip(models,model_name))\n",
    "    groups = le.fit_transform(ds.Visit)\n",
    "    if len(np.unique(groups))<2:\n",
    "        continue\n",
    "    res,res_group = LOSOCV(ds,X_std,y,groups,models)\n",
    "    res.index = res.index+s\n",
    "    res_all=pd.concat((res_all,res))\n",
    "    res_visit_all.append(res_group)\n"
   ]
  },
  {
   "cell_type": "code",
   "execution_count": 51,
   "metadata": {
    "collapsed": false
   },
   "outputs": [
    {
     "data": {
      "text/plain": [
       "(32368, 63)"
      ]
     },
     "execution_count": 51,
     "metadata": {},
     "output_type": "execute_result"
    }
   ],
   "source": [
    "Data.shape"
   ]
  },
  {
   "cell_type": "code",
   "execution_count": 46,
   "metadata": {
    "collapsed": false
   },
   "outputs": [],
   "source": [
    "#compute mean and std auc\n",
    "subjs=Data.Subject.unique()\n",
    "auc_mean = []; auc_std = []\n",
    "aucdf = pd.DataFrame()\n",
    "for i in range(len(res_visit_all)):\n",
    "\n",
    "    if len(res_visit_all[i]['Random Forest']['auroc']) < 7:\n",
    "        res_visit_all[i]['Random Forest']['auroc'].append(np.nan)\n",
    "    aucdf[subjs[i]] = res_visit_all[i]['Random Forest']['auroc']   \n",
    "    auc = res_visit_all[i]['Random Forest']['auroc']\n",
    "    auc_mean.append(np.nanmean(auc)) #mean across visits\n",
    "    auc_std.append(np.nanstd(auc))"
   ]
  },
  {
   "cell_type": "code",
   "execution_count": 48,
   "metadata": {
    "collapsed": false
   },
   "outputs": [
    {
     "data": {
      "text/plain": [
       "(0.45, 1)"
      ]
     },
     "execution_count": 48,
     "metadata": {},
     "output_type": "execute_result"
    },
    {
     "data": {
      "image/png": "[encoded data removed]",
      "text/plain": [
       "<matplotlib.figure.Figure at 0x1035f22e8>"
      ]
     },
     "metadata": {},
     "output_type": "display_data"
    }
   ],
   "source": [
    "sns.barplot(data=aucdf)\n",
    "ax=plt.xticks(rotation=90)\n",
    "plt.title('LOVO - Mean AUROC = %.3f +/- %.3f'%(np.nanmean(res_all.auroc),np.nanstd(res_all.auroc)))\n",
    "plt.ylim([0.45,1])"
   ]
  },
  {
   "cell_type": "markdown",
   "metadata": {},
   "source": [
    "Is variability due to variability in symptoms between visits?"
   ]
  },
  {
   "cell_type": "markdown",
   "metadata": {},
   "source": [
    "### Tremor"
   ]
  },
  {
   "cell_type": "code",
   "execution_count": 31,
   "metadata": {
    "collapsed": false
   },
   "outputs": [
    {
     "name": "stdout",
     "output_type": "stream",
     "text": [
      "Subject 1004\n",
      "Training Random Forest\n",
      "\n",
      "Subj/Visit 0, prec=1.000, rec=0.013, Spec=1.000, auroc_train=1.000, auroc=0.704\n"
     ]
    },
    {
     "name": "stderr",
     "output_type": "stream",
     "text": [
      "/Users/luca/anaconda/envs/py35_pd20/lib/python3.5/site-packages/sklearn/metrics/ranking.py:420: RuntimeWarning: invalid value encountered in true_divide\n",
      "  recall = tps / tps[-1]\n"
     ]
    },
    {
     "name": "stdout",
     "output_type": "stream",
     "text": [
      "only 1 class in test data - cannot compute roc curve\n",
      "\n",
      "Subj/Visit 1, prec=0.000, rec=0.000, Spec=1.000, auroc_train=1.000, auroc=nan\n"
     ]
    },
    {
     "name": "stderr",
     "output_type": "stream",
     "text": [
      "/Users/luca/anaconda/envs/py35_pd20/lib/python3.5/site-packages/sklearn/metrics/ranking.py:420: RuntimeWarning: invalid value encountered in true_divide\n",
      "  recall = tps / tps[-1]\n"
     ]
    },
    {
     "name": "stdout",
     "output_type": "stream",
     "text": [
      "only 1 class in test data - cannot compute roc curve\n",
      "\n",
      "Subj/Visit 2, prec=0.000, rec=0.000, Spec=1.000, auroc_train=1.000, auroc=nan\n",
      "\n",
      "Subj/Visit 3, prec=1.000, rec=1.000, Spec=1.000, auroc_train=1.000, auroc=1.000\n"
     ]
    },
    {
     "name": "stderr",
     "output_type": "stream",
     "text": [
      "/Users/luca/anaconda/envs/py35_pd20/lib/python3.5/site-packages/sklearn/metrics/ranking.py:420: RuntimeWarning: invalid value encountered in true_divide\n",
      "  recall = tps / tps[-1]\n"
     ]
    },
    {
     "name": "stdout",
     "output_type": "stream",
     "text": [
      "only 1 class in test data - cannot compute roc curve\n",
      "\n",
      "Subj/Visit 4, prec=0.000, rec=0.000, Spec=1.000, auroc_train=1.000, auroc=nan\n"
     ]
    },
    {
     "name": "stderr",
     "output_type": "stream",
     "text": [
      "/Users/luca/anaconda/envs/py35_pd20/lib/python3.5/site-packages/sklearn/metrics/ranking.py:420: RuntimeWarning: invalid value encountered in true_divide\n",
      "  recall = tps / tps[-1]\n"
     ]
    },
    {
     "name": "stdout",
     "output_type": "stream",
     "text": [
      "only 1 class in test data - cannot compute roc curve\n",
      "\n",
      "Subj/Visit 5, prec=0.000, rec=0.000, Spec=1.000, auroc_train=1.000, auroc=nan\n",
      "\n",
      "Subj/Visit 6, prec=0.714, rec=0.294, Spec=0.992, auroc_train=1.000, auroc=0.778\n",
      "f1_test=0.206+/-0.354, prec=0.388+/-0.456, rec=0.187+/-0.347, auprc=0.725+/-0.243, auroc=0.827+/-0.126\n",
      "Subject 1016\n",
      "Training Random Forest\n",
      "\n",
      "Subj/Visit 0, prec=0.829, rec=0.784, Spec=0.851, auroc_train=1.000, auroc=0.908\n",
      "\n",
      "Subj/Visit 1, prec=0.892, rec=0.866, Spec=0.876, auroc_train=1.000, auroc=0.940\n",
      "\n",
      "Subj/Visit 2, prec=0.930, rec=0.816, Spec=0.929, auroc_train=1.000, auroc=0.962\n",
      "\n",
      "Subj/Visit 3, prec=0.914, rec=0.886, Spec=0.912, auroc_train=1.000, auroc=0.963\n",
      "\n",
      "Subj/Visit 4, prec=0.942, rec=0.902, Spec=0.933, auroc_train=1.000, auroc=0.972\n",
      "\n",
      "Subj/Visit 5, prec=0.935, rec=0.832, Spec=0.921, auroc_train=1.000, auroc=0.951\n"
     ]
    },
    {
     "name": "stderr",
     "output_type": "stream",
     "text": [
      "/Users/luca/anaconda/envs/py35_pd20/lib/python3.5/site-packages/sklearn/metrics/classification.py:1137: UndefinedMetricWarning: F-score is ill-defined and being set to 0.0 due to no true samples.\n",
      "  'recall', 'true', average, warn_for)\n",
      "/Users/luca/anaconda/envs/py35_pd20/lib/python3.5/site-packages/sklearn/metrics/ranking.py:420: RuntimeWarning: invalid value encountered in true_divide\n",
      "  recall = tps / tps[-1]\n",
      "/Users/luca/anaconda/envs/py35_pd20/lib/python3.5/site-packages/sklearn/metrics/classification.py:1137: UndefinedMetricWarning: Recall is ill-defined and being set to 0.0 due to no true samples.\n",
      "  'recall', 'true', average, warn_for)\n"
     ]
    },
    {
     "name": "stdout",
     "output_type": "stream",
     "text": [
      "only 1 class in test data - cannot compute roc curve\n",
      "\n",
      "Subj/Visit 6, prec=0.000, rec=0.000, Spec=0.460, auroc_train=1.000, auroc=nan\n",
      "f1_test=0.751+/-0.308, prec=0.777+/-0.319, rec=0.727+/-0.299, auprc=0.946+/-0.032, auroc=0.949+/-0.021\n",
      "Subject 1018\n",
      "Training Random Forest\n",
      "\n",
      "Subj/Visit 0, prec=1.000, rec=0.127, Spec=1.000, auroc_train=1.000, auroc=0.753\n",
      "\n",
      "Subj/Visit 1, prec=1.000, rec=1.000, Spec=1.000, auroc_train=1.000, auroc=1.000\n",
      "\n",
      "Subj/Visit 2, prec=1.000, rec=0.909, Spec=1.000, auroc_train=1.000, auroc=0.998\n",
      "\n",
      "Subj/Visit 3, prec=1.000, rec=0.324, Spec=1.000, auroc_train=1.000, auroc=0.850\n",
      "\n",
      "Subj/Visit 4, prec=1.000, rec=0.279, Spec=1.000, auroc_train=1.000, auroc=0.800\n",
      "\n",
      "Subj/Visit 5, prec=1.000, rec=0.750, Spec=1.000, auroc_train=1.000, auroc=1.000\n",
      "\n",
      "Subj/Visit 6, prec=0.867, rec=1.000, Spec=0.993, auroc_train=1.000, auroc=0.999\n",
      "f1_test=0.699+/-0.285, prec=0.981+/-0.047, rec=0.627+/-0.346, auprc=0.803+/-0.212, auroc=0.914+/-0.101\n",
      "Subject 1019\n",
      "Training Random Forest\n"
     ]
    },
    {
     "name": "stderr",
     "output_type": "stream",
     "text": [
      "/Users/luca/anaconda/envs/py35_pd20/lib/python3.5/site-packages/sklearn/metrics/classification.py:1135: UndefinedMetricWarning: F-score is ill-defined and being set to 0.0 due to no predicted samples.\n",
      "  'precision', 'predicted', average, warn_for)\n",
      "/Users/luca/anaconda/envs/py35_pd20/lib/python3.5/site-packages/sklearn/metrics/classification.py:1135: UndefinedMetricWarning: Precision is ill-defined and being set to 0.0 due to no predicted samples.\n",
      "  'precision', 'predicted', average, warn_for)\n"
     ]
    },
    {
     "name": "stdout",
     "output_type": "stream",
     "text": [
      "\n",
      "Subj/Visit 0, prec=0.000, rec=0.000, Spec=1.000, auroc_train=1.000, auroc=0.526\n",
      "\n",
      "Subj/Visit 1, prec=1.000, rec=1.000, Spec=1.000, auroc_train=1.000, auroc=1.000\n",
      "\n",
      "Subj/Visit 2, prec=1.000, rec=0.500, Spec=1.000, auroc_train=1.000, auroc=1.000\n",
      "\n",
      "Subj/Visit 3, prec=0.000, rec=0.000, Spec=0.983, auroc_train=1.000, auroc=0.821\n",
      "\n",
      "Subj/Visit 4, prec=1.000, rec=0.667, Spec=1.000, auroc_train=1.000, auroc=0.999\n",
      "\n",
      "Subj/Visit 5, prec=1.000, rec=0.667, Spec=1.000, auroc_train=1.000, auroc=1.000\n"
     ]
    },
    {
     "name": "stderr",
     "output_type": "stream",
     "text": [
      "/Users/luca/anaconda/envs/py35_pd20/lib/python3.5/site-packages/sklearn/metrics/classification.py:1135: UndefinedMetricWarning: F-score is ill-defined and being set to 0.0 due to no predicted samples.\n",
      "  'precision', 'predicted', average, warn_for)\n",
      "/Users/luca/anaconda/envs/py35_pd20/lib/python3.5/site-packages/sklearn/metrics/classification.py:1135: UndefinedMetricWarning: Precision is ill-defined and being set to 0.0 due to no predicted samples.\n",
      "  'precision', 'predicted', average, warn_for)\n"
     ]
    },
    {
     "name": "stdout",
     "output_type": "stream",
     "text": [
      "\n",
      "Subj/Visit 6, prec=0.000, rec=0.000, Spec=1.000, auroc_train=1.000, auroc=0.714\n",
      "f1_test=0.467+/-0.414, prec=0.571+/-0.495, rec=0.405+/-0.376, auprc=0.679+/-0.366, auroc=0.866+/-0.174\n",
      "Subject 1024\n",
      "Training Random Forest\n",
      "\n",
      "Subj/Visit 0, prec=1.000, rec=0.083, Spec=1.000, auroc_train=1.000, auroc=0.831\n",
      "\n",
      "Subj/Visit 1, prec=0.345, rec=0.312, Spec=0.925, auroc_train=1.000, auroc=0.833\n",
      "\n",
      "Subj/Visit 2, prec=0.116, rec=0.833, Spec=0.860, auroc_train=1.000, auroc=0.914\n",
      "\n",
      "Subj/Visit 3, prec=0.875, rec=0.126, Spec=0.979, auroc_train=1.000, auroc=0.713\n",
      "\n",
      "Subj/Visit 4, prec=0.650, rec=0.394, Spec=0.971, auroc_train=1.000, auroc=0.915\n",
      "\n",
      "Subj/Visit 5, prec=0.074, rec=0.333, Spec=0.912, auroc_train=1.000, auroc=0.833\n",
      "\n",
      "Subj/Visit 6, prec=0.644, rec=0.558, Spec=0.936, auroc_train=1.000, auroc=0.855\n",
      "f1_test=0.302+/-0.167, prec=0.529+/-0.334, rec=0.377+/-0.238, auprc=0.485+/-0.293, auroc=0.842+/-0.063\n",
      "Subject 1029\n",
      "Training Random Forest\n",
      "\n",
      "Subj/Visit 0, prec=1.000, rec=0.339, Spec=1.000, auroc_train=1.000, auroc=0.887\n",
      "\n",
      "Subj/Visit 1, prec=0.311, rec=0.932, Spec=0.657, auroc_train=1.000, auroc=0.844\n",
      "\n",
      "Subj/Visit 2, prec=0.213, rec=0.787, Spec=0.549, auroc_train=1.000, auroc=0.716\n",
      "\n",
      "Subj/Visit 3, prec=0.925, rec=0.489, Spec=0.952, auroc_train=1.000, auroc=0.857\n",
      "\n",
      "Subj/Visit 4, prec=0.786, rec=0.700, Spec=0.901, auroc_train=1.000, auroc=0.917\n",
      "\n",
      "Subj/Visit 5, prec=0.508, rec=0.833, Spec=0.740, auroc_train=1.000, auroc=0.869\n",
      "\n",
      "Subj/Visit 6, prec=0.869, rec=0.467, Spec=0.903, auroc_train=1.000, auroc=0.825\n",
      "f1_test=0.561+/-0.125, prec=0.659+/-0.290, rec=0.650+/-0.204, auprc=0.695+/-0.247, auroc=0.845+/-0.059\n",
      "Subject 1030\n",
      "Training Random Forest\n",
      "\n",
      "Subj/Visit 0, prec=1.000, rec=0.923, Spec=1.000, auroc_train=1.000, auroc=0.998\n",
      "\n",
      "Subj/Visit 1, prec=1.000, rec=0.632, Spec=1.000, auroc_train=1.000, auroc=1.000\n",
      "\n",
      "Subj/Visit 2, prec=1.000, rec=0.950, Spec=1.000, auroc_train=1.000, auroc=1.000\n",
      "\n",
      "Subj/Visit 3, prec=1.000, rec=0.444, Spec=1.000, auroc_train=1.000, auroc=0.787\n",
      "\n",
      "Subj/Visit 4, prec=0.750, rec=1.000, Spec=0.985, auroc_train=1.000, auroc=0.996\n",
      "\n",
      "Subj/Visit 5, prec=1.000, rec=0.889, Spec=1.000, auroc_train=1.000, auroc=1.000\n",
      "\n",
      "Subj/Visit 6, prec=0.571, rec=0.571, Spec=0.978, auroc_train=1.000, auroc=0.986\n",
      "f1_test=0.813+/-0.154, prec=0.903+/-0.161, rec=0.773+/-0.203, auprc=0.907+/-0.116, auroc=0.967+/-0.074\n",
      "Subject 1032\n",
      "Training Random Forest\n",
      "\n",
      "Subj/Visit 0, prec=0.000, rec=0.000, Spec=0.989, auroc_train=1.000, auroc=0.894\n",
      "\n",
      "Subj/Visit 1, prec=1.000, rec=0.360, Spec=1.000, auroc_train=1.000, auroc=0.967\n",
      "\n",
      "Subj/Visit 2, prec=1.000, rec=1.000, Spec=1.000, auroc_train=1.000, auroc=1.000\n",
      "\n",
      "Subj/Visit 3, prec=0.750, rec=0.300, Spec=0.994, auroc_train=1.000, auroc=0.598\n",
      "\n",
      "Subj/Visit 4, prec=0.545, rec=1.000, Spec=0.986, auroc_train=1.000, auroc=1.000\n",
      "\n",
      "Subj/Visit 5, prec=1.000, rec=0.833, Spec=1.000, auroc_train=1.000, auroc=0.998\n",
      "\n",
      "Subj/Visit 6, prec=0.000, rec=0.000, Spec=0.983, auroc_train=1.000, auroc=0.965\n",
      "f1_test=0.510+/-0.371, prec=0.614+/-0.418, rec=0.499+/-0.409, auprc=0.659+/-0.341, auroc=0.917+/-0.135\n",
      "Subject 1038\n",
      "Training Random Forest\n",
      "\n",
      "Subj/Visit 0, prec=0.887, rec=0.797, Spec=0.769, auroc_train=1.000, auroc=0.904\n",
      "\n",
      "Subj/Visit 1, prec=0.599, rec=0.932, Spec=0.558, auroc_train=1.000, auroc=0.880\n",
      "\n",
      "Subj/Visit 2, prec=0.665, rec=0.912, Spec=0.611, auroc_train=1.000, auroc=0.863\n",
      "\n",
      "Subj/Visit 3, prec=0.875, rec=0.828, Spec=0.825, auroc_train=1.000, auroc=0.852\n",
      "\n",
      "Subj/Visit 4, prec=0.875, rec=0.890, Spec=0.838, auroc_train=1.000, auroc=0.936\n",
      "\n",
      "Subj/Visit 5, prec=0.826, rec=0.714, Spec=0.789, auroc_train=1.000, auroc=0.811\n",
      "\n",
      "Subj/Visit 6, prec=0.847, rec=0.890, Spec=0.777, auroc_train=1.000, auroc=0.891\n",
      "f1_test=0.815+/-0.055, prec=0.796+/-0.107, rec=0.852+/-0.071, auprc=0.880+/-0.048, auroc=0.877+/-0.037\n",
      "Subject 1044\n",
      "Training Random Forest\n",
      "\n",
      "Subj/Visit 0, prec=1.000, rec=0.917, Spec=1.000, auroc_train=1.000, auroc=1.000\n",
      "\n",
      "Subj/Visit 1, prec=1.000, rec=1.000, Spec=1.000, auroc_train=1.000, auroc=1.000\n",
      "\n",
      "Subj/Visit 2, prec=1.000, rec=1.000, Spec=1.000, auroc_train=1.000, auroc=1.000\n",
      "\n",
      "Subj/Visit 3, prec=1.000, rec=0.500, Spec=1.000, auroc_train=1.000, auroc=0.985\n",
      "\n",
      "Subj/Visit 4, prec=1.000, rec=0.909, Spec=1.000, auroc_train=1.000, auroc=1.000\n",
      "\n",
      "Subj/Visit 5, prec=1.000, rec=0.909, Spec=1.000, auroc_train=1.000, auroc=1.000\n",
      "\n",
      "Subj/Visit 6, prec=0.286, rec=0.667, Spec=0.967, auroc_train=1.000, auroc=0.972\n",
      "f1_test=0.847+/-0.212, prec=0.898+/-0.250, rec=0.843+/-0.174, auprc=0.865+/-0.262, auroc=0.994+/-0.010\n",
      "Subject 1046\n",
      "Training Random Forest\n",
      "\n",
      "Subj/Visit 0, prec=0.974, rec=0.864, Spec=0.996, auroc_train=1.000, auroc=0.963\n",
      "\n",
      "Subj/Visit 1, prec=1.000, rec=0.946, Spec=1.000, auroc_train=1.000, auroc=0.996\n",
      "\n",
      "Subj/Visit 2, prec=0.755, rec=0.974, Spec=0.944, auroc_train=1.000, auroc=0.962\n",
      "\n",
      "Subj/Visit 3, prec=1.000, rec=0.962, Spec=1.000, auroc_train=1.000, auroc=1.000\n",
      "\n",
      "Subj/Visit 4, prec=1.000, rec=0.919, Spec=1.000, auroc_train=1.000, auroc=1.000\n",
      "\n",
      "Subj/Visit 5, prec=1.000, rec=0.769, Spec=1.000, auroc_train=1.000, auroc=0.992\n",
      "\n",
      "Subj/Visit 6, prec=1.000, rec=0.647, Spec=1.000, auroc_train=1.000, auroc=0.837\n",
      "f1_test=0.905+/-0.067, prec=0.961+/-0.085, rec=0.869+/-0.112, auprc=0.926+/-0.094, auroc=0.964+/-0.054\n",
      "Subject 1047\n",
      "Training Random Forest\n"
     ]
    },
    {
     "name": "stderr",
     "output_type": "stream",
     "text": [
      "/Users/luca/anaconda/envs/py35_pd20/lib/python3.5/site-packages/sklearn/metrics/classification.py:1135: UndefinedMetricWarning: F-score is ill-defined and being set to 0.0 due to no predicted samples.\n",
      "  'precision', 'predicted', average, warn_for)\n",
      "/Users/luca/anaconda/envs/py35_pd20/lib/python3.5/site-packages/sklearn/metrics/classification.py:1135: UndefinedMetricWarning: Precision is ill-defined and being set to 0.0 due to no predicted samples.\n",
      "  'precision', 'predicted', average, warn_for)\n"
     ]
    },
    {
     "name": "stdout",
     "output_type": "stream",
     "text": [
      "\n",
      "Subj/Visit 0, prec=0.000, rec=0.000, Spec=1.000, auroc_train=1.000, auroc=0.996\n",
      "only 1 class in test data - cannot compute roc curve\n",
      "\n",
      "Subj/Visit 1, prec=0.000, rec=0.000, Spec=1.000, auroc_train=1.000, auroc=nan\n"
     ]
    },
    {
     "name": "stderr",
     "output_type": "stream",
     "text": [
      "/Users/luca/anaconda/envs/py35_pd20/lib/python3.5/site-packages/sklearn/metrics/ranking.py:420: RuntimeWarning: invalid value encountered in true_divide\n",
      "  recall = tps / tps[-1]\n",
      "/Users/luca/anaconda/envs/py35_pd20/lib/python3.5/site-packages/sklearn/metrics/ranking.py:420: RuntimeWarning: invalid value encountered in true_divide\n",
      "  recall = tps / tps[-1]\n"
     ]
    },
    {
     "name": "stdout",
     "output_type": "stream",
     "text": [
      "only 1 class in test data - cannot compute roc curve\n",
      "\n",
      "Subj/Visit 2, prec=0.000, rec=0.000, Spec=1.000, auroc_train=1.000, auroc=nan\n"
     ]
    },
    {
     "name": "stderr",
     "output_type": "stream",
     "text": [
      "/Users/luca/anaconda/envs/py35_pd20/lib/python3.5/site-packages/sklearn/metrics/classification.py:1135: UndefinedMetricWarning: F-score is ill-defined and being set to 0.0 due to no predicted samples.\n",
      "  'precision', 'predicted', average, warn_for)\n",
      "/Users/luca/anaconda/envs/py35_pd20/lib/python3.5/site-packages/sklearn/metrics/classification.py:1135: UndefinedMetricWarning: Precision is ill-defined and being set to 0.0 due to no predicted samples.\n",
      "  'precision', 'predicted', average, warn_for)\n"
     ]
    },
    {
     "name": "stdout",
     "output_type": "stream",
     "text": [
      "\n",
      "Subj/Visit 3, prec=0.000, rec=0.000, Spec=1.000, auroc_train=1.000, auroc=0.993\n",
      "only 1 class in test data - cannot compute roc curve\n",
      "\n",
      "Subj/Visit 4, prec=0.000, rec=0.000, Spec=1.000, auroc_train=1.000, auroc=nan\n"
     ]
    },
    {
     "name": "stderr",
     "output_type": "stream",
     "text": [
      "/Users/luca/anaconda/envs/py35_pd20/lib/python3.5/site-packages/sklearn/metrics/ranking.py:420: RuntimeWarning: invalid value encountered in true_divide\n",
      "  recall = tps / tps[-1]\n",
      "/Users/luca/anaconda/envs/py35_pd20/lib/python3.5/site-packages/sklearn/metrics/ranking.py:420: RuntimeWarning: invalid value encountered in true_divide\n",
      "  recall = tps / tps[-1]\n"
     ]
    },
    {
     "name": "stdout",
     "output_type": "stream",
     "text": [
      "only 1 class in test data - cannot compute roc curve\n",
      "\n",
      "Subj/Visit 5, prec=0.000, rec=0.000, Spec=1.000, auroc_train=1.000, auroc=nan\n",
      "f1_test=0.000+/-0.000, prec=0.000+/-0.000, rec=0.000+/-0.000, auprc=0.904+/-0.005, auroc=0.994+/-0.001\n",
      "Subject 1049\n",
      "Training Random Forest\n",
      "\n",
      "Subj/Visit 0, prec=0.842, rec=0.700, Spec=0.810, auroc_train=1.000, auroc=0.839\n",
      "\n",
      "Subj/Visit 1, prec=0.827, rec=0.821, Spec=0.869, auroc_train=1.000, auroc=0.904\n",
      "\n",
      "Subj/Visit 2, prec=0.750, rec=0.771, Spec=0.816, auroc_train=1.000, auroc=0.891\n",
      "\n",
      "Subj/Visit 3, prec=0.820, rec=0.446, Spec=0.952, auroc_train=1.000, auroc=0.844\n",
      "\n",
      "Subj/Visit 4, prec=0.744, rec=0.874, Spec=0.871, auroc_train=1.000, auroc=0.927\n",
      "\n",
      "Subj/Visit 5, prec=0.773, rec=0.667, Spec=0.848, auroc_train=1.000, auroc=0.868\n",
      "\n",
      "Subj/Visit 6, prec=0.769, rec=0.609, Spec=0.824, auroc_train=1.000, auroc=0.794\n",
      "f1_test=0.732+/-0.078, prec=0.789+/-0.037, rec=0.698+/-0.133, auprc=0.825+/-0.059, auroc=0.867+/-0.042\n",
      "Subject 1051\n",
      "Training Random Forest\n",
      "only 1 class in test data - cannot compute roc curve\n",
      "\n",
      "Subj/Visit 0, prec=0.000, rec=0.000, Spec=0.996, auroc_train=1.000, auroc=nan\n"
     ]
    },
    {
     "name": "stderr",
     "output_type": "stream",
     "text": [
      "/Users/luca/anaconda/envs/py35_pd20/lib/python3.5/site-packages/sklearn/metrics/classification.py:1137: UndefinedMetricWarning: F-score is ill-defined and being set to 0.0 due to no true samples.\n",
      "  'recall', 'true', average, warn_for)\n",
      "/Users/luca/anaconda/envs/py35_pd20/lib/python3.5/site-packages/sklearn/metrics/ranking.py:420: RuntimeWarning: invalid value encountered in true_divide\n",
      "  recall = tps / tps[-1]\n",
      "/Users/luca/anaconda/envs/py35_pd20/lib/python3.5/site-packages/sklearn/metrics/classification.py:1137: UndefinedMetricWarning: Recall is ill-defined and being set to 0.0 due to no true samples.\n",
      "  'recall', 'true', average, warn_for)\n",
      "/Users/luca/anaconda/envs/py35_pd20/lib/python3.5/site-packages/sklearn/metrics/ranking.py:420: RuntimeWarning: invalid value encountered in true_divide\n",
      "  recall = tps / tps[-1]\n"
     ]
    },
    {
     "name": "stdout",
     "output_type": "stream",
     "text": [
      "only 1 class in test data - cannot compute roc curve\n",
      "\n",
      "Subj/Visit 1, prec=0.000, rec=0.000, Spec=1.000, auroc_train=1.000, auroc=nan\n",
      "only 1 class in test data - cannot compute roc curve\n",
      "\n",
      "Subj/Visit 2, prec=0.000, rec=0.000, Spec=1.000, auroc_train=1.000, auroc=nan\n"
     ]
    },
    {
     "name": "stderr",
     "output_type": "stream",
     "text": [
      "/Users/luca/anaconda/envs/py35_pd20/lib/python3.5/site-packages/sklearn/metrics/ranking.py:420: RuntimeWarning: invalid value encountered in true_divide\n",
      "  recall = tps / tps[-1]\n",
      "/Users/luca/anaconda/envs/py35_pd20/lib/python3.5/site-packages/sklearn/metrics/ranking.py:420: RuntimeWarning: invalid value encountered in true_divide\n",
      "  recall = tps / tps[-1]\n"
     ]
    },
    {
     "name": "stdout",
     "output_type": "stream",
     "text": [
      "only 1 class in test data - cannot compute roc curve\n",
      "\n",
      "Subj/Visit 3, prec=0.000, rec=0.000, Spec=1.000, auroc_train=1.000, auroc=nan\n"
     ]
    },
    {
     "name": "stderr",
     "output_type": "stream",
     "text": [
      "/Users/luca/anaconda/envs/py35_pd20/lib/python3.5/site-packages/sklearn/metrics/ranking.py:420: RuntimeWarning: invalid value encountered in true_divide\n",
      "  recall = tps / tps[-1]\n"
     ]
    },
    {
     "name": "stdout",
     "output_type": "stream",
     "text": [
      "only 1 class in test data - cannot compute roc curve\n",
      "\n",
      "Subj/Visit 4, prec=0.000, rec=0.000, Spec=1.000, auroc_train=1.000, auroc=nan\n"
     ]
    },
    {
     "name": "stderr",
     "output_type": "stream",
     "text": [
      "/Users/luca/anaconda/envs/py35_pd20/lib/python3.5/site-packages/sklearn/metrics/ranking.py:420: RuntimeWarning: invalid value encountered in true_divide\n",
      "  recall = tps / tps[-1]\n",
      "/Users/luca/anaconda/envs/py35_pd20/lib/python3.5/site-packages/ipykernel/__main__.py:92: RuntimeWarning: Mean of empty slice\n",
      "/Users/luca/anaconda/envs/py35_pd20/lib/python3.5/site-packages/numpy/lib/nanfunctions.py:1427: RuntimeWarning: Degrees of freedom <= 0 for slice.\n",
      "  keepdims=keepdims)\n",
      "/Users/luca/anaconda/envs/py35_pd20/lib/python3.5/site-packages/ipykernel/__main__.py:99: RuntimeWarning: Mean of empty slice\n"
     ]
    },
    {
     "name": "stdout",
     "output_type": "stream",
     "text": [
      "only 1 class in test data - cannot compute roc curve\n",
      "\n",
      "Subj/Visit 5, prec=0.000, rec=0.000, Spec=1.000, auroc_train=1.000, auroc=nan\n",
      "only 1 class available in train data - skipping\n",
      "f1_test=0.000+/-0.000, prec=0.000+/-0.000, rec=0.000+/-0.000, auprc=nan+/-nan, auroc=nan+/-nan\n",
      "Subject 1052\n",
      "Training Random Forest\n"
     ]
    },
    {
     "name": "stderr",
     "output_type": "stream",
     "text": [
      "/Users/luca/anaconda/envs/py35_pd20/lib/python3.5/site-packages/sklearn/metrics/classification.py:1135: UndefinedMetricWarning: F-score is ill-defined and being set to 0.0 due to no predicted samples.\n",
      "  'precision', 'predicted', average, warn_for)\n",
      "/Users/luca/anaconda/envs/py35_pd20/lib/python3.5/site-packages/sklearn/metrics/classification.py:1135: UndefinedMetricWarning: Precision is ill-defined and being set to 0.0 due to no predicted samples.\n",
      "  'precision', 'predicted', average, warn_for)\n"
     ]
    },
    {
     "name": "stdout",
     "output_type": "stream",
     "text": [
      "\n",
      "Subj/Visit 0, prec=0.000, rec=0.000, Spec=1.000, auroc_train=1.000, auroc=0.610\n"
     ]
    },
    {
     "name": "stderr",
     "output_type": "stream",
     "text": [
      "/Users/luca/anaconda/envs/py35_pd20/lib/python3.5/site-packages/sklearn/metrics/ranking.py:420: RuntimeWarning: invalid value encountered in true_divide\n",
      "  recall = tps / tps[-1]\n"
     ]
    },
    {
     "name": "stdout",
     "output_type": "stream",
     "text": [
      "only 1 class in test data - cannot compute roc curve\n",
      "\n",
      "Subj/Visit 1, prec=0.000, rec=0.000, Spec=1.000, auroc_train=1.000, auroc=nan\n"
     ]
    },
    {
     "name": "stderr",
     "output_type": "stream",
     "text": [
      "/Users/luca/anaconda/envs/py35_pd20/lib/python3.5/site-packages/sklearn/metrics/classification.py:1137: UndefinedMetricWarning: F-score is ill-defined and being set to 0.0 due to no true samples.\n",
      "  'recall', 'true', average, warn_for)\n",
      "/Users/luca/anaconda/envs/py35_pd20/lib/python3.5/site-packages/sklearn/metrics/ranking.py:420: RuntimeWarning: invalid value encountered in true_divide\n",
      "  recall = tps / tps[-1]\n",
      "/Users/luca/anaconda/envs/py35_pd20/lib/python3.5/site-packages/sklearn/metrics/classification.py:1137: UndefinedMetricWarning: Recall is ill-defined and being set to 0.0 due to no true samples.\n",
      "  'recall', 'true', average, warn_for)\n"
     ]
    },
    {
     "name": "stdout",
     "output_type": "stream",
     "text": [
      "only 1 class in test data - cannot compute roc curve\n",
      "\n",
      "Subj/Visit 2, prec=0.000, rec=0.000, Spec=0.992, auroc_train=1.000, auroc=nan\n",
      "\n",
      "Subj/Visit 3, prec=0.000, rec=0.000, Spec=0.992, auroc_train=1.000, auroc=0.770\n"
     ]
    },
    {
     "name": "stderr",
     "output_type": "stream",
     "text": [
      "/Users/luca/anaconda/envs/py35_pd20/lib/python3.5/site-packages/sklearn/metrics/ranking.py:420: RuntimeWarning: invalid value encountered in true_divide\n",
      "  recall = tps / tps[-1]\n"
     ]
    },
    {
     "name": "stdout",
     "output_type": "stream",
     "text": [
      "only 1 class in test data - cannot compute roc curve\n",
      "\n",
      "Subj/Visit 4, prec=0.000, rec=0.000, Spec=1.000, auroc_train=1.000, auroc=nan\n"
     ]
    },
    {
     "name": "stderr",
     "output_type": "stream",
     "text": [
      "/Users/luca/anaconda/envs/py35_pd20/lib/python3.5/site-packages/sklearn/metrics/ranking.py:420: RuntimeWarning: invalid value encountered in true_divide\n",
      "  recall = tps / tps[-1]\n",
      "/Users/luca/anaconda/envs/py35_pd20/lib/python3.5/site-packages/ipykernel/__main__.py:90: RuntimeWarning: Mean of empty slice\n",
      "/Users/luca/anaconda/envs/py35_pd20/lib/python3.5/site-packages/numpy/lib/nanfunctions.py:1427: RuntimeWarning: Degrees of freedom <= 0 for slice.\n",
      "  keepdims=keepdims)\n",
      "/Users/luca/anaconda/envs/py35_pd20/lib/python3.5/site-packages/ipykernel/__main__.py:91: RuntimeWarning: Mean of empty slice\n",
      "/Users/luca/anaconda/envs/py35_pd20/lib/python3.5/site-packages/ipykernel/__main__.py:92: RuntimeWarning: Mean of empty slice\n",
      "/Users/luca/anaconda/envs/py35_pd20/lib/python3.5/site-packages/ipykernel/__main__.py:99: RuntimeWarning: Mean of empty slice\n"
     ]
    },
    {
     "name": "stdout",
     "output_type": "stream",
     "text": [
      "only 1 class in test data - cannot compute roc curve\n",
      "\n",
      "Subj/Visit 5, prec=0.000, rec=0.000, Spec=1.000, auroc_train=1.000, auroc=nan\n",
      "f1_test=0.000+/-0.000, prec=0.000+/-0.000, rec=0.000+/-0.000, auprc=0.345+/-0.114, auroc=0.690+/-0.080\n",
      "Subject 1053\n",
      "Training Random Forest\n",
      "only 1 class available in train data - skipping\n",
      "only 1 class available in train data - skipping\n",
      "only 1 class available in train data - skipping\n",
      "only 1 class available in train data - skipping\n",
      "only 1 class available in train data - skipping\n",
      "only 1 class available in train data - skipping\n",
      "f1_test=nan+/-nan, prec=nan+/-nan, rec=nan+/-nan, auprc=nan+/-nan, auroc=nan+/-nan\n",
      "Subject 1054\n",
      "Training Random Forest\n",
      "only 1 class available in train data - skipping\n"
     ]
    },
    {
     "name": "stderr",
     "output_type": "stream",
     "text": [
      "/Users/luca/anaconda/envs/py35_pd20/lib/python3.5/site-packages/sklearn/metrics/ranking.py:420: RuntimeWarning: invalid value encountered in true_divide\n",
      "  recall = tps / tps[-1]\n"
     ]
    },
    {
     "name": "stdout",
     "output_type": "stream",
     "text": [
      "only 1 class in test data - cannot compute roc curve\n",
      "\n",
      "Subj/Visit 0, prec=0.000, rec=0.000, Spec=1.000, auroc_train=1.000, auroc=nan\n"
     ]
    },
    {
     "name": "stderr",
     "output_type": "stream",
     "text": [
      "/Users/luca/anaconda/envs/py35_pd20/lib/python3.5/site-packages/sklearn/metrics/ranking.py:420: RuntimeWarning: invalid value encountered in true_divide\n",
      "  recall = tps / tps[-1]\n",
      "/Users/luca/anaconda/envs/py35_pd20/lib/python3.5/site-packages/sklearn/metrics/ranking.py:420: RuntimeWarning: invalid value encountered in true_divide\n",
      "  recall = tps / tps[-1]\n"
     ]
    },
    {
     "name": "stdout",
     "output_type": "stream",
     "text": [
      "only 1 class in test data - cannot compute roc curve\n",
      "\n",
      "Subj/Visit 1, prec=0.000, rec=0.000, Spec=1.000, auroc_train=1.000, auroc=nan\n",
      "only 1 class in test data - cannot compute roc curve\n",
      "\n",
      "Subj/Visit 2, prec=0.000, rec=0.000, Spec=1.000, auroc_train=1.000, auroc=nan\n"
     ]
    },
    {
     "name": "stderr",
     "output_type": "stream",
     "text": [
      "/Users/luca/anaconda/envs/py35_pd20/lib/python3.5/site-packages/sklearn/metrics/ranking.py:420: RuntimeWarning: invalid value encountered in true_divide\n",
      "  recall = tps / tps[-1]\n",
      "/Users/luca/anaconda/envs/py35_pd20/lib/python3.5/site-packages/sklearn/metrics/ranking.py:420: RuntimeWarning: invalid value encountered in true_divide\n",
      "  recall = tps / tps[-1]\n",
      "/Users/luca/anaconda/envs/py35_pd20/lib/python3.5/site-packages/ipykernel/__main__.py:92: RuntimeWarning: Mean of empty slice\n",
      "/Users/luca/anaconda/envs/py35_pd20/lib/python3.5/site-packages/numpy/lib/nanfunctions.py:1427: RuntimeWarning: Degrees of freedom <= 0 for slice.\n",
      "  keepdims=keepdims)\n",
      "/Users/luca/anaconda/envs/py35_pd20/lib/python3.5/site-packages/ipykernel/__main__.py:99: RuntimeWarning: Mean of empty slice\n"
     ]
    },
    {
     "name": "stdout",
     "output_type": "stream",
     "text": [
      "only 1 class in test data - cannot compute roc curve\n",
      "\n",
      "Subj/Visit 3, prec=0.000, rec=0.000, Spec=1.000, auroc_train=1.000, auroc=nan\n",
      "only 1 class in test data - cannot compute roc curve\n",
      "\n",
      "Subj/Visit 4, prec=0.000, rec=0.000, Spec=1.000, auroc_train=1.000, auroc=nan\n",
      "f1_test=0.000+/-0.000, prec=0.000+/-0.000, rec=0.000+/-0.000, auprc=nan+/-nan, auroc=nan+/-nan\n",
      "Subject 1055\n",
      "Training Random Forest\n",
      "\n",
      "Subj/Visit 0, prec=0.955, rec=0.943, Spec=0.083, auroc_train=1.000, auroc=0.810\n",
      "\n",
      "Subj/Visit 1, prec=0.626, rec=0.945, Spec=0.148, auroc_train=1.000, auroc=0.610\n",
      "\n",
      "Subj/Visit 2, prec=0.688, rec=0.972, Spec=0.170, auroc_train=1.000, auroc=0.691\n",
      "\n",
      "Subj/Visit 3, prec=0.937, rec=0.937, Spec=0.444, auroc_train=1.000, auroc=0.888\n",
      "\n",
      "Subj/Visit 4, prec=0.826, rec=0.986, Spec=0.167, auroc_train=1.000, auroc=0.741\n",
      "\n",
      "Subj/Visit 5, prec=0.991, rec=0.906, Spec=0.000, auroc_train=1.000, auroc=0.474\n",
      "f1_test=0.882+/-0.076, prec=0.837+/-0.138, rec=0.948+/-0.026, auprc=0.895+/-0.114, auroc=0.702+/-0.134\n",
      "Subject 1056\n",
      "Training Random Forest\n",
      "\n",
      "Subj/Visit 0, prec=0.952, rec=0.843, Spec=0.519, auroc_train=1.000, auroc=0.719\n",
      "\n",
      "Subj/Visit 1, prec=0.391, rec=0.991, Spec=0.077, auroc_train=1.000, auroc=0.674\n",
      "\n",
      "Subj/Visit 2, prec=0.329, rec=0.970, Spec=0.103, auroc_train=1.000, auroc=0.594\n",
      "\n",
      "Subj/Visit 3, prec=0.976, rec=0.914, Spec=0.462, auroc_train=1.000, auroc=0.842\n",
      "only 1 class in test data - cannot compute roc curve\n",
      "\n",
      "Subj/Visit 4, prec=1.000, rec=0.982, Spec=nan, auroc_train=1.000, auroc=nan\n"
     ]
    },
    {
     "name": "stderr",
     "output_type": "stream",
     "text": [
      "/Users/luca/anaconda/envs/py35_pd20/lib/python3.5/site-packages/ipykernel/__main__.py:48: RuntimeWarning: invalid value encountered in long_scalars\n"
     ]
    },
    {
     "name": "stdout",
     "output_type": "stream",
     "text": [
      "\n",
      "Subj/Visit 5, prec=0.886, rec=0.981, Spec=0.000, auroc_train=1.000, auroc=0.665\n",
      "f1_test=0.802+/-0.198, prec=0.756+/-0.282, rec=0.947+/-0.053, auprc=0.804+/-0.247, auroc=0.699+/-0.082\n"
     ]
    }
   ],
   "source": [
    "symptom = 'Tremor'\n",
    "le = LabelEncoder()\n",
    "res_all = pd.DataFrame(data=None,index=None)\n",
    "#train on all sessions, predict on left out session for each patient\n",
    "res_visit_all = [] #data from each subject \n",
    "\n",
    "#remove nan rows for current symptom\n",
    "Data = Dataorig.copy() #original unmodified dataframe\n",
    "Data=Data[~Data[symptom].isnull()]\n",
    "Data=Data.reset_index(drop=True) #reset index\n",
    "\n",
    "for s in Data.Subject.unique():\n",
    "    print('Subject %s'%s)\n",
    "    ds = Data.loc[Data.Subject==s]\n",
    "    indp = (ds[symptom]>0).values\n",
    "    y = indp.astype(int) #target \n",
    "    X = ds.iloc[:,7:]\n",
    "    X_std = StandardScaler().fit_transform(X) #standardize input data\n",
    "    models = [RandomForestClassifier(n_estimators=50,random_state=2)]#,XGBClassifier()]\n",
    "    model_name = ['Random Forest']#,'XGB']\n",
    "    models = list(zip(models,model_name))\n",
    "    groups = le.fit_transform(ds.Visit)\n",
    "    if len(np.unique(groups))<2:\n",
    "        continue\n",
    "    res,res_group = LOSOCV(ds,X_std,y,groups,models)\n",
    "    res.index = res.index+s\n",
    "    res_all=pd.concat((res_all,res))\n",
    "    res_visit_all.append(res_group)\n"
   ]
  },
  {
   "cell_type": "code",
   "execution_count": 67,
   "metadata": {
    "collapsed": false
   },
   "outputs": [
    {
     "name": "stderr",
     "output_type": "stream",
     "text": [
      "/Users/luca/anaconda/envs/py35_pd20/lib/python3.5/site-packages/ipykernel/__main__.py:12: RuntimeWarning: Mean of empty slice\n",
      "/Users/luca/anaconda/envs/py35_pd20/lib/python3.5/site-packages/numpy/lib/nanfunctions.py:1427: RuntimeWarning: Degrees of freedom <= 0 for slice.\n",
      "  keepdims=keepdims)\n"
     ]
    }
   ],
   "source": [
    "#compute mean and std auc\n",
    "subjs=Data.Subject.unique()\n",
    "auc_mean = []; auc_std = []\n",
    "aucdf = pd.DataFrame()\n",
    "for i in range(len(res_visit_all)):\n",
    "\n",
    "    if len(res_visit_all[i]['Random Forest']['auroc']) < 7:\n",
    "        L = len(res_visit_all[i]['Random Forest']['auroc'])\n",
    "        res_visit_all[i]['Random Forest']['auroc'] += (list(np.nan*np.ones(7-L)))\n",
    "    aucdf[subjs[i]] = res_visit_all[i]['Random Forest']['auroc']   \n",
    "    auc = res_visit_all[i]['Random Forest']['auroc']\n",
    "    auc_mean.append(np.nanmean(auc)) #mean across visits\n",
    "    auc_std.append(np.nanstd(auc))"
   ]
  },
  {
   "cell_type": "code",
   "execution_count": 70,
   "metadata": {
    "collapsed": false
   },
   "outputs": [
    {
     "data": {
      "text/plain": [
       "(0.45, 1.0)"
      ]
     },
     "execution_count": 70,
     "metadata": {},
     "output_type": "execute_result"
    },
    {
     "data": {
      "image/png": "[encoded data removed]",
      "text/plain": [
       "<matplotlib.figure.Figure at 0x113467d68>"
      ]
     },
     "metadata": {},
     "output_type": "display_data"
    }
   ],
   "source": [
    "sns.barplot(data=aucdf)\n",
    "ax=plt.xticks(rotation=90)\n",
    "plt.title('LOVO - Mean AUROC = %.3f +/- %.3f'%(np.nanmean(res_all.auroc),np.nanstd(res_all.auroc)))\n",
    "plt.ylim([0.45,1.])"
   ]
  },
  {
   "cell_type": "markdown",
   "metadata": {},
   "source": [
    "## Personal models - Leave One visit out and LOin on Day 1 and Day 2"
   ]
  },
  {
   "cell_type": "code",
   "execution_count": 25,
   "metadata": {
    "collapsed": false
   },
   "outputs": [
    {
     "data": {
      "text/html": [
       "<div>\n",
       "<style>\n",
       "    .dataframe thead tr:only-child th {\n",
       "        text-align: right;\n",
       "    }\n",
       "\n",
       "    .dataframe thead th {\n",
       "        text-align: left;\n",
       "    }\n",
       "\n",
       "    .dataframe tbody tr th {\n",
       "        vertical-align: top;\n",
       "    }\n",
       "</style>\n",
       "<table border=\"1\" class=\"dataframe\">\n",
       "  <thead>\n",
       "    <tr style=\"text-align: right;\">\n",
       "      <th></th>\n",
       "      <th>Subject</th>\n",
       "      <th>Visit</th>\n",
       "      <th>Side</th>\n",
       "      <th>Task</th>\n",
       "      <th>Tremor</th>\n",
       "      <th>Bradykinesia</th>\n",
       "      <th>Dyskinesia</th>\n",
       "      <th>rangeXacc</th>\n",
       "      <th>rangeYacc</th>\n",
       "      <th>rangeZacc</th>\n",
       "      <th>...</th>\n",
       "      <th>PSD_stdgyr</th>\n",
       "      <th>PSD_skewgyr</th>\n",
       "      <th>PSD_kurgyr</th>\n",
       "      <th>jerk_meangyr</th>\n",
       "      <th>jerk_stdgyr</th>\n",
       "      <th>jerk_skewgyr</th>\n",
       "      <th>jerk_kurgyr</th>\n",
       "      <th>Sen_Xgyr</th>\n",
       "      <th>Sen_Ygyr</th>\n",
       "      <th>Sen_Zgyr</th>\n",
       "    </tr>\n",
       "  </thead>\n",
       "  <tbody>\n",
       "    <tr>\n",
       "      <th>0</th>\n",
       "      <td>1004</td>\n",
       "      <td>2 Weeks: Time 0</td>\n",
       "      <td>left</td>\n",
       "      <td>Motor #2: Walking</td>\n",
       "      <td>0.0</td>\n",
       "      <td>1.0</td>\n",
       "      <td>0.0</td>\n",
       "      <td>0.599504</td>\n",
       "      <td>0.744752</td>\n",
       "      <td>0.483158</td>\n",
       "      <td>...</td>\n",
       "      <td>333.369231</td>\n",
       "      <td>3.587466</td>\n",
       "      <td>15.204802</td>\n",
       "      <td>0.114246</td>\n",
       "      <td>10.726893</td>\n",
       "      <td>0.176444</td>\n",
       "      <td>-0.009173</td>\n",
       "      <td>0.416625</td>\n",
       "      <td>0.571324</td>\n",
       "      <td>0.438326</td>\n",
       "    </tr>\n",
       "    <tr>\n",
       "      <th>1</th>\n",
       "      <td>1004</td>\n",
       "      <td>2 Weeks: Time 0</td>\n",
       "      <td>left</td>\n",
       "      <td>Motor #2: Walking</td>\n",
       "      <td>0.0</td>\n",
       "      <td>1.0</td>\n",
       "      <td>0.0</td>\n",
       "      <td>0.535280</td>\n",
       "      <td>0.693556</td>\n",
       "      <td>0.445568</td>\n",
       "      <td>...</td>\n",
       "      <td>511.580241</td>\n",
       "      <td>4.261274</td>\n",
       "      <td>17.609498</td>\n",
       "      <td>-0.173831</td>\n",
       "      <td>10.278264</td>\n",
       "      <td>0.551148</td>\n",
       "      <td>0.059904</td>\n",
       "      <td>0.321724</td>\n",
       "      <td>0.525199</td>\n",
       "      <td>0.307797</td>\n",
       "    </tr>\n",
       "  </tbody>\n",
       "</table>\n",
       "<p>2 rows × 63 columns</p>\n",
       "</div>"
      ],
      "text/plain": [
       "   Subject            Visit  Side               Task  Tremor  Bradykinesia  \\\n",
       "0     1004  2 Weeks: Time 0  left  Motor #2: Walking     0.0           1.0   \n",
       "1     1004  2 Weeks: Time 0  left  Motor #2: Walking     0.0           1.0   \n",
       "\n",
       "   Dyskinesia  rangeXacc  rangeYacc  rangeZacc    ...     PSD_stdgyr  \\\n",
       "0         0.0   0.599504   0.744752   0.483158    ...     333.369231   \n",
       "1         0.0   0.535280   0.693556   0.445568    ...     511.580241   \n",
       "\n",
       "   PSD_skewgyr  PSD_kurgyr  jerk_meangyr  jerk_stdgyr  jerk_skewgyr  \\\n",
       "0     3.587466   15.204802      0.114246    10.726893      0.176444   \n",
       "1     4.261274   17.609498     -0.173831    10.278264      0.551148   \n",
       "\n",
       "   jerk_kurgyr  Sen_Xgyr  Sen_Ygyr  Sen_Zgyr  \n",
       "0    -0.009173  0.416625  0.571324  0.438326  \n",
       "1     0.059904  0.321724  0.525199  0.307797  \n",
       "\n",
       "[2 rows x 63 columns]"
      ]
     },
     "execution_count": 25,
     "metadata": {},
     "output_type": "execute_result"
    }
   ],
   "source": [
    "Data.head(2)"
   ]
  },
  {
   "cell_type": "markdown",
   "metadata": {},
   "source": [
    "Train on 1 session"
   ]
  },
  {
   "cell_type": "code",
   "execution_count": 64,
   "metadata": {
    "collapsed": false,
    "scrolled": true
   },
   "outputs": [
    {
     "name": "stdout",
     "output_type": "stream",
     "text": [
      "Subject 1004\n",
      "Training Random Forest\n",
      "\n",
      "Subj/Visit 0, prec=0.200, rec=0.972, Spec=0.052, auroc_train=1.000, auroc=0.435\n",
      "\n",
      "Subj/Visit 1, prec=0.333, rec=0.045, Spec=0.949, auroc_train=1.000, auroc=0.604\n",
      "\n",
      "Subj/Visit 2, prec=0.647, rec=0.050, Spec=0.983, auroc_train=1.000, auroc=0.704\n",
      "\n",
      "Subj/Visit 3, prec=0.428, rec=0.278, Spec=0.823, auroc_train=1.000, auroc=0.690\n",
      "\n",
      "Subj/Visit 4, prec=0.828, rec=0.055, Spec=0.993, auroc_train=1.000, auroc=0.621\n",
      "\n",
      "Subj/Visit 5, prec=0.526, rec=0.198, Spec=0.901, auroc_train=1.000, auroc=0.695\n",
      "f1_test=0.205+/-0.115, prec=0.494+/-0.205, rec=0.266+/-0.328, auprc=0.460+/-0.102, auroc=0.625+/-0.093\n",
      "Test 1004 on day 2\n",
      "Subject 1016\n",
      "Training Random Forest\n",
      "\n",
      "Subj/Visit 0, prec=0.940, rec=0.997, Spec=0.412, auroc_train=1.000, auroc=0.713\n",
      "\n",
      "Subj/Visit 1, prec=0.970, rec=0.958, Spec=0.687, auroc_train=1.000, auroc=0.879\n",
      "\n",
      "Subj/Visit 2, prec=0.973, rec=0.956, Spec=0.718, auroc_train=1.000, auroc=0.904\n",
      "\n",
      "Subj/Visit 3, prec=0.938, rec=0.990, Spec=0.409, auroc_train=1.000, auroc=0.709\n",
      "\n",
      "Subj/Visit 4, prec=0.984, rec=0.953, Spec=0.826, auroc_train=1.000, auroc=0.954\n",
      "\n",
      "Subj/Visit 5, prec=0.969, rec=0.984, Spec=0.686, auroc_train=1.000, auroc=0.876\n",
      "f1_test=0.967+/-0.004, prec=0.962+/-0.017, rec=0.973+/-0.018, auprc=0.981+/-0.011, auroc=0.839+/-0.094\n",
      "Test 1016 on day 2\n",
      "Subject 1018\n",
      "Training Random Forest\n",
      "\n",
      "Subj/Visit 0, prec=0.671, rec=0.908, Spec=0.437, auroc_train=1.000, auroc=0.736\n",
      "\n",
      "Subj/Visit 1, prec=0.785, rec=0.864, Spec=0.678, auroc_train=1.000, auroc=0.869\n",
      "\n",
      "Subj/Visit 2, prec=0.801, rec=0.777, Spec=0.733, auroc_train=1.000, auroc=0.841\n",
      "\n",
      "Subj/Visit 3, prec=0.801, rec=0.792, Spec=0.731, auroc_train=1.000, auroc=0.841\n",
      "\n",
      "Subj/Visit 4, prec=0.706, rec=0.964, Spec=0.512, auroc_train=1.000, auroc=0.833\n",
      "\n",
      "Subj/Visit 5, prec=0.886, rec=0.644, Spec=0.874, auroc_train=1.000, auroc=0.805\n",
      "f1_test=0.790+/-0.026, prec=0.775+/-0.070, rec=0.825+/-0.103, auprc=0.837+/-0.056, auroc=0.821+/-0.042\n",
      "Test 1018 on day 2\n",
      "Subject 1019\n",
      "Training Random Forest\n",
      "\n",
      "Subj/Visit 0, prec=0.443, rec=0.563, Spec=0.751, auroc_train=1.000, auroc=0.768\n",
      "\n",
      "Subj/Visit 1, prec=0.791, rec=0.510, Spec=0.942, auroc_train=1.000, auroc=0.821\n",
      "\n",
      "Subj/Visit 2, prec=1.000, rec=0.279, Spec=1.000, auroc_train=1.000, auroc=0.631\n",
      "\n",
      "Subj/Visit 3, prec=0.549, rec=0.752, Spec=0.768, auroc_train=1.000, auroc=0.838\n",
      "\n",
      "Subj/Visit 4, prec=0.632, rec=0.701, Spec=0.840, auroc_train=1.000, auroc=0.871\n",
      "\n",
      "Subj/Visit 5, prec=0.874, rec=0.448, Spec=0.972, auroc_train=1.000, auroc=0.832\n",
      "f1_test=0.574+/-0.081, prec=0.715+/-0.192, rec=0.542+/-0.157, auprc=0.690+/-0.058, auroc=0.793+/-0.079\n",
      "Test 1019 on day 2\n",
      "Subject 1024\n",
      "Training Random Forest\n",
      "\n",
      "Subj/Visit 0, prec=0.589, rec=0.990, Spec=0.051, auroc_train=1.000, auroc=0.540\n",
      "\n",
      "Subj/Visit 1, prec=0.860, rec=0.751, Spec=0.725, auroc_train=1.000, auroc=0.792\n",
      "\n",
      "Subj/Visit 2, prec=0.968, rec=0.595, Spec=0.954, auroc_train=1.000, auroc=0.837\n",
      "\n",
      "Subj/Visit 3, prec=0.632, rec=0.897, Spec=0.138, auroc_train=1.000, auroc=0.566\n",
      "\n",
      "Subj/Visit 4, prec=0.833, rec=0.781, Spec=0.677, auroc_train=1.000, auroc=0.787\n",
      "\n",
      "Subj/Visit 5, prec=0.828, rec=0.775, Spec=0.655, auroc_train=1.000, auroc=0.823\n",
      "f1_test=0.771+/-0.032, prec=0.785+/-0.132, rec=0.798+/-0.123, auprc=0.855+/-0.065, auroc=0.724+/-0.122\n",
      "Test 1024 on day 2\n",
      "Subject 1029\n",
      "Training Random Forest\n",
      "\n",
      "Subj/Visit 0, prec=0.505, rec=0.961, Spec=0.171, auroc_train=1.000, auroc=0.543\n",
      "\n",
      "Subj/Visit 1, prec=0.866, rec=0.647, Spec=0.876, auroc_train=1.000, auroc=0.778\n",
      "\n",
      "Subj/Visit 2, prec=0.767, rec=0.681, Spec=0.754, auroc_train=1.000, auroc=0.768\n",
      "\n",
      "Subj/Visit 3, prec=0.707, rec=0.515, Spec=0.728, auroc_train=1.000, auroc=0.603\n",
      "\n",
      "Subj/Visit 4, prec=0.863, rec=0.615, Spec=0.880, auroc_train=1.000, auroc=0.778\n",
      "\n",
      "Subj/Visit 5, prec=0.839, rec=0.700, Spec=0.832, auroc_train=1.000, auroc=0.793\n",
      "f1_test=0.700+/-0.056, prec=0.758+/-0.126, rec=0.687+/-0.137, auprc=0.749+/-0.076, auroc=0.711+/-0.099\n",
      "Test 1029 on day 2\n",
      "Subject 1030\n",
      "Training Random Forest\n",
      "\n",
      "Subj/Visit 0, prec=0.619, rec=0.867, Spec=0.523, auroc_train=1.000, auroc=0.800\n",
      "\n",
      "Subj/Visit 1, prec=0.744, rec=0.747, Spec=0.761, auroc_train=1.000, auroc=0.840\n",
      "\n",
      "Subj/Visit 2, prec=0.801, rec=0.598, Spec=0.845, auroc_train=1.000, auroc=0.789\n",
      "\n",
      "Subj/Visit 3, prec=0.705, rec=0.784, Spec=0.688, auroc_train=1.000, auroc=0.831\n",
      "\n",
      "Subj/Visit 4, prec=0.868, rec=0.617, Spec=0.904, auroc_train=1.000, auroc=0.841\n",
      "\n",
      "Subj/Visit 5, prec=0.789, rec=0.622, Spec=0.835, auroc_train=1.000, auroc=0.817\n",
      "f1_test=0.719+/-0.022, prec=0.754+/-0.079, rec=0.706+/-0.100, auprc=0.816+/-0.029, auroc=0.820+/-0.020\n",
      "Test 1030 on day 2\n",
      "Subject 1032\n",
      "Training Random Forest\n",
      "\n",
      "Subj/Visit 0, prec=0.853, rec=0.997, Spec=0.046, auroc_train=1.000, auroc=0.554\n",
      "\n",
      "Subj/Visit 1, prec=0.940, rec=0.974, Spec=0.577, auroc_train=1.000, auroc=0.851\n",
      "\n",
      "Subj/Visit 2, prec=0.973, rec=0.924, Spec=0.816, auroc_train=1.000, auroc=0.894\n",
      "\n",
      "Subj/Visit 3, prec=0.919, rec=0.985, Spec=0.447, auroc_train=1.000, auroc=0.856\n",
      "\n",
      "Subj/Visit 4, prec=0.906, rec=0.993, Spec=0.342, auroc_train=1.000, auroc=0.868\n",
      "\n",
      "Subj/Visit 5, prec=0.942, rec=0.969, Spec=0.586, auroc_train=1.000, auroc=0.910\n",
      "f1_test=0.946+/-0.012, prec=0.922+/-0.037, rec=0.974+/-0.024, auprc=0.964+/-0.021, auroc=0.822+/-0.122\n",
      "Test 1032 on day 2\n",
      "Subject 1038\n",
      "Training Random Forest\n",
      "\n",
      "Subj/Visit 0, prec=0.673, rec=0.386, Spec=0.932, auroc_train=1.000, auroc=0.736\n",
      "\n",
      "Subj/Visit 1, prec=0.762, rec=0.589, Spec=0.939, auroc_train=1.000, auroc=0.867\n",
      "\n",
      "Subj/Visit 2, prec=0.865, rec=0.566, Spec=0.969, auroc_train=1.000, auroc=0.815\n",
      "\n",
      "Subj/Visit 3, prec=0.872, rec=0.428, Spec=0.976, auroc_train=1.000, auroc=0.815\n",
      "\n",
      "Subj/Visit 4, prec=0.988, rec=0.413, Spec=0.998, auroc_train=1.000, auroc=0.785\n",
      "\n",
      "Subj/Visit 5, prec=0.714, rec=0.616, Spec=0.920, auroc_train=1.000, auroc=0.859\n",
      "f1_test=0.610+/-0.068, prec=0.812+/-0.107, rec=0.500+/-0.093, auprc=0.697+/-0.086, auroc=0.813+/-0.044\n",
      "Test 1038 on day 2\n",
      "Subject 1044\n",
      "Training Random Forest\n",
      "\n",
      "Subj/Visit 0, prec=0.678, rec=0.827, Spec=0.640, auroc_train=1.000, auroc=0.770\n",
      "\n",
      "Subj/Visit 1, prec=0.862, rec=0.791, Spec=0.870, auroc_train=1.000, auroc=0.878\n",
      "\n",
      "Subj/Visit 2, prec=0.824, rec=0.822, Spec=0.821, auroc_train=1.000, auroc=0.895\n",
      "\n",
      "Subj/Visit 3, prec=0.847, rec=0.776, Spec=0.861, auroc_train=1.000, auroc=0.885\n",
      "\n",
      "Subj/Visit 4, prec=0.864, rec=0.765, Spec=0.878, auroc_train=1.000, auroc=0.904\n",
      "\n",
      "Subj/Visit 5, prec=0.864, rec=0.832, Spec=0.868, auroc_train=1.000, auroc=0.916\n",
      "f1_test=0.810+/-0.032, prec=0.823+/-0.066, rec=0.802+/-0.026, auprc=0.863+/-0.081, auroc=0.875+/-0.048\n",
      "Test 1044 on day 2\n",
      "Subject 1046\n",
      "Training Random Forest\n",
      "\n",
      "Subj/Visit 0, prec=0.812, rec=0.878, Spec=0.859, auroc_train=1.000, auroc=0.932\n",
      "\n",
      "Subj/Visit 1, prec=0.933, rec=0.650, Spec=0.964, auroc_train=1.000, auroc=0.885\n",
      "\n",
      "Subj/Visit 2, prec=0.939, rec=0.658, Spec=0.968, auroc_train=1.000, auroc=0.891\n",
      "\n",
      "Subj/Visit 3, prec=0.767, rec=0.895, Spec=0.810, auroc_train=1.000, auroc=0.892\n",
      "\n",
      "Subj/Visit 4, prec=0.742, rec=0.863, Spec=0.805, auroc_train=1.000, auroc=0.911\n",
      "\n",
      "Subj/Visit 5, prec=0.853, rec=0.688, Spec=0.917, auroc_train=1.000, auroc=0.838\n",
      "f1_test=0.795+/-0.031, prec=0.841+/-0.075, rec=0.772+/-0.107, auprc=0.870+/-0.038, auroc=0.891+/-0.029\n",
      "Test 1046 on day 2\n",
      "Subject 1047\n",
      "Training Random Forest\n",
      "\n",
      "Subj/Visit 0, prec=0.238, rec=0.730, Spec=0.849, auroc_train=1.000, auroc=0.869\n",
      "only 1 class available in train data - skipping\n",
      "only 1 class available in train data - skipping\n",
      "\n",
      "Subj/Visit 1, prec=0.355, rec=0.487, Spec=0.929, auroc_train=1.000, auroc=0.842\n",
      "only 1 class available in train data - skipping\n",
      "only 1 class available in train data - skipping\n",
      "f1_test=0.385+/-0.026, prec=0.297+/-0.058, rec=0.609+/-0.121, auprc=0.557+/-0.022, auroc=0.855+/-0.013\n",
      "Subject 1049\n",
      "Training Random Forest\n",
      "\n",
      "Subj/Visit 0, prec=0.779, rec=0.505, Spec=0.826, auroc_train=1.000, auroc=0.745\n",
      "\n",
      "Subj/Visit 1, prec=0.708, rec=0.631, Spec=0.686, auroc_train=1.000, auroc=0.738\n",
      "\n",
      "Subj/Visit 2, prec=0.761, rec=0.643, Spec=0.756, auroc_train=1.000, auroc=0.778\n",
      "\n",
      "Subj/Visit 3, prec=0.768, rec=0.779, Spec=0.718, auroc_train=1.000, auroc=0.842\n",
      "\n",
      "Subj/Visit 4, prec=0.784, rec=0.728, Spec=0.756, auroc_train=1.000, auroc=0.816\n",
      "\n",
      "Subj/Visit 5, prec=0.762, rec=0.789, Spec=0.702, auroc_train=1.000, auroc=0.826\n",
      "f1_test=0.713+/-0.060, prec=0.760+/-0.025, rec=0.679+/-0.099, auprc=0.819+/-0.041, auroc=0.791+/-0.040\n",
      "Test 1049 on day 2\n",
      "Subject 1051\n",
      "Training Random Forest\n",
      "\n",
      "Subj/Visit 0, prec=0.383, rec=0.387, Spec=0.925, auroc_train=1.000, auroc=0.749\n",
      "\n",
      "Subj/Visit 1, prec=0.731, rec=0.106, Spec=0.993, auroc_train=1.000, auroc=0.664\n",
      "\n",
      "Subj/Visit 2, prec=1.000, rec=0.074, Spec=1.000, auroc_train=1.000, auroc=0.546\n",
      "\n",
      "Subj/Visit 3, prec=0.219, rec=0.451, Spec=0.799, auroc_train=1.000, auroc=0.741\n",
      "\n",
      "Subj/Visit 4, prec=0.792, rec=0.099, Spec=0.995, auroc_train=1.000, auroc=0.535\n",
      "\n",
      "Subj/Visit 5, prec=0.875, rec=0.078, Spec=0.998, auroc_train=1.000, auroc=0.632\n",
      "f1_test=0.220+/-0.090, prec=0.667+/-0.275, rec=0.199+/-0.157, auprc=0.316+/-0.066, auroc=0.644+/-0.084\n",
      "Test 1051 on day 2\n",
      "Subject 1052\n",
      "Training Random Forest\n",
      "\n",
      "Subj/Visit 0, prec=0.647, rec=0.979, Spec=0.475, auroc_train=1.000, auroc=0.845\n",
      "\n",
      "Subj/Visit 1, prec=0.874, rec=0.788, Spec=0.844, auroc_train=1.000, auroc=0.887\n",
      "\n",
      "Subj/Visit 2, prec=0.886, rec=0.745, Spec=0.865, auroc_train=1.000, auroc=0.894\n",
      "\n",
      "Subj/Visit 3, prec=0.660, rec=0.970, Spec=0.457, auroc_train=1.000, auroc=0.845\n",
      "\n",
      "Subj/Visit 4, prec=0.799, rec=0.497, Spec=0.828, auroc_train=1.000, auroc=0.766\n",
      "\n",
      "Subj/Visit 5, prec=0.770, rec=0.770, Spec=0.691, auroc_train=1.000, auroc=0.791\n",
      "f1_test=0.764+/-0.071, prec=0.773+/-0.093, rec=0.792+/-0.161, auprc=0.836+/-0.048, auroc=0.838+/-0.047\n",
      "Subject 1053\n",
      "Training Random Forest\n",
      "\n",
      "Subj/Visit 0, prec=0.249, rec=0.624, Spec=0.640, auroc_train=1.000, auroc=0.643\n",
      "\n",
      "Subj/Visit 1, prec=0.727, rec=0.183, Spec=0.979, auroc_train=1.000, auroc=0.629\n",
      "\n",
      "Subj/Visit 2, prec=0.615, rec=0.183, Spec=0.965, auroc_train=1.000, auroc=0.656\n",
      "\n",
      "Subj/Visit 3, prec=0.373, rec=0.803, Spec=0.733, auroc_train=1.000, auroc=0.814\n",
      "\n",
      "Subj/Visit 4, prec=0.750, rec=0.126, Spec=0.987, auroc_train=1.000, auroc=0.603\n",
      "\n",
      "Subj/Visit 5, prec=0.519, rec=0.462, Spec=0.883, auroc_train=1.000, auroc=0.670\n",
      "f1_test=0.357+/-0.109, prec=0.539+/-0.181, rec=0.397+/-0.254, auprc=0.419+/-0.061, auroc=0.669+/-0.068\n",
      "Subject 1054\n",
      "Training Random Forest\n",
      "\n",
      "Subj/Visit 0, prec=0.414, rec=0.996, Spec=0.034, auroc_train=1.000, auroc=0.547\n",
      "\n",
      "Subj/Visit 1, prec=0.821, rec=0.095, Spec=0.971, auroc_train=1.000, auroc=0.739\n",
      "\n",
      "Subj/Visit 2, prec=0.813, rec=0.191, Spec=0.944, auroc_train=1.000, auroc=0.622\n",
      "\n",
      "Subj/Visit 3, prec=0.433, rec=0.930, Spec=0.100, auroc_train=1.000, auroc=0.514\n",
      "\n",
      "Subj/Visit 4, prec=0.722, rec=0.260, Spec=0.874, auroc_train=1.000, auroc=0.647\n",
      "\n",
      "Subj/Visit 5, prec=0.946, rec=0.334, Spec=0.974, auroc_train=1.000, auroc=0.809\n",
      "f1_test=0.422+/-0.152, prec=0.692+/-0.201, rec=0.468+/-0.358, auprc=0.699+/-0.096, auroc=0.647+/-0.103\n",
      "Subject 1055\n",
      "Training Random Forest\n",
      "\n",
      "Subj/Visit 0, prec=0.507, rec=0.972, Spec=0.252, auroc_train=1.000, auroc=0.698\n",
      "\n",
      "Subj/Visit 1, prec=0.909, rec=0.222, Spec=0.971, auroc_train=1.000, auroc=0.602\n",
      "\n",
      "Subj/Visit 2, prec=0.723, rec=0.186, Spec=0.911, auroc_train=1.000, auroc=0.716\n",
      "\n",
      "Subj/Visit 3, prec=0.555, rec=0.941, Spec=0.362, auroc_train=1.000, auroc=0.668\n",
      "\n",
      "Subj/Visit 4, prec=0.559, rec=0.907, Spec=0.397, auroc_train=1.000, auroc=0.662\n",
      "\n",
      "Subj/Visit 5, prec=0.751, rec=0.376, Spec=0.852, auroc_train=1.000, auroc=0.719\n",
      "f1_test=0.535+/-0.163, prec=0.667+/-0.141, rec=0.601+/-0.345, auprc=0.661+/-0.052, auroc=0.678+/-0.040\n",
      "Subject 1056\n",
      "Training Random Forest\n",
      "\n",
      "Subj/Visit 0, prec=0.979, rec=0.894, Spec=0.788, auroc_train=1.000, auroc=0.932\n",
      "\n",
      "Subj/Visit 1, prec=0.944, rec=0.989, Spec=0.394, auroc_train=1.000, auroc=0.880\n",
      "\n",
      "Subj/Visit 2, prec=0.937, rec=0.959, Spec=0.362, auroc_train=1.000, auroc=0.876\n",
      "\n",
      "Subj/Visit 3, prec=0.917, rec=0.995, Spec=0.207, auroc_train=1.000, auroc=0.837\n",
      "only 1 class available in train data - skipping\n",
      "\n",
      "Subj/Visit 4, prec=0.915, rec=0.990, Spec=0.269, auroc_train=1.000, auroc=0.631\n",
      "f1_test=0.951+/-0.010, prec=0.938+/-0.023, rec=0.965+/-0.038, auprc=0.979+/-0.013, auroc=0.831+/-0.105\n"
     ]
    },
    {
     "data": {
      "text/plain": [
       "<matplotlib.text.Text at 0x1142158d0>"
      ]
     },
     "execution_count": 64,
     "metadata": {},
     "output_type": "execute_result"
    },
    {
     "data": {
      "image/png": "[encoded data removed]",
      "text/plain": [
       "<matplotlib.figure.Figure at 0x116831d68>"
      ]
     },
     "metadata": {},
     "output_type": "display_data"
    }
   ],
   "source": [
    "symptom = 'Bradykinesia'\n",
    "le = LabelEncoder()\n",
    "res_all = pd.DataFrame(data=None,index=None)\n",
    "res_visit_all = [] #data from each subject \n",
    "auroc2_1 = []\n",
    "\n",
    "#remove nan rows for current symptom\n",
    "Data = Dataorig.copy() #original unmodified dataframe\n",
    "Data=Data[~Data[symptom].isnull()]\n",
    "Data=Data.reset_index(drop=True) #reset index\n",
    "\n",
    "#train on 1 or all sessions, predict on left out session for each patient (Day 1) and on single Day 2 session\n",
    "for s in Data.Subject.unique():\n",
    "    print('Subject %s'%s)\n",
    "    ds = Data.loc[(Data.Subject==s) & (Data.Visit != '4 Weeks')]\n",
    "    ds2 = Data.loc[(Data.Subject==s) & (Data.Visit == '4 Weeks')] #(Day 2)\n",
    "\n",
    "    #train/test on Day 1\n",
    "    indp = (ds[symptom]>0).values\n",
    "    y = indp.astype(int) #target \n",
    "    X = ds.iloc[:,7:].as_matrix()\n",
    "    #     X = StandardScaler().fit_transform(X) #standardize input data\n",
    "    \n",
    "    models = [RandomForestClassifier(n_estimators=50,random_state=2)]#,XGBClassifier()]\n",
    "    model_name = ['Random Forest']#,'XGB']\n",
    "    models = list(zip(models,model_name))\n",
    "    groups = le.fit_transform(ds.Visit)\n",
    "    if len(np.unique(groups))<2:\n",
    "        continue\n",
    "        \n",
    "    #train/test on day 1 (LOin)\n",
    "    res,res_group = LOSOCV(ds,X,y,groups,models,LOin=1)\n",
    "    res.index = res.index+s\n",
    "    res_all=pd.concat((res_all,res))\n",
    "    res_visit_all.append(res_group)\n",
    "    day1_1 = res_all.auroc #mean auc per subject across \n",
    "\n",
    "    #test on day 2    \n",
    "    if ds2.empty is False:\n",
    "        print('Test %s on day 2' %s)\n",
    "        clf = models[0][0]\n",
    "        X2 = ds2.iloc[:,7:].as_matrix()\n",
    "        yte = (ds2[symptom]>0).values.astype(int) \n",
    "        yscore = clf.predict_proba(X2)\n",
    "        yscore = yscore[:,1]\n",
    "        if len(np.unique(yte))>1:\n",
    "            auroc = roc_auc_score(yte,yscore)\n",
    "        else:\n",
    "            print('only 1 class in test data - cannot compute roc curve')\n",
    "            auroc = np.nan\n",
    "        auroc2_1.append(auroc) #auc from each subject when tested on day 2\n",
    "\n",
    "ax=plt.boxplot([day1_1.values, auroc2_1])\n",
    "plt.title('Training on 1 session from Day 1')\n",
    "\n",
    "    \n"
   ]
  },
  {
   "cell_type": "markdown",
   "metadata": {},
   "source": [
    "Train on 5 sessions"
   ]
  },
  {
   "cell_type": "code",
   "execution_count": 58,
   "metadata": {
    "collapsed": false
   },
   "outputs": [
    {
     "name": "stdout",
     "output_type": "stream",
     "text": [
      "Subject 1004\n",
      "Training Random Forest\n",
      "\n",
      "Subj/Visit 0, prec=0.696, rec=0.132, Spec=0.548, auroc_train=1.000, auroc=0.454\n",
      "\n",
      "Subj/Visit 1, prec=0.294, rec=0.286, Spec=0.870, auroc_train=1.000, auroc=0.673\n",
      "\n",
      "Subj/Visit 2, prec=0.625, rec=0.625, Spec=0.955, auroc_train=1.000, auroc=0.919\n",
      "\n",
      "Subj/Visit 3, prec=0.578, rec=0.678, Spec=0.699, auroc_train=1.000, auroc=0.743\n",
      "\n",
      "Subj/Visit 4, prec=0.379, rec=0.846, Spec=0.812, auroc_train=1.000, auroc=0.913\n",
      "\n",
      "Subj/Visit 5, prec=0.724, rec=0.457, Spec=0.955, auroc_train=1.000, auroc=0.894\n",
      "f1_test=0.474+/-0.160, prec=0.549+/-0.159, rec=0.504+/-0.242, auprc=0.596+/-0.179, auroc=0.766+/-0.167\n",
      "Test 1004 on day 2\n",
      "Subject 1016\n",
      "Training Random Forest\n",
      "\n",
      "Subj/Visit 0, prec=0.988, rec=0.972, Spec=0.786, auroc_train=1.000, auroc=0.975\n",
      "\n",
      "Subj/Visit 1, prec=0.971, rec=0.996, Spec=0.767, auroc_train=1.000, auroc=0.989\n",
      "\n",
      "Subj/Visit 2, prec=0.953, rec=1.000, Spec=0.607, auroc_train=1.000, auroc=0.996\n",
      "\n",
      "Subj/Visit 3, prec=1.000, rec=0.954, Spec=1.000, auroc_train=1.000, auroc=0.996\n",
      "\n",
      "Subj/Visit 4, prec=0.922, rec=1.000, Spec=0.472, auroc_train=1.000, auroc=0.804\n",
      "\n",
      "Subj/Visit 5, prec=0.977, rec=0.984, Spec=0.750, auroc_train=1.000, auroc=0.990\n",
      "f1_test=0.976+/-0.008, prec=0.968+/-0.025, rec=0.984+/-0.017, auprc=0.993+/-0.013, auroc=0.958+/-0.069\n",
      "Test 1016 on day 2\n",
      "Subject 1018\n",
      "Training Random Forest\n",
      "\n",
      "Subj/Visit 0, prec=0.851, rec=0.736, Spec=0.764, auroc_train=1.000, auroc=0.807\n",
      "\n",
      "Subj/Visit 1, prec=0.814, rec=0.901, Spec=0.733, auroc_train=1.000, auroc=0.889\n",
      "\n",
      "Subj/Visit 2, prec=0.803, rec=0.952, Spec=0.726, auroc_train=1.000, auroc=0.892\n",
      "\n",
      "Subj/Visit 3, prec=0.841, rec=0.984, Spec=0.767, auroc_train=1.000, auroc=0.964\n",
      "\n",
      "Subj/Visit 4, prec=0.959, rec=0.797, Spec=0.924, auroc_train=1.000, auroc=0.951\n",
      "\n",
      "Subj/Visit 5, prec=0.585, rec=0.920, Spec=0.486, auroc_train=1.000, auroc=0.882\n",
      "f1_test=0.835+/-0.064, prec=0.809+/-0.112, rec=0.882+/-0.087, auprc=0.908+/-0.050, auroc=0.897+/-0.051\n",
      "Test 1018 on day 2\n",
      "Subject 1019\n",
      "Training Random Forest\n",
      "\n",
      "Subj/Visit 0, prec=0.660, rec=0.258, Spec=0.900, auroc_train=1.000, auroc=0.793\n",
      "\n",
      "Subj/Visit 1, prec=0.878, rec=0.754, Spec=0.968, auroc_train=1.000, auroc=0.956\n",
      "\n",
      "Subj/Visit 2, prec=0.544, rec=1.000, Spec=0.882, auroc_train=1.000, auroc=0.995\n",
      "\n",
      "Subj/Visit 3, prec=0.841, rec=0.385, Spec=0.956, auroc_train=1.000, auroc=0.850\n",
      "\n",
      "Subj/Visit 4, prec=0.854, rec=0.427, Spec=0.963, auroc_train=1.000, auroc=0.927\n",
      "\n",
      "Subj/Visit 5, prec=0.846, rec=0.772, Spec=0.958, auroc_train=1.000, auroc=0.964\n",
      "f1_test=0.632+/-0.159, prec=0.770+/-0.124, rec=0.599+/-0.260, auprc=0.859+/-0.080, auroc=0.914+/-0.070\n",
      "Test 1019 on day 2\n",
      "Subject 1024\n",
      "Training Random Forest\n",
      "\n",
      "Subj/Visit 0, prec=0.992, rec=0.731, Spec=0.900, auroc_train=1.000, auroc=0.903\n",
      "\n",
      "Subj/Visit 1, prec=0.700, rec=0.974, Spec=0.610, auroc_train=1.000, auroc=0.941\n",
      "\n",
      "Subj/Visit 2, prec=0.566, rec=1.000, Spec=0.463, auroc_train=1.000, auroc=0.955\n",
      "\n",
      "Subj/Visit 3, prec=0.853, rec=0.757, Spec=0.310, auroc_train=1.000, auroc=0.717\n",
      "\n",
      "Subj/Visit 4, prec=0.781, rec=0.870, Spec=0.663, auroc_train=1.000, auroc=0.861\n",
      "\n",
      "Subj/Visit 5, prec=0.716, rec=0.903, Spec=0.571, auroc_train=1.000, auroc=0.856\n",
      "f1_test=0.801+/-0.037, prec=0.768+/-0.133, rec=0.873+/-0.101, auprc=0.925+/-0.036, auroc=0.872+/-0.079\n",
      "Test 1024 on day 2\n",
      "Subject 1029\n",
      "Training Random Forest\n",
      "\n",
      "Subj/Visit 0, prec=0.947, rec=0.426, Spec=0.818, auroc_train=1.000, auroc=0.751\n",
      "\n",
      "Subj/Visit 1, prec=0.838, rec=0.924, Spec=0.852, auroc_train=1.000, auroc=0.969\n",
      "\n",
      "Subj/Visit 2, prec=0.704, rec=0.773, Spec=0.653, auroc_train=1.000, auroc=0.801\n",
      "\n",
      "Subj/Visit 3, prec=0.596, rec=0.681, Spec=0.650, auroc_train=1.000, auroc=0.669\n",
      "\n",
      "Subj/Visit 4, prec=0.758, rec=0.902, Spec=0.736, auroc_train=1.000, auroc=0.942\n",
      "\n",
      "Subj/Visit 5, prec=0.858, rec=0.960, Spec=0.867, auroc_train=1.000, auroc=0.974\n",
      "f1_test=0.761+/-0.119, prec=0.784+/-0.114, rec=0.778+/-0.184, auprc=0.870+/-0.146, auroc=0.851+/-0.117\n",
      "Test 1029 on day 2\n",
      "Subject 1030\n",
      "Training Random Forest\n",
      "\n",
      "Subj/Visit 0, prec=0.898, rec=0.556, Spec=0.906, auroc_train=1.000, auroc=0.838\n",
      "\n",
      "Subj/Visit 1, prec=0.877, rec=0.689, Spec=0.885, auroc_train=1.000, auroc=0.874\n",
      "\n",
      "Subj/Visit 2, prec=0.686, rec=0.810, Spec=0.747, auroc_train=1.000, auroc=0.889\n",
      "\n",
      "Subj/Visit 3, prec=0.860, rec=0.672, Spec=0.881, auroc_train=1.000, auroc=0.892\n",
      "\n",
      "Subj/Visit 4, prec=0.786, rec=0.929, Spec=0.815, auroc_train=1.000, auroc=0.950\n",
      "\n",
      "Subj/Visit 5, prec=0.730, rec=0.750, Spec=0.758, auroc_train=1.000, auroc=0.853\n",
      "f1_test=0.758+/-0.049, prec=0.806+/-0.078, rec=0.734+/-0.117, auprc=0.895+/-0.032, auroc=0.883+/-0.036\n",
      "Test 1030 on day 2\n",
      "Subject 1032\n",
      "Training Random Forest\n",
      "\n",
      "Subj/Visit 0, prec=0.976, rec=0.982, Spec=0.429, auroc_train=1.000, auroc=0.896\n",
      "\n",
      "Subj/Visit 1, prec=0.959, rec=1.000, Spec=0.767, auroc_train=1.000, auroc=0.976\n",
      "\n",
      "Subj/Visit 2, prec=0.843, rec=0.997, Spec=0.179, auroc_train=1.000, auroc=0.910\n",
      "\n",
      "Subj/Visit 3, prec=0.971, rec=0.985, Spec=0.789, auroc_train=1.000, auroc=0.988\n",
      "\n",
      "Subj/Visit 4, prec=0.957, rec=0.985, Spec=0.667, auroc_train=1.000, auroc=0.947\n",
      "\n",
      "Subj/Visit 5, prec=0.923, rec=0.993, Spec=0.603, auroc_train=1.000, auroc=0.794\n",
      "f1_test=0.963+/-0.023, prec=0.938+/-0.046, rec=0.990+/-0.007, auprc=0.981+/-0.022, auroc=0.918+/-0.065\n",
      "Test 1032 on day 2\n",
      "Subject 1038\n",
      "Training Random Forest\n",
      "\n",
      "Subj/Visit 0, prec=0.974, rec=0.576, Spec=0.995, auroc_train=1.000, auroc=0.900\n",
      "\n",
      "Subj/Visit 1, prec=1.000, rec=0.479, Spec=1.000, auroc_train=1.000, auroc=0.856\n",
      "\n",
      "Subj/Visit 2, prec=0.935, rec=0.597, Spec=0.985, auroc_train=1.000, auroc=0.917\n",
      "\n",
      "Subj/Visit 3, prec=0.849, rec=0.849, Spec=0.962, auroc_train=1.000, auroc=0.961\n",
      "\n",
      "Subj/Visit 4, prec=0.768, rec=0.878, Spec=0.942, auroc_train=1.000, auroc=0.966\n",
      "\n",
      "Subj/Visit 5, prec=0.980, rec=0.500, Spec=0.995, auroc_train=1.000, auroc=0.802\n",
      "f1_test=0.738+/-0.074, prec=0.918+/-0.083, rec=0.646+/-0.159, auprc=0.809+/-0.030, auroc=0.900+/-0.057\n",
      "Test 1038 on day 2\n",
      "Subject 1044\n",
      "Training Random Forest\n",
      "\n",
      "Subj/Visit 0, prec=0.953, rec=0.792, Spec=0.940, auroc_train=1.000, auroc=0.905\n",
      "\n",
      "Subj/Visit 1, prec=0.916, rec=0.845, Spec=0.936, auroc_train=1.000, auroc=0.947\n",
      "\n",
      "Subj/Visit 2, prec=0.851, rec=0.811, Spec=0.872, auroc_train=1.000, auroc=0.912\n",
      "\n",
      "Subj/Visit 3, prec=0.793, rec=0.909, Spec=0.762, auroc_train=1.000, auroc=0.936\n",
      "\n",
      "Subj/Visit 4, prec=0.854, rec=0.905, Spec=0.857, auroc_train=1.000, auroc=0.958\n",
      "\n",
      "Subj/Visit 5, prec=0.917, rec=0.895, Spec=0.925, auroc_train=1.000, auroc=0.961\n",
      "f1_test=0.868+/-0.024, prec=0.881+/-0.053, rec=0.860+/-0.046, auprc=0.933+/-0.020, auroc=0.937+/-0.021\n",
      "Test 1044 on day 2\n",
      "Subject 1046\n",
      "Training Random Forest\n",
      "\n",
      "Subj/Visit 0, prec=0.972, rec=0.663, Spec=0.986, auroc_train=1.000, auroc=0.919\n",
      "\n",
      "Subj/Visit 1, prec=0.824, rec=0.959, Spec=0.901, auroc_train=1.000, auroc=0.985\n",
      "\n",
      "Subj/Visit 2, prec=0.848, rec=0.918, Spec=0.910, auroc_train=1.000, auroc=0.979\n",
      "\n",
      "Subj/Visit 3, prec=0.925, rec=0.787, Spec=0.953, auroc_train=1.000, auroc=0.947\n",
      "\n",
      "Subj/Visit 4, prec=0.990, rec=0.856, Spec=0.991, auroc_train=1.000, auroc=0.955\n",
      "\n",
      "Subj/Visit 5, prec=0.802, rec=0.770, Spec=0.856, auroc_train=1.000, auroc=0.891\n",
      "f1_test=0.852+/-0.050, prec=0.893+/-0.073, rec=0.826+/-0.098, auprc=0.937+/-0.041, auroc=0.946+/-0.033\n",
      "Test 1046 on day 2\n",
      "Subject 1047\n",
      "Training Random Forest\n",
      "\n",
      "Subj/Visit 0, prec=0.784, rec=0.372, Spec=0.947, auroc_train=1.000, auroc=0.829\n",
      "only 1 class in test data - cannot compute roc curve\n"
     ]
    },
    {
     "name": "stderr",
     "output_type": "stream",
     "text": [
      "/Users/luca/anaconda/envs/py35_pd20/lib/python3.5/site-packages/sklearn/metrics/ranking.py:420: RuntimeWarning: invalid value encountered in true_divide\n",
      "  recall = tps / tps[-1]\n"
     ]
    },
    {
     "name": "stdout",
     "output_type": "stream",
     "text": [
      "\n",
      "Subj/Visit 1, prec=0.000, rec=0.000, Spec=1.000, auroc_train=1.000, auroc=nan\n"
     ]
    },
    {
     "name": "stderr",
     "output_type": "stream",
     "text": [
      "/Users/luca/anaconda/envs/py35_pd20/lib/python3.5/site-packages/sklearn/metrics/classification.py:1137: UndefinedMetricWarning: F-score is ill-defined and being set to 0.0 due to no true samples.\n",
      "  'recall', 'true', average, warn_for)\n",
      "/Users/luca/anaconda/envs/py35_pd20/lib/python3.5/site-packages/sklearn/metrics/ranking.py:420: RuntimeWarning: invalid value encountered in true_divide\n",
      "  recall = tps / tps[-1]\n",
      "/Users/luca/anaconda/envs/py35_pd20/lib/python3.5/site-packages/sklearn/metrics/classification.py:1137: UndefinedMetricWarning: Recall is ill-defined and being set to 0.0 due to no true samples.\n",
      "  'recall', 'true', average, warn_for)\n"
     ]
    },
    {
     "name": "stdout",
     "output_type": "stream",
     "text": [
      "only 1 class in test data - cannot compute roc curve\n",
      "\n",
      "Subj/Visit 2, prec=0.000, rec=0.000, Spec=0.990, auroc_train=1.000, auroc=nan\n",
      "\n",
      "Subj/Visit 3, prec=1.000, rec=0.429, Spec=1.000, auroc_train=1.000, auroc=0.862\n"
     ]
    },
    {
     "name": "stderr",
     "output_type": "stream",
     "text": [
      "/Users/luca/anaconda/envs/py35_pd20/lib/python3.5/site-packages/sklearn/metrics/classification.py:1137: UndefinedMetricWarning: F-score is ill-defined and being set to 0.0 due to no true samples.\n",
      "  'recall', 'true', average, warn_for)\n",
      "/Users/luca/anaconda/envs/py35_pd20/lib/python3.5/site-packages/sklearn/metrics/ranking.py:420: RuntimeWarning: invalid value encountered in true_divide\n",
      "  recall = tps / tps[-1]\n",
      "/Users/luca/anaconda/envs/py35_pd20/lib/python3.5/site-packages/sklearn/metrics/classification.py:1137: UndefinedMetricWarning: Recall is ill-defined and being set to 0.0 due to no true samples.\n",
      "  'recall', 'true', average, warn_for)\n"
     ]
    },
    {
     "name": "stdout",
     "output_type": "stream",
     "text": [
      "only 1 class in test data - cannot compute roc curve\n",
      "\n",
      "Subj/Visit 4, prec=0.000, rec=0.000, Spec=0.995, auroc_train=1.000, auroc=nan\n"
     ]
    },
    {
     "name": "stderr",
     "output_type": "stream",
     "text": [
      "/Users/luca/anaconda/envs/py35_pd20/lib/python3.5/site-packages/sklearn/metrics/classification.py:1137: UndefinedMetricWarning: F-score is ill-defined and being set to 0.0 due to no true samples.\n",
      "  'recall', 'true', average, warn_for)\n",
      "/Users/luca/anaconda/envs/py35_pd20/lib/python3.5/site-packages/sklearn/metrics/ranking.py:420: RuntimeWarning: invalid value encountered in true_divide\n",
      "  recall = tps / tps[-1]\n",
      "/Users/luca/anaconda/envs/py35_pd20/lib/python3.5/site-packages/sklearn/metrics/classification.py:1137: UndefinedMetricWarning: Recall is ill-defined and being set to 0.0 due to no true samples.\n",
      "  'recall', 'true', average, warn_for)\n"
     ]
    },
    {
     "name": "stdout",
     "output_type": "stream",
     "text": [
      "only 1 class in test data - cannot compute roc curve\n",
      "\n",
      "Subj/Visit 5, prec=0.000, rec=0.000, Spec=0.995, auroc_train=1.000, auroc=nan\n",
      "f1_test=0.184+/-0.262, prec=0.297+/-0.425, rec=0.133+/-0.189, auprc=0.768+/-0.024, auroc=0.845+/-0.016\n",
      "Subject 1049\n",
      "Training Random Forest\n",
      "\n",
      "Subj/Visit 0, prec=0.796, rec=0.738, Spec=0.775, auroc_train=1.000, auroc=0.841\n",
      "\n",
      "Subj/Visit 1, prec=0.849, rec=0.837, Spec=0.821, auroc_train=1.000, auroc=0.888\n",
      "\n",
      "Subj/Visit 2, prec=0.791, rec=0.861, Spec=0.723, auroc_train=1.000, auroc=0.898\n",
      "\n",
      "Subj/Visit 3, prec=0.890, rec=0.720, Spec=0.888, auroc_train=1.000, auroc=0.878\n",
      "\n",
      "Subj/Visit 4, prec=0.840, rec=0.862, Spec=0.807, auroc_train=1.000, auroc=0.916\n",
      "\n",
      "Subj/Visit 5, prec=0.780, rec=0.748, Spec=0.744, auroc_train=1.000, auroc=0.814\n",
      "f1_test=0.807+/-0.035, prec=0.824+/-0.039, rec=0.794+/-0.060, auprc=0.894+/-0.033, auroc=0.872+/-0.035\n",
      "Test 1049 on day 2\n",
      "Subject 1051\n",
      "Training Random Forest\n",
      "\n",
      "Subj/Visit 0, prec=1.000, rec=0.091, Spec=1.000, auroc_train=1.000, auroc=0.771\n",
      "\n",
      "Subj/Visit 1, prec=0.833, rec=0.294, Spec=0.995, auroc_train=1.000, auroc=0.836\n",
      "\n",
      "Subj/Visit 2, prec=0.545, rec=1.000, Spec=0.975, auroc_train=1.000, auroc=0.998\n",
      "\n",
      "Subj/Visit 3, prec=1.000, rec=0.162, Spec=1.000, auroc_train=1.000, auroc=0.655\n",
      "\n",
      "Subj/Visit 4, prec=0.417, rec=1.000, Spec=0.969, auroc_train=1.000, auroc=1.000\n",
      "\n",
      "Subj/Visit 5, prec=0.667, rec=0.353, Spec=0.985, auroc_train=1.000, auroc=0.940\n",
      "f1_test=0.439+/-0.180, prec=0.744+/-0.220, rec=0.483+/-0.375, auprc=0.722+/-0.185, auroc=0.867+/-0.126\n",
      "Test 1051 on day 2\n",
      "Subject 1052\n",
      "Training Random Forest\n",
      "\n",
      "Subj/Visit 0, prec=0.995, rec=0.903, Spec=0.979, auroc_train=1.000, auroc=0.978\n",
      "\n",
      "Subj/Visit 1, prec=0.810, rec=0.991, Spec=0.815, auroc_train=1.000, auroc=0.960\n",
      "\n",
      "Subj/Visit 2, prec=0.723, rec=0.959, Spec=0.753, auroc_train=1.000, auroc=0.946\n",
      "\n",
      "Subj/Visit 3, prec=0.907, rec=0.956, Spec=0.731, auroc_train=1.000, auroc=0.905\n",
      "\n",
      "Subj/Visit 4, prec=0.619, rec=0.660, Spec=0.688, auroc_train=1.000, auroc=0.724\n",
      "\n",
      "Subj/Visit 5, prec=0.911, rec=0.864, Spec=0.925, auroc_train=1.000, auroc=0.951\n",
      "f1_test=0.853+/-0.103, prec=0.828+/-0.126, rec=0.889+/-0.110, auprc=0.889+/-0.117, auroc=0.911+/-0.086\n",
      "Subject 1053\n",
      "Training Random Forest\n",
      "\n",
      "Subj/Visit 0, prec=0.333, rec=0.078, Spec=0.884, auroc_train=1.000, auroc=0.721\n",
      "\n",
      "Subj/Visit 1, prec=0.367, rec=0.917, Spec=0.902, auroc_train=1.000, auroc=0.961\n",
      "\n",
      "Subj/Visit 2, prec=0.500, rec=0.917, Spec=0.942, auroc_train=1.000, auroc=0.978\n",
      "\n",
      "Subj/Visit 3, prec=0.939, rec=0.320, Spec=0.986, auroc_train=1.000, auroc=0.847\n",
      "\n",
      "Subj/Visit 4, prec=0.448, rec=1.000, Spec=0.920, auroc_train=1.000, auroc=0.972\n",
      "\n",
      "Subj/Visit 5, prec=0.680, rec=0.436, Spec=0.954, auroc_train=1.000, auroc=0.861\n",
      "f1_test=0.488+/-0.171, prec=0.545+/-0.209, rec=0.611+/-0.351, auprc=0.658+/-0.103, auroc=0.890+/-0.092\n",
      "Subject 1054\n",
      "Training Random Forest\n",
      "\n",
      "Subj/Visit 0, prec=1.000, rec=0.783, Spec=1.000, auroc_train=1.000, auroc=0.979\n",
      "\n",
      "Subj/Visit 1, prec=0.453, rec=0.960, Spec=0.698, auroc_train=1.000, auroc=0.939\n",
      "\n",
      "Subj/Visit 2, prec=0.544, rec=0.725, Spec=0.789, auroc_train=1.000, auroc=0.821\n",
      "\n",
      "Subj/Visit 3, prec=0.946, rec=0.532, Spec=0.619, auroc_train=1.000, auroc=0.516\n",
      "\n",
      "Subj/Visit 4, prec=0.598, rec=0.667, Spec=0.787, auroc_train=1.000, auroc=0.737\n",
      "\n",
      "Subj/Visit 5, prec=0.494, rec=1.000, Spec=0.768, auroc_train=1.000, auroc=0.985\n",
      "f1_test=0.681+/-0.091, prec=0.672+/-0.218, rec=0.778+/-0.162, auprc=0.842+/-0.120, auroc=0.830+/-0.166\n",
      "Subject 1055\n",
      "Training Random Forest\n",
      "\n",
      "Subj/Visit 0, prec=1.000, rec=0.638, Spec=1.000, auroc_train=1.000, auroc=0.887\n",
      "\n",
      "Subj/Visit 1, prec=0.292, rec=1.000, Spec=0.398, auroc_train=1.000, auroc=0.876\n",
      "\n",
      "Subj/Visit 2, prec=0.391, rec=0.804, Spec=0.588, auroc_train=1.000, auroc=0.756\n",
      "\n",
      "Subj/Visit 3, prec=0.828, rec=0.616, Spec=0.661, auroc_train=1.000, auroc=0.673\n",
      "\n",
      "Subj/Visit 4, prec=0.989, rec=0.515, Spec=0.984, auroc_train=1.000, auroc=0.950\n",
      "\n",
      "Subj/Visit 5, prec=0.488, rec=0.924, Spec=0.584, auroc_train=1.000, auroc=0.776\n",
      "f1_test=0.630+/-0.110, prec=0.665+/-0.285, rec=0.750+/-0.174, auprc=0.737+/-0.199, auroc=0.820+/-0.093\n",
      "Subject 1056\n",
      "Training Random Forest\n",
      "\n",
      "Subj/Visit 0, prec=0.838, rec=1.000, Spec=0.118, auroc_train=1.000, auroc=0.868\n",
      "\n",
      "Subj/Visit 1, prec=0.911, rec=0.991, Spec=0.476, auroc_train=1.000, auroc=0.942\n",
      "\n",
      "Subj/Visit 2, prec=0.897, rec=0.975, Spec=0.308, auroc_train=1.000, auroc=0.913\n",
      "\n",
      "Subj/Visit 3, prec=0.966, rec=1.000, Spec=0.625, auroc_train=1.000, auroc=0.989\n",
      "only 1 class in test data - cannot compute roc curve\n",
      "\n",
      "Subj/Visit 4, prec=1.000, rec=0.993, Spec=nan, auroc_train=1.000, auroc=nan\n"
     ]
    },
    {
     "name": "stderr",
     "output_type": "stream",
     "text": [
      "/Users/luca/anaconda/envs/py35_pd20/lib/python3.5/site-packages/ipykernel/__main__.py:48: RuntimeWarning: invalid value encountered in long_scalars\n"
     ]
    },
    {
     "name": "stdout",
     "output_type": "stream",
     "text": [
      "\n",
      "Subj/Visit 5, prec=0.993, rec=1.000, Spec=0.846, auroc_train=1.000, auroc=0.962\n",
      "f1_test=0.962+/-0.032, prec=0.934+/-0.058, rec=0.993+/-0.009, auprc=0.989+/-0.013, auroc=0.935+/-0.042\n"
     ]
    },
    {
     "data": {
      "text/plain": [
       "<matplotlib.text.Text at 0x1032bba20>"
      ]
     },
     "execution_count": 58,
     "metadata": {},
     "output_type": "execute_result"
    },
    {
     "data": {
      "image/png": "[encoded data removed]",
      "text/plain": [
       "<matplotlib.figure.Figure at 0x1183fafd0>"
      ]
     },
     "metadata": {},
     "output_type": "display_data"
    }
   ],
   "source": [
    "symptom = 'Bradykinesia'\n",
    "le = LabelEncoder()\n",
    "res_all = pd.DataFrame(data=None,index=None)\n",
    "res_visit_all = [] #data from each subject \n",
    "auroc2_5 = []\n",
    "\n",
    "#remove nan rows for current symptom\n",
    "Data = Dataorig.copy() #original unmodified dataframe\n",
    "Data=Data[~Data[symptom].isnull()]\n",
    "Data=Data.reset_index(drop=True) #reset index\n",
    "\n",
    "#train on 1 or all sessions, predict on left out session for each patient (Day 1) and on single Day 2 session\n",
    "for s in Data.Subject.unique():\n",
    "    print('Subject %s'%s)\n",
    "    ds = Data.loc[(Data.Subject==s) & (Data.Visit != '4 Weeks')]\n",
    "    ds2 = Data.loc[(Data.Subject==s) & (Data.Visit == '4 Weeks')] #(Day 2)\n",
    "\n",
    "    #train/test on Day 1\n",
    "    indp = (ds[symptom]>0).values\n",
    "    y = indp.astype(int) #target \n",
    "    X = ds.iloc[:,7:].as_matrix()\n",
    "    #     X = StandardScaler().fit_transform(X) #standardize input data\n",
    "    \n",
    "    models = [RandomForestClassifier(n_estimators=50,random_state=2)]#,XGBClassifier()]\n",
    "    model_name = ['Random Forest']#,'XGB']\n",
    "    models = list(zip(models,model_name))\n",
    "    groups = le.fit_transform(ds.Visit)\n",
    "    if len(np.unique(groups))<2:\n",
    "        continue\n",
    "        \n",
    "    #train/test on day 1 (LOin)\n",
    "    res,res_group = LOSOCV(ds,X,y,groups,models,LOin=0)\n",
    "    res.index = res.index+s\n",
    "    res_all=pd.concat((res_all,res))\n",
    "    res_visit_all.append(res_group)\n",
    "    day1_5 = res_all.auroc #mean auc per subject across \n",
    "\n",
    "    #test on day 2    \n",
    "    if ds2.empty is False:\n",
    "        print('Test %s on day 2' %s)\n",
    "        clf = models[0][0]\n",
    "        X2 = ds2.iloc[:,7:].as_matrix()\n",
    "        yte = (ds2[symptom]>0).values.astype(int) \n",
    "        yscore = clf.predict_proba(X2)\n",
    "        yscore = yscore[:,1]\n",
    "        if len(np.unique(yte))>1:\n",
    "            auroc = roc_auc_score(yte,yscore)\n",
    "        else:\n",
    "            print('only 1 class in test data - cannot compute roc curve')\n",
    "            auroc = np.nan\n",
    "        auroc2_5.append(auroc) #auc from each subject when tested on day 2\n",
    "\n",
    "    \n",
    "ax=plt.boxplot([day1_5.values, auroc2_5])\n",
    "plt.title('Train on 5 Sessions from Day 1')"
   ]
  },
  {
   "cell_type": "markdown",
   "metadata": {},
   "source": [
    "# Subgroup of tasks - Train and Test on subgroups of tasks (Just for reference, NOT USED in current version of the paper)"
   ]
  },
  {
   "cell_type": "code",
   "execution_count": 20,
   "metadata": {
    "collapsed": true
   },
   "outputs": [],
   "source": [
    "Dataorig = Data.copy()\n",
    "taskA = ['Motor #4: Finger to Nose','Motor #5: Alternating Hand Movements']\n",
    "taskB = ['Motor #2: Walking', 'Motor #3: Walking while Counting']\n",
    "taskB1 = ['Motor #1: Standing','Motor #13: Sitting'] #tremor\n",
    "taskC = ['Motor #10: Drinking Water','Motor #11: Organizing Folder','Motor #12: Folding Towels']\n",
    "taskD = ['Motor #7: Drawing on Paper','Motor #8: Typing on a Computer', 'Motor #9: Nuts and Bolts',]\n",
    "tasks = [taskA,taskB,taskC,taskD]"
   ]
  },
  {
   "cell_type": "code",
   "execution_count": 146,
   "metadata": {
    "collapsed": false,
    "scrolled": true
   },
   "outputs": [
    {
     "name": "stdout",
     "output_type": "stream",
     "text": [
      "\n",
      " ['Motor #4: Finger to Nose' 'Motor #5: Alternating Hand Movements']\n",
      "Rows w Tremor 1333/3187 = 0.42\n",
      "Training Random Forest\n",
      "\n",
      "Subj/Visit 0, prec=0.757, rec=0.812, Spec=0.926, auroc_train=1.000, auroc=0.923\n",
      "\n",
      "Subj/Visit 1, prec=0.768, rec=0.495, Spec=0.698, auroc_train=1.000, auroc=0.648\n",
      "\n",
      "Subj/Visit 2, prec=0.802, rec=0.901, Spec=0.778, auroc_train=1.000, auroc=0.930\n",
      "\n",
      "Subj/Visit 3, prec=0.562, rec=0.800, Spec=0.776, auroc_train=1.000, auroc=0.852\n",
      "\n",
      "Subj/Visit 4, prec=0.775, rec=0.392, Spec=0.892, auroc_train=1.000, auroc=0.683\n",
      "\n",
      "Subj/Visit 5, prec=0.717, rec=0.804, Spec=0.460, auroc_train=1.000, auroc=0.722\n",
      "\n",
      "Subj/Visit 6, prec=0.949, rec=0.825, Spec=0.922, auroc_train=1.000, auroc=0.939\n",
      "\n",
      "Subj/Visit 7, prec=0.521, rec=0.700, Spec=0.408, auroc_train=1.000, auroc=0.566\n",
      "\n",
      "Subj/Visit 8, prec=0.894, rec=0.596, Spec=0.389, auroc_train=1.000, auroc=0.405\n",
      "\n",
      "Subj/Visit 9, prec=0.758, rec=0.625, Spec=0.830, auroc_train=1.000, auroc=0.838\n",
      "\n",
      "Subj/Visit 10, prec=0.000, rec=0.000, Spec=0.883, auroc_train=1.000, auroc=0.637\n",
      "\n",
      "Subj/Visit 11, prec=0.250, rec=0.167, Spec=0.950, auroc_train=1.000, auroc=0.908\n",
      "\n",
      "Subj/Visit 12, prec=0.632, rec=0.757, Spec=0.347, auroc_train=1.000, auroc=0.632\n",
      "\n",
      "Subj/Visit 13, prec=0.143, rec=0.167, Spec=0.960, auroc_train=1.000, auroc=0.880\n",
      "\n",
      "Subj/Visit 14, prec=0.029, rec=0.167, Spec=0.770, auroc_train=1.000, auroc=0.565\n"
     ]
    },
    {
     "name": "stderr",
     "output_type": "stream",
     "text": [
      "/Users/luca/anaconda/envs/py35_pd20/lib/python3.5/site-packages/sklearn/metrics/classification.py:1137: UndefinedMetricWarning: F-score is ill-defined and being set to 0.0 due to no true samples.\n",
      "  'recall', 'true', average, warn_for)\n",
      "/Users/luca/anaconda/envs/py35_pd20/lib/python3.5/site-packages/sklearn/metrics/ranking.py:420: RuntimeWarning: invalid value encountered in true_divide\n",
      "  recall = tps / tps[-1]\n",
      "/Users/luca/anaconda/envs/py35_pd20/lib/python3.5/site-packages/sklearn/metrics/classification.py:1137: UndefinedMetricWarning: Recall is ill-defined and being set to 0.0 due to no true samples.\n",
      "  'recall', 'true', average, warn_for)\n"
     ]
    },
    {
     "name": "stdout",
     "output_type": "stream",
     "text": [
      "only 1 class in test data - cannot compute roc curve\n",
      "\n",
      "Subj/Visit 15, prec=0.000, rec=0.000, Spec=0.904, auroc_train=1.000, auroc=nan\n",
      "\n",
      "Subj/Visit 16, prec=0.286, rec=0.833, Spec=0.781, auroc_train=1.000, auroc=0.875\n",
      "\n",
      "Subj/Visit 17, prec=1.000, rec=0.328, Spec=1.000, auroc_train=1.000, auroc=0.751\n",
      "\n",
      "Subj/Visit 18, prec=0.979, rec=0.354, Spec=0.958, auroc_train=1.000, auroc=0.747\n",
      "f1_test=0.504+/-0.281, prec=0.570+/-0.336, rec=0.512+/-0.297, auprc=0.631+/-0.302, auroc=0.750+/-0.150\n",
      "\n",
      " ['Motor #2: Walking' 'Motor #3: Walking while Counting']\n",
      "Rows w Tremor 895/6673 = 0.13\n",
      "Training Random Forest\n"
     ]
    },
    {
     "name": "stderr",
     "output_type": "stream",
     "text": [
      "/Users/luca/anaconda/envs/py35_pd20/lib/python3.5/site-packages/sklearn/metrics/classification.py:1137: UndefinedMetricWarning: F-score is ill-defined and being set to 0.0 due to no true samples.\n",
      "  'recall', 'true', average, warn_for)\n",
      "/Users/luca/anaconda/envs/py35_pd20/lib/python3.5/site-packages/sklearn/metrics/ranking.py:420: RuntimeWarning: invalid value encountered in true_divide\n",
      "  recall = tps / tps[-1]\n",
      "/Users/luca/anaconda/envs/py35_pd20/lib/python3.5/site-packages/sklearn/metrics/classification.py:1137: UndefinedMetricWarning: Recall is ill-defined and being set to 0.0 due to no true samples.\n",
      "  'recall', 'true', average, warn_for)\n"
     ]
    },
    {
     "name": "stdout",
     "output_type": "stream",
     "text": [
      "only 1 class in test data - cannot compute roc curve\n",
      "\n",
      "Subj/Visit 0, prec=0.000, rec=0.000, Spec=0.922, auroc_train=1.000, auroc=nan\n"
     ]
    },
    {
     "name": "stderr",
     "output_type": "stream",
     "text": [
      "/Users/luca/anaconda/envs/py35_pd20/lib/python3.5/site-packages/sklearn/metrics/ranking.py:420: RuntimeWarning: invalid value encountered in true_divide\n",
      "  recall = tps / tps[-1]\n"
     ]
    },
    {
     "name": "stdout",
     "output_type": "stream",
     "text": [
      "only 1 class in test data - cannot compute roc curve\n",
      "\n",
      "Subj/Visit 1, prec=0.000, rec=0.000, Spec=1.000, auroc_train=1.000, auroc=nan\n"
     ]
    },
    {
     "name": "stderr",
     "output_type": "stream",
     "text": [
      "/Users/luca/anaconda/envs/py35_pd20/lib/python3.5/site-packages/sklearn/metrics/ranking.py:420: RuntimeWarning: invalid value encountered in true_divide\n",
      "  recall = tps / tps[-1]\n"
     ]
    },
    {
     "name": "stdout",
     "output_type": "stream",
     "text": [
      "only 1 class in test data - cannot compute roc curve\n",
      "\n",
      "Subj/Visit 2, prec=0.000, rec=0.000, Spec=1.000, auroc_train=1.000, auroc=nan\n"
     ]
    },
    {
     "name": "stderr",
     "output_type": "stream",
     "text": [
      "/Users/luca/anaconda/envs/py35_pd20/lib/python3.5/site-packages/sklearn/metrics/ranking.py:420: RuntimeWarning: invalid value encountered in true_divide\n",
      "  recall = tps / tps[-1]\n"
     ]
    },
    {
     "name": "stdout",
     "output_type": "stream",
     "text": [
      "only 1 class in test data - cannot compute roc curve\n",
      "\n",
      "Subj/Visit 3, prec=0.000, rec=0.000, Spec=1.000, auroc_train=1.000, auroc=nan\n"
     ]
    },
    {
     "name": "stderr",
     "output_type": "stream",
     "text": [
      "/Users/luca/anaconda/envs/py35_pd20/lib/python3.5/site-packages/sklearn/metrics/classification.py:1137: UndefinedMetricWarning: F-score is ill-defined and being set to 0.0 due to no true samples.\n",
      "  'recall', 'true', average, warn_for)\n",
      "/Users/luca/anaconda/envs/py35_pd20/lib/python3.5/site-packages/sklearn/metrics/ranking.py:420: RuntimeWarning: invalid value encountered in true_divide\n",
      "  recall = tps / tps[-1]\n",
      "/Users/luca/anaconda/envs/py35_pd20/lib/python3.5/site-packages/sklearn/metrics/classification.py:1137: UndefinedMetricWarning: Recall is ill-defined and being set to 0.0 due to no true samples.\n",
      "  'recall', 'true', average, warn_for)\n"
     ]
    },
    {
     "name": "stdout",
     "output_type": "stream",
     "text": [
      "only 1 class in test data - cannot compute roc curve\n",
      "\n",
      "Subj/Visit 4, prec=0.000, rec=0.000, Spec=0.997, auroc_train=1.000, auroc=nan\n",
      "\n",
      "Subj/Visit 5, prec=0.000, rec=0.000, Spec=0.994, auroc_train=1.000, auroc=0.124\n"
     ]
    },
    {
     "name": "stderr",
     "output_type": "stream",
     "text": [
      "/Users/luca/anaconda/envs/py35_pd20/lib/python3.5/site-packages/sklearn/metrics/ranking.py:420: RuntimeWarning: invalid value encountered in true_divide\n",
      "  recall = tps / tps[-1]\n"
     ]
    },
    {
     "name": "stdout",
     "output_type": "stream",
     "text": [
      "only 1 class in test data - cannot compute roc curve\n",
      "\n",
      "Subj/Visit 6, prec=0.000, rec=0.000, Spec=1.000, auroc_train=1.000, auroc=nan\n"
     ]
    },
    {
     "name": "stderr",
     "output_type": "stream",
     "text": [
      "/Users/luca/anaconda/envs/py35_pd20/lib/python3.5/site-packages/sklearn/metrics/ranking.py:420: RuntimeWarning: invalid value encountered in true_divide\n",
      "  recall = tps / tps[-1]\n"
     ]
    },
    {
     "name": "stdout",
     "output_type": "stream",
     "text": [
      "only 1 class in test data - cannot compute roc curve\n",
      "\n",
      "Subj/Visit 7, prec=0.000, rec=0.000, Spec=1.000, auroc_train=1.000, auroc=nan\n"
     ]
    },
    {
     "name": "stderr",
     "output_type": "stream",
     "text": [
      "/Users/luca/anaconda/envs/py35_pd20/lib/python3.5/site-packages/sklearn/metrics/classification.py:1135: UndefinedMetricWarning: F-score is ill-defined and being set to 0.0 due to no predicted samples.\n",
      "  'precision', 'predicted', average, warn_for)\n",
      "/Users/luca/anaconda/envs/py35_pd20/lib/python3.5/site-packages/sklearn/metrics/classification.py:1135: UndefinedMetricWarning: Precision is ill-defined and being set to 0.0 due to no predicted samples.\n",
      "  'precision', 'predicted', average, warn_for)\n"
     ]
    },
    {
     "name": "stdout",
     "output_type": "stream",
     "text": [
      "\n",
      "Subj/Visit 8, prec=0.000, rec=0.000, Spec=1.000, auroc_train=1.000, auroc=0.636\n"
     ]
    },
    {
     "name": "stderr",
     "output_type": "stream",
     "text": [
      "/Users/luca/anaconda/envs/py35_pd20/lib/python3.5/site-packages/sklearn/metrics/ranking.py:420: RuntimeWarning: invalid value encountered in true_divide\n",
      "  recall = tps / tps[-1]\n"
     ]
    },
    {
     "name": "stdout",
     "output_type": "stream",
     "text": [
      "only 1 class in test data - cannot compute roc curve\n",
      "\n",
      "Subj/Visit 9, prec=0.000, rec=0.000, Spec=1.000, auroc_train=1.000, auroc=nan\n",
      "\n",
      "Subj/Visit 10, prec=1.000, rec=0.322, Spec=1.000, auroc_train=1.000, auroc=0.945\n"
     ]
    },
    {
     "name": "stderr",
     "output_type": "stream",
     "text": [
      "/Users/luca/anaconda/envs/py35_pd20/lib/python3.5/site-packages/sklearn/metrics/ranking.py:420: RuntimeWarning: invalid value encountered in true_divide\n",
      "  recall = tps / tps[-1]\n"
     ]
    },
    {
     "name": "stdout",
     "output_type": "stream",
     "text": [
      "only 1 class in test data - cannot compute roc curve\n",
      "\n",
      "Subj/Visit 11, prec=0.000, rec=0.000, Spec=1.000, auroc_train=1.000, auroc=nan\n",
      "\n",
      "Subj/Visit 12, prec=0.631, rec=0.745, Spec=0.932, auroc_train=1.000, auroc=0.950\n"
     ]
    },
    {
     "name": "stderr",
     "output_type": "stream",
     "text": [
      "/Users/luca/anaconda/envs/py35_pd20/lib/python3.5/site-packages/sklearn/metrics/classification.py:1137: UndefinedMetricWarning: F-score is ill-defined and being set to 0.0 due to no true samples.\n",
      "  'recall', 'true', average, warn_for)\n",
      "/Users/luca/anaconda/envs/py35_pd20/lib/python3.5/site-packages/sklearn/metrics/ranking.py:420: RuntimeWarning: invalid value encountered in true_divide\n",
      "  recall = tps / tps[-1]\n",
      "/Users/luca/anaconda/envs/py35_pd20/lib/python3.5/site-packages/sklearn/metrics/classification.py:1137: UndefinedMetricWarning: Recall is ill-defined and being set to 0.0 due to no true samples.\n",
      "  'recall', 'true', average, warn_for)\n"
     ]
    },
    {
     "name": "stdout",
     "output_type": "stream",
     "text": [
      "only 1 class in test data - cannot compute roc curve\n",
      "\n",
      "Subj/Visit 13, prec=0.000, rec=0.000, Spec=0.997, auroc_train=1.000, auroc=nan\n"
     ]
    },
    {
     "name": "stderr",
     "output_type": "stream",
     "text": [
      "/Users/luca/anaconda/envs/py35_pd20/lib/python3.5/site-packages/sklearn/metrics/ranking.py:420: RuntimeWarning: invalid value encountered in true_divide\n",
      "  recall = tps / tps[-1]\n"
     ]
    },
    {
     "name": "stdout",
     "output_type": "stream",
     "text": [
      "only 1 class in test data - cannot compute roc curve\n",
      "\n",
      "Subj/Visit 14, prec=0.000, rec=0.000, Spec=1.000, auroc_train=1.000, auroc=nan\n"
     ]
    },
    {
     "name": "stderr",
     "output_type": "stream",
     "text": [
      "/Users/luca/anaconda/envs/py35_pd20/lib/python3.5/site-packages/sklearn/metrics/classification.py:1137: UndefinedMetricWarning: F-score is ill-defined and being set to 0.0 due to no true samples.\n",
      "  'recall', 'true', average, warn_for)\n",
      "/Users/luca/anaconda/envs/py35_pd20/lib/python3.5/site-packages/sklearn/metrics/ranking.py:420: RuntimeWarning: invalid value encountered in true_divide\n",
      "  recall = tps / tps[-1]\n",
      "/Users/luca/anaconda/envs/py35_pd20/lib/python3.5/site-packages/sklearn/metrics/classification.py:1137: UndefinedMetricWarning: Recall is ill-defined and being set to 0.0 due to no true samples.\n",
      "  'recall', 'true', average, warn_for)\n"
     ]
    },
    {
     "name": "stdout",
     "output_type": "stream",
     "text": [
      "only 1 class in test data - cannot compute roc curve\n",
      "\n",
      "Subj/Visit 15, prec=0.000, rec=0.000, Spec=0.983, auroc_train=1.000, auroc=nan\n"
     ]
    },
    {
     "name": "stderr",
     "output_type": "stream",
     "text": [
      "/Users/luca/anaconda/envs/py35_pd20/lib/python3.5/site-packages/sklearn/metrics/ranking.py:420: RuntimeWarning: invalid value encountered in true_divide\n",
      "  recall = tps / tps[-1]\n"
     ]
    },
    {
     "name": "stdout",
     "output_type": "stream",
     "text": [
      "only 1 class in test data - cannot compute roc curve\n",
      "\n",
      "Subj/Visit 16, prec=0.000, rec=0.000, Spec=1.000, auroc_train=1.000, auroc=nan\n",
      "\n",
      "Subj/Visit 17, prec=1.000, rec=0.018, Spec=1.000, auroc_train=1.000, auroc=0.804\n",
      "\n",
      "Subj/Visit 18, prec=0.992, rec=0.510, Spec=0.987, auroc_train=1.000, auroc=0.799\n",
      "f1_test=0.099+/-0.226, prec=0.191+/-0.376, rec=0.084+/-0.203, auprc=0.678+/-0.362, auroc=0.709+/-0.282\n",
      "\n",
      " ['Motor #10: Drinking Water' 'Motor #11: Organizing Folder'\n",
      " 'Motor #12: Folding Towels']\n",
      "Rows w Tremor 3714/12167 = 0.31\n",
      "Training Random Forest\n",
      "\n",
      "Subj/Visit 0, prec=0.421, rec=0.232, Spec=0.935, auroc_train=1.000, auroc=0.707\n",
      "\n",
      "Subj/Visit 1, prec=0.894, rec=0.063, Spec=0.952, auroc_train=1.000, auroc=0.531\n",
      "\n",
      "Subj/Visit 2, prec=0.167, rec=0.087, Spec=0.938, auroc_train=1.000, auroc=0.555\n",
      "\n",
      "Subj/Visit 3, prec=0.028, rec=0.042, Spec=0.948, auroc_train=1.000, auroc=0.509\n",
      "\n",
      "Subj/Visit 4, prec=0.569, rec=0.120, Spec=0.947, auroc_train=1.000, auroc=0.587\n",
      "\n",
      "Subj/Visit 5, prec=0.744, rec=0.450, Spec=0.780, auroc_train=1.000, auroc=0.664\n",
      "\n",
      "Subj/Visit 6, prec=0.000, rec=0.000, Spec=0.968, auroc_train=1.000, auroc=0.152\n"
     ]
    },
    {
     "name": "stderr",
     "output_type": "stream",
     "text": [
      "/Users/luca/anaconda/envs/py35_pd20/lib/python3.5/site-packages/sklearn/metrics/classification.py:1137: UndefinedMetricWarning: F-score is ill-defined and being set to 0.0 due to no true samples.\n",
      "  'recall', 'true', average, warn_for)\n",
      "/Users/luca/anaconda/envs/py35_pd20/lib/python3.5/site-packages/sklearn/metrics/ranking.py:420: RuntimeWarning: invalid value encountered in true_divide\n",
      "  recall = tps / tps[-1]\n",
      "/Users/luca/anaconda/envs/py35_pd20/lib/python3.5/site-packages/sklearn/metrics/classification.py:1137: UndefinedMetricWarning: Recall is ill-defined and being set to 0.0 due to no true samples.\n",
      "  'recall', 'true', average, warn_for)\n"
     ]
    },
    {
     "name": "stdout",
     "output_type": "stream",
     "text": [
      "only 1 class in test data - cannot compute roc curve\n",
      "\n",
      "Subj/Visit 7, prec=0.000, rec=0.000, Spec=0.952, auroc_train=1.000, auroc=nan\n",
      "\n",
      "Subj/Visit 8, prec=1.000, rec=0.237, Spec=1.000, auroc_train=1.000, auroc=0.731\n"
     ]
    },
    {
     "name": "stderr",
     "output_type": "stream",
     "text": [
      "/Users/luca/anaconda/envs/py35_pd20/lib/python3.5/site-packages/sklearn/metrics/classification.py:1137: UndefinedMetricWarning: F-score is ill-defined and being set to 0.0 due to no true samples.\n",
      "  'recall', 'true', average, warn_for)\n",
      "/Users/luca/anaconda/envs/py35_pd20/lib/python3.5/site-packages/sklearn/metrics/ranking.py:420: RuntimeWarning: invalid value encountered in true_divide\n",
      "  recall = tps / tps[-1]\n",
      "/Users/luca/anaconda/envs/py35_pd20/lib/python3.5/site-packages/sklearn/metrics/classification.py:1137: UndefinedMetricWarning: Recall is ill-defined and being set to 0.0 due to no true samples.\n",
      "  'recall', 'true', average, warn_for)\n"
     ]
    },
    {
     "name": "stdout",
     "output_type": "stream",
     "text": [
      "only 1 class in test data - cannot compute roc curve\n",
      "\n",
      "Subj/Visit 9, prec=0.000, rec=0.000, Spec=0.930, auroc_train=1.000, auroc=nan\n",
      "\n",
      "Subj/Visit 10, prec=0.000, rec=0.000, Spec=0.944, auroc_train=1.000, auroc=0.504\n"
     ]
    },
    {
     "name": "stderr",
     "output_type": "stream",
     "text": [
      "/Users/luca/anaconda/envs/py35_pd20/lib/python3.5/site-packages/sklearn/metrics/classification.py:1137: UndefinedMetricWarning: F-score is ill-defined and being set to 0.0 due to no true samples.\n",
      "  'recall', 'true', average, warn_for)\n",
      "/Users/luca/anaconda/envs/py35_pd20/lib/python3.5/site-packages/sklearn/metrics/ranking.py:420: RuntimeWarning: invalid value encountered in true_divide\n",
      "  recall = tps / tps[-1]\n",
      "/Users/luca/anaconda/envs/py35_pd20/lib/python3.5/site-packages/sklearn/metrics/classification.py:1137: UndefinedMetricWarning: Recall is ill-defined and being set to 0.0 due to no true samples.\n",
      "  'recall', 'true', average, warn_for)\n"
     ]
    },
    {
     "name": "stdout",
     "output_type": "stream",
     "text": [
      "only 1 class in test data - cannot compute roc curve\n",
      "\n",
      "Subj/Visit 11, prec=0.000, rec=0.000, Spec=0.985, auroc_train=1.000, auroc=nan\n",
      "\n",
      "Subj/Visit 12, prec=0.691, rec=0.506, Spec=0.748, auroc_train=1.000, auroc=0.672\n"
     ]
    },
    {
     "name": "stderr",
     "output_type": "stream",
     "text": [
      "/Users/luca/anaconda/envs/py35_pd20/lib/python3.5/site-packages/sklearn/metrics/classification.py:1137: UndefinedMetricWarning: F-score is ill-defined and being set to 0.0 due to no true samples.\n",
      "  'recall', 'true', average, warn_for)\n",
      "/Users/luca/anaconda/envs/py35_pd20/lib/python3.5/site-packages/sklearn/metrics/ranking.py:420: RuntimeWarning: invalid value encountered in true_divide\n",
      "  recall = tps / tps[-1]\n",
      "/Users/luca/anaconda/envs/py35_pd20/lib/python3.5/site-packages/sklearn/metrics/classification.py:1137: UndefinedMetricWarning: Recall is ill-defined and being set to 0.0 due to no true samples.\n",
      "  'recall', 'true', average, warn_for)\n"
     ]
    },
    {
     "name": "stdout",
     "output_type": "stream",
     "text": [
      "only 1 class in test data - cannot compute roc curve\n",
      "\n",
      "Subj/Visit 13, prec=0.000, rec=0.000, Spec=0.913, auroc_train=1.000, auroc=nan\n",
      "\n",
      "Subj/Visit 14, prec=0.365, rec=0.342, Spec=0.909, auroc_train=1.000, auroc=0.728\n"
     ]
    },
    {
     "name": "stderr",
     "output_type": "stream",
     "text": [
      "/Users/luca/anaconda/envs/py35_pd20/lib/python3.5/site-packages/sklearn/metrics/classification.py:1137: UndefinedMetricWarning: F-score is ill-defined and being set to 0.0 due to no true samples.\n",
      "  'recall', 'true', average, warn_for)\n",
      "/Users/luca/anaconda/envs/py35_pd20/lib/python3.5/site-packages/sklearn/metrics/ranking.py:420: RuntimeWarning: invalid value encountered in true_divide\n",
      "  recall = tps / tps[-1]\n",
      "/Users/luca/anaconda/envs/py35_pd20/lib/python3.5/site-packages/sklearn/metrics/classification.py:1137: UndefinedMetricWarning: Recall is ill-defined and being set to 0.0 due to no true samples.\n",
      "  'recall', 'true', average, warn_for)\n"
     ]
    },
    {
     "name": "stdout",
     "output_type": "stream",
     "text": [
      "only 1 class in test data - cannot compute roc curve\n",
      "\n",
      "Subj/Visit 15, prec=0.000, rec=0.000, Spec=0.971, auroc_train=1.000, auroc=nan\n"
     ]
    },
    {
     "name": "stderr",
     "output_type": "stream",
     "text": [
      "/Users/luca/anaconda/envs/py35_pd20/lib/python3.5/site-packages/sklearn/metrics/classification.py:1137: UndefinedMetricWarning: F-score is ill-defined and being set to 0.0 due to no true samples.\n",
      "  'recall', 'true', average, warn_for)\n",
      "/Users/luca/anaconda/envs/py35_pd20/lib/python3.5/site-packages/sklearn/metrics/ranking.py:420: RuntimeWarning: invalid value encountered in true_divide\n",
      "  recall = tps / tps[-1]\n",
      "/Users/luca/anaconda/envs/py35_pd20/lib/python3.5/site-packages/sklearn/metrics/classification.py:1137: UndefinedMetricWarning: Recall is ill-defined and being set to 0.0 due to no true samples.\n",
      "  'recall', 'true', average, warn_for)\n"
     ]
    },
    {
     "name": "stdout",
     "output_type": "stream",
     "text": [
      "only 1 class in test data - cannot compute roc curve\n",
      "\n",
      "Subj/Visit 16, prec=0.000, rec=0.000, Spec=0.957, auroc_train=1.000, auroc=nan\n",
      "\n",
      "Subj/Visit 17, prec=0.852, rec=0.176, Spec=0.821, auroc_train=1.000, auroc=0.430\n",
      "\n",
      "Subj/Visit 18, prec=0.879, rec=0.269, Spec=0.867, auroc_train=1.000, auroc=0.624\n",
      "f1_test=0.176+/-0.199, prec=0.348+/-0.376, rec=0.133+/-0.159, auprc=0.481+/-0.343, auroc=0.569+/-0.151\n",
      "\n",
      " ['Motor #7: Drawing on Paper' 'Motor #8: Typing on a Computer'\n",
      " 'Motor #9: Nuts and Bolts']\n",
      "Rows w Tremor 2227/10303 = 0.22\n",
      "Training Random Forest\n",
      "\n",
      "Subj/Visit 0, prec=0.241, rec=0.140, Spec=0.955, auroc_train=1.000, auroc=0.782\n",
      "\n",
      "Subj/Visit 1, prec=0.905, rec=0.083, Spec=0.994, auroc_train=1.000, auroc=0.805\n",
      "\n",
      "Subj/Visit 2, prec=1.000, rec=0.077, Spec=1.000, auroc_train=1.000, auroc=0.823\n"
     ]
    },
    {
     "name": "stderr",
     "output_type": "stream",
     "text": [
      "/Users/luca/anaconda/envs/py35_pd20/lib/python3.5/site-packages/sklearn/metrics/classification.py:1137: UndefinedMetricWarning: F-score is ill-defined and being set to 0.0 due to no true samples.\n",
      "  'recall', 'true', average, warn_for)\n",
      "/Users/luca/anaconda/envs/py35_pd20/lib/python3.5/site-packages/sklearn/metrics/ranking.py:420: RuntimeWarning: invalid value encountered in true_divide\n",
      "  recall = tps / tps[-1]\n",
      "/Users/luca/anaconda/envs/py35_pd20/lib/python3.5/site-packages/sklearn/metrics/classification.py:1137: UndefinedMetricWarning: Recall is ill-defined and being set to 0.0 due to no true samples.\n",
      "  'recall', 'true', average, warn_for)\n"
     ]
    },
    {
     "name": "stdout",
     "output_type": "stream",
     "text": [
      "only 1 class in test data - cannot compute roc curve\n",
      "\n",
      "Subj/Visit 3, prec=0.000, rec=0.000, Spec=0.931, auroc_train=1.000, auroc=nan\n",
      "\n",
      "Subj/Visit 4, prec=0.364, rec=0.019, Spec=0.982, auroc_train=1.000, auroc=0.667\n",
      "\n",
      "Subj/Visit 5, prec=0.658, rec=0.200, Spec=0.922, auroc_train=1.000, auroc=0.676\n"
     ]
    },
    {
     "name": "stderr",
     "output_type": "stream",
     "text": [
      "/Users/luca/anaconda/envs/py35_pd20/lib/python3.5/site-packages/sklearn/metrics/ranking.py:420: RuntimeWarning: invalid value encountered in true_divide\n",
      "  recall = tps / tps[-1]\n"
     ]
    },
    {
     "name": "stdout",
     "output_type": "stream",
     "text": [
      "only 1 class in test data - cannot compute roc curve\n",
      "\n",
      "Subj/Visit 6, prec=0.000, rec=0.000, Spec=1.000, auroc_train=1.000, auroc=nan\n",
      "\n",
      "Subj/Visit 7, prec=0.000, rec=0.000, Spec=0.998, auroc_train=1.000, auroc=0.807\n",
      "\n",
      "Subj/Visit 8, prec=0.963, rec=0.270, Spec=0.980, auroc_train=1.000, auroc=0.845\n"
     ]
    },
    {
     "name": "stderr",
     "output_type": "stream",
     "text": [
      "/Users/luca/anaconda/envs/py35_pd20/lib/python3.5/site-packages/sklearn/metrics/classification.py:1137: UndefinedMetricWarning: F-score is ill-defined and being set to 0.0 due to no true samples.\n",
      "  'recall', 'true', average, warn_for)\n",
      "/Users/luca/anaconda/envs/py35_pd20/lib/python3.5/site-packages/sklearn/metrics/ranking.py:420: RuntimeWarning: invalid value encountered in true_divide\n",
      "  recall = tps / tps[-1]\n",
      "/Users/luca/anaconda/envs/py35_pd20/lib/python3.5/site-packages/sklearn/metrics/classification.py:1137: UndefinedMetricWarning: Recall is ill-defined and being set to 0.0 due to no true samples.\n",
      "  'recall', 'true', average, warn_for)\n"
     ]
    },
    {
     "name": "stdout",
     "output_type": "stream",
     "text": [
      "only 1 class in test data - cannot compute roc curve\n",
      "\n",
      "Subj/Visit 9, prec=0.000, rec=0.000, Spec=0.956, auroc_train=1.000, auroc=nan\n",
      "\n",
      "Subj/Visit 10, prec=0.000, rec=0.000, Spec=0.952, auroc_train=1.000, auroc=0.418\n"
     ]
    },
    {
     "name": "stderr",
     "output_type": "stream",
     "text": [
      "/Users/luca/anaconda/envs/py35_pd20/lib/python3.5/site-packages/sklearn/metrics/classification.py:1137: UndefinedMetricWarning: F-score is ill-defined and being set to 0.0 due to no true samples.\n",
      "  'recall', 'true', average, warn_for)\n",
      "/Users/luca/anaconda/envs/py35_pd20/lib/python3.5/site-packages/sklearn/metrics/ranking.py:420: RuntimeWarning: invalid value encountered in true_divide\n",
      "  recall = tps / tps[-1]\n",
      "/Users/luca/anaconda/envs/py35_pd20/lib/python3.5/site-packages/sklearn/metrics/classification.py:1137: UndefinedMetricWarning: Recall is ill-defined and being set to 0.0 due to no true samples.\n",
      "  'recall', 'true', average, warn_for)\n"
     ]
    },
    {
     "name": "stdout",
     "output_type": "stream",
     "text": [
      "only 1 class in test data - cannot compute roc curve\n",
      "\n",
      "Subj/Visit 11, prec=0.000, rec=0.000, Spec=0.995, auroc_train=1.000, auroc=nan\n",
      "\n",
      "Subj/Visit 12, prec=0.699, rec=0.657, Spec=0.768, auroc_train=1.000, auroc=0.777\n"
     ]
    },
    {
     "name": "stderr",
     "output_type": "stream",
     "text": [
      "/Users/luca/anaconda/envs/py35_pd20/lib/python3.5/site-packages/sklearn/metrics/classification.py:1137: UndefinedMetricWarning: F-score is ill-defined and being set to 0.0 due to no true samples.\n",
      "  'recall', 'true', average, warn_for)\n",
      "/Users/luca/anaconda/envs/py35_pd20/lib/python3.5/site-packages/sklearn/metrics/ranking.py:420: RuntimeWarning: invalid value encountered in true_divide\n",
      "  recall = tps / tps[-1]\n",
      "/Users/luca/anaconda/envs/py35_pd20/lib/python3.5/site-packages/sklearn/metrics/classification.py:1137: UndefinedMetricWarning: Recall is ill-defined and being set to 0.0 due to no true samples.\n",
      "  'recall', 'true', average, warn_for)\n"
     ]
    },
    {
     "name": "stdout",
     "output_type": "stream",
     "text": [
      "only 1 class in test data - cannot compute roc curve\n",
      "\n",
      "Subj/Visit 13, prec=0.000, rec=0.000, Spec=0.979, auroc_train=1.000, auroc=nan\n",
      "\n",
      "Subj/Visit 14, prec=0.133, rec=0.051, Spec=0.967, auroc_train=1.000, auroc=0.586\n"
     ]
    },
    {
     "name": "stderr",
     "output_type": "stream",
     "text": [
      "/Users/luca/anaconda/envs/py35_pd20/lib/python3.5/site-packages/sklearn/metrics/classification.py:1137: UndefinedMetricWarning: F-score is ill-defined and being set to 0.0 due to no true samples.\n",
      "  'recall', 'true', average, warn_for)\n",
      "/Users/luca/anaconda/envs/py35_pd20/lib/python3.5/site-packages/sklearn/metrics/ranking.py:420: RuntimeWarning: invalid value encountered in true_divide\n",
      "  recall = tps / tps[-1]\n",
      "/Users/luca/anaconda/envs/py35_pd20/lib/python3.5/site-packages/sklearn/metrics/classification.py:1137: UndefinedMetricWarning: Recall is ill-defined and being set to 0.0 due to no true samples.\n",
      "  'recall', 'true', average, warn_for)\n"
     ]
    },
    {
     "name": "stdout",
     "output_type": "stream",
     "text": [
      "only 1 class in test data - cannot compute roc curve\n",
      "\n",
      "Subj/Visit 15, prec=0.000, rec=0.000, Spec=0.990, auroc_train=1.000, auroc=nan\n"
     ]
    },
    {
     "name": "stderr",
     "output_type": "stream",
     "text": [
      "/Users/luca/anaconda/envs/py35_pd20/lib/python3.5/site-packages/sklearn/metrics/classification.py:1137: UndefinedMetricWarning: F-score is ill-defined and being set to 0.0 due to no true samples.\n",
      "  'recall', 'true', average, warn_for)\n",
      "/Users/luca/anaconda/envs/py35_pd20/lib/python3.5/site-packages/sklearn/metrics/ranking.py:420: RuntimeWarning: invalid value encountered in true_divide\n",
      "  recall = tps / tps[-1]\n",
      "/Users/luca/anaconda/envs/py35_pd20/lib/python3.5/site-packages/sklearn/metrics/classification.py:1137: UndefinedMetricWarning: Recall is ill-defined and being set to 0.0 due to no true samples.\n",
      "  'recall', 'true', average, warn_for)\n"
     ]
    },
    {
     "name": "stdout",
     "output_type": "stream",
     "text": [
      "only 1 class in test data - cannot compute roc curve\n",
      "\n",
      "Subj/Visit 16, prec=0.000, rec=0.000, Spec=0.986, auroc_train=1.000, auroc=nan\n",
      "\n",
      "Subj/Visit 17, prec=0.968, rec=0.276, Spec=0.975, auroc_train=1.000, auroc=0.789\n",
      "\n",
      "Subj/Visit 18, prec=0.915, rec=0.328, Spec=0.942, auroc_train=1.000, auroc=0.780\n",
      "f1_test=0.153+/-0.204, prec=0.360+/-0.409, rec=0.111+/-0.167, auprc=0.501+/-0.320, auroc=0.730+/-0.119\n"
     ]
    },
    {
     "data": {
      "image/png": "[encoded data removed]",
      "text/plain": [
       "<matplotlib.figure.Figure at 0x11a6a2cc0>"
      ]
     },
     "metadata": {},
     "output_type": "display_data"
    },
    {
     "data": {
      "image/png": "[encoded data removed]",
      "text/plain": [
       "<matplotlib.figure.Figure at 0x118236e10>"
      ]
     },
     "metadata": {},
     "output_type": "display_data"
    },
    {
     "data": {
      "image/png": "[encoded data removed]",
      "text/plain": [
       "<matplotlib.figure.Figure at 0x11a6a23c8>"
      ]
     },
     "metadata": {},
     "output_type": "display_data"
    },
    {
     "data": {
      "image/png": "[encoded data removed]",
      "text/plain": [
       "<matplotlib.figure.Figure at 0x11a6bb2b0>"
      ]
     },
     "metadata": {},
     "output_type": "display_data"
    },
    {
     "data": {
      "image/png": "[encoded data removed]",
      "text/plain": [
       "<matplotlib.figure.Figure at 0x11f47b898>"
      ]
     },
     "metadata": {},
     "output_type": "display_data"
    },
    {
     "data": {
      "image/png": "[encoded data removed]",
      "text/plain": [
       "<matplotlib.figure.Figure at 0x11a5fe400>"
      ]
     },
     "metadata": {},
     "output_type": "display_data"
    },
    {
     "data": {
      "image/png": "[encoded data removed]",
      "text/plain": [
       "<matplotlib.figure.Figure at 0x115a73cf8>"
      ]
     },
     "metadata": {},
     "output_type": "display_data"
    },
    {
     "data": {
      "image/png": "[encoded data removed]",
      "text/plain": [
       "<matplotlib.figure.Figure at 0x120d4ae80>"
      ]
     },
     "metadata": {},
     "output_type": "display_data"
    }
   ],
   "source": [
    "results_task = pd.DataFrame(data=[]) #sae auc for each subject and set of tasks\n",
    "\n",
    "for i,T in enumerate(tasks): \n",
    "    #select group of tasks (A,B,..)\n",
    "    Data=pd.DataFrame()\n",
    "    for t in T:\n",
    "        Data=pd.concat((Data,Dataorig[Dataorig.Task==t]))\n",
    "    \n",
    "    print('\\n %s'%Data.Task.unique())\n",
    "    \n",
    "    #show symptoms per group of tasks\n",
    "    BradP=[]; TremorP=[]; subjs = []\n",
    "    for s in Data['Subject'].unique():\n",
    "        d = Data.loc[Data['Subject']==s]\n",
    "        BradP.append(sum(d['Bradykinesia'] > 0)/len(d['Bradykinesia']))\n",
    "        TremorP.append(sum(d['Tremor'] > 0)/len(d['Tremor']))\n",
    "        subjs.append(s)\n",
    "    fig = plt.figure(figsize=(16,4))\n",
    "    fig.add_subplot(121)\n",
    "    sns.barplot(x=np.arange(len(BradP)),y=BradP)\n",
    "    ax=plt.xticks(np.arange(len(BradP)),subjs,rotation=90)\n",
    "    plt.title('Bradykinesia - Symptoms > 0 - Tasks %d'%(i)), plt.xlabel('Subj')\n",
    "    plt.ylim([0,1])\n",
    "    fig.add_subplot(122)\n",
    "    sns.barplot(x=np.arange(len(TremorP)),y=TremorP)\n",
    "    plt.title('Tremor - Symptoms > 0 per Subj'), plt.xlabel('Subj')\n",
    "    ax=plt.xticks(np.arange(len(BradP)),subjs,rotation=90)\n",
    "    plt.ylim([0,1])\n",
    "    \n",
    "    #train clf on subtasks\n",
    "    res_all = pd.DataFrame()\n",
    "    fnames = Data.iloc[:,7:].columns\n",
    "    for symptom in ['Tremor']:\n",
    "        \n",
    "        #remove nan rows for current symptom\n",
    "        Data=Data[~Data[symptom].isnull()]\n",
    "        X = Data.iloc[:,7:].as_matrix()\n",
    "        # X = StandardScaler().fit_transform(X)\n",
    "\n",
    "        #use all data\n",
    "        indp = ((Data[symptom]>0))\n",
    "        indp = indp.values\n",
    "        y = indp.astype(int) #target \n",
    "        groups = Data.Subject.as_matrix()\n",
    "\n",
    "    #     #balance classes\n",
    "    #     X = Data.iloc[np.hstack((indp_new,indn_new)),7:].as_matrix()  \n",
    "    #     y = Data.iloc[np.hstack((indp_new,indn_new))][symptom]  \n",
    "    #     y=(y>0).values.astype(int)\n",
    "    #     groups=Data.iloc[np.hstack((indp_new,indn_new))]['Subject']\n",
    "\n",
    "        print('Rows w %s %d/%d = %.2f'%(symptom,sum(y),len(y),(sum(y)/len(y))))\n",
    "        models = [RandomForestClassifier(n_estimators=50,random_state=0)]#,GradientBoostingClassifier()]\n",
    "                  #SVC(cache_size=800,probability=True)]          \n",
    "        model_name = ['Random Forest']#,'GB']#,'SVM']#,'XGB']\n",
    "        models = list(zip(models,model_name))\n",
    "        res,res_group = LOSOCV(Data,X,y,groups,models)\n",
    "        res_all = pd.concat((res_all,res))\n",
    "        \n",
    "        #plot results\n",
    "        le = LabelEncoder()\n",
    "        subj = le.fit_transform(np.unique(groups))\n",
    "        aurocall = res_group['Random Forest']['auroc']\n",
    "        plt.figure()\n",
    "        ax=sns.barplot(x=np.arange(len(np.unique(subj))),y=aurocall)\n",
    "        plt.xlabel('Subject')\n",
    "        plt.ylim([0.45,1.])\n",
    "        plt.title('Mean AUROC = %.3f +/- %.3f'%(np.nanmean(aurocall),np.nanstd(aurocall)))\n",
    "        \n",
    "        r = pd.DataFrame({i:res_group['Random Forest']['auroc']})\n",
    "        results_task=pd.concat((results_task,r),axis=1)\n",
    "\n",
    "\n",
    "results_task=results_task.rename(columns={0: \"Structured\", 1: \"Walking\", 2:'Gross',3:'Fine'})\n"
   ]
  },
  {
   "cell_type": "code",
   "execution_count": 155,
   "metadata": {
    "collapsed": false
   },
   "outputs": [
    {
     "data": {
      "text/html": [
       "<div>\n",
       "<style>\n",
       "    .dataframe thead tr:only-child th {\n",
       "        text-align: right;\n",
       "    }\n",
       "\n",
       "    .dataframe thead th {\n",
       "        text-align: left;\n",
       "    }\n",
       "\n",
       "    .dataframe tbody tr th {\n",
       "        vertical-align: top;\n",
       "    }\n",
       "</style>\n",
       "<table border=\"1\" class=\"dataframe\">\n",
       "  <thead>\n",
       "    <tr style=\"text-align: right;\">\n",
       "      <th></th>\n",
       "      <th>Structured</th>\n",
       "      <th>Walking</th>\n",
       "      <th>Gross</th>\n",
       "      <th>Fine</th>\n",
       "    </tr>\n",
       "  </thead>\n",
       "  <tbody>\n",
       "    <tr>\n",
       "      <th>0</th>\n",
       "      <td>0.922903</td>\n",
       "      <td>NaN</td>\n",
       "      <td>0.707092</td>\n",
       "      <td>0.781829</td>\n",
       "    </tr>\n",
       "    <tr>\n",
       "      <th>1</th>\n",
       "      <td>0.647593</td>\n",
       "      <td>NaN</td>\n",
       "      <td>0.531026</td>\n",
       "      <td>0.804820</td>\n",
       "    </tr>\n",
       "    <tr>\n",
       "      <th>2</th>\n",
       "      <td>0.929889</td>\n",
       "      <td>NaN</td>\n",
       "      <td>0.555182</td>\n",
       "      <td>0.822650</td>\n",
       "    </tr>\n",
       "    <tr>\n",
       "      <th>3</th>\n",
       "      <td>0.852089</td>\n",
       "      <td>NaN</td>\n",
       "      <td>0.509034</td>\n",
       "      <td>NaN</td>\n",
       "    </tr>\n",
       "    <tr>\n",
       "      <th>4</th>\n",
       "      <td>0.682934</td>\n",
       "      <td>NaN</td>\n",
       "      <td>0.587154</td>\n",
       "      <td>0.667278</td>\n",
       "    </tr>\n",
       "    <tr>\n",
       "      <th>5</th>\n",
       "      <td>0.722296</td>\n",
       "      <td>0.123789</td>\n",
       "      <td>0.664273</td>\n",
       "      <td>0.676325</td>\n",
       "    </tr>\n",
       "    <tr>\n",
       "      <th>6</th>\n",
       "      <td>0.939076</td>\n",
       "      <td>NaN</td>\n",
       "      <td>0.152212</td>\n",
       "      <td>NaN</td>\n",
       "    </tr>\n",
       "    <tr>\n",
       "      <th>7</th>\n",
       "      <td>0.565590</td>\n",
       "      <td>NaN</td>\n",
       "      <td>NaN</td>\n",
       "      <td>0.807216</td>\n",
       "    </tr>\n",
       "    <tr>\n",
       "      <th>8</th>\n",
       "      <td>0.404558</td>\n",
       "      <td>0.636013</td>\n",
       "      <td>0.730609</td>\n",
       "      <td>0.844780</td>\n",
       "    </tr>\n",
       "    <tr>\n",
       "      <th>9</th>\n",
       "      <td>0.838497</td>\n",
       "      <td>NaN</td>\n",
       "      <td>NaN</td>\n",
       "      <td>NaN</td>\n",
       "    </tr>\n",
       "    <tr>\n",
       "      <th>10</th>\n",
       "      <td>0.636905</td>\n",
       "      <td>0.944747</td>\n",
       "      <td>0.504450</td>\n",
       "      <td>0.418348</td>\n",
       "    </tr>\n",
       "    <tr>\n",
       "      <th>11</th>\n",
       "      <td>0.907986</td>\n",
       "      <td>NaN</td>\n",
       "      <td>NaN</td>\n",
       "      <td>NaN</td>\n",
       "    </tr>\n",
       "    <tr>\n",
       "      <th>12</th>\n",
       "      <td>0.631652</td>\n",
       "      <td>0.949702</td>\n",
       "      <td>0.671752</td>\n",
       "      <td>0.776932</td>\n",
       "    </tr>\n",
       "    <tr>\n",
       "      <th>13</th>\n",
       "      <td>0.880000</td>\n",
       "      <td>NaN</td>\n",
       "      <td>NaN</td>\n",
       "      <td>NaN</td>\n",
       "    </tr>\n",
       "    <tr>\n",
       "      <th>14</th>\n",
       "      <td>0.565315</td>\n",
       "      <td>NaN</td>\n",
       "      <td>0.728401</td>\n",
       "      <td>0.586466</td>\n",
       "    </tr>\n",
       "    <tr>\n",
       "      <th>15</th>\n",
       "      <td>NaN</td>\n",
       "      <td>NaN</td>\n",
       "      <td>NaN</td>\n",
       "      <td>NaN</td>\n",
       "    </tr>\n",
       "    <tr>\n",
       "      <th>16</th>\n",
       "      <td>0.874635</td>\n",
       "      <td>NaN</td>\n",
       "      <td>NaN</td>\n",
       "      <td>NaN</td>\n",
       "    </tr>\n",
       "    <tr>\n",
       "      <th>17</th>\n",
       "      <td>0.751230</td>\n",
       "      <td>0.803509</td>\n",
       "      <td>0.429798</td>\n",
       "      <td>0.789108</td>\n",
       "    </tr>\n",
       "    <tr>\n",
       "      <th>18</th>\n",
       "      <td>0.747115</td>\n",
       "      <td>0.798819</td>\n",
       "      <td>0.623573</td>\n",
       "      <td>0.779747</td>\n",
       "    </tr>\n",
       "  </tbody>\n",
       "</table>\n",
       "</div>"
      ],
      "text/plain": [
       "    Structured   Walking     Gross      Fine\n",
       "0     0.922903       NaN  0.707092  0.781829\n",
       "1     0.647593       NaN  0.531026  0.804820\n",
       "2     0.929889       NaN  0.555182  0.822650\n",
       "3     0.852089       NaN  0.509034       NaN\n",
       "4     0.682934       NaN  0.587154  0.667278\n",
       "5     0.722296  0.123789  0.664273  0.676325\n",
       "6     0.939076       NaN  0.152212       NaN\n",
       "7     0.565590       NaN       NaN  0.807216\n",
       "8     0.404558  0.636013  0.730609  0.844780\n",
       "9     0.838497       NaN       NaN       NaN\n",
       "10    0.636905  0.944747  0.504450  0.418348\n",
       "11    0.907986       NaN       NaN       NaN\n",
       "12    0.631652  0.949702  0.671752  0.776932\n",
       "13    0.880000       NaN       NaN       NaN\n",
       "14    0.565315       NaN  0.728401  0.586466\n",
       "15         NaN       NaN       NaN       NaN\n",
       "16    0.874635       NaN       NaN       NaN\n",
       "17    0.751230  0.803509  0.429798  0.789108\n",
       "18    0.747115  0.798819  0.623573  0.779747"
      ]
     },
     "execution_count": 155,
     "metadata": {},
     "output_type": "execute_result"
    }
   ],
   "source": [
    "results_task"
   ]
  },
  {
   "cell_type": "code",
   "execution_count": 110,
   "metadata": {
    "collapsed": false
   },
   "outputs": [
    {
     "data": {
      "text/plain": [
       "<matplotlib.axes._subplots.AxesSubplot at 0x119991198>"
      ]
     },
     "execution_count": 110,
     "metadata": {},
     "output_type": "execute_result"
    },
    {
     "data": {
      "image/png": "[encoded data removed]",
      "text/plain": [
       "<matplotlib.figure.Figure at 0x1164bef60>"
      ]
     },
     "metadata": {},
     "output_type": "display_data"
    }
   ],
   "source": [
    "results_task.plot(kind='box')\n",
    "plt.title('Tremor')"
   ]
  },
  {
   "cell_type": "code",
   "execution_count": 147,
   "metadata": {
    "collapsed": false
   },
   "outputs": [
    {
     "data": {
      "text/plain": [
       "<matplotlib.text.Text at 0x111a1c6d8>"
      ]
     },
     "execution_count": 147,
     "metadata": {},
     "output_type": "execute_result"
    },
    {
     "data": {
      "image/png": "[encoded data removed]",
      "text/plain": [
       "<matplotlib.figure.Figure at 0x1136f8f98>"
      ]
     },
     "metadata": {},
     "output_type": "display_data"
    }
   ],
   "source": [
    "results_task.plot(kind='box')\n",
    "plt.title('Tremor')"
   ]
  }
 ],
 "metadata": {
  "anaconda-cloud": {},
  "celltoolbar": "Raw Cell Format",
  "kernelspec": {
   "display_name": "Python [conda env:py35_pd20]",
   "language": "python",
   "name": "conda-env-py35_pd20-py"
  },
  "language_info": {
   "codemirror_mode": {
    "name": "ipython",
    "version": 3
   },
   "file_extension": ".py",
   "mimetype": "text/x-python",
   "name": "python",
   "nbconvert_exporter": "python",
   "pygments_lexer": "ipython3",
   "version": "3.5.2"
  }
 },
 "nbformat": 4,
 "nbformat_minor": 2
}
