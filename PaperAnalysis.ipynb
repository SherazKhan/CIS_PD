{
 "cells": [
  {
   "cell_type": "code",
   "execution_count": 1,
   "metadata": {},
   "outputs": [],
   "source": [
    "import os\n",
    "import platform\n",
    "import numpy as np\n",
    "import pandas as pd\n",
    "import seaborn as sns\n",
    "import matplotlib.pyplot as plt\n",
    "import datetime as dt\n",
    "import pathlib\n",
    "import pickle #to save files\n",
    "from itertools import product\n",
    "from scipy.stats import skew, kurtosis, wilcoxon\n",
    "from scipy.signal import butter, welch, filtfilt, resample\n",
    "from scipy import stats\n",
    "# import xgboost as xgb\n",
    "# from xgboost.sklearn import XGBClassifier #this is the SKlearn wrapper\n",
    "from sklearn.metrics import confusion_matrix, auc, f1_score, roc_auc_score, precision_score, recall_score, precision_recall_curve\n",
    "from sklearn.model_selection import train_test_split\n",
    "from sklearn.preprocessing import LabelEncoder, StandardScaler\n",
    "from sklearn import svm\n",
    "import time\n",
    "\n",
    "from PreprocessFcns import *\n",
    "\n",
    "from mpl_toolkits.mplot3d import Axes3D\n",
    "%matplotlib inline\n",
    "\n",
    "sns.set_context('talk',font_scale=1)\n",
    "#-- For interactive plots--\n",
    "# from mpl_toolkits.mplot3d import Axes3D\n",
    "# %matplotlib notebook"
   ]
  },
  {
   "cell_type": "markdown",
   "metadata": {},
   "source": [
    "## Helper fcns"
   ]
  },
  {
   "cell_type": "code",
   "execution_count": 2,
   "metadata": {},
   "outputs": [],
   "source": [
    "def LOSOCV(Data,X,y,groups,models,LOin=0):\n",
    "\n",
    "    subj = LeaveOneGroupOut() \n",
    "    results = pd.DataFrame(data=None,columns=['model','f1','auprc','auroc'])\n",
    "    groupres = {} #results on each group for each model\n",
    "\n",
    "\n",
    "    #train multiple classifiers\n",
    "    for m in models:\n",
    "        acc_all=[]; acc_train=[] \n",
    "        f1_test_all=[]; prec_all=[]; rec_all=[]; spec_all=[]; auprc_all=[]; auroc_train_all=[]; \n",
    "        auroc_all=[]; fpr_all=[]; tpr_all=[]; fi_all=[]\n",
    "\n",
    "        clf = m[0]; model_name = m[1]            \n",
    "        print('Training %s'%model_name)\n",
    "        s = 0\n",
    "        #LOSO CV for current classifier\n",
    "        for train_index, test_index in subj.split(X, y, groups):\n",
    "        #leave one in:\n",
    "            if LOin:\n",
    "                tridx = train_index.copy()\n",
    "                train_index = test_index.copy()\n",
    "                test_index = tridx\n",
    "            Xtr, Xte = X[train_index], X[test_index]\n",
    "            ytr, yte = y[train_index], y[test_index]\n",
    "            if len(np.unique(ytr))<2: #skip if no positive or negative examples are available for training\n",
    "                print('only 1 class available in train data - skipping')\n",
    "                continue\n",
    "            clf.fit(Xtr,ytr)\n",
    "            ypred = clf.predict(Xte)\n",
    "            yscore = clf.predict_proba(Xte)\n",
    "            yscore = yscore[:,1]\n",
    "            \n",
    "            #accuracy on train set\n",
    "            ypred_train = clf.predict(Xtr)\n",
    "            acc_train.append(sum(ypred_train==ytr)/len(ytr))\n",
    "            auroc_train = roc_auc_score(ytr,clf.predict_proba(Xtr)[:,1])\n",
    "            \n",
    "            #f1-score, prec, recall, specificity, auprc, auroc\n",
    "            f1_test_all.append(f1_score(yte,ypred))\n",
    "            precision, recall, _ = precision_recall_curve(yte,yscore)\n",
    "            auprc = auc(recall,precision)\n",
    "            if len(np.unique(yte))>1:\n",
    "                auroc = roc_auc_score(yte,yscore)\n",
    "            else:\n",
    "                print('only 1 class in test data - cannot compute roc curve')\n",
    "                auroc = np.nan\n",
    "            spec = sum((ypred==0) & (yte==0))/sum(yte==0)\n",
    "\n",
    "\n",
    "            prec_all.append(precision_score(yte,ypred))\n",
    "            rec_all.append(recall_score(yte,ypred))\n",
    "            auprc_all.append(auprc)\n",
    "            auroc_all.append(auroc)\n",
    "            auroc_train_all.append(auroc_train)\n",
    "            spec_all.append(spec)\n",
    "            \n",
    "            #the recall per task - TO BE COMPLETED\n",
    "            \n",
    "#             tasks=Data.iloc[test_index,:].Task\n",
    "#             for t in tasks.unique():\n",
    "#                 tasks\n",
    "            \n",
    "            #compute ROC points at fixed fpr (to plot error bars)\n",
    "            fpr=np.linspace(0,1,101); tpr=[]\n",
    "\n",
    "            if len(np.unique(yte))>1:                \n",
    "                nscores = np.sort(np.column_stack((yscore[yte==0],yte[yte==0])),axis=0)\n",
    "                neg_counts = sum(yte==0)\n",
    "                for f in fpr:\n",
    "                    ind = neg_counts-int(neg_counts*f)-1\n",
    "                    t = (nscores[ind])[0]\n",
    "                    if f==1:\n",
    "                        t = 0\n",
    "                    tpr_t = sum(yscore[yte==1]>t) / sum(yte==1)\n",
    "                    tpr.append(tpr_t) \n",
    "\n",
    "            fpr = np.asarray(fpr); tpr = np.asarray(tpr)\n",
    "            fpr_all.append(fpr); tpr_all.append(tpr)\n",
    "            \n",
    "            #store feature importance\n",
    "            if model_name != 'SVM':\n",
    "                fi_all.append(clf.feature_importances_)\n",
    "            \n",
    "            print('\\nSubj/Visit %d, prec=%.3f, rec=%.3f, Spec=%.3f, auroc_train=%.3f, auroc=%.3f'%(s,precision_score(yte,ypred),recall_score(yte,ypred),\n",
    "                                                                                 spec,auroc_train,auroc))\n",
    "            s+=1\n",
    "\n",
    "        print('f1_test=%.3f+/-%.3f, prec=%.3f+/-%.3f, rec=%.3f+/-%.3f, auprc=%.3f+/-%.3f, auroc=%.3f+/-%.3f'%(\n",
    "        np.nanmean(f1_test_all),np.nanstd(f1_test_all),\n",
    "        np.nanmean(prec_all),np.nanstd(prec_all), np.nanmean(rec_all),np.nanstd(rec_all),\n",
    "        np.nanmean(auprc_all),np.nanstd(auprc_all), np.nanmean(auroc_all),np.nanstd(auroc_all)))\n",
    "        \n",
    "        #group results for each model\n",
    "        groupres[model_name] = {'f1':f1_test_all, 'auprc':auprc_all, 'auroc':auroc_all, 'tpr':tpr_all, 'fpr':fpr_all, \n",
    "                                'rec':rec_all, 'spec':spec_all, 'fi':fi_all}\n",
    "        \n",
    "        #mean across groups for each model\n",
    "        r = pd.DataFrame({'model':model_name, 'f1':np.nanmean(f1_test_all), 'auprc':np.nanmean(auprc_all), 'auroc':np.nanmean(auroc_all)}\n",
    "                        ,index=[0])\n",
    "        results = pd.concat((results,r))\n",
    "        \n",
    "    return results,groupres \n",
    "    \n",
    "\n",
    "#train multiple classifiers using stratified kfold\n",
    "def trainmodel_Kfold(Xf,y,models,nfolds=5,balance=False):\n",
    "\n",
    "    scaler = StandardScaler()\n",
    "    f1_fold_clf=[]; auc_fold_clf=[]; cmats={}\n",
    "\n",
    "    skf = StratifiedKFold(n_splits=nfolds,shuffle=True,random_state=46)\n",
    "        \n",
    "    for clf,model_name in models:\n",
    "        f1_fold = []; f1_train_fold=[]; prec_fold=[]; rec_fold=[]; auprc_fold=[]\n",
    "\n",
    "        for train_idx,test_idx in skf.split(Xf,y):\n",
    "            Xtr = Xf[train_idx]\n",
    "            ytr = y[train_idx]\n",
    "            if balance:\n",
    "                #balance dataset\n",
    "                indsp = np.where(ytr==1)[0]\n",
    "                indsn = np.random.choice(np.where(ytr==0)[0],size=round(1*len(indsp)),replace=False)\n",
    "                inds = np.hstack((indsp,indsn))\n",
    "                Xtr = Xtr[inds]; ytr = ytr[inds]\n",
    "#             print(len(ytr[ytr==0])/len(ytr[ytr>0]))\n",
    "            Xte = Xf[test_idx]\n",
    "            yte = y[test_idx]\n",
    "            Xtr = scaler.fit_transform(Xtr)\n",
    "            Xte = scaler.transform(Xte)\n",
    "            clf.fit(Xtr,ytr)\n",
    "            ypred_train = clf.predict(Xtr)\n",
    "            ypred = clf.predict(Xte)\n",
    "            yscore = clf.predict_proba(Xte)\n",
    "            yscore = yscore[:,1]\n",
    "            \n",
    "            #accuracy on train and test set for current fold\n",
    "            precision, recall, _ = precision_recall_curve(yte,yscore)\n",
    "            \n",
    "            f1_train_fold.append(f1_score(ytr,ypred_train))\n",
    "            f1_fold.append(f1_score(yte,ypred))\n",
    "            prec_fold.append(precision_score(yte,ypred))\n",
    "            rec_fold.append(recall_score(yte,ypred))\n",
    "            auprc_fold.append(auc(recall,precision)\n",
    ")\n",
    "\n",
    "\n",
    "        #mean accuracy across folds\n",
    "        if balance:\n",
    "            print('Npos = %d, Nneg = %d'%(len(indsp),len(indsn)))\n",
    "            \n",
    "        print('%s'%model_name)\n",
    "        print('f1_train=%.3f+/-%.3f, f1_test=%.3f+/-%.3f, prec=%.3f+/-%.3f, rec=%.3f+/-%.3f, auprc=%.3f+/-%.3f'%(\n",
    "        np.nanmean(f1_train_fold),np.nanstd(f1_train_fold),\n",
    "        np.nanmean(f1_fold),np.nanstd(f1_fold),\n",
    "        np.nanmean(prec_fold),np.nanstd(prec_fold), np.nanmean(rec_fold),np.nanstd(rec_fold),\n",
    "        np.nanmean(auprc_fold),np.nanstd(auprc_fold)))\n",
    "        \n",
    "        cf_matrix = confusion_matrix(yte, ypred)\n",
    "        print(cf_matrix)\n",
    "        #store f1 and auc for each fold and clf\n",
    "        f1_fold_clf.append(f1_fold)\n",
    "        auc_fold_clf.append(auprc_fold)\n",
    "        #store cmat for each clf (on last fold)\n",
    "        cmats.update({model_name:cf_matrix})\n",
    "        \n",
    "    return f1_fold_clf, auc_fold_clf, cmats\n",
    "\n",
    "    \n",
    "    \n",
    "def plot_confusion_matrix(cm, classes,\n",
    "                          normalize=False,\n",
    "                          title=None,\n",
    "                          cmap=plt.cm.Blues):\n",
    "    \"\"\"\n",
    "    This function prints and plots the confusion matrix.\n",
    "    Normalization can be applied by setting `normalize=True`.\n",
    "    \"\"\"\n",
    "    if normalize:\n",
    "        cm = cm.astype('float') / cm.sum(axis=1)[:, np.newaxis]\n",
    "#     print(cm)\n",
    "\n",
    "    plt.imshow(cm, interpolation='nearest', cmap=cmap)\n",
    "    plt.title(title)\n",
    "    plt.colorbar()\n",
    "    tick_marks = np.arange(len(classes))\n",
    "    plt.xticks(tick_marks, classes, rotation=45)\n",
    "    plt.yticks(tick_marks, classes)\n",
    "\n",
    "    fmt = '.2f' if normalize else 'd'\n",
    "    thresh = cm.max() / 2.\n",
    "    for i, j in itertools.product(range(cm.shape[0]), range(cm.shape[1])):\n",
    "        plt.text(j, i, format(cm[i, j], fmt),\n",
    "                 horizontalalignment=\"center\",\n",
    "                 color=\"white\" if cm[i, j] > thresh else \"black\")\n",
    "\n",
    "    plt.tight_layout()\n",
    "    plt.ylabel('True label')\n",
    "    plt.xlabel('Predicted label')\n",
    "\n",
    "    \n",
    "\n",
    "def plot_roc(tpr_all,fpr,roc_auc,ax=None,plotname=None,col=None):\n",
    "    #plot mean ROC across subjects (need to add shaded conf interval)\n",
    "    tprmu = np.mean(np.asarray(tpr_all),axis=0)\n",
    "    tpr=np.asarray(tpr_all)\n",
    "    fpr=np.reshape(fpr,(1,-1))\n",
    "    tprmu=np.reshape(tprmu,(1,-1))\n",
    "    label=pd.Series(data = ['%s - AUC = %0.3f' % (plotname,roc_auc)]*len(fpr))\n",
    "    if plotname=='Threshold':\n",
    "        ls = '-'\n",
    "    else:\n",
    "        ls='-'\n",
    "    if ax == None:\n",
    "        ax = sns.tsplot(data=tpr,time=fpr,ci=95,condition=label,legend=True,color=col,lw=3,linestyle=ls)\n",
    "    else:\n",
    "        sns.tsplot(data=tpr,time=fpr,ci=95,condition=label, legend=True,ax=ax,color=col,lw=3,linestyle=ls)\n",
    "             \n",
    "    lw = 3\n",
    "    \n",
    "    ax.plot([0, 1], [0, 1], color='navy', lw=lw, linestyle='--')\n",
    "    ax.set_xlim([-0.05, 1.0])\n",
    "    ax.set_ylim([0.0, 1.05])\n",
    "    ax.set_xlabel('False Positive Rate',fontsize=16)\n",
    "    ax.set_ylabel('True Positive Rate',fontsize=16)\n",
    "    ax.legend(loc='lower right')\n",
    "    \n",
    "    return ax\n",
    "\n",
    "def LOSOCV_Tasks(Data,X,y,groups,tasks,clf):\n",
    "\n",
    "    subj = LeaveOneGroupOut() \n",
    "    results = pd.DataFrame(data=None,columns=['model','f1','auprc','auroc'])\n",
    "    groupres = {} #results on each group for each task subset\n",
    "\n",
    "\n",
    "    #train multiple classifiers\n",
    "    for T in tasks:\n",
    "        acc_all=[]; acc_train=[] \n",
    "        f1_test_all=[]; prec_all=[]; rec_all=[]; spec_all=[]; auprc_all=[]; auroc_train_all=[]; \n",
    "        auroc_all=[]; fpr_all=[]; tpr_all=[]; fi_all=[]\n",
    "          \n",
    "        s = 0\n",
    "        #LOSO CV for current classifier\n",
    "        for train_index, test_index in subj.split(X, y, groups):\n",
    "            task_inds = Data.Task.iloc[test_index]==T[0]\n",
    "            for Ti in T[1::]:\n",
    "                task_inds = task_inds | (Data.Task.iloc[test_index]==Ti)\n",
    "            test_index = test_index[task_inds]\n",
    "            Xtr, Xte = X[train_index], X[test_index]\n",
    "            ytr, yte = y[train_index], y[test_index]\n",
    "            if len(np.unique(ytr))<2: #skip if no positive or negative examples are available for training\n",
    "                print('only 1 class available in train data - skipping')\n",
    "                continue\n",
    "            clf.fit(Xtr,ytr)\n",
    "            ypred = clf.predict(Xte)\n",
    "            yscore = clf.predict_proba(Xte)\n",
    "            yscore = yscore[:,1]\n",
    "\n",
    "            #accuracy on train set\n",
    "            ypred_train = clf.predict(Xtr)\n",
    "            acc_train.append(sum(ypred_train==ytr)/len(ytr))\n",
    "            auroc_train = roc_auc_score(ytr,clf.predict_proba(Xtr)[:,1])\n",
    "\n",
    "            #f1-score, prec, recall, specificity, auprc, auroc\n",
    "            f1_test_all.append(f1_score(yte,ypred))\n",
    "            precision, recall, _ = precision_recall_curve(yte,yscore)\n",
    "            auprc = auc(recall,precision)\n",
    "            if len(np.unique(yte))>1:\n",
    "                auroc = roc_auc_score(yte,yscore)\n",
    "            else:\n",
    "                print('only 1 class in test data - cannot compute roc curve')\n",
    "                auroc = np.nan\n",
    "            spec = sum((ypred==0) & (yte==0))/sum(yte==0)\n",
    "\n",
    "\n",
    "            prec_all.append(precision_score(yte,ypred))\n",
    "            rec_all.append(recall_score(yte,ypred))\n",
    "            auprc_all.append(auprc)\n",
    "            auroc_all.append(auroc)\n",
    "            auroc_train_all.append(auroc_train)\n",
    "            spec_all.append(spec)\n",
    "\n",
    "            #the recall per task - TO BE COMPLETED\n",
    "\n",
    "#             tasks=Data.iloc[test_index,:].Task\n",
    "#             for t in tasks.unique():\n",
    "#                 tasks\n",
    "\n",
    "            #compute ROC points at fixed fpr (to plot error bars)\n",
    "            fpr=np.linspace(0,1,101); tpr=[]\n",
    "\n",
    "            if len(np.unique(yte))>1:                \n",
    "                nscores = np.sort(np.column_stack((yscore[yte==0],yte[yte==0])),axis=0)\n",
    "                neg_counts = sum(yte==0)\n",
    "                for f in fpr:\n",
    "                    ind = neg_counts-int(neg_counts*f)-1\n",
    "                    t = (nscores[ind])[0]\n",
    "                    if f==1:\n",
    "                        t = 0\n",
    "                    tpr_t = sum(yscore[yte==1]>t) / sum(yte==1)\n",
    "                    tpr.append(tpr_t) \n",
    "\n",
    "            fpr = np.asarray(fpr); tpr = np.asarray(tpr)\n",
    "            fpr_all.append(fpr); tpr_all.append(tpr)\n",
    "\n",
    "            #store feature importance\n",
    "            if model_name != 'SVM':\n",
    "                fi_all.append(clf.feature_importances_)\n",
    "\n",
    "            s+=1\n",
    "\n",
    "        #group results for each model\n",
    "        groupres[tuple(T)] = {'f1':f1_test_all, 'auprc':auprc_all, 'auroc':auroc_all, 'tpr':tpr_all, 'fpr':fpr_all, \n",
    "                                'rec':rec_all, 'spec':spec_all, 'fi':fi_all}\n",
    "\n",
    "        #mean across groups for each model\n",
    "        r = pd.DataFrame({'model':model_name, 'f1':np.nanmean(f1_test_all), 'auprc':np.nanmean(auprc_all), 'auroc':np.nanmean(auroc_all)}\n",
    "                        ,index=[0])\n",
    "        results = pd.concat((results,r))\n",
    "        \n",
    "    return results,groupres \n",
    "    "
   ]
  },
  {
   "cell_type": "code",
   "execution_count": 3,
   "metadata": {},
   "outputs": [],
   "source": [
    "from sklearn.model_selection import LeaveOneGroupOut\n",
    "from sklearn import preprocessing\n",
    "from sklearn import neighbors, linear_model\n",
    "from sklearn.ensemble import RandomForestClassifier, AdaBoostClassifier, GradientBoostingClassifier, ExtraTreesClassifier\n",
    "from sklearn.svm import SVC\n",
    "from sklearn.neighbors import KNeighborsClassifier\n",
    "from sklearn.model_selection import KFold, StratifiedKFold, cross_val_score\n",
    "from sklearn.model_selection import GridSearchCV\n",
    "from sklearn import metrics\n",
    "from sklearn.linear_model import ElasticNetCV, LogisticRegression\n",
    "from sklearn.metrics import roc_curve, auc, roc_auc_score\n",
    "from sklearn.metrics import confusion_matrix"
   ]
  },
  {
   "cell_type": "code",
   "execution_count": 4,
   "metadata": {},
   "outputs": [],
   "source": [
    "path = r'D:\\CIS-PD Study\\Subjects' #Windows remote path\n",
    "folder_path = r'D:\\CIS-PD Study' #generic Windows repo path\n",
    "dict_path = 'D:\\CIS-PD Study\\Data_dict'\n",
    "scores_path = r'D:\\CIS-PD Study\\Scores' #remote repo\n",
    "features_path = r'D:\\CIS-PD Study\\FeatureMatrix' #remote repo\n",
    "results_path = r'C:\\Users\\andre\\Documents\\GitHub\\CIS_PD\\Results' #results folder\n",
    "\n",
    "# path = '/Volumes/RTO/CIS-PD Study/Subjects/' #Mac\n",
    "# folder_path = '/Volumes/RTO/CIS-PD Study/'\n",
    "# dict_path = '../Data_dict' # Mac local path\n",
    "# scores_path = '../Scores/' # Mac local path\n",
    "# features_path = '../FeatureMatrix' # Mac local path\n",
    "# results_path = '../Results' # Mac local path\n",
    "\n",
    "# #---------------------------------------------------------------------------------------------------------\n",
    "# # Set path to folder containing Subject ID numbers\n",
    "# # path = '/Volumes/RTO/CIS-PD Study/Subjects/' #Mac\n",
    "# path = r'Y:\\CIS-PD Study\\Subjects' #Windows local path adai\n",
    "# #---------------------------------------------------------------------------------------------------------\n",
    "# #Path where dictionary subject data is stored\n",
    "# dict_path = 'Y:\\CIS-PD Study\\Data_dict' #remote repo\n",
    "# # dict_path = '../Data_dict' #local path\n",
    "# # dict_path = r'C:\\Users\\adai\\Documents\\Data_dict' #Windows local path adai\n",
    "\n",
    "# scores_path = r'Y:\\CIS-PD Study\\Scores' #remote repo\n",
    "# # scores_path = '../Scores/' #local path\n",
    "\n",
    "# #path where feature matrix is saved\n",
    "# # features_path = '../FeatureMatrix' #local\n",
    "# features_path = 'Y:\\CIS-PD Study\\FeatureMatrix'"
   ]
  },
  {
   "cell_type": "markdown",
   "metadata": {},
   "source": [
    "## Load unpacked features data"
   ]
  },
  {
   "cell_type": "code",
   "execution_count": 5,
   "metadata": {},
   "outputs": [
    {
     "name": "stdout",
     "output_type": "stream",
     "text": [
      "(42100, 81)\n"
     ]
    }
   ],
   "source": [
    "# filename = 'Features_AllLocsHP+LP_Hand.pkl'\n",
    "filename = 'Features_AllLocsHP_Hand.pkl'\n",
    "Data = pickle.load(open(os.path.join(features_path,filename),'rb'))\n",
    "Data = Data.reset_index(drop=True)\n",
    "print(Data.shape)"
   ]
  },
  {
   "cell_type": "code",
   "execution_count": 6,
   "metadata": {},
   "outputs": [
    {
     "data": {
      "text/html": [
       "<div>\n",
       "<style scoped>\n",
       "    .dataframe tbody tr th:only-of-type {\n",
       "        vertical-align: middle;\n",
       "    }\n",
       "\n",
       "    .dataframe tbody tr th {\n",
       "        vertical-align: top;\n",
       "    }\n",
       "\n",
       "    .dataframe thead th {\n",
       "        text-align: right;\n",
       "    }\n",
       "</style>\n",
       "<table border=\"1\" class=\"dataframe\">\n",
       "  <thead>\n",
       "    <tr style=\"text-align: right;\">\n",
       "      <th></th>\n",
       "      <th>Subject</th>\n",
       "      <th>Visit</th>\n",
       "      <th>Side</th>\n",
       "      <th>Task</th>\n",
       "      <th>Tremor</th>\n",
       "      <th>Bradykinesia</th>\n",
       "      <th>Dyskinesia</th>\n",
       "      <th>RMSXacc</th>\n",
       "      <th>RMSYacc</th>\n",
       "      <th>RMSZacc</th>\n",
       "      <th>...</th>\n",
       "      <th>PSD_stdgyr</th>\n",
       "      <th>PSD_skewgyr</th>\n",
       "      <th>PSD_kurgyr</th>\n",
       "      <th>jerk_meangyr</th>\n",
       "      <th>jerk_stdgyr</th>\n",
       "      <th>jerk_skewgyr</th>\n",
       "      <th>jerk_kurgyr</th>\n",
       "      <th>Sen_Xgyr</th>\n",
       "      <th>Sen_Ygyr</th>\n",
       "      <th>Sen_Zgyr</th>\n",
       "    </tr>\n",
       "  </thead>\n",
       "  <tbody>\n",
       "    <tr>\n",
       "      <th>0</th>\n",
       "      <td>1004</td>\n",
       "      <td>2 Weeks: Time 0</td>\n",
       "      <td>left</td>\n",
       "      <td>Motor #2: Walking</td>\n",
       "      <td>0.0</td>\n",
       "      <td>1.0</td>\n",
       "      <td>0.0</td>\n",
       "      <td>0.008648</td>\n",
       "      <td>0.010949</td>\n",
       "      <td>0.007293</td>\n",
       "      <td>...</td>\n",
       "      <td>333.369231</td>\n",
       "      <td>3.587466</td>\n",
       "      <td>15.204802</td>\n",
       "      <td>0.114246</td>\n",
       "      <td>10.726893</td>\n",
       "      <td>0.176444</td>\n",
       "      <td>-0.009173</td>\n",
       "      <td>0.416625</td>\n",
       "      <td>0.571324</td>\n",
       "      <td>0.438326</td>\n",
       "    </tr>\n",
       "    <tr>\n",
       "      <th>1</th>\n",
       "      <td>1004</td>\n",
       "      <td>2 Weeks: Time 0</td>\n",
       "      <td>left</td>\n",
       "      <td>Motor #2: Walking</td>\n",
       "      <td>0.0</td>\n",
       "      <td>1.0</td>\n",
       "      <td>0.0</td>\n",
       "      <td>0.008127</td>\n",
       "      <td>0.010331</td>\n",
       "      <td>0.007008</td>\n",
       "      <td>...</td>\n",
       "      <td>511.580241</td>\n",
       "      <td>4.261274</td>\n",
       "      <td>17.609498</td>\n",
       "      <td>-0.173831</td>\n",
       "      <td>10.278264</td>\n",
       "      <td>0.551148</td>\n",
       "      <td>0.059904</td>\n",
       "      <td>0.321724</td>\n",
       "      <td>0.525199</td>\n",
       "      <td>0.307797</td>\n",
       "    </tr>\n",
       "  </tbody>\n",
       "</table>\n",
       "<p>2 rows × 81 columns</p>\n",
       "</div>"
      ],
      "text/plain": [
       "   Subject            Visit  Side               Task  Tremor  Bradykinesia  \\\n",
       "0     1004  2 Weeks: Time 0  left  Motor #2: Walking     0.0           1.0   \n",
       "1     1004  2 Weeks: Time 0  left  Motor #2: Walking     0.0           1.0   \n",
       "\n",
       "   Dyskinesia   RMSXacc   RMSYacc   RMSZacc    ...     PSD_stdgyr  \\\n",
       "0         0.0  0.008648  0.010949  0.007293    ...     333.369231   \n",
       "1         0.0  0.008127  0.010331  0.007008    ...     511.580241   \n",
       "\n",
       "   PSD_skewgyr  PSD_kurgyr  jerk_meangyr  jerk_stdgyr  jerk_skewgyr  \\\n",
       "0     3.587466   15.204802      0.114246    10.726893      0.176444   \n",
       "1     4.261274   17.609498     -0.173831    10.278264      0.551148   \n",
       "\n",
       "   jerk_kurgyr  Sen_Xgyr  Sen_Ygyr  Sen_Zgyr  \n",
       "0    -0.009173  0.416625  0.571324  0.438326  \n",
       "1     0.059904  0.321724  0.525199  0.307797  \n",
       "\n",
       "[2 rows x 81 columns]"
      ]
     },
     "execution_count": 6,
     "metadata": {},
     "output_type": "execute_result"
    }
   ],
   "source": [
    "Data.head(2)"
   ]
  },
  {
   "cell_type": "code",
   "execution_count": 7,
   "metadata": {},
   "outputs": [],
   "source": [
    "#drop features \n",
    "Data=Data.drop(labels=['RMSXacc','RMSYacc','RMSZacc'],axis=1)    #equivalent to variance if mean 0\n",
    "Data=Data.drop(labels=['meanXacc','meanYacc','meanZacc'],axis=1) #if signal is mean 0 this feature is useless\n",
    "Data=Data.drop(labels=['varXacc','varYacc','varZacc'],axis=1) #range is strongly correlated with variance\n",
    "Data=Data.drop(labels=['RMSXgyr','RMSYgyr','RMSZgyr'],axis=1)    #equivalent to variance if mean 0\n",
    "Data=Data.drop(labels=['meanXgyr','meanYgyr','meanZgyr'],axis=1) #if signal is mean 0 this feature is useless\n",
    "Data=Data.drop(labels=['varXgyr','varYgyr','varZgyr'],axis=1) #range is strongly correlated with variance"
   ]
  },
  {
   "cell_type": "code",
   "execution_count": 8,
   "metadata": {},
   "outputs": [],
   "source": [
    "# #drop features \n",
    "# Data=Data.drop(labels=['RMSXacc_dorsal_hand_','RMSYacc_dorsal_hand_','RMSZacc_dorsal_hand_'],axis=1)    #equivalent to variance if mean 0\n",
    "# Data=Data.drop(labels=['meanXacc_dorsal_hand_','meanYacc_dorsal_hand_','meanZacc_dorsal_hand_'],axis=1) #if signal is mean 0 this feature is useless\n",
    "# Data=Data.drop(labels=['varXacc_dorsal_hand_','varYacc_dorsal_hand_','varZacc_dorsal_hand_'],axis=1) #range is strongly correlated with variance\n",
    "# Data=Data.drop(labels=['RMSXgyr_dorsal_hand_','RMSYgyr_dorsal_hand_','RMSZgyr_dorsal_hand_'],axis=1)    #equivalent to variance if mean 0\n",
    "# Data=Data.drop(labels=['meanXgyr_dorsal_hand_','meanYgyr_dorsal_hand_','meanZgyr_dorsal_hand_'],axis=1) #if signal is mean 0 this feature is useless\n",
    "# Data=Data.drop(labels=['varXgyr_dorsal_hand_','varYgyr_dorsal_hand_','varZgyr_dorsal_hand_'],axis=1) #range is strongly correlated with variance"
   ]
  },
  {
   "cell_type": "code",
   "execution_count": 9,
   "metadata": {},
   "outputs": [],
   "source": [
    "Data=Data[Data.Subject!=1020] #remove subj does not have visits 1-5"
   ]
  },
  {
   "cell_type": "code",
   "execution_count": 10,
   "metadata": {},
   "outputs": [
    {
     "data": {
      "text/plain": [
       "(40377, 63)"
      ]
     },
     "execution_count": 10,
     "metadata": {},
     "output_type": "execute_result"
    }
   ],
   "source": [
    "Dataorig = Data.copy()\n",
    "Data.shape"
   ]
  },
  {
   "cell_type": "code",
   "execution_count": 11,
   "metadata": {},
   "outputs": [
    {
     "data": {
      "text/plain": [
       "array(['Motor #2: Walking', 'Motor #3: Walking while Counting',\n",
       "       'Motor #4: Finger to Nose', 'Motor #5: Alternating Hand Movements',\n",
       "       'Motor #6: Sit to Stand', 'Motor #7: Drawing on Paper',\n",
       "       'Motor #8: Typing on a Computer', 'Motor #9: Nuts and Bolts',\n",
       "       'Motor #10: Drinking Water', 'Motor #11: Organizing Folder',\n",
       "       'Motor #12: Folding Towels', 'Motor #1: Standing',\n",
       "       'Motor #13: Sitting'], dtype=object)"
      ]
     },
     "execution_count": 11,
     "metadata": {},
     "output_type": "execute_result"
    }
   ],
   "source": [
    "Data.Task.unique()"
   ]
  },
  {
   "cell_type": "markdown",
   "metadata": {},
   "source": [
    "## LOSO CV - ALL TASKS"
   ]
  },
  {
   "cell_type": "markdown",
   "metadata": {},
   "source": [
    "## Bradykinesia"
   ]
  },
  {
   "cell_type": "code",
   "execution_count": null,
   "metadata": {},
   "outputs": [],
   "source": [
    "# #amount of data per subject\n",
    "# subjdata=[]\n",
    "# for s in Data.Subject.unique():\n",
    "# #     print(s,len(Data[Data.Subject==s]))\n",
    "#     subjdata.append(len(Data[Data.Subject==s]))\n",
    "    \n",
    "# sns.barplot(Data.Subject.unique(),subjdata)\n",
    "# ax=plt.xticks(rotation=90)"
   ]
  },
  {
   "cell_type": "code",
   "execution_count": 11,
   "metadata": {},
   "outputs": [],
   "source": [
    "Dataorig = Data.copy()"
   ]
  },
  {
   "cell_type": "code",
   "execution_count": 12,
   "metadata": {},
   "outputs": [
    {
     "ename": "NameError",
     "evalue": "name 'symptom' is not defined",
     "output_type": "error",
     "traceback": [
      "\u001b[1;31m---------------------------------------------------------------------------\u001b[0m",
      "\u001b[1;31mNameError\u001b[0m                                 Traceback (most recent call last)",
      "\u001b[1;32m<ipython-input-12-3035a563e21a>\u001b[0m in \u001b[0;36m<module>\u001b[1;34m()\u001b[0m\n\u001b[1;32m----> 1\u001b[1;33m \u001b[0mDataorig\u001b[0m\u001b[1;33m[\u001b[0m\u001b[0msymptom\u001b[0m\u001b[1;33m]\u001b[0m\u001b[1;33m.\u001b[0m\u001b[0munique\u001b[0m\u001b[1;33m(\u001b[0m\u001b[1;33m)\u001b[0m\u001b[1;33m\u001b[0m\u001b[0m\n\u001b[0m",
      "\u001b[1;31mNameError\u001b[0m: name 'symptom' is not defined"
     ]
    }
   ],
   "source": [
    "Dataorig[symptom].unique()"
   ]
  },
  {
   "cell_type": "code",
   "execution_count": 13,
   "metadata": {},
   "outputs": [
    {
     "ename": "NameError",
     "evalue": "name 'symptom' is not defined",
     "output_type": "error",
     "traceback": [
      "\u001b[1;31m---------------------------------------------------------------------------\u001b[0m",
      "\u001b[1;31mNameError\u001b[0m                                 Traceback (most recent call last)",
      "\u001b[1;32m<ipython-input-13-6e1cfeac6551>\u001b[0m in \u001b[0;36m<module>\u001b[1;34m()\u001b[0m\n\u001b[1;32m----> 1\u001b[1;33m \u001b[0mData\u001b[0m\u001b[1;33m[\u001b[0m\u001b[0msymptom\u001b[0m\u001b[1;33m]\u001b[0m\u001b[1;33m.\u001b[0m\u001b[0munique\u001b[0m\u001b[1;33m(\u001b[0m\u001b[1;33m)\u001b[0m\u001b[1;33m\u001b[0m\u001b[0m\n\u001b[0m",
      "\u001b[1;31mNameError\u001b[0m: name 'symptom' is not defined"
     ]
    }
   ],
   "source": [
    "Data[symptom].unique()"
   ]
  },
  {
   "cell_type": "code",
   "execution_count": null,
   "metadata": {
    "scrolled": true
   },
   "outputs": [],
   "source": [
    "t1=time.time()\n",
    "res_all = pd.DataFrame()\n",
    "\n",
    "Data=Data.reset_index(drop=True) #reset index\n",
    "\n",
    "for symptom in ['Bradykinesia']:\n",
    "    \n",
    "    #remove nan rows for current symptom\n",
    "    Data = Dataorig.copy() #original unmodified dataframe\n",
    "    Data=Data[~Data[symptom].isnull()]\n",
    "    Data=Data.reset_index(drop=True) #reset index\n",
    "    \n",
    "    X = Data.iloc[:,7:].as_matrix()\n",
    "    # X = StandardScaler().fit_transform(X)\n",
    "    fnames = Data.iloc[:,7:].columns.values\n",
    "\n",
    "    indp = ((Data[symptom]>0))\n",
    "    indp = indp.values\n",
    "    y = indp.astype(int) #target \n",
    "    print('Rows w %s %d/%d = %.2f'%(symptom,sum(indp),len(indp),(sum(indp)/len(indp))))\n",
    "\n",
    "    models = [RandomForestClassifier(n_estimators=50,random_state=2)]          \n",
    "#           XGBClassifier()]\n",
    "    model_name = ['Random Forest']#,'XGB']\n",
    "    models = list(zip(models,model_name))\n",
    "    groups = Data.Subject.as_matrix()\n",
    "\n",
    "    res,res_group = LOSOCV(Data,X,y,groups,models)\n",
    "    res_all = pd.concat((res_all,res))\n",
    "    \n",
    "print('Elapsed time = %.3f min'%((time.time()-t1)/60))    "
   ]
  },
  {
   "cell_type": "code",
   "execution_count": null,
   "metadata": {},
   "outputs": [],
   "source": [
    "resultsbrady = res_group['Random Forest']['auroc']"
   ]
  },
  {
   "cell_type": "code",
   "execution_count": null,
   "metadata": {},
   "outputs": [],
   "source": [
    "np.save('./Results/resultsbradyLOSO.npy',resultsbrady)"
   ]
  },
  {
   "cell_type": "code",
   "execution_count": null,
   "metadata": {},
   "outputs": [],
   "source": [
    "np.unique(groups)"
   ]
  },
  {
   "cell_type": "markdown",
   "metadata": {},
   "source": [
    "Removing nans"
   ]
  },
  {
   "cell_type": "code",
   "execution_count": null,
   "metadata": {
    "scrolled": true
   },
   "outputs": [],
   "source": [
    "aurocall = res_group['Random Forest']['auroc']\n",
    "sns.barplot(np.unique(groups),aurocall) #to show subj codes\n",
    "ax=plt.xticks(rotation=90)\n",
    "# sns.barplot(np.arange(len(aurocall)),aurocall) #to show subj codes\n",
    "plt.ylim([0.45,1.])\n",
    "plt.title('LOSO - Mean AUROC = %.3f +/- %.3f'%(np.nanmean(aurocall),np.nanstd(aurocall)))"
   ]
  },
  {
   "cell_type": "code",
   "execution_count": null,
   "metadata": {},
   "outputs": [],
   "source": []
  },
  {
   "cell_type": "code",
   "execution_count": null,
   "metadata": {},
   "outputs": [],
   "source": [
    "plot_roc(res_group['Random Forest']['tpr'],res_group['Random Forest']['fpr'][0],np.mean(res_group['Random Forest']['auroc']))"
   ]
  },
  {
   "cell_type": "markdown",
   "metadata": {},
   "source": [
    "### Tremor"
   ]
  },
  {
   "cell_type": "code",
   "execution_count": null,
   "metadata": {
    "scrolled": false
   },
   "outputs": [],
   "source": [
    "t1=time.time()\n",
    "res_all = pd.DataFrame()\n",
    "\n",
    "Data=Data.reset_index(drop=True) #reset index\n",
    "\n",
    "for symptom in ['Tremor']:\n",
    "    \n",
    "    #remove nan rows for current symptom\n",
    "    Data = Dataorig.copy() #original unmodified dataframe\n",
    "    Data=Data[~Data[symptom].isnull()]\n",
    "    Data=Data.reset_index(drop=True) #reset index\n",
    "    \n",
    "    X = Data.iloc[:,7:].as_matrix()\n",
    "    # X = StandardScaler().fit_transform(X)\n",
    "    fnames = Data.iloc[:,7:].columns.values\n",
    "\n",
    "    indp = ((Data[symptom]>0))\n",
    "    indp = indp.values\n",
    "    y = indp.astype(int) #target \n",
    "    print('Rows w %s %d/%d = %.2f'%(symptom,sum(indp),len(indp),(sum(indp)/len(indp))))\n",
    "\n",
    "    models = [RandomForestClassifier(n_estimators=50,random_state=2)]          \n",
    "#           XGBClassifier()]\n",
    "    model_name = ['Random Forest']#,'XGB']\n",
    "    models = list(zip(models,model_name))\n",
    "    groups = Data.Subject.as_matrix()\n",
    "\n",
    "    res,res_group = LOSOCV(Data,X,y,groups,models)\n",
    "    res_all = pd.concat((res_all,res))\n",
    "    \n",
    "print('Elapsed time = %.3f min'%((time.time()-t1)/60))    "
   ]
  },
  {
   "cell_type": "code",
   "execution_count": null,
   "metadata": {},
   "outputs": [],
   "source": [
    "resultstremor = res_group['Random Forest']['auroc']"
   ]
  },
  {
   "cell_type": "code",
   "execution_count": null,
   "metadata": {},
   "outputs": [],
   "source": [
    "np.save('./Results/resultstremorLOSO.npy',resultstremor)"
   ]
  },
  {
   "cell_type": "markdown",
   "metadata": {},
   "source": [
    "Removing nans"
   ]
  },
  {
   "cell_type": "code",
   "execution_count": null,
   "metadata": {},
   "outputs": [],
   "source": [
    "aurocall = res_group['Random Forest']['auroc']\n",
    "sns.barplot(np.unique(groups),aurocall) #to show subj codes\n",
    "ax=plt.xticks(rotation=90)\n",
    "# sns.barplot(np.arange(len(aurocall)),aurocall) #to show subj codes\n",
    "plt.ylim([0.45,1.])\n",
    "plt.title('LOSO - Mean AUROC = %.3f +/- %.3f'%(np.nanmean(aurocall),np.nanstd(aurocall)))"
   ]
  },
  {
   "cell_type": "markdown",
   "metadata": {},
   "source": [
    "## Personal Models"
   ]
  },
  {
   "cell_type": "code",
   "execution_count": null,
   "metadata": {
    "scrolled": true
   },
   "outputs": [],
   "source": [
    "symptom = 'Bradykinesia'\n",
    "le = LabelEncoder()\n",
    "res_all = pd.DataFrame(data=None,index=None)\n",
    "#train on all sessions, predict on left out session for each patient\n",
    "res_visit_all = [] #data from each subject \n",
    "\n",
    "#remove nan rows for current symptom\n",
    "Data = Dataorig.copy() #original unmodified dataframe\n",
    "Data=Data[~Data[symptom].isnull()]\n",
    "Data=Data.reset_index(drop=True) #reset index\n",
    "\n",
    "for s in Data.Subject.unique():\n",
    "    print('Subject %s'%s)\n",
    "    ds = Data.loc[Data.Subject==s]\n",
    "    indp = (ds[symptom]>0).values\n",
    "    y = indp.astype(int) #target \n",
    "    X = ds.iloc[:,7:]\n",
    "    X_std = StandardScaler().fit_transform(X) #standardize input data\n",
    "    models = [RandomForestClassifier(n_estimators=50,random_state=2)]#,XGBClassifier()]\n",
    "    model_name = ['Random Forest']#,'XGB']\n",
    "    models = list(zip(models,model_name))\n",
    "    groups = le.fit_transform(ds.Visit)\n",
    "    if len(np.unique(groups))<2:\n",
    "        continue\n",
    "    res,res_group = LOSOCV(ds,X_std,y,groups,models)\n",
    "    res.index = res.index+s\n",
    "    res_all=pd.concat((res_all,res))\n",
    "    res_visit_all.append(res_group)\n"
   ]
  },
  {
   "cell_type": "code",
   "execution_count": null,
   "metadata": {},
   "outputs": [],
   "source": [
    "resultsbrady_pers=res_all.auroc.values\n",
    "np.save('./Results/resultsbradyPERS.npy',resultsbrady_pers)"
   ]
  },
  {
   "cell_type": "code",
   "execution_count": null,
   "metadata": {},
   "outputs": [],
   "source": [
    "Data.shape"
   ]
  },
  {
   "cell_type": "code",
   "execution_count": null,
   "metadata": {},
   "outputs": [],
   "source": [
    "#compute mean and std auc\n",
    "subjs=Data.Subject.unique()\n",
    "auc_mean = []; auc_std = []\n",
    "aucdf = pd.DataFrame()\n",
    "for i in range(len(res_visit_all)):\n",
    "\n",
    "    if len(res_visit_all[i]['Random Forest']['auroc']) < 7:\n",
    "        res_visit_all[i]['Random Forest']['auroc'].append(np.nan)\n",
    "    aucdf[subjs[i]] = res_visit_all[i]['Random Forest']['auroc']   \n",
    "    auc = res_visit_all[i]['Random Forest']['auroc']\n",
    "    auc_mean.append(np.nanmean(auc)) #mean across visits\n",
    "    auc_std.append(np.nanstd(auc))"
   ]
  },
  {
   "cell_type": "code",
   "execution_count": null,
   "metadata": {},
   "outputs": [],
   "source": [
    "sns.barplot(data=aucdf)\n",
    "ax=plt.xticks(rotation=90)\n",
    "plt.title('LOVO - Mean AUROC = %.3f +/- %.3f'%(np.nanmean(res_all.auroc),np.nanstd(res_all.auroc)))\n",
    "plt.ylim([0.45,1])"
   ]
  },
  {
   "cell_type": "markdown",
   "metadata": {},
   "source": [
    "Is variability due to variability in symptoms between visits?"
   ]
  },
  {
   "cell_type": "markdown",
   "metadata": {},
   "source": [
    "### Tremor"
   ]
  },
  {
   "cell_type": "code",
   "execution_count": null,
   "metadata": {
    "scrolled": true
   },
   "outputs": [],
   "source": [
    "symptom = 'Tremor'\n",
    "le = LabelEncoder()\n",
    "res_all = pd.DataFrame(data=None,index=None)\n",
    "#train on all sessions, predict on left out session for each patient\n",
    "res_visit_all = [] #data from each subject \n",
    "\n",
    "#remove nan rows for current symptom\n",
    "Data = Dataorig.copy() #original unmodified dataframe\n",
    "Data=Data[~Data[symptom].isnull()]\n",
    "Data=Data.reset_index(drop=True) #reset index\n",
    "\n",
    "for s in Data.Subject.unique():\n",
    "    print('Subject %s'%s)\n",
    "    ds = Data.loc[Data.Subject==s]\n",
    "    indp = (ds[symptom]>0).values\n",
    "    y = indp.astype(int) #target \n",
    "    X = ds.iloc[:,7:]\n",
    "    X_std = StandardScaler().fit_transform(X) #standardize input data\n",
    "    models = [RandomForestClassifier(n_estimators=50,random_state=2)]#,XGBClassifier()]\n",
    "    model_name = ['Random Forest']#,'XGB']\n",
    "    models = list(zip(models,model_name))\n",
    "    groups = le.fit_transform(ds.Visit)\n",
    "    if len(np.unique(groups))<2:\n",
    "        continue\n",
    "    res,res_group = LOSOCV(ds,X_std,y,groups,models)\n",
    "    res.index = res.index+s\n",
    "    res_all=pd.concat((res_all,res))\n",
    "    res_visit_all.append(res_group)\n"
   ]
  },
  {
   "cell_type": "code",
   "execution_count": null,
   "metadata": {},
   "outputs": [],
   "source": [
    "resultstremor_pers=res_all.auroc.values\n",
    "np.save('./Results/resultstremorPERS.npy',resultstremor_pers)"
   ]
  },
  {
   "cell_type": "code",
   "execution_count": null,
   "metadata": {},
   "outputs": [],
   "source": [
    "#compute mean and std auc\n",
    "subjs=Data.Subject.unique()\n",
    "auc_mean = []; auc_std = []\n",
    "aucdf = pd.DataFrame()\n",
    "for i in range(len(res_visit_all)):\n",
    "\n",
    "    if len(res_visit_all[i]['Random Forest']['auroc']) < 7:\n",
    "        L = len(res_visit_all[i]['Random Forest']['auroc'])\n",
    "        res_visit_all[i]['Random Forest']['auroc'] += (list(np.nan*np.ones(7-L)))\n",
    "    aucdf[subjs[i]] = res_visit_all[i]['Random Forest']['auroc']   \n",
    "    auc = res_visit_all[i]['Random Forest']['auroc']\n",
    "    auc_mean.append(np.nanmean(auc)) #mean across visits\n",
    "    auc_std.append(np.nanstd(auc))"
   ]
  },
  {
   "cell_type": "code",
   "execution_count": null,
   "metadata": {},
   "outputs": [],
   "source": [
    "sns.barplot(data=aucdf)\n",
    "ax=plt.xticks(rotation=90)\n",
    "plt.title('LOVO - Mean AUROC = %.3f +/- %.3f'%(np.nanmean(res_all.auroc),np.nanstd(res_all.auroc)))\n",
    "plt.ylim([0.45,1.])"
   ]
  },
  {
   "cell_type": "markdown",
   "metadata": {},
   "source": [
    "## Box plots comparing global and personal"
   ]
  },
  {
   "cell_type": "code",
   "execution_count": 5,
   "metadata": {},
   "outputs": [],
   "source": [
    "resultstremor = np.load(os.path.join(results_path,'resultstremorLOSO.npy'))\n",
    "resultsbrady = np.load(os.path.join(results_path,'resultsbradyLOSO.npy'))"
   ]
  },
  {
   "cell_type": "code",
   "execution_count": 6,
   "metadata": {},
   "outputs": [],
   "source": [
    "resultsbrady_pers=np.load(os.path.join(results_path,'resultsbradyPERS.npy'))\n",
    "resultstremor_pers=np.load(os.path.join(results_path,'resultstremorPERS.npy'))"
   ]
  },
  {
   "cell_type": "code",
   "execution_count": 7,
   "metadata": {},
   "outputs": [
    {
     "data": {
      "text/plain": [
       "19"
      ]
     },
     "execution_count": 7,
     "metadata": {},
     "output_type": "execute_result"
    }
   ],
   "source": [
    "len(resultstremor)"
   ]
  },
  {
   "cell_type": "code",
   "execution_count": 8,
   "metadata": {},
   "outputs": [],
   "source": [
    "results = pd.DataFrame({'Population-Bradykinesia':resultsbrady, 'Personal-Bradykinesia':resultsbrady_pers,\n",
    "             'Population-Tremor':resultstremor, 'Personal-Tremor':resultstremor_pers})"
   ]
  },
  {
   "cell_type": "code",
   "execution_count": 9,
   "metadata": {},
   "outputs": [],
   "source": [
    "brady_data = results[['Population-Bradykinesia','Personal-Bradykinesia']]"
   ]
  },
  {
   "cell_type": "code",
   "execution_count": 10,
   "metadata": {},
   "outputs": [
    {
     "data": {
      "text/plain": [
       "Ttest_relResult(statistic=6.7761034917453715, pvalue=2.392890207441125e-06)"
      ]
     },
     "execution_count": 10,
     "metadata": {},
     "output_type": "execute_result"
    }
   ],
   "source": [
    "stats.ttest_rel(results['Personal-Bradykinesia'].values,results['Population-Bradykinesia'].values)"
   ]
  },
  {
   "cell_type": "code",
   "execution_count": 11,
   "metadata": {},
   "outputs": [
    {
     "data": {
      "image/png": "[encoded data removed]",
      "text/plain": [
       "<matplotlib.figure.Figure at 0x198efed0f60>"
      ]
     },
     "metadata": {},
     "output_type": "display_data"
    }
   ],
   "source": [
    "figure = plt.figure()\n",
    "figure.set_dpi(100)\n",
    "figure.set_size_inches(6.4,4.8)\n",
    "ax = sns.boxplot(data=brady_data);\n",
    "plt.ylabel('AUROC');\n",
    "plt.ylim(0.5,1.1);\n",
    "plt.title('Bradykinesia');\n",
    "\n",
    "x1,x2 = 0,1\n",
    "y, h, col = brady_data['Personal-Bradykinesia'].max() + 0.02, 0.02, 'k'\n",
    "plt.plot([x1, x1, x2, x2], [y, y+h, y+h, y], lw=1.5, c=col)\n",
    "plt.text((x1+x2)*.5, y+h+0.01, \"***\", ha='center', va='bottom', color=col,fontsize=16);\n",
    "\n",
    "plt.savefig('Bradykinesia Comparison Boxplot.png',format='png',dpi=1000)\n",
    "plt.savefig('Bradykinesia Comparison Boxplot.tiff',format='tiff', dpi=1000)"
   ]
  },
  {
   "cell_type": "code",
   "execution_count": 12,
   "metadata": {},
   "outputs": [],
   "source": [
    "tremor_data = results[['Population-Tremor','Personal-Tremor']]"
   ]
  },
  {
   "cell_type": "code",
   "execution_count": 13,
   "metadata": {},
   "outputs": [
    {
     "data": {
      "text/plain": [
       "Ttest_relResult(statistic=4.494092565323346, pvalue=0.00042831179045540416)"
      ]
     },
     "execution_count": 13,
     "metadata": {},
     "output_type": "execute_result"
    }
   ],
   "source": [
    "stats.ttest_rel(results['Personal-Tremor'][~results['Personal-Tremor'].isnull()].values,\n",
    "                results['Population-Tremor'][~results['Personal-Tremor'].isnull()].values)"
   ]
  },
  {
   "cell_type": "code",
   "execution_count": 14,
   "metadata": {},
   "outputs": [
    {
     "data": {
      "image/png": "[encoded data removed]",
      "text/plain": [
       "<matplotlib.figure.Figure at 0x198efed06a0>"
      ]
     },
     "metadata": {},
     "output_type": "display_data"
    }
   ],
   "source": [
    "figure = plt.figure()\n",
    "figure.set_dpi(100)\n",
    "figure.set_size_inches(6.4,4.8)\n",
    "ax = sns.boxplot(data=tremor_data);\n",
    "plt.ylabel('AUROC');\n",
    "plt.ylim(0.5,1.1);\n",
    "plt.title('Tremor')\n",
    "\n",
    "x1,x2 = 0,1\n",
    "y, h, col = tremor_data['Personal-Tremor'].max() + 0.02, 0.02, 'k'\n",
    "plt.plot([x1, x1, x2, x2], [y, y+h, y+h, y], lw=1.5, c=col)\n",
    "plt.text((x1+x2)*.5, y+h+0.01, \"***\", ha='center', va='bottom', color=col,fontsize=16);\n",
    "\n",
    "plt.savefig('Tremor Comparison Boxplot.png',format='png',dpi=1000)\n",
    "plt.savefig('Tremor Comparison Boxplot.tiff',format='tiff',dpi=1000)"
   ]
  },
  {
   "cell_type": "code",
   "execution_count": 15,
   "metadata": {
    "scrolled": false
   },
   "outputs": [
    {
     "data": {
      "image/png": "[encoded data removed]",
      "text/plain": [
       "<matplotlib.figure.Figure at 0x198f7e13128>"
      ]
     },
     "metadata": {},
     "output_type": "display_data"
    }
   ],
   "source": [
    "pop1 = brady_data['Population-Bradykinesia']; pop2 = tremor_data['Population-Tremor'];\n",
    "per1 = brady_data['Personal-Bradykinesia']; per2 = tremor_data['Personal-Tremor'];\n",
    "\n",
    "g1 = np.shape(pop1)[0]*['Bradykinesia']\n",
    "g2 = np.shape(pop2)[0]*['Tremor']\n",
    "df = pd.DataFrame.from_dict({'Symptom':(g1 + g2),'Population':(list(pop1) + list(pop2)),'Personal':(list(per1) + list(per2))})\n",
    "df_new = pd.melt(df,id_vars=['Symptom'],value_vars=['Population','Personal'],var_name=['Model Type']);\n",
    "\n",
    "figure = plt.figure();\n",
    "figure.set_dpi(100);\n",
    "figure.set_size_inches(6.4,4.8);\n",
    "ax = sns.boxplot(x='Symptom',y='value',data=df_new,hue='Model Type');\n",
    "\n",
    "x1,x2 = -0.2,0.2\n",
    "y, h, col = brady_data['Personal-Bradykinesia'].max() + 0.02, 0.02, 'k'\n",
    "plt.plot([x1, x1, x2, x2], [y, y+h, y+h, y], lw=1.5, c=col)\n",
    "plt.text((x1+x2)*.5, y+h+0.01, \"***\", ha='center', va='bottom', color=col,fontsize=16);\n",
    "\n",
    "x3,x4 = 0.8,1.2\n",
    "y, h, col = tremor_data['Personal-Tremor'].max() + 0.02, 0.02, 'k'\n",
    "plt.plot([x3, x3, x4, x4], [y, y+h, y+h, y], lw=1.5, c=col)\n",
    "plt.text((x3+x4)*.5, y+h+0.01, \"***\", ha='center', va='bottom', color=col,fontsize=16);\n",
    "\n",
    "plt.ylim(0.3,1.125)\n",
    "plt.ylabel('AUROC');\n",
    "plt.title('Model Comparison');\n",
    "plt.savefig('Model Comparison.png',format='png',dpi=1000)\n",
    "plt.savefig('Model Comparison.tiff',format='tiff',dpi=1000)"
   ]
  },
  {
   "cell_type": "code",
   "execution_count": 16,
   "metadata": {},
   "outputs": [
    {
     "data": {
      "text/plain": [
       "(array([1, 2, 3, 4]), <a list of 4 Text xticklabel objects>)"
      ]
     },
     "execution_count": 16,
     "metadata": {},
     "output_type": "execute_result"
    },
    {
     "data": {
      "image/png": "[encoded data removed]",
      "text/plain": [
       "<matplotlib.figure.Figure at 0x198f0339320>"
      ]
     },
     "metadata": {},
     "output_type": "display_data"
    }
   ],
   "source": [
    "results.plot(kind='box')\n",
    "plt.xticks(rotation=90)"
   ]
  },
  {
   "cell_type": "markdown",
   "metadata": {},
   "source": [
    "## Evaluate performance of global models on Subtasks (this section has to be rewritten to train global and personal models on all tasks and analyze performance on each subset of tasks)"
   ]
  },
  {
   "cell_type": "code",
   "execution_count": 12,
   "metadata": {},
   "outputs": [],
   "source": [
    "from scipy import stats\n",
    "def save_object(obj, filename):\n",
    "    with open(filename, 'wb') as output:  # Overwrites any existing file.\n",
    "        pickle.dump(obj, output, pickle.HIGHEST_PROTOCOL)"
   ]
  },
  {
   "cell_type": "code",
   "execution_count": 13,
   "metadata": {},
   "outputs": [],
   "source": [
    "Dataorig = Data.copy()\n",
    "taskA = ['Motor #4: Finger to Nose','Motor #5: Alternating Hand Movements']\n",
    "taskB = ['Motor #2: Walking', 'Motor #3: Walking while Counting']\n",
    "taskB1 = ['Motor #1: Standing','Motor #13: Sitting'] #tremor\n",
    "taskC = ['Motor #10: Drinking Water','Motor #11: Organizing Folder','Motor #12: Folding Towels']\n",
    "taskD = ['Motor #7: Drawing on Paper','Motor #8: Typing on a Computer', 'Motor #9: Nuts and Bolts',]\n",
    "tasks = [taskA,taskB+taskB1,taskC,taskD]\n",
    "tasks = tasks# + [list(np.concatenate(tasks))]"
   ]
  },
  {
   "cell_type": "code",
   "execution_count": 14,
   "metadata": {
    "scrolled": true
   },
   "outputs": [
    {
     "name": "stdout",
     "output_type": "stream",
     "text": [
      "Rows w Tremor 8879/38405 = 0.23\n"
     ]
    },
    {
     "name": "stderr",
     "output_type": "stream",
     "text": [
      "C:\\Users\\andre\\Anaconda3\\lib\\site-packages\\sklearn\\metrics\\classification.py:1137: UndefinedMetricWarning: F-score is ill-defined and being set to 0.0 due to no true samples.\n",
      "  'recall', 'true', average, warn_for)\n",
      "C:\\Users\\andre\\Anaconda3\\lib\\site-packages\\sklearn\\metrics\\ranking.py:444: RuntimeWarning: invalid value encountered in true_divide\n",
      "  recall = tps / tps[-1]\n",
      "C:\\Users\\andre\\Anaconda3\\lib\\site-packages\\sklearn\\metrics\\ranking.py:94: RuntimeWarning: invalid value encountered in less\n",
      "  if np.any(dx < 0):\n",
      "C:\\Users\\andre\\Anaconda3\\lib\\site-packages\\sklearn\\metrics\\classification.py:1137: UndefinedMetricWarning: Recall is ill-defined and being set to 0.0 due to no true samples.\n",
      "  'recall', 'true', average, warn_for)\n"
     ]
    },
    {
     "name": "stdout",
     "output_type": "stream",
     "text": [
      "only 1 class in test data - cannot compute roc curve\n"
     ]
    },
    {
     "name": "stderr",
     "output_type": "stream",
     "text": [
      "C:\\Users\\andre\\Anaconda3\\lib\\site-packages\\sklearn\\metrics\\classification.py:1137: UndefinedMetricWarning: F-score is ill-defined and being set to 0.0 due to no true samples.\n",
      "  'recall', 'true', average, warn_for)\n",
      "C:\\Users\\andre\\Anaconda3\\lib\\site-packages\\sklearn\\metrics\\ranking.py:444: RuntimeWarning: invalid value encountered in true_divide\n",
      "  recall = tps / tps[-1]\n",
      "C:\\Users\\andre\\Anaconda3\\lib\\site-packages\\sklearn\\metrics\\ranking.py:94: RuntimeWarning: invalid value encountered in less\n",
      "  if np.any(dx < 0):\n",
      "C:\\Users\\andre\\Anaconda3\\lib\\site-packages\\sklearn\\metrics\\classification.py:1137: UndefinedMetricWarning: Recall is ill-defined and being set to 0.0 due to no true samples.\n",
      "  'recall', 'true', average, warn_for)\n"
     ]
    },
    {
     "name": "stdout",
     "output_type": "stream",
     "text": [
      "only 1 class in test data - cannot compute roc curve\n"
     ]
    },
    {
     "name": "stderr",
     "output_type": "stream",
     "text": [
      "C:\\Users\\andre\\Anaconda3\\lib\\site-packages\\sklearn\\metrics\\classification.py:1137: UndefinedMetricWarning: F-score is ill-defined and being set to 0.0 due to no true samples.\n",
      "  'recall', 'true', average, warn_for)\n",
      "C:\\Users\\andre\\Anaconda3\\lib\\site-packages\\sklearn\\metrics\\ranking.py:444: RuntimeWarning: invalid value encountered in true_divide\n",
      "  recall = tps / tps[-1]\n",
      "C:\\Users\\andre\\Anaconda3\\lib\\site-packages\\sklearn\\metrics\\ranking.py:94: RuntimeWarning: invalid value encountered in less\n",
      "  if np.any(dx < 0):\n",
      "C:\\Users\\andre\\Anaconda3\\lib\\site-packages\\sklearn\\metrics\\classification.py:1137: UndefinedMetricWarning: Recall is ill-defined and being set to 0.0 due to no true samples.\n",
      "  'recall', 'true', average, warn_for)\n"
     ]
    },
    {
     "name": "stdout",
     "output_type": "stream",
     "text": [
      "only 1 class in test data - cannot compute roc curve\n"
     ]
    },
    {
     "name": "stderr",
     "output_type": "stream",
     "text": [
      "C:\\Users\\andre\\Anaconda3\\lib\\site-packages\\sklearn\\metrics\\ranking.py:444: RuntimeWarning: invalid value encountered in true_divide\n",
      "  recall = tps / tps[-1]\n",
      "C:\\Users\\andre\\Anaconda3\\lib\\site-packages\\sklearn\\metrics\\ranking.py:94: RuntimeWarning: invalid value encountered in less\n",
      "  if np.any(dx < 0):\n"
     ]
    },
    {
     "name": "stdout",
     "output_type": "stream",
     "text": [
      "only 1 class in test data - cannot compute roc curve\n"
     ]
    },
    {
     "name": "stderr",
     "output_type": "stream",
     "text": [
      "C:\\Users\\andre\\Anaconda3\\lib\\site-packages\\sklearn\\metrics\\classification.py:1137: UndefinedMetricWarning: F-score is ill-defined and being set to 0.0 due to no true samples.\n",
      "  'recall', 'true', average, warn_for)\n",
      "C:\\Users\\andre\\Anaconda3\\lib\\site-packages\\sklearn\\metrics\\ranking.py:444: RuntimeWarning: invalid value encountered in true_divide\n",
      "  recall = tps / tps[-1]\n",
      "C:\\Users\\andre\\Anaconda3\\lib\\site-packages\\sklearn\\metrics\\ranking.py:94: RuntimeWarning: invalid value encountered in less\n",
      "  if np.any(dx < 0):\n",
      "C:\\Users\\andre\\Anaconda3\\lib\\site-packages\\sklearn\\metrics\\classification.py:1137: UndefinedMetricWarning: Recall is ill-defined and being set to 0.0 due to no true samples.\n",
      "  'recall', 'true', average, warn_for)\n"
     ]
    },
    {
     "name": "stdout",
     "output_type": "stream",
     "text": [
      "only 1 class in test data - cannot compute roc curve\n"
     ]
    },
    {
     "name": "stderr",
     "output_type": "stream",
     "text": [
      "C:\\Users\\andre\\Anaconda3\\lib\\site-packages\\sklearn\\metrics\\ranking.py:444: RuntimeWarning: invalid value encountered in true_divide\n",
      "  recall = tps / tps[-1]\n",
      "C:\\Users\\andre\\Anaconda3\\lib\\site-packages\\sklearn\\metrics\\ranking.py:94: RuntimeWarning: invalid value encountered in less\n",
      "  if np.any(dx < 0):\n"
     ]
    },
    {
     "name": "stdout",
     "output_type": "stream",
     "text": [
      "only 1 class in test data - cannot compute roc curve\n"
     ]
    },
    {
     "name": "stderr",
     "output_type": "stream",
     "text": [
      "C:\\Users\\andre\\Anaconda3\\lib\\site-packages\\sklearn\\metrics\\ranking.py:444: RuntimeWarning: invalid value encountered in true_divide\n",
      "  recall = tps / tps[-1]\n",
      "C:\\Users\\andre\\Anaconda3\\lib\\site-packages\\sklearn\\metrics\\ranking.py:94: RuntimeWarning: invalid value encountered in less\n",
      "  if np.any(dx < 0):\n"
     ]
    },
    {
     "name": "stdout",
     "output_type": "stream",
     "text": [
      "only 1 class in test data - cannot compute roc curve\n"
     ]
    },
    {
     "name": "stderr",
     "output_type": "stream",
     "text": [
      "C:\\Users\\andre\\Anaconda3\\lib\\site-packages\\sklearn\\metrics\\ranking.py:444: RuntimeWarning: invalid value encountered in true_divide\n",
      "  recall = tps / tps[-1]\n",
      "C:\\Users\\andre\\Anaconda3\\lib\\site-packages\\sklearn\\metrics\\ranking.py:94: RuntimeWarning: invalid value encountered in less\n",
      "  if np.any(dx < 0):\n"
     ]
    },
    {
     "name": "stdout",
     "output_type": "stream",
     "text": [
      "only 1 class in test data - cannot compute roc curve\n"
     ]
    },
    {
     "name": "stderr",
     "output_type": "stream",
     "text": [
      "C:\\Users\\andre\\Anaconda3\\lib\\site-packages\\sklearn\\metrics\\ranking.py:444: RuntimeWarning: invalid value encountered in true_divide\n",
      "  recall = tps / tps[-1]\n",
      "C:\\Users\\andre\\Anaconda3\\lib\\site-packages\\sklearn\\metrics\\ranking.py:94: RuntimeWarning: invalid value encountered in less\n",
      "  if np.any(dx < 0):\n"
     ]
    },
    {
     "name": "stdout",
     "output_type": "stream",
     "text": [
      "only 1 class in test data - cannot compute roc curve\n"
     ]
    },
    {
     "name": "stderr",
     "output_type": "stream",
     "text": [
      "C:\\Users\\andre\\Anaconda3\\lib\\site-packages\\sklearn\\metrics\\ranking.py:444: RuntimeWarning: invalid value encountered in true_divide\n",
      "  recall = tps / tps[-1]\n",
      "C:\\Users\\andre\\Anaconda3\\lib\\site-packages\\sklearn\\metrics\\ranking.py:94: RuntimeWarning: invalid value encountered in less\n",
      "  if np.any(dx < 0):\n"
     ]
    },
    {
     "name": "stdout",
     "output_type": "stream",
     "text": [
      "only 1 class in test data - cannot compute roc curve\n"
     ]
    },
    {
     "name": "stderr",
     "output_type": "stream",
     "text": [
      "C:\\Users\\andre\\Anaconda3\\lib\\site-packages\\sklearn\\metrics\\classification.py:1137: UndefinedMetricWarning: F-score is ill-defined and being set to 0.0 due to no true samples.\n",
      "  'recall', 'true', average, warn_for)\n",
      "C:\\Users\\andre\\Anaconda3\\lib\\site-packages\\sklearn\\metrics\\ranking.py:444: RuntimeWarning: invalid value encountered in true_divide\n",
      "  recall = tps / tps[-1]\n",
      "C:\\Users\\andre\\Anaconda3\\lib\\site-packages\\sklearn\\metrics\\ranking.py:94: RuntimeWarning: invalid value encountered in less\n",
      "  if np.any(dx < 0):\n",
      "C:\\Users\\andre\\Anaconda3\\lib\\site-packages\\sklearn\\metrics\\classification.py:1137: UndefinedMetricWarning: Recall is ill-defined and being set to 0.0 due to no true samples.\n",
      "  'recall', 'true', average, warn_for)\n"
     ]
    },
    {
     "name": "stdout",
     "output_type": "stream",
     "text": [
      "only 1 class in test data - cannot compute roc curve\n"
     ]
    },
    {
     "name": "stderr",
     "output_type": "stream",
     "text": [
      "C:\\Users\\andre\\Anaconda3\\lib\\site-packages\\sklearn\\metrics\\classification.py:1137: UndefinedMetricWarning: F-score is ill-defined and being set to 0.0 due to no true samples.\n",
      "  'recall', 'true', average, warn_for)\n",
      "C:\\Users\\andre\\Anaconda3\\lib\\site-packages\\sklearn\\metrics\\ranking.py:444: RuntimeWarning: invalid value encountered in true_divide\n",
      "  recall = tps / tps[-1]\n",
      "C:\\Users\\andre\\Anaconda3\\lib\\site-packages\\sklearn\\metrics\\ranking.py:94: RuntimeWarning: invalid value encountered in less\n",
      "  if np.any(dx < 0):\n",
      "C:\\Users\\andre\\Anaconda3\\lib\\site-packages\\sklearn\\metrics\\classification.py:1137: UndefinedMetricWarning: Recall is ill-defined and being set to 0.0 due to no true samples.\n",
      "  'recall', 'true', average, warn_for)\n"
     ]
    },
    {
     "name": "stdout",
     "output_type": "stream",
     "text": [
      "only 1 class in test data - cannot compute roc curve\n"
     ]
    },
    {
     "name": "stderr",
     "output_type": "stream",
     "text": [
      "C:\\Users\\andre\\Anaconda3\\lib\\site-packages\\sklearn\\metrics\\classification.py:1137: UndefinedMetricWarning: F-score is ill-defined and being set to 0.0 due to no true samples.\n",
      "  'recall', 'true', average, warn_for)\n",
      "C:\\Users\\andre\\Anaconda3\\lib\\site-packages\\sklearn\\metrics\\ranking.py:444: RuntimeWarning: invalid value encountered in true_divide\n",
      "  recall = tps / tps[-1]\n",
      "C:\\Users\\andre\\Anaconda3\\lib\\site-packages\\sklearn\\metrics\\ranking.py:94: RuntimeWarning: invalid value encountered in less\n",
      "  if np.any(dx < 0):\n",
      "C:\\Users\\andre\\Anaconda3\\lib\\site-packages\\sklearn\\metrics\\classification.py:1137: UndefinedMetricWarning: Recall is ill-defined and being set to 0.0 due to no true samples.\n",
      "  'recall', 'true', average, warn_for)\n"
     ]
    },
    {
     "name": "stdout",
     "output_type": "stream",
     "text": [
      "only 1 class in test data - cannot compute roc curve\n"
     ]
    },
    {
     "name": "stderr",
     "output_type": "stream",
     "text": [
      "C:\\Users\\andre\\Anaconda3\\lib\\site-packages\\sklearn\\metrics\\classification.py:1137: UndefinedMetricWarning: F-score is ill-defined and being set to 0.0 due to no true samples.\n",
      "  'recall', 'true', average, warn_for)\n",
      "C:\\Users\\andre\\Anaconda3\\lib\\site-packages\\sklearn\\metrics\\ranking.py:444: RuntimeWarning: invalid value encountered in true_divide\n",
      "  recall = tps / tps[-1]\n",
      "C:\\Users\\andre\\Anaconda3\\lib\\site-packages\\sklearn\\metrics\\ranking.py:94: RuntimeWarning: invalid value encountered in less\n",
      "  if np.any(dx < 0):\n",
      "C:\\Users\\andre\\Anaconda3\\lib\\site-packages\\sklearn\\metrics\\classification.py:1137: UndefinedMetricWarning: Recall is ill-defined and being set to 0.0 due to no true samples.\n",
      "  'recall', 'true', average, warn_for)\n"
     ]
    },
    {
     "name": "stdout",
     "output_type": "stream",
     "text": [
      "only 1 class in test data - cannot compute roc curve\n"
     ]
    },
    {
     "name": "stderr",
     "output_type": "stream",
     "text": [
      "C:\\Users\\andre\\Anaconda3\\lib\\site-packages\\sklearn\\metrics\\classification.py:1137: UndefinedMetricWarning: F-score is ill-defined and being set to 0.0 due to no true samples.\n",
      "  'recall', 'true', average, warn_for)\n",
      "C:\\Users\\andre\\Anaconda3\\lib\\site-packages\\sklearn\\metrics\\ranking.py:444: RuntimeWarning: invalid value encountered in true_divide\n",
      "  recall = tps / tps[-1]\n",
      "C:\\Users\\andre\\Anaconda3\\lib\\site-packages\\sklearn\\metrics\\ranking.py:94: RuntimeWarning: invalid value encountered in less\n",
      "  if np.any(dx < 0):\n",
      "C:\\Users\\andre\\Anaconda3\\lib\\site-packages\\sklearn\\metrics\\classification.py:1137: UndefinedMetricWarning: Recall is ill-defined and being set to 0.0 due to no true samples.\n",
      "  'recall', 'true', average, warn_for)\n"
     ]
    },
    {
     "name": "stdout",
     "output_type": "stream",
     "text": [
      "only 1 class in test data - cannot compute roc curve\n"
     ]
    },
    {
     "name": "stderr",
     "output_type": "stream",
     "text": [
      "C:\\Users\\andre\\Anaconda3\\lib\\site-packages\\sklearn\\metrics\\classification.py:1137: UndefinedMetricWarning: F-score is ill-defined and being set to 0.0 due to no true samples.\n",
      "  'recall', 'true', average, warn_for)\n",
      "C:\\Users\\andre\\Anaconda3\\lib\\site-packages\\sklearn\\metrics\\ranking.py:444: RuntimeWarning: invalid value encountered in true_divide\n",
      "  recall = tps / tps[-1]\n",
      "C:\\Users\\andre\\Anaconda3\\lib\\site-packages\\sklearn\\metrics\\ranking.py:94: RuntimeWarning: invalid value encountered in less\n",
      "  if np.any(dx < 0):\n",
      "C:\\Users\\andre\\Anaconda3\\lib\\site-packages\\sklearn\\metrics\\classification.py:1137: UndefinedMetricWarning: Recall is ill-defined and being set to 0.0 due to no true samples.\n",
      "  'recall', 'true', average, warn_for)\n"
     ]
    },
    {
     "name": "stdout",
     "output_type": "stream",
     "text": [
      "only 1 class in test data - cannot compute roc curve\n"
     ]
    },
    {
     "name": "stderr",
     "output_type": "stream",
     "text": [
      "C:\\Users\\andre\\Anaconda3\\lib\\site-packages\\sklearn\\metrics\\classification.py:1137: UndefinedMetricWarning: F-score is ill-defined and being set to 0.0 due to no true samples.\n",
      "  'recall', 'true', average, warn_for)\n",
      "C:\\Users\\andre\\Anaconda3\\lib\\site-packages\\sklearn\\metrics\\ranking.py:444: RuntimeWarning: invalid value encountered in true_divide\n",
      "  recall = tps / tps[-1]\n",
      "C:\\Users\\andre\\Anaconda3\\lib\\site-packages\\sklearn\\metrics\\ranking.py:94: RuntimeWarning: invalid value encountered in less\n",
      "  if np.any(dx < 0):\n",
      "C:\\Users\\andre\\Anaconda3\\lib\\site-packages\\sklearn\\metrics\\classification.py:1137: UndefinedMetricWarning: Recall is ill-defined and being set to 0.0 due to no true samples.\n",
      "  'recall', 'true', average, warn_for)\n"
     ]
    },
    {
     "name": "stdout",
     "output_type": "stream",
     "text": [
      "only 1 class in test data - cannot compute roc curve\n"
     ]
    },
    {
     "name": "stderr",
     "output_type": "stream",
     "text": [
      "C:\\Users\\andre\\Anaconda3\\lib\\site-packages\\sklearn\\metrics\\classification.py:1137: UndefinedMetricWarning: F-score is ill-defined and being set to 0.0 due to no true samples.\n",
      "  'recall', 'true', average, warn_for)\n",
      "C:\\Users\\andre\\Anaconda3\\lib\\site-packages\\sklearn\\metrics\\ranking.py:444: RuntimeWarning: invalid value encountered in true_divide\n",
      "  recall = tps / tps[-1]\n",
      "C:\\Users\\andre\\Anaconda3\\lib\\site-packages\\sklearn\\metrics\\ranking.py:94: RuntimeWarning: invalid value encountered in less\n",
      "  if np.any(dx < 0):\n",
      "C:\\Users\\andre\\Anaconda3\\lib\\site-packages\\sklearn\\metrics\\classification.py:1137: UndefinedMetricWarning: Recall is ill-defined and being set to 0.0 due to no true samples.\n",
      "  'recall', 'true', average, warn_for)\n"
     ]
    },
    {
     "name": "stdout",
     "output_type": "stream",
     "text": [
      "only 1 class in test data - cannot compute roc curve\n"
     ]
    },
    {
     "name": "stderr",
     "output_type": "stream",
     "text": [
      "C:\\Users\\andre\\Anaconda3\\lib\\site-packages\\sklearn\\metrics\\classification.py:1137: UndefinedMetricWarning: F-score is ill-defined and being set to 0.0 due to no true samples.\n",
      "  'recall', 'true', average, warn_for)\n",
      "C:\\Users\\andre\\Anaconda3\\lib\\site-packages\\sklearn\\metrics\\ranking.py:444: RuntimeWarning: invalid value encountered in true_divide\n",
      "  recall = tps / tps[-1]\n",
      "C:\\Users\\andre\\Anaconda3\\lib\\site-packages\\sklearn\\metrics\\ranking.py:94: RuntimeWarning: invalid value encountered in less\n",
      "  if np.any(dx < 0):\n",
      "C:\\Users\\andre\\Anaconda3\\lib\\site-packages\\sklearn\\metrics\\classification.py:1137: UndefinedMetricWarning: Recall is ill-defined and being set to 0.0 due to no true samples.\n",
      "  'recall', 'true', average, warn_for)\n"
     ]
    },
    {
     "name": "stdout",
     "output_type": "stream",
     "text": [
      "only 1 class in test data - cannot compute roc curve\n"
     ]
    },
    {
     "name": "stderr",
     "output_type": "stream",
     "text": [
      "C:\\Users\\andre\\Anaconda3\\lib\\site-packages\\sklearn\\metrics\\classification.py:1137: UndefinedMetricWarning: F-score is ill-defined and being set to 0.0 due to no true samples.\n",
      "  'recall', 'true', average, warn_for)\n",
      "C:\\Users\\andre\\Anaconda3\\lib\\site-packages\\sklearn\\metrics\\ranking.py:444: RuntimeWarning: invalid value encountered in true_divide\n",
      "  recall = tps / tps[-1]\n",
      "C:\\Users\\andre\\Anaconda3\\lib\\site-packages\\sklearn\\metrics\\ranking.py:94: RuntimeWarning: invalid value encountered in less\n",
      "  if np.any(dx < 0):\n",
      "C:\\Users\\andre\\Anaconda3\\lib\\site-packages\\sklearn\\metrics\\classification.py:1137: UndefinedMetricWarning: Recall is ill-defined and being set to 0.0 due to no true samples.\n",
      "  'recall', 'true', average, warn_for)\n"
     ]
    },
    {
     "name": "stdout",
     "output_type": "stream",
     "text": [
      "only 1 class in test data - cannot compute roc curve\n"
     ]
    },
    {
     "name": "stderr",
     "output_type": "stream",
     "text": [
      "C:\\Users\\andre\\Anaconda3\\lib\\site-packages\\sklearn\\metrics\\classification.py:1137: UndefinedMetricWarning: F-score is ill-defined and being set to 0.0 due to no true samples.\n",
      "  'recall', 'true', average, warn_for)\n",
      "C:\\Users\\andre\\Anaconda3\\lib\\site-packages\\sklearn\\metrics\\ranking.py:444: RuntimeWarning: invalid value encountered in true_divide\n",
      "  recall = tps / tps[-1]\n",
      "C:\\Users\\andre\\Anaconda3\\lib\\site-packages\\sklearn\\metrics\\ranking.py:94: RuntimeWarning: invalid value encountered in less\n",
      "  if np.any(dx < 0):\n",
      "C:\\Users\\andre\\Anaconda3\\lib\\site-packages\\sklearn\\metrics\\classification.py:1137: UndefinedMetricWarning: Recall is ill-defined and being set to 0.0 due to no true samples.\n",
      "  'recall', 'true', average, warn_for)\n"
     ]
    },
    {
     "name": "stdout",
     "output_type": "stream",
     "text": [
      "only 1 class in test data - cannot compute roc curve\n"
     ]
    },
    {
     "name": "stderr",
     "output_type": "stream",
     "text": [
      "C:\\Users\\andre\\Anaconda3\\lib\\site-packages\\sklearn\\metrics\\classification.py:1137: UndefinedMetricWarning: F-score is ill-defined and being set to 0.0 due to no true samples.\n",
      "  'recall', 'true', average, warn_for)\n",
      "C:\\Users\\andre\\Anaconda3\\lib\\site-packages\\sklearn\\metrics\\ranking.py:444: RuntimeWarning: invalid value encountered in true_divide\n",
      "  recall = tps / tps[-1]\n",
      "C:\\Users\\andre\\Anaconda3\\lib\\site-packages\\sklearn\\metrics\\ranking.py:94: RuntimeWarning: invalid value encountered in less\n",
      "  if np.any(dx < 0):\n",
      "C:\\Users\\andre\\Anaconda3\\lib\\site-packages\\sklearn\\metrics\\classification.py:1137: UndefinedMetricWarning: Recall is ill-defined and being set to 0.0 due to no true samples.\n",
      "  'recall', 'true', average, warn_for)\n"
     ]
    },
    {
     "name": "stdout",
     "output_type": "stream",
     "text": [
      "only 1 class in test data - cannot compute roc curve\n"
     ]
    },
    {
     "name": "stderr",
     "output_type": "stream",
     "text": [
      "C:\\Users\\andre\\Anaconda3\\lib\\site-packages\\sklearn\\metrics\\classification.py:1137: UndefinedMetricWarning: F-score is ill-defined and being set to 0.0 due to no true samples.\n",
      "  'recall', 'true', average, warn_for)\n",
      "C:\\Users\\andre\\Anaconda3\\lib\\site-packages\\sklearn\\metrics\\ranking.py:444: RuntimeWarning: invalid value encountered in true_divide\n",
      "  recall = tps / tps[-1]\n",
      "C:\\Users\\andre\\Anaconda3\\lib\\site-packages\\sklearn\\metrics\\ranking.py:94: RuntimeWarning: invalid value encountered in less\n",
      "  if np.any(dx < 0):\n",
      "C:\\Users\\andre\\Anaconda3\\lib\\site-packages\\sklearn\\metrics\\classification.py:1137: UndefinedMetricWarning: Recall is ill-defined and being set to 0.0 due to no true samples.\n",
      "  'recall', 'true', average, warn_for)\n"
     ]
    },
    {
     "name": "stdout",
     "output_type": "stream",
     "text": [
      "only 1 class in test data - cannot compute roc curve\n"
     ]
    },
    {
     "name": "stderr",
     "output_type": "stream",
     "text": [
      "C:\\Users\\andre\\Anaconda3\\lib\\site-packages\\sklearn\\metrics\\classification.py:1137: UndefinedMetricWarning: F-score is ill-defined and being set to 0.0 due to no true samples.\n",
      "  'recall', 'true', average, warn_for)\n",
      "C:\\Users\\andre\\Anaconda3\\lib\\site-packages\\sklearn\\metrics\\ranking.py:444: RuntimeWarning: invalid value encountered in true_divide\n",
      "  recall = tps / tps[-1]\n",
      "C:\\Users\\andre\\Anaconda3\\lib\\site-packages\\sklearn\\metrics\\ranking.py:94: RuntimeWarning: invalid value encountered in less\n",
      "  if np.any(dx < 0):\n",
      "C:\\Users\\andre\\Anaconda3\\lib\\site-packages\\sklearn\\metrics\\classification.py:1137: UndefinedMetricWarning: Recall is ill-defined and being set to 0.0 due to no true samples.\n",
      "  'recall', 'true', average, warn_for)\n"
     ]
    },
    {
     "name": "stdout",
     "output_type": "stream",
     "text": [
      "only 1 class in test data - cannot compute roc curve\n"
     ]
    },
    {
     "name": "stderr",
     "output_type": "stream",
     "text": [
      "C:\\Users\\andre\\Anaconda3\\lib\\site-packages\\sklearn\\metrics\\classification.py:1137: UndefinedMetricWarning: F-score is ill-defined and being set to 0.0 due to no true samples.\n",
      "  'recall', 'true', average, warn_for)\n",
      "C:\\Users\\andre\\Anaconda3\\lib\\site-packages\\sklearn\\metrics\\ranking.py:444: RuntimeWarning: invalid value encountered in true_divide\n",
      "  recall = tps / tps[-1]\n",
      "C:\\Users\\andre\\Anaconda3\\lib\\site-packages\\sklearn\\metrics\\ranking.py:94: RuntimeWarning: invalid value encountered in less\n",
      "  if np.any(dx < 0):\n",
      "C:\\Users\\andre\\Anaconda3\\lib\\site-packages\\sklearn\\metrics\\classification.py:1137: UndefinedMetricWarning: Recall is ill-defined and being set to 0.0 due to no true samples.\n",
      "  'recall', 'true', average, warn_for)\n"
     ]
    },
    {
     "name": "stdout",
     "output_type": "stream",
     "text": [
      "only 1 class in test data - cannot compute roc curve\n"
     ]
    },
    {
     "name": "stderr",
     "output_type": "stream",
     "text": [
      "C:\\Users\\andre\\Anaconda3\\lib\\site-packages\\sklearn\\metrics\\classification.py:1137: UndefinedMetricWarning: F-score is ill-defined and being set to 0.0 due to no true samples.\n",
      "  'recall', 'true', average, warn_for)\n",
      "C:\\Users\\andre\\Anaconda3\\lib\\site-packages\\sklearn\\metrics\\ranking.py:444: RuntimeWarning: invalid value encountered in true_divide\n",
      "  recall = tps / tps[-1]\n",
      "C:\\Users\\andre\\Anaconda3\\lib\\site-packages\\sklearn\\metrics\\ranking.py:94: RuntimeWarning: invalid value encountered in less\n",
      "  if np.any(dx < 0):\n",
      "C:\\Users\\andre\\Anaconda3\\lib\\site-packages\\sklearn\\metrics\\classification.py:1137: UndefinedMetricWarning: Recall is ill-defined and being set to 0.0 due to no true samples.\n",
      "  'recall', 'true', average, warn_for)\n"
     ]
    },
    {
     "name": "stdout",
     "output_type": "stream",
     "text": [
      "only 1 class in test data - cannot compute roc curve\n",
      "Clinical 0.7254522705795429 (0.645481352377457, 0.8054231887816288)\n",
      "Walking 0.6817116654214878 (0.45570259358973775, 0.9077207372532378)\n"
     ]
    },
    {
     "name": "stderr",
     "output_type": "stream",
     "text": [
      "C:\\Users\\andre\\Anaconda3\\lib\\site-packages\\seaborn\\timeseries.py:183: UserWarning: The tsplot function is deprecated and will be removed or replaced (in a substantially altered version) in a future release.\n",
      "  warnings.warn(msg, UserWarning)\n"
     ]
    },
    {
     "name": "stdout",
     "output_type": "stream",
     "text": [
      "Gross Motor 0.5688706557060916 (0.5083018179980237, 0.6294394934141596)\n",
      "Fine Motor 0.702510620199436 (0.6031355974062202, 0.8018856429926517)\n",
      "Elapsed time = 15.996 min\n"
     ]
    },
    {
     "data": {
      "image/png": "[encoded data removed]",
      "text/plain": [
       "<matplotlib.figure.Figure at 0x2d2701045c0>"
      ]
     },
     "metadata": {},
     "output_type": "display_data"
    }
   ],
   "source": [
    "# Global Models\n",
    "t1=time.time()\n",
    "res_all = pd.DataFrame()\n",
    "\n",
    "Data=Data.reset_index(drop=True) #reset index\n",
    "ind=1\n",
    "\n",
    "# for symptom in ['Bradykinesia']:\n",
    "for symptom in ['Tremor']:\n",
    "    \n",
    "    #remove nan rows for current symptom\n",
    "    Data = Dataorig.copy() #original unmodified dataframe\n",
    "    Data=Data[~Data[symptom].isnull()]\n",
    "    Data=Data.reset_index(drop=True) #reset index\n",
    "    \n",
    "    X = Data.iloc[:,7:].as_matrix()\n",
    "    # X = StandardScaler().fit_transform(X)\n",
    "    fnames = Data.iloc[:,7:].columns.values\n",
    "\n",
    "    indp = ((Data[symptom]>0))\n",
    "    indp = indp.values\n",
    "    y = indp.astype(int) #target \n",
    "    print('Rows w %s %d/%d = %.2f'%(symptom,sum(indp),len(indp),(sum(indp)/len(indp))))\n",
    "\n",
    "    models = [RandomForestClassifier(n_estimators=50,random_state=2)]          \n",
    "#           XGBClassifier()]\n",
    "    model_name = ['Random Forest']#,'XGB']\n",
    "    models = list(zip(models,model_name))\n",
    "    groups = Data.Subject.as_matrix()\n",
    "\n",
    "    res,res_group = LOSOCV_Tasks(Data,X,y,groups,tasks,models[0][0])\n",
    "    res_all = pd.concat((res_all,res))\n",
    "    \n",
    "    Tasks = list(res_group.keys())\n",
    "    AX=None\n",
    "#     plt.figure(figsize=(9,6))\n",
    "\n",
    "    figure = plt.figure()\n",
    "    figure.set_dpi(100)\n",
    "    figure.set_size_inches(6.4,4.8)\n",
    "    \n",
    "    cols = ['b','r','g','m','k']\n",
    "    TaskNames = ['Clinical', 'Walking', 'Gross Motor', 'Fine Motor', 'All']\n",
    "    for x,T in zip(range(len(Tasks)),Tasks):\n",
    "        NanInds = []\n",
    "        for i in range(len(res_group[T]['auroc'])):\n",
    "            if np.isnan(res_group[T]['auroc'][i]):\n",
    "                NanInds.append(i)\n",
    "        for i in sorted(NanInds,reverse=True):\n",
    "            del res_group[T]['tpr'][i]\n",
    "            del res_group[T]['auroc'][i]\n",
    "            \n",
    "        AUC = res_group[T]['auroc']\n",
    "        print(TaskNames[x],np.mean(AUC),\n",
    "              stats.t.interval(.95,len(AUC)-1, loc=np.mean(AUC), scale=stats.sem(AUC)))\n",
    "            \n",
    "        if AX==None:\n",
    "            AX = plot_roc(res_group[T]['tpr'],res_group[T]['fpr'][0],np.mean(res_group[T]['auroc']),plotname=TaskNames[x],col = cols[x])\n",
    "        else:\n",
    "            plot_roc(res_group[T]['tpr'],res_group[T]['fpr'][0],np.mean(res_group[T]['auroc']),plotname=TaskNames[x],ax=AX,col=cols[x])\n",
    "    \n",
    "    save_object(res_group,symptom+'DataResults')\n",
    "    plt.savefig(symptom+'Tasks.tiff',format='tiff',dpi=1000)\n",
    "    plt.savefig(symptom+'Tasks.png',format='png',dpi=1000)\n",
    "    \n",
    "print('Elapsed time = %.3f min'%((time.time()-t1)/60))  "
   ]
  },
  {
   "cell_type": "code",
   "execution_count": null,
   "metadata": {},
   "outputs": [],
   "source": [
    "file.close()"
   ]
  },
  {
   "cell_type": "code",
   "execution_count": 35,
   "metadata": {},
   "outputs": [],
   "source": [
    "with open('BradykinesiaDataResults','rb') as file:\n",
    "    BradykinesiaRes = pickle.load(file)\n",
    "    \n",
    "# with open('TremorDataResults','rb') as file:\n",
    "#     TremorRes = pickle.load(file)"
   ]
  },
  {
   "cell_type": "code",
   "execution_count": 36,
   "metadata": {},
   "outputs": [
    {
     "name": "stdout",
     "output_type": "stream",
     "text": [
      "('Motor #4: Finger to Nose', 'Motor #5: Alternating Hand Movements')\n",
      "Ttest_indResult(statistic=0.0, pvalue=1.0)\n",
      "('Motor #2: Walking', 'Motor #3: Walking while Counting', 'Motor #1: Standing', 'Motor #13: Sitting')\n",
      "Ttest_indResult(statistic=-0.6186182201885729, pvalue=0.5405467883012931)\n",
      "('Motor #10: Drinking Water', 'Motor #11: Organizing Folder', 'Motor #12: Folding Towels')\n",
      "Ttest_indResult(statistic=1.61336345178503, pvalue=0.11713683600421766)\n",
      "('Motor #7: Drawing on Paper', 'Motor #8: Typing on a Computer', 'Motor #9: Nuts and Bolts')\n",
      "Ttest_indResult(statistic=-0.9733509825919716, pvalue=0.3374600719691072)\n"
     ]
    }
   ],
   "source": [
    "for k in BradykinesiaRes.keys():\n",
    "    print(k)\n",
    "    try:\n",
    "        print(stats.ttest_ind(BradykinesiaRes[('Motor #4: Finger to Nose', 'Motor #5: Alternating Hand Movements')]['auroc'],\n",
    "                              BradykinesiaRes[k]['auroc']))\n",
    "    except:\n",
    "        continue"
   ]
  },
  {
   "cell_type": "code",
   "execution_count": null,
   "metadata": {},
   "outputs": [],
   "source": [
    "for k in TremorRes.keys():\n",
    "    print(k)\n",
    "    try:\n",
    "        print(stats.ttest_ind(TremorRes[('Motor #4: Finger to Nose', 'Motor #5: Alternating Hand Movements')]['auroc'],\n",
    "                              TremorRes[k]['auroc']))\n",
    "    except:\n",
    "        continue"
   ]
  },
  {
   "cell_type": "code",
   "execution_count": null,
   "metadata": {},
   "outputs": [],
   "source": [
    "save_object(res_group,symptom+'DataResults')\n",
    "plt.savefig(symptom+'Tasks.svg')\n",
    "plt.savefig(symptom+'Tasks.png')"
   ]
  },
  {
   "cell_type": "code",
   "execution_count": 33,
   "metadata": {},
   "outputs": [
    {
     "name": "stdout",
     "output_type": "stream",
     "text": [
      "Rows w Bradykinesia 16574/32368 = 0.51\n",
      "only 1 class in test data - cannot compute roc curve\n"
     ]
    },
    {
     "name": "stderr",
     "output_type": "stream",
     "text": [
      "C:\\Users\\nshawen\\AppData\\Local\\Continuum\\anaconda3\\lib\\site-packages\\ipykernel_launcher.py:273: RuntimeWarning: invalid value encountered in long_scalars\n"
     ]
    },
    {
     "name": "stdout",
     "output_type": "stream",
     "text": [
      "only 1 class in test data - cannot compute roc curve\n"
     ]
    },
    {
     "name": "stderr",
     "output_type": "stream",
     "text": [
      "C:\\Users\\nshawen\\AppData\\Local\\Continuum\\anaconda3\\lib\\site-packages\\ipykernel_launcher.py:273: RuntimeWarning: invalid value encountered in long_scalars\n",
      "C:\\Users\\nshawen\\AppData\\Local\\Continuum\\anaconda3\\lib\\site-packages\\sklearn\\metrics\\classification.py:1135: UndefinedMetricWarning: F-score is ill-defined and being set to 0.0 due to no predicted samples.\n",
      "  'precision', 'predicted', average, warn_for)\n",
      "C:\\Users\\nshawen\\AppData\\Local\\Continuum\\anaconda3\\lib\\site-packages\\sklearn\\metrics\\classification.py:1135: UndefinedMetricWarning: Precision is ill-defined and being set to 0.0 due to no predicted samples.\n",
      "  'precision', 'predicted', average, warn_for)\n",
      "C:\\Users\\nshawen\\AppData\\Local\\Continuum\\anaconda3\\lib\\site-packages\\sklearn\\metrics\\ranking.py:444: RuntimeWarning: invalid value encountered in true_divide\n",
      "  recall = tps / tps[-1]\n",
      "C:\\Users\\nshawen\\AppData\\Local\\Continuum\\anaconda3\\lib\\site-packages\\sklearn\\metrics\\ranking.py:94: RuntimeWarning: invalid value encountered in less\n",
      "  if np.any(dx < 0):\n"
     ]
    },
    {
     "name": "stdout",
     "output_type": "stream",
     "text": [
      "only 1 class in test data - cannot compute roc curve\n"
     ]
    },
    {
     "name": "stderr",
     "output_type": "stream",
     "text": [
      "C:\\Users\\nshawen\\AppData\\Local\\Continuum\\anaconda3\\lib\\site-packages\\sklearn\\metrics\\ranking.py:444: RuntimeWarning: invalid value encountered in true_divide\n",
      "  recall = tps / tps[-1]\n",
      "C:\\Users\\nshawen\\AppData\\Local\\Continuum\\anaconda3\\lib\\site-packages\\sklearn\\metrics\\ranking.py:94: RuntimeWarning: invalid value encountered in less\n",
      "  if np.any(dx < 0):\n"
     ]
    },
    {
     "name": "stdout",
     "output_type": "stream",
     "text": [
      "only 1 class in test data - cannot compute roc curve\n"
     ]
    },
    {
     "name": "stderr",
     "output_type": "stream",
     "text": [
      "C:\\Users\\nshawen\\AppData\\Local\\Continuum\\anaconda3\\lib\\site-packages\\sklearn\\metrics\\classification.py:1137: UndefinedMetricWarning: F-score is ill-defined and being set to 0.0 due to no true samples.\n",
      "  'recall', 'true', average, warn_for)\n",
      "C:\\Users\\nshawen\\AppData\\Local\\Continuum\\anaconda3\\lib\\site-packages\\sklearn\\metrics\\ranking.py:444: RuntimeWarning: invalid value encountered in true_divide\n",
      "  recall = tps / tps[-1]\n",
      "C:\\Users\\nshawen\\AppData\\Local\\Continuum\\anaconda3\\lib\\site-packages\\sklearn\\metrics\\ranking.py:94: RuntimeWarning: invalid value encountered in less\n",
      "  if np.any(dx < 0):\n",
      "C:\\Users\\nshawen\\AppData\\Local\\Continuum\\anaconda3\\lib\\site-packages\\sklearn\\metrics\\classification.py:1137: UndefinedMetricWarning: Recall is ill-defined and being set to 0.0 due to no true samples.\n",
      "  'recall', 'true', average, warn_for)\n"
     ]
    },
    {
     "name": "stdout",
     "output_type": "stream",
     "text": [
      "only 1 class in test data - cannot compute roc curve\n",
      "only 1 class in test data - cannot compute roc curve\n"
     ]
    },
    {
     "name": "stderr",
     "output_type": "stream",
     "text": [
      "C:\\Users\\nshawen\\AppData\\Local\\Continuum\\anaconda3\\lib\\site-packages\\ipykernel_launcher.py:273: RuntimeWarning: invalid value encountered in long_scalars\n",
      "C:\\Users\\nshawen\\AppData\\Local\\Continuum\\anaconda3\\lib\\site-packages\\sklearn\\metrics\\classification.py:1137: UndefinedMetricWarning: F-score is ill-defined and being set to 0.0 due to no true samples.\n",
      "  'recall', 'true', average, warn_for)\n",
      "C:\\Users\\nshawen\\AppData\\Local\\Continuum\\anaconda3\\lib\\site-packages\\sklearn\\metrics\\ranking.py:444: RuntimeWarning: invalid value encountered in true_divide\n",
      "  recall = tps / tps[-1]\n",
      "C:\\Users\\nshawen\\AppData\\Local\\Continuum\\anaconda3\\lib\\site-packages\\sklearn\\metrics\\ranking.py:94: RuntimeWarning: invalid value encountered in less\n",
      "  if np.any(dx < 0):\n",
      "C:\\Users\\nshawen\\AppData\\Local\\Continuum\\anaconda3\\lib\\site-packages\\sklearn\\metrics\\classification.py:1137: UndefinedMetricWarning: Recall is ill-defined and being set to 0.0 due to no true samples.\n",
      "  'recall', 'true', average, warn_for)\n"
     ]
    },
    {
     "name": "stdout",
     "output_type": "stream",
     "text": [
      "only 1 class in test data - cannot compute roc curve\n"
     ]
    },
    {
     "name": "stderr",
     "output_type": "stream",
     "text": [
      "C:\\Users\\nshawen\\AppData\\Local\\Continuum\\anaconda3\\lib\\site-packages\\sklearn\\metrics\\classification.py:1137: UndefinedMetricWarning: F-score is ill-defined and being set to 0.0 due to no true samples.\n",
      "  'recall', 'true', average, warn_for)\n",
      "C:\\Users\\nshawen\\AppData\\Local\\Continuum\\anaconda3\\lib\\site-packages\\sklearn\\metrics\\ranking.py:444: RuntimeWarning: invalid value encountered in true_divide\n",
      "  recall = tps / tps[-1]\n",
      "C:\\Users\\nshawen\\AppData\\Local\\Continuum\\anaconda3\\lib\\site-packages\\sklearn\\metrics\\ranking.py:94: RuntimeWarning: invalid value encountered in less\n",
      "  if np.any(dx < 0):\n",
      "C:\\Users\\nshawen\\AppData\\Local\\Continuum\\anaconda3\\lib\\site-packages\\sklearn\\metrics\\classification.py:1137: UndefinedMetricWarning: Recall is ill-defined and being set to 0.0 due to no true samples.\n",
      "  'recall', 'true', average, warn_for)\n"
     ]
    },
    {
     "name": "stdout",
     "output_type": "stream",
     "text": [
      "only 1 class in test data - cannot compute roc curve\n"
     ]
    },
    {
     "name": "stderr",
     "output_type": "stream",
     "text": [
      "C:\\Users\\nshawen\\AppData\\Local\\Continuum\\anaconda3\\lib\\site-packages\\sklearn\\metrics\\classification.py:1137: UndefinedMetricWarning: F-score is ill-defined and being set to 0.0 due to no true samples.\n",
      "  'recall', 'true', average, warn_for)\n",
      "C:\\Users\\nshawen\\AppData\\Local\\Continuum\\anaconda3\\lib\\site-packages\\sklearn\\metrics\\ranking.py:444: RuntimeWarning: invalid value encountered in true_divide\n",
      "  recall = tps / tps[-1]\n",
      "C:\\Users\\nshawen\\AppData\\Local\\Continuum\\anaconda3\\lib\\site-packages\\sklearn\\metrics\\ranking.py:94: RuntimeWarning: invalid value encountered in less\n",
      "  if np.any(dx < 0):\n",
      "C:\\Users\\nshawen\\AppData\\Local\\Continuum\\anaconda3\\lib\\site-packages\\sklearn\\metrics\\classification.py:1137: UndefinedMetricWarning: Recall is ill-defined and being set to 0.0 due to no true samples.\n",
      "  'recall', 'true', average, warn_for)\n"
     ]
    },
    {
     "name": "stdout",
     "output_type": "stream",
     "text": [
      "only 1 class in test data - cannot compute roc curve\n"
     ]
    },
    {
     "name": "stderr",
     "output_type": "stream",
     "text": [
      "C:\\Users\\nshawen\\AppData\\Local\\Continuum\\anaconda3\\lib\\site-packages\\sklearn\\metrics\\classification.py:1137: UndefinedMetricWarning: F-score is ill-defined and being set to 0.0 due to no true samples.\n",
      "  'recall', 'true', average, warn_for)\n",
      "C:\\Users\\nshawen\\AppData\\Local\\Continuum\\anaconda3\\lib\\site-packages\\sklearn\\metrics\\ranking.py:444: RuntimeWarning: invalid value encountered in true_divide\n",
      "  recall = tps / tps[-1]\n",
      "C:\\Users\\nshawen\\AppData\\Local\\Continuum\\anaconda3\\lib\\site-packages\\sklearn\\metrics\\ranking.py:94: RuntimeWarning: invalid value encountered in less\n",
      "  if np.any(dx < 0):\n",
      "C:\\Users\\nshawen\\AppData\\Local\\Continuum\\anaconda3\\lib\\site-packages\\sklearn\\metrics\\classification.py:1137: UndefinedMetricWarning: Recall is ill-defined and being set to 0.0 due to no true samples.\n",
      "  'recall', 'true', average, warn_for)\n"
     ]
    },
    {
     "name": "stdout",
     "output_type": "stream",
     "text": [
      "only 1 class in test data - cannot compute roc curve\n",
      "only 1 class in test data - cannot compute roc curve\n"
     ]
    },
    {
     "name": "stderr",
     "output_type": "stream",
     "text": [
      "C:\\Users\\nshawen\\AppData\\Local\\Continuum\\anaconda3\\lib\\site-packages\\ipykernel_launcher.py:273: RuntimeWarning: invalid value encountered in long_scalars\n"
     ]
    },
    {
     "name": "stdout",
     "output_type": "stream",
     "text": [
      "only 1 class in test data - cannot compute roc curve\n"
     ]
    },
    {
     "name": "stderr",
     "output_type": "stream",
     "text": [
      "C:\\Users\\nshawen\\AppData\\Local\\Continuum\\anaconda3\\lib\\site-packages\\ipykernel_launcher.py:273: RuntimeWarning: invalid value encountered in long_scalars\n"
     ]
    },
    {
     "name": "stdout",
     "output_type": "stream",
     "text": [
      "only 1 class in test data - cannot compute roc curve\n"
     ]
    },
    {
     "name": "stderr",
     "output_type": "stream",
     "text": [
      "C:\\Users\\nshawen\\AppData\\Local\\Continuum\\anaconda3\\lib\\site-packages\\ipykernel_launcher.py:273: RuntimeWarning: invalid value encountered in long_scalars\n"
     ]
    },
    {
     "name": "stdout",
     "output_type": "stream",
     "text": [
      "only 1 class in test data - cannot compute roc curve\n"
     ]
    },
    {
     "name": "stderr",
     "output_type": "stream",
     "text": [
      "C:\\Users\\nshawen\\AppData\\Local\\Continuum\\anaconda3\\lib\\site-packages\\ipykernel_launcher.py:273: RuntimeWarning: invalid value encountered in long_scalars\n"
     ]
    },
    {
     "name": "stdout",
     "output_type": "stream",
     "text": [
      "only 1 class in test data - cannot compute roc curve\n"
     ]
    },
    {
     "name": "stderr",
     "output_type": "stream",
     "text": [
      "C:\\Users\\nshawen\\AppData\\Local\\Continuum\\anaconda3\\lib\\site-packages\\ipykernel_launcher.py:273: RuntimeWarning: invalid value encountered in long_scalars\n"
     ]
    },
    {
     "name": "stdout",
     "output_type": "stream",
     "text": [
      "only 1 class in test data - cannot compute roc curve\n"
     ]
    },
    {
     "name": "stderr",
     "output_type": "stream",
     "text": [
      "C:\\Users\\nshawen\\AppData\\Local\\Continuum\\anaconda3\\lib\\site-packages\\ipykernel_launcher.py:273: RuntimeWarning: invalid value encountered in long_scalars\n"
     ]
    },
    {
     "name": "stdout",
     "output_type": "stream",
     "text": [
      "only 1 class in test data - cannot compute roc curve\n"
     ]
    },
    {
     "name": "stderr",
     "output_type": "stream",
     "text": [
      "C:\\Users\\nshawen\\AppData\\Local\\Continuum\\anaconda3\\lib\\site-packages\\ipykernel_launcher.py:273: RuntimeWarning: invalid value encountered in long_scalars\n"
     ]
    },
    {
     "name": "stdout",
     "output_type": "stream",
     "text": [
      "only 1 class in test data - cannot compute roc curve\n"
     ]
    },
    {
     "name": "stderr",
     "output_type": "stream",
     "text": [
      "C:\\Users\\nshawen\\AppData\\Local\\Continuum\\anaconda3\\lib\\site-packages\\ipykernel_launcher.py:273: RuntimeWarning: invalid value encountered in long_scalars\n"
     ]
    },
    {
     "name": "stdout",
     "output_type": "stream",
     "text": [
      "only 1 class in test data - cannot compute roc curve\n"
     ]
    },
    {
     "name": "stderr",
     "output_type": "stream",
     "text": [
      "C:\\Users\\nshawen\\AppData\\Local\\Continuum\\anaconda3\\lib\\site-packages\\ipykernel_launcher.py:273: RuntimeWarning: invalid value encountered in long_scalars\n"
     ]
    },
    {
     "name": "stdout",
     "output_type": "stream",
     "text": [
      "only 1 class in test data - cannot compute roc curve\n"
     ]
    },
    {
     "name": "stderr",
     "output_type": "stream",
     "text": [
      "C:\\Users\\nshawen\\AppData\\Local\\Continuum\\anaconda3\\lib\\site-packages\\ipykernel_launcher.py:273: RuntimeWarning: invalid value encountered in long_scalars\n"
     ]
    },
    {
     "name": "stdout",
     "output_type": "stream",
     "text": [
      "only 1 class in test data - cannot compute roc curve\n"
     ]
    },
    {
     "name": "stderr",
     "output_type": "stream",
     "text": [
      "C:\\Users\\nshawen\\AppData\\Local\\Continuum\\anaconda3\\lib\\site-packages\\ipykernel_launcher.py:273: RuntimeWarning: invalid value encountered in long_scalars\n"
     ]
    },
    {
     "name": "stdout",
     "output_type": "stream",
     "text": [
      "only 1 class in test data - cannot compute roc curve\n"
     ]
    },
    {
     "name": "stderr",
     "output_type": "stream",
     "text": [
      "C:\\Users\\nshawen\\AppData\\Local\\Continuum\\anaconda3\\lib\\site-packages\\ipykernel_launcher.py:273: RuntimeWarning: invalid value encountered in long_scalars\n"
     ]
    },
    {
     "name": "stdout",
     "output_type": "stream",
     "text": [
      "only 1 class in test data - cannot compute roc curve\n"
     ]
    },
    {
     "name": "stderr",
     "output_type": "stream",
     "text": [
      "C:\\Users\\nshawen\\AppData\\Local\\Continuum\\anaconda3\\lib\\site-packages\\ipykernel_launcher.py:273: RuntimeWarning: invalid value encountered in long_scalars\n"
     ]
    },
    {
     "name": "stdout",
     "output_type": "stream",
     "text": [
      "only 1 class in test data - cannot compute roc curve\n"
     ]
    },
    {
     "name": "stderr",
     "output_type": "stream",
     "text": [
      "C:\\Users\\nshawen\\AppData\\Local\\Continuum\\anaconda3\\lib\\site-packages\\ipykernel_launcher.py:273: RuntimeWarning: invalid value encountered in long_scalars\n"
     ]
    },
    {
     "name": "stdout",
     "output_type": "stream",
     "text": [
      "only 1 class in test data - cannot compute roc curve\n"
     ]
    },
    {
     "name": "stderr",
     "output_type": "stream",
     "text": [
      "C:\\Users\\nshawen\\AppData\\Local\\Continuum\\anaconda3\\lib\\site-packages\\ipykernel_launcher.py:273: RuntimeWarning: invalid value encountered in long_scalars\n"
     ]
    },
    {
     "name": "stdout",
     "output_type": "stream",
     "text": [
      "only 1 class in test data - cannot compute roc curve\n"
     ]
    },
    {
     "name": "stderr",
     "output_type": "stream",
     "text": [
      "C:\\Users\\nshawen\\AppData\\Local\\Continuum\\anaconda3\\lib\\site-packages\\ipykernel_launcher.py:273: RuntimeWarning: invalid value encountered in long_scalars\n",
      "C:\\Users\\nshawen\\AppData\\Local\\Continuum\\anaconda3\\lib\\site-packages\\ipykernel_launcher.py:317: RuntimeWarning: Mean of empty slice\n"
     ]
    },
    {
     "name": "stdout",
     "output_type": "stream",
     "text": [
      "only 1 class in test data - cannot compute roc curve\n"
     ]
    },
    {
     "name": "stderr",
     "output_type": "stream",
     "text": [
      "C:\\Users\\nshawen\\AppData\\Local\\Continuum\\anaconda3\\lib\\site-packages\\ipykernel_launcher.py:273: RuntimeWarning: invalid value encountered in long_scalars\n"
     ]
    },
    {
     "name": "stdout",
     "output_type": "stream",
     "text": [
      "only 1 class in test data - cannot compute roc curve\n"
     ]
    },
    {
     "name": "stderr",
     "output_type": "stream",
     "text": [
      "C:\\Users\\nshawen\\AppData\\Local\\Continuum\\anaconda3\\lib\\site-packages\\ipykernel_launcher.py:273: RuntimeWarning: invalid value encountered in long_scalars\n",
      "C:\\Users\\nshawen\\AppData\\Local\\Continuum\\anaconda3\\lib\\site-packages\\sklearn\\metrics\\classification.py:1137: UndefinedMetricWarning: F-score is ill-defined and being set to 0.0 due to no true samples.\n",
      "  'recall', 'true', average, warn_for)\n",
      "C:\\Users\\nshawen\\AppData\\Local\\Continuum\\anaconda3\\lib\\site-packages\\sklearn\\metrics\\ranking.py:444: RuntimeWarning: invalid value encountered in true_divide\n",
      "  recall = tps / tps[-1]\n",
      "C:\\Users\\nshawen\\AppData\\Local\\Continuum\\anaconda3\\lib\\site-packages\\sklearn\\metrics\\ranking.py:94: RuntimeWarning: invalid value encountered in less\n",
      "  if np.any(dx < 0):\n",
      "C:\\Users\\nshawen\\AppData\\Local\\Continuum\\anaconda3\\lib\\site-packages\\sklearn\\metrics\\classification.py:1137: UndefinedMetricWarning: Recall is ill-defined and being set to 0.0 due to no true samples.\n",
      "  'recall', 'true', average, warn_for)\n"
     ]
    },
    {
     "name": "stdout",
     "output_type": "stream",
     "text": [
      "only 1 class in test data - cannot compute roc curve\n"
     ]
    },
    {
     "name": "stderr",
     "output_type": "stream",
     "text": [
      "C:\\Users\\nshawen\\AppData\\Local\\Continuum\\anaconda3\\lib\\site-packages\\sklearn\\metrics\\classification.py:1137: UndefinedMetricWarning: F-score is ill-defined and being set to 0.0 due to no true samples.\n",
      "  'recall', 'true', average, warn_for)\n",
      "C:\\Users\\nshawen\\AppData\\Local\\Continuum\\anaconda3\\lib\\site-packages\\sklearn\\metrics\\ranking.py:444: RuntimeWarning: invalid value encountered in true_divide\n",
      "  recall = tps / tps[-1]\n",
      "C:\\Users\\nshawen\\AppData\\Local\\Continuum\\anaconda3\\lib\\site-packages\\sklearn\\metrics\\ranking.py:94: RuntimeWarning: invalid value encountered in less\n",
      "  if np.any(dx < 0):\n",
      "C:\\Users\\nshawen\\AppData\\Local\\Continuum\\anaconda3\\lib\\site-packages\\sklearn\\metrics\\classification.py:1137: UndefinedMetricWarning: Recall is ill-defined and being set to 0.0 due to no true samples.\n",
      "  'recall', 'true', average, warn_for)\n"
     ]
    },
    {
     "name": "stdout",
     "output_type": "stream",
     "text": [
      "only 1 class in test data - cannot compute roc curve\n"
     ]
    },
    {
     "name": "stderr",
     "output_type": "stream",
     "text": [
      "C:\\Users\\nshawen\\AppData\\Local\\Continuum\\anaconda3\\lib\\site-packages\\sklearn\\metrics\\classification.py:1137: UndefinedMetricWarning: F-score is ill-defined and being set to 0.0 due to no true samples.\n",
      "  'recall', 'true', average, warn_for)\n",
      "C:\\Users\\nshawen\\AppData\\Local\\Continuum\\anaconda3\\lib\\site-packages\\sklearn\\metrics\\ranking.py:444: RuntimeWarning: invalid value encountered in true_divide\n",
      "  recall = tps / tps[-1]\n",
      "C:\\Users\\nshawen\\AppData\\Local\\Continuum\\anaconda3\\lib\\site-packages\\sklearn\\metrics\\ranking.py:94: RuntimeWarning: invalid value encountered in less\n",
      "  if np.any(dx < 0):\n",
      "C:\\Users\\nshawen\\AppData\\Local\\Continuum\\anaconda3\\lib\\site-packages\\sklearn\\metrics\\classification.py:1137: UndefinedMetricWarning: Recall is ill-defined and being set to 0.0 due to no true samples.\n",
      "  'recall', 'true', average, warn_for)\n"
     ]
    },
    {
     "name": "stdout",
     "output_type": "stream",
     "text": [
      "only 1 class in test data - cannot compute roc curve\n"
     ]
    },
    {
     "name": "stderr",
     "output_type": "stream",
     "text": [
      "C:\\Users\\nshawen\\AppData\\Local\\Continuum\\anaconda3\\lib\\site-packages\\sklearn\\metrics\\classification.py:1137: UndefinedMetricWarning: F-score is ill-defined and being set to 0.0 due to no true samples.\n",
      "  'recall', 'true', average, warn_for)\n",
      "C:\\Users\\nshawen\\AppData\\Local\\Continuum\\anaconda3\\lib\\site-packages\\sklearn\\metrics\\ranking.py:444: RuntimeWarning: invalid value encountered in true_divide\n",
      "  recall = tps / tps[-1]\n",
      "C:\\Users\\nshawen\\AppData\\Local\\Continuum\\anaconda3\\lib\\site-packages\\sklearn\\metrics\\ranking.py:94: RuntimeWarning: invalid value encountered in less\n",
      "  if np.any(dx < 0):\n",
      "C:\\Users\\nshawen\\AppData\\Local\\Continuum\\anaconda3\\lib\\site-packages\\sklearn\\metrics\\classification.py:1137: UndefinedMetricWarning: Recall is ill-defined and being set to 0.0 due to no true samples.\n",
      "  'recall', 'true', average, warn_for)\n"
     ]
    },
    {
     "name": "stdout",
     "output_type": "stream",
     "text": [
      "only 1 class in test data - cannot compute roc curve\n"
     ]
    },
    {
     "name": "stderr",
     "output_type": "stream",
     "text": [
      "C:\\Users\\nshawen\\AppData\\Local\\Continuum\\anaconda3\\lib\\site-packages\\sklearn\\metrics\\classification.py:1137: UndefinedMetricWarning: F-score is ill-defined and being set to 0.0 due to no true samples.\n",
      "  'recall', 'true', average, warn_for)\n",
      "C:\\Users\\nshawen\\AppData\\Local\\Continuum\\anaconda3\\lib\\site-packages\\sklearn\\metrics\\ranking.py:444: RuntimeWarning: invalid value encountered in true_divide\n",
      "  recall = tps / tps[-1]\n",
      "C:\\Users\\nshawen\\AppData\\Local\\Continuum\\anaconda3\\lib\\site-packages\\sklearn\\metrics\\ranking.py:94: RuntimeWarning: invalid value encountered in less\n",
      "  if np.any(dx < 0):\n",
      "C:\\Users\\nshawen\\AppData\\Local\\Continuum\\anaconda3\\lib\\site-packages\\sklearn\\metrics\\classification.py:1137: UndefinedMetricWarning: Recall is ill-defined and being set to 0.0 due to no true samples.\n",
      "  'recall', 'true', average, warn_for)\n"
     ]
    },
    {
     "name": "stdout",
     "output_type": "stream",
     "text": [
      "only 1 class in test data - cannot compute roc curve\n",
      "only 1 class in test data - cannot compute roc curve\n"
     ]
    },
    {
     "name": "stderr",
     "output_type": "stream",
     "text": [
      "C:\\Users\\nshawen\\AppData\\Local\\Continuum\\anaconda3\\lib\\site-packages\\ipykernel_launcher.py:273: RuntimeWarning: invalid value encountered in long_scalars\n"
     ]
    },
    {
     "name": "stdout",
     "output_type": "stream",
     "text": [
      "only 1 class in test data - cannot compute roc curve\n"
     ]
    },
    {
     "name": "stderr",
     "output_type": "stream",
     "text": [
      "C:\\Users\\nshawen\\AppData\\Local\\Continuum\\anaconda3\\lib\\site-packages\\ipykernel_launcher.py:273: RuntimeWarning: invalid value encountered in long_scalars\n"
     ]
    },
    {
     "name": "stdout",
     "output_type": "stream",
     "text": [
      "only 1 class in test data - cannot compute roc curve\n"
     ]
    },
    {
     "name": "stderr",
     "output_type": "stream",
     "text": [
      "C:\\Users\\nshawen\\AppData\\Local\\Continuum\\anaconda3\\lib\\site-packages\\ipykernel_launcher.py:273: RuntimeWarning: invalid value encountered in long_scalars\n"
     ]
    },
    {
     "name": "stdout",
     "output_type": "stream",
     "text": [
      "only 1 class in test data - cannot compute roc curve\n"
     ]
    },
    {
     "name": "stderr",
     "output_type": "stream",
     "text": [
      "C:\\Users\\nshawen\\AppData\\Local\\Continuum\\anaconda3\\lib\\site-packages\\ipykernel_launcher.py:273: RuntimeWarning: invalid value encountered in long_scalars\n"
     ]
    },
    {
     "name": "stdout",
     "output_type": "stream",
     "text": [
      "only 1 class in test data - cannot compute roc curve\n"
     ]
    },
    {
     "name": "stderr",
     "output_type": "stream",
     "text": [
      "C:\\Users\\nshawen\\AppData\\Local\\Continuum\\anaconda3\\lib\\site-packages\\ipykernel_launcher.py:273: RuntimeWarning: invalid value encountered in long_scalars\n"
     ]
    },
    {
     "name": "stdout",
     "output_type": "stream",
     "text": [
      "only 1 class in test data - cannot compute roc curve\n"
     ]
    },
    {
     "name": "stderr",
     "output_type": "stream",
     "text": [
      "C:\\Users\\nshawen\\AppData\\Local\\Continuum\\anaconda3\\lib\\site-packages\\ipykernel_launcher.py:273: RuntimeWarning: invalid value encountered in long_scalars\n"
     ]
    },
    {
     "name": "stdout",
     "output_type": "stream",
     "text": [
      "only 1 class in test data - cannot compute roc curve\n"
     ]
    },
    {
     "name": "stderr",
     "output_type": "stream",
     "text": [
      "C:\\Users\\nshawen\\AppData\\Local\\Continuum\\anaconda3\\lib\\site-packages\\ipykernel_launcher.py:273: RuntimeWarning: invalid value encountered in long_scalars\n",
      "C:\\Users\\nshawen\\AppData\\Local\\Continuum\\anaconda3\\lib\\site-packages\\sklearn\\metrics\\classification.py:1137: UndefinedMetricWarning: F-score is ill-defined and being set to 0.0 due to no true samples.\n",
      "  'recall', 'true', average, warn_for)\n",
      "C:\\Users\\nshawen\\AppData\\Local\\Continuum\\anaconda3\\lib\\site-packages\\sklearn\\metrics\\ranking.py:444: RuntimeWarning: invalid value encountered in true_divide\n",
      "  recall = tps / tps[-1]\n",
      "C:\\Users\\nshawen\\AppData\\Local\\Continuum\\anaconda3\\lib\\site-packages\\sklearn\\metrics\\ranking.py:94: RuntimeWarning: invalid value encountered in less\n",
      "  if np.any(dx < 0):\n",
      "C:\\Users\\nshawen\\AppData\\Local\\Continuum\\anaconda3\\lib\\site-packages\\sklearn\\metrics\\classification.py:1137: UndefinedMetricWarning: Recall is ill-defined and being set to 0.0 due to no true samples.\n",
      "  'recall', 'true', average, warn_for)\n"
     ]
    },
    {
     "name": "stdout",
     "output_type": "stream",
     "text": [
      "only 1 class in test data - cannot compute roc curve\n"
     ]
    },
    {
     "name": "stderr",
     "output_type": "stream",
     "text": [
      "C:\\Users\\nshawen\\AppData\\Local\\Continuum\\anaconda3\\lib\\site-packages\\sklearn\\metrics\\classification.py:1137: UndefinedMetricWarning: F-score is ill-defined and being set to 0.0 due to no true samples.\n",
      "  'recall', 'true', average, warn_for)\n",
      "C:\\Users\\nshawen\\AppData\\Local\\Continuum\\anaconda3\\lib\\site-packages\\sklearn\\metrics\\ranking.py:444: RuntimeWarning: invalid value encountered in true_divide\n",
      "  recall = tps / tps[-1]\n",
      "C:\\Users\\nshawen\\AppData\\Local\\Continuum\\anaconda3\\lib\\site-packages\\sklearn\\metrics\\ranking.py:94: RuntimeWarning: invalid value encountered in less\n",
      "  if np.any(dx < 0):\n",
      "C:\\Users\\nshawen\\AppData\\Local\\Continuum\\anaconda3\\lib\\site-packages\\sklearn\\metrics\\classification.py:1137: UndefinedMetricWarning: Recall is ill-defined and being set to 0.0 due to no true samples.\n",
      "  'recall', 'true', average, warn_for)\n"
     ]
    },
    {
     "name": "stdout",
     "output_type": "stream",
     "text": [
      "only 1 class in test data - cannot compute roc curve\n"
     ]
    },
    {
     "name": "stderr",
     "output_type": "stream",
     "text": [
      "C:\\Users\\nshawen\\AppData\\Local\\Continuum\\anaconda3\\lib\\site-packages\\sklearn\\metrics\\classification.py:1137: UndefinedMetricWarning: F-score is ill-defined and being set to 0.0 due to no true samples.\n",
      "  'recall', 'true', average, warn_for)\n",
      "C:\\Users\\nshawen\\AppData\\Local\\Continuum\\anaconda3\\lib\\site-packages\\sklearn\\metrics\\ranking.py:444: RuntimeWarning: invalid value encountered in true_divide\n",
      "  recall = tps / tps[-1]\n",
      "C:\\Users\\nshawen\\AppData\\Local\\Continuum\\anaconda3\\lib\\site-packages\\sklearn\\metrics\\ranking.py:94: RuntimeWarning: invalid value encountered in less\n",
      "  if np.any(dx < 0):\n",
      "C:\\Users\\nshawen\\AppData\\Local\\Continuum\\anaconda3\\lib\\site-packages\\sklearn\\metrics\\classification.py:1137: UndefinedMetricWarning: Recall is ill-defined and being set to 0.0 due to no true samples.\n",
      "  'recall', 'true', average, warn_for)\n"
     ]
    },
    {
     "name": "stdout",
     "output_type": "stream",
     "text": [
      "only 1 class in test data - cannot compute roc curve\n"
     ]
    },
    {
     "name": "stderr",
     "output_type": "stream",
     "text": [
      "C:\\Users\\nshawen\\AppData\\Local\\Continuum\\anaconda3\\lib\\site-packages\\sklearn\\metrics\\classification.py:1137: UndefinedMetricWarning: F-score is ill-defined and being set to 0.0 due to no true samples.\n",
      "  'recall', 'true', average, warn_for)\n",
      "C:\\Users\\nshawen\\AppData\\Local\\Continuum\\anaconda3\\lib\\site-packages\\sklearn\\metrics\\ranking.py:444: RuntimeWarning: invalid value encountered in true_divide\n",
      "  recall = tps / tps[-1]\n",
      "C:\\Users\\nshawen\\AppData\\Local\\Continuum\\anaconda3\\lib\\site-packages\\sklearn\\metrics\\ranking.py:94: RuntimeWarning: invalid value encountered in less\n",
      "  if np.any(dx < 0):\n",
      "C:\\Users\\nshawen\\AppData\\Local\\Continuum\\anaconda3\\lib\\site-packages\\sklearn\\metrics\\classification.py:1137: UndefinedMetricWarning: Recall is ill-defined and being set to 0.0 due to no true samples.\n",
      "  'recall', 'true', average, warn_for)\n"
     ]
    },
    {
     "name": "stdout",
     "output_type": "stream",
     "text": [
      "only 1 class in test data - cannot compute roc curve\n"
     ]
    },
    {
     "name": "stderr",
     "output_type": "stream",
     "text": [
      "C:\\Users\\nshawen\\AppData\\Local\\Continuum\\anaconda3\\lib\\site-packages\\sklearn\\metrics\\classification.py:1137: UndefinedMetricWarning: F-score is ill-defined and being set to 0.0 due to no true samples.\n",
      "  'recall', 'true', average, warn_for)\n",
      "C:\\Users\\nshawen\\AppData\\Local\\Continuum\\anaconda3\\lib\\site-packages\\sklearn\\metrics\\ranking.py:444: RuntimeWarning: invalid value encountered in true_divide\n",
      "  recall = tps / tps[-1]\n",
      "C:\\Users\\nshawen\\AppData\\Local\\Continuum\\anaconda3\\lib\\site-packages\\sklearn\\metrics\\ranking.py:94: RuntimeWarning: invalid value encountered in less\n",
      "  if np.any(dx < 0):\n",
      "C:\\Users\\nshawen\\AppData\\Local\\Continuum\\anaconda3\\lib\\site-packages\\sklearn\\metrics\\classification.py:1137: UndefinedMetricWarning: Recall is ill-defined and being set to 0.0 due to no true samples.\n",
      "  'recall', 'true', average, warn_for)\n"
     ]
    },
    {
     "name": "stdout",
     "output_type": "stream",
     "text": [
      "only 1 class in test data - cannot compute roc curve\n",
      "only 1 class in test data - cannot compute roc curve\n"
     ]
    },
    {
     "name": "stderr",
     "output_type": "stream",
     "text": [
      "C:\\Users\\nshawen\\AppData\\Local\\Continuum\\anaconda3\\lib\\site-packages\\ipykernel_launcher.py:273: RuntimeWarning: invalid value encountered in long_scalars\n"
     ]
    },
    {
     "name": "stdout",
     "output_type": "stream",
     "text": [
      "only 1 class in test data - cannot compute roc curve\n"
     ]
    },
    {
     "name": "stderr",
     "output_type": "stream",
     "text": [
      "C:\\Users\\nshawen\\AppData\\Local\\Continuum\\anaconda3\\lib\\site-packages\\ipykernel_launcher.py:273: RuntimeWarning: invalid value encountered in long_scalars\n",
      "C:\\Users\\nshawen\\AppData\\Local\\Continuum\\anaconda3\\lib\\site-packages\\sklearn\\metrics\\classification.py:1137: UndefinedMetricWarning: F-score is ill-defined and being set to 0.0 due to no true samples.\n",
      "  'recall', 'true', average, warn_for)\n",
      "C:\\Users\\nshawen\\AppData\\Local\\Continuum\\anaconda3\\lib\\site-packages\\sklearn\\metrics\\ranking.py:444: RuntimeWarning: invalid value encountered in true_divide\n",
      "  recall = tps / tps[-1]\n",
      "C:\\Users\\nshawen\\AppData\\Local\\Continuum\\anaconda3\\lib\\site-packages\\sklearn\\metrics\\ranking.py:94: RuntimeWarning: invalid value encountered in less\n",
      "  if np.any(dx < 0):\n",
      "C:\\Users\\nshawen\\AppData\\Local\\Continuum\\anaconda3\\lib\\site-packages\\sklearn\\metrics\\classification.py:1137: UndefinedMetricWarning: Recall is ill-defined and being set to 0.0 due to no true samples.\n",
      "  'recall', 'true', average, warn_for)\n"
     ]
    },
    {
     "name": "stdout",
     "output_type": "stream",
     "text": [
      "only 1 class in test data - cannot compute roc curve\n",
      "only 1 class in test data - cannot compute roc curve\n"
     ]
    },
    {
     "name": "stderr",
     "output_type": "stream",
     "text": [
      "C:\\Users\\nshawen\\AppData\\Local\\Continuum\\anaconda3\\lib\\site-packages\\ipykernel_launcher.py:273: RuntimeWarning: invalid value encountered in long_scalars\n"
     ]
    },
    {
     "name": "stdout",
     "output_type": "stream",
     "text": [
      "only 1 class in test data - cannot compute roc curve\n"
     ]
    },
    {
     "name": "stderr",
     "output_type": "stream",
     "text": [
      "C:\\Users\\nshawen\\AppData\\Local\\Continuum\\anaconda3\\lib\\site-packages\\ipykernel_launcher.py:273: RuntimeWarning: invalid value encountered in long_scalars\n"
     ]
    },
    {
     "name": "stdout",
     "output_type": "stream",
     "text": [
      "only 1 class in test data - cannot compute roc curve\n"
     ]
    },
    {
     "name": "stderr",
     "output_type": "stream",
     "text": [
      "C:\\Users\\nshawen\\AppData\\Local\\Continuum\\anaconda3\\lib\\site-packages\\ipykernel_launcher.py:273: RuntimeWarning: invalid value encountered in long_scalars\n"
     ]
    },
    {
     "name": "stdout",
     "output_type": "stream",
     "text": [
      "only 1 class in test data - cannot compute roc curve\n"
     ]
    },
    {
     "name": "stderr",
     "output_type": "stream",
     "text": [
      "C:\\Users\\nshawen\\AppData\\Local\\Continuum\\anaconda3\\lib\\site-packages\\ipykernel_launcher.py:273: RuntimeWarning: invalid value encountered in long_scalars\n"
     ]
    },
    {
     "name": "stdout",
     "output_type": "stream",
     "text": [
      "only 1 class in test data - cannot compute roc curve\n"
     ]
    },
    {
     "name": "stderr",
     "output_type": "stream",
     "text": [
      "C:\\Users\\nshawen\\AppData\\Local\\Continuum\\anaconda3\\lib\\site-packages\\ipykernel_launcher.py:273: RuntimeWarning: invalid value encountered in long_scalars\n"
     ]
    },
    {
     "name": "stdout",
     "output_type": "stream",
     "text": [
      "only 1 class in test data - cannot compute roc curve\n"
     ]
    },
    {
     "name": "stderr",
     "output_type": "stream",
     "text": [
      "C:\\Users\\nshawen\\AppData\\Local\\Continuum\\anaconda3\\lib\\site-packages\\ipykernel_launcher.py:273: RuntimeWarning: invalid value encountered in long_scalars\n",
      "C:\\Users\\nshawen\\AppData\\Local\\Continuum\\anaconda3\\lib\\site-packages\\sklearn\\metrics\\classification.py:1137: UndefinedMetricWarning: F-score is ill-defined and being set to 0.0 due to no true samples.\n",
      "  'recall', 'true', average, warn_for)\n",
      "C:\\Users\\nshawen\\AppData\\Local\\Continuum\\anaconda3\\lib\\site-packages\\sklearn\\metrics\\ranking.py:444: RuntimeWarning: invalid value encountered in true_divide\n",
      "  recall = tps / tps[-1]\n",
      "C:\\Users\\nshawen\\AppData\\Local\\Continuum\\anaconda3\\lib\\site-packages\\sklearn\\metrics\\ranking.py:94: RuntimeWarning: invalid value encountered in less\n",
      "  if np.any(dx < 0):\n",
      "C:\\Users\\nshawen\\AppData\\Local\\Continuum\\anaconda3\\lib\\site-packages\\sklearn\\metrics\\classification.py:1137: UndefinedMetricWarning: Recall is ill-defined and being set to 0.0 due to no true samples.\n",
      "  'recall', 'true', average, warn_for)\n"
     ]
    },
    {
     "name": "stdout",
     "output_type": "stream",
     "text": [
      "only 1 class in test data - cannot compute roc curve\n"
     ]
    },
    {
     "name": "stderr",
     "output_type": "stream",
     "text": [
      "C:\\Users\\nshawen\\AppData\\Local\\Continuum\\anaconda3\\lib\\site-packages\\sklearn\\metrics\\classification.py:1137: UndefinedMetricWarning: F-score is ill-defined and being set to 0.0 due to no true samples.\n",
      "  'recall', 'true', average, warn_for)\n",
      "C:\\Users\\nshawen\\AppData\\Local\\Continuum\\anaconda3\\lib\\site-packages\\sklearn\\metrics\\ranking.py:444: RuntimeWarning: invalid value encountered in true_divide\n",
      "  recall = tps / tps[-1]\n",
      "C:\\Users\\nshawen\\AppData\\Local\\Continuum\\anaconda3\\lib\\site-packages\\sklearn\\metrics\\ranking.py:94: RuntimeWarning: invalid value encountered in less\n",
      "  if np.any(dx < 0):\n",
      "C:\\Users\\nshawen\\AppData\\Local\\Continuum\\anaconda3\\lib\\site-packages\\sklearn\\metrics\\classification.py:1137: UndefinedMetricWarning: Recall is ill-defined and being set to 0.0 due to no true samples.\n",
      "  'recall', 'true', average, warn_for)\n"
     ]
    },
    {
     "name": "stdout",
     "output_type": "stream",
     "text": [
      "only 1 class in test data - cannot compute roc curve\n"
     ]
    },
    {
     "name": "stderr",
     "output_type": "stream",
     "text": [
      "C:\\Users\\nshawen\\AppData\\Local\\Continuum\\anaconda3\\lib\\site-packages\\sklearn\\metrics\\classification.py:1137: UndefinedMetricWarning: F-score is ill-defined and being set to 0.0 due to no true samples.\n",
      "  'recall', 'true', average, warn_for)\n",
      "C:\\Users\\nshawen\\AppData\\Local\\Continuum\\anaconda3\\lib\\site-packages\\sklearn\\metrics\\ranking.py:444: RuntimeWarning: invalid value encountered in true_divide\n",
      "  recall = tps / tps[-1]\n",
      "C:\\Users\\nshawen\\AppData\\Local\\Continuum\\anaconda3\\lib\\site-packages\\sklearn\\metrics\\ranking.py:94: RuntimeWarning: invalid value encountered in less\n",
      "  if np.any(dx < 0):\n",
      "C:\\Users\\nshawen\\AppData\\Local\\Continuum\\anaconda3\\lib\\site-packages\\sklearn\\metrics\\classification.py:1137: UndefinedMetricWarning: Recall is ill-defined and being set to 0.0 due to no true samples.\n",
      "  'recall', 'true', average, warn_for)\n"
     ]
    },
    {
     "name": "stdout",
     "output_type": "stream",
     "text": [
      "only 1 class in test data - cannot compute roc curve\n",
      "only 1 class in test data - cannot compute roc curve\n"
     ]
    },
    {
     "name": "stderr",
     "output_type": "stream",
     "text": [
      "C:\\Users\\nshawen\\AppData\\Local\\Continuum\\anaconda3\\lib\\site-packages\\ipykernel_launcher.py:273: RuntimeWarning: invalid value encountered in long_scalars\n"
     ]
    },
    {
     "name": "stdout",
     "output_type": "stream",
     "text": [
      "only 1 class in test data - cannot compute roc curve\n"
     ]
    },
    {
     "name": "stderr",
     "output_type": "stream",
     "text": [
      "C:\\Users\\nshawen\\AppData\\Local\\Continuum\\anaconda3\\lib\\site-packages\\ipykernel_launcher.py:273: RuntimeWarning: invalid value encountered in long_scalars\n"
     ]
    },
    {
     "name": "stdout",
     "output_type": "stream",
     "text": [
      "only 1 class in test data - cannot compute roc curve\n"
     ]
    },
    {
     "name": "stderr",
     "output_type": "stream",
     "text": [
      "C:\\Users\\nshawen\\AppData\\Local\\Continuum\\anaconda3\\lib\\site-packages\\ipykernel_launcher.py:273: RuntimeWarning: invalid value encountered in long_scalars\n"
     ]
    },
    {
     "name": "stdout",
     "output_type": "stream",
     "text": [
      "only 1 class in test data - cannot compute roc curve\n"
     ]
    },
    {
     "name": "stderr",
     "output_type": "stream",
     "text": [
      "C:\\Users\\nshawen\\AppData\\Local\\Continuum\\anaconda3\\lib\\site-packages\\ipykernel_launcher.py:273: RuntimeWarning: invalid value encountered in long_scalars\n"
     ]
    },
    {
     "name": "stdout",
     "output_type": "stream",
     "text": [
      "only 1 class in test data - cannot compute roc curve\n"
     ]
    },
    {
     "name": "stderr",
     "output_type": "stream",
     "text": [
      "C:\\Users\\nshawen\\AppData\\Local\\Continuum\\anaconda3\\lib\\site-packages\\ipykernel_launcher.py:273: RuntimeWarning: invalid value encountered in long_scalars\n"
     ]
    },
    {
     "name": "stdout",
     "output_type": "stream",
     "text": [
      "only 1 class in test data - cannot compute roc curve\n"
     ]
    },
    {
     "name": "stderr",
     "output_type": "stream",
     "text": [
      "C:\\Users\\nshawen\\AppData\\Local\\Continuum\\anaconda3\\lib\\site-packages\\ipykernel_launcher.py:273: RuntimeWarning: invalid value encountered in long_scalars\n"
     ]
    },
    {
     "name": "stdout",
     "output_type": "stream",
     "text": [
      "only 1 class in test data - cannot compute roc curve\n"
     ]
    },
    {
     "name": "stderr",
     "output_type": "stream",
     "text": [
      "C:\\Users\\nshawen\\AppData\\Local\\Continuum\\anaconda3\\lib\\site-packages\\ipykernel_launcher.py:273: RuntimeWarning: invalid value encountered in long_scalars\n"
     ]
    },
    {
     "name": "stdout",
     "output_type": "stream",
     "text": [
      "only 1 class in test data - cannot compute roc curve\n"
     ]
    },
    {
     "name": "stderr",
     "output_type": "stream",
     "text": [
      "C:\\Users\\nshawen\\AppData\\Local\\Continuum\\anaconda3\\lib\\site-packages\\ipykernel_launcher.py:273: RuntimeWarning: invalid value encountered in long_scalars\n",
      "C:\\Users\\nshawen\\AppData\\Local\\Continuum\\anaconda3\\lib\\site-packages\\ipykernel_launcher.py:317: RuntimeWarning: Mean of empty slice\n"
     ]
    },
    {
     "name": "stdout",
     "output_type": "stream",
     "text": [
      "only 1 class in test data - cannot compute roc curve\n"
     ]
    },
    {
     "name": "stderr",
     "output_type": "stream",
     "text": [
      "C:\\Users\\nshawen\\AppData\\Local\\Continuum\\anaconda3\\lib\\site-packages\\ipykernel_launcher.py:273: RuntimeWarning: invalid value encountered in long_scalars\n"
     ]
    },
    {
     "name": "stdout",
     "output_type": "stream",
     "text": [
      "only 1 class in test data - cannot compute roc curve\n"
     ]
    },
    {
     "name": "stderr",
     "output_type": "stream",
     "text": [
      "C:\\Users\\nshawen\\AppData\\Local\\Continuum\\anaconda3\\lib\\site-packages\\ipykernel_launcher.py:273: RuntimeWarning: invalid value encountered in long_scalars\n"
     ]
    },
    {
     "name": "stdout",
     "output_type": "stream",
     "text": [
      "only 1 class in test data - cannot compute roc curve\n"
     ]
    },
    {
     "name": "stderr",
     "output_type": "stream",
     "text": [
      "C:\\Users\\nshawen\\AppData\\Local\\Continuum\\anaconda3\\lib\\site-packages\\ipykernel_launcher.py:273: RuntimeWarning: invalid value encountered in long_scalars\n"
     ]
    },
    {
     "name": "stdout",
     "output_type": "stream",
     "text": [
      "only 1 class in test data - cannot compute roc curve\n"
     ]
    },
    {
     "name": "stderr",
     "output_type": "stream",
     "text": [
      "C:\\Users\\nshawen\\AppData\\Local\\Continuum\\anaconda3\\lib\\site-packages\\ipykernel_launcher.py:273: RuntimeWarning: invalid value encountered in long_scalars\n"
     ]
    },
    {
     "name": "stdout",
     "output_type": "stream",
     "text": [
      "only 1 class in test data - cannot compute roc curve\n"
     ]
    },
    {
     "name": "stderr",
     "output_type": "stream",
     "text": [
      "C:\\Users\\nshawen\\AppData\\Local\\Continuum\\anaconda3\\lib\\site-packages\\ipykernel_launcher.py:273: RuntimeWarning: invalid value encountered in long_scalars\n"
     ]
    },
    {
     "name": "stdout",
     "output_type": "stream",
     "text": [
      "only 1 class in test data - cannot compute roc curve\n"
     ]
    },
    {
     "name": "stderr",
     "output_type": "stream",
     "text": [
      "C:\\Users\\nshawen\\AppData\\Local\\Continuum\\anaconda3\\lib\\site-packages\\ipykernel_launcher.py:273: RuntimeWarning: invalid value encountered in long_scalars\n"
     ]
    },
    {
     "name": "stdout",
     "output_type": "stream",
     "text": [
      "only 1 class in test data - cannot compute roc curve\n"
     ]
    },
    {
     "name": "stderr",
     "output_type": "stream",
     "text": [
      "C:\\Users\\nshawen\\AppData\\Local\\Continuum\\anaconda3\\lib\\site-packages\\ipykernel_launcher.py:273: RuntimeWarning: invalid value encountered in long_scalars\n"
     ]
    },
    {
     "name": "stdout",
     "output_type": "stream",
     "text": [
      "only 1 class in test data - cannot compute roc curve\n"
     ]
    },
    {
     "name": "stderr",
     "output_type": "stream",
     "text": [
      "C:\\Users\\nshawen\\AppData\\Local\\Continuum\\anaconda3\\lib\\site-packages\\ipykernel_launcher.py:273: RuntimeWarning: invalid value encountered in long_scalars\n"
     ]
    },
    {
     "name": "stdout",
     "output_type": "stream",
     "text": [
      "only 1 class in test data - cannot compute roc curve\n"
     ]
    },
    {
     "name": "stderr",
     "output_type": "stream",
     "text": [
      "C:\\Users\\nshawen\\AppData\\Local\\Continuum\\anaconda3\\lib\\site-packages\\ipykernel_launcher.py:273: RuntimeWarning: invalid value encountered in long_scalars\n",
      "C:\\Users\\nshawen\\AppData\\Local\\Continuum\\anaconda3\\lib\\site-packages\\ipykernel_launcher.py:317: RuntimeWarning: Mean of empty slice\n"
     ]
    },
    {
     "name": "stdout",
     "output_type": "stream",
     "text": [
      "only 1 class in test data - cannot compute roc curve\n"
     ]
    },
    {
     "name": "stderr",
     "output_type": "stream",
     "text": [
      "C:\\Users\\nshawen\\AppData\\Local\\Continuum\\anaconda3\\lib\\site-packages\\ipykernel_launcher.py:273: RuntimeWarning: invalid value encountered in long_scalars\n",
      "C:\\Users\\nshawen\\AppData\\Local\\Continuum\\anaconda3\\lib\\site-packages\\sklearn\\metrics\\classification.py:1137: UndefinedMetricWarning: F-score is ill-defined and being set to 0.0 due to no true samples.\n",
      "  'recall', 'true', average, warn_for)\n",
      "C:\\Users\\nshawen\\AppData\\Local\\Continuum\\anaconda3\\lib\\site-packages\\sklearn\\metrics\\ranking.py:444: RuntimeWarning: invalid value encountered in true_divide\n",
      "  recall = tps / tps[-1]\n",
      "C:\\Users\\nshawen\\AppData\\Local\\Continuum\\anaconda3\\lib\\site-packages\\sklearn\\metrics\\ranking.py:94: RuntimeWarning: invalid value encountered in less\n",
      "  if np.any(dx < 0):\n",
      "C:\\Users\\nshawen\\AppData\\Local\\Continuum\\anaconda3\\lib\\site-packages\\sklearn\\metrics\\classification.py:1137: UndefinedMetricWarning: Recall is ill-defined and being set to 0.0 due to no true samples.\n",
      "  'recall', 'true', average, warn_for)\n"
     ]
    },
    {
     "name": "stdout",
     "output_type": "stream",
     "text": [
      "only 1 class in test data - cannot compute roc curve\n"
     ]
    },
    {
     "name": "stderr",
     "output_type": "stream",
     "text": [
      "C:\\Users\\nshawen\\AppData\\Local\\Continuum\\anaconda3\\lib\\site-packages\\sklearn\\metrics\\ranking.py:444: RuntimeWarning: invalid value encountered in true_divide\n",
      "  recall = tps / tps[-1]\n",
      "C:\\Users\\nshawen\\AppData\\Local\\Continuum\\anaconda3\\lib\\site-packages\\sklearn\\metrics\\ranking.py:94: RuntimeWarning: invalid value encountered in less\n",
      "  if np.any(dx < 0):\n"
     ]
    },
    {
     "name": "stdout",
     "output_type": "stream",
     "text": [
      "only 1 class in test data - cannot compute roc curve\n"
     ]
    },
    {
     "name": "stderr",
     "output_type": "stream",
     "text": [
      "C:\\Users\\nshawen\\AppData\\Local\\Continuum\\anaconda3\\lib\\site-packages\\sklearn\\metrics\\classification.py:1137: UndefinedMetricWarning: F-score is ill-defined and being set to 0.0 due to no true samples.\n",
      "  'recall', 'true', average, warn_for)\n",
      "C:\\Users\\nshawen\\AppData\\Local\\Continuum\\anaconda3\\lib\\site-packages\\sklearn\\metrics\\ranking.py:444: RuntimeWarning: invalid value encountered in true_divide\n",
      "  recall = tps / tps[-1]\n",
      "C:\\Users\\nshawen\\AppData\\Local\\Continuum\\anaconda3\\lib\\site-packages\\sklearn\\metrics\\ranking.py:94: RuntimeWarning: invalid value encountered in less\n",
      "  if np.any(dx < 0):\n",
      "C:\\Users\\nshawen\\AppData\\Local\\Continuum\\anaconda3\\lib\\site-packages\\sklearn\\metrics\\classification.py:1137: UndefinedMetricWarning: Recall is ill-defined and being set to 0.0 due to no true samples.\n",
      "  'recall', 'true', average, warn_for)\n"
     ]
    },
    {
     "name": "stdout",
     "output_type": "stream",
     "text": [
      "only 1 class in test data - cannot compute roc curve\n"
     ]
    },
    {
     "name": "stderr",
     "output_type": "stream",
     "text": [
      "C:\\Users\\nshawen\\AppData\\Local\\Continuum\\anaconda3\\lib\\site-packages\\sklearn\\metrics\\ranking.py:444: RuntimeWarning: invalid value encountered in true_divide\n",
      "  recall = tps / tps[-1]\n",
      "C:\\Users\\nshawen\\AppData\\Local\\Continuum\\anaconda3\\lib\\site-packages\\sklearn\\metrics\\ranking.py:94: RuntimeWarning: invalid value encountered in less\n",
      "  if np.any(dx < 0):\n"
     ]
    },
    {
     "name": "stdout",
     "output_type": "stream",
     "text": [
      "only 1 class in test data - cannot compute roc curve\n"
     ]
    },
    {
     "name": "stderr",
     "output_type": "stream",
     "text": [
      "C:\\Users\\nshawen\\AppData\\Local\\Continuum\\anaconda3\\lib\\site-packages\\sklearn\\metrics\\classification.py:1135: UndefinedMetricWarning: F-score is ill-defined and being set to 0.0 due to no predicted samples.\n",
      "  'precision', 'predicted', average, warn_for)\n",
      "C:\\Users\\nshawen\\AppData\\Local\\Continuum\\anaconda3\\lib\\site-packages\\sklearn\\metrics\\classification.py:1135: UndefinedMetricWarning: Precision is ill-defined and being set to 0.0 due to no predicted samples.\n",
      "  'precision', 'predicted', average, warn_for)\n",
      "C:\\Users\\nshawen\\AppData\\Local\\Continuum\\anaconda3\\lib\\site-packages\\sklearn\\metrics\\classification.py:1135: UndefinedMetricWarning: F-score is ill-defined and being set to 0.0 due to no predicted samples.\n",
      "  'precision', 'predicted', average, warn_for)\n",
      "C:\\Users\\nshawen\\AppData\\Local\\Continuum\\anaconda3\\lib\\site-packages\\sklearn\\metrics\\classification.py:1135: UndefinedMetricWarning: Precision is ill-defined and being set to 0.0 due to no predicted samples.\n",
      "  'precision', 'predicted', average, warn_for)\n",
      "C:\\Users\\nshawen\\AppData\\Local\\Continuum\\anaconda3\\lib\\site-packages\\sklearn\\metrics\\classification.py:1135: UndefinedMetricWarning: F-score is ill-defined and being set to 0.0 due to no predicted samples.\n",
      "  'precision', 'predicted', average, warn_for)\n",
      "C:\\Users\\nshawen\\AppData\\Local\\Continuum\\anaconda3\\lib\\site-packages\\sklearn\\metrics\\classification.py:1135: UndefinedMetricWarning: Precision is ill-defined and being set to 0.0 due to no predicted samples.\n",
      "  'precision', 'predicted', average, warn_for)\n",
      "C:\\Users\\nshawen\\AppData\\Local\\Continuum\\anaconda3\\lib\\site-packages\\sklearn\\metrics\\classification.py:1137: UndefinedMetricWarning: F-score is ill-defined and being set to 0.0 due to no true samples.\n",
      "  'recall', 'true', average, warn_for)\n",
      "C:\\Users\\nshawen\\AppData\\Local\\Continuum\\anaconda3\\lib\\site-packages\\sklearn\\metrics\\ranking.py:444: RuntimeWarning: invalid value encountered in true_divide\n",
      "  recall = tps / tps[-1]\n",
      "C:\\Users\\nshawen\\AppData\\Local\\Continuum\\anaconda3\\lib\\site-packages\\sklearn\\metrics\\ranking.py:94: RuntimeWarning: invalid value encountered in less\n",
      "  if np.any(dx < 0):\n",
      "C:\\Users\\nshawen\\AppData\\Local\\Continuum\\anaconda3\\lib\\site-packages\\sklearn\\metrics\\classification.py:1137: UndefinedMetricWarning: Recall is ill-defined and being set to 0.0 due to no true samples.\n",
      "  'recall', 'true', average, warn_for)\n"
     ]
    },
    {
     "name": "stdout",
     "output_type": "stream",
     "text": [
      "only 1 class in test data - cannot compute roc curve\n",
      "only 1 class in test data - cannot compute roc curve\n"
     ]
    },
    {
     "name": "stderr",
     "output_type": "stream",
     "text": [
      "C:\\Users\\nshawen\\AppData\\Local\\Continuum\\anaconda3\\lib\\site-packages\\ipykernel_launcher.py:273: RuntimeWarning: invalid value encountered in long_scalars\n"
     ]
    },
    {
     "name": "stdout",
     "output_type": "stream",
     "text": [
      "only 1 class in test data - cannot compute roc curve\n"
     ]
    },
    {
     "name": "stderr",
     "output_type": "stream",
     "text": [
      "C:\\Users\\nshawen\\AppData\\Local\\Continuum\\anaconda3\\lib\\site-packages\\ipykernel_launcher.py:273: RuntimeWarning: invalid value encountered in long_scalars\n"
     ]
    },
    {
     "name": "stdout",
     "output_type": "stream",
     "text": [
      "only 1 class in test data - cannot compute roc curve\n"
     ]
    },
    {
     "name": "stderr",
     "output_type": "stream",
     "text": [
      "C:\\Users\\nshawen\\AppData\\Local\\Continuum\\anaconda3\\lib\\site-packages\\ipykernel_launcher.py:273: RuntimeWarning: invalid value encountered in long_scalars\n"
     ]
    },
    {
     "name": "stdout",
     "output_type": "stream",
     "text": [
      "only 1 class in test data - cannot compute roc curve\n"
     ]
    },
    {
     "name": "stderr",
     "output_type": "stream",
     "text": [
      "C:\\Users\\nshawen\\AppData\\Local\\Continuum\\anaconda3\\lib\\site-packages\\ipykernel_launcher.py:273: RuntimeWarning: invalid value encountered in long_scalars\n"
     ]
    },
    {
     "name": "stdout",
     "output_type": "stream",
     "text": [
      "only 1 class in test data - cannot compute roc curve\n"
     ]
    },
    {
     "name": "stderr",
     "output_type": "stream",
     "text": [
      "C:\\Users\\nshawen\\AppData\\Local\\Continuum\\anaconda3\\lib\\site-packages\\ipykernel_launcher.py:273: RuntimeWarning: invalid value encountered in long_scalars\n"
     ]
    },
    {
     "name": "stdout",
     "output_type": "stream",
     "text": [
      "only 1 class in test data - cannot compute roc curve\n"
     ]
    },
    {
     "name": "stderr",
     "output_type": "stream",
     "text": [
      "C:\\Users\\nshawen\\AppData\\Local\\Continuum\\anaconda3\\lib\\site-packages\\ipykernel_launcher.py:273: RuntimeWarning: invalid value encountered in long_scalars\n"
     ]
    },
    {
     "name": "stdout",
     "output_type": "stream",
     "text": [
      "only 1 class in test data - cannot compute roc curve\n"
     ]
    },
    {
     "name": "stderr",
     "output_type": "stream",
     "text": [
      "C:\\Users\\nshawen\\AppData\\Local\\Continuum\\anaconda3\\lib\\site-packages\\ipykernel_launcher.py:273: RuntimeWarning: invalid value encountered in long_scalars\n"
     ]
    },
    {
     "name": "stdout",
     "output_type": "stream",
     "text": [
      "only 1 class in test data - cannot compute roc curve\n"
     ]
    },
    {
     "name": "stderr",
     "output_type": "stream",
     "text": [
      "C:\\Users\\nshawen\\AppData\\Local\\Continuum\\anaconda3\\lib\\site-packages\\ipykernel_launcher.py:273: RuntimeWarning: invalid value encountered in long_scalars\n",
      "C:\\Users\\nshawen\\AppData\\Local\\Continuum\\anaconda3\\lib\\site-packages\\ipykernel_launcher.py:317: RuntimeWarning: Mean of empty slice\n",
      "C:\\Users\\nshawen\\AppData\\Local\\Continuum\\anaconda3\\lib\\site-packages\\sklearn\\metrics\\ranking.py:444: RuntimeWarning: invalid value encountered in true_divide\n",
      "  recall = tps / tps[-1]\n",
      "C:\\Users\\nshawen\\AppData\\Local\\Continuum\\anaconda3\\lib\\site-packages\\sklearn\\metrics\\ranking.py:94: RuntimeWarning: invalid value encountered in less\n",
      "  if np.any(dx < 0):\n"
     ]
    },
    {
     "name": "stdout",
     "output_type": "stream",
     "text": [
      "only 1 class in test data - cannot compute roc curve\n"
     ]
    },
    {
     "name": "stderr",
     "output_type": "stream",
     "text": [
      "C:\\Users\\nshawen\\AppData\\Local\\Continuum\\anaconda3\\lib\\site-packages\\sklearn\\metrics\\classification.py:1137: UndefinedMetricWarning: F-score is ill-defined and being set to 0.0 due to no true samples.\n",
      "  'recall', 'true', average, warn_for)\n",
      "C:\\Users\\nshawen\\AppData\\Local\\Continuum\\anaconda3\\lib\\site-packages\\sklearn\\metrics\\ranking.py:444: RuntimeWarning: invalid value encountered in true_divide\n",
      "  recall = tps / tps[-1]\n",
      "C:\\Users\\nshawen\\AppData\\Local\\Continuum\\anaconda3\\lib\\site-packages\\sklearn\\metrics\\ranking.py:94: RuntimeWarning: invalid value encountered in less\n",
      "  if np.any(dx < 0):\n",
      "C:\\Users\\nshawen\\AppData\\Local\\Continuum\\anaconda3\\lib\\site-packages\\sklearn\\metrics\\classification.py:1137: UndefinedMetricWarning: Recall is ill-defined and being set to 0.0 due to no true samples.\n",
      "  'recall', 'true', average, warn_for)\n"
     ]
    },
    {
     "name": "stdout",
     "output_type": "stream",
     "text": [
      "only 1 class in test data - cannot compute roc curve\n"
     ]
    },
    {
     "name": "stderr",
     "output_type": "stream",
     "text": [
      "C:\\Users\\nshawen\\AppData\\Local\\Continuum\\anaconda3\\lib\\site-packages\\sklearn\\metrics\\ranking.py:444: RuntimeWarning: invalid value encountered in true_divide\n",
      "  recall = tps / tps[-1]\n",
      "C:\\Users\\nshawen\\AppData\\Local\\Continuum\\anaconda3\\lib\\site-packages\\sklearn\\metrics\\ranking.py:94: RuntimeWarning: invalid value encountered in less\n",
      "  if np.any(dx < 0):\n"
     ]
    },
    {
     "name": "stdout",
     "output_type": "stream",
     "text": [
      "only 1 class in test data - cannot compute roc curve\n"
     ]
    },
    {
     "name": "stderr",
     "output_type": "stream",
     "text": [
      "C:\\Users\\nshawen\\AppData\\Local\\Continuum\\anaconda3\\lib\\site-packages\\sklearn\\metrics\\classification.py:1137: UndefinedMetricWarning: F-score is ill-defined and being set to 0.0 due to no true samples.\n",
      "  'recall', 'true', average, warn_for)\n",
      "C:\\Users\\nshawen\\AppData\\Local\\Continuum\\anaconda3\\lib\\site-packages\\sklearn\\metrics\\ranking.py:444: RuntimeWarning: invalid value encountered in true_divide\n",
      "  recall = tps / tps[-1]\n",
      "C:\\Users\\nshawen\\AppData\\Local\\Continuum\\anaconda3\\lib\\site-packages\\sklearn\\metrics\\ranking.py:94: RuntimeWarning: invalid value encountered in less\n",
      "  if np.any(dx < 0):\n",
      "C:\\Users\\nshawen\\AppData\\Local\\Continuum\\anaconda3\\lib\\site-packages\\sklearn\\metrics\\classification.py:1137: UndefinedMetricWarning: Recall is ill-defined and being set to 0.0 due to no true samples.\n",
      "  'recall', 'true', average, warn_for)\n"
     ]
    },
    {
     "name": "stdout",
     "output_type": "stream",
     "text": [
      "only 1 class in test data - cannot compute roc curve\n"
     ]
    },
    {
     "name": "stderr",
     "output_type": "stream",
     "text": [
      "C:\\Users\\nshawen\\AppData\\Local\\Continuum\\anaconda3\\lib\\site-packages\\sklearn\\metrics\\ranking.py:444: RuntimeWarning: invalid value encountered in true_divide\n",
      "  recall = tps / tps[-1]\n",
      "C:\\Users\\nshawen\\AppData\\Local\\Continuum\\anaconda3\\lib\\site-packages\\sklearn\\metrics\\ranking.py:94: RuntimeWarning: invalid value encountered in less\n",
      "  if np.any(dx < 0):\n"
     ]
    },
    {
     "name": "stdout",
     "output_type": "stream",
     "text": [
      "only 1 class in test data - cannot compute roc curve\n"
     ]
    },
    {
     "name": "stderr",
     "output_type": "stream",
     "text": [
      "C:\\Users\\nshawen\\AppData\\Local\\Continuum\\anaconda3\\lib\\site-packages\\sklearn\\metrics\\ranking.py:444: RuntimeWarning: invalid value encountered in true_divide\n",
      "  recall = tps / tps[-1]\n",
      "C:\\Users\\nshawen\\AppData\\Local\\Continuum\\anaconda3\\lib\\site-packages\\sklearn\\metrics\\ranking.py:94: RuntimeWarning: invalid value encountered in less\n",
      "  if np.any(dx < 0):\n"
     ]
    },
    {
     "name": "stdout",
     "output_type": "stream",
     "text": [
      "only 1 class in test data - cannot compute roc curve\n"
     ]
    },
    {
     "name": "stderr",
     "output_type": "stream",
     "text": [
      "C:\\Users\\nshawen\\AppData\\Local\\Continuum\\anaconda3\\lib\\site-packages\\sklearn\\metrics\\ranking.py:444: RuntimeWarning: invalid value encountered in true_divide\n",
      "  recall = tps / tps[-1]\n",
      "C:\\Users\\nshawen\\AppData\\Local\\Continuum\\anaconda3\\lib\\site-packages\\sklearn\\metrics\\ranking.py:94: RuntimeWarning: invalid value encountered in less\n",
      "  if np.any(dx < 0):\n",
      "C:\\Users\\nshawen\\AppData\\Local\\Continuum\\anaconda3\\lib\\site-packages\\sklearn\\metrics\\ranking.py:444: RuntimeWarning: invalid value encountered in true_divide\n",
      "  recall = tps / tps[-1]\n",
      "C:\\Users\\nshawen\\AppData\\Local\\Continuum\\anaconda3\\lib\\site-packages\\sklearn\\metrics\\ranking.py:94: RuntimeWarning: invalid value encountered in less\n",
      "  if np.any(dx < 0):\n"
     ]
    },
    {
     "name": "stdout",
     "output_type": "stream",
     "text": [
      "only 1 class in test data - cannot compute roc curve\n",
      "only 1 class in test data - cannot compute roc curve\n"
     ]
    },
    {
     "name": "stderr",
     "output_type": "stream",
     "text": [
      "C:\\Users\\nshawen\\AppData\\Local\\Continuum\\anaconda3\\lib\\site-packages\\sklearn\\metrics\\ranking.py:444: RuntimeWarning: invalid value encountered in true_divide\n",
      "  recall = tps / tps[-1]\n",
      "C:\\Users\\nshawen\\AppData\\Local\\Continuum\\anaconda3\\lib\\site-packages\\sklearn\\metrics\\ranking.py:94: RuntimeWarning: invalid value encountered in less\n",
      "  if np.any(dx < 0):\n",
      "C:\\Users\\nshawen\\AppData\\Local\\Continuum\\anaconda3\\lib\\site-packages\\sklearn\\metrics\\ranking.py:444: RuntimeWarning: invalid value encountered in true_divide\n",
      "  recall = tps / tps[-1]\n",
      "C:\\Users\\nshawen\\AppData\\Local\\Continuum\\anaconda3\\lib\\site-packages\\sklearn\\metrics\\ranking.py:94: RuntimeWarning: invalid value encountered in less\n",
      "  if np.any(dx < 0):\n"
     ]
    },
    {
     "name": "stdout",
     "output_type": "stream",
     "text": [
      "only 1 class in test data - cannot compute roc curve\n",
      "only 1 class in test data - cannot compute roc curve\n"
     ]
    },
    {
     "name": "stderr",
     "output_type": "stream",
     "text": [
      "C:\\Users\\nshawen\\AppData\\Local\\Continuum\\anaconda3\\lib\\site-packages\\sklearn\\metrics\\ranking.py:444: RuntimeWarning: invalid value encountered in true_divide\n",
      "  recall = tps / tps[-1]\n",
      "C:\\Users\\nshawen\\AppData\\Local\\Continuum\\anaconda3\\lib\\site-packages\\sklearn\\metrics\\ranking.py:94: RuntimeWarning: invalid value encountered in less\n",
      "  if np.any(dx < 0):\n",
      "C:\\Users\\nshawen\\AppData\\Local\\Continuum\\anaconda3\\lib\\site-packages\\sklearn\\metrics\\ranking.py:444: RuntimeWarning: invalid value encountered in true_divide\n",
      "  recall = tps / tps[-1]\n",
      "C:\\Users\\nshawen\\AppData\\Local\\Continuum\\anaconda3\\lib\\site-packages\\sklearn\\metrics\\ranking.py:94: RuntimeWarning: invalid value encountered in less\n",
      "  if np.any(dx < 0):\n"
     ]
    },
    {
     "name": "stdout",
     "output_type": "stream",
     "text": [
      "only 1 class in test data - cannot compute roc curve\n",
      "only 1 class in test data - cannot compute roc curve\n"
     ]
    },
    {
     "name": "stderr",
     "output_type": "stream",
     "text": [
      "C:\\Users\\nshawen\\AppData\\Local\\Continuum\\anaconda3\\lib\\site-packages\\sklearn\\metrics\\ranking.py:444: RuntimeWarning: invalid value encountered in true_divide\n",
      "  recall = tps / tps[-1]\n",
      "C:\\Users\\nshawen\\AppData\\Local\\Continuum\\anaconda3\\lib\\site-packages\\sklearn\\metrics\\ranking.py:94: RuntimeWarning: invalid value encountered in less\n",
      "  if np.any(dx < 0):\n",
      "C:\\Users\\nshawen\\AppData\\Local\\Continuum\\anaconda3\\lib\\site-packages\\sklearn\\metrics\\ranking.py:444: RuntimeWarning: invalid value encountered in true_divide\n",
      "  recall = tps / tps[-1]\n",
      "C:\\Users\\nshawen\\AppData\\Local\\Continuum\\anaconda3\\lib\\site-packages\\sklearn\\metrics\\ranking.py:94: RuntimeWarning: invalid value encountered in less\n",
      "  if np.any(dx < 0):\n"
     ]
    },
    {
     "name": "stdout",
     "output_type": "stream",
     "text": [
      "only 1 class in test data - cannot compute roc curve\n",
      "only 1 class in test data - cannot compute roc curve\n"
     ]
    },
    {
     "name": "stderr",
     "output_type": "stream",
     "text": [
      "C:\\Users\\nshawen\\AppData\\Local\\Continuum\\anaconda3\\lib\\site-packages\\sklearn\\metrics\\classification.py:1135: UndefinedMetricWarning: F-score is ill-defined and being set to 0.0 due to no predicted samples.\n",
      "  'precision', 'predicted', average, warn_for)\n",
      "C:\\Users\\nshawen\\AppData\\Local\\Continuum\\anaconda3\\lib\\site-packages\\sklearn\\metrics\\classification.py:1135: UndefinedMetricWarning: Precision is ill-defined and being set to 0.0 due to no predicted samples.\n",
      "  'precision', 'predicted', average, warn_for)\n",
      "C:\\Users\\nshawen\\AppData\\Local\\Continuum\\anaconda3\\lib\\site-packages\\sklearn\\metrics\\ranking.py:444: RuntimeWarning: invalid value encountered in true_divide\n",
      "  recall = tps / tps[-1]\n",
      "C:\\Users\\nshawen\\AppData\\Local\\Continuum\\anaconda3\\lib\\site-packages\\sklearn\\metrics\\ranking.py:94: RuntimeWarning: invalid value encountered in less\n",
      "  if np.any(dx < 0):\n"
     ]
    },
    {
     "name": "stdout",
     "output_type": "stream",
     "text": [
      "only 1 class in test data - cannot compute roc curve\n",
      "only 1 class in test data - cannot compute roc curve\n"
     ]
    },
    {
     "name": "stderr",
     "output_type": "stream",
     "text": [
      "C:\\Users\\nshawen\\AppData\\Local\\Continuum\\anaconda3\\lib\\site-packages\\sklearn\\metrics\\classification.py:1137: UndefinedMetricWarning: F-score is ill-defined and being set to 0.0 due to no true samples.\n",
      "  'recall', 'true', average, warn_for)\n",
      "C:\\Users\\nshawen\\AppData\\Local\\Continuum\\anaconda3\\lib\\site-packages\\sklearn\\metrics\\ranking.py:444: RuntimeWarning: invalid value encountered in true_divide\n",
      "  recall = tps / tps[-1]\n",
      "C:\\Users\\nshawen\\AppData\\Local\\Continuum\\anaconda3\\lib\\site-packages\\sklearn\\metrics\\ranking.py:94: RuntimeWarning: invalid value encountered in less\n",
      "  if np.any(dx < 0):\n",
      "C:\\Users\\nshawen\\AppData\\Local\\Continuum\\anaconda3\\lib\\site-packages\\sklearn\\metrics\\classification.py:1137: UndefinedMetricWarning: Recall is ill-defined and being set to 0.0 due to no true samples.\n",
      "  'recall', 'true', average, warn_for)\n",
      "C:\\Users\\nshawen\\AppData\\Local\\Continuum\\anaconda3\\lib\\site-packages\\sklearn\\metrics\\ranking.py:444: RuntimeWarning: invalid value encountered in true_divide\n",
      "  recall = tps / tps[-1]\n",
      "C:\\Users\\nshawen\\AppData\\Local\\Continuum\\anaconda3\\lib\\site-packages\\sklearn\\metrics\\ranking.py:94: RuntimeWarning: invalid value encountered in less\n",
      "  if np.any(dx < 0):\n"
     ]
    },
    {
     "name": "stdout",
     "output_type": "stream",
     "text": [
      "only 1 class in test data - cannot compute roc curve\n",
      "only 1 class in test data - cannot compute roc curve\n"
     ]
    },
    {
     "name": "stderr",
     "output_type": "stream",
     "text": [
      "C:\\Users\\nshawen\\AppData\\Local\\Continuum\\anaconda3\\lib\\site-packages\\sklearn\\metrics\\classification.py:1137: UndefinedMetricWarning: F-score is ill-defined and being set to 0.0 due to no true samples.\n",
      "  'recall', 'true', average, warn_for)\n",
      "C:\\Users\\nshawen\\AppData\\Local\\Continuum\\anaconda3\\lib\\site-packages\\sklearn\\metrics\\ranking.py:444: RuntimeWarning: invalid value encountered in true_divide\n",
      "  recall = tps / tps[-1]\n",
      "C:\\Users\\nshawen\\AppData\\Local\\Continuum\\anaconda3\\lib\\site-packages\\sklearn\\metrics\\ranking.py:94: RuntimeWarning: invalid value encountered in less\n",
      "  if np.any(dx < 0):\n",
      "C:\\Users\\nshawen\\AppData\\Local\\Continuum\\anaconda3\\lib\\site-packages\\sklearn\\metrics\\classification.py:1137: UndefinedMetricWarning: Recall is ill-defined and being set to 0.0 due to no true samples.\n",
      "  'recall', 'true', average, warn_for)\n",
      "C:\\Users\\nshawen\\AppData\\Local\\Continuum\\anaconda3\\lib\\site-packages\\sklearn\\metrics\\classification.py:1137: UndefinedMetricWarning: F-score is ill-defined and being set to 0.0 due to no true samples.\n",
      "  'recall', 'true', average, warn_for)\n",
      "C:\\Users\\nshawen\\AppData\\Local\\Continuum\\anaconda3\\lib\\site-packages\\sklearn\\metrics\\ranking.py:444: RuntimeWarning: invalid value encountered in true_divide\n",
      "  recall = tps / tps[-1]\n",
      "C:\\Users\\nshawen\\AppData\\Local\\Continuum\\anaconda3\\lib\\site-packages\\sklearn\\metrics\\ranking.py:94: RuntimeWarning: invalid value encountered in less\n",
      "  if np.any(dx < 0):\n",
      "C:\\Users\\nshawen\\AppData\\Local\\Continuum\\anaconda3\\lib\\site-packages\\sklearn\\metrics\\classification.py:1137: UndefinedMetricWarning: Recall is ill-defined and being set to 0.0 due to no true samples.\n",
      "  'recall', 'true', average, warn_for)\n"
     ]
    },
    {
     "name": "stdout",
     "output_type": "stream",
     "text": [
      "only 1 class in test data - cannot compute roc curve\n"
     ]
    },
    {
     "name": "stderr",
     "output_type": "stream",
     "text": [
      "C:\\Users\\nshawen\\AppData\\Local\\Continuum\\anaconda3\\lib\\site-packages\\sklearn\\metrics\\ranking.py:444: RuntimeWarning: invalid value encountered in true_divide\n",
      "  recall = tps / tps[-1]\n",
      "C:\\Users\\nshawen\\AppData\\Local\\Continuum\\anaconda3\\lib\\site-packages\\sklearn\\metrics\\ranking.py:94: RuntimeWarning: invalid value encountered in less\n",
      "  if np.any(dx < 0):\n",
      "C:\\Users\\nshawen\\AppData\\Local\\Continuum\\anaconda3\\lib\\site-packages\\sklearn\\metrics\\classification.py:1137: UndefinedMetricWarning: F-score is ill-defined and being set to 0.0 due to no true samples.\n",
      "  'recall', 'true', average, warn_for)\n",
      "C:\\Users\\nshawen\\AppData\\Local\\Continuum\\anaconda3\\lib\\site-packages\\sklearn\\metrics\\ranking.py:444: RuntimeWarning: invalid value encountered in true_divide\n",
      "  recall = tps / tps[-1]\n",
      "C:\\Users\\nshawen\\AppData\\Local\\Continuum\\anaconda3\\lib\\site-packages\\sklearn\\metrics\\ranking.py:94: RuntimeWarning: invalid value encountered in less\n",
      "  if np.any(dx < 0):\n",
      "C:\\Users\\nshawen\\AppData\\Local\\Continuum\\anaconda3\\lib\\site-packages\\sklearn\\metrics\\classification.py:1137: UndefinedMetricWarning: Recall is ill-defined and being set to 0.0 due to no true samples.\n",
      "  'recall', 'true', average, warn_for)\n"
     ]
    },
    {
     "name": "stdout",
     "output_type": "stream",
     "text": [
      "only 1 class in test data - cannot compute roc curve\n",
      "only 1 class in test data - cannot compute roc curve\n"
     ]
    },
    {
     "name": "stderr",
     "output_type": "stream",
     "text": [
      "C:\\Users\\nshawen\\AppData\\Local\\Continuum\\anaconda3\\lib\\site-packages\\sklearn\\metrics\\ranking.py:444: RuntimeWarning: invalid value encountered in true_divide\n",
      "  recall = tps / tps[-1]\n",
      "C:\\Users\\nshawen\\AppData\\Local\\Continuum\\anaconda3\\lib\\site-packages\\sklearn\\metrics\\ranking.py:94: RuntimeWarning: invalid value encountered in less\n",
      "  if np.any(dx < 0):\n",
      "C:\\Users\\nshawen\\AppData\\Local\\Continuum\\anaconda3\\lib\\site-packages\\sklearn\\metrics\\ranking.py:444: RuntimeWarning: invalid value encountered in true_divide\n",
      "  recall = tps / tps[-1]\n",
      "C:\\Users\\nshawen\\AppData\\Local\\Continuum\\anaconda3\\lib\\site-packages\\sklearn\\metrics\\ranking.py:94: RuntimeWarning: invalid value encountered in less\n",
      "  if np.any(dx < 0):\n"
     ]
    },
    {
     "name": "stdout",
     "output_type": "stream",
     "text": [
      "only 1 class in test data - cannot compute roc curve\n",
      "only 1 class in test data - cannot compute roc curve\n",
      "only 1 class in test data - cannot compute roc curve\n"
     ]
    },
    {
     "name": "stderr",
     "output_type": "stream",
     "text": [
      "C:\\Users\\nshawen\\AppData\\Local\\Continuum\\anaconda3\\lib\\site-packages\\ipykernel_launcher.py:273: RuntimeWarning: invalid value encountered in long_scalars\n"
     ]
    },
    {
     "name": "stdout",
     "output_type": "stream",
     "text": [
      "only 1 class in test data - cannot compute roc curve\n"
     ]
    },
    {
     "name": "stderr",
     "output_type": "stream",
     "text": [
      "C:\\Users\\nshawen\\AppData\\Local\\Continuum\\anaconda3\\lib\\site-packages\\ipykernel_launcher.py:273: RuntimeWarning: invalid value encountered in long_scalars\n"
     ]
    },
    {
     "name": "stdout",
     "output_type": "stream",
     "text": [
      "only 1 class in test data - cannot compute roc curve\n"
     ]
    },
    {
     "name": "stderr",
     "output_type": "stream",
     "text": [
      "C:\\Users\\nshawen\\AppData\\Local\\Continuum\\anaconda3\\lib\\site-packages\\ipykernel_launcher.py:273: RuntimeWarning: invalid value encountered in long_scalars\n"
     ]
    },
    {
     "name": "stdout",
     "output_type": "stream",
     "text": [
      "only 1 class in test data - cannot compute roc curve\n"
     ]
    },
    {
     "name": "stderr",
     "output_type": "stream",
     "text": [
      "C:\\Users\\nshawen\\AppData\\Local\\Continuum\\anaconda3\\lib\\site-packages\\ipykernel_launcher.py:273: RuntimeWarning: invalid value encountered in long_scalars\n"
     ]
    },
    {
     "name": "stdout",
     "output_type": "stream",
     "text": [
      "only 1 class in test data - cannot compute roc curve\n"
     ]
    },
    {
     "name": "stderr",
     "output_type": "stream",
     "text": [
      "C:\\Users\\nshawen\\AppData\\Local\\Continuum\\anaconda3\\lib\\site-packages\\ipykernel_launcher.py:273: RuntimeWarning: invalid value encountered in long_scalars\n"
     ]
    },
    {
     "name": "stdout",
     "output_type": "stream",
     "text": [
      "only 1 class in test data - cannot compute roc curve\n"
     ]
    },
    {
     "name": "stderr",
     "output_type": "stream",
     "text": [
      "C:\\Users\\nshawen\\AppData\\Local\\Continuum\\anaconda3\\lib\\site-packages\\ipykernel_launcher.py:273: RuntimeWarning: invalid value encountered in long_scalars\n"
     ]
    },
    {
     "name": "stdout",
     "output_type": "stream",
     "text": [
      "only 1 class in test data - cannot compute roc curve\n"
     ]
    },
    {
     "name": "stderr",
     "output_type": "stream",
     "text": [
      "C:\\Users\\nshawen\\AppData\\Local\\Continuum\\anaconda3\\lib\\site-packages\\ipykernel_launcher.py:273: RuntimeWarning: invalid value encountered in long_scalars\n",
      "C:\\Users\\nshawen\\AppData\\Local\\Continuum\\anaconda3\\lib\\site-packages\\ipykernel_launcher.py:317: RuntimeWarning: Mean of empty slice\n",
      "C:\\Users\\nshawen\\AppData\\Local\\Continuum\\anaconda3\\lib\\site-packages\\sklearn\\metrics\\classification.py:1137: UndefinedMetricWarning: F-score is ill-defined and being set to 0.0 due to no true samples.\n",
      "  'recall', 'true', average, warn_for)\n",
      "C:\\Users\\nshawen\\AppData\\Local\\Continuum\\anaconda3\\lib\\site-packages\\sklearn\\metrics\\ranking.py:444: RuntimeWarning: invalid value encountered in true_divide\n",
      "  recall = tps / tps[-1]\n",
      "C:\\Users\\nshawen\\AppData\\Local\\Continuum\\anaconda3\\lib\\site-packages\\sklearn\\metrics\\ranking.py:94: RuntimeWarning: invalid value encountered in less\n",
      "  if np.any(dx < 0):\n",
      "C:\\Users\\nshawen\\AppData\\Local\\Continuum\\anaconda3\\lib\\site-packages\\sklearn\\metrics\\classification.py:1137: UndefinedMetricWarning: Recall is ill-defined and being set to 0.0 due to no true samples.\n",
      "  'recall', 'true', average, warn_for)\n"
     ]
    },
    {
     "name": "stdout",
     "output_type": "stream",
     "text": [
      "only 1 class in test data - cannot compute roc curve\n"
     ]
    },
    {
     "name": "stderr",
     "output_type": "stream",
     "text": [
      "C:\\Users\\nshawen\\AppData\\Local\\Continuum\\anaconda3\\lib\\site-packages\\sklearn\\metrics\\classification.py:1135: UndefinedMetricWarning: F-score is ill-defined and being set to 0.0 due to no predicted samples.\n",
      "  'precision', 'predicted', average, warn_for)\n",
      "C:\\Users\\nshawen\\AppData\\Local\\Continuum\\anaconda3\\lib\\site-packages\\sklearn\\metrics\\classification.py:1135: UndefinedMetricWarning: Precision is ill-defined and being set to 0.0 due to no predicted samples.\n",
      "  'precision', 'predicted', average, warn_for)\n",
      "C:\\Users\\nshawen\\AppData\\Local\\Continuum\\anaconda3\\lib\\site-packages\\sklearn\\metrics\\ranking.py:444: RuntimeWarning: invalid value encountered in true_divide\n",
      "  recall = tps / tps[-1]\n",
      "C:\\Users\\nshawen\\AppData\\Local\\Continuum\\anaconda3\\lib\\site-packages\\sklearn\\metrics\\ranking.py:94: RuntimeWarning: invalid value encountered in less\n",
      "  if np.any(dx < 0):\n"
     ]
    },
    {
     "name": "stdout",
     "output_type": "stream",
     "text": [
      "only 1 class in test data - cannot compute roc curve\n"
     ]
    },
    {
     "name": "stderr",
     "output_type": "stream",
     "text": [
      "C:\\Users\\nshawen\\AppData\\Local\\Continuum\\anaconda3\\lib\\site-packages\\sklearn\\metrics\\ranking.py:444: RuntimeWarning: invalid value encountered in true_divide\n",
      "  recall = tps / tps[-1]\n",
      "C:\\Users\\nshawen\\AppData\\Local\\Continuum\\anaconda3\\lib\\site-packages\\sklearn\\metrics\\ranking.py:94: RuntimeWarning: invalid value encountered in less\n",
      "  if np.any(dx < 0):\n"
     ]
    },
    {
     "name": "stdout",
     "output_type": "stream",
     "text": [
      "only 1 class in test data - cannot compute roc curve\n"
     ]
    },
    {
     "name": "stderr",
     "output_type": "stream",
     "text": [
      "C:\\Users\\nshawen\\AppData\\Local\\Continuum\\anaconda3\\lib\\site-packages\\sklearn\\metrics\\classification.py:1135: UndefinedMetricWarning: F-score is ill-defined and being set to 0.0 due to no predicted samples.\n",
      "  'precision', 'predicted', average, warn_for)\n",
      "C:\\Users\\nshawen\\AppData\\Local\\Continuum\\anaconda3\\lib\\site-packages\\sklearn\\metrics\\classification.py:1135: UndefinedMetricWarning: Precision is ill-defined and being set to 0.0 due to no predicted samples.\n",
      "  'precision', 'predicted', average, warn_for)\n",
      "C:\\Users\\nshawen\\AppData\\Local\\Continuum\\anaconda3\\lib\\site-packages\\sklearn\\metrics\\classification.py:1137: UndefinedMetricWarning: F-score is ill-defined and being set to 0.0 due to no true samples.\n",
      "  'recall', 'true', average, warn_for)\n",
      "C:\\Users\\nshawen\\AppData\\Local\\Continuum\\anaconda3\\lib\\site-packages\\sklearn\\metrics\\ranking.py:444: RuntimeWarning: invalid value encountered in true_divide\n",
      "  recall = tps / tps[-1]\n",
      "C:\\Users\\nshawen\\AppData\\Local\\Continuum\\anaconda3\\lib\\site-packages\\sklearn\\metrics\\ranking.py:94: RuntimeWarning: invalid value encountered in less\n",
      "  if np.any(dx < 0):\n",
      "C:\\Users\\nshawen\\AppData\\Local\\Continuum\\anaconda3\\lib\\site-packages\\sklearn\\metrics\\classification.py:1137: UndefinedMetricWarning: Recall is ill-defined and being set to 0.0 due to no true samples.\n",
      "  'recall', 'true', average, warn_for)\n"
     ]
    },
    {
     "name": "stdout",
     "output_type": "stream",
     "text": [
      "only 1 class in test data - cannot compute roc curve\n"
     ]
    },
    {
     "name": "stderr",
     "output_type": "stream",
     "text": [
      "C:\\Users\\nshawen\\AppData\\Local\\Continuum\\anaconda3\\lib\\site-packages\\sklearn\\metrics\\classification.py:1137: UndefinedMetricWarning: F-score is ill-defined and being set to 0.0 due to no true samples.\n",
      "  'recall', 'true', average, warn_for)\n",
      "C:\\Users\\nshawen\\AppData\\Local\\Continuum\\anaconda3\\lib\\site-packages\\sklearn\\metrics\\ranking.py:444: RuntimeWarning: invalid value encountered in true_divide\n",
      "  recall = tps / tps[-1]\n",
      "C:\\Users\\nshawen\\AppData\\Local\\Continuum\\anaconda3\\lib\\site-packages\\sklearn\\metrics\\ranking.py:94: RuntimeWarning: invalid value encountered in less\n",
      "  if np.any(dx < 0):\n",
      "C:\\Users\\nshawen\\AppData\\Local\\Continuum\\anaconda3\\lib\\site-packages\\sklearn\\metrics\\classification.py:1137: UndefinedMetricWarning: Recall is ill-defined and being set to 0.0 due to no true samples.\n",
      "  'recall', 'true', average, warn_for)\n"
     ]
    },
    {
     "name": "stdout",
     "output_type": "stream",
     "text": [
      "only 1 class in test data - cannot compute roc curve\n"
     ]
    },
    {
     "name": "stderr",
     "output_type": "stream",
     "text": [
      "C:\\Users\\nshawen\\AppData\\Local\\Continuum\\anaconda3\\lib\\site-packages\\sklearn\\metrics\\classification.py:1135: UndefinedMetricWarning: F-score is ill-defined and being set to 0.0 due to no predicted samples.\n",
      "  'precision', 'predicted', average, warn_for)\n",
      "C:\\Users\\nshawen\\AppData\\Local\\Continuum\\anaconda3\\lib\\site-packages\\sklearn\\metrics\\classification.py:1135: UndefinedMetricWarning: Precision is ill-defined and being set to 0.0 due to no predicted samples.\n",
      "  'precision', 'predicted', average, warn_for)\n",
      "C:\\Users\\nshawen\\AppData\\Local\\Continuum\\anaconda3\\lib\\site-packages\\sklearn\\metrics\\classification.py:1135: UndefinedMetricWarning: F-score is ill-defined and being set to 0.0 due to no predicted samples.\n",
      "  'precision', 'predicted', average, warn_for)\n",
      "C:\\Users\\nshawen\\AppData\\Local\\Continuum\\anaconda3\\lib\\site-packages\\sklearn\\metrics\\classification.py:1135: UndefinedMetricWarning: Precision is ill-defined and being set to 0.0 due to no predicted samples.\n",
      "  'precision', 'predicted', average, warn_for)\n",
      "C:\\Users\\nshawen\\AppData\\Local\\Continuum\\anaconda3\\lib\\site-packages\\sklearn\\metrics\\ranking.py:444: RuntimeWarning: invalid value encountered in true_divide\n",
      "  recall = tps / tps[-1]\n",
      "C:\\Users\\nshawen\\AppData\\Local\\Continuum\\anaconda3\\lib\\site-packages\\sklearn\\metrics\\ranking.py:94: RuntimeWarning: invalid value encountered in less\n",
      "  if np.any(dx < 0):\n"
     ]
    },
    {
     "name": "stdout",
     "output_type": "stream",
     "text": [
      "only 1 class in test data - cannot compute roc curve\n"
     ]
    },
    {
     "name": "stderr",
     "output_type": "stream",
     "text": [
      "C:\\Users\\nshawen\\AppData\\Local\\Continuum\\anaconda3\\lib\\site-packages\\sklearn\\metrics\\ranking.py:444: RuntimeWarning: invalid value encountered in true_divide\n",
      "  recall = tps / tps[-1]\n",
      "C:\\Users\\nshawen\\AppData\\Local\\Continuum\\anaconda3\\lib\\site-packages\\sklearn\\metrics\\ranking.py:94: RuntimeWarning: invalid value encountered in less\n",
      "  if np.any(dx < 0):\n"
     ]
    },
    {
     "name": "stdout",
     "output_type": "stream",
     "text": [
      "only 1 class in test data - cannot compute roc curve\n"
     ]
    },
    {
     "name": "stderr",
     "output_type": "stream",
     "text": [
      "C:\\Users\\nshawen\\AppData\\Local\\Continuum\\anaconda3\\lib\\site-packages\\sklearn\\metrics\\ranking.py:444: RuntimeWarning: invalid value encountered in true_divide\n",
      "  recall = tps / tps[-1]\n",
      "C:\\Users\\nshawen\\AppData\\Local\\Continuum\\anaconda3\\lib\\site-packages\\sklearn\\metrics\\ranking.py:94: RuntimeWarning: invalid value encountered in less\n",
      "  if np.any(dx < 0):\n"
     ]
    },
    {
     "name": "stdout",
     "output_type": "stream",
     "text": [
      "only 1 class in test data - cannot compute roc curve\n"
     ]
    },
    {
     "name": "stderr",
     "output_type": "stream",
     "text": [
      "C:\\Users\\nshawen\\AppData\\Local\\Continuum\\anaconda3\\lib\\site-packages\\sklearn\\metrics\\ranking.py:444: RuntimeWarning: invalid value encountered in true_divide\n",
      "  recall = tps / tps[-1]\n",
      "C:\\Users\\nshawen\\AppData\\Local\\Continuum\\anaconda3\\lib\\site-packages\\sklearn\\metrics\\ranking.py:94: RuntimeWarning: invalid value encountered in less\n",
      "  if np.any(dx < 0):\n"
     ]
    },
    {
     "name": "stdout",
     "output_type": "stream",
     "text": [
      "only 1 class in test data - cannot compute roc curve\n"
     ]
    },
    {
     "name": "stderr",
     "output_type": "stream",
     "text": [
      "C:\\Users\\nshawen\\AppData\\Local\\Continuum\\anaconda3\\lib\\site-packages\\sklearn\\metrics\\ranking.py:444: RuntimeWarning: invalid value encountered in true_divide\n",
      "  recall = tps / tps[-1]\n",
      "C:\\Users\\nshawen\\AppData\\Local\\Continuum\\anaconda3\\lib\\site-packages\\sklearn\\metrics\\ranking.py:94: RuntimeWarning: invalid value encountered in less\n",
      "  if np.any(dx < 0):\n"
     ]
    },
    {
     "name": "stdout",
     "output_type": "stream",
     "text": [
      "only 1 class in test data - cannot compute roc curve\n"
     ]
    },
    {
     "name": "stderr",
     "output_type": "stream",
     "text": [
      "C:\\Users\\nshawen\\AppData\\Local\\Continuum\\anaconda3\\lib\\site-packages\\sklearn\\metrics\\ranking.py:444: RuntimeWarning: invalid value encountered in true_divide\n",
      "  recall = tps / tps[-1]\n",
      "C:\\Users\\nshawen\\AppData\\Local\\Continuum\\anaconda3\\lib\\site-packages\\sklearn\\metrics\\ranking.py:94: RuntimeWarning: invalid value encountered in less\n",
      "  if np.any(dx < 0):\n"
     ]
    },
    {
     "name": "stdout",
     "output_type": "stream",
     "text": [
      "only 1 class in test data - cannot compute roc curve\n"
     ]
    },
    {
     "name": "stderr",
     "output_type": "stream",
     "text": [
      "C:\\Users\\nshawen\\AppData\\Local\\Continuum\\anaconda3\\lib\\site-packages\\sklearn\\metrics\\classification.py:1137: UndefinedMetricWarning: F-score is ill-defined and being set to 0.0 due to no true samples.\n",
      "  'recall', 'true', average, warn_for)\n",
      "C:\\Users\\nshawen\\AppData\\Local\\Continuum\\anaconda3\\lib\\site-packages\\sklearn\\metrics\\ranking.py:444: RuntimeWarning: invalid value encountered in true_divide\n",
      "  recall = tps / tps[-1]\n",
      "C:\\Users\\nshawen\\AppData\\Local\\Continuum\\anaconda3\\lib\\site-packages\\sklearn\\metrics\\ranking.py:94: RuntimeWarning: invalid value encountered in less\n",
      "  if np.any(dx < 0):\n",
      "C:\\Users\\nshawen\\AppData\\Local\\Continuum\\anaconda3\\lib\\site-packages\\sklearn\\metrics\\classification.py:1137: UndefinedMetricWarning: Recall is ill-defined and being set to 0.0 due to no true samples.\n",
      "  'recall', 'true', average, warn_for)\n"
     ]
    },
    {
     "name": "stdout",
     "output_type": "stream",
     "text": [
      "only 1 class in test data - cannot compute roc curve\n"
     ]
    },
    {
     "name": "stderr",
     "output_type": "stream",
     "text": [
      "C:\\Users\\nshawen\\AppData\\Local\\Continuum\\anaconda3\\lib\\site-packages\\sklearn\\metrics\\classification.py:1137: UndefinedMetricWarning: F-score is ill-defined and being set to 0.0 due to no true samples.\n",
      "  'recall', 'true', average, warn_for)\n",
      "C:\\Users\\nshawen\\AppData\\Local\\Continuum\\anaconda3\\lib\\site-packages\\sklearn\\metrics\\ranking.py:444: RuntimeWarning: invalid value encountered in true_divide\n",
      "  recall = tps / tps[-1]\n",
      "C:\\Users\\nshawen\\AppData\\Local\\Continuum\\anaconda3\\lib\\site-packages\\sklearn\\metrics\\ranking.py:94: RuntimeWarning: invalid value encountered in less\n",
      "  if np.any(dx < 0):\n",
      "C:\\Users\\nshawen\\AppData\\Local\\Continuum\\anaconda3\\lib\\site-packages\\sklearn\\metrics\\classification.py:1137: UndefinedMetricWarning: Recall is ill-defined and being set to 0.0 due to no true samples.\n",
      "  'recall', 'true', average, warn_for)\n"
     ]
    },
    {
     "name": "stdout",
     "output_type": "stream",
     "text": [
      "only 1 class in test data - cannot compute roc curve\n"
     ]
    },
    {
     "name": "stderr",
     "output_type": "stream",
     "text": [
      "C:\\Users\\nshawen\\AppData\\Local\\Continuum\\anaconda3\\lib\\site-packages\\sklearn\\metrics\\ranking.py:444: RuntimeWarning: invalid value encountered in true_divide\n",
      "  recall = tps / tps[-1]\n",
      "C:\\Users\\nshawen\\AppData\\Local\\Continuum\\anaconda3\\lib\\site-packages\\sklearn\\metrics\\ranking.py:94: RuntimeWarning: invalid value encountered in less\n",
      "  if np.any(dx < 0):\n"
     ]
    },
    {
     "name": "stdout",
     "output_type": "stream",
     "text": [
      "only 1 class in test data - cannot compute roc curve\n"
     ]
    },
    {
     "name": "stderr",
     "output_type": "stream",
     "text": [
      "C:\\Users\\nshawen\\AppData\\Local\\Continuum\\anaconda3\\lib\\site-packages\\sklearn\\metrics\\classification.py:1137: UndefinedMetricWarning: F-score is ill-defined and being set to 0.0 due to no true samples.\n",
      "  'recall', 'true', average, warn_for)\n",
      "C:\\Users\\nshawen\\AppData\\Local\\Continuum\\anaconda3\\lib\\site-packages\\sklearn\\metrics\\ranking.py:444: RuntimeWarning: invalid value encountered in true_divide\n",
      "  recall = tps / tps[-1]\n",
      "C:\\Users\\nshawen\\AppData\\Local\\Continuum\\anaconda3\\lib\\site-packages\\sklearn\\metrics\\ranking.py:94: RuntimeWarning: invalid value encountered in less\n",
      "  if np.any(dx < 0):\n",
      "C:\\Users\\nshawen\\AppData\\Local\\Continuum\\anaconda3\\lib\\site-packages\\sklearn\\metrics\\classification.py:1137: UndefinedMetricWarning: Recall is ill-defined and being set to 0.0 due to no true samples.\n",
      "  'recall', 'true', average, warn_for)\n"
     ]
    },
    {
     "name": "stdout",
     "output_type": "stream",
     "text": [
      "only 1 class in test data - cannot compute roc curve\n"
     ]
    },
    {
     "name": "stderr",
     "output_type": "stream",
     "text": [
      "C:\\Users\\nshawen\\AppData\\Local\\Continuum\\anaconda3\\lib\\site-packages\\sklearn\\metrics\\classification.py:1137: UndefinedMetricWarning: F-score is ill-defined and being set to 0.0 due to no true samples.\n",
      "  'recall', 'true', average, warn_for)\n",
      "C:\\Users\\nshawen\\AppData\\Local\\Continuum\\anaconda3\\lib\\site-packages\\sklearn\\metrics\\ranking.py:444: RuntimeWarning: invalid value encountered in true_divide\n",
      "  recall = tps / tps[-1]\n",
      "C:\\Users\\nshawen\\AppData\\Local\\Continuum\\anaconda3\\lib\\site-packages\\sklearn\\metrics\\ranking.py:94: RuntimeWarning: invalid value encountered in less\n",
      "  if np.any(dx < 0):\n",
      "C:\\Users\\nshawen\\AppData\\Local\\Continuum\\anaconda3\\lib\\site-packages\\sklearn\\metrics\\classification.py:1137: UndefinedMetricWarning: Recall is ill-defined and being set to 0.0 due to no true samples.\n",
      "  'recall', 'true', average, warn_for)\n"
     ]
    },
    {
     "name": "stdout",
     "output_type": "stream",
     "text": [
      "only 1 class in test data - cannot compute roc curve\n",
      "only 1 class in test data - cannot compute roc curve\n"
     ]
    },
    {
     "name": "stderr",
     "output_type": "stream",
     "text": [
      "C:\\Users\\nshawen\\AppData\\Local\\Continuum\\anaconda3\\lib\\site-packages\\ipykernel_launcher.py:273: RuntimeWarning: invalid value encountered in long_scalars\n",
      "C:\\Users\\nshawen\\AppData\\Local\\Continuum\\anaconda3\\lib\\site-packages\\sklearn\\metrics\\ranking.py:444: RuntimeWarning: invalid value encountered in true_divide\n",
      "  recall = tps / tps[-1]\n",
      "C:\\Users\\nshawen\\AppData\\Local\\Continuum\\anaconda3\\lib\\site-packages\\sklearn\\metrics\\ranking.py:94: RuntimeWarning: invalid value encountered in less\n",
      "  if np.any(dx < 0):\n"
     ]
    },
    {
     "name": "stdout",
     "output_type": "stream",
     "text": [
      "only 1 class in test data - cannot compute roc curve\n"
     ]
    },
    {
     "name": "stderr",
     "output_type": "stream",
     "text": [
      "C:\\Users\\nshawen\\AppData\\Local\\Continuum\\anaconda3\\lib\\site-packages\\sklearn\\metrics\\ranking.py:444: RuntimeWarning: invalid value encountered in true_divide\n",
      "  recall = tps / tps[-1]\n",
      "C:\\Users\\nshawen\\AppData\\Local\\Continuum\\anaconda3\\lib\\site-packages\\sklearn\\metrics\\ranking.py:94: RuntimeWarning: invalid value encountered in less\n",
      "  if np.any(dx < 0):\n"
     ]
    },
    {
     "name": "stdout",
     "output_type": "stream",
     "text": [
      "only 1 class in test data - cannot compute roc curve\n"
     ]
    },
    {
     "name": "stderr",
     "output_type": "stream",
     "text": [
      "C:\\Users\\nshawen\\AppData\\Local\\Continuum\\anaconda3\\lib\\site-packages\\sklearn\\metrics\\ranking.py:444: RuntimeWarning: invalid value encountered in true_divide\n",
      "  recall = tps / tps[-1]\n",
      "C:\\Users\\nshawen\\AppData\\Local\\Continuum\\anaconda3\\lib\\site-packages\\sklearn\\metrics\\ranking.py:94: RuntimeWarning: invalid value encountered in less\n",
      "  if np.any(dx < 0):\n"
     ]
    },
    {
     "name": "stdout",
     "output_type": "stream",
     "text": [
      "only 1 class in test data - cannot compute roc curve\n"
     ]
    },
    {
     "name": "stderr",
     "output_type": "stream",
     "text": [
      "C:\\Users\\nshawen\\AppData\\Local\\Continuum\\anaconda3\\lib\\site-packages\\sklearn\\metrics\\classification.py:1137: UndefinedMetricWarning: F-score is ill-defined and being set to 0.0 due to no true samples.\n",
      "  'recall', 'true', average, warn_for)\n",
      "C:\\Users\\nshawen\\AppData\\Local\\Continuum\\anaconda3\\lib\\site-packages\\sklearn\\metrics\\ranking.py:444: RuntimeWarning: invalid value encountered in true_divide\n",
      "  recall = tps / tps[-1]\n",
      "C:\\Users\\nshawen\\AppData\\Local\\Continuum\\anaconda3\\lib\\site-packages\\sklearn\\metrics\\ranking.py:94: RuntimeWarning: invalid value encountered in less\n",
      "  if np.any(dx < 0):\n",
      "C:\\Users\\nshawen\\AppData\\Local\\Continuum\\anaconda3\\lib\\site-packages\\sklearn\\metrics\\classification.py:1137: UndefinedMetricWarning: Recall is ill-defined and being set to 0.0 due to no true samples.\n",
      "  'recall', 'true', average, warn_for)\n",
      "C:\\Users\\nshawen\\AppData\\Local\\Continuum\\anaconda3\\lib\\site-packages\\sklearn\\metrics\\classification.py:1135: UndefinedMetricWarning: F-score is ill-defined and being set to 0.0 due to no predicted samples.\n",
      "  'precision', 'predicted', average, warn_for)\n"
     ]
    },
    {
     "name": "stdout",
     "output_type": "stream",
     "text": [
      "only 1 class in test data - cannot compute roc curve\n"
     ]
    },
    {
     "name": "stderr",
     "output_type": "stream",
     "text": [
      "C:\\Users\\nshawen\\AppData\\Local\\Continuum\\anaconda3\\lib\\site-packages\\sklearn\\metrics\\classification.py:1135: UndefinedMetricWarning: Precision is ill-defined and being set to 0.0 due to no predicted samples.\n",
      "  'precision', 'predicted', average, warn_for)\n",
      "C:\\Users\\nshawen\\AppData\\Local\\Continuum\\anaconda3\\lib\\site-packages\\sklearn\\metrics\\ranking.py:444: RuntimeWarning: invalid value encountered in true_divide\n",
      "  recall = tps / tps[-1]\n",
      "C:\\Users\\nshawen\\AppData\\Local\\Continuum\\anaconda3\\lib\\site-packages\\sklearn\\metrics\\ranking.py:94: RuntimeWarning: invalid value encountered in less\n",
      "  if np.any(dx < 0):\n"
     ]
    },
    {
     "name": "stdout",
     "output_type": "stream",
     "text": [
      "only 1 class in test data - cannot compute roc curve\n"
     ]
    },
    {
     "name": "stderr",
     "output_type": "stream",
     "text": [
      "C:\\Users\\nshawen\\AppData\\Local\\Continuum\\anaconda3\\lib\\site-packages\\sklearn\\metrics\\ranking.py:444: RuntimeWarning: invalid value encountered in true_divide\n",
      "  recall = tps / tps[-1]\n",
      "C:\\Users\\nshawen\\AppData\\Local\\Continuum\\anaconda3\\lib\\site-packages\\sklearn\\metrics\\ranking.py:94: RuntimeWarning: invalid value encountered in less\n",
      "  if np.any(dx < 0):\n"
     ]
    },
    {
     "name": "stdout",
     "output_type": "stream",
     "text": [
      "only 1 class in test data - cannot compute roc curve\n"
     ]
    },
    {
     "name": "stderr",
     "output_type": "stream",
     "text": [
      "C:\\Users\\nshawen\\AppData\\Local\\Continuum\\anaconda3\\lib\\site-packages\\sklearn\\metrics\\classification.py:1137: UndefinedMetricWarning: F-score is ill-defined and being set to 0.0 due to no true samples.\n",
      "  'recall', 'true', average, warn_for)\n",
      "C:\\Users\\nshawen\\AppData\\Local\\Continuum\\anaconda3\\lib\\site-packages\\sklearn\\metrics\\ranking.py:444: RuntimeWarning: invalid value encountered in true_divide\n",
      "  recall = tps / tps[-1]\n",
      "C:\\Users\\nshawen\\AppData\\Local\\Continuum\\anaconda3\\lib\\site-packages\\sklearn\\metrics\\ranking.py:94: RuntimeWarning: invalid value encountered in less\n",
      "  if np.any(dx < 0):\n",
      "C:\\Users\\nshawen\\AppData\\Local\\Continuum\\anaconda3\\lib\\site-packages\\sklearn\\metrics\\classification.py:1137: UndefinedMetricWarning: Recall is ill-defined and being set to 0.0 due to no true samples.\n",
      "  'recall', 'true', average, warn_for)\n"
     ]
    },
    {
     "name": "stdout",
     "output_type": "stream",
     "text": [
      "only 1 class in test data - cannot compute roc curve\n"
     ]
    },
    {
     "name": "stderr",
     "output_type": "stream",
     "text": [
      "C:\\Users\\nshawen\\AppData\\Local\\Continuum\\anaconda3\\lib\\site-packages\\sklearn\\metrics\\ranking.py:444: RuntimeWarning: invalid value encountered in true_divide\n",
      "  recall = tps / tps[-1]\n",
      "C:\\Users\\nshawen\\AppData\\Local\\Continuum\\anaconda3\\lib\\site-packages\\sklearn\\metrics\\ranking.py:94: RuntimeWarning: invalid value encountered in less\n",
      "  if np.any(dx < 0):\n"
     ]
    },
    {
     "name": "stdout",
     "output_type": "stream",
     "text": [
      "only 1 class in test data - cannot compute roc curve\n"
     ]
    },
    {
     "name": "stderr",
     "output_type": "stream",
     "text": [
      "C:\\Users\\nshawen\\AppData\\Local\\Continuum\\anaconda3\\lib\\site-packages\\sklearn\\metrics\\ranking.py:444: RuntimeWarning: invalid value encountered in true_divide\n",
      "  recall = tps / tps[-1]\n",
      "C:\\Users\\nshawen\\AppData\\Local\\Continuum\\anaconda3\\lib\\site-packages\\sklearn\\metrics\\ranking.py:94: RuntimeWarning: invalid value encountered in less\n",
      "  if np.any(dx < 0):\n",
      "C:\\Users\\nshawen\\AppData\\Local\\Continuum\\anaconda3\\lib\\site-packages\\sklearn\\metrics\\ranking.py:444: RuntimeWarning: invalid value encountered in true_divide\n",
      "  recall = tps / tps[-1]\n",
      "C:\\Users\\nshawen\\AppData\\Local\\Continuum\\anaconda3\\lib\\site-packages\\sklearn\\metrics\\ranking.py:94: RuntimeWarning: invalid value encountered in less\n",
      "  if np.any(dx < 0):\n"
     ]
    },
    {
     "name": "stdout",
     "output_type": "stream",
     "text": [
      "only 1 class in test data - cannot compute roc curve\n",
      "only 1 class in test data - cannot compute roc curve\n"
     ]
    },
    {
     "name": "stderr",
     "output_type": "stream",
     "text": [
      "C:\\Users\\nshawen\\AppData\\Local\\Continuum\\anaconda3\\lib\\site-packages\\sklearn\\metrics\\ranking.py:444: RuntimeWarning: invalid value encountered in true_divide\n",
      "  recall = tps / tps[-1]\n",
      "C:\\Users\\nshawen\\AppData\\Local\\Continuum\\anaconda3\\lib\\site-packages\\sklearn\\metrics\\ranking.py:94: RuntimeWarning: invalid value encountered in less\n",
      "  if np.any(dx < 0):\n"
     ]
    },
    {
     "name": "stdout",
     "output_type": "stream",
     "text": [
      "only 1 class in test data - cannot compute roc curve\n"
     ]
    },
    {
     "name": "stderr",
     "output_type": "stream",
     "text": [
      "C:\\Users\\nshawen\\AppData\\Local\\Continuum\\anaconda3\\lib\\site-packages\\sklearn\\metrics\\ranking.py:444: RuntimeWarning: invalid value encountered in true_divide\n",
      "  recall = tps / tps[-1]\n",
      "C:\\Users\\nshawen\\AppData\\Local\\Continuum\\anaconda3\\lib\\site-packages\\sklearn\\metrics\\ranking.py:94: RuntimeWarning: invalid value encountered in less\n",
      "  if np.any(dx < 0):\n"
     ]
    },
    {
     "name": "stdout",
     "output_type": "stream",
     "text": [
      "only 1 class in test data - cannot compute roc curve\n"
     ]
    },
    {
     "name": "stderr",
     "output_type": "stream",
     "text": [
      "C:\\Users\\nshawen\\AppData\\Local\\Continuum\\anaconda3\\lib\\site-packages\\sklearn\\metrics\\classification.py:1137: UndefinedMetricWarning: F-score is ill-defined and being set to 0.0 due to no true samples.\n",
      "  'recall', 'true', average, warn_for)\n",
      "C:\\Users\\nshawen\\AppData\\Local\\Continuum\\anaconda3\\lib\\site-packages\\sklearn\\metrics\\ranking.py:444: RuntimeWarning: invalid value encountered in true_divide\n",
      "  recall = tps / tps[-1]\n",
      "C:\\Users\\nshawen\\AppData\\Local\\Continuum\\anaconda3\\lib\\site-packages\\sklearn\\metrics\\ranking.py:94: RuntimeWarning: invalid value encountered in less\n",
      "  if np.any(dx < 0):\n",
      "C:\\Users\\nshawen\\AppData\\Local\\Continuum\\anaconda3\\lib\\site-packages\\sklearn\\metrics\\classification.py:1137: UndefinedMetricWarning: Recall is ill-defined and being set to 0.0 due to no true samples.\n",
      "  'recall', 'true', average, warn_for)\n"
     ]
    },
    {
     "name": "stdout",
     "output_type": "stream",
     "text": [
      "only 1 class in test data - cannot compute roc curve\n"
     ]
    },
    {
     "name": "stderr",
     "output_type": "stream",
     "text": [
      "C:\\Users\\nshawen\\AppData\\Local\\Continuum\\anaconda3\\lib\\site-packages\\sklearn\\metrics\\ranking.py:444: RuntimeWarning: invalid value encountered in true_divide\n",
      "  recall = tps / tps[-1]\n",
      "C:\\Users\\nshawen\\AppData\\Local\\Continuum\\anaconda3\\lib\\site-packages\\sklearn\\metrics\\ranking.py:94: RuntimeWarning: invalid value encountered in less\n",
      "  if np.any(dx < 0):\n"
     ]
    },
    {
     "name": "stdout",
     "output_type": "stream",
     "text": [
      "only 1 class in test data - cannot compute roc curve\n",
      "only 1 class in test data - cannot compute roc curve\n"
     ]
    },
    {
     "name": "stderr",
     "output_type": "stream",
     "text": [
      "C:\\Users\\nshawen\\AppData\\Local\\Continuum\\anaconda3\\lib\\site-packages\\ipykernel_launcher.py:273: RuntimeWarning: invalid value encountered in long_scalars\n"
     ]
    },
    {
     "name": "stdout",
     "output_type": "stream",
     "text": [
      "only 1 class in test data - cannot compute roc curve\n"
     ]
    },
    {
     "name": "stderr",
     "output_type": "stream",
     "text": [
      "C:\\Users\\nshawen\\AppData\\Local\\Continuum\\anaconda3\\lib\\site-packages\\ipykernel_launcher.py:273: RuntimeWarning: invalid value encountered in long_scalars\n",
      "C:\\Users\\nshawen\\AppData\\Local\\Continuum\\anaconda3\\lib\\site-packages\\sklearn\\metrics\\classification.py:1137: UndefinedMetricWarning: F-score is ill-defined and being set to 0.0 due to no true samples.\n",
      "  'recall', 'true', average, warn_for)\n",
      "C:\\Users\\nshawen\\AppData\\Local\\Continuum\\anaconda3\\lib\\site-packages\\sklearn\\metrics\\ranking.py:444: RuntimeWarning: invalid value encountered in true_divide\n",
      "  recall = tps / tps[-1]\n",
      "C:\\Users\\nshawen\\AppData\\Local\\Continuum\\anaconda3\\lib\\site-packages\\sklearn\\metrics\\ranking.py:94: RuntimeWarning: invalid value encountered in less\n",
      "  if np.any(dx < 0):\n",
      "C:\\Users\\nshawen\\AppData\\Local\\Continuum\\anaconda3\\lib\\site-packages\\sklearn\\metrics\\classification.py:1137: UndefinedMetricWarning: Recall is ill-defined and being set to 0.0 due to no true samples.\n",
      "  'recall', 'true', average, warn_for)\n"
     ]
    },
    {
     "name": "stdout",
     "output_type": "stream",
     "text": [
      "only 1 class in test data - cannot compute roc curve\n",
      "only 1 class in test data - cannot compute roc curve\n"
     ]
    },
    {
     "name": "stderr",
     "output_type": "stream",
     "text": [
      "C:\\Users\\nshawen\\AppData\\Local\\Continuum\\anaconda3\\lib\\site-packages\\ipykernel_launcher.py:273: RuntimeWarning: invalid value encountered in long_scalars\n",
      "C:\\Users\\nshawen\\AppData\\Local\\Continuum\\anaconda3\\lib\\site-packages\\sklearn\\metrics\\classification.py:1137: UndefinedMetricWarning: F-score is ill-defined and being set to 0.0 due to no true samples.\n",
      "  'recall', 'true', average, warn_for)\n",
      "C:\\Users\\nshawen\\AppData\\Local\\Continuum\\anaconda3\\lib\\site-packages\\sklearn\\metrics\\ranking.py:444: RuntimeWarning: invalid value encountered in true_divide\n",
      "  recall = tps / tps[-1]\n",
      "C:\\Users\\nshawen\\AppData\\Local\\Continuum\\anaconda3\\lib\\site-packages\\sklearn\\metrics\\ranking.py:94: RuntimeWarning: invalid value encountered in less\n",
      "  if np.any(dx < 0):\n",
      "C:\\Users\\nshawen\\AppData\\Local\\Continuum\\anaconda3\\lib\\site-packages\\sklearn\\metrics\\classification.py:1137: UndefinedMetricWarning: Recall is ill-defined and being set to 0.0 due to no true samples.\n",
      "  'recall', 'true', average, warn_for)\n"
     ]
    },
    {
     "name": "stdout",
     "output_type": "stream",
     "text": [
      "only 1 class in test data - cannot compute roc curve\n",
      "only 1 class in test data - cannot compute roc curve\n"
     ]
    },
    {
     "name": "stderr",
     "output_type": "stream",
     "text": [
      "C:\\Users\\nshawen\\AppData\\Local\\Continuum\\anaconda3\\lib\\site-packages\\ipykernel_launcher.py:273: RuntimeWarning: invalid value encountered in long_scalars\n",
      "C:\\Users\\nshawen\\AppData\\Local\\Continuum\\anaconda3\\lib\\site-packages\\sklearn\\metrics\\classification.py:1137: UndefinedMetricWarning: F-score is ill-defined and being set to 0.0 due to no true samples.\n",
      "  'recall', 'true', average, warn_for)\n",
      "C:\\Users\\nshawen\\AppData\\Local\\Continuum\\anaconda3\\lib\\site-packages\\sklearn\\metrics\\ranking.py:444: RuntimeWarning: invalid value encountered in true_divide\n",
      "  recall = tps / tps[-1]\n",
      "C:\\Users\\nshawen\\AppData\\Local\\Continuum\\anaconda3\\lib\\site-packages\\sklearn\\metrics\\ranking.py:94: RuntimeWarning: invalid value encountered in less\n",
      "  if np.any(dx < 0):\n",
      "C:\\Users\\nshawen\\AppData\\Local\\Continuum\\anaconda3\\lib\\site-packages\\sklearn\\metrics\\classification.py:1137: UndefinedMetricWarning: Recall is ill-defined and being set to 0.0 due to no true samples.\n",
      "  'recall', 'true', average, warn_for)\n"
     ]
    },
    {
     "name": "stdout",
     "output_type": "stream",
     "text": [
      "only 1 class in test data - cannot compute roc curve\n"
     ]
    },
    {
     "name": "stderr",
     "output_type": "stream",
     "text": [
      "C:\\Users\\nshawen\\AppData\\Local\\Continuum\\anaconda3\\lib\\site-packages\\sklearn\\metrics\\classification.py:1137: UndefinedMetricWarning: F-score is ill-defined and being set to 0.0 due to no true samples.\n",
      "  'recall', 'true', average, warn_for)\n",
      "C:\\Users\\nshawen\\AppData\\Local\\Continuum\\anaconda3\\lib\\site-packages\\sklearn\\metrics\\ranking.py:444: RuntimeWarning: invalid value encountered in true_divide\n",
      "  recall = tps / tps[-1]\n",
      "C:\\Users\\nshawen\\AppData\\Local\\Continuum\\anaconda3\\lib\\site-packages\\sklearn\\metrics\\ranking.py:94: RuntimeWarning: invalid value encountered in less\n",
      "  if np.any(dx < 0):\n",
      "C:\\Users\\nshawen\\AppData\\Local\\Continuum\\anaconda3\\lib\\site-packages\\sklearn\\metrics\\classification.py:1137: UndefinedMetricWarning: Recall is ill-defined and being set to 0.0 due to no true samples.\n",
      "  'recall', 'true', average, warn_for)\n"
     ]
    },
    {
     "name": "stdout",
     "output_type": "stream",
     "text": [
      "only 1 class in test data - cannot compute roc curve\n",
      "only 1 class in test data - cannot compute roc curve\n"
     ]
    },
    {
     "name": "stderr",
     "output_type": "stream",
     "text": [
      "C:\\Users\\nshawen\\AppData\\Local\\Continuum\\anaconda3\\lib\\site-packages\\ipykernel_launcher.py:273: RuntimeWarning: invalid value encountered in long_scalars\n",
      "C:\\Users\\nshawen\\AppData\\Local\\Continuum\\anaconda3\\lib\\site-packages\\sklearn\\metrics\\classification.py:1137: UndefinedMetricWarning: F-score is ill-defined and being set to 0.0 due to no true samples.\n",
      "  'recall', 'true', average, warn_for)\n",
      "C:\\Users\\nshawen\\AppData\\Local\\Continuum\\anaconda3\\lib\\site-packages\\sklearn\\metrics\\ranking.py:444: RuntimeWarning: invalid value encountered in true_divide\n",
      "  recall = tps / tps[-1]\n",
      "C:\\Users\\nshawen\\AppData\\Local\\Continuum\\anaconda3\\lib\\site-packages\\sklearn\\metrics\\ranking.py:94: RuntimeWarning: invalid value encountered in less\n",
      "  if np.any(dx < 0):\n",
      "C:\\Users\\nshawen\\AppData\\Local\\Continuum\\anaconda3\\lib\\site-packages\\sklearn\\metrics\\classification.py:1137: UndefinedMetricWarning: Recall is ill-defined and being set to 0.0 due to no true samples.\n",
      "  'recall', 'true', average, warn_for)\n"
     ]
    },
    {
     "name": "stdout",
     "output_type": "stream",
     "text": [
      "only 1 class in test data - cannot compute roc curve\n"
     ]
    },
    {
     "name": "stderr",
     "output_type": "stream",
     "text": [
      "C:\\Users\\nshawen\\AppData\\Local\\Continuum\\anaconda3\\lib\\site-packages\\sklearn\\metrics\\classification.py:1137: UndefinedMetricWarning: F-score is ill-defined and being set to 0.0 due to no true samples.\n",
      "  'recall', 'true', average, warn_for)\n",
      "C:\\Users\\nshawen\\AppData\\Local\\Continuum\\anaconda3\\lib\\site-packages\\sklearn\\metrics\\ranking.py:444: RuntimeWarning: invalid value encountered in true_divide\n",
      "  recall = tps / tps[-1]\n",
      "C:\\Users\\nshawen\\AppData\\Local\\Continuum\\anaconda3\\lib\\site-packages\\sklearn\\metrics\\ranking.py:94: RuntimeWarning: invalid value encountered in less\n",
      "  if np.any(dx < 0):\n",
      "C:\\Users\\nshawen\\AppData\\Local\\Continuum\\anaconda3\\lib\\site-packages\\sklearn\\metrics\\classification.py:1137: UndefinedMetricWarning: Recall is ill-defined and being set to 0.0 due to no true samples.\n",
      "  'recall', 'true', average, warn_for)\n",
      "C:\\Users\\nshawen\\AppData\\Local\\Continuum\\anaconda3\\lib\\site-packages\\ipykernel_launcher.py:317: RuntimeWarning: Mean of empty slice\n"
     ]
    },
    {
     "name": "stdout",
     "output_type": "stream",
     "text": [
      "only 1 class in test data - cannot compute roc curve\n",
      "only 1 class in test data - cannot compute roc curve\n"
     ]
    },
    {
     "name": "stderr",
     "output_type": "stream",
     "text": [
      "C:\\Users\\nshawen\\AppData\\Local\\Continuum\\anaconda3\\lib\\site-packages\\ipykernel_launcher.py:273: RuntimeWarning: invalid value encountered in long_scalars\n"
     ]
    },
    {
     "name": "stdout",
     "output_type": "stream",
     "text": [
      "only 1 class in test data - cannot compute roc curve\n"
     ]
    },
    {
     "name": "stderr",
     "output_type": "stream",
     "text": [
      "C:\\Users\\nshawen\\AppData\\Local\\Continuum\\anaconda3\\lib\\site-packages\\ipykernel_launcher.py:273: RuntimeWarning: invalid value encountered in long_scalars\n",
      "C:\\Users\\nshawen\\AppData\\Local\\Continuum\\anaconda3\\lib\\site-packages\\sklearn\\metrics\\classification.py:1135: UndefinedMetricWarning: F-score is ill-defined and being set to 0.0 due to no predicted samples.\n",
      "  'precision', 'predicted', average, warn_for)\n",
      "C:\\Users\\nshawen\\AppData\\Local\\Continuum\\anaconda3\\lib\\site-packages\\sklearn\\metrics\\classification.py:1135: UndefinedMetricWarning: Precision is ill-defined and being set to 0.0 due to no predicted samples.\n",
      "  'precision', 'predicted', average, warn_for)\n",
      "C:\\Users\\nshawen\\AppData\\Local\\Continuum\\anaconda3\\lib\\site-packages\\sklearn\\metrics\\classification.py:1137: UndefinedMetricWarning: F-score is ill-defined and being set to 0.0 due to no true samples.\n",
      "  'recall', 'true', average, warn_for)\n",
      "C:\\Users\\nshawen\\AppData\\Local\\Continuum\\anaconda3\\lib\\site-packages\\sklearn\\metrics\\ranking.py:444: RuntimeWarning: invalid value encountered in true_divide\n",
      "  recall = tps / tps[-1]\n",
      "C:\\Users\\nshawen\\AppData\\Local\\Continuum\\anaconda3\\lib\\site-packages\\sklearn\\metrics\\ranking.py:94: RuntimeWarning: invalid value encountered in less\n",
      "  if np.any(dx < 0):\n",
      "C:\\Users\\nshawen\\AppData\\Local\\Continuum\\anaconda3\\lib\\site-packages\\sklearn\\metrics\\classification.py:1137: UndefinedMetricWarning: Recall is ill-defined and being set to 0.0 due to no true samples.\n",
      "  'recall', 'true', average, warn_for)\n"
     ]
    },
    {
     "name": "stdout",
     "output_type": "stream",
     "text": [
      "only 1 class in test data - cannot compute roc curve\n"
     ]
    },
    {
     "name": "stderr",
     "output_type": "stream",
     "text": [
      "C:\\Users\\nshawen\\AppData\\Local\\Continuum\\anaconda3\\lib\\site-packages\\sklearn\\metrics\\ranking.py:444: RuntimeWarning: invalid value encountered in true_divide\n",
      "  recall = tps / tps[-1]\n",
      "C:\\Users\\nshawen\\AppData\\Local\\Continuum\\anaconda3\\lib\\site-packages\\sklearn\\metrics\\ranking.py:94: RuntimeWarning: invalid value encountered in less\n",
      "  if np.any(dx < 0):\n"
     ]
    },
    {
     "name": "stdout",
     "output_type": "stream",
     "text": [
      "only 1 class in test data - cannot compute roc curve\n"
     ]
    },
    {
     "name": "stderr",
     "output_type": "stream",
     "text": [
      "C:\\Users\\nshawen\\AppData\\Local\\Continuum\\anaconda3\\lib\\site-packages\\sklearn\\metrics\\classification.py:1137: UndefinedMetricWarning: F-score is ill-defined and being set to 0.0 due to no true samples.\n",
      "  'recall', 'true', average, warn_for)\n",
      "C:\\Users\\nshawen\\AppData\\Local\\Continuum\\anaconda3\\lib\\site-packages\\sklearn\\metrics\\ranking.py:444: RuntimeWarning: invalid value encountered in true_divide\n",
      "  recall = tps / tps[-1]\n",
      "C:\\Users\\nshawen\\AppData\\Local\\Continuum\\anaconda3\\lib\\site-packages\\sklearn\\metrics\\ranking.py:94: RuntimeWarning: invalid value encountered in less\n",
      "  if np.any(dx < 0):\n",
      "C:\\Users\\nshawen\\AppData\\Local\\Continuum\\anaconda3\\lib\\site-packages\\sklearn\\metrics\\classification.py:1137: UndefinedMetricWarning: Recall is ill-defined and being set to 0.0 due to no true samples.\n",
      "  'recall', 'true', average, warn_for)\n"
     ]
    },
    {
     "name": "stdout",
     "output_type": "stream",
     "text": [
      "only 1 class in test data - cannot compute roc curve\n"
     ]
    },
    {
     "name": "stderr",
     "output_type": "stream",
     "text": [
      "C:\\Users\\nshawen\\AppData\\Local\\Continuum\\anaconda3\\lib\\site-packages\\sklearn\\metrics\\ranking.py:444: RuntimeWarning: invalid value encountered in true_divide\n",
      "  recall = tps / tps[-1]\n",
      "C:\\Users\\nshawen\\AppData\\Local\\Continuum\\anaconda3\\lib\\site-packages\\sklearn\\metrics\\ranking.py:94: RuntimeWarning: invalid value encountered in less\n",
      "  if np.any(dx < 0):\n"
     ]
    },
    {
     "name": "stdout",
     "output_type": "stream",
     "text": [
      "only 1 class in test data - cannot compute roc curve\n",
      "only 1 class in test data - cannot compute roc curve\n"
     ]
    },
    {
     "name": "stderr",
     "output_type": "stream",
     "text": [
      "C:\\Users\\nshawen\\AppData\\Local\\Continuum\\anaconda3\\lib\\site-packages\\ipykernel_launcher.py:273: RuntimeWarning: invalid value encountered in long_scalars\n"
     ]
    },
    {
     "name": "stdout",
     "output_type": "stream",
     "text": [
      "only 1 class in test data - cannot compute roc curve\n"
     ]
    },
    {
     "name": "stderr",
     "output_type": "stream",
     "text": [
      "C:\\Users\\nshawen\\AppData\\Local\\Continuum\\anaconda3\\lib\\site-packages\\ipykernel_launcher.py:273: RuntimeWarning: invalid value encountered in long_scalars\n",
      "C:\\Users\\nshawen\\AppData\\Local\\Continuum\\anaconda3\\lib\\site-packages\\sklearn\\metrics\\classification.py:1137: UndefinedMetricWarning: F-score is ill-defined and being set to 0.0 due to no true samples.\n",
      "  'recall', 'true', average, warn_for)\n",
      "C:\\Users\\nshawen\\AppData\\Local\\Continuum\\anaconda3\\lib\\site-packages\\sklearn\\metrics\\ranking.py:444: RuntimeWarning: invalid value encountered in true_divide\n",
      "  recall = tps / tps[-1]\n",
      "C:\\Users\\nshawen\\AppData\\Local\\Continuum\\anaconda3\\lib\\site-packages\\sklearn\\metrics\\ranking.py:94: RuntimeWarning: invalid value encountered in less\n",
      "  if np.any(dx < 0):\n",
      "C:\\Users\\nshawen\\AppData\\Local\\Continuum\\anaconda3\\lib\\site-packages\\sklearn\\metrics\\classification.py:1137: UndefinedMetricWarning: Recall is ill-defined and being set to 0.0 due to no true samples.\n",
      "  'recall', 'true', average, warn_for)\n"
     ]
    },
    {
     "name": "stdout",
     "output_type": "stream",
     "text": [
      "only 1 class in test data - cannot compute roc curve\n",
      "only 1 class in test data - cannot compute roc curve\n"
     ]
    },
    {
     "name": "stderr",
     "output_type": "stream",
     "text": [
      "C:\\Users\\nshawen\\AppData\\Local\\Continuum\\anaconda3\\lib\\site-packages\\ipykernel_launcher.py:273: RuntimeWarning: invalid value encountered in long_scalars\n"
     ]
    },
    {
     "name": "stdout",
     "output_type": "stream",
     "text": [
      "only 1 class in test data - cannot compute roc curve\n"
     ]
    },
    {
     "name": "stderr",
     "output_type": "stream",
     "text": [
      "C:\\Users\\nshawen\\AppData\\Local\\Continuum\\anaconda3\\lib\\site-packages\\ipykernel_launcher.py:273: RuntimeWarning: invalid value encountered in long_scalars\n"
     ]
    },
    {
     "name": "stdout",
     "output_type": "stream",
     "text": [
      "only 1 class in test data - cannot compute roc curve\n"
     ]
    },
    {
     "name": "stderr",
     "output_type": "stream",
     "text": [
      "C:\\Users\\nshawen\\AppData\\Local\\Continuum\\anaconda3\\lib\\site-packages\\ipykernel_launcher.py:273: RuntimeWarning: invalid value encountered in long_scalars\n"
     ]
    },
    {
     "name": "stdout",
     "output_type": "stream",
     "text": [
      "only 1 class in test data - cannot compute roc curve\n"
     ]
    },
    {
     "name": "stderr",
     "output_type": "stream",
     "text": [
      "C:\\Users\\nshawen\\AppData\\Local\\Continuum\\anaconda3\\lib\\site-packages\\ipykernel_launcher.py:273: RuntimeWarning: invalid value encountered in long_scalars\n"
     ]
    },
    {
     "name": "stdout",
     "output_type": "stream",
     "text": [
      "only 1 class in test data - cannot compute roc curve\n"
     ]
    },
    {
     "name": "stderr",
     "output_type": "stream",
     "text": [
      "C:\\Users\\nshawen\\AppData\\Local\\Continuum\\anaconda3\\lib\\site-packages\\ipykernel_launcher.py:273: RuntimeWarning: invalid value encountered in long_scalars\n"
     ]
    },
    {
     "name": "stdout",
     "output_type": "stream",
     "text": [
      "only 1 class in test data - cannot compute roc curve\n"
     ]
    },
    {
     "name": "stderr",
     "output_type": "stream",
     "text": [
      "C:\\Users\\nshawen\\AppData\\Local\\Continuum\\anaconda3\\lib\\site-packages\\ipykernel_launcher.py:273: RuntimeWarning: invalid value encountered in long_scalars\n",
      "C:\\Users\\nshawen\\AppData\\Local\\Continuum\\anaconda3\\lib\\site-packages\\ipykernel_launcher.py:317: RuntimeWarning: Mean of empty slice\n"
     ]
    },
    {
     "name": "stdout",
     "output_type": "stream",
     "text": [
      "only 1 class in test data - cannot compute roc curve\n"
     ]
    },
    {
     "name": "stderr",
     "output_type": "stream",
     "text": [
      "C:\\Users\\nshawen\\AppData\\Local\\Continuum\\anaconda3\\lib\\site-packages\\ipykernel_launcher.py:273: RuntimeWarning: invalid value encountered in long_scalars\n"
     ]
    },
    {
     "name": "stdout",
     "output_type": "stream",
     "text": [
      "only 1 class in test data - cannot compute roc curve\n"
     ]
    },
    {
     "name": "stderr",
     "output_type": "stream",
     "text": [
      "C:\\Users\\nshawen\\AppData\\Local\\Continuum\\anaconda3\\lib\\site-packages\\ipykernel_launcher.py:273: RuntimeWarning: invalid value encountered in long_scalars\n"
     ]
    },
    {
     "name": "stdout",
     "output_type": "stream",
     "text": [
      "only 1 class in test data - cannot compute roc curve\n"
     ]
    },
    {
     "name": "stderr",
     "output_type": "stream",
     "text": [
      "C:\\Users\\nshawen\\AppData\\Local\\Continuum\\anaconda3\\lib\\site-packages\\ipykernel_launcher.py:273: RuntimeWarning: invalid value encountered in long_scalars\n"
     ]
    },
    {
     "name": "stdout",
     "output_type": "stream",
     "text": [
      "only 1 class in test data - cannot compute roc curve\n"
     ]
    },
    {
     "name": "stderr",
     "output_type": "stream",
     "text": [
      "C:\\Users\\nshawen\\AppData\\Local\\Continuum\\anaconda3\\lib\\site-packages\\ipykernel_launcher.py:273: RuntimeWarning: invalid value encountered in long_scalars\n"
     ]
    },
    {
     "name": "stdout",
     "output_type": "stream",
     "text": [
      "only 1 class in test data - cannot compute roc curve\n"
     ]
    },
    {
     "name": "stderr",
     "output_type": "stream",
     "text": [
      "C:\\Users\\nshawen\\AppData\\Local\\Continuum\\anaconda3\\lib\\site-packages\\ipykernel_launcher.py:273: RuntimeWarning: invalid value encountered in long_scalars\n"
     ]
    },
    {
     "name": "stdout",
     "output_type": "stream",
     "text": [
      "only 1 class in test data - cannot compute roc curve\n"
     ]
    },
    {
     "name": "stderr",
     "output_type": "stream",
     "text": [
      "C:\\Users\\nshawen\\AppData\\Local\\Continuum\\anaconda3\\lib\\site-packages\\ipykernel_launcher.py:273: RuntimeWarning: invalid value encountered in long_scalars\n"
     ]
    },
    {
     "name": "stdout",
     "output_type": "stream",
     "text": [
      "only 1 class in test data - cannot compute roc curve\n"
     ]
    },
    {
     "name": "stderr",
     "output_type": "stream",
     "text": [
      "C:\\Users\\nshawen\\AppData\\Local\\Continuum\\anaconda3\\lib\\site-packages\\ipykernel_launcher.py:273: RuntimeWarning: invalid value encountered in long_scalars\n"
     ]
    },
    {
     "name": "stdout",
     "output_type": "stream",
     "text": [
      "only 1 class in test data - cannot compute roc curve\n"
     ]
    },
    {
     "name": "stderr",
     "output_type": "stream",
     "text": [
      "C:\\Users\\nshawen\\AppData\\Local\\Continuum\\anaconda3\\lib\\site-packages\\ipykernel_launcher.py:273: RuntimeWarning: invalid value encountered in long_scalars\n",
      "C:\\Users\\nshawen\\AppData\\Local\\Continuum\\anaconda3\\lib\\site-packages\\ipykernel_launcher.py:317: RuntimeWarning: Mean of empty slice\n"
     ]
    },
    {
     "name": "stdout",
     "output_type": "stream",
     "text": [
      "only 1 class in test data - cannot compute roc curve\n"
     ]
    },
    {
     "name": "stderr",
     "output_type": "stream",
     "text": [
      "C:\\Users\\nshawen\\AppData\\Local\\Continuum\\anaconda3\\lib\\site-packages\\ipykernel_launcher.py:273: RuntimeWarning: invalid value encountered in long_scalars\n"
     ]
    },
    {
     "name": "stdout",
     "output_type": "stream",
     "text": [
      "Clinical 0.8735247548054149 (0.7981789902272396, 0.9488705193835902)\n",
      "Walking 0.7779524743115989 (0.6644896801300136, 0.8914152684931841)\n"
     ]
    },
    {
     "name": "stderr",
     "output_type": "stream",
     "text": [
      "C:\\Users\\nshawen\\AppData\\Local\\Continuum\\anaconda3\\lib\\site-packages\\seaborn\\timeseries.py:183: UserWarning: The tsplot function is deprecated and will be removed or replaced (in a substantially altered version) in a future release.\n",
      "  warnings.warn(msg, UserWarning)\n"
     ]
    },
    {
     "name": "stdout",
     "output_type": "stream",
     "text": [
      "Gross Motor 0.6961858206334187 (0.6137415473364669, 0.7786300939303705)\n",
      "Fine Motor 0.8667754771775347 (0.8222353470649296, 0.9113156072901397)\n",
      "Elapsed time = 2.439 min\n"
     ]
    },
    {
     "data": {
      "image/png": "[encoded data removed]",
      "text/plain": [
       "<matplotlib.figure.Figure at 0xf168c88>"
      ]
     },
     "metadata": {},
     "output_type": "display_data"
    }
   ],
   "source": [
    "# Personal Models\n",
    "t1=time.time()\n",
    "res_all = pd.DataFrame()\n",
    "le = LabelEncoder()\n",
    "Data=Data.reset_index(drop=True) #reset index\n",
    "\n",
    "for symptom in ['Bradykinesia']:#, 'Tremor']:\n",
    "    \n",
    "    res_allvisits = {}\n",
    "    for T in tasks:\n",
    "        res_allvisits[tuple(T)] = {'tpr':[],'fpr':[],'auroc':[]}\n",
    "    \n",
    "    #remove nan rows for current symptom\n",
    "    Data = Dataorig.copy() #original unmodified dataframe\n",
    "    Data=Data[~Data[symptom].isnull()]\n",
    "    Data=Data.reset_index(drop=True) #reset index\n",
    "    \n",
    "    X = Data.iloc[:,7:].as_matrix()\n",
    "    # X = StandardScaler().fit_transform(X)\n",
    "    fnames = Data.iloc[:,7:].columns.values\n",
    "\n",
    "    indp = ((Data[symptom]>0))\n",
    "    indp = indp.values\n",
    "    y = indp.astype(int) #target \n",
    "    print('Rows w %s %d/%d = %.2f'%(symptom,sum(indp),len(indp),(sum(indp)/len(indp))))\n",
    "\n",
    "    for s in Data.Subject.unique():\n",
    "        ds = Data.loc[Data.Subject==s]\n",
    "        indp = (ds[symptom]>0).values\n",
    "        y = indp.astype(int) #target \n",
    "        X = ds.iloc[:,7:]\n",
    "        X_std = StandardScaler().fit_transform(X) #standardize input data\n",
    "        groups = le.fit_transform(ds.Visit)\n",
    "        if len(np.unique(groups))<2:\n",
    "            continue\n",
    "        \n",
    "\n",
    "        models = [RandomForestClassifier(n_estimators=50,random_state=2)]          \n",
    "        model_name = ['Random Forest']\n",
    "        models = list(zip(models,model_name))\n",
    "\n",
    "        res,res_group = LOSOCV_Tasks(ds,X_std,y,groups,tasks,models[0][0])\n",
    "        \n",
    "        #loop through visits and remove NaNs\n",
    "        for T in res_group.keys():\n",
    "            NanInds = []\n",
    "            for i in range(len(res_group[T]['auroc'])):\n",
    "                if np.isnan(res_group[T]['auroc'][i]):\n",
    "                    NanInds.append(i)\n",
    "            for i in sorted(NanInds,reverse=True):\n",
    "                del res_group[T]['tpr'][i]\n",
    "                del res_group[T]['auroc'][i]\n",
    "            if len(res_group[T]['auroc'])>0:\n",
    "                res_allvisits[T]['tpr'].append(np.nanmean(res_group[T]['tpr'],axis=0))\n",
    "                res_allvisits[T]['fpr'].append(np.nanmean(res_group[T]['fpr'],axis=0))\n",
    "                res_allvisits[T]['auroc'].append(np.nanmean(res_group[T]['auroc']))\n",
    "        \n",
    "    Tasks = list(res_group.keys())\n",
    "    AX=None\n",
    "#     plt.figure(figsize=(9,6))\n",
    "\n",
    "    figure = plt.figure()\n",
    "    figure.set_dpi(100)\n",
    "    figure.set_size_inches(6.4,4.8)\n",
    "    \n",
    "    cols = ['b','r','g','m','k']\n",
    "    TaskNames = ['Clinical', 'Walking', 'Gross Motor', 'Fine Motor', 'All']\n",
    "    for x,T in zip(range(len(Tasks)),Tasks):\n",
    "        \n",
    "        AUC = res_allvisits[T]['auroc']\n",
    "        print(TaskNames[x],np.mean(AUC),\n",
    "              stats.t.interval(.95,len(AUC)-1, loc=np.mean(AUC), scale=stats.sem(AUC)))\n",
    "        \n",
    "        if AX==None:\n",
    "            AX = plot_roc(res_allvisits[T]['tpr'],res_allvisits[T]['fpr'][0],np.mean(res_allvisits[T]['auroc']),\n",
    "                          plotname=TaskNames[x],col = cols[x])\n",
    "        else:\n",
    "            plot_roc(res_allvisits[T]['tpr'],res_allvisits[T]['fpr'][0],np.mean(res_allvisits[T]['auroc']),\n",
    "                     plotname=TaskNames[x],ax=AX,col=cols[x])\n",
    "\n",
    "    save_object(res_allvisits,symptom+'PersonalDataResults')\n",
    "    plt.savefig(symptom+'Tasks.jpg')\n",
    "    plt.savefig(symptom+'Tasks.png',format='png',dpi=1000)\n",
    "    \n",
    "\n",
    "print('Elapsed time = %.3f min'%((time.time()-t1)/60))  "
   ]
  },
  {
   "cell_type": "code",
   "execution_count": 37,
   "metadata": {},
   "outputs": [],
   "source": [
    "with open('BradykinesiaPersonalDataResults','rb') as file:\n",
    "    BradykinesiaRes = pickle.load(file)\n",
    "    \n",
    "# with open('TremorPersonalDataResults','rb') as file:\n",
    "#     TremorRes = pickle.load(file)"
   ]
  },
  {
   "cell_type": "code",
   "execution_count": 38,
   "metadata": {},
   "outputs": [
    {
     "name": "stdout",
     "output_type": "stream",
     "text": [
      "('Motor #4: Finger to Nose', 'Motor #5: Alternating Hand Movements')\n",
      "Ttest_indResult(statistic=0.0, pvalue=1.0)\n",
      "('Motor #2: Walking', 'Motor #3: Walking while Counting', 'Motor #1: Standing', 'Motor #13: Sitting')\n",
      "Ttest_indResult(statistic=1.445519740597778, pvalue=0.15803501687521393)\n",
      "('Motor #10: Drinking Water', 'Motor #11: Organizing Folder', 'Motor #12: Folding Towels')\n",
      "Ttest_indResult(statistic=3.4016815506537594, pvalue=0.001971846311262386)\n",
      "('Motor #7: Drawing on Paper', 'Motor #8: Typing on a Computer', 'Motor #9: Nuts and Bolts')\n",
      "Ttest_indResult(statistic=0.16965776718290307, pvalue=0.8663150777864876)\n"
     ]
    }
   ],
   "source": [
    "for k in BradykinesiaRes.keys():\n",
    "    print(k)\n",
    "    try:\n",
    "        print(stats.ttest_ind(BradykinesiaRes[('Motor #4: Finger to Nose', 'Motor #5: Alternating Hand Movements')]['auroc'],\n",
    "                              BradykinesiaRes[k]['auroc']))\n",
    "    except:\n",
    "        continue"
   ]
  },
  {
   "cell_type": "code",
   "execution_count": null,
   "metadata": {},
   "outputs": [],
   "source": [
    "for k in TremorRes.keys():\n",
    "    print(k)\n",
    "    try:\n",
    "        print(stats.ttest_ind(TremorRes[('Motor #4: Finger to Nose', 'Motor #5: Alternating Hand Movements')]['auroc'],\n",
    "                              TremorRes[k]['auroc']))\n",
    "    except:\n",
    "        continue"
   ]
  },
  {
   "cell_type": "code",
   "execution_count": null,
   "metadata": {},
   "outputs": [],
   "source": []
  },
  {
   "cell_type": "markdown",
   "metadata": {},
   "source": [
    "# Effect of # of subjects"
   ]
  },
  {
   "cell_type": "code",
   "execution_count": null,
   "metadata": {},
   "outputs": [],
   "source": [
    "# #if want to use only the selected features (to speed up)\n",
    "# topf = ['rangeYacc', 'rangeXgyr', 'Sen_Xgyr', 'xcorr_peakXZgyr',\n",
    "#        'jerk_stdgyr', 'rangeZgyr', 'PSD_meangyr', 'Sen_Zgyr',\n",
    "#        'xcorr_peakXZacc', 'xcor_peakXYacc', 'xcor_peakXYgyr', 'Sen_Ygyr',\n",
    "#        'rangeXacc']"
   ]
  },
  {
   "cell_type": "markdown",
   "metadata": {},
   "source": [
    "### Bradykinesia"
   ]
  },
  {
   "cell_type": "code",
   "execution_count": null,
   "metadata": {},
   "outputs": [],
   "source": [
    "symptom = 'Bradykinesia'\n",
    "Data=Data[~Data[symptom].isnull()]\n",
    "Data=Data.reset_index(drop=True) #reset index"
   ]
  },
  {
   "cell_type": "code",
   "execution_count": null,
   "metadata": {},
   "outputs": [],
   "source": [
    "symptom"
   ]
  },
  {
   "cell_type": "code",
   "execution_count": null,
   "metadata": {
    "scrolled": true
   },
   "outputs": [],
   "source": [
    "#sample p subjects at random for train and test on 1 random remaining subject\n",
    "\n",
    "results = pd.DataFrame()\n",
    "subjs=Data.Subject.unique()\n",
    "nsubj = [4,6,8,12,16] #of subjects to train on\n",
    "clf = RandomForestClassifier(n_estimators=50,random_state=2)\n",
    "auc_all={}\n",
    "testsublist = []\n",
    "t1=time.time()\n",
    "\n",
    "for iteration in range(500):\n",
    "    \n",
    "\n",
    "    trainsubjall = np.random.choice(subjs,size=16,replace=False) #sample 16 subjects at random\n",
    "    \n",
    "    #pick a test subject at random\n",
    "    losubjs = Data[~Data.Subject.isin(trainsubjall)].Subject.unique()\n",
    "    testsubj = np.random.choice(losubjs)\n",
    "    dtest = Data[Data.Subject==testsubj]\n",
    "    testsublist.append(testsubj)\n",
    "    \n",
    "    #use top features\n",
    "    Xte = dtest.iloc[:,7:].as_matrix()\n",
    "#     Xte = dtest[topf].as_matrix()\n",
    "    yte = (dtest[symptom]>0).values.astype(int)\n",
    "\n",
    "    if iteration%10==0:\n",
    "        print(iteration,trainsubjall,testsubj)\n",
    "\n",
    "    #compute and store AUC for an incremental number of train subjects tested on the left out subject\n",
    "    for NS in nsubj:\n",
    "    \n",
    "        trainsubj = trainsubjall[:NS] #add subjects incrementally each time\n",
    "        dtrain = Data[Data.Subject.isin(trainsubj)]\n",
    "\n",
    "        Xtr = dtrain.iloc[:,7:].as_matrix()\n",
    "        #use top features\n",
    "#         Xtr = dtrain[topf].as_matrix()\n",
    "        ytr = (dtrain[symptom]>0).values.astype(int)\n",
    "\n",
    "        if len(np.unique(ytr))<2: #skip if no positive or negative examples are available for training\n",
    "            print('only 1 class available in train data - skipping')\n",
    "            continue\n",
    "        clf.fit(Xtr,ytr)\n",
    "        ypred = clf.predict(Xte)\n",
    "        yscore = clf.predict_proba(Xte)\n",
    "        yscore = yscore[:,1]\n",
    "\n",
    "        if len(np.unique(yte))>1:\n",
    "            auroc = roc_auc_score(yte,yscore)\n",
    "        else:\n",
    "            print('only 1 class in test data - cannot compute roc curve')\n",
    "            auroc = np.nan\n",
    "        auc_all.update({NS:auroc}) #store auc for each grp\n",
    "\n",
    "\n",
    "    results=pd.concat((results,pd.DataFrame(auc_all,index=[iteration])))\n",
    "    \n",
    "\n",
    "\n",
    "#     results.update({ng:auc_all}) #save auc for all runs for each group\n",
    "print('elapsed %.3f min'%((time.time()-t1)/60))\n"
   ]
  },
  {
   "cell_type": "code",
   "execution_count": null,
   "metadata": {},
   "outputs": [],
   "source": [
    "results.to_csv('SimsMultiSubj_Brady.csv')"
   ]
  },
  {
   "cell_type": "code",
   "execution_count": null,
   "metadata": {},
   "outputs": [],
   "source": [
    "np.save('SimsMultiSubj_testsublist_brady.npy',testsublist)"
   ]
  },
  {
   "cell_type": "markdown",
   "metadata": {},
   "source": [
    "Bradykinesia Results"
   ]
  },
  {
   "cell_type": "code",
   "execution_count": null,
   "metadata": {},
   "outputs": [],
   "source": [
    "results=pd.read_csv('SimsMultiSubj_Brady.csv',index_col=False)\n",
    "results=results.drop('Unnamed: 0',axis=1)"
   ]
  },
  {
   "cell_type": "code",
   "execution_count": null,
   "metadata": {},
   "outputs": [],
   "source": [
    "results2=results.iloc[:,1:].copy()"
   ]
  },
  {
   "cell_type": "code",
   "execution_count": null,
   "metadata": {},
   "outputs": [],
   "source": [
    "baseline = results.iloc[:,0].copy()"
   ]
  },
  {
   "cell_type": "code",
   "execution_count": null,
   "metadata": {},
   "outputs": [],
   "source": [
    "diffs = results2.apply(lambda x:x - baseline)"
   ]
  },
  {
   "cell_type": "code",
   "execution_count": null,
   "metadata": {},
   "outputs": [],
   "source": [
    "diffs.plot(kind='box')"
   ]
  },
  {
   "cell_type": "code",
   "execution_count": null,
   "metadata": {},
   "outputs": [],
   "source": [
    "ci = []\n",
    "for c in range(len(diffs.columns.values)):\n",
    "    sns.distplot(diffs.iloc[:,c])\n",
    "    print(np.percentile(diffs.iloc[:,c].values,2.5),np.percentile(diffs.iloc[:,c].values,97.5))\n",
    "    ci.append(np.array([np.percentile(diffs.iloc[:,c].values,2.5),np.percentile(diffs.iloc[:,c].values,97.5)]))"
   ]
  },
  {
   "cell_type": "code",
   "execution_count": null,
   "metadata": {
    "scrolled": true
   },
   "outputs": [],
   "source": [
    "diffs['TestSubj']= testsublist"
   ]
  },
  {
   "cell_type": "code",
   "execution_count": null,
   "metadata": {},
   "outputs": [],
   "source": [
    "# plt.figure(figsize=(12,8))\n",
    "# sns.boxplot(x='TestSubj',y='6',data=diffs)"
   ]
  },
  {
   "cell_type": "code",
   "execution_count": null,
   "metadata": {},
   "outputs": [],
   "source": [
    "# plt.figure(figsize=(12,8))\n",
    "# sns.boxplot(x='TestSubj',y='16',data=diffs)"
   ]
  },
  {
   "cell_type": "code",
   "execution_count": null,
   "metadata": {},
   "outputs": [],
   "source": [
    "a.shape"
   ]
  },
  {
   "cell_type": "markdown",
   "metadata": {},
   "source": [
    "### Tremor Results"
   ]
  },
  {
   "cell_type": "code",
   "execution_count": null,
   "metadata": {},
   "outputs": [],
   "source": [
    "results=pd.read_csv('SimsMultiSubj_Tremor.csv',index_col=False)"
   ]
  },
  {
   "cell_type": "code",
   "execution_count": null,
   "metadata": {},
   "outputs": [],
   "source": [
    "results=results.drop('Unnamed: 0',axis=1)"
   ]
  },
  {
   "cell_type": "code",
   "execution_count": null,
   "metadata": {},
   "outputs": [],
   "source": [
    "results=results.dropna()"
   ]
  },
  {
   "cell_type": "code",
   "execution_count": null,
   "metadata": {},
   "outputs": [],
   "source": [
    "results2=results.iloc[:,1:].copy()"
   ]
  },
  {
   "cell_type": "code",
   "execution_count": null,
   "metadata": {},
   "outputs": [],
   "source": [
    "baseline = results.iloc[:,0].copy()"
   ]
  },
  {
   "cell_type": "code",
   "execution_count": null,
   "metadata": {},
   "outputs": [],
   "source": [
    "diffs = results2.apply(lambda x:x - baseline)"
   ]
  },
  {
   "cell_type": "code",
   "execution_count": null,
   "metadata": {},
   "outputs": [],
   "source": [
    "diffs.plot(kind='box')"
   ]
  },
  {
   "cell_type": "code",
   "execution_count": null,
   "metadata": {},
   "outputs": [],
   "source": [
    "ci = []\n",
    "for c in range(len(diffs.columns.values)):\n",
    "    sns.distplot(diffs.iloc[:,c])\n",
    "    print(np.percentile(diffs.iloc[:,c].values,2.5),np.percentile(diffs.iloc[:,c].values,97.5))\n",
    "    ci.append(np.array([np.percentile(diffs.iloc[:,c].values,2.5),np.percentile(diffs.iloc[:,c].values,97.5)]))"
   ]
  },
  {
   "cell_type": "code",
   "execution_count": null,
   "metadata": {},
   "outputs": [],
   "source": [
    "Xtr.shape"
   ]
  },
  {
   "cell_type": "code",
   "execution_count": null,
   "metadata": {},
   "outputs": [],
   "source": [
    "# y=np.asarray(diffs)\n",
    "# x = diffs.columns.values\n",
    "# sns.tsplot(y,x,ci='sd')"
   ]
  },
  {
   "cell_type": "markdown",
   "metadata": {},
   "source": [
    "## Personal models - Leave One visit out and LOin on Day 1 and Day 2"
   ]
  },
  {
   "cell_type": "code",
   "execution_count": 12,
   "metadata": {},
   "outputs": [
    {
     "data": {
      "text/html": [
       "<div>\n",
       "<style scoped>\n",
       "    .dataframe tbody tr th:only-of-type {\n",
       "        vertical-align: middle;\n",
       "    }\n",
       "\n",
       "    .dataframe tbody tr th {\n",
       "        vertical-align: top;\n",
       "    }\n",
       "\n",
       "    .dataframe thead th {\n",
       "        text-align: right;\n",
       "    }\n",
       "</style>\n",
       "<table border=\"1\" class=\"dataframe\">\n",
       "  <thead>\n",
       "    <tr style=\"text-align: right;\">\n",
       "      <th></th>\n",
       "      <th>Subject</th>\n",
       "      <th>Visit</th>\n",
       "      <th>Side</th>\n",
       "      <th>Task</th>\n",
       "      <th>Tremor</th>\n",
       "      <th>Bradykinesia</th>\n",
       "      <th>Dyskinesia</th>\n",
       "      <th>rangeXacc</th>\n",
       "      <th>rangeYacc</th>\n",
       "      <th>rangeZacc</th>\n",
       "      <th>...</th>\n",
       "      <th>PSD_stdgyr</th>\n",
       "      <th>PSD_skewgyr</th>\n",
       "      <th>PSD_kurgyr</th>\n",
       "      <th>jerk_meangyr</th>\n",
       "      <th>jerk_stdgyr</th>\n",
       "      <th>jerk_skewgyr</th>\n",
       "      <th>jerk_kurgyr</th>\n",
       "      <th>Sen_Xgyr</th>\n",
       "      <th>Sen_Ygyr</th>\n",
       "      <th>Sen_Zgyr</th>\n",
       "    </tr>\n",
       "  </thead>\n",
       "  <tbody>\n",
       "    <tr>\n",
       "      <th>0</th>\n",
       "      <td>1004</td>\n",
       "      <td>2 Weeks: Time 0</td>\n",
       "      <td>left</td>\n",
       "      <td>Motor #2: Walking</td>\n",
       "      <td>0.0</td>\n",
       "      <td>1.0</td>\n",
       "      <td>0.0</td>\n",
       "      <td>0.750286</td>\n",
       "      <td>0.950312</td>\n",
       "      <td>0.792986</td>\n",
       "      <td>...</td>\n",
       "      <td>333.369231</td>\n",
       "      <td>3.587466</td>\n",
       "      <td>15.204802</td>\n",
       "      <td>0.114246</td>\n",
       "      <td>10.726893</td>\n",
       "      <td>0.176444</td>\n",
       "      <td>-0.009173</td>\n",
       "      <td>0.416625</td>\n",
       "      <td>0.571324</td>\n",
       "      <td>0.438326</td>\n",
       "    </tr>\n",
       "    <tr>\n",
       "      <th>1</th>\n",
       "      <td>1004</td>\n",
       "      <td>2 Weeks: Time 0</td>\n",
       "      <td>left</td>\n",
       "      <td>Motor #2: Walking</td>\n",
       "      <td>0.0</td>\n",
       "      <td>1.0</td>\n",
       "      <td>0.0</td>\n",
       "      <td>0.593042</td>\n",
       "      <td>0.814818</td>\n",
       "      <td>0.511329</td>\n",
       "      <td>...</td>\n",
       "      <td>511.580241</td>\n",
       "      <td>4.261274</td>\n",
       "      <td>17.609498</td>\n",
       "      <td>-0.173831</td>\n",
       "      <td>10.278264</td>\n",
       "      <td>0.551148</td>\n",
       "      <td>0.059904</td>\n",
       "      <td>0.321724</td>\n",
       "      <td>0.525199</td>\n",
       "      <td>0.307797</td>\n",
       "    </tr>\n",
       "  </tbody>\n",
       "</table>\n",
       "<p>2 rows × 63 columns</p>\n",
       "</div>"
      ],
      "text/plain": [
       "   Subject            Visit  Side               Task  Tremor  Bradykinesia  \\\n",
       "0     1004  2 Weeks: Time 0  left  Motor #2: Walking     0.0           1.0   \n",
       "1     1004  2 Weeks: Time 0  left  Motor #2: Walking     0.0           1.0   \n",
       "\n",
       "   Dyskinesia  rangeXacc  rangeYacc  rangeZacc    ...     PSD_stdgyr  \\\n",
       "0         0.0   0.750286   0.950312   0.792986    ...     333.369231   \n",
       "1         0.0   0.593042   0.814818   0.511329    ...     511.580241   \n",
       "\n",
       "   PSD_skewgyr  PSD_kurgyr  jerk_meangyr  jerk_stdgyr  jerk_skewgyr  \\\n",
       "0     3.587466   15.204802      0.114246    10.726893      0.176444   \n",
       "1     4.261274   17.609498     -0.173831    10.278264      0.551148   \n",
       "\n",
       "   jerk_kurgyr  Sen_Xgyr  Sen_Ygyr  Sen_Zgyr  \n",
       "0    -0.009173  0.416625  0.571324  0.438326  \n",
       "1     0.059904  0.321724  0.525199  0.307797  \n",
       "\n",
       "[2 rows x 63 columns]"
      ]
     },
     "execution_count": 12,
     "metadata": {},
     "output_type": "execute_result"
    }
   ],
   "source": [
    "Data.head(2)"
   ]
  },
  {
   "cell_type": "markdown",
   "metadata": {},
   "source": [
    "Train on 1 session"
   ]
  },
  {
   "cell_type": "code",
   "execution_count": 13,
   "metadata": {
    "scrolled": true
   },
   "outputs": [
    {
     "name": "stdout",
     "output_type": "stream",
     "text": [
      "Subject 1004\n",
      "Training Random Forest\n",
      "\n",
      "Subj/Visit 0, prec=0.013, rec=1.000, Spec=0.269, auroc_train=1.000, auroc=0.818\n",
      "only 1 class available in train data - skipping\n",
      "only 1 class available in train data - skipping\n",
      "\n",
      "Subj/Visit 1, prec=1.000, rec=0.032, Spec=1.000, auroc_train=1.000, auroc=0.512\n",
      "only 1 class available in train data - skipping\n",
      "only 1 class available in train data - skipping\n",
      "f1_test=0.044+/-0.018, prec=0.507+/-0.493, rec=0.516+/-0.484, auprc=0.155+/-0.094, auroc=0.665+/-0.153\n",
      "Test 1004 on day 2\n",
      "Subject 1016\n",
      "Training Random Forest\n",
      "\n",
      "Subj/Visit 0, prec=0.775, rec=0.853, Spec=0.706, auroc_train=1.000, auroc=0.869\n",
      "\n",
      "Subj/Visit 1, prec=0.850, rec=0.907, Spec=0.820, auroc_train=1.000, auroc=0.927\n",
      "\n",
      "Subj/Visit 2, prec=0.828, rec=0.875, Spec=0.794, auroc_train=1.000, auroc=0.896\n",
      "\n",
      "Subj/Visit 3, prec=0.838, rec=0.874, Spec=0.805, auroc_train=1.000, auroc=0.909\n",
      "\n",
      "Subj/Visit 4, prec=0.832, rec=0.875, Spec=0.802, auroc_train=1.000, auroc=0.907\n",
      "\n",
      "Subj/Visit 5, prec=0.851, rec=0.873, Spec=0.833, auroc_train=1.000, auroc=0.918\n",
      "f1_test=0.852+/-0.020, prec=0.829+/-0.026, rec=0.876+/-0.016, auprc=0.894+/-0.010, auroc=0.904+/-0.019\n",
      "Test 1016 on day 2\n",
      "only 1 class in test data - cannot compute roc curve\n",
      "Subject 1018\n",
      "Training Random Forest\n",
      "\n",
      "Subj/Visit 0, prec=0.423, rec=0.568, Spec=0.935, auroc_train=1.000, auroc=0.870\n",
      "\n",
      "Subj/Visit 1, prec=0.967, rec=0.175, Spec=0.999, auroc_train=1.000, auroc=0.643\n",
      "\n",
      "Subj/Visit 2, prec=1.000, rec=0.178, Spec=1.000, auroc_train=1.000, auroc=0.608\n",
      "\n",
      "Subj/Visit 3, prec=0.685, rec=0.270, Spec=0.987, auroc_train=1.000, auroc=0.826\n",
      "\n",
      "Subj/Visit 4, prec=0.911, rec=0.313, Spec=0.997, auroc_train=1.000, auroc=0.839\n",
      "\n",
      "Subj/Visit 5, prec=1.000, rec=0.210, Spec=1.000, auroc_train=1.000, auroc=0.625\n",
      "f1_test=0.380+/-0.074, prec=0.831+/-0.212, rec=0.286+/-0.135, auprc=0.446+/-0.050, auroc=0.735+/-0.111\n",
      "Test 1018 on day 2\n",
      "Subject 1019\n",
      "Training Random Forest\n",
      "\n",
      "Subj/Visit 0, prec=0.000, rec=0.000, Spec=0.991, auroc_train=1.000, auroc=0.529\n",
      "\n",
      "Subj/Visit 1, prec=0.706, rec=0.164, Spec=0.996, auroc_train=1.000, auroc=0.603\n",
      "\n",
      "Subj/Visit 2, prec=0.800, rec=0.055, Spec=0.999, auroc_train=1.000, auroc=0.602\n",
      "\n",
      "Subj/Visit 3, prec=0.667, rec=0.030, Spec=0.999, auroc_train=1.000, auroc=0.572\n",
      "\n",
      "Subj/Visit 4, prec=0.643, rec=0.123, Spec=0.996, auroc_train=1.000, auroc=0.600\n",
      "\n",
      "Subj/Visit 5, prec=0.800, rec=0.219, Spec=0.997, auroc_train=1.000, auroc=0.576\n",
      "f1_test=0.163+/-0.120, prec=0.603+/-0.276, rec=0.099+/-0.077, auprc=0.184+/-0.089, auroc=0.580+/-0.026\n",
      "Test 1019 on day 2\n",
      "Subject 1024\n",
      "Training Random Forest\n",
      "\n",
      "Subj/Visit 0, prec=0.189, rec=0.943, Spec=0.172, auroc_train=1.000, auroc=0.618\n",
      "\n",
      "Subj/Visit 1, prec=0.583, rec=0.029, Spec=0.991, auroc_train=1.000, auroc=0.611\n",
      "\n",
      "Subj/Visit 2, prec=1.000, rec=0.014, Spec=1.000, auroc_train=1.000, auroc=0.502\n",
      "\n",
      "Subj/Visit 3, prec=0.271, rec=0.776, Spec=0.407, auroc_train=1.000, auroc=0.653\n",
      "\n",
      "Subj/Visit 4, prec=0.556, rec=0.042, Spec=0.986, auroc_train=1.000, auroc=0.668\n"
     ]
    },
    {
     "name": "stderr",
     "output_type": "stream",
     "text": [
      "C:\\Users\\andre\\Anaconda3\\lib\\site-packages\\sklearn\\metrics\\classification.py:1135: UndefinedMetricWarning: F-score is ill-defined and being set to 0.0 due to no predicted samples.\n",
      "  'precision', 'predicted', average, warn_for)\n",
      "C:\\Users\\andre\\Anaconda3\\lib\\site-packages\\sklearn\\metrics\\classification.py:1135: UndefinedMetricWarning: Precision is ill-defined and being set to 0.0 due to no predicted samples.\n",
      "  'precision', 'predicted', average, warn_for)\n"
     ]
    },
    {
     "name": "stdout",
     "output_type": "stream",
     "text": [
      "\n",
      "Subj/Visit 5, prec=0.000, rec=0.000, Spec=1.000, auroc_train=1.000, auroc=0.510\n",
      "f1_test=0.146+/-0.154, prec=0.433+/-0.325, rec=0.301+/-0.398, auprc=0.372+/-0.058, auroc=0.594+/-0.065\n",
      "Test 1024 on day 2\n",
      "Subject 1029\n",
      "Training Random Forest\n",
      "\n",
      "Subj/Visit 0, prec=0.339, rec=0.965, Spec=0.268, auroc_train=1.000, auroc=0.714\n",
      "\n",
      "Subj/Visit 1, prec=0.867, rec=0.019, Spec=0.998, auroc_train=1.000, auroc=0.710\n",
      "\n",
      "Subj/Visit 2, prec=0.850, rec=0.026, Spec=0.997, auroc_train=1.000, auroc=0.628\n",
      "\n",
      "Subj/Visit 3, prec=0.471, rec=0.845, Spec=0.538, auroc_train=1.000, auroc=0.738\n",
      "\n",
      "Subj/Visit 4, prec=0.589, rec=0.535, Spec=0.783, auroc_train=1.000, auroc=0.716\n",
      "\n",
      "Subj/Visit 5, prec=0.664, rec=0.271, Spec=0.913, auroc_train=1.000, auroc=0.733\n",
      "f1_test=0.357+/-0.231, prec=0.630+/-0.190, rec=0.444+/-0.371, auprc=0.557+/-0.043, auroc=0.706+/-0.036\n",
      "Test 1029 on day 2\n",
      "Subject 1030\n",
      "Training Random Forest\n",
      "\n",
      "Subj/Visit 0, prec=0.960, rec=0.250, Spec=0.999, auroc_train=1.000, auroc=0.913\n",
      "\n",
      "Subj/Visit 1, prec=0.875, rec=0.700, Spec=0.993, auroc_train=1.000, auroc=0.936\n",
      "\n",
      "Subj/Visit 2, prec=0.803, rec=0.596, Spec=0.990, auroc_train=1.000, auroc=0.928\n",
      "\n",
      "Subj/Visit 3, prec=0.757, rec=0.683, Spec=0.987, auroc_train=1.000, auroc=0.978\n",
      "\n",
      "Subj/Visit 4, prec=1.000, rec=0.268, Spec=1.000, auroc_train=1.000, auroc=0.924\n",
      "\n",
      "Subj/Visit 5, prec=0.803, rec=0.626, Spec=0.990, auroc_train=1.000, auroc=0.926\n",
      "f1_test=0.617+/-0.150, prec=0.866+/-0.088, rec=0.520+/-0.188, auprc=0.736+/-0.058, auroc=0.934+/-0.021\n",
      "Test 1030 on day 2\n",
      "Subject 1032\n",
      "Training Random Forest\n",
      "\n",
      "Subj/Visit 0, prec=0.370, rec=0.533, Spec=0.964, auroc_train=1.000, auroc=0.874\n",
      "\n",
      "Subj/Visit 1, prec=0.506, rec=0.616, Spec=0.976, auroc_train=1.000, auroc=0.867\n",
      "\n",
      "Subj/Visit 2, prec=0.727, rec=0.558, Spec=0.990, auroc_train=1.000, auroc=0.801\n",
      "\n",
      "Subj/Visit 3, prec=0.935, rec=0.372, Spec=0.999, auroc_train=1.000, auroc=0.826\n",
      "\n",
      "Subj/Visit 4, prec=1.000, rec=0.370, Spec=1.000, auroc_train=1.000, auroc=0.807\n",
      "\n",
      "Subj/Visit 5, prec=0.712, rec=0.547, Spec=0.990, auroc_train=1.000, auroc=0.783\n",
      "f1_test=0.552+/-0.064, prec=0.708+/-0.221, rec=0.499+/-0.095, auprc=0.537+/-0.140, auroc=0.826+/-0.034\n",
      "Test 1032 on day 2\n",
      "Subject 1038\n",
      "Training Random Forest\n",
      "\n",
      "Subj/Visit 0, prec=0.648, rec=0.786, Spec=0.536, auroc_train=1.000, auroc=0.719\n",
      "\n",
      "Subj/Visit 1, prec=0.889, rec=0.525, Spec=0.910, auroc_train=1.000, auroc=0.815\n",
      "\n",
      "Subj/Visit 2, prec=0.874, rec=0.563, Spec=0.893, auroc_train=1.000, auroc=0.806\n",
      "\n",
      "Subj/Visit 3, prec=0.704, rec=0.830, Spec=0.586, auroc_train=1.000, auroc=0.810\n",
      "\n",
      "Subj/Visit 4, prec=0.767, rec=0.830, Spec=0.693, auroc_train=1.000, auroc=0.843\n",
      "\n",
      "Subj/Visit 5, prec=0.706, rec=0.834, Spec=0.586, auroc_train=1.000, auroc=0.787\n",
      "f1_test=0.730+/-0.048, prec=0.765+/-0.090, rec=0.728+/-0.131, auprc=0.829+/-0.046, auroc=0.797+/-0.038\n",
      "Test 1038 on day 2\n",
      "Subject 1044\n",
      "Training Random Forest\n",
      "\n",
      "Subj/Visit 0, prec=0.957, rec=0.710, Spec=0.999, auroc_train=1.000, auroc=0.993\n",
      "\n",
      "Subj/Visit 1, prec=0.683, rec=0.452, Spec=0.991, auroc_train=1.000, auroc=0.971\n",
      "\n",
      "Subj/Visit 2, prec=0.953, rec=0.683, Spec=0.999, auroc_train=1.000, auroc=0.994\n",
      "\n",
      "Subj/Visit 3, prec=0.943, rec=0.550, Spec=0.999, auroc_train=1.000, auroc=0.984\n",
      "\n",
      "Subj/Visit 4, prec=0.891, rec=0.651, Spec=0.997, auroc_train=1.000, auroc=0.951\n",
      "\n",
      "Subj/Visit 5, prec=1.000, rec=0.429, Spec=1.000, auroc_train=1.000, auroc=0.982\n",
      "f1_test=0.700+/-0.100, prec=0.905+/-0.104, rec=0.579+/-0.110, auprc=0.834+/-0.086, auroc=0.979+/-0.015\n",
      "Test 1044 on day 2\n",
      "Subject 1046\n",
      "Training Random Forest\n",
      "\n",
      "Subj/Visit 0, prec=0.908, rec=0.575, Spec=0.985, auroc_train=1.000, auroc=0.952\n",
      "\n",
      "Subj/Visit 1, prec=0.938, rec=0.697, Spec=0.989, auroc_train=1.000, auroc=0.975\n",
      "\n",
      "Subj/Visit 2, prec=1.000, rec=0.466, Spec=1.000, auroc_train=1.000, auroc=0.836\n",
      "\n",
      "Subj/Visit 3, prec=0.936, rec=0.608, Spec=0.990, auroc_train=1.000, auroc=0.971\n",
      "\n",
      "Subj/Visit 4, prec=0.938, rec=0.769, Spec=0.988, auroc_train=1.000, auroc=0.981\n",
      "\n",
      "Subj/Visit 5, prec=0.850, rec=0.857, Spec=0.966, auroc_train=1.000, auroc=0.984\n",
      "f1_test=0.763+/-0.078, prec=0.928+/-0.045, rec=0.662+/-0.129, auprc=0.890+/-0.052, auroc=0.950+/-0.052\n",
      "Test 1046 on day 2\n",
      "Subject 1047\n",
      "Training Random Forest\n",
      "\n",
      "Subj/Visit 0, prec=0.235, rec=0.667, Spec=0.989, auroc_train=1.000, auroc=0.991\n",
      "only 1 class available in train data - skipping\n",
      "only 1 class available in train data - skipping\n",
      "\n",
      "Subj/Visit 1, prec=0.000, rec=0.000, Spec=0.990, auroc_train=1.000, auroc=0.972\n",
      "only 1 class available in train data - skipping\n",
      "only 1 class available in train data - skipping\n",
      "f1_test=0.174+/-0.174, prec=0.118+/-0.118, rec=0.333+/-0.333, auprc=0.252+/-0.177, auroc=0.981+/-0.009\n",
      "Subject 1049\n",
      "Training Random Forest\n",
      "\n",
      "Subj/Visit 0, prec=0.664, rec=0.692, Spec=0.784, auroc_train=1.000, auroc=0.808\n",
      "\n",
      "Subj/Visit 1, prec=0.749, rec=0.654, Spec=0.843, auroc_train=1.000, auroc=0.824\n",
      "\n",
      "Subj/Visit 2, prec=0.820, rec=0.597, Spec=0.905, auroc_train=1.000, auroc=0.841\n",
      "\n",
      "Subj/Visit 3, prec=0.750, rec=0.582, Spec=0.850, auroc_train=1.000, auroc=0.826\n",
      "\n",
      "Subj/Visit 4, prec=0.828, rec=0.607, Spec=0.900, auroc_train=1.000, auroc=0.856\n",
      "\n",
      "Subj/Visit 5, prec=0.744, rec=0.746, Spec=0.818, auroc_train=1.000, auroc=0.855\n",
      "f1_test=0.695+/-0.027, prec=0.759+/-0.055, rec=0.647+/-0.058, auprc=0.787+/-0.039, auroc=0.835+/-0.017\n",
      "Test 1049 on day 2\n",
      "Subject 1051\n",
      "Training Random Forest\n",
      "only 1 class available in train data - skipping\n",
      "only 1 class available in train data - skipping\n",
      "only 1 class available in train data - skipping\n",
      "only 1 class available in train data - skipping\n",
      "only 1 class available in train data - skipping\n",
      "only 1 class available in train data - skipping\n",
      "f1_test=nan+/-nan, prec=nan+/-nan, rec=nan+/-nan, auprc=nan+/-nan, auroc=nan+/-nan\n",
      "only 1 class available in data - skipping\n",
      "Subject 1052\n",
      "Training Random Forest\n"
     ]
    },
    {
     "name": "stderr",
     "output_type": "stream",
     "text": [
      "C:\\Users\\andre\\Anaconda3\\lib\\site-packages\\ipykernel_launcher.py:90: RuntimeWarning: Mean of empty slice\n",
      "C:\\Users\\andre\\Anaconda3\\lib\\site-packages\\numpy\\lib\\nanfunctions.py:1434: RuntimeWarning: Degrees of freedom <= 0 for slice.\n",
      "  keepdims=keepdims)\n",
      "C:\\Users\\andre\\Anaconda3\\lib\\site-packages\\ipykernel_launcher.py:91: RuntimeWarning: Mean of empty slice\n",
      "C:\\Users\\andre\\Anaconda3\\lib\\site-packages\\ipykernel_launcher.py:92: RuntimeWarning: Mean of empty slice\n",
      "C:\\Users\\andre\\Anaconda3\\lib\\site-packages\\ipykernel_launcher.py:99: RuntimeWarning: Mean of empty slice\n"
     ]
    },
    {
     "name": "stdout",
     "output_type": "stream",
     "text": [
      "\n",
      "Subj/Visit 0, prec=0.056, rec=0.667, Spec=0.761, auroc_train=1.000, auroc=0.772\n",
      "only 1 class available in train data - skipping\n",
      "only 1 class available in train data - skipping\n",
      "\n",
      "Subj/Visit 1, prec=1.000, rec=0.032, Spec=1.000, auroc_train=1.000, auroc=0.658\n",
      "only 1 class available in train data - skipping\n",
      "only 1 class available in train data - skipping\n",
      "f1_test=0.082+/-0.021, prec=0.528+/-0.472, rec=0.349+/-0.317, auprc=0.157+/-0.001, auroc=0.715+/-0.057\n",
      "Subject 1053\n",
      "Training Random Forest\n",
      "only 1 class available in train data - skipping\n",
      "only 1 class available in train data - skipping\n",
      "only 1 class available in train data - skipping\n",
      "only 1 class available in train data - skipping\n",
      "only 1 class available in train data - skipping\n",
      "only 1 class available in train data - skipping\n",
      "f1_test=nan+/-nan, prec=nan+/-nan, rec=nan+/-nan, auprc=nan+/-nan, auroc=nan+/-nan\n",
      "only 1 class available in data - skipping\n",
      "Subject 1054\n",
      "Training Random Forest\n",
      "only 1 class in test data - cannot compute roc curve\n",
      "\n",
      "Subj/Visit 0, prec=0.000, rec=0.000, Spec=0.920, auroc_train=1.000, auroc=nan\n",
      "only 1 class available in train data - skipping\n",
      "only 1 class available in train data - skipping\n",
      "only 1 class available in train data - skipping\n",
      "only 1 class available in train data - skipping\n",
      "only 1 class available in train data - skipping\n",
      "f1_test=0.000+/-0.000, prec=0.000+/-0.000, rec=0.000+/-0.000, auprc=nan+/-nan, auroc=nan+/-nan\n",
      "Subject 1055\n",
      "Training Random Forest\n"
     ]
    },
    {
     "name": "stderr",
     "output_type": "stream",
     "text": [
      "C:\\Users\\andre\\Anaconda3\\lib\\site-packages\\ipykernel_launcher.py:90: RuntimeWarning: Mean of empty slice\n",
      "C:\\Users\\andre\\Anaconda3\\lib\\site-packages\\numpy\\lib\\nanfunctions.py:1434: RuntimeWarning: Degrees of freedom <= 0 for slice.\n",
      "  keepdims=keepdims)\n",
      "C:\\Users\\andre\\Anaconda3\\lib\\site-packages\\ipykernel_launcher.py:91: RuntimeWarning: Mean of empty slice\n",
      "C:\\Users\\andre\\Anaconda3\\lib\\site-packages\\ipykernel_launcher.py:92: RuntimeWarning: Mean of empty slice\n",
      "C:\\Users\\andre\\Anaconda3\\lib\\site-packages\\ipykernel_launcher.py:99: RuntimeWarning: Mean of empty slice\n",
      "C:\\Users\\andre\\Anaconda3\\lib\\site-packages\\sklearn\\metrics\\classification.py:1137: UndefinedMetricWarning: F-score is ill-defined and being set to 0.0 due to no true samples.\n",
      "  'recall', 'true', average, warn_for)\n",
      "C:\\Users\\andre\\Anaconda3\\lib\\site-packages\\sklearn\\metrics\\ranking.py:444: RuntimeWarning: invalid value encountered in true_divide\n",
      "  recall = tps / tps[-1]\n",
      "C:\\Users\\andre\\Anaconda3\\lib\\site-packages\\sklearn\\metrics\\ranking.py:94: RuntimeWarning: invalid value encountered in less\n",
      "  if np.any(dx < 0):\n",
      "C:\\Users\\andre\\Anaconda3\\lib\\site-packages\\sklearn\\metrics\\classification.py:1137: UndefinedMetricWarning: Recall is ill-defined and being set to 0.0 due to no true samples.\n",
      "  'recall', 'true', average, warn_for)\n",
      "C:\\Users\\andre\\Anaconda3\\lib\\site-packages\\ipykernel_launcher.py:92: RuntimeWarning: Mean of empty slice\n",
      "C:\\Users\\andre\\Anaconda3\\lib\\site-packages\\numpy\\lib\\nanfunctions.py:1434: RuntimeWarning: Degrees of freedom <= 0 for slice.\n",
      "  keepdims=keepdims)\n",
      "C:\\Users\\andre\\Anaconda3\\lib\\site-packages\\ipykernel_launcher.py:99: RuntimeWarning: Mean of empty slice\n"
     ]
    },
    {
     "name": "stdout",
     "output_type": "stream",
     "text": [
      "\n",
      "Subj/Visit 0, prec=0.787, rec=0.995, Spec=0.007, auroc_train=1.000, auroc=0.574\n",
      "\n",
      "Subj/Visit 1, prec=0.853, rec=0.649, Spec=0.333, auroc_train=1.000, auroc=0.559\n",
      "\n",
      "Subj/Visit 2, prec=0.872, rec=0.821, Spec=0.335, auroc_train=1.000, auroc=0.647\n",
      "\n",
      "Subj/Visit 3, prec=0.821, rec=0.956, Spec=0.185, auroc_train=1.000, auroc=0.600\n",
      "\n",
      "Subj/Visit 4, prec=0.848, rec=0.824, Spec=0.346, auroc_train=1.000, auroc=0.637\n",
      "\n",
      "Subj/Visit 5, prec=0.779, rec=1.000, Spec=0.000, auroc_train=1.000, auroc=0.506\n",
      "f1_test=0.843+/-0.050, prec=0.827+/-0.034, rec=0.874+/-0.125, auprc=0.885+/-0.012, auroc=0.587+/-0.048\n",
      "Subject 1056\n",
      "Training Random Forest\n",
      "\n",
      "Subj/Visit 0, prec=0.720, rec=0.956, Spec=0.068, auroc_train=1.000, auroc=0.519\n",
      "\n",
      "Subj/Visit 1, prec=0.889, rec=0.386, Spec=0.781, auroc_train=1.000, auroc=0.620\n",
      "\n",
      "Subj/Visit 2, prec=0.914, rec=0.161, Spec=0.923, auroc_train=1.000, auroc=0.578\n",
      "\n",
      "Subj/Visit 3, prec=0.714, rec=0.986, Spec=0.048, auroc_train=1.000, auroc=0.592\n",
      "only 1 class available in train data - skipping\n",
      "\n",
      "Subj/Visit 4, prec=0.719, rec=0.993, Spec=0.004, auroc_train=1.000, auroc=0.554\n",
      "f1_test=0.659+/-0.223, prec=0.791+/-0.090, rec=0.696+/-0.353, auprc=0.823+/-0.047, auroc=0.573+/-0.034\n"
     ]
    }
   ],
   "source": [
    "# symptom = 'Bradykinesia'\n",
    "symptom = 'Tremor'\n",
    "le = LabelEncoder()\n",
    "res_all = pd.DataFrame(data=None,index=None)\n",
    "res_visit_all = [] #data from each subject \n",
    "auroc2_1 = []\n",
    "\n",
    "#remove nan rows for current symptom\n",
    "Data = Dataorig.copy() #original unmodified dataframe\n",
    "Data=Data[~Data[symptom].isnull()]\n",
    "Data=Data.reset_index(drop=True) #reset index\n",
    "\n",
    "#train on 1 or all sessions, predict on left out session for each patient (Day 1) and on single Day 2 session\n",
    "for s in Data.Subject.unique():\n",
    "    print('Subject %s'%s)\n",
    "    ds = Data.loc[(Data.Subject==s) & (Data.Visit != '4 Weeks')]\n",
    "    ds2 = Data.loc[(Data.Subject==s) & (Data.Visit == '4 Weeks')] #(Day 2)\n",
    "\n",
    "    #train/test on Day 1\n",
    "    indp = (ds[symptom]>0).values\n",
    "    y = indp.astype(int) #target \n",
    "    X = ds.iloc[:,7:].as_matrix()\n",
    "#     X = StandardScaler().fit_transform(X) #standardize input data\n",
    "    \n",
    "    models = [RandomForestClassifier(n_estimators=50,random_state=2)]#,XGBClassifier()]\n",
    "    model_name = ['Random Forest']#,'XGB']\n",
    "    models = list(zip(models,model_name))\n",
    "    groups = le.fit_transform(ds.Visit)\n",
    "    if len(np.unique(groups))<2:\n",
    "        continue\n",
    "        \n",
    "    #train/test on day 1 (LOin)\n",
    "    res,res_group = LOSOCV(ds,X,y,groups,models,LOin=1)\n",
    "    res.index = res.index+s\n",
    "    res_all=pd.concat((res_all,res))\n",
    "    res_visit_all.append(res_group)\n",
    "    day1_1 = res_all.auroc #mean auc per subject across \n",
    "    \n",
    "    if len(np.unique(y))<2: #skip if no positive or negative examples are available for training\n",
    "        print('only 1 class available in data - skipping')\n",
    "        continue\n",
    "        \n",
    "    #test on day 2    \n",
    "    if ds2.empty is False:\n",
    "        print('Test %s on day 2' %s)\n",
    "        clf = models[0][0]\n",
    "        X2 = ds2.iloc[:,7:].as_matrix()\n",
    "        yte = (ds2[symptom]>0).values.astype(int) \n",
    "        yscore = clf.predict_proba(X2)\n",
    "        yscore = yscore[:,1]\n",
    "        if len(np.unique(yte))>1:\n",
    "            auroc = roc_auc_score(yte,yscore)\n",
    "        else:\n",
    "            print('only 1 class in test data - cannot compute roc curve')\n",
    "            auroc = np.nan\n",
    "        auroc2_1.append(auroc) #auc from each subject when tested on day 2\n",
    "        \n",
    "day1_1 = day1_1[~np.isnan(day1_1)]\n",
    "auroc2_1 = [x for x in auroc2_1 if str(x) != 'nan']\n",
    "\n",
    "# np.save(os.path.join(results_path,'PERS_brady_train1lovo.npy'),[day1_1.values, auroc2_1])\n",
    "np.save(os.path.join(results_path,'PERS_tremor_train1lovo.npy'),[day1_1.values, auroc2_1])"
   ]
  },
  {
   "cell_type": "markdown",
   "metadata": {},
   "source": [
    "Train on 5 sessions"
   ]
  },
  {
   "cell_type": "code",
   "execution_count": 14,
   "metadata": {
    "scrolled": true
   },
   "outputs": [
    {
     "name": "stdout",
     "output_type": "stream",
     "text": [
      "Subject 1004\n",
      "Training Random Forest\n"
     ]
    },
    {
     "name": "stderr",
     "output_type": "stream",
     "text": [
      "C:\\Users\\andre\\Anaconda3\\lib\\site-packages\\sklearn\\metrics\\classification.py:1135: UndefinedMetricWarning: F-score is ill-defined and being set to 0.0 due to no predicted samples.\n",
      "  'precision', 'predicted', average, warn_for)\n",
      "C:\\Users\\andre\\Anaconda3\\lib\\site-packages\\sklearn\\metrics\\classification.py:1135: UndefinedMetricWarning: Precision is ill-defined and being set to 0.0 due to no predicted samples.\n",
      "  'precision', 'predicted', average, warn_for)\n"
     ]
    },
    {
     "name": "stdout",
     "output_type": "stream",
     "text": [
      "\n",
      "Subj/Visit 0, prec=0.000, rec=0.000, Spec=1.000, auroc_train=1.000, auroc=0.563\n"
     ]
    },
    {
     "name": "stderr",
     "output_type": "stream",
     "text": [
      "C:\\Users\\andre\\Anaconda3\\lib\\site-packages\\sklearn\\metrics\\classification.py:1137: UndefinedMetricWarning: F-score is ill-defined and being set to 0.0 due to no true samples.\n",
      "  'recall', 'true', average, warn_for)\n",
      "C:\\Users\\andre\\Anaconda3\\lib\\site-packages\\sklearn\\metrics\\ranking.py:444: RuntimeWarning: invalid value encountered in true_divide\n",
      "  recall = tps / tps[-1]\n",
      "C:\\Users\\andre\\Anaconda3\\lib\\site-packages\\sklearn\\metrics\\ranking.py:94: RuntimeWarning: invalid value encountered in less\n",
      "  if np.any(dx < 0):\n",
      "C:\\Users\\andre\\Anaconda3\\lib\\site-packages\\sklearn\\metrics\\classification.py:1137: UndefinedMetricWarning: Recall is ill-defined and being set to 0.0 due to no true samples.\n",
      "  'recall', 'true', average, warn_for)\n"
     ]
    },
    {
     "name": "stdout",
     "output_type": "stream",
     "text": [
      "only 1 class in test data - cannot compute roc curve\n",
      "\n",
      "Subj/Visit 1, prec=0.000, rec=0.000, Spec=0.996, auroc_train=1.000, auroc=nan\n"
     ]
    },
    {
     "name": "stderr",
     "output_type": "stream",
     "text": [
      "C:\\Users\\andre\\Anaconda3\\lib\\site-packages\\sklearn\\metrics\\ranking.py:444: RuntimeWarning: invalid value encountered in true_divide\n",
      "  recall = tps / tps[-1]\n",
      "C:\\Users\\andre\\Anaconda3\\lib\\site-packages\\sklearn\\metrics\\ranking.py:94: RuntimeWarning: invalid value encountered in less\n",
      "  if np.any(dx < 0):\n"
     ]
    },
    {
     "name": "stdout",
     "output_type": "stream",
     "text": [
      "only 1 class in test data - cannot compute roc curve\n",
      "\n",
      "Subj/Visit 2, prec=0.000, rec=0.000, Spec=1.000, auroc_train=1.000, auroc=nan\n",
      "\n",
      "Subj/Visit 3, prec=0.750, rec=0.923, Spec=0.985, auroc_train=1.000, auroc=0.998\n"
     ]
    },
    {
     "name": "stderr",
     "output_type": "stream",
     "text": [
      "C:\\Users\\andre\\Anaconda3\\lib\\site-packages\\sklearn\\metrics\\classification.py:1137: UndefinedMetricWarning: F-score is ill-defined and being set to 0.0 due to no true samples.\n",
      "  'recall', 'true', average, warn_for)\n",
      "C:\\Users\\andre\\Anaconda3\\lib\\site-packages\\sklearn\\metrics\\ranking.py:444: RuntimeWarning: invalid value encountered in true_divide\n",
      "  recall = tps / tps[-1]\n",
      "C:\\Users\\andre\\Anaconda3\\lib\\site-packages\\sklearn\\metrics\\ranking.py:94: RuntimeWarning: invalid value encountered in less\n",
      "  if np.any(dx < 0):\n",
      "C:\\Users\\andre\\Anaconda3\\lib\\site-packages\\sklearn\\metrics\\classification.py:1137: UndefinedMetricWarning: Recall is ill-defined and being set to 0.0 due to no true samples.\n",
      "  'recall', 'true', average, warn_for)\n"
     ]
    },
    {
     "name": "stdout",
     "output_type": "stream",
     "text": [
      "only 1 class in test data - cannot compute roc curve\n",
      "\n",
      "Subj/Visit 4, prec=0.000, rec=0.000, Spec=0.996, auroc_train=1.000, auroc=nan\n"
     ]
    },
    {
     "name": "stderr",
     "output_type": "stream",
     "text": [
      "C:\\Users\\andre\\Anaconda3\\lib\\site-packages\\sklearn\\metrics\\ranking.py:444: RuntimeWarning: invalid value encountered in true_divide\n",
      "  recall = tps / tps[-1]\n",
      "C:\\Users\\andre\\Anaconda3\\lib\\site-packages\\sklearn\\metrics\\ranking.py:94: RuntimeWarning: invalid value encountered in less\n",
      "  if np.any(dx < 0):\n"
     ]
    },
    {
     "name": "stdout",
     "output_type": "stream",
     "text": [
      "only 1 class in test data - cannot compute roc curve\n",
      "\n",
      "Subj/Visit 5, prec=0.000, rec=0.000, Spec=1.000, auroc_train=1.000, auroc=nan\n",
      "f1_test=0.138+/-0.308, prec=0.125+/-0.280, rec=0.154+/-0.344, auprc=0.813+/-0.160, auroc=0.781+/-0.217\n",
      "Test 1004 on day 2\n",
      "Subject 1016\n",
      "Training Random Forest\n",
      "\n",
      "Subj/Visit 0, prec=0.827, rec=0.872, Spec=0.832, auroc_train=1.000, auroc=0.893\n",
      "\n",
      "Subj/Visit 1, prec=0.849, rec=0.919, Spec=0.807, auroc_train=1.000, auroc=0.947\n",
      "\n",
      "Subj/Visit 2, prec=0.839, rec=0.896, Spec=0.801, auroc_train=1.000, auroc=0.945\n",
      "\n",
      "Subj/Visit 3, prec=0.908, rec=0.946, Spec=0.900, auroc_train=1.000, auroc=0.968\n",
      "\n",
      "Subj/Visit 4, prec=0.922, rec=0.939, Spec=0.904, auroc_train=1.000, auroc=0.977\n",
      "\n",
      "Subj/Visit 5, prec=0.885, rec=0.932, Spec=0.836, auroc_train=1.000, auroc=0.955\n",
      "f1_test=0.894+/-0.030, prec=0.872+/-0.035, rec=0.917+/-0.026, auprc=0.938+/-0.050, auroc=0.948+/-0.027\n",
      "Test 1016 on day 2\n",
      "only 1 class in test data - cannot compute roc curve\n",
      "Subject 1018\n",
      "Training Random Forest\n",
      "\n",
      "Subj/Visit 0, prec=1.000, rec=0.143, Spec=1.000, auroc_train=1.000, auroc=0.799\n",
      "\n",
      "Subj/Visit 1, prec=1.000, rec=0.875, Spec=1.000, auroc_train=1.000, auroc=0.999\n",
      "\n",
      "Subj/Visit 2, prec=1.000, rec=1.000, Spec=1.000, auroc_train=1.000, auroc=1.000\n",
      "\n",
      "Subj/Visit 3, prec=1.000, rec=0.351, Spec=1.000, auroc_train=1.000, auroc=0.892\n",
      "\n",
      "Subj/Visit 4, prec=1.000, rec=0.279, Spec=1.000, auroc_train=1.000, auroc=0.800\n",
      "\n",
      "Subj/Visit 5, prec=1.000, rec=0.917, Spec=1.000, auroc_train=1.000, auroc=0.999\n",
      "f1_test=0.683+/-0.292, prec=1.000+/-0.000, rec=0.594+/-0.344, auprc=0.788+/-0.200, auroc=0.915+/-0.090\n",
      "Test 1018 on day 2\n",
      "Subject 1019\n",
      "Training Random Forest\n",
      "\n",
      "Subj/Visit 0, prec=1.000, rec=0.023, Spec=1.000, auroc_train=1.000, auroc=0.549\n",
      "\n",
      "Subj/Visit 1, prec=1.000, rec=1.000, Spec=1.000, auroc_train=1.000, auroc=1.000\n",
      "\n",
      "Subj/Visit 2, prec=1.000, rec=0.667, Spec=1.000, auroc_train=1.000, auroc=0.999\n",
      "\n",
      "Subj/Visit 3, prec=0.000, rec=0.000, Spec=0.983, auroc_train=1.000, auroc=0.809\n",
      "\n",
      "Subj/Visit 4, prec=0.833, rec=0.833, Spec=0.996, auroc_train=1.000, auroc=0.998\n",
      "\n",
      "Subj/Visit 5, prec=1.000, rec=0.167, Spec=1.000, auroc_train=1.000, auroc=0.997\n",
      "f1_test=0.494+/-0.399, prec=0.806+/-0.365, rec=0.448+/-0.400, auprc=0.681+/-0.360, auroc=0.892+/-0.168\n",
      "Test 1019 on day 2\n",
      "Subject 1024\n",
      "Training Random Forest\n",
      "\n",
      "Subj/Visit 0, prec=0.893, rec=0.094, Spec=0.982, auroc_train=1.000, auroc=0.816\n",
      "\n",
      "Subj/Visit 1, prec=0.273, rec=0.281, Spec=0.905, auroc_train=1.000, auroc=0.800\n",
      "\n",
      "Subj/Visit 2, prec=0.086, rec=0.833, Spec=0.805, auroc_train=1.000, auroc=0.878\n",
      "\n",
      "Subj/Visit 3, prec=0.898, rec=0.263, Spec=0.966, auroc_train=1.000, auroc=0.742\n",
      "\n",
      "Subj/Visit 4, prec=0.417, rec=0.303, Spec=0.942, auroc_train=1.000, auroc=0.816\n",
      "\n",
      "Subj/Visit 5, prec=0.091, rec=0.667, Spec=0.859, auroc_train=1.000, auroc=0.818\n",
      "f1_test=0.254+/-0.099, prec=0.443+/-0.339, rec=0.407+/-0.256, auprc=0.425+/-0.307, auroc=0.812+/-0.040\n",
      "Test 1024 on day 2\n",
      "Subject 1029\n",
      "Training Random Forest\n",
      "\n",
      "Subj/Visit 0, prec=1.000, rec=0.214, Spec=1.000, auroc_train=1.000, auroc=0.874\n",
      "\n",
      "Subj/Visit 1, prec=0.330, rec=0.818, Spec=0.725, auroc_train=1.000, auroc=0.823\n",
      "\n",
      "Subj/Visit 2, prec=0.166, rec=0.511, Spec=0.602, auroc_train=1.000, auroc=0.665\n",
      "\n",
      "Subj/Visit 3, prec=0.944, rec=0.386, Spec=0.973, auroc_train=1.000, auroc=0.866\n",
      "\n",
      "Subj/Visit 4, prec=0.789, rec=0.645, Spec=0.910, auroc_train=1.000, auroc=0.905\n",
      "\n",
      "Subj/Visit 5, prec=0.509, rec=0.756, Spec=0.764, auroc_train=1.000, auroc=0.869\n",
      "f1_test=0.490+/-0.154, prec=0.623+/-0.311, rec=0.555+/-0.210, auprc=0.647+/-0.287, auroc=0.834+/-0.079\n",
      "Test 1029 on day 2\n",
      "Subject 1030\n",
      "Training Random Forest\n",
      "\n",
      "Subj/Visit 0, prec=0.706, rec=0.923, Spec=0.982, auroc_train=1.000, auroc=0.998\n",
      "\n",
      "Subj/Visit 1, prec=1.000, rec=0.632, Spec=1.000, auroc_train=1.000, auroc=0.999\n",
      "\n",
      "Subj/Visit 2, prec=1.000, rec=1.000, Spec=1.000, auroc_train=1.000, auroc=1.000\n",
      "\n",
      "Subj/Visit 3, prec=1.000, rec=0.481, Spec=1.000, auroc_train=1.000, auroc=0.806\n",
      "\n",
      "Subj/Visit 4, prec=0.706, rec=1.000, Spec=0.981, auroc_train=1.000, auroc=0.995\n",
      "\n",
      "Subj/Visit 5, prec=1.000, rec=0.889, Spec=1.000, auroc_train=1.000, auroc=1.000\n",
      "f1_test=0.832+/-0.114, prec=0.902+/-0.139, rec=0.821+/-0.196, auprc=0.927+/-0.107, auroc=0.966+/-0.072\n",
      "Test 1030 on day 2\n",
      "Subject 1032\n",
      "Training Random Forest\n",
      "\n",
      "Subj/Visit 0, prec=0.615, rec=0.348, Spec=0.987, auroc_train=1.000, auroc=0.890\n",
      "\n",
      "Subj/Visit 1, prec=1.000, rec=0.360, Spec=1.000, auroc_train=1.000, auroc=0.982\n",
      "\n",
      "Subj/Visit 2, prec=1.000, rec=1.000, Spec=1.000, auroc_train=1.000, auroc=1.000\n",
      "\n",
      "Subj/Visit 3, prec=0.600, rec=0.300, Spec=0.989, auroc_train=1.000, auroc=0.597\n",
      "\n",
      "Subj/Visit 4, prec=0.600, rec=1.000, Spec=0.989, auroc_train=1.000, auroc=1.000\n",
      "\n",
      "Subj/Visit 5, prec=1.000, rec=1.000, Spec=1.000, auroc_train=1.000, auroc=1.000\n",
      "f1_test=0.687+/-0.247, prec=0.803+/-0.198, rec=0.668+/-0.333, auprc=0.761+/-0.292, auroc=0.912+/-0.146\n",
      "Test 1032 on day 2\n",
      "Subject 1038\n",
      "Training Random Forest\n",
      "\n",
      "Subj/Visit 0, prec=0.894, rec=0.750, Spec=0.798, auroc_train=1.000, auroc=0.894\n",
      "\n",
      "Subj/Visit 1, prec=0.631, rec=0.925, Spec=0.617, auroc_train=1.000, auroc=0.901\n",
      "\n",
      "Subj/Visit 2, prec=0.675, rec=0.885, Spec=0.640, auroc_train=1.000, auroc=0.870\n",
      "\n",
      "Subj/Visit 3, prec=0.896, rec=0.790, Spec=0.865, auroc_train=1.000, auroc=0.876\n",
      "\n",
      "Subj/Visit 4, prec=0.881, rec=0.818, Spec=0.859, auroc_train=1.000, auroc=0.926\n",
      "\n",
      "Subj/Visit 5, prec=0.840, rec=0.688, Spec=0.817, auroc_train=1.000, auroc=0.820\n",
      "f1_test=0.796+/-0.040, prec=0.803+/-0.108, rec=0.809+/-0.079, auprc=0.902+/-0.034, auroc=0.881+/-0.033\n",
      "Test 1038 on day 2\n",
      "Subject 1044\n",
      "Training Random Forest\n",
      "\n",
      "Subj/Visit 0, prec=1.000, rec=0.750, Spec=1.000, auroc_train=1.000, auroc=1.000\n",
      "\n",
      "Subj/Visit 1, prec=1.000, rec=1.000, Spec=1.000, auroc_train=1.000, auroc=1.000\n",
      "\n",
      "Subj/Visit 2, prec=1.000, rec=1.000, Spec=1.000, auroc_train=1.000, auroc=1.000\n",
      "\n",
      "Subj/Visit 3, prec=1.000, rec=0.571, Spec=1.000, auroc_train=1.000, auroc=0.979\n",
      "\n",
      "Subj/Visit 4, prec=1.000, rec=1.000, Spec=1.000, auroc_train=1.000, auroc=1.000\n",
      "\n",
      "Subj/Visit 5, prec=1.000, rec=0.909, Spec=1.000, auroc_train=1.000, auroc=1.000\n",
      "f1_test=0.923+/-0.101, prec=1.000+/-0.000, rec=0.872+/-0.161, auprc=0.965+/-0.078, auroc=0.997+/-0.008\n",
      "Test 1044 on day 2\n",
      "Subject 1046\n",
      "Training Random Forest\n",
      "\n",
      "Subj/Visit 0, prec=0.914, rec=0.727, Spec=0.988, auroc_train=1.000, auroc=0.975\n",
      "\n",
      "Subj/Visit 1, prec=1.000, rec=0.893, Spec=1.000, auroc_train=1.000, auroc=0.996\n",
      "\n",
      "Subj/Visit 2, prec=0.750, rec=0.947, Spec=0.944, auroc_train=1.000, auroc=0.979\n",
      "\n",
      "Subj/Visit 3, prec=1.000, rec=0.962, Spec=1.000, auroc_train=1.000, auroc=1.000\n",
      "\n",
      "Subj/Visit 4, prec=1.000, rec=0.871, Spec=1.000, auroc_train=1.000, auroc=0.998\n",
      "\n",
      "Subj/Visit 5, prec=1.000, rec=0.769, Spec=1.000, auroc_train=1.000, auroc=0.990\n",
      "f1_test=0.895+/-0.061, prec=0.944+/-0.092, rec=0.862+/-0.087, auprc=0.961+/-0.046, auroc=0.990+/-0.010\n",
      "Test 1046 on day 2\n",
      "Subject 1047\n",
      "Training Random Forest\n"
     ]
    },
    {
     "name": "stderr",
     "output_type": "stream",
     "text": [
      "C:\\Users\\andre\\Anaconda3\\lib\\site-packages\\sklearn\\metrics\\classification.py:1135: UndefinedMetricWarning: F-score is ill-defined and being set to 0.0 due to no predicted samples.\n",
      "  'precision', 'predicted', average, warn_for)\n",
      "C:\\Users\\andre\\Anaconda3\\lib\\site-packages\\sklearn\\metrics\\classification.py:1135: UndefinedMetricWarning: Precision is ill-defined and being set to 0.0 due to no predicted samples.\n",
      "  'precision', 'predicted', average, warn_for)\n"
     ]
    },
    {
     "name": "stdout",
     "output_type": "stream",
     "text": [
      "\n",
      "Subj/Visit 0, prec=0.000, rec=0.000, Spec=1.000, auroc_train=1.000, auroc=0.994\n",
      "only 1 class in test data - cannot compute roc curve\n",
      "\n",
      "Subj/Visit 1, prec=0.000, rec=0.000, Spec=1.000, auroc_train=1.000, auroc=nan\n"
     ]
    },
    {
     "name": "stderr",
     "output_type": "stream",
     "text": [
      "C:\\Users\\andre\\Anaconda3\\lib\\site-packages\\sklearn\\metrics\\ranking.py:444: RuntimeWarning: invalid value encountered in true_divide\n",
      "  recall = tps / tps[-1]\n",
      "C:\\Users\\andre\\Anaconda3\\lib\\site-packages\\sklearn\\metrics\\ranking.py:94: RuntimeWarning: invalid value encountered in less\n",
      "  if np.any(dx < 0):\n",
      "C:\\Users\\andre\\Anaconda3\\lib\\site-packages\\sklearn\\metrics\\ranking.py:444: RuntimeWarning: invalid value encountered in true_divide\n",
      "  recall = tps / tps[-1]\n",
      "C:\\Users\\andre\\Anaconda3\\lib\\site-packages\\sklearn\\metrics\\ranking.py:94: RuntimeWarning: invalid value encountered in less\n",
      "  if np.any(dx < 0):\n"
     ]
    },
    {
     "name": "stdout",
     "output_type": "stream",
     "text": [
      "only 1 class in test data - cannot compute roc curve\n",
      "\n",
      "Subj/Visit 2, prec=0.000, rec=0.000, Spec=1.000, auroc_train=1.000, auroc=nan\n",
      "\n",
      "Subj/Visit 3, prec=0.000, rec=0.000, Spec=1.000, auroc_train=1.000, auroc=0.989\n"
     ]
    },
    {
     "name": "stderr",
     "output_type": "stream",
     "text": [
      "C:\\Users\\andre\\Anaconda3\\lib\\site-packages\\sklearn\\metrics\\classification.py:1135: UndefinedMetricWarning: F-score is ill-defined and being set to 0.0 due to no predicted samples.\n",
      "  'precision', 'predicted', average, warn_for)\n",
      "C:\\Users\\andre\\Anaconda3\\lib\\site-packages\\sklearn\\metrics\\classification.py:1135: UndefinedMetricWarning: Precision is ill-defined and being set to 0.0 due to no predicted samples.\n",
      "  'precision', 'predicted', average, warn_for)\n",
      "C:\\Users\\andre\\Anaconda3\\lib\\site-packages\\sklearn\\metrics\\ranking.py:444: RuntimeWarning: invalid value encountered in true_divide\n",
      "  recall = tps / tps[-1]\n",
      "C:\\Users\\andre\\Anaconda3\\lib\\site-packages\\sklearn\\metrics\\ranking.py:94: RuntimeWarning: invalid value encountered in less\n",
      "  if np.any(dx < 0):\n"
     ]
    },
    {
     "name": "stdout",
     "output_type": "stream",
     "text": [
      "only 1 class in test data - cannot compute roc curve\n",
      "\n",
      "Subj/Visit 4, prec=0.000, rec=0.000, Spec=1.000, auroc_train=1.000, auroc=nan\n",
      "only 1 class in test data - cannot compute roc curve\n",
      "\n",
      "Subj/Visit 5, prec=0.000, rec=0.000, Spec=1.000, auroc_train=1.000, auroc=nan\n",
      "f1_test=0.000+/-0.000, prec=0.000+/-0.000, rec=0.000+/-0.000, auprc=0.788+/-0.043, auroc=0.991+/-0.002\n",
      "Subject 1049\n",
      "Training Random Forest\n"
     ]
    },
    {
     "name": "stderr",
     "output_type": "stream",
     "text": [
      "C:\\Users\\andre\\Anaconda3\\lib\\site-packages\\sklearn\\metrics\\ranking.py:444: RuntimeWarning: invalid value encountered in true_divide\n",
      "  recall = tps / tps[-1]\n",
      "C:\\Users\\andre\\Anaconda3\\lib\\site-packages\\sklearn\\metrics\\ranking.py:94: RuntimeWarning: invalid value encountered in less\n",
      "  if np.any(dx < 0):\n"
     ]
    },
    {
     "name": "stdout",
     "output_type": "stream",
     "text": [
      "\n",
      "Subj/Visit 0, prec=0.886, rec=0.732, Spec=0.864, auroc_train=1.000, auroc=0.878\n",
      "\n",
      "Subj/Visit 1, prec=0.837, rec=0.769, Spec=0.886, auroc_train=1.000, auroc=0.898\n",
      "\n",
      "Subj/Visit 2, prec=0.812, rec=0.800, Spec=0.867, auroc_train=1.000, auroc=0.926\n",
      "\n",
      "Subj/Visit 3, prec=0.846, rec=0.393, Spec=0.965, auroc_train=1.000, auroc=0.864\n",
      "\n",
      "Subj/Visit 4, prec=0.806, rec=0.806, Spec=0.917, auroc_train=1.000, auroc=0.948\n",
      "\n",
      "Subj/Visit 5, prec=0.800, rec=0.667, Spec=0.871, auroc_train=1.000, auroc=0.860\n",
      "f1_test=0.747+/-0.098, prec=0.831+/-0.030, rec=0.694+/-0.143, auprc=0.868+/-0.053, auroc=0.896+/-0.032\n",
      "Test 1049 on day 2\n",
      "Subject 1051\n",
      "Training Random Forest\n",
      "only 1 class available in train data - skipping\n",
      "only 1 class available in train data - skipping\n",
      "only 1 class available in train data - skipping\n",
      "only 1 class available in train data - skipping\n",
      "only 1 class available in train data - skipping\n",
      "only 1 class available in train data - skipping\n",
      "f1_test=nan+/-nan, prec=nan+/-nan, rec=nan+/-nan, auprc=nan+/-nan, auroc=nan+/-nan\n",
      "only 1 class available in data - skipping\n",
      "Subject 1052\n",
      "Training Random Forest\n"
     ]
    },
    {
     "name": "stderr",
     "output_type": "stream",
     "text": [
      "C:\\Users\\andre\\Anaconda3\\lib\\site-packages\\ipykernel_launcher.py:90: RuntimeWarning: Mean of empty slice\n",
      "C:\\Users\\andre\\Anaconda3\\lib\\site-packages\\numpy\\lib\\nanfunctions.py:1434: RuntimeWarning: Degrees of freedom <= 0 for slice.\n",
      "  keepdims=keepdims)\n",
      "C:\\Users\\andre\\Anaconda3\\lib\\site-packages\\ipykernel_launcher.py:91: RuntimeWarning: Mean of empty slice\n",
      "C:\\Users\\andre\\Anaconda3\\lib\\site-packages\\ipykernel_launcher.py:92: RuntimeWarning: Mean of empty slice\n",
      "C:\\Users\\andre\\Anaconda3\\lib\\site-packages\\ipykernel_launcher.py:99: RuntimeWarning: Mean of empty slice\n"
     ]
    },
    {
     "name": "stdout",
     "output_type": "stream",
     "text": [
      "\n",
      "Subj/Visit 0, prec=1.000, rec=0.011, Spec=1.000, auroc_train=1.000, auroc=0.687\n"
     ]
    },
    {
     "name": "stderr",
     "output_type": "stream",
     "text": [
      "C:\\Users\\andre\\Anaconda3\\lib\\site-packages\\sklearn\\metrics\\ranking.py:444: RuntimeWarning: invalid value encountered in true_divide\n",
      "  recall = tps / tps[-1]\n",
      "C:\\Users\\andre\\Anaconda3\\lib\\site-packages\\sklearn\\metrics\\ranking.py:94: RuntimeWarning: invalid value encountered in less\n",
      "  if np.any(dx < 0):\n"
     ]
    },
    {
     "name": "stdout",
     "output_type": "stream",
     "text": [
      "only 1 class in test data - cannot compute roc curve\n",
      "\n",
      "Subj/Visit 1, prec=0.000, rec=0.000, Spec=1.000, auroc_train=1.000, auroc=nan\n"
     ]
    },
    {
     "name": "stderr",
     "output_type": "stream",
     "text": [
      "C:\\Users\\andre\\Anaconda3\\lib\\site-packages\\sklearn\\metrics\\ranking.py:444: RuntimeWarning: invalid value encountered in true_divide\n",
      "  recall = tps / tps[-1]\n",
      "C:\\Users\\andre\\Anaconda3\\lib\\site-packages\\sklearn\\metrics\\ranking.py:94: RuntimeWarning: invalid value encountered in less\n",
      "  if np.any(dx < 0):\n"
     ]
    },
    {
     "name": "stdout",
     "output_type": "stream",
     "text": [
      "only 1 class in test data - cannot compute roc curve\n",
      "\n",
      "Subj/Visit 2, prec=0.000, rec=0.000, Spec=1.000, auroc_train=1.000, auroc=nan\n",
      "\n",
      "Subj/Visit 3, prec=0.500, rec=0.033, Spec=0.996, auroc_train=1.000, auroc=0.751\n"
     ]
    },
    {
     "name": "stderr",
     "output_type": "stream",
     "text": [
      "C:\\Users\\andre\\Anaconda3\\lib\\site-packages\\sklearn\\metrics\\ranking.py:444: RuntimeWarning: invalid value encountered in true_divide\n",
      "  recall = tps / tps[-1]\n",
      "C:\\Users\\andre\\Anaconda3\\lib\\site-packages\\sklearn\\metrics\\ranking.py:94: RuntimeWarning: invalid value encountered in less\n",
      "  if np.any(dx < 0):\n"
     ]
    },
    {
     "name": "stdout",
     "output_type": "stream",
     "text": [
      "only 1 class in test data - cannot compute roc curve\n",
      "\n",
      "Subj/Visit 4, prec=0.000, rec=0.000, Spec=1.000, auroc_train=1.000, auroc=nan\n"
     ]
    },
    {
     "name": "stderr",
     "output_type": "stream",
     "text": [
      "C:\\Users\\andre\\Anaconda3\\lib\\site-packages\\sklearn\\metrics\\ranking.py:444: RuntimeWarning: invalid value encountered in true_divide\n",
      "  recall = tps / tps[-1]\n",
      "C:\\Users\\andre\\Anaconda3\\lib\\site-packages\\sklearn\\metrics\\ranking.py:94: RuntimeWarning: invalid value encountered in less\n",
      "  if np.any(dx < 0):\n",
      "C:\\Users\\andre\\Anaconda3\\lib\\site-packages\\ipykernel_launcher.py:90: RuntimeWarning: Mean of empty slice\n",
      "C:\\Users\\andre\\Anaconda3\\lib\\site-packages\\numpy\\lib\\nanfunctions.py:1434: RuntimeWarning: Degrees of freedom <= 0 for slice.\n",
      "  keepdims=keepdims)\n",
      "C:\\Users\\andre\\Anaconda3\\lib\\site-packages\\ipykernel_launcher.py:91: RuntimeWarning: Mean of empty slice\n",
      "C:\\Users\\andre\\Anaconda3\\lib\\site-packages\\ipykernel_launcher.py:92: RuntimeWarning: Mean of empty slice\n",
      "C:\\Users\\andre\\Anaconda3\\lib\\site-packages\\ipykernel_launcher.py:99: RuntimeWarning: Mean of empty slice\n",
      "C:\\Users\\andre\\Anaconda3\\lib\\site-packages\\sklearn\\metrics\\ranking.py:444: RuntimeWarning: invalid value encountered in true_divide\n",
      "  recall = tps / tps[-1]\n",
      "C:\\Users\\andre\\Anaconda3\\lib\\site-packages\\sklearn\\metrics\\ranking.py:94: RuntimeWarning: invalid value encountered in less\n",
      "  if np.any(dx < 0):\n"
     ]
    },
    {
     "name": "stdout",
     "output_type": "stream",
     "text": [
      "only 1 class in test data - cannot compute roc curve\n",
      "\n",
      "Subj/Visit 5, prec=0.000, rec=0.000, Spec=1.000, auroc_train=1.000, auroc=nan\n",
      "f1_test=0.014+/-0.023, prec=0.250+/-0.382, rec=0.007+/-0.012, auprc=0.346+/-0.161, auroc=0.719+/-0.032\n",
      "Subject 1053\n",
      "Training Random Forest\n",
      "only 1 class available in train data - skipping\n",
      "only 1 class available in train data - skipping\n",
      "only 1 class available in train data - skipping\n",
      "only 1 class available in train data - skipping\n",
      "only 1 class available in train data - skipping\n",
      "only 1 class available in train data - skipping\n",
      "f1_test=nan+/-nan, prec=nan+/-nan, rec=nan+/-nan, auprc=nan+/-nan, auroc=nan+/-nan\n",
      "only 1 class available in data - skipping\n",
      "Subject 1054\n",
      "Training Random Forest\n",
      "only 1 class available in train data - skipping\n",
      "only 1 class in test data - cannot compute roc curve\n",
      "\n",
      "Subj/Visit 0, prec=0.000, rec=0.000, Spec=1.000, auroc_train=1.000, auroc=nan\n"
     ]
    },
    {
     "name": "stderr",
     "output_type": "stream",
     "text": [
      "C:\\Users\\andre\\Anaconda3\\lib\\site-packages\\sklearn\\metrics\\ranking.py:444: RuntimeWarning: invalid value encountered in true_divide\n",
      "  recall = tps / tps[-1]\n",
      "C:\\Users\\andre\\Anaconda3\\lib\\site-packages\\sklearn\\metrics\\ranking.py:94: RuntimeWarning: invalid value encountered in less\n",
      "  if np.any(dx < 0):\n",
      "C:\\Users\\andre\\Anaconda3\\lib\\site-packages\\sklearn\\metrics\\ranking.py:444: RuntimeWarning: invalid value encountered in true_divide\n",
      "  recall = tps / tps[-1]\n",
      "C:\\Users\\andre\\Anaconda3\\lib\\site-packages\\sklearn\\metrics\\ranking.py:94: RuntimeWarning: invalid value encountered in less\n",
      "  if np.any(dx < 0):\n"
     ]
    },
    {
     "name": "stdout",
     "output_type": "stream",
     "text": [
      "only 1 class in test data - cannot compute roc curve\n",
      "\n",
      "Subj/Visit 1, prec=0.000, rec=0.000, Spec=1.000, auroc_train=1.000, auroc=nan\n",
      "only 1 class in test data - cannot compute roc curve\n",
      "\n",
      "Subj/Visit 2, prec=0.000, rec=0.000, Spec=1.000, auroc_train=1.000, auroc=nan\n"
     ]
    },
    {
     "name": "stderr",
     "output_type": "stream",
     "text": [
      "C:\\Users\\andre\\Anaconda3\\lib\\site-packages\\sklearn\\metrics\\ranking.py:444: RuntimeWarning: invalid value encountered in true_divide\n",
      "  recall = tps / tps[-1]\n",
      "C:\\Users\\andre\\Anaconda3\\lib\\site-packages\\sklearn\\metrics\\ranking.py:94: RuntimeWarning: invalid value encountered in less\n",
      "  if np.any(dx < 0):\n",
      "C:\\Users\\andre\\Anaconda3\\lib\\site-packages\\sklearn\\metrics\\ranking.py:444: RuntimeWarning: invalid value encountered in true_divide\n",
      "  recall = tps / tps[-1]\n",
      "C:\\Users\\andre\\Anaconda3\\lib\\site-packages\\sklearn\\metrics\\ranking.py:94: RuntimeWarning: invalid value encountered in less\n",
      "  if np.any(dx < 0):\n",
      "C:\\Users\\andre\\Anaconda3\\lib\\site-packages\\ipykernel_launcher.py:92: RuntimeWarning: Mean of empty slice\n",
      "C:\\Users\\andre\\Anaconda3\\lib\\site-packages\\numpy\\lib\\nanfunctions.py:1434: RuntimeWarning: Degrees of freedom <= 0 for slice.\n",
      "  keepdims=keepdims)\n",
      "C:\\Users\\andre\\Anaconda3\\lib\\site-packages\\ipykernel_launcher.py:99: RuntimeWarning: Mean of empty slice\n"
     ]
    },
    {
     "name": "stdout",
     "output_type": "stream",
     "text": [
      "only 1 class in test data - cannot compute roc curve\n",
      "\n",
      "Subj/Visit 3, prec=0.000, rec=0.000, Spec=1.000, auroc_train=1.000, auroc=nan\n",
      "only 1 class in test data - cannot compute roc curve\n",
      "\n",
      "Subj/Visit 4, prec=0.000, rec=0.000, Spec=1.000, auroc_train=1.000, auroc=nan\n",
      "f1_test=0.000+/-0.000, prec=0.000+/-0.000, rec=0.000+/-0.000, auprc=nan+/-nan, auroc=nan+/-nan\n",
      "Subject 1055\n",
      "Training Random Forest\n",
      "\n",
      "Subj/Visit 0, prec=0.955, rec=0.955, Spec=0.083, auroc_train=1.000, auroc=0.628\n",
      "\n",
      "Subj/Visit 1, prec=0.590, rec=0.902, Spec=0.056, auroc_train=1.000, auroc=0.547\n",
      "\n",
      "Subj/Visit 2, prec=0.683, rec=0.960, Spec=0.160, auroc_train=1.000, auroc=0.661\n",
      "\n",
      "Subj/Visit 3, prec=0.937, rec=0.937, Spec=0.444, auroc_train=1.000, auroc=0.877\n",
      "\n",
      "Subj/Visit 4, prec=0.832, rec=0.986, Spec=0.204, auroc_train=1.000, auroc=0.786\n",
      "\n",
      "Subj/Visit 5, prec=0.991, rec=0.913, Spec=0.000, auroc_train=1.000, auroc=0.500\n",
      "f1_test=0.876+/-0.090, prec=0.831+/-0.149, rec=0.942+/-0.029, auprc=0.889+/-0.123, auroc=0.666+/-0.131\n",
      "Subject 1056\n",
      "Training Random Forest\n",
      "\n",
      "Subj/Visit 0, prec=0.954, rec=0.873, Spec=0.519, auroc_train=1.000, auroc=0.778\n",
      "\n",
      "Subj/Visit 1, prec=0.395, rec=0.957, Spec=0.124, auroc_train=1.000, auroc=0.666\n",
      "\n",
      "Subj/Visit 2, prec=0.321, rec=0.970, Spec=0.072, auroc_train=1.000, auroc=0.614\n",
      "\n",
      "Subj/Visit 3, prec=0.973, rec=0.924, Spec=0.385, auroc_train=1.000, auroc=0.878\n",
      "only 1 class in test data - cannot compute roc curve\n",
      "\n",
      "Subj/Visit 4, prec=1.000, rec=0.964, Spec=nan, auroc_train=1.000, auroc=nan\n"
     ]
    },
    {
     "name": "stderr",
     "output_type": "stream",
     "text": [
      "C:\\Users\\andre\\Anaconda3\\lib\\site-packages\\ipykernel_launcher.py:48: RuntimeWarning: invalid value encountered in long_scalars\n"
     ]
    },
    {
     "name": "stdout",
     "output_type": "stream",
     "text": [
      "\n",
      "Subj/Visit 5, prec=0.889, rec=0.932, Spec=0.077, auroc_train=1.000, auroc=0.616\n",
      "f1_test=0.799+/-0.199, prec=0.755+/-0.284, rec=0.937+/-0.033, auprc=0.799+/-0.249, auroc=0.710+/-0.103\n"
     ]
    }
   ],
   "source": [
    "# symptom = 'Bradykinesia'\n",
    "symptom = 'Tremor'\n",
    "le = LabelEncoder()\n",
    "res_all = pd.DataFrame(data=None,index=None)\n",
    "res_visit_all = [] #data from each subject \n",
    "auroc2_5 = []\n",
    "\n",
    "#remove nan rows for current symptom\n",
    "Data = Dataorig.copy() #original unmodified dataframe\n",
    "Data=Data[~Data[symptom].isnull()]\n",
    "Data=Data.reset_index(drop=True) #reset index\n",
    "\n",
    "#train on 1 or all sessions, predict on left out session for each patient (Day 1) and on single Day 2 session\n",
    "for s in Data.Subject.unique():\n",
    "    print('Subject %s'%s)\n",
    "    ds = Data.loc[(Data.Subject==s) & (Data.Visit != '4 Weeks')]\n",
    "    ds2 = Data.loc[(Data.Subject==s) & (Data.Visit == '4 Weeks')] #(Day 2)\n",
    "\n",
    "    #train/test on Day 1\n",
    "    indp = (ds[symptom]>0).values\n",
    "    y = indp.astype(int) #target \n",
    "    X = ds.iloc[:,7:].as_matrix()\n",
    "    #     X = StandardScaler().fit_transform(X) #standardize input data\n",
    "    \n",
    "    models = [RandomForestClassifier(n_estimators=50,random_state=2)]#,XGBClassifier()]\n",
    "    model_name = ['Random Forest']#,'XGB']\n",
    "    models = list(zip(models,model_name))\n",
    "    groups = le.fit_transform(ds.Visit)\n",
    "    if len(np.unique(groups))<2:\n",
    "        continue\n",
    "        \n",
    "    #train/test on day 1 (LOin)\n",
    "    res,res_group = LOSOCV(ds,X,y,groups,models,LOin=0)\n",
    "    res.index = res.index+s\n",
    "    res_all=pd.concat((res_all,res))\n",
    "    res_visit_all.append(res_group)\n",
    "    day1_5 = res_all.auroc #mean auc per subject across \n",
    "\n",
    "    if len(np.unique(y))<2: #skip if no positive or negative examples are available for training\n",
    "        print('only 1 class available in data - skipping')\n",
    "        continue\n",
    "    \n",
    "    #test on day 2    \n",
    "    if ds2.empty is False:\n",
    "        print('Test %s on day 2' %s)\n",
    "        clf = models[0][0]\n",
    "        X2 = ds2.iloc[:,7:].as_matrix()\n",
    "        yte = (ds2[symptom]>0).values.astype(int) \n",
    "        yscore = clf.predict_proba(X2)\n",
    "        yscore = yscore[:,1]\n",
    "        if len(np.unique(yte))>1:\n",
    "            auroc = roc_auc_score(yte,yscore)\n",
    "        else:\n",
    "            print('only 1 class in test data - cannot compute roc curve')\n",
    "            auroc = np.nan\n",
    "        auroc2_5.append(auroc) #auc from each subject when tested on day 2\n",
    "\n",
    "        \n",
    "day1_5 = day1_5[~np.isnan(day1_5)]\n",
    "auroc2_5 = [x for x in auroc2_5 if str(x) != 'nan']\n",
    "\n",
    "# np.save(os.path.join(results_path,'PERS_brady_train5lovo.npy'),[day1_5.values, auroc2_5])\n",
    "np.save(os.path.join(results_path,'PERS_tremor_train5lovo.npy'),[day1_5.values, auroc2_5])"
   ]
  },
  {
   "cell_type": "markdown",
   "metadata": {},
   "source": [
    "#### Run Stats and Plot"
   ]
  },
  {
   "cell_type": "code",
   "execution_count": 90,
   "metadata": {},
   "outputs": [],
   "source": [
    "# brady1 = np.load(os.path.join(results_path,'brady_train1lovo.npy'))\n",
    "# brady5 = np.load(os.path.join(results_path,'brady_train5lovo.npy'))\n",
    "# tremor1 = np.load(os.path.join(results_path,'tremor_train1lovo.npy'))\n",
    "# tremor5 = np.load(os.path.join(results_path,'tremor_train5lovo.npy'))\n",
    "\n",
    "# day1_1 = np.append(brady1[0], tremor1[0]);\n",
    "# auroc2_1 = brady1[1] + tremor1[1];\n",
    "# day1_5 = np.append(brady5[0], tremor5[0]);\n",
    "# auroc2_5 = brady5[1] + tremor5[1];\n",
    "\n",
    "# s1 = (np.shape(brady1[0])[0])*['Bradykinesia'] + (np.shape(tremor1[0])[0])*['Tremor']\n",
    "# s2 = (np.shape(brady1[1])[0])*['Bradykinesia'] + (np.shape(tremor1[1])[0])*['Tremor']\n",
    "# g1 = np.shape(day1_1)[0]*['Day 1']\n",
    "# g2 = np.shape(auroc2_1)[0]*['Day 2']\n",
    "# df = pd.DataFrame.from_dict({'Test Session':(g1 + g2),'1 Session':(list(day1_1) + list(auroc2_1)),\n",
    "#                              '5 Sessions':(list(day1_5) + list(auroc2_5)),\n",
    "#                              'Symptom':(list(s1) + list(s2))})\n",
    "# df_new = pd.melt(df,id_vars=['Test Session','Symptom'],value_vars=['1 Session','5 Sessions'],var_name=['# Training Sessions']);\n",
    "\n",
    "# figure = plt.figure();\n",
    "# figure.set_dpi(100);\n",
    "# figure.set_size_inches(6.4,4.8);\n",
    "# # ax = sns.boxplot(x='Test Session',y='value',data=df_new,hue='# Training Sessions');\n",
    "# ax = sns.factorplot(x='Test Session',y='value',hue='# Training Sessions',data=df_new,col='Symptom',kind='box');\n",
    "# # ax = (ax.map(labelFunc),color='k')\n",
    "# ax.set_titles('{col_name}');\n",
    "\n",
    "# # x3,x4 = 0.8,1.2\n",
    "# # y, h, col = df_new['value'].max() + 0.04, 0.04, 'k'\n",
    "# # plt.plot([x3, x3, x4, x4], [y, y+h, y+h, y], lw=1.5, c=col)\n",
    "\n",
    "# # # if pvalue2 > 0.05:\n",
    "# # plt.text((x3+x4)*.5, y+h, \"ns\", ha='center', va='bottom', color=col,fontsize=16);\n",
    "# # # else:\n",
    "# # plt.text((x3+x4)*.5, y+h, \"***\"%pvalue2, ha='center', va='bottom', color=col,fontsize=16);\n",
    "\n",
    "\n",
    "# # plt.savefig(os.path.join(results_path,'1 and 5 sessions - Bradykinesia.png'),format='png',dpi=1000)\n",
    "# # plt.savefig(os.path.join(results_path,'1 and 5 sessions - Bradykinesia.tiff'),format='tiff',dpi=1000)"
   ]
  },
  {
   "cell_type": "code",
   "execution_count": 15,
   "metadata": {},
   "outputs": [
    {
     "name": "stdout",
     "output_type": "stream",
     "text": [
      "Tremor Day 1 mean: 0.111878 p-value: 0.000000\n",
      "Tremor Day 2 mean: 0.041002 p-value: 0.123859\n"
     ]
    },
    {
     "data": {
      "image/png": "[encoded data removed]",
      "text/plain": [
       "<matplotlib.figure.Figure at 0x294ac5bb668>"
      ]
     },
     "metadata": {},
     "output_type": "display_data"
    }
   ],
   "source": [
    "day1_1 = np.load(os.path.join(results_path,'brady_train1lovo.npy'))[0]\n",
    "auroc2_1 = np.load(os.path.join(results_path,'brady_train1lovo.npy'))[1]\n",
    "day1_5 = np.load(os.path.join(results_path,'brady_train5lovo.npy'))[0]\n",
    "auroc2_5 = np.load(os.path.join(results_path,'brady_train5lovo.npy'))[1]\n",
    "\n",
    "g1 = np.shape(day1_1)[0]*['Day 1']\n",
    "g2 = np.shape(auroc2_1)[0]*['Day 2']\n",
    "df = pd.DataFrame.from_dict({'Test Session':(g1 + g2),'1 Session':(list(day1_1) + list(auroc2_1)),'5 Sessions':(list(day1_5) + list(auroc2_5))})\n",
    "df_new = pd.melt(df,id_vars=['Test Session'],value_vars=['1 Session','5 Sessions'],var_name=['# Training Sessions'])\n",
    "\n",
    "figure = plt.figure()\n",
    "figure.set_dpi(100)\n",
    "figure.set_size_inches(6.4,4.8)\n",
    "ax = sns.boxplot(x='Test Session',y='value',data=df_new,hue='# Training Sessions');\n",
    "plt.ylabel('AUROC');\n",
    "plt.title('Bradykinesia');\n",
    "plt.ylim(0.3,1.15);\n",
    "\n",
    "#stats\n",
    "# _, pvalue1 = wilcoxon(day1_1.values,day1_5.values,zero_method='wilcox')\n",
    "_, pvalue1 = stats.ttest_rel(day1_1,day1_5)\n",
    "print('Bradykinesia Day 1 mean: %f p-value: %f'%((np.mean(day1_5-day1_1)),pvalue1))\n",
    "\n",
    "# _, pvalue2 = wilcoxon(auroc2_1,auroc2_5,zero_method='wilcox')\n",
    "_, pvalue2 = stats.ttest_rel(auroc2_1,auroc2_5)\n",
    "print('Bradykinesia Day 2 mean: %f p-value: %f'%((np.mean(np.array(auroc2_5)-np.array(auroc2_1))),pvalue2))\n",
    "\n",
    "x1,x2 = -0.2,0.2\n",
    "y, h, col = df_new['value'].max() + 0.02, 0.02, 'k'\n",
    "plt.plot([x1, x1, x2, x2], [y, y+h, y+h, y], lw=1.5, c=col)\n",
    "\n",
    "if pvalue1 > 0.05:\n",
    "    plt.text((x1+x2)*.5, y+h+0.01, \"ns\", ha='center', va='bottom', color=col,fontsize=16);\n",
    "else:\n",
    "    plt.text((x1+x2)*.5, y+h+0.01, \"***\"%pvalue1, ha='center', va='bottom', color=col,fontsize=16);\n",
    "\n",
    "x3,x4 = 0.8,1.2\n",
    "y, h, col = df_new['value'].max() + 0.04, 0.04, 'k'\n",
    "plt.plot([x3, x3, x4, x4], [y, y+h, y+h, y], lw=1.5, c=col)\n",
    "\n",
    "if pvalue2 > 0.05:\n",
    "    plt.text((x3+x4)*.5, y+h, \"ns\", ha='center', va='bottom', color=col,fontsize=16);\n",
    "else:\n",
    "    plt.text((x3+x4)*.5, y+h, \"***\"%pvalue2, ha='center', va='bottom', color=col,fontsize=16);\n",
    "\n",
    "\n",
    "plt.savefig(os.path.join(results_path,'1 and 5 sessions - Bradykinesia.png'),format='png',dpi=1000)\n",
    "plt.savefig(os.path.join(results_path,'1 and 5 sessions - Bradykinesia.tiff'),format='tiff',dpi=1000)"
   ]
  },
  {
   "cell_type": "code",
   "execution_count": 35,
   "metadata": {
    "scrolled": true
   },
   "outputs": [
    {
     "name": "stdout",
     "output_type": "stream",
     "text": [
      "Tremor Day 1 mean: 0.096639 p-value: 0.000340\n",
      "Tremor Day 2 mean: 0.057183 p-value: 0.210448\n"
     ]
    },
    {
     "data": {
      "image/png": "[encoded data removed]",
      "text/plain": [
       "<matplotlib.figure.Figure at 0x1d117b04080>"
      ]
     },
     "metadata": {},
     "output_type": "display_data"
    }
   ],
   "source": [
    "day1_1 = np.load(os.path.join(results_path,'tremor_train1lovo.npy'))[0]\n",
    "auroc2_1 = np.load(os.path.join(results_path,'tremor_train1lovo.npy'))[1]\n",
    "day1_5 = np.load(os.path.join(results_path,'tremor_train5lovo.npy'))[0]\n",
    "auroc2_5 = np.load(os.path.join(results_path,'tremor_train5lovo.npy'))[1]\n",
    "\n",
    "g1 = np.shape(day1_1)[0]*['Day 1']\n",
    "g2 = np.shape(auroc2_1)[0]*['Day 2']\n",
    "df = pd.DataFrame.from_dict({'Test Session':(g1 + g2),'1 Session':(list(day1_1) + list(auroc2_1)),'5 Sessions':(list(day1_5) + list(auroc2_5))})\n",
    "df_new = pd.melt(df,id_vars=['Test Session'],value_vars=['1 Session','5 Sessions'],var_name=['# Training Sessions'])\n",
    "\n",
    "figure = plt.figure()\n",
    "figure.set_dpi(100)\n",
    "figure.set_size_inches(6.4,4.8)\n",
    "ax = sns.boxplot(x='Test Session',y='value',data=df_new,hue='# Training Sessions');\n",
    "plt.ylabel('AUROC');\n",
    "plt.title('Tremor');\n",
    "plt.ylim(0.3,1.15);\n",
    "\n",
    "#stats\n",
    "# _, pvalue1 = wilcoxon(day1_1.values,day1_5.values,zero_method='wilcox')\n",
    "_, pvalue1 = stats.ttest_rel(day1_1,day1_5)\n",
    "print('Tremor Day 1 mean: %f p-value: %f'%((np.mean(day1_5-day1_1)),pvalue1))\n",
    "\n",
    "# _, pvalue2 = wilcoxon(auroc2_1,auroc2_5,zero_method='wilcox')\n",
    "_, pvalue2 = stats.ttest_rel(auroc2_1,auroc2_5)\n",
    "print('Tremor Day 2 mean: %f p-value: %f'%((np.mean(np.array(auroc2_5)-np.array(auroc2_1))),pvalue2))\n",
    "\n",
    "x1,x2 = -0.2,0.2\n",
    "y, h, col = df_new['value'].max() + 0.02, 0.02, 'k'\n",
    "plt.plot([x1, x1, x2, x2], [y, y+h, y+h, y], lw=1.5, c=col)\n",
    "\n",
    "if pvalue1 > 0.05:\n",
    "    plt.text((x1+x2)*.5, y+h+0.01, \"ns\", ha='center', va='bottom', color=col,fontsize=16);\n",
    "else:\n",
    "    plt.text((x1+x2)*.5, y+h+0.01, \"***\"%pvalue1, ha='center', va='bottom', color=col,fontsize=16);\n",
    "\n",
    "x3,x4 = 0.8,1.2\n",
    "y, h, col = df_new['value'].max() + 0.04, 0.04, 'k'\n",
    "plt.plot([x3, x3, x4, x4], [y, y+h, y+h, y], lw=1.5, c=col)\n",
    "\n",
    "if pvalue2 > 0.05:\n",
    "    plt.text((x3+x4)*.5, y+h, \"ns\", ha='center', va='bottom', color=col,fontsize=16);\n",
    "else:\n",
    "    plt.text((x3+x4)*.5, y+h, \"***\"%pvalue2, ha='center', va='bottom', color=col,fontsize=16);\n",
    "\n",
    "\n",
    "plt.savefig(os.path.join(results_path,'1 and 5 sessions - Tremor.png'),format='png',dpi=1000)\n",
    "plt.savefig(os.path.join(results_path,'1 and 5 sessions - Tremor.tiff'),format='tiff',dpi=1000)"
   ]
  },
  {
   "cell_type": "markdown",
   "metadata": {},
   "source": [
    "# Boxplots"
   ]
  },
  {
   "cell_type": "markdown",
   "metadata": {},
   "source": [
    "## Bradykinesia - Compare Day 1, 1 sessions and all sessions for training, test on remaining"
   ]
  },
  {
   "cell_type": "code",
   "execution_count": 37,
   "metadata": {},
   "outputs": [
    {
     "name": "stdout",
     "output_type": "stream",
     "text": [
      "Bradykinesia Day 1 - One Training Session: 0.025900\n",
      "Bradykinesia Day 1 - All Training Sessions: 0.000007\n",
      "All Sessions: Personal Model 0.884853\n",
      "All Sessions: Global Model 0.718347\n",
      "All Sessions Mean Improvement: 0.166506\n"
     ]
    }
   ],
   "source": [
    "global_one = np.load(os.path.join(results_path,'GLOB_brady_train1lovo.npy'))[0]\n",
    "global_one = np.asarray(global_one)[~np.isnan(global_one)]\n",
    "global_all = np.load(os.path.join(results_path,'GLOB_brady_train6lovo.npy'))[0]\n",
    "global_all = np.asarray(global_all)[~np.isnan(global_all)]\n",
    "\n",
    "person_one = np.load(os.path.join(results_path,'PERS_brady_train1lovo.npy'))[0]\n",
    "person_one = np.asarray(person_one)[~np.isnan(person_one)]\n",
    "person_all = np.load(os.path.join(results_path,'PERS_brady_train5lovo.npy'))[0]\n",
    "person_all = np.asarray(person_all)[~np.isnan(person_all)]\n",
    "\n",
    "_, pvalue1 = stats.ttest_rel(global_one,person_one)\n",
    "_, pvalue2 = stats.ttest_rel(global_all,person_all)\n",
    "print('Bradykinesia Day 1 - One Training Session: %f'%pvalue1)\n",
    "print('Bradykinesia Day 1 - All Training Sessions: %f'%pvalue2)\n",
    "print('All Sessions: Personal Model %f'%np.nanmean(person_all))\n",
    "print('All Sessions: Global Model %f'%np.nanmean(global_all))\n",
    "print('All Sessions Mean Improvement: %f'%(np.nanmean(person_all) - np.nanmean(global_all)))"
   ]
  },
  {
   "cell_type": "code",
   "execution_count": 38,
   "metadata": {},
   "outputs": [
    {
     "data": {
      "image/png": "[encoded data removed]",
      "text/plain": [
       "<matplotlib.figure.Figure at 0x198803452e8>"
      ]
     },
     "metadata": {},
     "output_type": "display_data"
    }
   ],
   "source": [
    "g1 = np.shape(global_one)[0]*['One Session']\n",
    "g2 = np.shape(global_all)[0]*['All Sessions']\n",
    "df = pd.DataFrame.from_dict({'# Training Sessions':(g1 + g2),'Population':(list(global_one) + list(global_all)),\n",
    "                             'Personal':(list(person_one) + list(person_all))})\n",
    "df_new = pd.melt(df,id_vars=['# Training Sessions'],value_vars=['Population','Personal'],var_name=['Model'])\n",
    "\n",
    "figure = plt.figure()\n",
    "figure.set_dpi(100)\n",
    "figure.set_size_inches(6.4,4.8)\n",
    "ax = sns.boxplot(x='# Training Sessions',y='value',data=df_new,hue='Model');\n",
    "plt.ylabel('AUROC');\n",
    "plt.title('Bradykinesia - Day 1');\n",
    "plt.ylim(0.2,1.1);\n",
    "\n",
    "x1,x2 = -0.2,0.2\n",
    "y, h, col = df_new['value'].max() - 0.05, 0.02, 'k'\n",
    "plt.plot([x1, x1, x2, x2], [y, y+h, y+h, y], lw=1.5, c=col)\n",
    "plt.text((x1+x2)*.5, y+h+0.01, \"*\", ha='center', va='bottom', color=col,fontsize=16);\n",
    "\n",
    "x3,x4 = 0.8,1.2\n",
    "y, h, col = df_new['value'].max() + 0.02, 0.02, 'k'\n",
    "plt.plot([x3, x3, x4, x4], [y, y+h, y+h, y], lw=1.5, c=col)\n",
    "plt.text((x3+x4)*.5, y+h+0.01, \"***\", ha='center', va='bottom', color=col,fontsize=16);\n",
    "\n",
    "plt.savefig(os.path.join(results_path,'Bradykinesia Day 1 Comparison.tiff'),format='tiff',dpi=1000)\n",
    "plt.savefig(os.path.join(results_path,'Bradykinesia Day 1 Comparison.png'),format='png',dpi=1000)"
   ]
  },
  {
   "cell_type": "markdown",
   "metadata": {},
   "source": [
    "## Bradykinesia - Compare Day 2, 1 sessions and all sessions for training, test on remaining"
   ]
  },
  {
   "cell_type": "code",
   "execution_count": 39,
   "metadata": {},
   "outputs": [
    {
     "name": "stdout",
     "output_type": "stream",
     "text": [
      "Bradykinesia Day 2 - One Training Session: 0.396574\n",
      "Bradykinesia Day 2 - All Training Sessions: 0.174509\n",
      "All Sessions: Personal Model 0.741124\n",
      "All Sessions: Global Model 0.685233\n",
      "All Sessions Mean Improvement: 0.055891\n"
     ]
    }
   ],
   "source": [
    "global_one = np.load(os.path.join(results_path,'GLOB_brady_train1lovo.npy'))[1]\n",
    "global_one = np.asarray(global_one)[~np.isnan(global_one)]\n",
    "global_all = np.load(os.path.join(results_path,'GLOB_brady_train6lovo.npy'))[1]\n",
    "global_all = np.asarray(global_all)[~np.isnan(global_all)]\n",
    "\n",
    "person_one = np.load(os.path.join(results_path,'PERS_brady_train1lovo.npy'))[1]\n",
    "person_one = np.asarray(person_one)[~np.isnan(person_one)]\n",
    "person_all = np.load(os.path.join(results_path,'PERS_brady_train5lovo.npy'))[1]\n",
    "person_all = np.asarray(person_all)[~np.isnan(person_all)]\n",
    "\n",
    "_, pvalue1 = stats.ttest_rel(global_one,person_one)\n",
    "_, pvalue2 = stats.ttest_rel(global_all,person_all)\n",
    "print('Bradykinesia Day 2 - One Training Session: %f'%pvalue1)\n",
    "print('Bradykinesia Day 2 - All Training Sessions: %f'%pvalue2)\n",
    "print('All Sessions: Personal Model %f'%np.nanmean(person_all))\n",
    "print('All Sessions: Global Model %f'%np.nanmean(global_all))\n",
    "print('All Sessions Mean Improvement: %f'%(np.nanmean(person_all) - np.nanmean(global_all)))"
   ]
  },
  {
   "cell_type": "code",
   "execution_count": 40,
   "metadata": {},
   "outputs": [
    {
     "data": {
      "image/png": "[encoded data removed]",
      "text/plain": [
       "<matplotlib.figure.Figure at 0x19880620c50>"
      ]
     },
     "metadata": {},
     "output_type": "display_data"
    }
   ],
   "source": [
    "g1 = np.shape(global_one)[0]*['One Session']\n",
    "g2 = np.shape(global_all)[0]*['All Sessions']\n",
    "df = pd.DataFrame.from_dict({'# Training Sessions':(g1 + g2),'Population':(list(global_one) + list(global_all)),\n",
    "                             'Personal':(list(person_one) + list(person_all))})\n",
    "df_new = pd.melt(df,id_vars=['# Training Sessions'],value_vars=['Population','Personal'],var_name=['Model'])\n",
    "\n",
    "figure = plt.figure()\n",
    "figure.set_dpi(100)\n",
    "figure.set_size_inches(6.4,4.8)\n",
    "ax = sns.boxplot(x='# Training Sessions',y='value',data=df_new,hue='Model');\n",
    "plt.ylabel('AUROC');\n",
    "plt.title('Bradykinesia - Day 2');\n",
    "plt.ylim(0,1.15);\n",
    "\n",
    "x1,x2 = -0.2,0.2\n",
    "y, h, col = df_new['value'].max() + 0.02, 0.02, 'k'\n",
    "plt.plot([x1, x1, x2, x2], [y, y+h, y+h, y], lw=1.5, c=col)\n",
    "plt.text((x1+x2)*.5, y+h+0.01, \"ns\", ha='center', va='bottom', color=col,fontsize=16);\n",
    "\n",
    "x3,x4 = 0.8,1.2\n",
    "y, h, col = df_new['value'].max() + 0.02, 0.02, 'k'\n",
    "plt.plot([x3, x3, x4, x4], [y, y+h, y+h, y], lw=1.5, c=col)\n",
    "plt.text((x3+x4)*.5, y+h+0.01, \"ns\", ha='center', va='bottom', color=col,fontsize=16);\n",
    "\n",
    "plt.savefig(os.path.join(results_path,'Bradykinesia Day 2 Comparison.tiff'),format='tiff',dpi=1000)\n",
    "plt.savefig(os.path.join(results_path,'Bradykinesia Day 2 Comparison.png'),format='png',dpi=1000)"
   ]
  },
  {
   "cell_type": "markdown",
   "metadata": {},
   "source": [
    "## Tremor - Compare Day 1, 1 sessions and all sessions for training, test on remaining"
   ]
  },
  {
   "cell_type": "code",
   "execution_count": 52,
   "metadata": {},
   "outputs": [],
   "source": [
    "global_one = np.load(os.path.join(results_path,'GLOB_tremor_train1lovo.npy'))[0]\n",
    "# global_one = np.asarray(global_one)[~np.isnan(global_one)]\n",
    "global_all = np.load(os.path.join(results_path,'GLOB_tremor_train6lovo.npy'))[0]\n",
    "# global_all = np.asarray(global_all)[~np.isnan(global_all)]\n",
    "\n",
    "person_one = np.load(os.path.join(results_path,'PERS_tremor_train1lovo.npy'))[0]\n",
    "# person_one = np.asarray(person_one)[~np.isnan(person_one)]\n",
    "person_all = np.load(os.path.join(results_path,'PERS_tremor_train5lovo.npy'))[0]\n",
    "# person_all = np.asarray(person_all)[~np.isnan(person_all)]"
   ]
  },
  {
   "cell_type": "code",
   "execution_count": 53,
   "metadata": {},
   "outputs": [
    {
     "name": "stdout",
     "output_type": "stream",
     "text": [
      "(16,)\n",
      "(16,)\n",
      "(19,)\n",
      "(19,)\n"
     ]
    }
   ],
   "source": [
    "print(np.shape(person_one))\n",
    "print(np.shape(person_all))\n",
    "print(np.shape(global_one))\n",
    "print(np.shape(global_all))"
   ]
  },
  {
   "cell_type": "code",
   "execution_count": 54,
   "metadata": {},
   "outputs": [],
   "source": [
    "person_all = np.append(person_all,(np.nan,np.nan,np.nan))\n",
    "person_one = np.append(person_one,(np.nan,np.nan,np.nan))"
   ]
  },
  {
   "cell_type": "code",
   "execution_count": 55,
   "metadata": {},
   "outputs": [
    {
     "name": "stdout",
     "output_type": "stream",
     "text": [
      "Tremor Day 1 - One Training Session: 0.280091\n",
      "Tremor Day 1 - All Training Sessions: 0.000466\n",
      "All Sessions: Personal Model 0.869290\n",
      "All Sessions: Global Model 0.772560\n",
      "All Sessions Mean Improvement: 0.096730\n"
     ]
    }
   ],
   "source": [
    "_, pvalue1 = stats.ttest_rel(global_one,person_one,nan_policy='omit')\n",
    "_, pvalue2 = stats.ttest_rel(global_all,person_all,nan_policy='omit')\n",
    "print('Tremor Day 1 - One Training Session: %f'%pvalue1)\n",
    "print('Tremor Day 1 - All Training Sessions: %f'%pvalue2)\n",
    "print('All Sessions: Personal Model %f'%np.nanmean(person_all))\n",
    "print('All Sessions: Global Model %f'%np.nanmean(global_all))\n",
    "print('All Sessions Mean Improvement: %f'%(np.nanmean(person_all) - np.nanmean(global_all)))"
   ]
  },
  {
   "cell_type": "code",
   "execution_count": 45,
   "metadata": {},
   "outputs": [
    {
     "data": {
      "image/png": "[encoded data removed]",
      "text/plain": [
       "<matplotlib.figure.Figure at 0x198804d7c50>"
      ]
     },
     "metadata": {},
     "output_type": "display_data"
    }
   ],
   "source": [
    "g1 = np.shape(global_one)[0]*['One Session']\n",
    "g2 = np.shape(global_all)[0]*['All Sessions']\n",
    "df = pd.DataFrame.from_dict({'# Training Sessions':(g1 + g2),'Population':(list(global_one) + list(global_all)),\n",
    "                             'Personal':(list(person_one) + list(person_all))})\n",
    "df_new = pd.melt(df,id_vars=['# Training Sessions'],value_vars=['Population','Personal'],var_name=['Model'])\n",
    "\n",
    "figure = plt.figure()\n",
    "figure.set_dpi(100)\n",
    "figure.set_size_inches(6.4,4.8)\n",
    "ax = sns.boxplot(x='# Training Sessions',y='value',data=df_new,hue='Model');\n",
    "plt.ylabel('AUROC');\n",
    "plt.title('Tremor - Day 1');\n",
    "plt.ylim(0.35,1.1);\n",
    "\n",
    "x1,x2 = -0.2,0.2\n",
    "y, h, col = df_new['value'].max() + 0.02, 0.02, 'k'\n",
    "plt.plot([x1, x1, x2, x2], [y, y+h, y+h, y], lw=1.5, c=col)\n",
    "plt.text((x1+x2)*.5, y+h+0.01, \"ns\", ha='center', va='bottom', color=col,fontsize=16);\n",
    "\n",
    "x3,x4 = 0.8,1.2\n",
    "y, h, col = df_new['value'].max() + 0.02, 0.02, 'k'\n",
    "plt.plot([x3, x3, x4, x4], [y, y+h, y+h, y], lw=1.5, c=col)\n",
    "plt.text((x3+x4)*.5, y+h+0.01, \"**\", ha='center', va='bottom', color=col,fontsize=16);\n",
    "\n",
    "plt.savefig(os.path.join(results_path,'Tremor Day 1 Comparison.tiff'),format='tiff',dpi=1000)\n",
    "plt.savefig(os.path.join(results_path,'Tremor Day 1 Comparison.png'),format='png',dpi=1000)"
   ]
  },
  {
   "cell_type": "markdown",
   "metadata": {},
   "source": [
    "## Tremor - Compare Day 2, 1 sessions and all sessions for training, test on remaining"
   ]
  },
  {
   "cell_type": "code",
   "execution_count": 57,
   "metadata": {},
   "outputs": [],
   "source": [
    "global_one = np.load(os.path.join(results_path,'GLOB_tremor_train1lovo.npy'))[1]\n",
    "# global_one = np.asarray(global_one)[~np.isnan(global_one)]\n",
    "global_all = np.load(os.path.join(results_path,'GLOB_tremor_train6lovo.npy'))[1]\n",
    "# global_all = np.asarray(global_all)[~np.isnan(global_all)]\n",
    "\n",
    "person_one = np.load(os.path.join(results_path,'PERS_tremor_train1lovo.npy'))[1]\n",
    "# person_one = np.asarray(person_one)[~np.isnan(person_one)]\n",
    "person_all = np.load(os.path.join(results_path,'PERS_tremor_train5lovo.npy'))[1]\n",
    "# person_all = np.asarray(person_all)[~np.isnan(person_all)]"
   ]
  },
  {
   "cell_type": "code",
   "execution_count": 58,
   "metadata": {},
   "outputs": [
    {
     "name": "stdout",
     "output_type": "stream",
     "text": [
      "(11,)\n",
      "(11,)\n",
      "(19,)\n",
      "(19,)\n"
     ]
    }
   ],
   "source": [
    "print(np.shape(person_one))\n",
    "print(np.shape(person_all))\n",
    "print(np.shape(global_one))\n",
    "print(np.shape(global_all))"
   ]
  },
  {
   "cell_type": "code",
   "execution_count": 59,
   "metadata": {},
   "outputs": [],
   "source": [
    "person_all = np.append(person_all,(np.nan,np.nan,np.nan,np.nan,np.nan,np.nan,np.nan,np.nan))\n",
    "person_one = np.append(person_one,(np.nan,np.nan,np.nan,np.nan,np.nan,np.nan,np.nan,np.nan))"
   ]
  },
  {
   "cell_type": "code",
   "execution_count": 60,
   "metadata": {},
   "outputs": [
    {
     "name": "stdout",
     "output_type": "stream",
     "text": [
      "Tremor Day 2 - One Training Session: 0.879566\n",
      "Tremor Day 2 - All Training Sessions: 0.748882\n",
      "All Sessions: Personal Model 0.869481\n",
      "All Sessions: Global Model 0.855999\n",
      "All Sessions Mean Improvement: 0.013482\n"
     ]
    }
   ],
   "source": [
    "_, pvalue1 = stats.ttest_ind(global_one,person_one,nan_policy='omit')\n",
    "_, pvalue2 = stats.ttest_ind(global_all,person_all,nan_policy='omit')\n",
    "print('Tremor Day 2 - One Training Session: %f'%pvalue1)\n",
    "print('Tremor Day 2 - All Training Sessions: %f'%pvalue2)\n",
    "print('All Sessions: Personal Model %f'%np.nanmean(person_all))\n",
    "print('All Sessions: Global Model %f'%np.nanmean(global_all))\n",
    "print('All Sessions Mean Improvement: %f'%(np.nanmean(person_all) - np.nanmean(global_all)))"
   ]
  },
  {
   "cell_type": "code",
   "execution_count": 61,
   "metadata": {
    "scrolled": true
   },
   "outputs": [
    {
     "data": {
      "image/png": "[encoded data removed]",
      "text/plain": [
       "<matplotlib.figure.Figure at 0x19880a9f7f0>"
      ]
     },
     "metadata": {},
     "output_type": "display_data"
    }
   ],
   "source": [
    "g1 = np.shape(global_one)[0]*['One Session']\n",
    "g2 = np.shape(global_all)[0]*['All Sessions']\n",
    "df = pd.DataFrame.from_dict({'# Training Sessions':(g1 + g2),'Population':(list(global_one) + list(global_all)),\n",
    "                             'Personal':(list(person_one) + list(person_all))})\n",
    "df_new = pd.melt(df,id_vars=['# Training Sessions'],value_vars=['Population','Personal'],var_name=['Model'])\n",
    "\n",
    "figure = plt.figure()\n",
    "figure.set_dpi(100)\n",
    "figure.set_size_inches(6.4,4.8)\n",
    "ax = sns.boxplot(x='# Training Sessions',y='value',data=df_new,hue='Model');\n",
    "plt.ylabel('AUROC');\n",
    "plt.title('Tremor - Day 2');\n",
    "plt.ylim(0.4,1.11);\n",
    "\n",
    "x1,x2 = -0.2,0.2\n",
    "y, h, col = df_new['value'].max() + 0.02, 0.02, 'k'\n",
    "plt.plot([x1, x1, x2, x2], [y, y+h, y+h, y], lw=1.5, c=col)\n",
    "plt.text((x1+x2)*.5, y+h+0.01, \"ns\", ha='center', va='bottom', color=col,fontsize=16);\n",
    "\n",
    "x3,x4 = 0.8,1.2\n",
    "y, h, col = df_new['value'].max() + 0.02, 0.02, 'k'\n",
    "plt.plot([x3, x3, x4, x4], [y, y+h, y+h, y], lw=1.5, c=col)\n",
    "plt.text((x3+x4)*.5, y+h+0.01, \"ns\", ha='center', va='bottom', color=col,fontsize=16);\n",
    "\n",
    "plt.savefig(os.path.join(results_path,'Tremor Day 2 Comparison.tiff'),format='tiff',dpi=1000)\n",
    "plt.savefig(os.path.join(results_path,'Tremor Day 2 Comparison.png'),format='png',dpi=1000)"
   ]
  },
  {
   "cell_type": "code",
   "execution_count": null,
   "metadata": {},
   "outputs": [],
   "source": []
  }
 ],
 "metadata": {
  "anaconda-cloud": {},
  "celltoolbar": "Raw Cell Format",
  "kernelspec": {
   "display_name": "Python 3",
   "language": "python",
   "name": "python3"
  },
  "language_info": {
   "codemirror_mode": {
    "name": "ipython",
    "version": 3
   },
   "file_extension": ".py",
   "mimetype": "text/x-python",
   "name": "python",
   "nbconvert_exporter": "python",
   "pygments_lexer": "ipython3",
   "version": "3.6.4"
  }
 },
 "nbformat": 4,
 "nbformat_minor": 2
}
