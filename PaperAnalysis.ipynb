{
 "cells": [
  {
   "cell_type": "code",
   "execution_count": 1,
   "metadata": {},
   "outputs": [],
   "source": [
    "import os\n",
    "import platform\n",
    "import numpy as np\n",
    "import pandas as pd\n",
    "import seaborn as sns\n",
    "import matplotlib.pyplot as plt\n",
    "import datetime as dt\n",
    "import pathlib\n",
    "import pickle #to save files\n",
    "from itertools import product\n",
    "from scipy.stats import skew, kurtosis, wilcoxon\n",
    "from scipy.signal import butter, welch, filtfilt, resample\n",
    "from scipy import stats\n",
    "# import xgboost as xgb\n",
    "# from xgboost.sklearn import XGBClassifier #this is the SKlearn wrapper\n",
    "from sklearn.metrics import confusion_matrix, auc, f1_score, roc_auc_score, precision_score, recall_score, precision_recall_curve\n",
    "from sklearn.model_selection import train_test_split\n",
    "from sklearn.preprocessing import LabelEncoder, StandardScaler\n",
    "from sklearn import svm\n",
    "import time\n",
    "\n",
    "from PreprocessFcns import *\n",
    "\n",
    "from mpl_toolkits.mplot3d import Axes3D\n",
    "%matplotlib inline\n",
    "\n",
    "sns.set_context('talk',font_scale=1)\n",
    "#-- For interactive plots--\n",
    "# from mpl_toolkits.mplot3d import Axes3D\n",
    "# %matplotlib notebook"
   ]
  },
  {
   "cell_type": "markdown",
   "metadata": {},
   "source": [
    "## Helper fcns"
   ]
  },
  {
   "cell_type": "code",
   "execution_count": 2,
   "metadata": {},
   "outputs": [],
   "source": [
    "def LOSOCV(Data,X,y,groups,models,LOin=0):\n",
    "\n",
    "    subj = LeaveOneGroupOut() \n",
    "    results = pd.DataFrame(data=None,columns=['model','f1','auprc','auroc'])\n",
    "    groupres = {} #results on each group for each model\n",
    "\n",
    "\n",
    "    #train multiple classifiers\n",
    "    for m in models:\n",
    "        acc_all=[]; acc_train=[] \n",
    "        f1_test_all=[]; prec_all=[]; rec_all=[]; spec_all=[]; auprc_all=[]; auroc_train_all=[]; \n",
    "        auroc_all=[]; fpr_all=[]; tpr_all=[]; fi_all=[]\n",
    "\n",
    "        clf = m[0]; model_name = m[1]            \n",
    "        print('Training %s'%model_name)\n",
    "        s = 0\n",
    "        #LOSO CV for current classifier\n",
    "        for train_index, test_index in subj.split(X, y, groups):\n",
    "        #leave one in:\n",
    "            if LOin:\n",
    "                tridx = train_index.copy()\n",
    "                train_index = test_index.copy()\n",
    "                test_index = tridx\n",
    "            Xtr, Xte = X[train_index], X[test_index]\n",
    "            ytr, yte = y[train_index], y[test_index]\n",
    "            if len(np.unique(ytr))<2: #skip if no positive or negative examples are available for training\n",
    "                print('only 1 class available in train data - skipping')\n",
    "                continue\n",
    "            clf.fit(Xtr,ytr)\n",
    "            ypred = clf.predict(Xte)\n",
    "            yscore = clf.predict_proba(Xte)\n",
    "            yscore = yscore[:,1]\n",
    "            \n",
    "            #accuracy on train set\n",
    "            ypred_train = clf.predict(Xtr)\n",
    "            acc_train.append(sum(ypred_train==ytr)/len(ytr))\n",
    "            auroc_train = roc_auc_score(ytr,clf.predict_proba(Xtr)[:,1])\n",
    "            \n",
    "            #f1-score, prec, recall, specificity, auprc, auroc\n",
    "            f1_test_all.append(f1_score(yte,ypred))\n",
    "            precision, recall, _ = precision_recall_curve(yte,yscore)\n",
    "            auprc = auc(recall,precision)\n",
    "            if len(np.unique(yte))>1:\n",
    "                auroc = roc_auc_score(yte,yscore)\n",
    "            else:\n",
    "                print('only 1 class in test data - cannot compute roc curve')\n",
    "                auroc = np.nan\n",
    "            spec = sum((ypred==0) & (yte==0))/sum(yte==0)\n",
    "\n",
    "\n",
    "            prec_all.append(precision_score(yte,ypred))\n",
    "            rec_all.append(recall_score(yte,ypred))\n",
    "            auprc_all.append(auprc)\n",
    "            auroc_all.append(auroc)\n",
    "            auroc_train_all.append(auroc_train)\n",
    "            spec_all.append(spec)\n",
    "            \n",
    "            #the recall per task - TO BE COMPLETED\n",
    "            \n",
    "#             tasks=Data.iloc[test_index,:].Task\n",
    "#             for t in tasks.unique():\n",
    "#                 tasks\n",
    "            \n",
    "            #compute ROC points at fixed fpr (to plot error bars)\n",
    "            fpr=np.linspace(0,1,101); tpr=[]\n",
    "\n",
    "            if len(np.unique(yte))>1:                \n",
    "                nscores = np.sort(np.column_stack((yscore[yte==0],yte[yte==0])),axis=0)\n",
    "                neg_counts = sum(yte==0)\n",
    "                for f in fpr:\n",
    "                    ind = neg_counts-int(neg_counts*f)-1\n",
    "                    t = (nscores[ind])[0]\n",
    "                    if f==1:\n",
    "                        t = 0\n",
    "                    tpr_t = sum(yscore[yte==1]>t) / sum(yte==1)\n",
    "                    tpr.append(tpr_t) \n",
    "\n",
    "            fpr = np.asarray(fpr); tpr = np.asarray(tpr)\n",
    "            fpr_all.append(fpr); tpr_all.append(tpr)\n",
    "            \n",
    "            #store feature importance\n",
    "            if model_name != 'SVM':\n",
    "                fi_all.append(clf.feature_importances_)\n",
    "            \n",
    "            print('\\nSubj/Visit %d, prec=%.3f, rec=%.3f, Spec=%.3f, auroc_train=%.3f, auroc=%.3f'%(s,precision_score(yte,ypred),recall_score(yte,ypred),\n",
    "                                                                                 spec,auroc_train,auroc))\n",
    "            s+=1\n",
    "\n",
    "        print('f1_test=%.3f+/-%.3f, prec=%.3f+/-%.3f, rec=%.3f+/-%.3f, auprc=%.3f+/-%.3f, auroc=%.3f+/-%.3f'%(\n",
    "        np.nanmean(f1_test_all),np.nanstd(f1_test_all),\n",
    "        np.nanmean(prec_all),np.nanstd(prec_all), np.nanmean(rec_all),np.nanstd(rec_all),\n",
    "        np.nanmean(auprc_all),np.nanstd(auprc_all), np.nanmean(auroc_all),np.nanstd(auroc_all)))\n",
    "        \n",
    "        #group results for each model\n",
    "        groupres[model_name] = {'f1':f1_test_all, 'auprc':auprc_all, 'auroc':auroc_all, 'tpr':tpr_all, 'fpr':fpr_all, \n",
    "                                'rec':rec_all, 'spec':spec_all, 'fi':fi_all}\n",
    "        \n",
    "        #mean across groups for each model\n",
    "        r = pd.DataFrame({'model':model_name, 'f1':np.nanmean(f1_test_all), 'auprc':np.nanmean(auprc_all), 'auroc':np.nanmean(auroc_all)}\n",
    "                        ,index=[0])\n",
    "        results = pd.concat((results,r))\n",
    "        \n",
    "    return results,groupres \n",
    "    \n",
    "\n",
    "#train multiple classifiers using stratified kfold\n",
    "def trainmodel_Kfold(Xf,y,models,nfolds=5,balance=False):\n",
    "\n",
    "    scaler = StandardScaler()\n",
    "    f1_fold_clf=[]; auc_fold_clf=[]; cmats={}\n",
    "\n",
    "    skf = StratifiedKFold(n_splits=nfolds,shuffle=True,random_state=46)\n",
    "        \n",
    "    for clf,model_name in models:\n",
    "        f1_fold = []; f1_train_fold=[]; prec_fold=[]; rec_fold=[]; auprc_fold=[]\n",
    "\n",
    "        for train_idx,test_idx in skf.split(Xf,y):\n",
    "            Xtr = Xf[train_idx]\n",
    "            ytr = y[train_idx]\n",
    "            if balance:\n",
    "                #balance dataset\n",
    "                indsp = np.where(ytr==1)[0]\n",
    "                indsn = np.random.choice(np.where(ytr==0)[0],size=round(1*len(indsp)),replace=False)\n",
    "                inds = np.hstack((indsp,indsn))\n",
    "                Xtr = Xtr[inds]; ytr = ytr[inds]\n",
    "#             print(len(ytr[ytr==0])/len(ytr[ytr>0]))\n",
    "            Xte = Xf[test_idx]\n",
    "            yte = y[test_idx]\n",
    "            Xtr = scaler.fit_transform(Xtr)\n",
    "            Xte = scaler.transform(Xte)\n",
    "            clf.fit(Xtr,ytr)\n",
    "            ypred_train = clf.predict(Xtr)\n",
    "            ypred = clf.predict(Xte)\n",
    "            yscore = clf.predict_proba(Xte)\n",
    "            yscore = yscore[:,1]\n",
    "            \n",
    "            #accuracy on train and test set for current fold\n",
    "            precision, recall, _ = precision_recall_curve(yte,yscore)\n",
    "            \n",
    "            f1_train_fold.append(f1_score(ytr,ypred_train))\n",
    "            f1_fold.append(f1_score(yte,ypred))\n",
    "            prec_fold.append(precision_score(yte,ypred))\n",
    "            rec_fold.append(recall_score(yte,ypred))\n",
    "            auprc_fold.append(auc(recall,precision)\n",
    ")\n",
    "\n",
    "\n",
    "        #mean accuracy across folds\n",
    "        if balance:\n",
    "            print('Npos = %d, Nneg = %d'%(len(indsp),len(indsn)))\n",
    "            \n",
    "        print('%s'%model_name)\n",
    "        print('f1_train=%.3f+/-%.3f, f1_test=%.3f+/-%.3f, prec=%.3f+/-%.3f, rec=%.3f+/-%.3f, auprc=%.3f+/-%.3f'%(\n",
    "        np.nanmean(f1_train_fold),np.nanstd(f1_train_fold),\n",
    "        np.nanmean(f1_fold),np.nanstd(f1_fold),\n",
    "        np.nanmean(prec_fold),np.nanstd(prec_fold), np.nanmean(rec_fold),np.nanstd(rec_fold),\n",
    "        np.nanmean(auprc_fold),np.nanstd(auprc_fold)))\n",
    "        \n",
    "        cf_matrix = confusion_matrix(yte, ypred)\n",
    "        print(cf_matrix)\n",
    "        #store f1 and auc for each fold and clf\n",
    "        f1_fold_clf.append(f1_fold)\n",
    "        auc_fold_clf.append(auprc_fold)\n",
    "        #store cmat for each clf (on last fold)\n",
    "        cmats.update({model_name:cf_matrix})\n",
    "        \n",
    "    return f1_fold_clf, auc_fold_clf, cmats\n",
    "\n",
    "    \n",
    "    \n",
    "def plot_confusion_matrix(cm, classes,\n",
    "                          normalize=False,\n",
    "                          title=None,\n",
    "                          cmap=plt.cm.Blues):\n",
    "    \"\"\"\n",
    "    This function prints and plots the confusion matrix.\n",
    "    Normalization can be applied by setting `normalize=True`.\n",
    "    \"\"\"\n",
    "    if normalize:\n",
    "        cm = cm.astype('float') / cm.sum(axis=1)[:, np.newaxis]\n",
    "#     print(cm)\n",
    "\n",
    "    plt.imshow(cm, interpolation='nearest', cmap=cmap)\n",
    "    plt.title(title)\n",
    "    plt.colorbar()\n",
    "    tick_marks = np.arange(len(classes))\n",
    "    plt.xticks(tick_marks, classes, rotation=45)\n",
    "    plt.yticks(tick_marks, classes)\n",
    "\n",
    "    fmt = '.2f' if normalize else 'd'\n",
    "    thresh = cm.max() / 2.\n",
    "    for i, j in itertools.product(range(cm.shape[0]), range(cm.shape[1])):\n",
    "        plt.text(j, i, format(cm[i, j], fmt),\n",
    "                 horizontalalignment=\"center\",\n",
    "                 color=\"white\" if cm[i, j] > thresh else \"black\")\n",
    "\n",
    "    plt.tight_layout()\n",
    "    plt.ylabel('True label')\n",
    "    plt.xlabel('Predicted label')\n",
    "\n",
    "    \n",
    "\n",
    "def plot_roc(tpr_all,fpr,roc_auc,ax=None,plotname=None,col=None):\n",
    "    #plot mean ROC across subjects (need to add shaded conf interval)\n",
    "    tprmu = np.mean(np.asarray(tpr_all),axis=0)\n",
    "    tpr=np.asarray(tpr_all)\n",
    "    fpr=np.reshape(fpr,(1,-1))\n",
    "    tprmu=np.reshape(tprmu,(1,-1))\n",
    "    label=pd.Series(data = ['%s - AUC = %0.3f' % (plotname,roc_auc)]*len(fpr))\n",
    "    if plotname=='Threshold':\n",
    "        ls = '-'\n",
    "    else:\n",
    "        ls='-'\n",
    "    if ax == None:\n",
    "        ax = sns.tsplot(data=tpr,time=fpr,ci=95,condition=label,legend=True,color=col,lw=3,linestyle=ls)\n",
    "    else:\n",
    "        sns.tsplot(data=tpr,time=fpr,ci=95,condition=label, legend=True,ax=ax,color=col,lw=3,linestyle=ls)\n",
    "             \n",
    "    lw = 3\n",
    "    \n",
    "    ax.plot([0, 1], [0, 1], color='navy', lw=lw, linestyle='--')\n",
    "    ax.set_xlim([-0.05, 1.0])\n",
    "    ax.set_ylim([0.0, 1.05])\n",
    "    ax.set_xlabel('False Positive Rate',fontsize=16)\n",
    "    ax.set_ylabel('True Positive Rate',fontsize=16)\n",
    "    ax.legend(loc='lower right')\n",
    "    \n",
    "    return ax\n",
    "\n",
    "def LOSOCV_Tasks(Data,X,y,groups,tasks,clf):\n",
    "\n",
    "    subj = LeaveOneGroupOut() \n",
    "    results = pd.DataFrame(data=None,columns=['model','f1','auprc','auroc'])\n",
    "    groupres = {} #results on each group for each task subset\n",
    "\n",
    "\n",
    "    #train multiple classifiers\n",
    "    for T in tasks:\n",
    "        acc_all=[]; acc_train=[] \n",
    "        f1_test_all=[]; prec_all=[]; rec_all=[]; spec_all=[]; auprc_all=[]; auroc_train_all=[]; \n",
    "        auroc_all=[]; fpr_all=[]; tpr_all=[]; fi_all=[]\n",
    "          \n",
    "        s = 0\n",
    "        #LOSO CV for current classifier\n",
    "        for train_index, test_index in subj.split(X, y, groups):\n",
    "            task_inds = Data.Task.iloc[test_index]==T[0]\n",
    "            for Ti in T[1::]:\n",
    "                task_inds = task_inds | (Data.Task.iloc[test_index]==Ti)\n",
    "            test_index = test_index[task_inds]\n",
    "            Xtr, Xte = X[train_index], X[test_index]\n",
    "            ytr, yte = y[train_index], y[test_index]\n",
    "            if len(np.unique(ytr))<2: #skip if no positive or negative examples are available for training\n",
    "                print('only 1 class available in train data - skipping')\n",
    "                continue\n",
    "            clf.fit(Xtr,ytr)\n",
    "            ypred = clf.predict(Xte)\n",
    "            yscore = clf.predict_proba(Xte)\n",
    "            yscore = yscore[:,1]\n",
    "\n",
    "            #accuracy on train set\n",
    "            ypred_train = clf.predict(Xtr)\n",
    "            acc_train.append(sum(ypred_train==ytr)/len(ytr))\n",
    "            auroc_train = roc_auc_score(ytr,clf.predict_proba(Xtr)[:,1])\n",
    "\n",
    "            #f1-score, prec, recall, specificity, auprc, auroc\n",
    "            f1_test_all.append(f1_score(yte,ypred))\n",
    "            precision, recall, _ = precision_recall_curve(yte,yscore)\n",
    "            auprc = auc(recall,precision)\n",
    "            if len(np.unique(yte))>1:\n",
    "                auroc = roc_auc_score(yte,yscore)\n",
    "            else:\n",
    "                print('only 1 class in test data - cannot compute roc curve')\n",
    "                auroc = np.nan\n",
    "            spec = sum((ypred==0) & (yte==0))/sum(yte==0)\n",
    "\n",
    "\n",
    "            prec_all.append(precision_score(yte,ypred))\n",
    "            rec_all.append(recall_score(yte,ypred))\n",
    "            auprc_all.append(auprc)\n",
    "            auroc_all.append(auroc)\n",
    "            auroc_train_all.append(auroc_train)\n",
    "            spec_all.append(spec)\n",
    "\n",
    "            #the recall per task - TO BE COMPLETED\n",
    "\n",
    "#             tasks=Data.iloc[test_index,:].Task\n",
    "#             for t in tasks.unique():\n",
    "#                 tasks\n",
    "\n",
    "            #compute ROC points at fixed fpr (to plot error bars)\n",
    "            fpr=np.linspace(0,1,101); tpr=[]\n",
    "\n",
    "            if len(np.unique(yte))>1:                \n",
    "                nscores = np.sort(np.column_stack((yscore[yte==0],yte[yte==0])),axis=0)\n",
    "                neg_counts = sum(yte==0)\n",
    "                for f in fpr:\n",
    "                    ind = neg_counts-int(neg_counts*f)-1\n",
    "                    t = (nscores[ind])[0]\n",
    "                    if f==1:\n",
    "                        t = 0\n",
    "                    tpr_t = sum(yscore[yte==1]>t) / sum(yte==1)\n",
    "                    tpr.append(tpr_t) \n",
    "\n",
    "            fpr = np.asarray(fpr); tpr = np.asarray(tpr)\n",
    "            fpr_all.append(fpr); tpr_all.append(tpr)\n",
    "\n",
    "            #store feature importance\n",
    "            if model_name != 'SVM':\n",
    "                fi_all.append(clf.feature_importances_)\n",
    "\n",
    "            s+=1\n",
    "\n",
    "        #group results for each model\n",
    "        groupres[tuple(T)] = {'f1':f1_test_all, 'auprc':auprc_all, 'auroc':auroc_all, 'tpr':tpr_all, 'fpr':fpr_all, \n",
    "                                'rec':rec_all, 'spec':spec_all, 'fi':fi_all}\n",
    "\n",
    "        #mean across groups for each model\n",
    "        r = pd.DataFrame({'model':model_name, 'f1':np.nanmean(f1_test_all), 'auprc':np.nanmean(auprc_all), 'auroc':np.nanmean(auroc_all)}\n",
    "                        ,index=[0])\n",
    "        results = pd.concat((results,r))\n",
    "        \n",
    "    return results,groupres \n",
    "    "
   ]
  },
  {
   "cell_type": "code",
   "execution_count": 3,
   "metadata": {},
   "outputs": [],
   "source": [
    "from sklearn.model_selection import LeaveOneGroupOut\n",
    "from sklearn import preprocessing\n",
    "from sklearn import neighbors, linear_model\n",
    "from sklearn.ensemble import RandomForestClassifier, AdaBoostClassifier, GradientBoostingClassifier, ExtraTreesClassifier\n",
    "from sklearn.svm import SVC\n",
    "from sklearn.neighbors import KNeighborsClassifier\n",
    "from sklearn.model_selection import KFold, StratifiedKFold, cross_val_score\n",
    "from sklearn.model_selection import GridSearchCV\n",
    "from sklearn import metrics\n",
    "from sklearn.linear_model import ElasticNetCV, LogisticRegression\n",
    "from sklearn.metrics import roc_curve, auc, roc_auc_score\n",
    "from sklearn.metrics import confusion_matrix"
   ]
  },
  {
   "cell_type": "code",
   "execution_count": 4,
   "metadata": {},
   "outputs": [],
   "source": [
    "path = r'D:\\CIS-PD Study\\Subjects' #Windows remote path\n",
    "folder_path = r'D:\\CIS-PD Study' #generic Windows repo path\n",
    "dict_path = 'D:\\CIS-PD Study\\Data_dict'\n",
    "scores_path = r'D:\\CIS-PD Study\\Scores' #remote repo\n",
    "features_path = r'D:\\CIS-PD Study\\FeatureMatrix' #remote repo\n",
    "results_path = r'C:\\Users\\andre\\Documents\\GitHub\\CIS_PD\\Results' #results folder\n",
    "\n",
    "# path = '/Volumes/RTO/CIS-PD Study/Subjects/' #Mac\n",
    "# folder_path = '/Volumes/RTO/CIS-PD Study/'\n",
    "# dict_path = '../Data_dict' # Mac local path\n",
    "# scores_path = '../Scores/' # Mac local path\n",
    "# features_path = '../FeatureMatrix' # Mac local path\n",
    "# results_path = '../Results' # Mac local path\n",
    "\n",
    "# # #---------------------------------------------------------------------------------------------------------\n",
    "# # # Set path to folder containing Subject ID numbers\n",
    "# # # path = '/Volumes/RTO/CIS-PD Study/Subjects/' #Mac\n",
    "# path = r'Y:\\CIS-PD Study\\Subjects' #Windows local path adai\n",
    "# # #---------------------------------------------------------------------------------------------------------\n",
    "# # #Path where dictionary subject data is stored\n",
    "# dict_path = 'Y:\\CIS-PD Study\\Data_dict' #remote repo\n",
    "# # # dict_path = '../Data_dict' #local path\n",
    "# # # dict_path = r'C:\\Users\\adai\\Documents\\Data_dict' #Windows local path adai\n",
    "\n",
    "# scores_path = r'Y:\\CIS-PD Study\\Scores' #remote repo\n",
    "# # # scores_path = '../Scores/' #local path\n",
    "\n",
    "# # #path where feature matrix is saved\n",
    "# # # features_path = '../FeatureMatrix' #local\n",
    "# features_path = 'Y:\\CIS-PD Study\\FeatureMatrix'"
   ]
  },
  {
   "cell_type": "markdown",
   "metadata": {},
   "source": [
    "## Load unpacked features data"
   ]
  },
  {
   "cell_type": "code",
   "execution_count": 5,
   "metadata": {},
   "outputs": [
    {
     "name": "stdout",
     "output_type": "stream",
     "text": [
      "(42100, 81)\n"
     ]
    }
   ],
   "source": [
    "# filename = 'Features_AllLocsHP+LP_Hand.pkl' #bradykinesia\n",
    "filename = 'Features_AllLocsHP_Hand.pkl'\n",
    "Data = pickle.load(open(os.path.join(features_path,filename),'rb'))\n",
    "Data = Data.reset_index(drop=True)\n",
    "print(Data.shape)"
   ]
  },
  {
   "cell_type": "code",
   "execution_count": 6,
   "metadata": {},
   "outputs": [
    {
     "data": {
      "text/html": [
       "<div>\n",
       "<style scoped>\n",
       "    .dataframe tbody tr th:only-of-type {\n",
       "        vertical-align: middle;\n",
       "    }\n",
       "\n",
       "    .dataframe tbody tr th {\n",
       "        vertical-align: top;\n",
       "    }\n",
       "\n",
       "    .dataframe thead th {\n",
       "        text-align: right;\n",
       "    }\n",
       "</style>\n",
       "<table border=\"1\" class=\"dataframe\">\n",
       "  <thead>\n",
       "    <tr style=\"text-align: right;\">\n",
       "      <th></th>\n",
       "      <th>Subject</th>\n",
       "      <th>Visit</th>\n",
       "      <th>Side</th>\n",
       "      <th>Task</th>\n",
       "      <th>Tremor</th>\n",
       "      <th>Bradykinesia</th>\n",
       "      <th>Dyskinesia</th>\n",
       "      <th>RMSXacc</th>\n",
       "      <th>RMSYacc</th>\n",
       "      <th>RMSZacc</th>\n",
       "      <th>...</th>\n",
       "      <th>PSD_stdgyr</th>\n",
       "      <th>PSD_skewgyr</th>\n",
       "      <th>PSD_kurgyr</th>\n",
       "      <th>jerk_meangyr</th>\n",
       "      <th>jerk_stdgyr</th>\n",
       "      <th>jerk_skewgyr</th>\n",
       "      <th>jerk_kurgyr</th>\n",
       "      <th>Sen_Xgyr</th>\n",
       "      <th>Sen_Ygyr</th>\n",
       "      <th>Sen_Zgyr</th>\n",
       "    </tr>\n",
       "  </thead>\n",
       "  <tbody>\n",
       "    <tr>\n",
       "      <th>0</th>\n",
       "      <td>1004</td>\n",
       "      <td>2 Weeks: Time 0</td>\n",
       "      <td>left</td>\n",
       "      <td>Motor #2: Walking</td>\n",
       "      <td>0.0</td>\n",
       "      <td>1.0</td>\n",
       "      <td>0.0</td>\n",
       "      <td>0.008648</td>\n",
       "      <td>0.010949</td>\n",
       "      <td>0.007293</td>\n",
       "      <td>...</td>\n",
       "      <td>333.369231</td>\n",
       "      <td>3.587466</td>\n",
       "      <td>15.204802</td>\n",
       "      <td>0.114246</td>\n",
       "      <td>10.726893</td>\n",
       "      <td>0.176444</td>\n",
       "      <td>-0.009173</td>\n",
       "      <td>0.416625</td>\n",
       "      <td>0.571324</td>\n",
       "      <td>0.438326</td>\n",
       "    </tr>\n",
       "    <tr>\n",
       "      <th>1</th>\n",
       "      <td>1004</td>\n",
       "      <td>2 Weeks: Time 0</td>\n",
       "      <td>left</td>\n",
       "      <td>Motor #2: Walking</td>\n",
       "      <td>0.0</td>\n",
       "      <td>1.0</td>\n",
       "      <td>0.0</td>\n",
       "      <td>0.008127</td>\n",
       "      <td>0.010331</td>\n",
       "      <td>0.007008</td>\n",
       "      <td>...</td>\n",
       "      <td>511.580241</td>\n",
       "      <td>4.261274</td>\n",
       "      <td>17.609498</td>\n",
       "      <td>-0.173831</td>\n",
       "      <td>10.278264</td>\n",
       "      <td>0.551148</td>\n",
       "      <td>0.059904</td>\n",
       "      <td>0.321724</td>\n",
       "      <td>0.525199</td>\n",
       "      <td>0.307797</td>\n",
       "    </tr>\n",
       "  </tbody>\n",
       "</table>\n",
       "<p>2 rows × 81 columns</p>\n",
       "</div>"
      ],
      "text/plain": [
       "   Subject            Visit  Side               Task  Tremor  Bradykinesia  \\\n",
       "0     1004  2 Weeks: Time 0  left  Motor #2: Walking     0.0           1.0   \n",
       "1     1004  2 Weeks: Time 0  left  Motor #2: Walking     0.0           1.0   \n",
       "\n",
       "   Dyskinesia   RMSXacc   RMSYacc   RMSZacc    ...     PSD_stdgyr  \\\n",
       "0         0.0  0.008648  0.010949  0.007293    ...     333.369231   \n",
       "1         0.0  0.008127  0.010331  0.007008    ...     511.580241   \n",
       "\n",
       "   PSD_skewgyr  PSD_kurgyr  jerk_meangyr  jerk_stdgyr  jerk_skewgyr  \\\n",
       "0     3.587466   15.204802      0.114246    10.726893      0.176444   \n",
       "1     4.261274   17.609498     -0.173831    10.278264      0.551148   \n",
       "\n",
       "   jerk_kurgyr  Sen_Xgyr  Sen_Ygyr  Sen_Zgyr  \n",
       "0    -0.009173  0.416625  0.571324  0.438326  \n",
       "1     0.059904  0.321724  0.525199  0.307797  \n",
       "\n",
       "[2 rows x 81 columns]"
      ]
     },
     "execution_count": 6,
     "metadata": {},
     "output_type": "execute_result"
    }
   ],
   "source": [
    "Data.head(2)"
   ]
  },
  {
   "cell_type": "code",
   "execution_count": 7,
   "metadata": {},
   "outputs": [],
   "source": [
    "#drop features \n",
    "Data=Data.drop(labels=['RMSXacc','RMSYacc','RMSZacc'],axis=1)    #equivalent to variance if mean 0\n",
    "Data=Data.drop(labels=['meanXacc','meanYacc','meanZacc'],axis=1) #if signal is mean 0 this feature is useless\n",
    "Data=Data.drop(labels=['varXacc','varYacc','varZacc'],axis=1) #range is strongly correlated with variance\n",
    "Data=Data.drop(labels=['RMSXgyr','RMSYgyr','RMSZgyr'],axis=1)    #equivalent to variance if mean 0\n",
    "Data=Data.drop(labels=['meanXgyr','meanYgyr','meanZgyr'],axis=1) #if signal is mean 0 this feature is useless\n",
    "Data=Data.drop(labels=['varXgyr','varYgyr','varZgyr'],axis=1) #range is strongly correlated with variance"
   ]
  },
  {
   "cell_type": "code",
   "execution_count": 8,
   "metadata": {},
   "outputs": [],
   "source": [
    "# #drop features \n",
    "# Data=Data.drop(labels=['RMSXacc_dorsal_hand_','RMSYacc_dorsal_hand_','RMSZacc_dorsal_hand_'],axis=1)    #equivalent to variance if mean 0\n",
    "# Data=Data.drop(labels=['meanXacc_dorsal_hand_','meanYacc_dorsal_hand_','meanZacc_dorsal_hand_'],axis=1) #if signal is mean 0 this feature is useless\n",
    "# Data=Data.drop(labels=['varXacc_dorsal_hand_','varYacc_dorsal_hand_','varZacc_dorsal_hand_'],axis=1) #range is strongly correlated with variance\n",
    "# Data=Data.drop(labels=['RMSXgyr_dorsal_hand_','RMSYgyr_dorsal_hand_','RMSZgyr_dorsal_hand_'],axis=1)    #equivalent to variance if mean 0\n",
    "# Data=Data.drop(labels=['meanXgyr_dorsal_hand_','meanYgyr_dorsal_hand_','meanZgyr_dorsal_hand_'],axis=1) #if signal is mean 0 this feature is useless\n",
    "# Data=Data.drop(labels=['varXgyr_dorsal_hand_','varYgyr_dorsal_hand_','varZgyr_dorsal_hand_'],axis=1) #range is strongly correlated with variance"
   ]
  },
  {
   "cell_type": "code",
   "execution_count": 9,
   "metadata": {},
   "outputs": [],
   "source": [
    "Data=Data[Data.Subject!=1020] #remove subj does not have visits 1-5"
   ]
  },
  {
   "cell_type": "code",
   "execution_count": 10,
   "metadata": {},
   "outputs": [
    {
     "data": {
      "text/plain": [
       "(40377, 63)"
      ]
     },
     "execution_count": 10,
     "metadata": {},
     "output_type": "execute_result"
    }
   ],
   "source": [
    "Dataorig = Data.copy()\n",
    "Data.shape"
   ]
  },
  {
   "cell_type": "code",
   "execution_count": 11,
   "metadata": {},
   "outputs": [
    {
     "data": {
      "text/plain": [
       "array(['Motor #2: Walking', 'Motor #3: Walking while Counting',\n",
       "       'Motor #4: Finger to Nose', 'Motor #5: Alternating Hand Movements',\n",
       "       'Motor #6: Sit to Stand', 'Motor #7: Drawing on Paper',\n",
       "       'Motor #8: Typing on a Computer', 'Motor #9: Nuts and Bolts',\n",
       "       'Motor #10: Drinking Water', 'Motor #11: Organizing Folder',\n",
       "       'Motor #12: Folding Towels', 'Motor #1: Standing',\n",
       "       'Motor #13: Sitting'], dtype=object)"
      ]
     },
     "execution_count": 11,
     "metadata": {},
     "output_type": "execute_result"
    }
   ],
   "source": [
    "Data.Task.unique()"
   ]
  },
  {
   "cell_type": "markdown",
   "metadata": {},
   "source": [
    "## LOSO CV - ALL TASKS"
   ]
  },
  {
   "cell_type": "markdown",
   "metadata": {},
   "source": [
    "## Bradykinesia"
   ]
  },
  {
   "cell_type": "code",
   "execution_count": 13,
   "metadata": {},
   "outputs": [],
   "source": [
    "# #amount of data per subject\n",
    "# subjdata=[]\n",
    "# for s in Data.Subject.unique():\n",
    "# #     print(s,len(Data[Data.Subject==s]))\n",
    "#     subjdata.append(len(Data[Data.Subject==s]))\n",
    "    \n",
    "# sns.barplot(Data.Subject.unique(),subjdata)\n",
    "# ax=plt.xticks(rotation=90)"
   ]
  },
  {
   "cell_type": "code",
   "execution_count": 17,
   "metadata": {},
   "outputs": [],
   "source": [
    "Dataorig = Data.copy()"
   ]
  },
  {
   "cell_type": "code",
   "execution_count": 18,
   "metadata": {},
   "outputs": [
    {
     "ename": "NameError",
     "evalue": "name 'symptom' is not defined",
     "output_type": "error",
     "traceback": [
      "\u001b[1;31m---------------------------------------------------------------------------\u001b[0m",
      "\u001b[1;31mNameError\u001b[0m                                 Traceback (most recent call last)",
      "\u001b[1;32m<ipython-input-18-3035a563e21a>\u001b[0m in \u001b[0;36m<module>\u001b[1;34m()\u001b[0m\n\u001b[1;32m----> 1\u001b[1;33m \u001b[0mDataorig\u001b[0m\u001b[1;33m[\u001b[0m\u001b[0msymptom\u001b[0m\u001b[1;33m]\u001b[0m\u001b[1;33m.\u001b[0m\u001b[0munique\u001b[0m\u001b[1;33m(\u001b[0m\u001b[1;33m)\u001b[0m\u001b[1;33m\u001b[0m\u001b[0m\n\u001b[0m",
      "\u001b[1;31mNameError\u001b[0m: name 'symptom' is not defined"
     ]
    }
   ],
   "source": [
    "Dataorig[symptom].unique()"
   ]
  },
  {
   "cell_type": "code",
   "execution_count": 13,
   "metadata": {},
   "outputs": [
    {
     "ename": "NameError",
     "evalue": "name 'symptom' is not defined",
     "output_type": "error",
     "traceback": [
      "\u001b[1;31m---------------------------------------------------------------------------\u001b[0m",
      "\u001b[1;31mNameError\u001b[0m                                 Traceback (most recent call last)",
      "\u001b[1;32m<ipython-input-13-6e1cfeac6551>\u001b[0m in \u001b[0;36m<module>\u001b[1;34m()\u001b[0m\n\u001b[1;32m----> 1\u001b[1;33m \u001b[0mData\u001b[0m\u001b[1;33m[\u001b[0m\u001b[0msymptom\u001b[0m\u001b[1;33m]\u001b[0m\u001b[1;33m.\u001b[0m\u001b[0munique\u001b[0m\u001b[1;33m(\u001b[0m\u001b[1;33m)\u001b[0m\u001b[1;33m\u001b[0m\u001b[0m\n\u001b[0m",
      "\u001b[1;31mNameError\u001b[0m: name 'symptom' is not defined"
     ]
    }
   ],
   "source": [
    "Data[symptom].unique()"
   ]
  },
  {
   "cell_type": "code",
   "execution_count": 19,
   "metadata": {
    "scrolled": true
   },
   "outputs": [
    {
     "name": "stderr",
     "output_type": "stream",
     "text": [
      "C:\\Users\\andre\\Anaconda3\\lib\\site-packages\\ipykernel_launcher.py:13: FutureWarning: Method .as_matrix will be removed in a future version. Use .values instead.\n",
      "  del sys.path[0]\n",
      "C:\\Users\\andre\\Anaconda3\\lib\\site-packages\\ipykernel_launcher.py:26: FutureWarning: Method .as_matrix will be removed in a future version. Use .values instead.\n"
     ]
    },
    {
     "name": "stdout",
     "output_type": "stream",
     "text": [
      "Rows w Bradykinesia 16574/32368 = 0.51\n",
      "Training Random Forest\n",
      "\n",
      "Subj/Visit 0, prec=0.544, rec=0.570, Spec=0.761, auroc_train=1.000, auroc=0.732\n",
      "\n",
      "Subj/Visit 1, prec=0.952, rec=0.760, Spec=0.589, auroc_train=1.000, auroc=0.765\n",
      "\n",
      "Subj/Visit 2, prec=0.775, rec=0.754, Spec=0.712, auroc_train=1.000, auroc=0.797\n",
      "\n",
      "Subj/Visit 3, prec=0.476, rec=0.942, Spec=0.586, auroc_train=1.000, auroc=0.855\n",
      "\n",
      "Subj/Visit 4, prec=0.791, rec=0.611, Spec=0.730, auroc_train=1.000, auroc=0.749\n",
      "\n",
      "Subj/Visit 5, prec=0.620, rec=0.653, Spec=0.428, auroc_train=1.000, auroc=0.550\n",
      "\n",
      "Subj/Visit 6, prec=0.642, rec=0.796, Spec=0.585, auroc_train=1.000, auroc=0.784\n",
      "\n",
      "Subj/Visit 7, prec=0.872, rec=0.666, Spec=0.396, auroc_train=1.000, auroc=0.549\n",
      "\n",
      "Subj/Visit 8, prec=0.332, rec=0.585, Spec=0.544, auroc_train=1.000, auroc=0.584\n",
      "\n",
      "Subj/Visit 9, prec=0.657, rec=0.817, Spec=0.582, auroc_train=1.000, auroc=0.777\n",
      "\n",
      "Subj/Visit 10, prec=0.595, rec=0.547, Spec=0.732, auroc_train=1.000, auroc=0.709\n",
      "\n",
      "Subj/Visit 11, prec=0.291, rec=0.780, Spec=0.761, auroc_train=1.000, auroc=0.852\n",
      "\n",
      "Subj/Visit 12, prec=0.578, rec=0.606, Spec=0.480, auroc_train=1.000, auroc=0.554\n",
      "\n",
      "Subj/Visit 13, prec=0.243, rec=0.565, Spec=0.664, auroc_train=1.000, auroc=0.680\n",
      "\n",
      "Subj/Visit 14, prec=0.806, rec=0.642, Spec=0.807, auroc_train=1.000, auroc=0.804\n",
      "\n",
      "Subj/Visit 15, prec=0.351, rec=0.735, Spec=0.641, auroc_train=1.000, auroc=0.751\n",
      "\n",
      "Subj/Visit 16, prec=0.784, rec=0.676, Spec=0.798, auroc_train=1.000, auroc=0.816\n",
      "\n",
      "Subj/Visit 17, prec=0.625, rec=0.652, Spec=0.604, auroc_train=1.000, auroc=0.674\n",
      "\n",
      "Subj/Visit 18, prec=0.928, rec=0.487, Spec=0.657, auroc_train=1.000, auroc=0.604\n",
      "f1_test=0.624+/-0.130, prec=0.624+/-0.208, rec=0.676+/-0.109, auprc=0.671+/-0.188, auroc=0.715+/-0.100\n",
      "Elapsed time = 3.586 min\n"
     ]
    }
   ],
   "source": [
    "t1=time.time()\n",
    "res_all = pd.DataFrame()\n",
    "\n",
    "Data=Data.reset_index(drop=True) #reset index\n",
    "\n",
    "for symptom in ['Bradykinesia']:\n",
    "    \n",
    "    #remove nan rows for current symptom\n",
    "    Data = Dataorig.copy() #original unmodified dataframe\n",
    "    Data=Data[~Data[symptom].isnull()]\n",
    "    Data=Data.reset_index(drop=True) #reset index\n",
    "    \n",
    "    X = Data.iloc[:,7:].as_matrix()\n",
    "    # X = StandardScaler().fit_transform(X)\n",
    "    fnames = Data.iloc[:,7:].columns.values\n",
    "\n",
    "    indp = ((Data[symptom]>0))\n",
    "    indp = indp.values\n",
    "    y = indp.astype(int) #target \n",
    "    print('Rows w %s %d/%d = %.2f'%(symptom,sum(indp),len(indp),(sum(indp)/len(indp))))\n",
    "\n",
    "    models = [RandomForestClassifier(n_estimators=50,random_state=2)]          \n",
    "#           XGBClassifier()]\n",
    "    model_name = ['Random Forest']#,'XGB']\n",
    "    models = list(zip(models,model_name))\n",
    "    groups = Data.Subject.as_matrix()\n",
    "\n",
    "    res,res_group = LOSOCV(Data,X,y,groups,models)\n",
    "    res_all = pd.concat((res_all,res))\n",
    "    \n",
    "print('Elapsed time = %.3f min'%((time.time()-t1)/60))    "
   ]
  },
  {
   "cell_type": "code",
   "execution_count": 20,
   "metadata": {},
   "outputs": [],
   "source": [
    "resultsbrady = res_group['Random Forest']['auroc']"
   ]
  },
  {
   "cell_type": "code",
   "execution_count": 21,
   "metadata": {},
   "outputs": [],
   "source": [
    "np.save(os.path.join(results_path,'resultsbradyLOSO.npy'),resultsbrady)"
   ]
  },
  {
   "cell_type": "code",
   "execution_count": 22,
   "metadata": {},
   "outputs": [
    {
     "data": {
      "text/plain": [
       "array([1004, 1016, 1018, 1019, 1024, 1029, 1030, 1032, 1038, 1044, 1046,\n",
       "       1047, 1049, 1051, 1052, 1053, 1054, 1055, 1056], dtype=int64)"
      ]
     },
     "execution_count": 22,
     "metadata": {},
     "output_type": "execute_result"
    }
   ],
   "source": [
    "np.unique(groups)"
   ]
  },
  {
   "cell_type": "markdown",
   "metadata": {},
   "source": [
    "Removing nans"
   ]
  },
  {
   "cell_type": "code",
   "execution_count": 23,
   "metadata": {
    "scrolled": true
   },
   "outputs": [
    {
     "data": {
      "text/plain": [
       "Text(0.5,1,'LOSO - Mean AUROC = 0.715 +/- 0.100')"
      ]
     },
     "execution_count": 23,
     "metadata": {},
     "output_type": "execute_result"
    },
    {
     "data": {
      "image/png": "[encoded data removed]",
      "text/plain": [
       "<Figure size 432x288 with 1 Axes>"
      ]
     },
     "metadata": {},
     "output_type": "display_data"
    }
   ],
   "source": [
    "aurocall = res_group['Random Forest']['auroc']\n",
    "sns.barplot(np.unique(groups),aurocall) #to show subj codes\n",
    "ax=plt.xticks(rotation=90)\n",
    "# sns.barplot(np.arange(len(aurocall)),aurocall) #to show subj codes\n",
    "plt.ylim([0.45,1.])\n",
    "plt.title('LOSO - Mean AUROC = %.3f +/- %.3f'%(np.nanmean(aurocall),np.nanstd(aurocall)))"
   ]
  },
  {
   "cell_type": "code",
   "execution_count": 24,
   "metadata": {},
   "outputs": [
    {
     "name": "stderr",
     "output_type": "stream",
     "text": [
      "C:\\Users\\andre\\Anaconda3\\lib\\site-packages\\seaborn\\timeseries.py:183: UserWarning: The tsplot function is deprecated and will be removed or replaced (in a substantially altered version) in a future release.\n",
      "  warnings.warn(msg, UserWarning)\n"
     ]
    },
    {
     "data": {
      "text/plain": [
       "<matplotlib.axes._subplots.AxesSubplot at 0x25d67638f60>"
      ]
     },
     "execution_count": 24,
     "metadata": {},
     "output_type": "execute_result"
    },
    {
     "data": {
      "image/png": "[encoded data removed]",
      "text/plain": [
       "<Figure size 432x288 with 1 Axes>"
      ]
     },
     "metadata": {},
     "output_type": "display_data"
    }
   ],
   "source": [
    "plot_roc(res_group['Random Forest']['tpr'],res_group['Random Forest']['fpr'][0],np.mean(res_group['Random Forest']['auroc']))"
   ]
  },
  {
   "cell_type": "markdown",
   "metadata": {},
   "source": [
    "### Tremor"
   ]
  },
  {
   "cell_type": "code",
   "execution_count": 12,
   "metadata": {
    "scrolled": false
   },
   "outputs": [
    {
     "name": "stderr",
     "output_type": "stream",
     "text": [
      "C:\\Users\\andre\\Anaconda3\\lib\\site-packages\\ipykernel_launcher.py:13: FutureWarning: Method .as_matrix will be removed in a future version. Use .values instead.\n",
      "  del sys.path[0]\n",
      "C:\\Users\\andre\\Anaconda3\\lib\\site-packages\\ipykernel_launcher.py:26: FutureWarning: Method .as_matrix will be removed in a future version. Use .values instead.\n"
     ]
    },
    {
     "name": "stdout",
     "output_type": "stream",
     "text": [
      "Rows w Tremor 8879/38405 = 0.23\n",
      "Training Random Forest\n",
      "\n",
      "Subj/Visit 0, prec=0.366, rec=0.340, Spec=0.936, auroc_train=1.000, auroc=0.818\n",
      "\n",
      "Subj/Visit 1, prec=0.748, rec=0.107, Spec=0.970, auroc_train=1.000, auroc=0.762\n",
      "\n",
      "Subj/Visit 2, prec=0.632, rec=0.321, Spec=0.981, auroc_train=1.000, auroc=0.824\n",
      "\n",
      "Subj/Visit 3, prec=0.156, rec=0.355, Spec=0.911, auroc_train=1.000, auroc=0.720\n",
      "\n",
      "Subj/Visit 4, prec=0.511, rec=0.080, Spec=0.973, auroc_train=1.000, auroc=0.675\n",
      "\n",
      "Subj/Visit 5, prec=0.681, rec=0.376, Spec=0.883, auroc_train=1.000, auroc=0.742\n",
      "\n",
      "Subj/Visit 6, prec=0.824, rec=0.455, Spec=0.994, auroc_train=1.000, auroc=0.915\n",
      "\n",
      "Subj/Visit 7, prec=0.611, rec=0.317, Spec=0.992, auroc_train=1.000, auroc=0.912\n",
      "\n",
      "Subj/Visit 8, prec=0.953, rec=0.302, Spec=0.981, auroc_train=1.000, auroc=0.785\n",
      "\n",
      "Subj/Visit 9, prec=0.181, rec=0.338, Spec=0.942, auroc_train=1.000, auroc=0.897\n",
      "\n",
      "Subj/Visit 10, prec=0.612, rec=0.234, Spec=0.962, auroc_train=1.000, auroc=0.710\n",
      "\n",
      "Subj/Visit 11, prec=0.000, rec=0.000, Spec=0.991, auroc_train=1.000, auroc=0.707\n",
      "\n",
      "Subj/Visit 12, prec=0.733, rec=0.529, Spec=0.855, auroc_train=1.000, auroc=0.801\n",
      "\n",
      "Subj/Visit 13, prec=0.028, rec=0.333, Spec=0.964, auroc_train=1.000, auroc=0.872\n",
      "\n",
      "Subj/Visit 14, prec=0.182, rec=0.161, Spec=0.945, auroc_train=1.000, auroc=0.715\n"
     ]
    },
    {
     "name": "stderr",
     "output_type": "stream",
     "text": [
      "C:\\Users\\andre\\Anaconda3\\lib\\site-packages\\sklearn\\metrics\\classification.py:1137: UndefinedMetricWarning: F-score is ill-defined and being set to 0.0 due to no true samples.\n",
      "  'recall', 'true', average, warn_for)\n",
      "C:\\Users\\andre\\Anaconda3\\lib\\site-packages\\sklearn\\metrics\\ranking.py:444: RuntimeWarning: invalid value encountered in true_divide\n",
      "  recall = tps / tps[-1]\n",
      "C:\\Users\\andre\\Anaconda3\\lib\\site-packages\\sklearn\\metrics\\ranking.py:94: RuntimeWarning: invalid value encountered in less\n",
      "  if np.any(dx < 0):\n",
      "C:\\Users\\andre\\Anaconda3\\lib\\site-packages\\sklearn\\metrics\\classification.py:1137: UndefinedMetricWarning: Recall is ill-defined and being set to 0.0 due to no true samples.\n",
      "  'recall', 'true', average, warn_for)\n",
      "C:\\Users\\andre\\Anaconda3\\lib\\site-packages\\sklearn\\metrics\\classification.py:1137: UndefinedMetricWarning: Recall is ill-defined and being set to 0.0 due to no true samples.\n",
      "  'recall', 'true', average, warn_for)\n"
     ]
    },
    {
     "name": "stdout",
     "output_type": "stream",
     "text": [
      "only 1 class in test data - cannot compute roc curve\n",
      "\n",
      "Subj/Visit 15, prec=0.000, rec=0.000, Spec=0.973, auroc_train=1.000, auroc=nan\n",
      "\n",
      "Subj/Visit 16, prec=0.048, rec=0.250, Spec=0.966, auroc_train=1.000, auroc=0.911\n",
      "\n",
      "Subj/Visit 17, prec=0.939, rec=0.155, Spec=0.956, auroc_train=1.000, auroc=0.600\n",
      "\n",
      "Subj/Visit 18, prec=0.925, rec=0.334, Spec=0.919, auroc_train=1.000, auroc=0.703\n",
      "f1_test=0.290+/-0.187, prec=0.481+/-0.335, rec=0.263+/-0.141, auprc=0.442+/-0.293, auroc=0.782+/-0.091\n",
      "Elapsed time = 3.999 min\n"
     ]
    }
   ],
   "source": [
    "t1=time.time()\n",
    "res_all = pd.DataFrame()\n",
    "\n",
    "Data=Data.reset_index(drop=True) #reset index\n",
    "\n",
    "for symptom in ['Tremor']:\n",
    "    \n",
    "    #remove nan rows for current symptom\n",
    "    Data = Dataorig.copy() #original unmodified dataframe\n",
    "    Data=Data[~Data[symptom].isnull()]\n",
    "    Data=Data.reset_index(drop=True) #reset index\n",
    "    \n",
    "    X = Data.iloc[:,7:].as_matrix()\n",
    "    # X = StandardScaler().fit_transform(X)\n",
    "    fnames = Data.iloc[:,7:].columns.values\n",
    "\n",
    "    indp = ((Data[symptom]>0))\n",
    "    indp = indp.values\n",
    "    y = indp.astype(int) #target \n",
    "    print('Rows w %s %d/%d = %.2f'%(symptom,sum(indp),len(indp),(sum(indp)/len(indp))))\n",
    "\n",
    "    models = [RandomForestClassifier(n_estimators=50,random_state=2)]          \n",
    "#           XGBClassifier()]\n",
    "    model_name = ['Random Forest']#,'XGB']\n",
    "    models = list(zip(models,model_name))\n",
    "    groups = Data.Subject.as_matrix()\n",
    "\n",
    "    res,res_group = LOSOCV(Data,X,y,groups,models)\n",
    "    res_all = pd.concat((res_all,res))\n",
    "    \n",
    "print('Elapsed time = %.3f min'%((time.time()-t1)/60))    "
   ]
  },
  {
   "cell_type": "code",
   "execution_count": 13,
   "metadata": {},
   "outputs": [],
   "source": [
    "resultstremor = res_group['Random Forest']['auroc']"
   ]
  },
  {
   "cell_type": "code",
   "execution_count": 14,
   "metadata": {},
   "outputs": [],
   "source": [
    "np.save(os.path.join(results_path,'resultstremorLOSO.npy'),resultstremor)"
   ]
  },
  {
   "cell_type": "markdown",
   "metadata": {},
   "source": [
    "Removing nans"
   ]
  },
  {
   "cell_type": "code",
   "execution_count": 15,
   "metadata": {},
   "outputs": [
    {
     "data": {
      "text/plain": [
       "Text(0.5,1,'LOSO - Mean AUROC = 0.782 +/- 0.091')"
      ]
     },
     "execution_count": 15,
     "metadata": {},
     "output_type": "execute_result"
    },
    {
     "data": {
      "image/png": "[encoded data removed]",
      "text/plain": [
       "<Figure size 432x288 with 1 Axes>"
      ]
     },
     "metadata": {},
     "output_type": "display_data"
    }
   ],
   "source": [
    "aurocall = res_group['Random Forest']['auroc']\n",
    "sns.barplot(np.unique(groups),aurocall) #to show subj codes\n",
    "ax=plt.xticks(rotation=90)\n",
    "# sns.barplot(np.arange(len(aurocall)),aurocall) #to show subj codes\n",
    "plt.ylim([0.45,1.])\n",
    "plt.title('LOSO - Mean AUROC = %.3f +/- %.3f'%(np.nanmean(aurocall),np.nanstd(aurocall)))"
   ]
  },
  {
   "cell_type": "markdown",
   "metadata": {},
   "source": [
    "## Personal Models"
   ]
  },
  {
   "cell_type": "code",
   "execution_count": 25,
   "metadata": {
    "scrolled": true
   },
   "outputs": [
    {
     "name": "stdout",
     "output_type": "stream",
     "text": [
      "Subject 1004\n",
      "Training Random Forest\n",
      "\n",
      "Subj/Visit 0, prec=0.794, rec=0.222, Spec=0.548, auroc_train=1.000, auroc=0.474\n",
      "\n",
      "Subj/Visit 1, prec=0.281, rec=0.257, Spec=0.876, auroc_train=1.000, auroc=0.671\n",
      "\n",
      "Subj/Visit 2, prec=0.478, rec=0.458, Spec=0.940, auroc_train=1.000, auroc=0.908\n",
      "\n",
      "Subj/Visit 3, prec=0.589, rec=0.644, Spec=0.727, auroc_train=1.000, auroc=0.766\n",
      "\n",
      "Subj/Visit 4, prec=0.442, rec=0.885, Spec=0.849, auroc_train=1.000, auroc=0.884\n",
      "\n",
      "Subj/Visit 5, prec=0.688, rec=0.478, Spec=0.943, auroc_train=1.000, auroc=0.900\n",
      "\n",
      "Subj/Visit 6, prec=0.564, rec=0.595, Spec=0.762, auroc_train=1.000, auroc=0.770\n",
      "f1_test=0.490+/-0.125, prec=0.548+/-0.155, rec=0.506+/-0.212, auprc=0.549+/-0.202, auroc=0.768+/-0.144\n",
      "Subject 1016\n",
      "Training Random Forest\n",
      "\n",
      "Subj/Visit 0, prec=0.984, rec=0.984, Spec=0.714, auroc_train=1.000, auroc=0.976\n",
      "\n",
      "Subj/Visit 1, prec=0.955, rec=1.000, Spec=0.633, auroc_train=1.000, auroc=0.991\n",
      "\n",
      "Subj/Visit 2, prec=0.945, rec=1.000, Spec=0.536, auroc_train=1.000, auroc=0.992\n",
      "\n",
      "Subj/Visit 3, prec=0.996, rec=0.961, Spec=0.923, auroc_train=1.000, auroc=0.993\n",
      "\n",
      "Subj/Visit 4, prec=0.922, rec=1.000, Spec=0.472, auroc_train=1.000, auroc=0.798\n",
      "\n",
      "Subj/Visit 5, prec=0.977, rec=0.984, Spec=0.750, auroc_train=1.000, auroc=0.989\n",
      "\n",
      "Subj/Visit 6, prec=0.996, rec=0.944, Spec=0.923, auroc_train=1.000, auroc=0.991\n",
      "f1_test=0.974+/-0.008, prec=0.968+/-0.026, rec=0.982+/-0.020, auprc=0.994+/-0.012, auroc=0.961+/-0.067\n",
      "Subject 1018\n",
      "Training Random Forest\n",
      "\n",
      "Subj/Visit 0, prec=0.868, rec=0.767, Spec=0.787, auroc_train=1.000, auroc=0.867\n",
      "\n",
      "Subj/Visit 1, prec=0.810, rec=0.947, Spec=0.713, auroc_train=1.000, auroc=0.899\n",
      "\n",
      "Subj/Visit 2, prec=0.780, rec=0.944, Spec=0.689, auroc_train=1.000, auroc=0.881\n",
      "\n",
      "Subj/Visit 3, prec=0.837, rec=0.953, Spec=0.767, auroc_train=1.000, auroc=0.948\n",
      "\n",
      "Subj/Visit 4, prec=0.974, rec=0.836, Spec=0.949, auroc_train=1.000, auroc=0.960\n",
      "\n",
      "Subj/Visit 5, prec=0.622, rec=0.955, Spec=0.542, auroc_train=1.000, auroc=0.858\n",
      "\n",
      "Subj/Visit 6, prec=0.667, rec=0.815, Spec=0.522, auroc_train=1.000, auroc=0.724\n",
      "f1_test=0.831+/-0.062, prec=0.794+/-0.111, rec=0.888+/-0.074, auprc=0.886+/-0.079, auroc=0.877+/-0.072\n",
      "Subject 1019\n",
      "Training Random Forest\n",
      "\n",
      "Subj/Visit 0, prec=0.667, rec=0.283, Spec=0.894, auroc_train=1.000, auroc=0.782\n",
      "\n",
      "Subj/Visit 1, prec=0.980, rec=0.842, Spec=0.995, auroc_train=1.000, auroc=0.983\n",
      "\n",
      "Subj/Visit 2, prec=0.596, rec=1.000, Spec=0.905, auroc_train=1.000, auroc=0.992\n",
      "\n",
      "Subj/Visit 3, prec=0.792, rec=0.396, Spec=0.937, auroc_train=1.000, auroc=0.873\n",
      "\n",
      "Subj/Visit 4, prec=0.976, rec=0.488, Spec=0.994, auroc_train=1.000, auroc=0.949\n",
      "\n",
      "Subj/Visit 5, prec=0.824, rec=0.737, Spec=0.953, auroc_train=1.000, auroc=0.963\n",
      "\n",
      "Subj/Visit 6, prec=0.900, rec=0.643, Spec=0.975, auroc_train=1.000, auroc=0.951\n",
      "f1_test=0.679+/-0.157, prec=0.819+/-0.137, rec=0.627+/-0.236, auprc=0.878+/-0.080, auroc=0.928+/-0.069\n",
      "Subject 1024\n",
      "Training Random Forest\n",
      "\n",
      "Subj/Visit 0, prec=0.996, rec=0.691, Spec=0.950, auroc_train=1.000, auroc=0.901\n",
      "\n",
      "Subj/Visit 1, prec=0.743, rec=0.983, Spec=0.683, auroc_train=1.000, auroc=0.948\n",
      "\n",
      "Subj/Visit 2, prec=0.606, rec=1.000, Spec=0.545, auroc_train=1.000, auroc=0.976\n",
      "\n",
      "Subj/Visit 3, prec=0.866, rec=0.730, Spec=0.405, auroc_train=1.000, auroc=0.723\n",
      "\n",
      "Subj/Visit 4, prec=0.836, rec=0.817, Spec=0.779, auroc_train=1.000, auroc=0.869\n",
      "\n",
      "Subj/Visit 5, prec=0.731, rec=0.791, Spec=0.652, auroc_train=1.000, auroc=0.812\n",
      "\n",
      "Subj/Visit 6, prec=0.494, rec=0.752, Spec=0.429, auroc_train=1.000, auroc=0.685\n",
      "f1_test=0.770+/-0.078, prec=0.753+/-0.155, rec=0.823+/-0.113, auprc=0.881+/-0.118, auroc=0.845+/-0.102\n",
      "Subject 1029\n",
      "Training Random Forest\n",
      "\n",
      "Subj/Visit 0, prec=0.956, rec=0.522, Spec=0.818, auroc_train=1.000, auroc=0.799\n",
      "\n",
      "Subj/Visit 1, prec=0.757, rec=0.975, Spec=0.739, auroc_train=1.000, auroc=0.968\n",
      "\n",
      "Subj/Visit 2, prec=0.693, rec=0.805, Spec=0.618, auroc_train=1.000, auroc=0.797\n",
      "\n",
      "Subj/Visit 3, prec=0.592, rec=0.731, Spec=0.618, auroc_train=1.000, auroc=0.699\n",
      "\n",
      "Subj/Visit 4, prec=0.708, rec=0.955, Spec=0.639, auroc_train=1.000, auroc=0.944\n",
      "\n",
      "Subj/Visit 5, prec=0.748, rec=0.968, Spec=0.727, auroc_train=1.000, auroc=0.961\n",
      "\n",
      "Subj/Visit 6, prec=0.861, rec=0.581, Spec=0.509, auroc_train=1.000, auroc=0.646\n",
      "f1_test=0.754+/-0.077, prec=0.759+/-0.110, rec=0.791+/-0.174, auprc=0.876+/-0.125, auroc=0.831+/-0.121\n",
      "Subject 1030\n",
      "Training Random Forest\n",
      "\n",
      "Subj/Visit 0, prec=0.903, rec=0.592, Spec=0.906, auroc_train=1.000, auroc=0.857\n",
      "\n",
      "Subj/Visit 1, prec=0.840, rec=0.741, Spec=0.832, auroc_train=1.000, auroc=0.896\n",
      "\n",
      "Subj/Visit 2, prec=0.755, rec=0.770, Spec=0.829, auroc_train=1.000, auroc=0.905\n",
      "\n",
      "Subj/Visit 3, prec=0.831, rec=0.622, Spec=0.862, auroc_train=1.000, auroc=0.868\n",
      "\n",
      "Subj/Visit 4, prec=0.818, rec=0.909, Spec=0.852, auroc_train=1.000, auroc=0.955\n",
      "\n",
      "Subj/Visit 5, prec=0.739, rec=0.759, Spec=0.766, auroc_train=1.000, auroc=0.853\n",
      "\n",
      "Subj/Visit 6, prec=0.750, rec=0.683, Spec=0.835, auroc_train=1.000, auroc=0.844\n",
      "f1_test=0.757+/-0.050, prec=0.805+/-0.056, rec=0.725+/-0.098, auprc=0.872+/-0.062, auroc=0.883+/-0.036\n",
      "Subject 1032\n",
      "Training Random Forest\n",
      "\n",
      "Subj/Visit 0, prec=0.988, rec=0.982, Spec=0.714, auroc_train=1.000, auroc=0.882\n",
      "\n",
      "Subj/Visit 1, prec=0.942, rec=0.997, Spec=0.667, auroc_train=1.000, auroc=0.930\n",
      "\n",
      "Subj/Visit 2, prec=0.846, rec=1.000, Spec=0.194, auroc_train=1.000, auroc=0.874\n",
      "\n",
      "Subj/Visit 3, prec=0.975, rec=0.989, Spec=0.816, auroc_train=1.000, auroc=0.992\n",
      "\n",
      "Subj/Visit 4, prec=0.966, rec=0.955, Spec=0.750, auroc_train=1.000, auroc=0.938\n",
      "\n",
      "Subj/Visit 5, prec=0.929, rec=0.993, Spec=0.638, auroc_train=1.000, auroc=0.834\n",
      "\n",
      "Subj/Visit 6, prec=0.828, rec=0.847, Spec=0.169, auroc_train=1.000, auroc=0.608\n",
      "f1_test=0.944+/-0.048, prec=0.925+/-0.059, rec=0.966+/-0.051, auprc=0.964+/-0.037, auroc=0.865+/-0.115\n",
      "Subject 1038\n",
      "Training Random Forest\n",
      "\n",
      "Subj/Visit 0, prec=0.973, rec=0.545, Spec=0.995, auroc_train=1.000, auroc=0.896\n",
      "\n",
      "Subj/Visit 1, prec=0.979, rec=0.479, Spec=0.995, auroc_train=1.000, auroc=0.833\n",
      "\n",
      "Subj/Visit 2, prec=0.978, rec=0.625, Spec=0.995, auroc_train=1.000, auroc=0.901\n",
      "\n",
      "Subj/Visit 3, prec=0.765, rec=0.736, Spec=0.943, auroc_train=1.000, auroc=0.946\n",
      "\n",
      "Subj/Visit 4, prec=0.773, rec=0.694, Spec=0.955, auroc_train=1.000, auroc=0.943\n",
      "\n",
      "Subj/Visit 5, prec=0.980, rec=0.500, Spec=0.995, auroc_train=1.000, auroc=0.788\n",
      "\n",
      "Subj/Visit 6, prec=0.245, rec=0.117, Spec=0.770, auroc_train=1.000, auroc=0.447\n",
      "f1_test=0.629+/-0.197, prec=0.813+/-0.249, rec=0.528+/-0.190, auprc=0.734+/-0.166, auroc=0.822+/-0.162\n",
      "Subject 1044\n",
      "Training Random Forest\n",
      "\n",
      "Subj/Visit 0, prec=0.960, rec=0.786, Spec=0.950, auroc_train=1.000, auroc=0.926\n",
      "\n",
      "Subj/Visit 1, prec=0.906, rec=0.828, Spec=0.929, auroc_train=1.000, auroc=0.935\n",
      "\n",
      "Subj/Visit 2, prec=0.809, rec=0.835, Spec=0.823, auroc_train=1.000, auroc=0.910\n",
      "\n",
      "Subj/Visit 3, prec=0.816, rec=0.867, Spec=0.804, auroc_train=1.000, auroc=0.927\n",
      "\n",
      "Subj/Visit 4, prec=0.881, rec=0.897, Spec=0.889, auroc_train=1.000, auroc=0.957\n",
      "\n",
      "Subj/Visit 5, prec=0.881, rec=0.839, Spec=0.896, auroc_train=1.000, auroc=0.950\n",
      "\n",
      "Subj/Visit 6, prec=0.741, rec=0.826, Spec=0.746, auroc_train=1.000, auroc=0.837\n",
      "f1_test=0.846+/-0.033, prec=0.856+/-0.067, rec=0.840+/-0.032, auprc=0.908+/-0.050, auroc=0.920+/-0.037\n",
      "Subject 1046\n",
      "Training Random Forest\n",
      "\n",
      "Subj/Visit 0, prec=0.974, rec=0.712, Spec=0.986, auroc_train=1.000, auroc=0.944\n",
      "\n",
      "Subj/Visit 1, prec=0.824, rec=0.959, Spec=0.901, auroc_train=1.000, auroc=0.988\n",
      "\n",
      "Subj/Visit 2, prec=0.893, rec=0.918, Spec=0.940, auroc_train=1.000, auroc=0.985\n",
      "\n",
      "Subj/Visit 3, prec=0.947, rec=0.755, Spec=0.969, auroc_train=1.000, auroc=0.956\n",
      "\n",
      "Subj/Visit 4, prec=0.960, rec=0.805, Spec=0.965, auroc_train=1.000, auroc=0.947\n",
      "\n",
      "Subj/Visit 5, prec=0.776, rec=0.760, Spec=0.833, auroc_train=1.000, auroc=0.881\n",
      "\n",
      "Subj/Visit 6, prec=0.852, rec=0.719, Spec=0.898, auroc_train=1.000, auroc=0.879\n",
      "f1_test=0.840+/-0.049, prec=0.889+/-0.070, rec=0.804+/-0.090, auprc=0.938+/-0.039, auroc=0.940+/-0.041\n",
      "Subject 1047\n",
      "Training Random Forest\n",
      "\n",
      "Subj/Visit 0, prec=0.784, rec=0.372, Spec=0.947, auroc_train=1.000, auroc=0.829\n",
      "only 1 class in test data - cannot compute roc curve\n"
     ]
    },
    {
     "name": "stderr",
     "output_type": "stream",
     "text": [
      "C:\\Users\\andre\\Anaconda3\\lib\\site-packages\\sklearn\\metrics\\ranking.py:444: RuntimeWarning: invalid value encountered in true_divide\n",
      "  recall = tps / tps[-1]\n",
      "C:\\Users\\andre\\Anaconda3\\lib\\site-packages\\sklearn\\metrics\\ranking.py:94: RuntimeWarning: invalid value encountered in less\n",
      "  if np.any(dx < 0):\n",
      "C:\\Users\\andre\\Anaconda3\\lib\\site-packages\\sklearn\\metrics\\classification.py:1137: UndefinedMetricWarning: F-score is ill-defined and being set to 0.0 due to no true samples.\n",
      "  'recall', 'true', average, warn_for)\n",
      "C:\\Users\\andre\\Anaconda3\\lib\\site-packages\\sklearn\\metrics\\ranking.py:444: RuntimeWarning: invalid value encountered in true_divide\n",
      "  recall = tps / tps[-1]\n",
      "C:\\Users\\andre\\Anaconda3\\lib\\site-packages\\sklearn\\metrics\\ranking.py:94: RuntimeWarning: invalid value encountered in less\n",
      "  if np.any(dx < 0):\n",
      "C:\\Users\\andre\\Anaconda3\\lib\\site-packages\\sklearn\\metrics\\classification.py:1137: UndefinedMetricWarning: Recall is ill-defined and being set to 0.0 due to no true samples.\n",
      "  'recall', 'true', average, warn_for)\n",
      "C:\\Users\\andre\\Anaconda3\\lib\\site-packages\\sklearn\\metrics\\classification.py:1137: UndefinedMetricWarning: Recall is ill-defined and being set to 0.0 due to no true samples.\n",
      "  'recall', 'true', average, warn_for)\n"
     ]
    },
    {
     "name": "stdout",
     "output_type": "stream",
     "text": [
      "\n",
      "Subj/Visit 1, prec=0.000, rec=0.000, Spec=1.000, auroc_train=1.000, auroc=nan\n",
      "only 1 class in test data - cannot compute roc curve\n",
      "\n",
      "Subj/Visit 2, prec=0.000, rec=0.000, Spec=0.990, auroc_train=1.000, auroc=nan\n",
      "\n",
      "Subj/Visit 3, prec=1.000, rec=0.429, Spec=1.000, auroc_train=1.000, auroc=0.862\n",
      "only 1 class in test data - cannot compute roc curve\n",
      "\n",
      "Subj/Visit 4, prec=0.000, rec=0.000, Spec=0.995, auroc_train=1.000, auroc=nan\n"
     ]
    },
    {
     "name": "stderr",
     "output_type": "stream",
     "text": [
      "C:\\Users\\andre\\Anaconda3\\lib\\site-packages\\sklearn\\metrics\\classification.py:1137: UndefinedMetricWarning: F-score is ill-defined and being set to 0.0 due to no true samples.\n",
      "  'recall', 'true', average, warn_for)\n",
      "C:\\Users\\andre\\Anaconda3\\lib\\site-packages\\sklearn\\metrics\\ranking.py:444: RuntimeWarning: invalid value encountered in true_divide\n",
      "  recall = tps / tps[-1]\n",
      "C:\\Users\\andre\\Anaconda3\\lib\\site-packages\\sklearn\\metrics\\ranking.py:94: RuntimeWarning: invalid value encountered in less\n",
      "  if np.any(dx < 0):\n",
      "C:\\Users\\andre\\Anaconda3\\lib\\site-packages\\sklearn\\metrics\\classification.py:1137: UndefinedMetricWarning: Recall is ill-defined and being set to 0.0 due to no true samples.\n",
      "  'recall', 'true', average, warn_for)\n",
      "C:\\Users\\andre\\Anaconda3\\lib\\site-packages\\sklearn\\metrics\\classification.py:1137: UndefinedMetricWarning: Recall is ill-defined and being set to 0.0 due to no true samples.\n",
      "  'recall', 'true', average, warn_for)\n",
      "C:\\Users\\andre\\Anaconda3\\lib\\site-packages\\sklearn\\metrics\\classification.py:1137: UndefinedMetricWarning: F-score is ill-defined and being set to 0.0 due to no true samples.\n",
      "  'recall', 'true', average, warn_for)\n",
      "C:\\Users\\andre\\Anaconda3\\lib\\site-packages\\sklearn\\metrics\\ranking.py:444: RuntimeWarning: invalid value encountered in true_divide\n",
      "  recall = tps / tps[-1]\n",
      "C:\\Users\\andre\\Anaconda3\\lib\\site-packages\\sklearn\\metrics\\ranking.py:94: RuntimeWarning: invalid value encountered in less\n",
      "  if np.any(dx < 0):\n",
      "C:\\Users\\andre\\Anaconda3\\lib\\site-packages\\sklearn\\metrics\\classification.py:1137: UndefinedMetricWarning: Recall is ill-defined and being set to 0.0 due to no true samples.\n",
      "  'recall', 'true', average, warn_for)\n",
      "C:\\Users\\andre\\Anaconda3\\lib\\site-packages\\sklearn\\metrics\\classification.py:1137: UndefinedMetricWarning: Recall is ill-defined and being set to 0.0 due to no true samples.\n",
      "  'recall', 'true', average, warn_for)\n"
     ]
    },
    {
     "name": "stdout",
     "output_type": "stream",
     "text": [
      "only 1 class in test data - cannot compute roc curve\n",
      "\n",
      "Subj/Visit 5, prec=0.000, rec=0.000, Spec=0.995, auroc_train=1.000, auroc=nan\n",
      "f1_test=0.184+/-0.262, prec=0.297+/-0.425, rec=0.133+/-0.189, auprc=0.768+/-0.024, auroc=0.845+/-0.016\n",
      "Subject 1049\n",
      "Training Random Forest\n",
      "\n",
      "Subj/Visit 0, prec=0.791, rec=0.738, Spec=0.768, auroc_train=1.000, auroc=0.821\n",
      "\n",
      "Subj/Visit 1, prec=0.842, rec=0.830, Spec=0.812, auroc_train=1.000, auroc=0.857\n",
      "\n",
      "Subj/Visit 2, prec=0.801, rec=0.842, Spec=0.746, auroc_train=1.000, auroc=0.885\n",
      "\n",
      "Subj/Visit 3, prec=0.901, rec=0.694, Spec=0.904, auroc_train=1.000, auroc=0.882\n",
      "\n",
      "Subj/Visit 4, prec=0.822, rec=0.811, Spec=0.793, auroc_train=1.000, auroc=0.889\n",
      "\n",
      "Subj/Visit 5, prec=0.780, rec=0.748, Spec=0.744, auroc_train=1.000, auroc=0.805\n",
      "\n",
      "Subj/Visit 6, prec=0.472, rec=0.482, Spec=0.469, auroc_train=1.000, auroc=0.467\n",
      "f1_test=0.752+/-0.115, prec=0.773+/-0.128, rec=0.735+/-0.115, auprc=0.829+/-0.134, auroc=0.801+/-0.140\n",
      "Subject 1051\n",
      "Training Random Forest\n",
      "\n",
      "Subj/Visit 0, prec=0.875, rec=0.091, Spec=0.994, auroc_train=1.000, auroc=0.804\n",
      "\n",
      "Subj/Visit 1, prec=0.750, rec=0.353, Spec=0.990, auroc_train=1.000, auroc=0.854\n",
      "\n",
      "Subj/Visit 2, prec=0.600, rec=1.000, Spec=0.980, auroc_train=1.000, auroc=0.999\n",
      "\n",
      "Subj/Visit 3, prec=1.000, rec=0.149, Spec=1.000, auroc_train=1.000, auroc=0.800\n",
      "\n",
      "Subj/Visit 4, prec=0.278, rec=1.000, Spec=0.942, auroc_train=1.000, auroc=1.000\n",
      "\n",
      "Subj/Visit 5, prec=0.700, rec=0.412, Spec=0.985, auroc_train=1.000, auroc=0.957\n",
      "\n",
      "Subj/Visit 6, prec=0.769, rec=0.175, Spec=0.983, auroc_train=1.000, auroc=0.767\n",
      "f1_test=0.413+/-0.182, prec=0.710+/-0.212, rec=0.454+/-0.361, auprc=0.729+/-0.174, auroc=0.883+/-0.093\n",
      "Subject 1052\n",
      "Training Random Forest\n",
      "\n",
      "Subj/Visit 0, prec=0.995, rec=0.903, Spec=0.979, auroc_train=1.000, auroc=0.979\n",
      "\n",
      "Subj/Visit 1, prec=0.810, rec=0.991, Spec=0.815, auroc_train=1.000, auroc=0.960\n",
      "\n",
      "Subj/Visit 2, prec=0.721, rec=0.949, Spec=0.753, auroc_train=1.000, auroc=0.947\n",
      "\n",
      "Subj/Visit 3, prec=0.906, rec=0.951, Spec=0.731, auroc_train=1.000, auroc=0.905\n",
      "\n",
      "Subj/Visit 4, prec=0.619, rec=0.660, Spec=0.688, auroc_train=1.000, auroc=0.724\n",
      "\n",
      "Subj/Visit 5, prec=0.911, rec=0.864, Spec=0.925, auroc_train=1.000, auroc=0.951\n",
      "f1_test=0.852+/-0.103, prec=0.827+/-0.127, rec=0.887+/-0.109, auprc=0.890+/-0.116, auroc=0.911+/-0.086\n",
      "Subject 1053\n",
      "Training Random Forest\n",
      "\n",
      "Subj/Visit 0, prec=0.304, rec=0.069, Spec=0.884, auroc_train=1.000, auroc=0.723\n",
      "\n",
      "Subj/Visit 1, prec=0.367, rec=0.917, Spec=0.902, auroc_train=1.000, auroc=0.963\n",
      "\n",
      "Subj/Visit 2, prec=0.500, rec=0.917, Spec=0.942, auroc_train=1.000, auroc=0.981\n",
      "\n",
      "Subj/Visit 3, prec=0.941, rec=0.330, Spec=0.986, auroc_train=1.000, auroc=0.844\n",
      "\n",
      "Subj/Visit 4, prec=0.448, rec=1.000, Spec=0.920, auroc_train=1.000, auroc=0.966\n",
      "\n",
      "Subj/Visit 5, prec=0.750, rec=0.462, Spec=0.966, auroc_train=1.000, auroc=0.861\n",
      "f1_test=0.494+/-0.179, prec=0.552+/-0.224, rec=0.616+/-0.350, auprc=0.655+/-0.108, auroc=0.889+/-0.092\n",
      "Subject 1054\n",
      "Training Random Forest\n",
      "\n",
      "Subj/Visit 0, prec=1.000, rec=0.780, Spec=1.000, auroc_train=1.000, auroc=0.978\n",
      "\n",
      "Subj/Visit 1, prec=0.457, rec=0.960, Spec=0.703, auroc_train=1.000, auroc=0.938\n",
      "\n",
      "Subj/Visit 2, prec=0.544, rec=0.725, Spec=0.789, auroc_train=1.000, auroc=0.819\n",
      "\n",
      "Subj/Visit 3, prec=0.944, rec=0.510, Spec=0.619, auroc_train=1.000, auroc=0.509\n",
      "\n",
      "Subj/Visit 4, prec=0.598, rec=0.667, Spec=0.787, auroc_train=1.000, auroc=0.731\n",
      "\n",
      "Subj/Visit 5, prec=0.532, rec=1.000, Spec=0.801, auroc_train=1.000, auroc=0.985\n",
      "f1_test=0.684+/-0.090, prec=0.679+/-0.212, rec=0.774+/-0.168, auprc=0.838+/-0.120, auroc=0.827+/-0.168\n",
      "Subject 1055\n",
      "Training Random Forest\n",
      "\n",
      "Subj/Visit 0, prec=1.000, rec=0.644, Spec=1.000, auroc_train=1.000, auroc=0.887\n",
      "\n",
      "Subj/Visit 1, prec=0.294, rec=1.000, Spec=0.403, auroc_train=1.000, auroc=0.879\n",
      "\n",
      "Subj/Visit 2, prec=0.391, rec=0.804, Spec=0.588, auroc_train=1.000, auroc=0.753\n",
      "\n",
      "Subj/Visit 3, prec=0.829, rec=0.622, Spec=0.661, auroc_train=1.000, auroc=0.672\n",
      "\n",
      "Subj/Visit 4, prec=0.989, rec=0.521, Spec=0.984, auroc_train=1.000, auroc=0.949\n",
      "\n",
      "Subj/Visit 5, prec=0.488, rec=0.924, Spec=0.584, auroc_train=1.000, auroc=0.776\n",
      "f1_test=0.633+/-0.111, prec=0.665+/-0.285, rec=0.752+/-0.171, auprc=0.736+/-0.200, auroc=0.819+/-0.094\n",
      "Subject 1056\n",
      "Training Random Forest\n",
      "\n",
      "Subj/Visit 0, prec=0.841, rec=1.000, Spec=0.137, auroc_train=1.000, auroc=0.872\n",
      "\n",
      "Subj/Visit 1, prec=0.907, rec=0.996, Spec=0.452, auroc_train=1.000, auroc=0.939\n",
      "\n",
      "Subj/Visit 2, prec=0.904, rec=0.975, Spec=0.359, auroc_train=1.000, auroc=0.916\n",
      "\n",
      "Subj/Visit 3, prec=0.966, rec=1.000, Spec=0.625, auroc_train=1.000, auroc=0.989\n",
      "only 1 class in test data - cannot compute roc curve\n",
      "\n",
      "Subj/Visit 4, prec=1.000, rec=0.993, Spec=nan, auroc_train=1.000, auroc=nan\n"
     ]
    },
    {
     "name": "stderr",
     "output_type": "stream",
     "text": [
      "C:\\Users\\andre\\Anaconda3\\lib\\site-packages\\ipykernel_launcher.py:48: RuntimeWarning: invalid value encountered in long_scalars\n"
     ]
    },
    {
     "name": "stdout",
     "output_type": "stream",
     "text": [
      "\n",
      "Subj/Visit 5, prec=0.993, rec=1.000, Spec=0.846, auroc_train=1.000, auroc=0.962\n",
      "f1_test=0.963+/-0.031, prec=0.935+/-0.057, rec=0.994+/-0.009, auprc=0.989+/-0.012, auroc=0.935+/-0.040\n"
     ]
    }
   ],
   "source": [
    "symptom = 'Bradykinesia'\n",
    "le = LabelEncoder()\n",
    "res_all = pd.DataFrame(data=None,index=None)\n",
    "#train on all sessions, predict on left out session for each patient\n",
    "res_visit_all = [] #data from each subject \n",
    "\n",
    "#remove nan rows for current symptom\n",
    "Data = Dataorig.copy() #original unmodified dataframe\n",
    "Data=Data[~Data[symptom].isnull()]\n",
    "Data=Data.reset_index(drop=True) #reset index\n",
    "\n",
    "for s in Data.Subject.unique():\n",
    "    print('Subject %s'%s)\n",
    "    ds = Data.loc[Data.Subject==s]\n",
    "    indp = (ds[symptom]>0).values\n",
    "    y = indp.astype(int) #target \n",
    "    X = ds.iloc[:,7:]\n",
    "    X_std = StandardScaler().fit_transform(X) #standardize input data\n",
    "    models = [RandomForestClassifier(n_estimators=50,random_state=2)]#,XGBClassifier()]\n",
    "    model_name = ['Random Forest']#,'XGB']\n",
    "    models = list(zip(models,model_name))\n",
    "    groups = le.fit_transform(ds.Visit)\n",
    "    if len(np.unique(groups))<2:\n",
    "        continue\n",
    "    res,res_group = LOSOCV(ds,X_std,y,groups,models)\n",
    "    res.index = res.index+s\n",
    "    res_all=pd.concat((res_all,res))\n",
    "    res_visit_all.append(res_group)\n"
   ]
  },
  {
   "cell_type": "code",
   "execution_count": 26,
   "metadata": {},
   "outputs": [],
   "source": [
    "resultsbrady_pers=res_all.auroc.values\n",
    "np.save(os.path.join(results_path,'resultsbradyPERS.npy'),resultsbrady_pers)"
   ]
  },
  {
   "cell_type": "code",
   "execution_count": 27,
   "metadata": {},
   "outputs": [
    {
     "data": {
      "text/plain": [
       "(32368, 63)"
      ]
     },
     "execution_count": 27,
     "metadata": {},
     "output_type": "execute_result"
    }
   ],
   "source": [
    "Data.shape"
   ]
  },
  {
   "cell_type": "code",
   "execution_count": 28,
   "metadata": {},
   "outputs": [],
   "source": [
    "#compute mean and std auc\n",
    "subjs=Data.Subject.unique()\n",
    "auc_mean = []; auc_std = []\n",
    "aucdf = pd.DataFrame()\n",
    "for i in range(len(res_visit_all)):\n",
    "\n",
    "    if len(res_visit_all[i]['Random Forest']['auroc']) < 7:\n",
    "        res_visit_all[i]['Random Forest']['auroc'].append(np.nan)\n",
    "    aucdf[subjs[i]] = res_visit_all[i]['Random Forest']['auroc']   \n",
    "    auc = res_visit_all[i]['Random Forest']['auroc']\n",
    "    auc_mean.append(np.nanmean(auc)) #mean across visits\n",
    "    auc_std.append(np.nanstd(auc))"
   ]
  },
  {
   "cell_type": "code",
   "execution_count": 29,
   "metadata": {},
   "outputs": [
    {
     "data": {
      "text/plain": [
       "(0.45, 1)"
      ]
     },
     "execution_count": 29,
     "metadata": {},
     "output_type": "execute_result"
    },
    {
     "data": {
      "image/png": "[encoded data removed]",
      "text/plain": [
       "<Figure size 432x288 with 1 Axes>"
      ]
     },
     "metadata": {},
     "output_type": "display_data"
    }
   ],
   "source": [
    "sns.barplot(data=aucdf)\n",
    "ax=plt.xticks(rotation=90)\n",
    "plt.title('LOVO - Mean AUROC = %.3f +/- %.3f'%(np.nanmean(res_all.auroc),np.nanstd(res_all.auroc)))\n",
    "plt.ylim([0.45,1])"
   ]
  },
  {
   "cell_type": "markdown",
   "metadata": {},
   "source": [
    "Is variability due to variability in symptoms between visits?"
   ]
  },
  {
   "cell_type": "markdown",
   "metadata": {},
   "source": [
    "### Tremor"
   ]
  },
  {
   "cell_type": "code",
   "execution_count": 16,
   "metadata": {
    "scrolled": true
   },
   "outputs": [
    {
     "name": "stdout",
     "output_type": "stream",
     "text": [
      "Subject 1004\n",
      "Training Random Forest\n",
      "\n",
      "Subj/Visit 0, prec=1.000, rec=0.032, Spec=1.000, auroc_train=1.000, auroc=0.607\n"
     ]
    },
    {
     "name": "stderr",
     "output_type": "stream",
     "text": [
      "C:\\Users\\andre\\Anaconda3\\lib\\site-packages\\sklearn\\metrics\\ranking.py:444: RuntimeWarning: invalid value encountered in true_divide\n",
      "  recall = tps / tps[-1]\n",
      "C:\\Users\\andre\\Anaconda3\\lib\\site-packages\\sklearn\\metrics\\ranking.py:94: RuntimeWarning: invalid value encountered in less\n",
      "  if np.any(dx < 0):\n"
     ]
    },
    {
     "name": "stdout",
     "output_type": "stream",
     "text": [
      "only 1 class in test data - cannot compute roc curve\n",
      "\n",
      "Subj/Visit 1, prec=0.000, rec=0.000, Spec=1.000, auroc_train=1.000, auroc=nan\n"
     ]
    },
    {
     "name": "stderr",
     "output_type": "stream",
     "text": [
      "C:\\Users\\andre\\Anaconda3\\lib\\site-packages\\sklearn\\metrics\\ranking.py:444: RuntimeWarning: invalid value encountered in true_divide\n",
      "  recall = tps / tps[-1]\n",
      "C:\\Users\\andre\\Anaconda3\\lib\\site-packages\\sklearn\\metrics\\ranking.py:94: RuntimeWarning: invalid value encountered in less\n",
      "  if np.any(dx < 0):\n"
     ]
    },
    {
     "name": "stdout",
     "output_type": "stream",
     "text": [
      "only 1 class in test data - cannot compute roc curve\n",
      "\n",
      "Subj/Visit 2, prec=0.000, rec=0.000, Spec=1.000, auroc_train=1.000, auroc=nan\n",
      "\n",
      "Subj/Visit 3, prec=0.867, rec=1.000, Spec=0.992, auroc_train=1.000, auroc=0.998\n"
     ]
    },
    {
     "name": "stderr",
     "output_type": "stream",
     "text": [
      "C:\\Users\\andre\\Anaconda3\\lib\\site-packages\\sklearn\\metrics\\ranking.py:444: RuntimeWarning: invalid value encountered in true_divide\n",
      "  recall = tps / tps[-1]\n",
      "C:\\Users\\andre\\Anaconda3\\lib\\site-packages\\sklearn\\metrics\\ranking.py:94: RuntimeWarning: invalid value encountered in less\n",
      "  if np.any(dx < 0):\n"
     ]
    },
    {
     "name": "stdout",
     "output_type": "stream",
     "text": [
      "only 1 class in test data - cannot compute roc curve\n",
      "\n",
      "Subj/Visit 4, prec=0.000, rec=0.000, Spec=1.000, auroc_train=1.000, auroc=nan\n"
     ]
    },
    {
     "name": "stderr",
     "output_type": "stream",
     "text": [
      "C:\\Users\\andre\\Anaconda3\\lib\\site-packages\\sklearn\\metrics\\ranking.py:444: RuntimeWarning: invalid value encountered in true_divide\n",
      "  recall = tps / tps[-1]\n",
      "C:\\Users\\andre\\Anaconda3\\lib\\site-packages\\sklearn\\metrics\\ranking.py:94: RuntimeWarning: invalid value encountered in less\n",
      "  if np.any(dx < 0):\n"
     ]
    },
    {
     "name": "stdout",
     "output_type": "stream",
     "text": [
      "only 1 class in test data - cannot compute roc curve\n",
      "\n",
      "Subj/Visit 5, prec=0.000, rec=0.000, Spec=1.000, auroc_train=1.000, auroc=nan\n",
      "\n",
      "Subj/Visit 6, prec=0.625, rec=0.294, Spec=0.989, auroc_train=1.000, auroc=0.764\n",
      "f1_test=0.199+/-0.327, prec=0.356+/-0.423, rec=0.189+/-0.346, auprc=0.665+/-0.246, auroc=0.790+/-0.161\n",
      "Subject 1016\n",
      "Training Random Forest\n",
      "\n",
      "Subj/Visit 0, prec=0.838, rec=0.770, Spec=0.863, auroc_train=1.000, auroc=0.911\n",
      "\n",
      "Subj/Visit 1, prec=0.887, rec=0.820, Spec=0.876, auroc_train=1.000, auroc=0.938\n",
      "\n",
      "Subj/Visit 2, prec=0.887, rec=0.822, Spec=0.879, auroc_train=1.000, auroc=0.938\n",
      "\n",
      "Subj/Visit 3, prec=0.916, rec=0.850, Spec=0.919, auroc_train=1.000, auroc=0.958\n",
      "\n",
      "Subj/Visit 4, prec=0.948, rec=0.902, Spec=0.941, auroc_train=1.000, auroc=0.971\n",
      "\n",
      "Subj/Visit 5, prec=0.934, rec=0.821, Spec=0.921, auroc_train=1.000, auroc=0.958\n"
     ]
    },
    {
     "name": "stderr",
     "output_type": "stream",
     "text": [
      "C:\\Users\\andre\\Anaconda3\\lib\\site-packages\\sklearn\\metrics\\classification.py:1137: UndefinedMetricWarning: F-score is ill-defined and being set to 0.0 due to no true samples.\n",
      "  'recall', 'true', average, warn_for)\n",
      "C:\\Users\\andre\\Anaconda3\\lib\\site-packages\\sklearn\\metrics\\ranking.py:444: RuntimeWarning: invalid value encountered in true_divide\n",
      "  recall = tps / tps[-1]\n",
      "C:\\Users\\andre\\Anaconda3\\lib\\site-packages\\sklearn\\metrics\\ranking.py:94: RuntimeWarning: invalid value encountered in less\n",
      "  if np.any(dx < 0):\n",
      "C:\\Users\\andre\\Anaconda3\\lib\\site-packages\\sklearn\\metrics\\classification.py:1137: UndefinedMetricWarning: Recall is ill-defined and being set to 0.0 due to no true samples.\n",
      "  'recall', 'true', average, warn_for)\n",
      "C:\\Users\\andre\\Anaconda3\\lib\\site-packages\\sklearn\\metrics\\classification.py:1137: UndefinedMetricWarning: Recall is ill-defined and being set to 0.0 due to no true samples.\n",
      "  'recall', 'true', average, warn_for)\n"
     ]
    },
    {
     "name": "stdout",
     "output_type": "stream",
     "text": [
      "only 1 class in test data - cannot compute roc curve\n",
      "\n",
      "Subj/Visit 6, prec=0.000, rec=0.000, Spec=0.463, auroc_train=1.000, auroc=nan\n",
      "f1_test=0.741+/-0.305, prec=0.773+/-0.317, rec=0.712+/-0.293, auprc=0.944+/-0.028, auroc=0.946+/-0.019\n",
      "Subject 1018\n",
      "Training Random Forest\n",
      "\n",
      "Subj/Visit 0, prec=1.000, rec=0.159, Spec=1.000, auroc_train=1.000, auroc=0.761\n",
      "\n",
      "Subj/Visit 1, prec=1.000, rec=0.875, Spec=1.000, auroc_train=1.000, auroc=1.000\n",
      "\n",
      "Subj/Visit 2, prec=1.000, rec=1.000, Spec=1.000, auroc_train=1.000, auroc=1.000\n",
      "\n",
      "Subj/Visit 3, prec=1.000, rec=0.351, Spec=1.000, auroc_train=1.000, auroc=0.876\n",
      "\n",
      "Subj/Visit 4, prec=1.000, rec=0.279, Spec=1.000, auroc_train=1.000, auroc=0.823\n",
      "\n",
      "Subj/Visit 5, prec=1.000, rec=0.917, Spec=1.000, auroc_train=1.000, auroc=0.995\n",
      "\n",
      "Subj/Visit 6, prec=1.000, rec=1.000, Spec=1.000, auroc_train=1.000, auroc=1.000\n",
      "f1_test=0.731+/-0.287, prec=1.000+/-0.000, rec=0.654+/-0.345, auprc=0.814+/-0.203, auroc=0.922+/-0.094\n",
      "Subject 1019\n",
      "Training Random Forest\n",
      "\n",
      "Subj/Visit 0, prec=1.000, rec=0.023, Spec=1.000, auroc_train=1.000, auroc=0.530\n",
      "\n",
      "Subj/Visit 1, prec=1.000, rec=1.000, Spec=1.000, auroc_train=1.000, auroc=1.000\n",
      "\n",
      "Subj/Visit 2, prec=1.000, rec=0.500, Spec=1.000, auroc_train=1.000, auroc=0.997\n",
      "\n",
      "Subj/Visit 3, prec=0.000, rec=0.000, Spec=0.979, auroc_train=1.000, auroc=0.772\n",
      "\n",
      "Subj/Visit 4, prec=1.000, rec=0.833, Spec=1.000, auroc_train=1.000, auroc=0.999\n",
      "\n",
      "Subj/Visit 5, prec=1.000, rec=0.667, Spec=1.000, auroc_train=1.000, auroc=1.000\n",
      "\n",
      "Subj/Visit 6, prec=1.000, rec=0.214, Spec=1.000, auroc_train=1.000, auroc=0.808\n",
      "f1_test=0.539+/-0.378, prec=0.857+/-0.350, rec=0.463+/-0.366, auprc=0.676+/-0.358, auroc=0.872+/-0.167\n",
      "Subject 1024\n",
      "Training Random Forest\n",
      "\n",
      "Subj/Visit 0, prec=1.000, rec=0.083, Spec=1.000, auroc_train=1.000, auroc=0.835\n",
      "\n",
      "Subj/Visit 1, prec=0.406, rec=0.406, Spec=0.925, auroc_train=1.000, auroc=0.847\n",
      "\n",
      "Subj/Visit 2, prec=0.074, rec=0.667, Spec=0.816, auroc_train=1.000, auroc=0.892\n",
      "\n",
      "Subj/Visit 3, prec=0.946, rec=0.210, Spec=0.986, auroc_train=1.000, auroc=0.729\n",
      "\n",
      "Subj/Visit 4, prec=0.625, rec=0.303, Spec=0.975, auroc_train=1.000, auroc=0.877\n",
      "\n",
      "Subj/Visit 5, prec=0.086, rec=0.500, Spec=0.887, auroc_train=1.000, auroc=0.801\n",
      "\n",
      "Subj/Visit 6, prec=0.542, rec=0.615, Spec=0.892, auroc_train=1.000, auroc=0.849\n",
      "f1_test=0.310+/-0.158, prec=0.526+/-0.343, rec=0.398+/-0.198, auprc=0.475+/-0.295, auroc=0.833+/-0.051\n",
      "Subject 1029\n",
      "Training Random Forest\n",
      "\n",
      "Subj/Visit 0, prec=1.000, rec=0.366, Spec=1.000, auroc_train=1.000, auroc=0.907\n",
      "\n",
      "Subj/Visit 1, prec=0.302, rec=0.886, Spec=0.660, auroc_train=1.000, auroc=0.835\n",
      "\n",
      "Subj/Visit 2, prec=0.200, rec=0.702, Spec=0.566, auroc_train=1.000, auroc=0.698\n",
      "\n",
      "Subj/Visit 3, prec=0.966, rec=0.489, Spec=0.980, auroc_train=1.000, auroc=0.852\n",
      "\n",
      "Subj/Visit 4, prec=0.741, rec=0.755, Spec=0.863, auroc_train=1.000, auroc=0.917\n",
      "\n",
      "Subj/Visit 5, prec=0.492, rec=0.821, Spec=0.727, auroc_train=1.000, auroc=0.882\n",
      "\n",
      "Subj/Visit 6, prec=0.752, rec=0.546, Spec=0.752, auroc_train=1.000, auroc=0.752\n",
      "f1_test=0.563+/-0.134, prec=0.636+/-0.290, rec=0.652+/-0.176, auprc=0.685+/-0.257, auroc=0.835+/-0.076\n",
      "Subject 1030\n",
      "Training Random Forest\n",
      "\n",
      "Subj/Visit 0, prec=0.857, rec=0.923, Spec=0.993, auroc_train=1.000, auroc=0.998\n",
      "\n",
      "Subj/Visit 1, prec=1.000, rec=0.579, Spec=1.000, auroc_train=1.000, auroc=1.000\n",
      "\n",
      "Subj/Visit 2, prec=1.000, rec=0.850, Spec=1.000, auroc_train=1.000, auroc=1.000\n",
      "\n",
      "Subj/Visit 3, prec=1.000, rec=0.481, Spec=1.000, auroc_train=1.000, auroc=0.794\n",
      "\n",
      "Subj/Visit 4, prec=0.706, rec=1.000, Spec=0.981, auroc_train=1.000, auroc=0.995\n",
      "\n",
      "Subj/Visit 5, prec=1.000, rec=0.889, Spec=1.000, auroc_train=1.000, auroc=1.000\n",
      "\n",
      "Subj/Visit 6, prec=0.643, rec=0.643, Spec=0.981, auroc_train=1.000, auroc=0.980\n",
      "f1_test=0.800+/-0.116, prec=0.887+/-0.144, rec=0.766+/-0.182, auprc=0.907+/-0.115, auroc=0.967+/-0.071\n",
      "Subject 1032\n",
      "Training Random Forest\n",
      "\n",
      "Subj/Visit 0, prec=0.500, rec=0.130, Spec=0.992, auroc_train=1.000, auroc=0.918\n",
      "\n",
      "Subj/Visit 1, prec=1.000, rec=0.360, Spec=1.000, auroc_train=1.000, auroc=0.949\n",
      "\n",
      "Subj/Visit 2, prec=1.000, rec=1.000, Spec=1.000, auroc_train=1.000, auroc=1.000\n",
      "\n",
      "Subj/Visit 3, prec=0.857, rec=0.300, Spec=0.997, auroc_train=1.000, auroc=0.590\n",
      "\n",
      "Subj/Visit 4, prec=0.600, rec=1.000, Spec=0.989, auroc_train=1.000, auroc=1.000\n",
      "\n",
      "Subj/Visit 5, prec=1.000, rec=0.917, Spec=1.000, auroc_train=1.000, auroc=0.999\n",
      "\n",
      "Subj/Visit 6, prec=0.000, rec=0.000, Spec=0.983, auroc_train=1.000, auroc=0.946\n",
      "f1_test=0.555+/-0.346, prec=0.708+/-0.345, rec=0.530+/-0.399, auprc=0.655+/-0.343, auroc=0.915+/-0.136\n",
      "Subject 1038\n",
      "Training Random Forest\n",
      "\n",
      "Subj/Visit 0, prec=0.880, rec=0.805, Spec=0.750, auroc_train=1.000, auroc=0.895\n",
      "\n",
      "Subj/Visit 1, prec=0.632, rec=0.918, Spec=0.621, auroc_train=1.000, auroc=0.887\n",
      "\n",
      "Subj/Visit 2, prec=0.682, rec=0.885, Spec=0.651, auroc_train=1.000, auroc=0.866\n",
      "\n",
      "Subj/Visit 3, prec=0.891, rec=0.790, Spec=0.857, auroc_train=1.000, auroc=0.867\n",
      "\n",
      "Subj/Visit 4, prec=0.884, rec=0.845, Spec=0.859, auroc_train=1.000, auroc=0.931\n",
      "\n",
      "Subj/Visit 5, prec=0.836, rec=0.693, Spec=0.810, auroc_train=1.000, auroc=0.827\n",
      "\n",
      "Subj/Visit 6, prec=0.841, rec=0.818, Spec=0.785, auroc_train=1.000, auroc=0.874\n",
      "f1_test=0.807+/-0.043, prec=0.807+/-0.097, rec=0.822+/-0.067, auprc=0.899+/-0.034, auroc=0.878+/-0.029\n",
      "Subject 1044\n",
      "Training Random Forest\n",
      "\n",
      "Subj/Visit 0, prec=1.000, rec=0.833, Spec=1.000, auroc_train=1.000, auroc=1.000\n",
      "\n",
      "Subj/Visit 1, prec=1.000, rec=1.000, Spec=1.000, auroc_train=1.000, auroc=1.000\n",
      "\n",
      "Subj/Visit 2, prec=1.000, rec=0.929, Spec=1.000, auroc_train=1.000, auroc=1.000\n",
      "\n",
      "Subj/Visit 3, prec=1.000, rec=0.571, Spec=1.000, auroc_train=1.000, auroc=0.989\n",
      "\n",
      "Subj/Visit 4, prec=1.000, rec=1.000, Spec=1.000, auroc_train=1.000, auroc=1.000\n",
      "\n",
      "Subj/Visit 5, prec=1.000, rec=0.909, Spec=1.000, auroc_train=1.000, auroc=1.000\n",
      "\n",
      "Subj/Visit 6, prec=0.417, rec=0.833, Spec=0.977, auroc_train=1.000, auroc=0.977\n",
      "f1_test=0.872+/-0.156, prec=0.917+/-0.204, rec=0.868+/-0.137, auprc=0.873+/-0.250, auroc=0.995+/-0.008\n",
      "Subject 1046\n",
      "Training Random Forest\n",
      "\n",
      "Subj/Visit 0, prec=1.000, rec=0.795, Spec=1.000, auroc_train=1.000, auroc=0.976\n",
      "\n",
      "Subj/Visit 1, prec=0.963, rec=0.929, Spec=0.991, auroc_train=1.000, auroc=0.994\n",
      "\n",
      "Subj/Visit 2, prec=0.725, rec=0.974, Spec=0.934, auroc_train=1.000, auroc=0.978\n",
      "\n",
      "Subj/Visit 3, prec=1.000, rec=0.981, Spec=1.000, auroc_train=1.000, auroc=1.000\n",
      "\n",
      "Subj/Visit 4, prec=1.000, rec=0.919, Spec=1.000, auroc_train=1.000, auroc=0.998\n",
      "\n",
      "Subj/Visit 5, prec=1.000, rec=0.785, Spec=1.000, auroc_train=1.000, auroc=0.993\n",
      "\n",
      "Subj/Visit 6, prec=1.000, rec=0.618, Spec=1.000, auroc_train=1.000, auroc=0.827\n",
      "f1_test=0.893+/-0.073, prec=0.955+/-0.095, rec=0.857+/-0.122, auprc=0.945+/-0.063, auroc=0.967+/-0.058\n",
      "Subject 1047\n",
      "Training Random Forest\n",
      "\n",
      "Subj/Visit 0, prec=0.000, rec=0.000, Spec=1.000, auroc_train=1.000, auroc=0.994\n"
     ]
    },
    {
     "name": "stderr",
     "output_type": "stream",
     "text": [
      "C:\\Users\\andre\\Anaconda3\\lib\\site-packages\\sklearn\\metrics\\classification.py:1135: UndefinedMetricWarning: F-score is ill-defined and being set to 0.0 due to no predicted samples.\n",
      "  'precision', 'predicted', average, warn_for)\n",
      "C:\\Users\\andre\\Anaconda3\\lib\\site-packages\\sklearn\\metrics\\classification.py:1135: UndefinedMetricWarning: Precision is ill-defined and being set to 0.0 due to no predicted samples.\n",
      "  'precision', 'predicted', average, warn_for)\n",
      "C:\\Users\\andre\\Anaconda3\\lib\\site-packages\\sklearn\\metrics\\classification.py:1135: UndefinedMetricWarning: Precision is ill-defined and being set to 0.0 due to no predicted samples.\n",
      "  'precision', 'predicted', average, warn_for)\n",
      "C:\\Users\\andre\\Anaconda3\\lib\\site-packages\\sklearn\\metrics\\ranking.py:444: RuntimeWarning: invalid value encountered in true_divide\n",
      "  recall = tps / tps[-1]\n",
      "C:\\Users\\andre\\Anaconda3\\lib\\site-packages\\sklearn\\metrics\\ranking.py:94: RuntimeWarning: invalid value encountered in less\n",
      "  if np.any(dx < 0):\n"
     ]
    },
    {
     "name": "stdout",
     "output_type": "stream",
     "text": [
      "only 1 class in test data - cannot compute roc curve\n",
      "\n",
      "Subj/Visit 1, prec=0.000, rec=0.000, Spec=1.000, auroc_train=1.000, auroc=nan\n",
      "only 1 class in test data - cannot compute roc curve\n",
      "\n",
      "Subj/Visit 2, prec=0.000, rec=0.000, Spec=1.000, auroc_train=1.000, auroc=nan\n"
     ]
    },
    {
     "name": "stderr",
     "output_type": "stream",
     "text": [
      "C:\\Users\\andre\\Anaconda3\\lib\\site-packages\\sklearn\\metrics\\ranking.py:444: RuntimeWarning: invalid value encountered in true_divide\n",
      "  recall = tps / tps[-1]\n",
      "C:\\Users\\andre\\Anaconda3\\lib\\site-packages\\sklearn\\metrics\\ranking.py:94: RuntimeWarning: invalid value encountered in less\n",
      "  if np.any(dx < 0):\n",
      "C:\\Users\\andre\\Anaconda3\\lib\\site-packages\\sklearn\\metrics\\classification.py:1135: UndefinedMetricWarning: F-score is ill-defined and being set to 0.0 due to no predicted samples.\n",
      "  'precision', 'predicted', average, warn_for)\n",
      "C:\\Users\\andre\\Anaconda3\\lib\\site-packages\\sklearn\\metrics\\classification.py:1135: UndefinedMetricWarning: Precision is ill-defined and being set to 0.0 due to no predicted samples.\n",
      "  'precision', 'predicted', average, warn_for)\n",
      "C:\\Users\\andre\\Anaconda3\\lib\\site-packages\\sklearn\\metrics\\classification.py:1135: UndefinedMetricWarning: Precision is ill-defined and being set to 0.0 due to no predicted samples.\n",
      "  'precision', 'predicted', average, warn_for)\n"
     ]
    },
    {
     "name": "stdout",
     "output_type": "stream",
     "text": [
      "\n",
      "Subj/Visit 3, prec=0.000, rec=0.000, Spec=1.000, auroc_train=1.000, auroc=0.989\n",
      "only 1 class in test data - cannot compute roc curve\n",
      "\n",
      "Subj/Visit 4, prec=0.000, rec=0.000, Spec=1.000, auroc_train=1.000, auroc=nan\n"
     ]
    },
    {
     "name": "stderr",
     "output_type": "stream",
     "text": [
      "C:\\Users\\andre\\Anaconda3\\lib\\site-packages\\sklearn\\metrics\\ranking.py:444: RuntimeWarning: invalid value encountered in true_divide\n",
      "  recall = tps / tps[-1]\n",
      "C:\\Users\\andre\\Anaconda3\\lib\\site-packages\\sklearn\\metrics\\ranking.py:94: RuntimeWarning: invalid value encountered in less\n",
      "  if np.any(dx < 0):\n",
      "C:\\Users\\andre\\Anaconda3\\lib\\site-packages\\sklearn\\metrics\\ranking.py:444: RuntimeWarning: invalid value encountered in true_divide\n",
      "  recall = tps / tps[-1]\n",
      "C:\\Users\\andre\\Anaconda3\\lib\\site-packages\\sklearn\\metrics\\ranking.py:94: RuntimeWarning: invalid value encountered in less\n",
      "  if np.any(dx < 0):\n"
     ]
    },
    {
     "name": "stdout",
     "output_type": "stream",
     "text": [
      "only 1 class in test data - cannot compute roc curve\n",
      "\n",
      "Subj/Visit 5, prec=0.000, rec=0.000, Spec=1.000, auroc_train=1.000, auroc=nan\n",
      "f1_test=0.000+/-0.000, prec=0.000+/-0.000, rec=0.000+/-0.000, auprc=0.788+/-0.043, auroc=0.991+/-0.002\n",
      "Subject 1049\n",
      "Training Random Forest\n",
      "\n",
      "Subj/Visit 0, prec=0.907, rec=0.775, Spec=0.884, auroc_train=1.000, auroc=0.889\n",
      "\n",
      "Subj/Visit 1, prec=0.812, rec=0.806, Spec=0.858, auroc_train=1.000, auroc=0.895\n",
      "\n",
      "Subj/Visit 2, prec=0.742, rec=0.821, Spec=0.796, auroc_train=1.000, auroc=0.910\n",
      "\n",
      "Subj/Visit 3, prec=0.830, rec=0.393, Spec=0.961, auroc_train=1.000, auroc=0.880\n",
      "\n",
      "Subj/Visit 4, prec=0.806, rec=0.806, Spec=0.917, auroc_train=1.000, auroc=0.942\n",
      "\n",
      "Subj/Visit 5, prec=0.795, rec=0.703, Spec=0.860, auroc_train=1.000, auroc=0.874\n",
      "\n",
      "Subj/Visit 6, prec=0.785, rec=0.692, Spec=0.818, auroc_train=1.000, auroc=0.822\n",
      "f1_test=0.749+/-0.094, prec=0.811+/-0.047, rec=0.714+/-0.139, auprc=0.857+/-0.044, auroc=0.887+/-0.034\n",
      "Subject 1051\n",
      "Training Random Forest\n",
      "only 1 class in test data - cannot compute roc curve\n",
      "\n",
      "Subj/Visit 0, prec=0.000, rec=0.000, Spec=1.000, auroc_train=1.000, auroc=nan\n"
     ]
    },
    {
     "name": "stderr",
     "output_type": "stream",
     "text": [
      "C:\\Users\\andre\\Anaconda3\\lib\\site-packages\\sklearn\\metrics\\ranking.py:444: RuntimeWarning: invalid value encountered in true_divide\n",
      "  recall = tps / tps[-1]\n",
      "C:\\Users\\andre\\Anaconda3\\lib\\site-packages\\sklearn\\metrics\\ranking.py:94: RuntimeWarning: invalid value encountered in less\n",
      "  if np.any(dx < 0):\n",
      "C:\\Users\\andre\\Anaconda3\\lib\\site-packages\\sklearn\\metrics\\ranking.py:444: RuntimeWarning: invalid value encountered in true_divide\n",
      "  recall = tps / tps[-1]\n",
      "C:\\Users\\andre\\Anaconda3\\lib\\site-packages\\sklearn\\metrics\\ranking.py:94: RuntimeWarning: invalid value encountered in less\n",
      "  if np.any(dx < 0):\n"
     ]
    },
    {
     "name": "stdout",
     "output_type": "stream",
     "text": [
      "only 1 class in test data - cannot compute roc curve\n",
      "\n",
      "Subj/Visit 1, prec=0.000, rec=0.000, Spec=1.000, auroc_train=1.000, auroc=nan\n",
      "only 1 class in test data - cannot compute roc curve\n",
      "\n",
      "Subj/Visit 2, prec=0.000, rec=0.000, Spec=1.000, auroc_train=1.000, auroc=nan\n"
     ]
    },
    {
     "name": "stderr",
     "output_type": "stream",
     "text": [
      "C:\\Users\\andre\\Anaconda3\\lib\\site-packages\\sklearn\\metrics\\ranking.py:444: RuntimeWarning: invalid value encountered in true_divide\n",
      "  recall = tps / tps[-1]\n",
      "C:\\Users\\andre\\Anaconda3\\lib\\site-packages\\sklearn\\metrics\\ranking.py:94: RuntimeWarning: invalid value encountered in less\n",
      "  if np.any(dx < 0):\n",
      "C:\\Users\\andre\\Anaconda3\\lib\\site-packages\\sklearn\\metrics\\ranking.py:444: RuntimeWarning: invalid value encountered in true_divide\n",
      "  recall = tps / tps[-1]\n",
      "C:\\Users\\andre\\Anaconda3\\lib\\site-packages\\sklearn\\metrics\\ranking.py:94: RuntimeWarning: invalid value encountered in less\n",
      "  if np.any(dx < 0):\n"
     ]
    },
    {
     "name": "stdout",
     "output_type": "stream",
     "text": [
      "only 1 class in test data - cannot compute roc curve\n",
      "\n",
      "Subj/Visit 3, prec=0.000, rec=0.000, Spec=1.000, auroc_train=1.000, auroc=nan\n",
      "only 1 class in test data - cannot compute roc curve\n",
      "\n",
      "Subj/Visit 4, prec=0.000, rec=0.000, Spec=1.000, auroc_train=1.000, auroc=nan\n"
     ]
    },
    {
     "name": "stderr",
     "output_type": "stream",
     "text": [
      "C:\\Users\\andre\\Anaconda3\\lib\\site-packages\\sklearn\\metrics\\ranking.py:444: RuntimeWarning: invalid value encountered in true_divide\n",
      "  recall = tps / tps[-1]\n",
      "C:\\Users\\andre\\Anaconda3\\lib\\site-packages\\sklearn\\metrics\\ranking.py:94: RuntimeWarning: invalid value encountered in less\n",
      "  if np.any(dx < 0):\n",
      "C:\\Users\\andre\\Anaconda3\\lib\\site-packages\\sklearn\\metrics\\ranking.py:444: RuntimeWarning: invalid value encountered in true_divide\n",
      "  recall = tps / tps[-1]\n",
      "C:\\Users\\andre\\Anaconda3\\lib\\site-packages\\sklearn\\metrics\\ranking.py:94: RuntimeWarning: invalid value encountered in less\n",
      "  if np.any(dx < 0):\n",
      "C:\\Users\\andre\\Anaconda3\\lib\\site-packages\\ipykernel_launcher.py:92: RuntimeWarning: Mean of empty slice\n",
      "C:\\Users\\andre\\Anaconda3\\lib\\site-packages\\numpy\\lib\\nanfunctions.py:1434: RuntimeWarning: Degrees of freedom <= 0 for slice.\n",
      "  keepdims=keepdims)\n",
      "C:\\Users\\andre\\Anaconda3\\lib\\site-packages\\ipykernel_launcher.py:99: RuntimeWarning: Mean of empty slice\n"
     ]
    },
    {
     "name": "stdout",
     "output_type": "stream",
     "text": [
      "only 1 class in test data - cannot compute roc curve\n",
      "\n",
      "Subj/Visit 5, prec=0.000, rec=0.000, Spec=1.000, auroc_train=1.000, auroc=nan\n",
      "only 1 class available in train data - skipping\n",
      "f1_test=0.000+/-0.000, prec=0.000+/-0.000, rec=0.000+/-0.000, auprc=nan+/-nan, auroc=nan+/-nan\n",
      "Subject 1052\n",
      "Training Random Forest\n",
      "\n",
      "Subj/Visit 0, prec=1.000, rec=0.011, Spec=1.000, auroc_train=1.000, auroc=0.685\n"
     ]
    },
    {
     "name": "stderr",
     "output_type": "stream",
     "text": [
      "C:\\Users\\andre\\Anaconda3\\lib\\site-packages\\sklearn\\metrics\\ranking.py:444: RuntimeWarning: invalid value encountered in true_divide\n",
      "  recall = tps / tps[-1]\n",
      "C:\\Users\\andre\\Anaconda3\\lib\\site-packages\\sklearn\\metrics\\ranking.py:94: RuntimeWarning: invalid value encountered in less\n",
      "  if np.any(dx < 0):\n"
     ]
    },
    {
     "name": "stdout",
     "output_type": "stream",
     "text": [
      "only 1 class in test data - cannot compute roc curve\n",
      "\n",
      "Subj/Visit 1, prec=0.000, rec=0.000, Spec=1.000, auroc_train=1.000, auroc=nan\n"
     ]
    },
    {
     "name": "stderr",
     "output_type": "stream",
     "text": [
      "C:\\Users\\andre\\Anaconda3\\lib\\site-packages\\sklearn\\metrics\\ranking.py:444: RuntimeWarning: invalid value encountered in true_divide\n",
      "  recall = tps / tps[-1]\n",
      "C:\\Users\\andre\\Anaconda3\\lib\\site-packages\\sklearn\\metrics\\ranking.py:94: RuntimeWarning: invalid value encountered in less\n",
      "  if np.any(dx < 0):\n"
     ]
    },
    {
     "name": "stdout",
     "output_type": "stream",
     "text": [
      "only 1 class in test data - cannot compute roc curve\n",
      "\n",
      "Subj/Visit 2, prec=0.000, rec=0.000, Spec=1.000, auroc_train=1.000, auroc=nan\n",
      "\n",
      "Subj/Visit 3, prec=0.500, rec=0.033, Spec=0.996, auroc_train=1.000, auroc=0.751\n"
     ]
    },
    {
     "name": "stderr",
     "output_type": "stream",
     "text": [
      "C:\\Users\\andre\\Anaconda3\\lib\\site-packages\\sklearn\\metrics\\ranking.py:444: RuntimeWarning: invalid value encountered in true_divide\n",
      "  recall = tps / tps[-1]\n",
      "C:\\Users\\andre\\Anaconda3\\lib\\site-packages\\sklearn\\metrics\\ranking.py:94: RuntimeWarning: invalid value encountered in less\n",
      "  if np.any(dx < 0):\n"
     ]
    },
    {
     "name": "stdout",
     "output_type": "stream",
     "text": [
      "only 1 class in test data - cannot compute roc curve\n",
      "\n",
      "Subj/Visit 4, prec=0.000, rec=0.000, Spec=1.000, auroc_train=1.000, auroc=nan\n"
     ]
    },
    {
     "name": "stderr",
     "output_type": "stream",
     "text": [
      "C:\\Users\\andre\\Anaconda3\\lib\\site-packages\\sklearn\\metrics\\ranking.py:444: RuntimeWarning: invalid value encountered in true_divide\n",
      "  recall = tps / tps[-1]\n",
      "C:\\Users\\andre\\Anaconda3\\lib\\site-packages\\sklearn\\metrics\\ranking.py:94: RuntimeWarning: invalid value encountered in less\n",
      "  if np.any(dx < 0):\n",
      "C:\\Users\\andre\\Anaconda3\\lib\\site-packages\\ipykernel_launcher.py:90: RuntimeWarning: Mean of empty slice\n",
      "C:\\Users\\andre\\Anaconda3\\lib\\site-packages\\numpy\\lib\\nanfunctions.py:1434: RuntimeWarning: Degrees of freedom <= 0 for slice.\n",
      "  keepdims=keepdims)\n",
      "C:\\Users\\andre\\Anaconda3\\lib\\site-packages\\ipykernel_launcher.py:91: RuntimeWarning: Mean of empty slice\n",
      "C:\\Users\\andre\\Anaconda3\\lib\\site-packages\\ipykernel_launcher.py:92: RuntimeWarning: Mean of empty slice\n",
      "C:\\Users\\andre\\Anaconda3\\lib\\site-packages\\ipykernel_launcher.py:99: RuntimeWarning: Mean of empty slice\n",
      "C:\\Users\\andre\\Anaconda3\\lib\\site-packages\\sklearn\\metrics\\ranking.py:444: RuntimeWarning: invalid value encountered in true_divide\n",
      "  recall = tps / tps[-1]\n",
      "C:\\Users\\andre\\Anaconda3\\lib\\site-packages\\sklearn\\metrics\\ranking.py:94: RuntimeWarning: invalid value encountered in less\n",
      "  if np.any(dx < 0):\n"
     ]
    },
    {
     "name": "stdout",
     "output_type": "stream",
     "text": [
      "only 1 class in test data - cannot compute roc curve\n",
      "\n",
      "Subj/Visit 5, prec=0.000, rec=0.000, Spec=1.000, auroc_train=1.000, auroc=nan\n",
      "f1_test=0.014+/-0.023, prec=0.250+/-0.382, rec=0.007+/-0.012, auprc=0.345+/-0.160, auroc=0.718+/-0.033\n",
      "Subject 1053\n",
      "Training Random Forest\n",
      "only 1 class available in train data - skipping\n",
      "only 1 class available in train data - skipping\n",
      "only 1 class available in train data - skipping\n",
      "only 1 class available in train data - skipping\n",
      "only 1 class available in train data - skipping\n",
      "only 1 class available in train data - skipping\n",
      "f1_test=nan+/-nan, prec=nan+/-nan, rec=nan+/-nan, auprc=nan+/-nan, auroc=nan+/-nan\n",
      "Subject 1054\n",
      "Training Random Forest\n",
      "only 1 class available in train data - skipping\n",
      "only 1 class in test data - cannot compute roc curve\n",
      "\n",
      "Subj/Visit 0, prec=0.000, rec=0.000, Spec=1.000, auroc_train=1.000, auroc=nan\n"
     ]
    },
    {
     "name": "stderr",
     "output_type": "stream",
     "text": [
      "C:\\Users\\andre\\Anaconda3\\lib\\site-packages\\sklearn\\metrics\\ranking.py:444: RuntimeWarning: invalid value encountered in true_divide\n",
      "  recall = tps / tps[-1]\n",
      "C:\\Users\\andre\\Anaconda3\\lib\\site-packages\\sklearn\\metrics\\ranking.py:94: RuntimeWarning: invalid value encountered in less\n",
      "  if np.any(dx < 0):\n",
      "C:\\Users\\andre\\Anaconda3\\lib\\site-packages\\sklearn\\metrics\\ranking.py:444: RuntimeWarning: invalid value encountered in true_divide\n",
      "  recall = tps / tps[-1]\n",
      "C:\\Users\\andre\\Anaconda3\\lib\\site-packages\\sklearn\\metrics\\ranking.py:94: RuntimeWarning: invalid value encountered in less\n",
      "  if np.any(dx < 0):\n"
     ]
    },
    {
     "name": "stdout",
     "output_type": "stream",
     "text": [
      "only 1 class in test data - cannot compute roc curve\n",
      "\n",
      "Subj/Visit 1, prec=0.000, rec=0.000, Spec=1.000, auroc_train=1.000, auroc=nan\n",
      "only 1 class in test data - cannot compute roc curve\n",
      "\n",
      "Subj/Visit 2, prec=0.000, rec=0.000, Spec=1.000, auroc_train=1.000, auroc=nan\n"
     ]
    },
    {
     "name": "stderr",
     "output_type": "stream",
     "text": [
      "C:\\Users\\andre\\Anaconda3\\lib\\site-packages\\sklearn\\metrics\\ranking.py:444: RuntimeWarning: invalid value encountered in true_divide\n",
      "  recall = tps / tps[-1]\n",
      "C:\\Users\\andre\\Anaconda3\\lib\\site-packages\\sklearn\\metrics\\ranking.py:94: RuntimeWarning: invalid value encountered in less\n",
      "  if np.any(dx < 0):\n",
      "C:\\Users\\andre\\Anaconda3\\lib\\site-packages\\sklearn\\metrics\\ranking.py:444: RuntimeWarning: invalid value encountered in true_divide\n",
      "  recall = tps / tps[-1]\n",
      "C:\\Users\\andre\\Anaconda3\\lib\\site-packages\\sklearn\\metrics\\ranking.py:94: RuntimeWarning: invalid value encountered in less\n",
      "  if np.any(dx < 0):\n",
      "C:\\Users\\andre\\Anaconda3\\lib\\site-packages\\ipykernel_launcher.py:92: RuntimeWarning: Mean of empty slice\n",
      "C:\\Users\\andre\\Anaconda3\\lib\\site-packages\\numpy\\lib\\nanfunctions.py:1434: RuntimeWarning: Degrees of freedom <= 0 for slice.\n",
      "  keepdims=keepdims)\n",
      "C:\\Users\\andre\\Anaconda3\\lib\\site-packages\\ipykernel_launcher.py:99: RuntimeWarning: Mean of empty slice\n"
     ]
    },
    {
     "name": "stdout",
     "output_type": "stream",
     "text": [
      "only 1 class in test data - cannot compute roc curve\n",
      "\n",
      "Subj/Visit 3, prec=0.000, rec=0.000, Spec=1.000, auroc_train=1.000, auroc=nan\n",
      "only 1 class in test data - cannot compute roc curve\n",
      "\n",
      "Subj/Visit 4, prec=0.000, rec=0.000, Spec=1.000, auroc_train=1.000, auroc=nan\n",
      "f1_test=0.000+/-0.000, prec=0.000+/-0.000, rec=0.000+/-0.000, auprc=nan+/-nan, auroc=nan+/-nan\n",
      "Subject 1055\n",
      "Training Random Forest\n",
      "\n",
      "Subj/Visit 0, prec=0.955, rec=0.947, Spec=0.083, auroc_train=1.000, auroc=0.629\n",
      "\n",
      "Subj/Visit 1, prec=0.590, rec=0.902, Spec=0.056, auroc_train=1.000, auroc=0.549\n",
      "\n",
      "Subj/Visit 2, prec=0.683, rec=0.960, Spec=0.160, auroc_train=1.000, auroc=0.660\n",
      "\n",
      "Subj/Visit 3, prec=0.937, rec=0.933, Spec=0.444, auroc_train=1.000, auroc=0.879\n",
      "\n",
      "Subj/Visit 4, prec=0.829, rec=0.986, Spec=0.185, auroc_train=1.000, auroc=0.781\n",
      "\n",
      "Subj/Visit 5, prec=0.991, rec=0.909, Spec=0.000, auroc_train=1.000, auroc=0.499\n",
      "f1_test=0.874+/-0.089, prec=0.831+/-0.148, rec=0.940+/-0.029, auprc=0.888+/-0.123, auroc=0.666+/-0.130\n",
      "Subject 1056\n",
      "Training Random Forest\n",
      "\n",
      "Subj/Visit 0, prec=0.954, rec=0.873, Spec=0.519, auroc_train=1.000, auroc=0.775\n",
      "\n",
      "Subj/Visit 1, prec=0.395, rec=0.957, Spec=0.124, auroc_train=1.000, auroc=0.667\n",
      "\n",
      "Subj/Visit 2, prec=0.321, rec=0.970, Spec=0.072, auroc_train=1.000, auroc=0.614\n",
      "\n",
      "Subj/Visit 3, prec=0.973, rec=0.924, Spec=0.385, auroc_train=1.000, auroc=0.878\n",
      "only 1 class in test data - cannot compute roc curve\n",
      "\n",
      "Subj/Visit 4, prec=1.000, rec=0.964, Spec=nan, auroc_train=1.000, auroc=nan\n"
     ]
    },
    {
     "name": "stderr",
     "output_type": "stream",
     "text": [
      "C:\\Users\\andre\\Anaconda3\\lib\\site-packages\\ipykernel_launcher.py:48: RuntimeWarning: invalid value encountered in long_scalars\n"
     ]
    },
    {
     "name": "stdout",
     "output_type": "stream",
     "text": [
      "\n",
      "Subj/Visit 5, prec=0.889, rec=0.932, Spec=0.077, auroc_train=1.000, auroc=0.613\n",
      "f1_test=0.799+/-0.199, prec=0.755+/-0.284, rec=0.937+/-0.033, auprc=0.798+/-0.249, auroc=0.709+/-0.103\n"
     ]
    }
   ],
   "source": [
    "symptom = 'Tremor'\n",
    "le = LabelEncoder()\n",
    "res_all = pd.DataFrame(data=None,index=None)\n",
    "#train on all sessions, predict on left out session for each patient\n",
    "res_visit_all = [] #data from each subject \n",
    "\n",
    "#remove nan rows for current symptom\n",
    "Data = Dataorig.copy() #original unmodified dataframe\n",
    "Data=Data[~Data[symptom].isnull()]\n",
    "Data=Data.reset_index(drop=True) #reset index\n",
    "\n",
    "for s in Data.Subject.unique():\n",
    "    print('Subject %s'%s)\n",
    "    ds = Data.loc[Data.Subject==s]\n",
    "    indp = (ds[symptom]>0).values\n",
    "    y = indp.astype(int) #target \n",
    "    X = ds.iloc[:,7:]\n",
    "    X_std = StandardScaler().fit_transform(X) #standardize input data\n",
    "    models = [RandomForestClassifier(n_estimators=50,random_state=2)]#,XGBClassifier()]\n",
    "    model_name = ['Random Forest']#,'XGB']\n",
    "    models = list(zip(models,model_name))\n",
    "    groups = le.fit_transform(ds.Visit)\n",
    "    if len(np.unique(groups))<2:\n",
    "        continue\n",
    "    res,res_group = LOSOCV(ds,X_std,y,groups,models)\n",
    "    res.index = res.index+s\n",
    "    res_all=pd.concat((res_all,res))\n",
    "    res_visit_all.append(res_group)\n"
   ]
  },
  {
   "cell_type": "code",
   "execution_count": 17,
   "metadata": {},
   "outputs": [],
   "source": [
    "resultstremor_pers=res_all.auroc.values\n",
    "np.save(os.path.join(results_path,'resultstremorPERS.npy'),resultstremor_pers)"
   ]
  },
  {
   "cell_type": "code",
   "execution_count": 18,
   "metadata": {},
   "outputs": [
    {
     "name": "stderr",
     "output_type": "stream",
     "text": [
      "C:\\Users\\andre\\Anaconda3\\lib\\site-packages\\ipykernel_launcher.py:12: RuntimeWarning: Mean of empty slice\n",
      "  if sys.path[0] == '':\n",
      "C:\\Users\\andre\\Anaconda3\\lib\\site-packages\\numpy\\lib\\nanfunctions.py:1434: RuntimeWarning: Degrees of freedom <= 0 for slice.\n",
      "  keepdims=keepdims)\n"
     ]
    }
   ],
   "source": [
    "#compute mean and std auc\n",
    "subjs=Data.Subject.unique()\n",
    "auc_mean = []; auc_std = []\n",
    "aucdf = pd.DataFrame()\n",
    "for i in range(len(res_visit_all)):\n",
    "\n",
    "    if len(res_visit_all[i]['Random Forest']['auroc']) < 7:\n",
    "        L = len(res_visit_all[i]['Random Forest']['auroc'])\n",
    "        res_visit_all[i]['Random Forest']['auroc'] += (list(np.nan*np.ones(7-L)))\n",
    "    aucdf[subjs[i]] = res_visit_all[i]['Random Forest']['auroc']   \n",
    "    auc = res_visit_all[i]['Random Forest']['auroc']\n",
    "    auc_mean.append(np.nanmean(auc)) #mean across visits\n",
    "    auc_std.append(np.nanstd(auc))"
   ]
  },
  {
   "cell_type": "code",
   "execution_count": 19,
   "metadata": {},
   "outputs": [
    {
     "data": {
      "text/plain": [
       "(0.45, 1.0)"
      ]
     },
     "execution_count": 19,
     "metadata": {},
     "output_type": "execute_result"
    },
    {
     "data": {
      "image/png": "[encoded data removed]",
      "text/plain": [
       "<Figure size 432x288 with 1 Axes>"
      ]
     },
     "metadata": {},
     "output_type": "display_data"
    }
   ],
   "source": [
    "sns.barplot(data=aucdf)\n",
    "ax=plt.xticks(rotation=90)\n",
    "plt.title('LOVO - Mean AUROC = %.3f +/- %.3f'%(np.nanmean(res_all.auroc),np.nanstd(res_all.auroc)))\n",
    "plt.ylim([0.45,1.])"
   ]
  },
  {
   "cell_type": "markdown",
   "metadata": {},
   "source": [
    "## Box plots comparing global and personal"
   ]
  },
  {
   "cell_type": "code",
   "execution_count": 20,
   "metadata": {},
   "outputs": [],
   "source": [
    "resultstremor = np.load(os.path.join(results_path,'resultstremorLOSO.npy'))\n",
    "resultsbrady = np.load(os.path.join(results_path,'resultsbradyLOSO.npy'))"
   ]
  },
  {
   "cell_type": "code",
   "execution_count": 21,
   "metadata": {},
   "outputs": [],
   "source": [
    "resultsbrady_pers=np.load(os.path.join(results_path,'resultsbradyPERS.npy'))\n",
    "resultstremor_pers=np.load(os.path.join(results_path,'resultstremorPERS.npy'))"
   ]
  },
  {
   "cell_type": "code",
   "execution_count": 22,
   "metadata": {},
   "outputs": [
    {
     "data": {
      "text/plain": [
       "19"
      ]
     },
     "execution_count": 22,
     "metadata": {},
     "output_type": "execute_result"
    }
   ],
   "source": [
    "len(resultstremor)"
   ]
  },
  {
   "cell_type": "code",
   "execution_count": 23,
   "metadata": {},
   "outputs": [],
   "source": [
    "results = pd.DataFrame({'Population-Bradykinesia':resultsbrady, 'Personal-Bradykinesia':resultsbrady_pers,\n",
    "             'Population-Tremor':resultstremor, 'Personal-Tremor':resultstremor_pers})"
   ]
  },
  {
   "cell_type": "code",
   "execution_count": 24,
   "metadata": {},
   "outputs": [],
   "source": [
    "brady_data = results[['Population-Bradykinesia','Personal-Bradykinesia']]"
   ]
  },
  {
   "cell_type": "code",
   "execution_count": 25,
   "metadata": {},
   "outputs": [
    {
     "data": {
      "text/plain": [
       "Ttest_relResult(statistic=6.7761034917453715, pvalue=2.392890207441125e-06)"
      ]
     },
     "execution_count": 25,
     "metadata": {},
     "output_type": "execute_result"
    }
   ],
   "source": [
    "stats.ttest_rel(results['Personal-Bradykinesia'].values,results['Population-Bradykinesia'].values)"
   ]
  },
  {
   "cell_type": "code",
   "execution_count": 26,
   "metadata": {},
   "outputs": [
    {
     "data": {
      "image/png": "[encoded data removed]",
      "text/plain": [
       "<Figure size 640x480 with 1 Axes>"
      ]
     },
     "metadata": {},
     "output_type": "display_data"
    }
   ],
   "source": [
    "figure = plt.figure()\n",
    "figure.set_dpi(100)\n",
    "figure.set_size_inches(6.4,4.8)\n",
    "ax = sns.boxplot(data=brady_data);\n",
    "plt.ylabel('AUROC');\n",
    "plt.ylim(0.5,1.1);\n",
    "plt.title('Bradykinesia');\n",
    "\n",
    "x1,x2 = 0,1\n",
    "y, h, col = brady_data['Personal-Bradykinesia'].max() + 0.02, 0.02, 'k'\n",
    "plt.plot([x1, x1, x2, x2], [y, y+h, y+h, y], lw=1.5, c=col)\n",
    "plt.text((x1+x2)*.5, y+h+0.01, \"***\", ha='center', va='bottom', color=col,fontsize=16);\n",
    "\n",
    "plt.savefig('Bradykinesia Comparison Boxplot.png',format='png',dpi=1000)\n",
    "plt.savefig('Bradykinesia Comparison Boxplot.tiff',format='tiff', dpi=1000)"
   ]
  },
  {
   "cell_type": "code",
   "execution_count": 27,
   "metadata": {},
   "outputs": [],
   "source": [
    "tremor_data = results[['Population-Tremor','Personal-Tremor']]"
   ]
  },
  {
   "cell_type": "code",
   "execution_count": 29,
   "metadata": {},
   "outputs": [
    {
     "data": {
      "text/plain": [
       "Ttest_relResult(statistic=4.494092565323346, pvalue=0.00042831179045540443)"
      ]
     },
     "execution_count": 29,
     "metadata": {},
     "output_type": "execute_result"
    }
   ],
   "source": [
    "stats.ttest_rel(results['Personal-Tremor'].values,results['Population-Tremor'].values,nan_policy='omit')"
   ]
  },
  {
   "cell_type": "code",
   "execution_count": 30,
   "metadata": {},
   "outputs": [
    {
     "data": {
      "image/png": "[encoded data removed]",
      "text/plain": [
       "<Figure size 640x480 with 1 Axes>"
      ]
     },
     "metadata": {},
     "output_type": "display_data"
    }
   ],
   "source": [
    "figure = plt.figure()\n",
    "figure.set_dpi(100)\n",
    "figure.set_size_inches(6.4,4.8)\n",
    "ax = sns.boxplot(data=tremor_data);\n",
    "plt.ylabel('AUROC');\n",
    "plt.ylim(0.5,1.1);\n",
    "plt.title('Tremor')\n",
    "\n",
    "x1,x2 = 0,1\n",
    "y, h, col = tremor_data['Personal-Tremor'].max() + 0.02, 0.02, 'k'\n",
    "plt.plot([x1, x1, x2, x2], [y, y+h, y+h, y], lw=1.5, c=col)\n",
    "plt.text((x1+x2)*.5, y+h+0.01, \"***\", ha='center', va='bottom', color=col,fontsize=16);\n",
    "\n",
    "plt.savefig('Tremor Comparison Boxplot.png',format='png',dpi=1000)\n",
    "plt.savefig('Tremor Comparison Boxplot.tiff',format='tiff',dpi=1000)"
   ]
  },
  {
   "cell_type": "code",
   "execution_count": 31,
   "metadata": {
    "scrolled": false
   },
   "outputs": [
    {
     "data": {
      "image/png": "[encoded data removed]",
      "text/plain": [
       "<Figure size 640x480 with 1 Axes>"
      ]
     },
     "metadata": {},
     "output_type": "display_data"
    }
   ],
   "source": [
    "pop1 = brady_data['Population-Bradykinesia']; pop2 = tremor_data['Population-Tremor'];\n",
    "per1 = brady_data['Personal-Bradykinesia']; per2 = tremor_data['Personal-Tremor'];\n",
    "\n",
    "g1 = np.shape(pop1)[0]*['Bradykinesia']\n",
    "g2 = np.shape(pop2)[0]*['Tremor']\n",
    "df = pd.DataFrame.from_dict({'Symptom':(g1 + g2),'Population':(list(pop1) + list(pop2)),'Personal':(list(per1) + list(per2))})\n",
    "df_new = pd.melt(df,id_vars=['Symptom'],value_vars=['Population','Personal'],var_name=['Model Type']);\n",
    "\n",
    "figure = plt.figure();\n",
    "figure.set_dpi(100);\n",
    "figure.set_size_inches(6.4,4.8);\n",
    "ax = sns.boxplot(x='Symptom',y='value',data=df_new,hue='Model Type');\n",
    "\n",
    "x1,x2 = -0.2,0.2\n",
    "y, h, col = brady_data['Personal-Bradykinesia'].max() + 0.02, 0.02, 'k'\n",
    "plt.plot([x1, x1, x2, x2], [y, y+h, y+h, y], lw=1.5, c=col)\n",
    "plt.text((x1+x2)*.5, y+h+0.01, \"***\", ha='center', va='bottom', color=col,fontsize=16);\n",
    "\n",
    "x3,x4 = 0.8,1.2\n",
    "y, h, col = tremor_data['Personal-Tremor'].max() + 0.02, 0.02, 'k'\n",
    "plt.plot([x3, x3, x4, x4], [y, y+h, y+h, y], lw=1.5, c=col)\n",
    "plt.text((x3+x4)*.5, y+h+0.01, \"***\", ha='center', va='bottom', color=col,fontsize=16);\n",
    "\n",
    "plt.ylim(0.3,1.125)\n",
    "plt.ylabel('AUROC');\n",
    "plt.title('Model Comparison')\n",
    "plt.savefig('Model Comparison.png',format='png',dpi=1000)\n",
    "plt.savefig('Model Comparison.tiff',format='tiff',dpi=1000)"
   ]
  },
  {
   "cell_type": "code",
   "execution_count": 16,
   "metadata": {},
   "outputs": [
    {
     "data": {
      "text/plain": [
       "(array([1, 2, 3, 4]), <a list of 4 Text xticklabel objects>)"
      ]
     },
     "execution_count": 16,
     "metadata": {},
     "output_type": "execute_result"
    },
    {
     "data": {
      "image/png": "[encoded data removed]",
      "text/plain": [
       "<matplotlib.figure.Figure at 0x198f0339320>"
      ]
     },
     "metadata": {},
     "output_type": "display_data"
    }
   ],
   "source": [
    "results.plot(kind='box')\n",
    "plt.xticks(rotation=90)"
   ]
  },
  {
   "cell_type": "markdown",
   "metadata": {},
   "source": [
    "## Evaluate performance of global models on Subtasks (this section has to be rewritten to train global and personal models on all tasks and analyze performance on each subset of tasks)"
   ]
  },
  {
   "cell_type": "code",
   "execution_count": 12,
   "metadata": {},
   "outputs": [],
   "source": [
    "from scipy import stats\n",
    "def save_object(obj, filename):\n",
    "    with open(filename, 'wb') as output:  # Overwrites any existing file.\n",
    "        pickle.dump(obj, output, pickle.HIGHEST_PROTOCOL)"
   ]
  },
  {
   "cell_type": "code",
   "execution_count": 13,
   "metadata": {},
   "outputs": [],
   "source": [
    "Dataorig = Data.copy()\n",
    "taskA = ['Motor #4: Finger to Nose','Motor #5: Alternating Hand Movements']\n",
    "taskB = ['Motor #2: Walking', 'Motor #3: Walking while Counting']\n",
    "taskB1 = ['Motor #1: Standing','Motor #13: Sitting'] #tremor\n",
    "taskC = ['Motor #10: Drinking Water','Motor #11: Organizing Folder','Motor #12: Folding Towels']\n",
    "taskD = ['Motor #7: Drawing on Paper','Motor #8: Typing on a Computer', 'Motor #9: Nuts and Bolts',]\n",
    "tasks = [taskA,taskB+taskB1,taskC,taskD]\n",
    "tasks = tasks# + [list(np.concatenate(tasks))]"
   ]
  },
  {
   "cell_type": "code",
   "execution_count": 14,
   "metadata": {
    "scrolled": true
   },
   "outputs": [
    {
     "name": "stdout",
     "output_type": "stream",
     "text": [
      "Rows w Tremor 8879/38405 = 0.23\n"
     ]
    },
    {
     "name": "stderr",
     "output_type": "stream",
     "text": [
      "C:\\Users\\andre\\Anaconda3\\lib\\site-packages\\sklearn\\metrics\\classification.py:1137: UndefinedMetricWarning: F-score is ill-defined and being set to 0.0 due to no true samples.\n",
      "  'recall', 'true', average, warn_for)\n",
      "C:\\Users\\andre\\Anaconda3\\lib\\site-packages\\sklearn\\metrics\\ranking.py:444: RuntimeWarning: invalid value encountered in true_divide\n",
      "  recall = tps / tps[-1]\n",
      "C:\\Users\\andre\\Anaconda3\\lib\\site-packages\\sklearn\\metrics\\ranking.py:94: RuntimeWarning: invalid value encountered in less\n",
      "  if np.any(dx < 0):\n",
      "C:\\Users\\andre\\Anaconda3\\lib\\site-packages\\sklearn\\metrics\\classification.py:1137: UndefinedMetricWarning: Recall is ill-defined and being set to 0.0 due to no true samples.\n",
      "  'recall', 'true', average, warn_for)\n"
     ]
    },
    {
     "name": "stdout",
     "output_type": "stream",
     "text": [
      "only 1 class in test data - cannot compute roc curve\n"
     ]
    },
    {
     "name": "stderr",
     "output_type": "stream",
     "text": [
      "C:\\Users\\andre\\Anaconda3\\lib\\site-packages\\sklearn\\metrics\\classification.py:1137: UndefinedMetricWarning: F-score is ill-defined and being set to 0.0 due to no true samples.\n",
      "  'recall', 'true', average, warn_for)\n",
      "C:\\Users\\andre\\Anaconda3\\lib\\site-packages\\sklearn\\metrics\\ranking.py:444: RuntimeWarning: invalid value encountered in true_divide\n",
      "  recall = tps / tps[-1]\n",
      "C:\\Users\\andre\\Anaconda3\\lib\\site-packages\\sklearn\\metrics\\ranking.py:94: RuntimeWarning: invalid value encountered in less\n",
      "  if np.any(dx < 0):\n",
      "C:\\Users\\andre\\Anaconda3\\lib\\site-packages\\sklearn\\metrics\\classification.py:1137: UndefinedMetricWarning: Recall is ill-defined and being set to 0.0 due to no true samples.\n",
      "  'recall', 'true', average, warn_for)\n"
     ]
    },
    {
     "name": "stdout",
     "output_type": "stream",
     "text": [
      "only 1 class in test data - cannot compute roc curve\n"
     ]
    },
    {
     "name": "stderr",
     "output_type": "stream",
     "text": [
      "C:\\Users\\andre\\Anaconda3\\lib\\site-packages\\sklearn\\metrics\\classification.py:1137: UndefinedMetricWarning: F-score is ill-defined and being set to 0.0 due to no true samples.\n",
      "  'recall', 'true', average, warn_for)\n",
      "C:\\Users\\andre\\Anaconda3\\lib\\site-packages\\sklearn\\metrics\\ranking.py:444: RuntimeWarning: invalid value encountered in true_divide\n",
      "  recall = tps / tps[-1]\n",
      "C:\\Users\\andre\\Anaconda3\\lib\\site-packages\\sklearn\\metrics\\ranking.py:94: RuntimeWarning: invalid value encountered in less\n",
      "  if np.any(dx < 0):\n",
      "C:\\Users\\andre\\Anaconda3\\lib\\site-packages\\sklearn\\metrics\\classification.py:1137: UndefinedMetricWarning: Recall is ill-defined and being set to 0.0 due to no true samples.\n",
      "  'recall', 'true', average, warn_for)\n"
     ]
    },
    {
     "name": "stdout",
     "output_type": "stream",
     "text": [
      "only 1 class in test data - cannot compute roc curve\n"
     ]
    },
    {
     "name": "stderr",
     "output_type": "stream",
     "text": [
      "C:\\Users\\andre\\Anaconda3\\lib\\site-packages\\sklearn\\metrics\\ranking.py:444: RuntimeWarning: invalid value encountered in true_divide\n",
      "  recall = tps / tps[-1]\n",
      "C:\\Users\\andre\\Anaconda3\\lib\\site-packages\\sklearn\\metrics\\ranking.py:94: RuntimeWarning: invalid value encountered in less\n",
      "  if np.any(dx < 0):\n"
     ]
    },
    {
     "name": "stdout",
     "output_type": "stream",
     "text": [
      "only 1 class in test data - cannot compute roc curve\n"
     ]
    },
    {
     "name": "stderr",
     "output_type": "stream",
     "text": [
      "C:\\Users\\andre\\Anaconda3\\lib\\site-packages\\sklearn\\metrics\\classification.py:1137: UndefinedMetricWarning: F-score is ill-defined and being set to 0.0 due to no true samples.\n",
      "  'recall', 'true', average, warn_for)\n",
      "C:\\Users\\andre\\Anaconda3\\lib\\site-packages\\sklearn\\metrics\\ranking.py:444: RuntimeWarning: invalid value encountered in true_divide\n",
      "  recall = tps / tps[-1]\n",
      "C:\\Users\\andre\\Anaconda3\\lib\\site-packages\\sklearn\\metrics\\ranking.py:94: RuntimeWarning: invalid value encountered in less\n",
      "  if np.any(dx < 0):\n",
      "C:\\Users\\andre\\Anaconda3\\lib\\site-packages\\sklearn\\metrics\\classification.py:1137: UndefinedMetricWarning: Recall is ill-defined and being set to 0.0 due to no true samples.\n",
      "  'recall', 'true', average, warn_for)\n"
     ]
    },
    {
     "name": "stdout",
     "output_type": "stream",
     "text": [
      "only 1 class in test data - cannot compute roc curve\n"
     ]
    },
    {
     "name": "stderr",
     "output_type": "stream",
     "text": [
      "C:\\Users\\andre\\Anaconda3\\lib\\site-packages\\sklearn\\metrics\\ranking.py:444: RuntimeWarning: invalid value encountered in true_divide\n",
      "  recall = tps / tps[-1]\n",
      "C:\\Users\\andre\\Anaconda3\\lib\\site-packages\\sklearn\\metrics\\ranking.py:94: RuntimeWarning: invalid value encountered in less\n",
      "  if np.any(dx < 0):\n"
     ]
    },
    {
     "name": "stdout",
     "output_type": "stream",
     "text": [
      "only 1 class in test data - cannot compute roc curve\n"
     ]
    },
    {
     "name": "stderr",
     "output_type": "stream",
     "text": [
      "C:\\Users\\andre\\Anaconda3\\lib\\site-packages\\sklearn\\metrics\\ranking.py:444: RuntimeWarning: invalid value encountered in true_divide\n",
      "  recall = tps / tps[-1]\n",
      "C:\\Users\\andre\\Anaconda3\\lib\\site-packages\\sklearn\\metrics\\ranking.py:94: RuntimeWarning: invalid value encountered in less\n",
      "  if np.any(dx < 0):\n"
     ]
    },
    {
     "name": "stdout",
     "output_type": "stream",
     "text": [
      "only 1 class in test data - cannot compute roc curve\n"
     ]
    },
    {
     "name": "stderr",
     "output_type": "stream",
     "text": [
      "C:\\Users\\andre\\Anaconda3\\lib\\site-packages\\sklearn\\metrics\\ranking.py:444: RuntimeWarning: invalid value encountered in true_divide\n",
      "  recall = tps / tps[-1]\n",
      "C:\\Users\\andre\\Anaconda3\\lib\\site-packages\\sklearn\\metrics\\ranking.py:94: RuntimeWarning: invalid value encountered in less\n",
      "  if np.any(dx < 0):\n"
     ]
    },
    {
     "name": "stdout",
     "output_type": "stream",
     "text": [
      "only 1 class in test data - cannot compute roc curve\n"
     ]
    },
    {
     "name": "stderr",
     "output_type": "stream",
     "text": [
      "C:\\Users\\andre\\Anaconda3\\lib\\site-packages\\sklearn\\metrics\\ranking.py:444: RuntimeWarning: invalid value encountered in true_divide\n",
      "  recall = tps / tps[-1]\n",
      "C:\\Users\\andre\\Anaconda3\\lib\\site-packages\\sklearn\\metrics\\ranking.py:94: RuntimeWarning: invalid value encountered in less\n",
      "  if np.any(dx < 0):\n"
     ]
    },
    {
     "name": "stdout",
     "output_type": "stream",
     "text": [
      "only 1 class in test data - cannot compute roc curve\n"
     ]
    },
    {
     "name": "stderr",
     "output_type": "stream",
     "text": [
      "C:\\Users\\andre\\Anaconda3\\lib\\site-packages\\sklearn\\metrics\\ranking.py:444: RuntimeWarning: invalid value encountered in true_divide\n",
      "  recall = tps / tps[-1]\n",
      "C:\\Users\\andre\\Anaconda3\\lib\\site-packages\\sklearn\\metrics\\ranking.py:94: RuntimeWarning: invalid value encountered in less\n",
      "  if np.any(dx < 0):\n"
     ]
    },
    {
     "name": "stdout",
     "output_type": "stream",
     "text": [
      "only 1 class in test data - cannot compute roc curve\n"
     ]
    },
    {
     "name": "stderr",
     "output_type": "stream",
     "text": [
      "C:\\Users\\andre\\Anaconda3\\lib\\site-packages\\sklearn\\metrics\\classification.py:1137: UndefinedMetricWarning: F-score is ill-defined and being set to 0.0 due to no true samples.\n",
      "  'recall', 'true', average, warn_for)\n",
      "C:\\Users\\andre\\Anaconda3\\lib\\site-packages\\sklearn\\metrics\\ranking.py:444: RuntimeWarning: invalid value encountered in true_divide\n",
      "  recall = tps / tps[-1]\n",
      "C:\\Users\\andre\\Anaconda3\\lib\\site-packages\\sklearn\\metrics\\ranking.py:94: RuntimeWarning: invalid value encountered in less\n",
      "  if np.any(dx < 0):\n",
      "C:\\Users\\andre\\Anaconda3\\lib\\site-packages\\sklearn\\metrics\\classification.py:1137: UndefinedMetricWarning: Recall is ill-defined and being set to 0.0 due to no true samples.\n",
      "  'recall', 'true', average, warn_for)\n"
     ]
    },
    {
     "name": "stdout",
     "output_type": "stream",
     "text": [
      "only 1 class in test data - cannot compute roc curve\n"
     ]
    },
    {
     "name": "stderr",
     "output_type": "stream",
     "text": [
      "C:\\Users\\andre\\Anaconda3\\lib\\site-packages\\sklearn\\metrics\\classification.py:1137: UndefinedMetricWarning: F-score is ill-defined and being set to 0.0 due to no true samples.\n",
      "  'recall', 'true', average, warn_for)\n",
      "C:\\Users\\andre\\Anaconda3\\lib\\site-packages\\sklearn\\metrics\\ranking.py:444: RuntimeWarning: invalid value encountered in true_divide\n",
      "  recall = tps / tps[-1]\n",
      "C:\\Users\\andre\\Anaconda3\\lib\\site-packages\\sklearn\\metrics\\ranking.py:94: RuntimeWarning: invalid value encountered in less\n",
      "  if np.any(dx < 0):\n",
      "C:\\Users\\andre\\Anaconda3\\lib\\site-packages\\sklearn\\metrics\\classification.py:1137: UndefinedMetricWarning: Recall is ill-defined and being set to 0.0 due to no true samples.\n",
      "  'recall', 'true', average, warn_for)\n"
     ]
    },
    {
     "name": "stdout",
     "output_type": "stream",
     "text": [
      "only 1 class in test data - cannot compute roc curve\n"
     ]
    },
    {
     "name": "stderr",
     "output_type": "stream",
     "text": [
      "C:\\Users\\andre\\Anaconda3\\lib\\site-packages\\sklearn\\metrics\\classification.py:1137: UndefinedMetricWarning: F-score is ill-defined and being set to 0.0 due to no true samples.\n",
      "  'recall', 'true', average, warn_for)\n",
      "C:\\Users\\andre\\Anaconda3\\lib\\site-packages\\sklearn\\metrics\\ranking.py:444: RuntimeWarning: invalid value encountered in true_divide\n",
      "  recall = tps / tps[-1]\n",
      "C:\\Users\\andre\\Anaconda3\\lib\\site-packages\\sklearn\\metrics\\ranking.py:94: RuntimeWarning: invalid value encountered in less\n",
      "  if np.any(dx < 0):\n",
      "C:\\Users\\andre\\Anaconda3\\lib\\site-packages\\sklearn\\metrics\\classification.py:1137: UndefinedMetricWarning: Recall is ill-defined and being set to 0.0 due to no true samples.\n",
      "  'recall', 'true', average, warn_for)\n"
     ]
    },
    {
     "name": "stdout",
     "output_type": "stream",
     "text": [
      "only 1 class in test data - cannot compute roc curve\n"
     ]
    },
    {
     "name": "stderr",
     "output_type": "stream",
     "text": [
      "C:\\Users\\andre\\Anaconda3\\lib\\site-packages\\sklearn\\metrics\\classification.py:1137: UndefinedMetricWarning: F-score is ill-defined and being set to 0.0 due to no true samples.\n",
      "  'recall', 'true', average, warn_for)\n",
      "C:\\Users\\andre\\Anaconda3\\lib\\site-packages\\sklearn\\metrics\\ranking.py:444: RuntimeWarning: invalid value encountered in true_divide\n",
      "  recall = tps / tps[-1]\n",
      "C:\\Users\\andre\\Anaconda3\\lib\\site-packages\\sklearn\\metrics\\ranking.py:94: RuntimeWarning: invalid value encountered in less\n",
      "  if np.any(dx < 0):\n",
      "C:\\Users\\andre\\Anaconda3\\lib\\site-packages\\sklearn\\metrics\\classification.py:1137: UndefinedMetricWarning: Recall is ill-defined and being set to 0.0 due to no true samples.\n",
      "  'recall', 'true', average, warn_for)\n"
     ]
    },
    {
     "name": "stdout",
     "output_type": "stream",
     "text": [
      "only 1 class in test data - cannot compute roc curve\n"
     ]
    },
    {
     "name": "stderr",
     "output_type": "stream",
     "text": [
      "C:\\Users\\andre\\Anaconda3\\lib\\site-packages\\sklearn\\metrics\\classification.py:1137: UndefinedMetricWarning: F-score is ill-defined and being set to 0.0 due to no true samples.\n",
      "  'recall', 'true', average, warn_for)\n",
      "C:\\Users\\andre\\Anaconda3\\lib\\site-packages\\sklearn\\metrics\\ranking.py:444: RuntimeWarning: invalid value encountered in true_divide\n",
      "  recall = tps / tps[-1]\n",
      "C:\\Users\\andre\\Anaconda3\\lib\\site-packages\\sklearn\\metrics\\ranking.py:94: RuntimeWarning: invalid value encountered in less\n",
      "  if np.any(dx < 0):\n",
      "C:\\Users\\andre\\Anaconda3\\lib\\site-packages\\sklearn\\metrics\\classification.py:1137: UndefinedMetricWarning: Recall is ill-defined and being set to 0.0 due to no true samples.\n",
      "  'recall', 'true', average, warn_for)\n"
     ]
    },
    {
     "name": "stdout",
     "output_type": "stream",
     "text": [
      "only 1 class in test data - cannot compute roc curve\n"
     ]
    },
    {
     "name": "stderr",
     "output_type": "stream",
     "text": [
      "C:\\Users\\andre\\Anaconda3\\lib\\site-packages\\sklearn\\metrics\\classification.py:1137: UndefinedMetricWarning: F-score is ill-defined and being set to 0.0 due to no true samples.\n",
      "  'recall', 'true', average, warn_for)\n",
      "C:\\Users\\andre\\Anaconda3\\lib\\site-packages\\sklearn\\metrics\\ranking.py:444: RuntimeWarning: invalid value encountered in true_divide\n",
      "  recall = tps / tps[-1]\n",
      "C:\\Users\\andre\\Anaconda3\\lib\\site-packages\\sklearn\\metrics\\ranking.py:94: RuntimeWarning: invalid value encountered in less\n",
      "  if np.any(dx < 0):\n",
      "C:\\Users\\andre\\Anaconda3\\lib\\site-packages\\sklearn\\metrics\\classification.py:1137: UndefinedMetricWarning: Recall is ill-defined and being set to 0.0 due to no true samples.\n",
      "  'recall', 'true', average, warn_for)\n"
     ]
    },
    {
     "name": "stdout",
     "output_type": "stream",
     "text": [
      "only 1 class in test data - cannot compute roc curve\n"
     ]
    },
    {
     "name": "stderr",
     "output_type": "stream",
     "text": [
      "C:\\Users\\andre\\Anaconda3\\lib\\site-packages\\sklearn\\metrics\\classification.py:1137: UndefinedMetricWarning: F-score is ill-defined and being set to 0.0 due to no true samples.\n",
      "  'recall', 'true', average, warn_for)\n",
      "C:\\Users\\andre\\Anaconda3\\lib\\site-packages\\sklearn\\metrics\\ranking.py:444: RuntimeWarning: invalid value encountered in true_divide\n",
      "  recall = tps / tps[-1]\n",
      "C:\\Users\\andre\\Anaconda3\\lib\\site-packages\\sklearn\\metrics\\ranking.py:94: RuntimeWarning: invalid value encountered in less\n",
      "  if np.any(dx < 0):\n",
      "C:\\Users\\andre\\Anaconda3\\lib\\site-packages\\sklearn\\metrics\\classification.py:1137: UndefinedMetricWarning: Recall is ill-defined and being set to 0.0 due to no true samples.\n",
      "  'recall', 'true', average, warn_for)\n"
     ]
    },
    {
     "name": "stdout",
     "output_type": "stream",
     "text": [
      "only 1 class in test data - cannot compute roc curve\n"
     ]
    },
    {
     "name": "stderr",
     "output_type": "stream",
     "text": [
      "C:\\Users\\andre\\Anaconda3\\lib\\site-packages\\sklearn\\metrics\\classification.py:1137: UndefinedMetricWarning: F-score is ill-defined and being set to 0.0 due to no true samples.\n",
      "  'recall', 'true', average, warn_for)\n",
      "C:\\Users\\andre\\Anaconda3\\lib\\site-packages\\sklearn\\metrics\\ranking.py:444: RuntimeWarning: invalid value encountered in true_divide\n",
      "  recall = tps / tps[-1]\n",
      "C:\\Users\\andre\\Anaconda3\\lib\\site-packages\\sklearn\\metrics\\ranking.py:94: RuntimeWarning: invalid value encountered in less\n",
      "  if np.any(dx < 0):\n",
      "C:\\Users\\andre\\Anaconda3\\lib\\site-packages\\sklearn\\metrics\\classification.py:1137: UndefinedMetricWarning: Recall is ill-defined and being set to 0.0 due to no true samples.\n",
      "  'recall', 'true', average, warn_for)\n"
     ]
    },
    {
     "name": "stdout",
     "output_type": "stream",
     "text": [
      "only 1 class in test data - cannot compute roc curve\n"
     ]
    },
    {
     "name": "stderr",
     "output_type": "stream",
     "text": [
      "C:\\Users\\andre\\Anaconda3\\lib\\site-packages\\sklearn\\metrics\\classification.py:1137: UndefinedMetricWarning: F-score is ill-defined and being set to 0.0 due to no true samples.\n",
      "  'recall', 'true', average, warn_for)\n",
      "C:\\Users\\andre\\Anaconda3\\lib\\site-packages\\sklearn\\metrics\\ranking.py:444: RuntimeWarning: invalid value encountered in true_divide\n",
      "  recall = tps / tps[-1]\n",
      "C:\\Users\\andre\\Anaconda3\\lib\\site-packages\\sklearn\\metrics\\ranking.py:94: RuntimeWarning: invalid value encountered in less\n",
      "  if np.any(dx < 0):\n",
      "C:\\Users\\andre\\Anaconda3\\lib\\site-packages\\sklearn\\metrics\\classification.py:1137: UndefinedMetricWarning: Recall is ill-defined and being set to 0.0 due to no true samples.\n",
      "  'recall', 'true', average, warn_for)\n"
     ]
    },
    {
     "name": "stdout",
     "output_type": "stream",
     "text": [
      "only 1 class in test data - cannot compute roc curve\n"
     ]
    },
    {
     "name": "stderr",
     "output_type": "stream",
     "text": [
      "C:\\Users\\andre\\Anaconda3\\lib\\site-packages\\sklearn\\metrics\\classification.py:1137: UndefinedMetricWarning: F-score is ill-defined and being set to 0.0 due to no true samples.\n",
      "  'recall', 'true', average, warn_for)\n",
      "C:\\Users\\andre\\Anaconda3\\lib\\site-packages\\sklearn\\metrics\\ranking.py:444: RuntimeWarning: invalid value encountered in true_divide\n",
      "  recall = tps / tps[-1]\n",
      "C:\\Users\\andre\\Anaconda3\\lib\\site-packages\\sklearn\\metrics\\ranking.py:94: RuntimeWarning: invalid value encountered in less\n",
      "  if np.any(dx < 0):\n",
      "C:\\Users\\andre\\Anaconda3\\lib\\site-packages\\sklearn\\metrics\\classification.py:1137: UndefinedMetricWarning: Recall is ill-defined and being set to 0.0 due to no true samples.\n",
      "  'recall', 'true', average, warn_for)\n"
     ]
    },
    {
     "name": "stdout",
     "output_type": "stream",
     "text": [
      "only 1 class in test data - cannot compute roc curve\n"
     ]
    },
    {
     "name": "stderr",
     "output_type": "stream",
     "text": [
      "C:\\Users\\andre\\Anaconda3\\lib\\site-packages\\sklearn\\metrics\\classification.py:1137: UndefinedMetricWarning: F-score is ill-defined and being set to 0.0 due to no true samples.\n",
      "  'recall', 'true', average, warn_for)\n",
      "C:\\Users\\andre\\Anaconda3\\lib\\site-packages\\sklearn\\metrics\\ranking.py:444: RuntimeWarning: invalid value encountered in true_divide\n",
      "  recall = tps / tps[-1]\n",
      "C:\\Users\\andre\\Anaconda3\\lib\\site-packages\\sklearn\\metrics\\ranking.py:94: RuntimeWarning: invalid value encountered in less\n",
      "  if np.any(dx < 0):\n",
      "C:\\Users\\andre\\Anaconda3\\lib\\site-packages\\sklearn\\metrics\\classification.py:1137: UndefinedMetricWarning: Recall is ill-defined and being set to 0.0 due to no true samples.\n",
      "  'recall', 'true', average, warn_for)\n"
     ]
    },
    {
     "name": "stdout",
     "output_type": "stream",
     "text": [
      "only 1 class in test data - cannot compute roc curve\n"
     ]
    },
    {
     "name": "stderr",
     "output_type": "stream",
     "text": [
      "C:\\Users\\andre\\Anaconda3\\lib\\site-packages\\sklearn\\metrics\\classification.py:1137: UndefinedMetricWarning: F-score is ill-defined and being set to 0.0 due to no true samples.\n",
      "  'recall', 'true', average, warn_for)\n",
      "C:\\Users\\andre\\Anaconda3\\lib\\site-packages\\sklearn\\metrics\\ranking.py:444: RuntimeWarning: invalid value encountered in true_divide\n",
      "  recall = tps / tps[-1]\n",
      "C:\\Users\\andre\\Anaconda3\\lib\\site-packages\\sklearn\\metrics\\ranking.py:94: RuntimeWarning: invalid value encountered in less\n",
      "  if np.any(dx < 0):\n",
      "C:\\Users\\andre\\Anaconda3\\lib\\site-packages\\sklearn\\metrics\\classification.py:1137: UndefinedMetricWarning: Recall is ill-defined and being set to 0.0 due to no true samples.\n",
      "  'recall', 'true', average, warn_for)\n"
     ]
    },
    {
     "name": "stdout",
     "output_type": "stream",
     "text": [
      "only 1 class in test data - cannot compute roc curve\n"
     ]
    },
    {
     "name": "stderr",
     "output_type": "stream",
     "text": [
      "C:\\Users\\andre\\Anaconda3\\lib\\site-packages\\sklearn\\metrics\\classification.py:1137: UndefinedMetricWarning: F-score is ill-defined and being set to 0.0 due to no true samples.\n",
      "  'recall', 'true', average, warn_for)\n",
      "C:\\Users\\andre\\Anaconda3\\lib\\site-packages\\sklearn\\metrics\\ranking.py:444: RuntimeWarning: invalid value encountered in true_divide\n",
      "  recall = tps / tps[-1]\n",
      "C:\\Users\\andre\\Anaconda3\\lib\\site-packages\\sklearn\\metrics\\ranking.py:94: RuntimeWarning: invalid value encountered in less\n",
      "  if np.any(dx < 0):\n",
      "C:\\Users\\andre\\Anaconda3\\lib\\site-packages\\sklearn\\metrics\\classification.py:1137: UndefinedMetricWarning: Recall is ill-defined and being set to 0.0 due to no true samples.\n",
      "  'recall', 'true', average, warn_for)\n"
     ]
    },
    {
     "name": "stdout",
     "output_type": "stream",
     "text": [
      "only 1 class in test data - cannot compute roc curve\n"
     ]
    },
    {
     "name": "stderr",
     "output_type": "stream",
     "text": [
      "C:\\Users\\andre\\Anaconda3\\lib\\site-packages\\sklearn\\metrics\\classification.py:1137: UndefinedMetricWarning: F-score is ill-defined and being set to 0.0 due to no true samples.\n",
      "  'recall', 'true', average, warn_for)\n",
      "C:\\Users\\andre\\Anaconda3\\lib\\site-packages\\sklearn\\metrics\\ranking.py:444: RuntimeWarning: invalid value encountered in true_divide\n",
      "  recall = tps / tps[-1]\n",
      "C:\\Users\\andre\\Anaconda3\\lib\\site-packages\\sklearn\\metrics\\ranking.py:94: RuntimeWarning: invalid value encountered in less\n",
      "  if np.any(dx < 0):\n",
      "C:\\Users\\andre\\Anaconda3\\lib\\site-packages\\sklearn\\metrics\\classification.py:1137: UndefinedMetricWarning: Recall is ill-defined and being set to 0.0 due to no true samples.\n",
      "  'recall', 'true', average, warn_for)\n"
     ]
    },
    {
     "name": "stdout",
     "output_type": "stream",
     "text": [
      "only 1 class in test data - cannot compute roc curve\n"
     ]
    },
    {
     "name": "stderr",
     "output_type": "stream",
     "text": [
      "C:\\Users\\andre\\Anaconda3\\lib\\site-packages\\sklearn\\metrics\\classification.py:1137: UndefinedMetricWarning: F-score is ill-defined and being set to 0.0 due to no true samples.\n",
      "  'recall', 'true', average, warn_for)\n",
      "C:\\Users\\andre\\Anaconda3\\lib\\site-packages\\sklearn\\metrics\\ranking.py:444: RuntimeWarning: invalid value encountered in true_divide\n",
      "  recall = tps / tps[-1]\n",
      "C:\\Users\\andre\\Anaconda3\\lib\\site-packages\\sklearn\\metrics\\ranking.py:94: RuntimeWarning: invalid value encountered in less\n",
      "  if np.any(dx < 0):\n",
      "C:\\Users\\andre\\Anaconda3\\lib\\site-packages\\sklearn\\metrics\\classification.py:1137: UndefinedMetricWarning: Recall is ill-defined and being set to 0.0 due to no true samples.\n",
      "  'recall', 'true', average, warn_for)\n"
     ]
    },
    {
     "name": "stdout",
     "output_type": "stream",
     "text": [
      "only 1 class in test data - cannot compute roc curve\n"
     ]
    },
    {
     "name": "stderr",
     "output_type": "stream",
     "text": [
      "C:\\Users\\andre\\Anaconda3\\lib\\site-packages\\sklearn\\metrics\\classification.py:1137: UndefinedMetricWarning: F-score is ill-defined and being set to 0.0 due to no true samples.\n",
      "  'recall', 'true', average, warn_for)\n",
      "C:\\Users\\andre\\Anaconda3\\lib\\site-packages\\sklearn\\metrics\\ranking.py:444: RuntimeWarning: invalid value encountered in true_divide\n",
      "  recall = tps / tps[-1]\n",
      "C:\\Users\\andre\\Anaconda3\\lib\\site-packages\\sklearn\\metrics\\ranking.py:94: RuntimeWarning: invalid value encountered in less\n",
      "  if np.any(dx < 0):\n",
      "C:\\Users\\andre\\Anaconda3\\lib\\site-packages\\sklearn\\metrics\\classification.py:1137: UndefinedMetricWarning: Recall is ill-defined and being set to 0.0 due to no true samples.\n",
      "  'recall', 'true', average, warn_for)\n"
     ]
    },
    {
     "name": "stdout",
     "output_type": "stream",
     "text": [
      "only 1 class in test data - cannot compute roc curve\n",
      "Clinical 0.7254522705795429 (0.645481352377457, 0.8054231887816288)\n",
      "Walking 0.6817116654214878 (0.45570259358973775, 0.9077207372532378)\n"
     ]
    },
    {
     "name": "stderr",
     "output_type": "stream",
     "text": [
      "C:\\Users\\andre\\Anaconda3\\lib\\site-packages\\seaborn\\timeseries.py:183: UserWarning: The tsplot function is deprecated and will be removed or replaced (in a substantially altered version) in a future release.\n",
      "  warnings.warn(msg, UserWarning)\n"
     ]
    },
    {
     "name": "stdout",
     "output_type": "stream",
     "text": [
      "Gross Motor 0.5688706557060916 (0.5083018179980237, 0.6294394934141596)\n",
      "Fine Motor 0.702510620199436 (0.6031355974062202, 0.8018856429926517)\n",
      "Elapsed time = 15.646 min\n"
     ]
    },
    {
     "data": {
      "image/png": "[encoded data removed]",
      "text/plain": [
       "<matplotlib.figure.Figure at 0x2284bbe54e0>"
      ]
     },
     "metadata": {},
     "output_type": "display_data"
    }
   ],
   "source": [
    "# Global Models\n",
    "t1=time.time()\n",
    "res_all = pd.DataFrame()\n",
    "\n",
    "Data=Data.reset_index(drop=True) #reset index\n",
    "ind=1\n",
    "\n",
    "# for symptom in ['Bradykinesia']:\n",
    "for symptom in ['Tremor']:\n",
    "    \n",
    "    #remove nan rows for current symptom\n",
    "    Data = Dataorig.copy() #original unmodified dataframe\n",
    "    Data=Data[~Data[symptom].isnull()]\n",
    "    Data=Data.reset_index(drop=True) #reset index\n",
    "    \n",
    "    X = Data.iloc[:,7:].as_matrix()\n",
    "    # X = StandardScaler().fit_transform(X)\n",
    "    fnames = Data.iloc[:,7:].columns.values\n",
    "\n",
    "    indp = ((Data[symptom]>0))\n",
    "    indp = indp.values\n",
    "    y = indp.astype(int) #target \n",
    "    print('Rows w %s %d/%d = %.2f'%(symptom,sum(indp),len(indp),(sum(indp)/len(indp))))\n",
    "\n",
    "    models = [RandomForestClassifier(n_estimators=50,random_state=2)]          \n",
    "#           XGBClassifier()]\n",
    "    model_name = ['Random Forest']#,'XGB']\n",
    "    models = list(zip(models,model_name))\n",
    "    groups = Data.Subject.as_matrix()\n",
    "\n",
    "    res,res_group = LOSOCV_Tasks(Data,X,y,groups,tasks,models[0][0])\n",
    "    res_all = pd.concat((res_all,res))\n",
    "    \n",
    "    Tasks = list(res_group.keys())\n",
    "    AX=None\n",
    "#     plt.figure(figsize=(9,6))\n",
    "\n",
    "    figure = plt.figure()\n",
    "    figure.set_dpi(100)\n",
    "    figure.set_size_inches(6.4,4.8)\n",
    "    \n",
    "    cols = ['b','r','g','m','k']\n",
    "    TaskNames = ['Clinical', 'Walking', 'Gross Motor', 'Fine Motor', 'All']\n",
    "    for x,T in zip(range(len(Tasks)),Tasks):\n",
    "        NanInds = []\n",
    "        for i in range(len(res_group[T]['auroc'])):\n",
    "            if np.isnan(res_group[T]['auroc'][i]):\n",
    "                NanInds.append(i)\n",
    "        for i in sorted(NanInds,reverse=True):\n",
    "            del res_group[T]['tpr'][i]\n",
    "            del res_group[T]['auroc'][i]\n",
    "            \n",
    "        AUC = res_group[T]['auroc']\n",
    "        print(TaskNames[x],np.mean(AUC),\n",
    "              stats.t.interval(.95,len(AUC)-1, loc=np.mean(AUC), scale=stats.sem(AUC)))\n",
    "            \n",
    "        if AX==None:\n",
    "            AX = plot_roc(res_group[T]['tpr'],res_group[T]['fpr'][0],np.mean(res_group[T]['auroc']),plotname=TaskNames[x],col = cols[x])\n",
    "        else:\n",
    "            plot_roc(res_group[T]['tpr'],res_group[T]['fpr'][0],np.mean(res_group[T]['auroc']),plotname=TaskNames[x],ax=AX,col=cols[x])\n",
    "    \n",
    "    save_object(res_group,symptom+'DataResults')\n",
    "    plt.savefig(symptom+'Tasks.tiff',format='tiff',dpi=1000)\n",
    "    plt.savefig(symptom+'Tasks.png',format='png',dpi=1000)\n",
    "    \n",
    "print('Elapsed time = %.3f min'%((time.time()-t1)/60))  "
   ]
  },
  {
   "cell_type": "code",
   "execution_count": null,
   "metadata": {},
   "outputs": [],
   "source": [
    "file.close()"
   ]
  },
  {
   "cell_type": "code",
   "execution_count": 35,
   "metadata": {},
   "outputs": [],
   "source": [
    "with open('BradykinesiaDataResults','rb') as file:\n",
    "    BradykinesiaRes = pickle.load(file)\n",
    "    \n",
    "# with open('TremorDataResults','rb') as file:\n",
    "#     TremorRes = pickle.load(file)"
   ]
  },
  {
   "cell_type": "code",
   "execution_count": 36,
   "metadata": {},
   "outputs": [
    {
     "name": "stdout",
     "output_type": "stream",
     "text": [
      "('Motor #4: Finger to Nose', 'Motor #5: Alternating Hand Movements')\n",
      "Ttest_indResult(statistic=0.0, pvalue=1.0)\n",
      "('Motor #2: Walking', 'Motor #3: Walking while Counting', 'Motor #1: Standing', 'Motor #13: Sitting')\n",
      "Ttest_indResult(statistic=-0.6186182201885729, pvalue=0.5405467883012931)\n",
      "('Motor #10: Drinking Water', 'Motor #11: Organizing Folder', 'Motor #12: Folding Towels')\n",
      "Ttest_indResult(statistic=1.61336345178503, pvalue=0.11713683600421766)\n",
      "('Motor #7: Drawing on Paper', 'Motor #8: Typing on a Computer', 'Motor #9: Nuts and Bolts')\n",
      "Ttest_indResult(statistic=-0.9733509825919716, pvalue=0.3374600719691072)\n"
     ]
    }
   ],
   "source": [
    "for k in BradykinesiaRes.keys():\n",
    "    print(k)\n",
    "    try:\n",
    "        print(stats.ttest_ind(BradykinesiaRes[('Motor #4: Finger to Nose', 'Motor #5: Alternating Hand Movements')]['auroc'],\n",
    "                              BradykinesiaRes[k]['auroc']))\n",
    "    except:\n",
    "        continue"
   ]
  },
  {
   "cell_type": "code",
   "execution_count": null,
   "metadata": {},
   "outputs": [],
   "source": [
    "for k in TremorRes.keys():\n",
    "    print(k)\n",
    "    try:\n",
    "        print(stats.ttest_ind(TremorRes[('Motor #4: Finger to Nose', 'Motor #5: Alternating Hand Movements')]['auroc'],\n",
    "                              TremorRes[k]['auroc']))\n",
    "    except:\n",
    "        continue"
   ]
  },
  {
   "cell_type": "code",
   "execution_count": null,
   "metadata": {},
   "outputs": [],
   "source": [
    "save_object(res_group,symptom+'DataResults')\n",
    "plt.savefig(symptom+'Tasks.svg')\n",
    "plt.savefig(symptom+'Tasks.png')"
   ]
  },
  {
   "cell_type": "code",
   "execution_count": 33,
   "metadata": {},
   "outputs": [
    {
     "name": "stdout",
     "output_type": "stream",
     "text": [
      "Rows w Bradykinesia 16574/32368 = 0.51\n",
      "only 1 class in test data - cannot compute roc curve\n"
     ]
    },
    {
     "name": "stderr",
     "output_type": "stream",
     "text": [
      "C:\\Users\\nshawen\\AppData\\Local\\Continuum\\anaconda3\\lib\\site-packages\\ipykernel_launcher.py:273: RuntimeWarning: invalid value encountered in long_scalars\n"
     ]
    },
    {
     "name": "stdout",
     "output_type": "stream",
     "text": [
      "only 1 class in test data - cannot compute roc curve\n"
     ]
    },
    {
     "name": "stderr",
     "output_type": "stream",
     "text": [
      "C:\\Users\\nshawen\\AppData\\Local\\Continuum\\anaconda3\\lib\\site-packages\\ipykernel_launcher.py:273: RuntimeWarning: invalid value encountered in long_scalars\n",
      "C:\\Users\\nshawen\\AppData\\Local\\Continuum\\anaconda3\\lib\\site-packages\\sklearn\\metrics\\classification.py:1135: UndefinedMetricWarning: F-score is ill-defined and being set to 0.0 due to no predicted samples.\n",
      "  'precision', 'predicted', average, warn_for)\n",
      "C:\\Users\\nshawen\\AppData\\Local\\Continuum\\anaconda3\\lib\\site-packages\\sklearn\\metrics\\classification.py:1135: UndefinedMetricWarning: Precision is ill-defined and being set to 0.0 due to no predicted samples.\n",
      "  'precision', 'predicted', average, warn_for)\n",
      "C:\\Users\\nshawen\\AppData\\Local\\Continuum\\anaconda3\\lib\\site-packages\\sklearn\\metrics\\ranking.py:444: RuntimeWarning: invalid value encountered in true_divide\n",
      "  recall = tps / tps[-1]\n",
      "C:\\Users\\nshawen\\AppData\\Local\\Continuum\\anaconda3\\lib\\site-packages\\sklearn\\metrics\\ranking.py:94: RuntimeWarning: invalid value encountered in less\n",
      "  if np.any(dx < 0):\n"
     ]
    },
    {
     "name": "stdout",
     "output_type": "stream",
     "text": [
      "only 1 class in test data - cannot compute roc curve\n"
     ]
    },
    {
     "name": "stderr",
     "output_type": "stream",
     "text": [
      "C:\\Users\\nshawen\\AppData\\Local\\Continuum\\anaconda3\\lib\\site-packages\\sklearn\\metrics\\ranking.py:444: RuntimeWarning: invalid value encountered in true_divide\n",
      "  recall = tps / tps[-1]\n",
      "C:\\Users\\nshawen\\AppData\\Local\\Continuum\\anaconda3\\lib\\site-packages\\sklearn\\metrics\\ranking.py:94: RuntimeWarning: invalid value encountered in less\n",
      "  if np.any(dx < 0):\n"
     ]
    },
    {
     "name": "stdout",
     "output_type": "stream",
     "text": [
      "only 1 class in test data - cannot compute roc curve\n"
     ]
    },
    {
     "name": "stderr",
     "output_type": "stream",
     "text": [
      "C:\\Users\\nshawen\\AppData\\Local\\Continuum\\anaconda3\\lib\\site-packages\\sklearn\\metrics\\classification.py:1137: UndefinedMetricWarning: F-score is ill-defined and being set to 0.0 due to no true samples.\n",
      "  'recall', 'true', average, warn_for)\n",
      "C:\\Users\\nshawen\\AppData\\Local\\Continuum\\anaconda3\\lib\\site-packages\\sklearn\\metrics\\ranking.py:444: RuntimeWarning: invalid value encountered in true_divide\n",
      "  recall = tps / tps[-1]\n",
      "C:\\Users\\nshawen\\AppData\\Local\\Continuum\\anaconda3\\lib\\site-packages\\sklearn\\metrics\\ranking.py:94: RuntimeWarning: invalid value encountered in less\n",
      "  if np.any(dx < 0):\n",
      "C:\\Users\\nshawen\\AppData\\Local\\Continuum\\anaconda3\\lib\\site-packages\\sklearn\\metrics\\classification.py:1137: UndefinedMetricWarning: Recall is ill-defined and being set to 0.0 due to no true samples.\n",
      "  'recall', 'true', average, warn_for)\n"
     ]
    },
    {
     "name": "stdout",
     "output_type": "stream",
     "text": [
      "only 1 class in test data - cannot compute roc curve\n",
      "only 1 class in test data - cannot compute roc curve\n"
     ]
    },
    {
     "name": "stderr",
     "output_type": "stream",
     "text": [
      "C:\\Users\\nshawen\\AppData\\Local\\Continuum\\anaconda3\\lib\\site-packages\\ipykernel_launcher.py:273: RuntimeWarning: invalid value encountered in long_scalars\n",
      "C:\\Users\\nshawen\\AppData\\Local\\Continuum\\anaconda3\\lib\\site-packages\\sklearn\\metrics\\classification.py:1137: UndefinedMetricWarning: F-score is ill-defined and being set to 0.0 due to no true samples.\n",
      "  'recall', 'true', average, warn_for)\n",
      "C:\\Users\\nshawen\\AppData\\Local\\Continuum\\anaconda3\\lib\\site-packages\\sklearn\\metrics\\ranking.py:444: RuntimeWarning: invalid value encountered in true_divide\n",
      "  recall = tps / tps[-1]\n",
      "C:\\Users\\nshawen\\AppData\\Local\\Continuum\\anaconda3\\lib\\site-packages\\sklearn\\metrics\\ranking.py:94: RuntimeWarning: invalid value encountered in less\n",
      "  if np.any(dx < 0):\n",
      "C:\\Users\\nshawen\\AppData\\Local\\Continuum\\anaconda3\\lib\\site-packages\\sklearn\\metrics\\classification.py:1137: UndefinedMetricWarning: Recall is ill-defined and being set to 0.0 due to no true samples.\n",
      "  'recall', 'true', average, warn_for)\n"
     ]
    },
    {
     "name": "stdout",
     "output_type": "stream",
     "text": [
      "only 1 class in test data - cannot compute roc curve\n"
     ]
    },
    {
     "name": "stderr",
     "output_type": "stream",
     "text": [
      "C:\\Users\\nshawen\\AppData\\Local\\Continuum\\anaconda3\\lib\\site-packages\\sklearn\\metrics\\classification.py:1137: UndefinedMetricWarning: F-score is ill-defined and being set to 0.0 due to no true samples.\n",
      "  'recall', 'true', average, warn_for)\n",
      "C:\\Users\\nshawen\\AppData\\Local\\Continuum\\anaconda3\\lib\\site-packages\\sklearn\\metrics\\ranking.py:444: RuntimeWarning: invalid value encountered in true_divide\n",
      "  recall = tps / tps[-1]\n",
      "C:\\Users\\nshawen\\AppData\\Local\\Continuum\\anaconda3\\lib\\site-packages\\sklearn\\metrics\\ranking.py:94: RuntimeWarning: invalid value encountered in less\n",
      "  if np.any(dx < 0):\n",
      "C:\\Users\\nshawen\\AppData\\Local\\Continuum\\anaconda3\\lib\\site-packages\\sklearn\\metrics\\classification.py:1137: UndefinedMetricWarning: Recall is ill-defined and being set to 0.0 due to no true samples.\n",
      "  'recall', 'true', average, warn_for)\n"
     ]
    },
    {
     "name": "stdout",
     "output_type": "stream",
     "text": [
      "only 1 class in test data - cannot compute roc curve\n"
     ]
    },
    {
     "name": "stderr",
     "output_type": "stream",
     "text": [
      "C:\\Users\\nshawen\\AppData\\Local\\Continuum\\anaconda3\\lib\\site-packages\\sklearn\\metrics\\classification.py:1137: UndefinedMetricWarning: F-score is ill-defined and being set to 0.0 due to no true samples.\n",
      "  'recall', 'true', average, warn_for)\n",
      "C:\\Users\\nshawen\\AppData\\Local\\Continuum\\anaconda3\\lib\\site-packages\\sklearn\\metrics\\ranking.py:444: RuntimeWarning: invalid value encountered in true_divide\n",
      "  recall = tps / tps[-1]\n",
      "C:\\Users\\nshawen\\AppData\\Local\\Continuum\\anaconda3\\lib\\site-packages\\sklearn\\metrics\\ranking.py:94: RuntimeWarning: invalid value encountered in less\n",
      "  if np.any(dx < 0):\n",
      "C:\\Users\\nshawen\\AppData\\Local\\Continuum\\anaconda3\\lib\\site-packages\\sklearn\\metrics\\classification.py:1137: UndefinedMetricWarning: Recall is ill-defined and being set to 0.0 due to no true samples.\n",
      "  'recall', 'true', average, warn_for)\n"
     ]
    },
    {
     "name": "stdout",
     "output_type": "stream",
     "text": [
      "only 1 class in test data - cannot compute roc curve\n"
     ]
    },
    {
     "name": "stderr",
     "output_type": "stream",
     "text": [
      "C:\\Users\\nshawen\\AppData\\Local\\Continuum\\anaconda3\\lib\\site-packages\\sklearn\\metrics\\classification.py:1137: UndefinedMetricWarning: F-score is ill-defined and being set to 0.0 due to no true samples.\n",
      "  'recall', 'true', average, warn_for)\n",
      "C:\\Users\\nshawen\\AppData\\Local\\Continuum\\anaconda3\\lib\\site-packages\\sklearn\\metrics\\ranking.py:444: RuntimeWarning: invalid value encountered in true_divide\n",
      "  recall = tps / tps[-1]\n",
      "C:\\Users\\nshawen\\AppData\\Local\\Continuum\\anaconda3\\lib\\site-packages\\sklearn\\metrics\\ranking.py:94: RuntimeWarning: invalid value encountered in less\n",
      "  if np.any(dx < 0):\n",
      "C:\\Users\\nshawen\\AppData\\Local\\Continuum\\anaconda3\\lib\\site-packages\\sklearn\\metrics\\classification.py:1137: UndefinedMetricWarning: Recall is ill-defined and being set to 0.0 due to no true samples.\n",
      "  'recall', 'true', average, warn_for)\n"
     ]
    },
    {
     "name": "stdout",
     "output_type": "stream",
     "text": [
      "only 1 class in test data - cannot compute roc curve\n",
      "only 1 class in test data - cannot compute roc curve\n"
     ]
    },
    {
     "name": "stderr",
     "output_type": "stream",
     "text": [
      "C:\\Users\\nshawen\\AppData\\Local\\Continuum\\anaconda3\\lib\\site-packages\\ipykernel_launcher.py:273: RuntimeWarning: invalid value encountered in long_scalars\n"
     ]
    },
    {
     "name": "stdout",
     "output_type": "stream",
     "text": [
      "only 1 class in test data - cannot compute roc curve\n"
     ]
    },
    {
     "name": "stderr",
     "output_type": "stream",
     "text": [
      "C:\\Users\\nshawen\\AppData\\Local\\Continuum\\anaconda3\\lib\\site-packages\\ipykernel_launcher.py:273: RuntimeWarning: invalid value encountered in long_scalars\n"
     ]
    },
    {
     "name": "stdout",
     "output_type": "stream",
     "text": [
      "only 1 class in test data - cannot compute roc curve\n"
     ]
    },
    {
     "name": "stderr",
     "output_type": "stream",
     "text": [
      "C:\\Users\\nshawen\\AppData\\Local\\Continuum\\anaconda3\\lib\\site-packages\\ipykernel_launcher.py:273: RuntimeWarning: invalid value encountered in long_scalars\n"
     ]
    },
    {
     "name": "stdout",
     "output_type": "stream",
     "text": [
      "only 1 class in test data - cannot compute roc curve\n"
     ]
    },
    {
     "name": "stderr",
     "output_type": "stream",
     "text": [
      "C:\\Users\\nshawen\\AppData\\Local\\Continuum\\anaconda3\\lib\\site-packages\\ipykernel_launcher.py:273: RuntimeWarning: invalid value encountered in long_scalars\n"
     ]
    },
    {
     "name": "stdout",
     "output_type": "stream",
     "text": [
      "only 1 class in test data - cannot compute roc curve\n"
     ]
    },
    {
     "name": "stderr",
     "output_type": "stream",
     "text": [
      "C:\\Users\\nshawen\\AppData\\Local\\Continuum\\anaconda3\\lib\\site-packages\\ipykernel_launcher.py:273: RuntimeWarning: invalid value encountered in long_scalars\n"
     ]
    },
    {
     "name": "stdout",
     "output_type": "stream",
     "text": [
      "only 1 class in test data - cannot compute roc curve\n"
     ]
    },
    {
     "name": "stderr",
     "output_type": "stream",
     "text": [
      "C:\\Users\\nshawen\\AppData\\Local\\Continuum\\anaconda3\\lib\\site-packages\\ipykernel_launcher.py:273: RuntimeWarning: invalid value encountered in long_scalars\n"
     ]
    },
    {
     "name": "stdout",
     "output_type": "stream",
     "text": [
      "only 1 class in test data - cannot compute roc curve\n"
     ]
    },
    {
     "name": "stderr",
     "output_type": "stream",
     "text": [
      "C:\\Users\\nshawen\\AppData\\Local\\Continuum\\anaconda3\\lib\\site-packages\\ipykernel_launcher.py:273: RuntimeWarning: invalid value encountered in long_scalars\n"
     ]
    },
    {
     "name": "stdout",
     "output_type": "stream",
     "text": [
      "only 1 class in test data - cannot compute roc curve\n"
     ]
    },
    {
     "name": "stderr",
     "output_type": "stream",
     "text": [
      "C:\\Users\\nshawen\\AppData\\Local\\Continuum\\anaconda3\\lib\\site-packages\\ipykernel_launcher.py:273: RuntimeWarning: invalid value encountered in long_scalars\n"
     ]
    },
    {
     "name": "stdout",
     "output_type": "stream",
     "text": [
      "only 1 class in test data - cannot compute roc curve\n"
     ]
    },
    {
     "name": "stderr",
     "output_type": "stream",
     "text": [
      "C:\\Users\\nshawen\\AppData\\Local\\Continuum\\anaconda3\\lib\\site-packages\\ipykernel_launcher.py:273: RuntimeWarning: invalid value encountered in long_scalars\n"
     ]
    },
    {
     "name": "stdout",
     "output_type": "stream",
     "text": [
      "only 1 class in test data - cannot compute roc curve\n"
     ]
    },
    {
     "name": "stderr",
     "output_type": "stream",
     "text": [
      "C:\\Users\\nshawen\\AppData\\Local\\Continuum\\anaconda3\\lib\\site-packages\\ipykernel_launcher.py:273: RuntimeWarning: invalid value encountered in long_scalars\n"
     ]
    },
    {
     "name": "stdout",
     "output_type": "stream",
     "text": [
      "only 1 class in test data - cannot compute roc curve\n"
     ]
    },
    {
     "name": "stderr",
     "output_type": "stream",
     "text": [
      "C:\\Users\\nshawen\\AppData\\Local\\Continuum\\anaconda3\\lib\\site-packages\\ipykernel_launcher.py:273: RuntimeWarning: invalid value encountered in long_scalars\n"
     ]
    },
    {
     "name": "stdout",
     "output_type": "stream",
     "text": [
      "only 1 class in test data - cannot compute roc curve\n"
     ]
    },
    {
     "name": "stderr",
     "output_type": "stream",
     "text": [
      "C:\\Users\\nshawen\\AppData\\Local\\Continuum\\anaconda3\\lib\\site-packages\\ipykernel_launcher.py:273: RuntimeWarning: invalid value encountered in long_scalars\n"
     ]
    },
    {
     "name": "stdout",
     "output_type": "stream",
     "text": [
      "only 1 class in test data - cannot compute roc curve\n"
     ]
    },
    {
     "name": "stderr",
     "output_type": "stream",
     "text": [
      "C:\\Users\\nshawen\\AppData\\Local\\Continuum\\anaconda3\\lib\\site-packages\\ipykernel_launcher.py:273: RuntimeWarning: invalid value encountered in long_scalars\n"
     ]
    },
    {
     "name": "stdout",
     "output_type": "stream",
     "text": [
      "only 1 class in test data - cannot compute roc curve\n"
     ]
    },
    {
     "name": "stderr",
     "output_type": "stream",
     "text": [
      "C:\\Users\\nshawen\\AppData\\Local\\Continuum\\anaconda3\\lib\\site-packages\\ipykernel_launcher.py:273: RuntimeWarning: invalid value encountered in long_scalars\n"
     ]
    },
    {
     "name": "stdout",
     "output_type": "stream",
     "text": [
      "only 1 class in test data - cannot compute roc curve\n"
     ]
    },
    {
     "name": "stderr",
     "output_type": "stream",
     "text": [
      "C:\\Users\\nshawen\\AppData\\Local\\Continuum\\anaconda3\\lib\\site-packages\\ipykernel_launcher.py:273: RuntimeWarning: invalid value encountered in long_scalars\n"
     ]
    },
    {
     "name": "stdout",
     "output_type": "stream",
     "text": [
      "only 1 class in test data - cannot compute roc curve\n"
     ]
    },
    {
     "name": "stderr",
     "output_type": "stream",
     "text": [
      "C:\\Users\\nshawen\\AppData\\Local\\Continuum\\anaconda3\\lib\\site-packages\\ipykernel_launcher.py:273: RuntimeWarning: invalid value encountered in long_scalars\n",
      "C:\\Users\\nshawen\\AppData\\Local\\Continuum\\anaconda3\\lib\\site-packages\\ipykernel_launcher.py:317: RuntimeWarning: Mean of empty slice\n"
     ]
    },
    {
     "name": "stdout",
     "output_type": "stream",
     "text": [
      "only 1 class in test data - cannot compute roc curve\n"
     ]
    },
    {
     "name": "stderr",
     "output_type": "stream",
     "text": [
      "C:\\Users\\nshawen\\AppData\\Local\\Continuum\\anaconda3\\lib\\site-packages\\ipykernel_launcher.py:273: RuntimeWarning: invalid value encountered in long_scalars\n"
     ]
    },
    {
     "name": "stdout",
     "output_type": "stream",
     "text": [
      "only 1 class in test data - cannot compute roc curve\n"
     ]
    },
    {
     "name": "stderr",
     "output_type": "stream",
     "text": [
      "C:\\Users\\nshawen\\AppData\\Local\\Continuum\\anaconda3\\lib\\site-packages\\ipykernel_launcher.py:273: RuntimeWarning: invalid value encountered in long_scalars\n",
      "C:\\Users\\nshawen\\AppData\\Local\\Continuum\\anaconda3\\lib\\site-packages\\sklearn\\metrics\\classification.py:1137: UndefinedMetricWarning: F-score is ill-defined and being set to 0.0 due to no true samples.\n",
      "  'recall', 'true', average, warn_for)\n",
      "C:\\Users\\nshawen\\AppData\\Local\\Continuum\\anaconda3\\lib\\site-packages\\sklearn\\metrics\\ranking.py:444: RuntimeWarning: invalid value encountered in true_divide\n",
      "  recall = tps / tps[-1]\n",
      "C:\\Users\\nshawen\\AppData\\Local\\Continuum\\anaconda3\\lib\\site-packages\\sklearn\\metrics\\ranking.py:94: RuntimeWarning: invalid value encountered in less\n",
      "  if np.any(dx < 0):\n",
      "C:\\Users\\nshawen\\AppData\\Local\\Continuum\\anaconda3\\lib\\site-packages\\sklearn\\metrics\\classification.py:1137: UndefinedMetricWarning: Recall is ill-defined and being set to 0.0 due to no true samples.\n",
      "  'recall', 'true', average, warn_for)\n"
     ]
    },
    {
     "name": "stdout",
     "output_type": "stream",
     "text": [
      "only 1 class in test data - cannot compute roc curve\n"
     ]
    },
    {
     "name": "stderr",
     "output_type": "stream",
     "text": [
      "C:\\Users\\nshawen\\AppData\\Local\\Continuum\\anaconda3\\lib\\site-packages\\sklearn\\metrics\\classification.py:1137: UndefinedMetricWarning: F-score is ill-defined and being set to 0.0 due to no true samples.\n",
      "  'recall', 'true', average, warn_for)\n",
      "C:\\Users\\nshawen\\AppData\\Local\\Continuum\\anaconda3\\lib\\site-packages\\sklearn\\metrics\\ranking.py:444: RuntimeWarning: invalid value encountered in true_divide\n",
      "  recall = tps / tps[-1]\n",
      "C:\\Users\\nshawen\\AppData\\Local\\Continuum\\anaconda3\\lib\\site-packages\\sklearn\\metrics\\ranking.py:94: RuntimeWarning: invalid value encountered in less\n",
      "  if np.any(dx < 0):\n",
      "C:\\Users\\nshawen\\AppData\\Local\\Continuum\\anaconda3\\lib\\site-packages\\sklearn\\metrics\\classification.py:1137: UndefinedMetricWarning: Recall is ill-defined and being set to 0.0 due to no true samples.\n",
      "  'recall', 'true', average, warn_for)\n"
     ]
    },
    {
     "name": "stdout",
     "output_type": "stream",
     "text": [
      "only 1 class in test data - cannot compute roc curve\n"
     ]
    },
    {
     "name": "stderr",
     "output_type": "stream",
     "text": [
      "C:\\Users\\nshawen\\AppData\\Local\\Continuum\\anaconda3\\lib\\site-packages\\sklearn\\metrics\\classification.py:1137: UndefinedMetricWarning: F-score is ill-defined and being set to 0.0 due to no true samples.\n",
      "  'recall', 'true', average, warn_for)\n",
      "C:\\Users\\nshawen\\AppData\\Local\\Continuum\\anaconda3\\lib\\site-packages\\sklearn\\metrics\\ranking.py:444: RuntimeWarning: invalid value encountered in true_divide\n",
      "  recall = tps / tps[-1]\n",
      "C:\\Users\\nshawen\\AppData\\Local\\Continuum\\anaconda3\\lib\\site-packages\\sklearn\\metrics\\ranking.py:94: RuntimeWarning: invalid value encountered in less\n",
      "  if np.any(dx < 0):\n",
      "C:\\Users\\nshawen\\AppData\\Local\\Continuum\\anaconda3\\lib\\site-packages\\sklearn\\metrics\\classification.py:1137: UndefinedMetricWarning: Recall is ill-defined and being set to 0.0 due to no true samples.\n",
      "  'recall', 'true', average, warn_for)\n"
     ]
    },
    {
     "name": "stdout",
     "output_type": "stream",
     "text": [
      "only 1 class in test data - cannot compute roc curve\n"
     ]
    },
    {
     "name": "stderr",
     "output_type": "stream",
     "text": [
      "C:\\Users\\nshawen\\AppData\\Local\\Continuum\\anaconda3\\lib\\site-packages\\sklearn\\metrics\\classification.py:1137: UndefinedMetricWarning: F-score is ill-defined and being set to 0.0 due to no true samples.\n",
      "  'recall', 'true', average, warn_for)\n",
      "C:\\Users\\nshawen\\AppData\\Local\\Continuum\\anaconda3\\lib\\site-packages\\sklearn\\metrics\\ranking.py:444: RuntimeWarning: invalid value encountered in true_divide\n",
      "  recall = tps / tps[-1]\n",
      "C:\\Users\\nshawen\\AppData\\Local\\Continuum\\anaconda3\\lib\\site-packages\\sklearn\\metrics\\ranking.py:94: RuntimeWarning: invalid value encountered in less\n",
      "  if np.any(dx < 0):\n",
      "C:\\Users\\nshawen\\AppData\\Local\\Continuum\\anaconda3\\lib\\site-packages\\sklearn\\metrics\\classification.py:1137: UndefinedMetricWarning: Recall is ill-defined and being set to 0.0 due to no true samples.\n",
      "  'recall', 'true', average, warn_for)\n"
     ]
    },
    {
     "name": "stdout",
     "output_type": "stream",
     "text": [
      "only 1 class in test data - cannot compute roc curve\n"
     ]
    },
    {
     "name": "stderr",
     "output_type": "stream",
     "text": [
      "C:\\Users\\nshawen\\AppData\\Local\\Continuum\\anaconda3\\lib\\site-packages\\sklearn\\metrics\\classification.py:1137: UndefinedMetricWarning: F-score is ill-defined and being set to 0.0 due to no true samples.\n",
      "  'recall', 'true', average, warn_for)\n",
      "C:\\Users\\nshawen\\AppData\\Local\\Continuum\\anaconda3\\lib\\site-packages\\sklearn\\metrics\\ranking.py:444: RuntimeWarning: invalid value encountered in true_divide\n",
      "  recall = tps / tps[-1]\n",
      "C:\\Users\\nshawen\\AppData\\Local\\Continuum\\anaconda3\\lib\\site-packages\\sklearn\\metrics\\ranking.py:94: RuntimeWarning: invalid value encountered in less\n",
      "  if np.any(dx < 0):\n",
      "C:\\Users\\nshawen\\AppData\\Local\\Continuum\\anaconda3\\lib\\site-packages\\sklearn\\metrics\\classification.py:1137: UndefinedMetricWarning: Recall is ill-defined and being set to 0.0 due to no true samples.\n",
      "  'recall', 'true', average, warn_for)\n"
     ]
    },
    {
     "name": "stdout",
     "output_type": "stream",
     "text": [
      "only 1 class in test data - cannot compute roc curve\n",
      "only 1 class in test data - cannot compute roc curve\n"
     ]
    },
    {
     "name": "stderr",
     "output_type": "stream",
     "text": [
      "C:\\Users\\nshawen\\AppData\\Local\\Continuum\\anaconda3\\lib\\site-packages\\ipykernel_launcher.py:273: RuntimeWarning: invalid value encountered in long_scalars\n"
     ]
    },
    {
     "name": "stdout",
     "output_type": "stream",
     "text": [
      "only 1 class in test data - cannot compute roc curve\n"
     ]
    },
    {
     "name": "stderr",
     "output_type": "stream",
     "text": [
      "C:\\Users\\nshawen\\AppData\\Local\\Continuum\\anaconda3\\lib\\site-packages\\ipykernel_launcher.py:273: RuntimeWarning: invalid value encountered in long_scalars\n"
     ]
    },
    {
     "name": "stdout",
     "output_type": "stream",
     "text": [
      "only 1 class in test data - cannot compute roc curve\n"
     ]
    },
    {
     "name": "stderr",
     "output_type": "stream",
     "text": [
      "C:\\Users\\nshawen\\AppData\\Local\\Continuum\\anaconda3\\lib\\site-packages\\ipykernel_launcher.py:273: RuntimeWarning: invalid value encountered in long_scalars\n"
     ]
    },
    {
     "name": "stdout",
     "output_type": "stream",
     "text": [
      "only 1 class in test data - cannot compute roc curve\n"
     ]
    },
    {
     "name": "stderr",
     "output_type": "stream",
     "text": [
      "C:\\Users\\nshawen\\AppData\\Local\\Continuum\\anaconda3\\lib\\site-packages\\ipykernel_launcher.py:273: RuntimeWarning: invalid value encountered in long_scalars\n"
     ]
    },
    {
     "name": "stdout",
     "output_type": "stream",
     "text": [
      "only 1 class in test data - cannot compute roc curve\n"
     ]
    },
    {
     "name": "stderr",
     "output_type": "stream",
     "text": [
      "C:\\Users\\nshawen\\AppData\\Local\\Continuum\\anaconda3\\lib\\site-packages\\ipykernel_launcher.py:273: RuntimeWarning: invalid value encountered in long_scalars\n"
     ]
    },
    {
     "name": "stdout",
     "output_type": "stream",
     "text": [
      "only 1 class in test data - cannot compute roc curve\n"
     ]
    },
    {
     "name": "stderr",
     "output_type": "stream",
     "text": [
      "C:\\Users\\nshawen\\AppData\\Local\\Continuum\\anaconda3\\lib\\site-packages\\ipykernel_launcher.py:273: RuntimeWarning: invalid value encountered in long_scalars\n"
     ]
    },
    {
     "name": "stdout",
     "output_type": "stream",
     "text": [
      "only 1 class in test data - cannot compute roc curve\n"
     ]
    },
    {
     "name": "stderr",
     "output_type": "stream",
     "text": [
      "C:\\Users\\nshawen\\AppData\\Local\\Continuum\\anaconda3\\lib\\site-packages\\ipykernel_launcher.py:273: RuntimeWarning: invalid value encountered in long_scalars\n",
      "C:\\Users\\nshawen\\AppData\\Local\\Continuum\\anaconda3\\lib\\site-packages\\sklearn\\metrics\\classification.py:1137: UndefinedMetricWarning: F-score is ill-defined and being set to 0.0 due to no true samples.\n",
      "  'recall', 'true', average, warn_for)\n",
      "C:\\Users\\nshawen\\AppData\\Local\\Continuum\\anaconda3\\lib\\site-packages\\sklearn\\metrics\\ranking.py:444: RuntimeWarning: invalid value encountered in true_divide\n",
      "  recall = tps / tps[-1]\n",
      "C:\\Users\\nshawen\\AppData\\Local\\Continuum\\anaconda3\\lib\\site-packages\\sklearn\\metrics\\ranking.py:94: RuntimeWarning: invalid value encountered in less\n",
      "  if np.any(dx < 0):\n",
      "C:\\Users\\nshawen\\AppData\\Local\\Continuum\\anaconda3\\lib\\site-packages\\sklearn\\metrics\\classification.py:1137: UndefinedMetricWarning: Recall is ill-defined and being set to 0.0 due to no true samples.\n",
      "  'recall', 'true', average, warn_for)\n"
     ]
    },
    {
     "name": "stdout",
     "output_type": "stream",
     "text": [
      "only 1 class in test data - cannot compute roc curve\n"
     ]
    },
    {
     "name": "stderr",
     "output_type": "stream",
     "text": [
      "C:\\Users\\nshawen\\AppData\\Local\\Continuum\\anaconda3\\lib\\site-packages\\sklearn\\metrics\\classification.py:1137: UndefinedMetricWarning: F-score is ill-defined and being set to 0.0 due to no true samples.\n",
      "  'recall', 'true', average, warn_for)\n",
      "C:\\Users\\nshawen\\AppData\\Local\\Continuum\\anaconda3\\lib\\site-packages\\sklearn\\metrics\\ranking.py:444: RuntimeWarning: invalid value encountered in true_divide\n",
      "  recall = tps / tps[-1]\n",
      "C:\\Users\\nshawen\\AppData\\Local\\Continuum\\anaconda3\\lib\\site-packages\\sklearn\\metrics\\ranking.py:94: RuntimeWarning: invalid value encountered in less\n",
      "  if np.any(dx < 0):\n",
      "C:\\Users\\nshawen\\AppData\\Local\\Continuum\\anaconda3\\lib\\site-packages\\sklearn\\metrics\\classification.py:1137: UndefinedMetricWarning: Recall is ill-defined and being set to 0.0 due to no true samples.\n",
      "  'recall', 'true', average, warn_for)\n"
     ]
    },
    {
     "name": "stdout",
     "output_type": "stream",
     "text": [
      "only 1 class in test data - cannot compute roc curve\n"
     ]
    },
    {
     "name": "stderr",
     "output_type": "stream",
     "text": [
      "C:\\Users\\nshawen\\AppData\\Local\\Continuum\\anaconda3\\lib\\site-packages\\sklearn\\metrics\\classification.py:1137: UndefinedMetricWarning: F-score is ill-defined and being set to 0.0 due to no true samples.\n",
      "  'recall', 'true', average, warn_for)\n",
      "C:\\Users\\nshawen\\AppData\\Local\\Continuum\\anaconda3\\lib\\site-packages\\sklearn\\metrics\\ranking.py:444: RuntimeWarning: invalid value encountered in true_divide\n",
      "  recall = tps / tps[-1]\n",
      "C:\\Users\\nshawen\\AppData\\Local\\Continuum\\anaconda3\\lib\\site-packages\\sklearn\\metrics\\ranking.py:94: RuntimeWarning: invalid value encountered in less\n",
      "  if np.any(dx < 0):\n",
      "C:\\Users\\nshawen\\AppData\\Local\\Continuum\\anaconda3\\lib\\site-packages\\sklearn\\metrics\\classification.py:1137: UndefinedMetricWarning: Recall is ill-defined and being set to 0.0 due to no true samples.\n",
      "  'recall', 'true', average, warn_for)\n"
     ]
    },
    {
     "name": "stdout",
     "output_type": "stream",
     "text": [
      "only 1 class in test data - cannot compute roc curve\n"
     ]
    },
    {
     "name": "stderr",
     "output_type": "stream",
     "text": [
      "C:\\Users\\nshawen\\AppData\\Local\\Continuum\\anaconda3\\lib\\site-packages\\sklearn\\metrics\\classification.py:1137: UndefinedMetricWarning: F-score is ill-defined and being set to 0.0 due to no true samples.\n",
      "  'recall', 'true', average, warn_for)\n",
      "C:\\Users\\nshawen\\AppData\\Local\\Continuum\\anaconda3\\lib\\site-packages\\sklearn\\metrics\\ranking.py:444: RuntimeWarning: invalid value encountered in true_divide\n",
      "  recall = tps / tps[-1]\n",
      "C:\\Users\\nshawen\\AppData\\Local\\Continuum\\anaconda3\\lib\\site-packages\\sklearn\\metrics\\ranking.py:94: RuntimeWarning: invalid value encountered in less\n",
      "  if np.any(dx < 0):\n",
      "C:\\Users\\nshawen\\AppData\\Local\\Continuum\\anaconda3\\lib\\site-packages\\sklearn\\metrics\\classification.py:1137: UndefinedMetricWarning: Recall is ill-defined and being set to 0.0 due to no true samples.\n",
      "  'recall', 'true', average, warn_for)\n"
     ]
    },
    {
     "name": "stdout",
     "output_type": "stream",
     "text": [
      "only 1 class in test data - cannot compute roc curve\n"
     ]
    },
    {
     "name": "stderr",
     "output_type": "stream",
     "text": [
      "C:\\Users\\nshawen\\AppData\\Local\\Continuum\\anaconda3\\lib\\site-packages\\sklearn\\metrics\\classification.py:1137: UndefinedMetricWarning: F-score is ill-defined and being set to 0.0 due to no true samples.\n",
      "  'recall', 'true', average, warn_for)\n",
      "C:\\Users\\nshawen\\AppData\\Local\\Continuum\\anaconda3\\lib\\site-packages\\sklearn\\metrics\\ranking.py:444: RuntimeWarning: invalid value encountered in true_divide\n",
      "  recall = tps / tps[-1]\n",
      "C:\\Users\\nshawen\\AppData\\Local\\Continuum\\anaconda3\\lib\\site-packages\\sklearn\\metrics\\ranking.py:94: RuntimeWarning: invalid value encountered in less\n",
      "  if np.any(dx < 0):\n",
      "C:\\Users\\nshawen\\AppData\\Local\\Continuum\\anaconda3\\lib\\site-packages\\sklearn\\metrics\\classification.py:1137: UndefinedMetricWarning: Recall is ill-defined and being set to 0.0 due to no true samples.\n",
      "  'recall', 'true', average, warn_for)\n"
     ]
    },
    {
     "name": "stdout",
     "output_type": "stream",
     "text": [
      "only 1 class in test data - cannot compute roc curve\n",
      "only 1 class in test data - cannot compute roc curve\n"
     ]
    },
    {
     "name": "stderr",
     "output_type": "stream",
     "text": [
      "C:\\Users\\nshawen\\AppData\\Local\\Continuum\\anaconda3\\lib\\site-packages\\ipykernel_launcher.py:273: RuntimeWarning: invalid value encountered in long_scalars\n"
     ]
    },
    {
     "name": "stdout",
     "output_type": "stream",
     "text": [
      "only 1 class in test data - cannot compute roc curve\n"
     ]
    },
    {
     "name": "stderr",
     "output_type": "stream",
     "text": [
      "C:\\Users\\nshawen\\AppData\\Local\\Continuum\\anaconda3\\lib\\site-packages\\ipykernel_launcher.py:273: RuntimeWarning: invalid value encountered in long_scalars\n",
      "C:\\Users\\nshawen\\AppData\\Local\\Continuum\\anaconda3\\lib\\site-packages\\sklearn\\metrics\\classification.py:1137: UndefinedMetricWarning: F-score is ill-defined and being set to 0.0 due to no true samples.\n",
      "  'recall', 'true', average, warn_for)\n",
      "C:\\Users\\nshawen\\AppData\\Local\\Continuum\\anaconda3\\lib\\site-packages\\sklearn\\metrics\\ranking.py:444: RuntimeWarning: invalid value encountered in true_divide\n",
      "  recall = tps / tps[-1]\n",
      "C:\\Users\\nshawen\\AppData\\Local\\Continuum\\anaconda3\\lib\\site-packages\\sklearn\\metrics\\ranking.py:94: RuntimeWarning: invalid value encountered in less\n",
      "  if np.any(dx < 0):\n",
      "C:\\Users\\nshawen\\AppData\\Local\\Continuum\\anaconda3\\lib\\site-packages\\sklearn\\metrics\\classification.py:1137: UndefinedMetricWarning: Recall is ill-defined and being set to 0.0 due to no true samples.\n",
      "  'recall', 'true', average, warn_for)\n"
     ]
    },
    {
     "name": "stdout",
     "output_type": "stream",
     "text": [
      "only 1 class in test data - cannot compute roc curve\n",
      "only 1 class in test data - cannot compute roc curve\n"
     ]
    },
    {
     "name": "stderr",
     "output_type": "stream",
     "text": [
      "C:\\Users\\nshawen\\AppData\\Local\\Continuum\\anaconda3\\lib\\site-packages\\ipykernel_launcher.py:273: RuntimeWarning: invalid value encountered in long_scalars\n"
     ]
    },
    {
     "name": "stdout",
     "output_type": "stream",
     "text": [
      "only 1 class in test data - cannot compute roc curve\n"
     ]
    },
    {
     "name": "stderr",
     "output_type": "stream",
     "text": [
      "C:\\Users\\nshawen\\AppData\\Local\\Continuum\\anaconda3\\lib\\site-packages\\ipykernel_launcher.py:273: RuntimeWarning: invalid value encountered in long_scalars\n"
     ]
    },
    {
     "name": "stdout",
     "output_type": "stream",
     "text": [
      "only 1 class in test data - cannot compute roc curve\n"
     ]
    },
    {
     "name": "stderr",
     "output_type": "stream",
     "text": [
      "C:\\Users\\nshawen\\AppData\\Local\\Continuum\\anaconda3\\lib\\site-packages\\ipykernel_launcher.py:273: RuntimeWarning: invalid value encountered in long_scalars\n"
     ]
    },
    {
     "name": "stdout",
     "output_type": "stream",
     "text": [
      "only 1 class in test data - cannot compute roc curve\n"
     ]
    },
    {
     "name": "stderr",
     "output_type": "stream",
     "text": [
      "C:\\Users\\nshawen\\AppData\\Local\\Continuum\\anaconda3\\lib\\site-packages\\ipykernel_launcher.py:273: RuntimeWarning: invalid value encountered in long_scalars\n"
     ]
    },
    {
     "name": "stdout",
     "output_type": "stream",
     "text": [
      "only 1 class in test data - cannot compute roc curve\n"
     ]
    },
    {
     "name": "stderr",
     "output_type": "stream",
     "text": [
      "C:\\Users\\nshawen\\AppData\\Local\\Continuum\\anaconda3\\lib\\site-packages\\ipykernel_launcher.py:273: RuntimeWarning: invalid value encountered in long_scalars\n"
     ]
    },
    {
     "name": "stdout",
     "output_type": "stream",
     "text": [
      "only 1 class in test data - cannot compute roc curve\n"
     ]
    },
    {
     "name": "stderr",
     "output_type": "stream",
     "text": [
      "C:\\Users\\nshawen\\AppData\\Local\\Continuum\\anaconda3\\lib\\site-packages\\ipykernel_launcher.py:273: RuntimeWarning: invalid value encountered in long_scalars\n",
      "C:\\Users\\nshawen\\AppData\\Local\\Continuum\\anaconda3\\lib\\site-packages\\sklearn\\metrics\\classification.py:1137: UndefinedMetricWarning: F-score is ill-defined and being set to 0.0 due to no true samples.\n",
      "  'recall', 'true', average, warn_for)\n",
      "C:\\Users\\nshawen\\AppData\\Local\\Continuum\\anaconda3\\lib\\site-packages\\sklearn\\metrics\\ranking.py:444: RuntimeWarning: invalid value encountered in true_divide\n",
      "  recall = tps / tps[-1]\n",
      "C:\\Users\\nshawen\\AppData\\Local\\Continuum\\anaconda3\\lib\\site-packages\\sklearn\\metrics\\ranking.py:94: RuntimeWarning: invalid value encountered in less\n",
      "  if np.any(dx < 0):\n",
      "C:\\Users\\nshawen\\AppData\\Local\\Continuum\\anaconda3\\lib\\site-packages\\sklearn\\metrics\\classification.py:1137: UndefinedMetricWarning: Recall is ill-defined and being set to 0.0 due to no true samples.\n",
      "  'recall', 'true', average, warn_for)\n"
     ]
    },
    {
     "name": "stdout",
     "output_type": "stream",
     "text": [
      "only 1 class in test data - cannot compute roc curve\n"
     ]
    },
    {
     "name": "stderr",
     "output_type": "stream",
     "text": [
      "C:\\Users\\nshawen\\AppData\\Local\\Continuum\\anaconda3\\lib\\site-packages\\sklearn\\metrics\\classification.py:1137: UndefinedMetricWarning: F-score is ill-defined and being set to 0.0 due to no true samples.\n",
      "  'recall', 'true', average, warn_for)\n",
      "C:\\Users\\nshawen\\AppData\\Local\\Continuum\\anaconda3\\lib\\site-packages\\sklearn\\metrics\\ranking.py:444: RuntimeWarning: invalid value encountered in true_divide\n",
      "  recall = tps / tps[-1]\n",
      "C:\\Users\\nshawen\\AppData\\Local\\Continuum\\anaconda3\\lib\\site-packages\\sklearn\\metrics\\ranking.py:94: RuntimeWarning: invalid value encountered in less\n",
      "  if np.any(dx < 0):\n",
      "C:\\Users\\nshawen\\AppData\\Local\\Continuum\\anaconda3\\lib\\site-packages\\sklearn\\metrics\\classification.py:1137: UndefinedMetricWarning: Recall is ill-defined and being set to 0.0 due to no true samples.\n",
      "  'recall', 'true', average, warn_for)\n"
     ]
    },
    {
     "name": "stdout",
     "output_type": "stream",
     "text": [
      "only 1 class in test data - cannot compute roc curve\n"
     ]
    },
    {
     "name": "stderr",
     "output_type": "stream",
     "text": [
      "C:\\Users\\nshawen\\AppData\\Local\\Continuum\\anaconda3\\lib\\site-packages\\sklearn\\metrics\\classification.py:1137: UndefinedMetricWarning: F-score is ill-defined and being set to 0.0 due to no true samples.\n",
      "  'recall', 'true', average, warn_for)\n",
      "C:\\Users\\nshawen\\AppData\\Local\\Continuum\\anaconda3\\lib\\site-packages\\sklearn\\metrics\\ranking.py:444: RuntimeWarning: invalid value encountered in true_divide\n",
      "  recall = tps / tps[-1]\n",
      "C:\\Users\\nshawen\\AppData\\Local\\Continuum\\anaconda3\\lib\\site-packages\\sklearn\\metrics\\ranking.py:94: RuntimeWarning: invalid value encountered in less\n",
      "  if np.any(dx < 0):\n",
      "C:\\Users\\nshawen\\AppData\\Local\\Continuum\\anaconda3\\lib\\site-packages\\sklearn\\metrics\\classification.py:1137: UndefinedMetricWarning: Recall is ill-defined and being set to 0.0 due to no true samples.\n",
      "  'recall', 'true', average, warn_for)\n"
     ]
    },
    {
     "name": "stdout",
     "output_type": "stream",
     "text": [
      "only 1 class in test data - cannot compute roc curve\n",
      "only 1 class in test data - cannot compute roc curve\n"
     ]
    },
    {
     "name": "stderr",
     "output_type": "stream",
     "text": [
      "C:\\Users\\nshawen\\AppData\\Local\\Continuum\\anaconda3\\lib\\site-packages\\ipykernel_launcher.py:273: RuntimeWarning: invalid value encountered in long_scalars\n"
     ]
    },
    {
     "name": "stdout",
     "output_type": "stream",
     "text": [
      "only 1 class in test data - cannot compute roc curve\n"
     ]
    },
    {
     "name": "stderr",
     "output_type": "stream",
     "text": [
      "C:\\Users\\nshawen\\AppData\\Local\\Continuum\\anaconda3\\lib\\site-packages\\ipykernel_launcher.py:273: RuntimeWarning: invalid value encountered in long_scalars\n"
     ]
    },
    {
     "name": "stdout",
     "output_type": "stream",
     "text": [
      "only 1 class in test data - cannot compute roc curve\n"
     ]
    },
    {
     "name": "stderr",
     "output_type": "stream",
     "text": [
      "C:\\Users\\nshawen\\AppData\\Local\\Continuum\\anaconda3\\lib\\site-packages\\ipykernel_launcher.py:273: RuntimeWarning: invalid value encountered in long_scalars\n"
     ]
    },
    {
     "name": "stdout",
     "output_type": "stream",
     "text": [
      "only 1 class in test data - cannot compute roc curve\n"
     ]
    },
    {
     "name": "stderr",
     "output_type": "stream",
     "text": [
      "C:\\Users\\nshawen\\AppData\\Local\\Continuum\\anaconda3\\lib\\site-packages\\ipykernel_launcher.py:273: RuntimeWarning: invalid value encountered in long_scalars\n"
     ]
    },
    {
     "name": "stdout",
     "output_type": "stream",
     "text": [
      "only 1 class in test data - cannot compute roc curve\n"
     ]
    },
    {
     "name": "stderr",
     "output_type": "stream",
     "text": [
      "C:\\Users\\nshawen\\AppData\\Local\\Continuum\\anaconda3\\lib\\site-packages\\ipykernel_launcher.py:273: RuntimeWarning: invalid value encountered in long_scalars\n"
     ]
    },
    {
     "name": "stdout",
     "output_type": "stream",
     "text": [
      "only 1 class in test data - cannot compute roc curve\n"
     ]
    },
    {
     "name": "stderr",
     "output_type": "stream",
     "text": [
      "C:\\Users\\nshawen\\AppData\\Local\\Continuum\\anaconda3\\lib\\site-packages\\ipykernel_launcher.py:273: RuntimeWarning: invalid value encountered in long_scalars\n"
     ]
    },
    {
     "name": "stdout",
     "output_type": "stream",
     "text": [
      "only 1 class in test data - cannot compute roc curve\n"
     ]
    },
    {
     "name": "stderr",
     "output_type": "stream",
     "text": [
      "C:\\Users\\nshawen\\AppData\\Local\\Continuum\\anaconda3\\lib\\site-packages\\ipykernel_launcher.py:273: RuntimeWarning: invalid value encountered in long_scalars\n"
     ]
    },
    {
     "name": "stdout",
     "output_type": "stream",
     "text": [
      "only 1 class in test data - cannot compute roc curve\n"
     ]
    },
    {
     "name": "stderr",
     "output_type": "stream",
     "text": [
      "C:\\Users\\nshawen\\AppData\\Local\\Continuum\\anaconda3\\lib\\site-packages\\ipykernel_launcher.py:273: RuntimeWarning: invalid value encountered in long_scalars\n",
      "C:\\Users\\nshawen\\AppData\\Local\\Continuum\\anaconda3\\lib\\site-packages\\ipykernel_launcher.py:317: RuntimeWarning: Mean of empty slice\n"
     ]
    },
    {
     "name": "stdout",
     "output_type": "stream",
     "text": [
      "only 1 class in test data - cannot compute roc curve\n"
     ]
    },
    {
     "name": "stderr",
     "output_type": "stream",
     "text": [
      "C:\\Users\\nshawen\\AppData\\Local\\Continuum\\anaconda3\\lib\\site-packages\\ipykernel_launcher.py:273: RuntimeWarning: invalid value encountered in long_scalars\n"
     ]
    },
    {
     "name": "stdout",
     "output_type": "stream",
     "text": [
      "only 1 class in test data - cannot compute roc curve\n"
     ]
    },
    {
     "name": "stderr",
     "output_type": "stream",
     "text": [
      "C:\\Users\\nshawen\\AppData\\Local\\Continuum\\anaconda3\\lib\\site-packages\\ipykernel_launcher.py:273: RuntimeWarning: invalid value encountered in long_scalars\n"
     ]
    },
    {
     "name": "stdout",
     "output_type": "stream",
     "text": [
      "only 1 class in test data - cannot compute roc curve\n"
     ]
    },
    {
     "name": "stderr",
     "output_type": "stream",
     "text": [
      "C:\\Users\\nshawen\\AppData\\Local\\Continuum\\anaconda3\\lib\\site-packages\\ipykernel_launcher.py:273: RuntimeWarning: invalid value encountered in long_scalars\n"
     ]
    },
    {
     "name": "stdout",
     "output_type": "stream",
     "text": [
      "only 1 class in test data - cannot compute roc curve\n"
     ]
    },
    {
     "name": "stderr",
     "output_type": "stream",
     "text": [
      "C:\\Users\\nshawen\\AppData\\Local\\Continuum\\anaconda3\\lib\\site-packages\\ipykernel_launcher.py:273: RuntimeWarning: invalid value encountered in long_scalars\n"
     ]
    },
    {
     "name": "stdout",
     "output_type": "stream",
     "text": [
      "only 1 class in test data - cannot compute roc curve\n"
     ]
    },
    {
     "name": "stderr",
     "output_type": "stream",
     "text": [
      "C:\\Users\\nshawen\\AppData\\Local\\Continuum\\anaconda3\\lib\\site-packages\\ipykernel_launcher.py:273: RuntimeWarning: invalid value encountered in long_scalars\n"
     ]
    },
    {
     "name": "stdout",
     "output_type": "stream",
     "text": [
      "only 1 class in test data - cannot compute roc curve\n"
     ]
    },
    {
     "name": "stderr",
     "output_type": "stream",
     "text": [
      "C:\\Users\\nshawen\\AppData\\Local\\Continuum\\anaconda3\\lib\\site-packages\\ipykernel_launcher.py:273: RuntimeWarning: invalid value encountered in long_scalars\n"
     ]
    },
    {
     "name": "stdout",
     "output_type": "stream",
     "text": [
      "only 1 class in test data - cannot compute roc curve\n"
     ]
    },
    {
     "name": "stderr",
     "output_type": "stream",
     "text": [
      "C:\\Users\\nshawen\\AppData\\Local\\Continuum\\anaconda3\\lib\\site-packages\\ipykernel_launcher.py:273: RuntimeWarning: invalid value encountered in long_scalars\n"
     ]
    },
    {
     "name": "stdout",
     "output_type": "stream",
     "text": [
      "only 1 class in test data - cannot compute roc curve\n"
     ]
    },
    {
     "name": "stderr",
     "output_type": "stream",
     "text": [
      "C:\\Users\\nshawen\\AppData\\Local\\Continuum\\anaconda3\\lib\\site-packages\\ipykernel_launcher.py:273: RuntimeWarning: invalid value encountered in long_scalars\n"
     ]
    },
    {
     "name": "stdout",
     "output_type": "stream",
     "text": [
      "only 1 class in test data - cannot compute roc curve\n"
     ]
    },
    {
     "name": "stderr",
     "output_type": "stream",
     "text": [
      "C:\\Users\\nshawen\\AppData\\Local\\Continuum\\anaconda3\\lib\\site-packages\\ipykernel_launcher.py:273: RuntimeWarning: invalid value encountered in long_scalars\n",
      "C:\\Users\\nshawen\\AppData\\Local\\Continuum\\anaconda3\\lib\\site-packages\\ipykernel_launcher.py:317: RuntimeWarning: Mean of empty slice\n"
     ]
    },
    {
     "name": "stdout",
     "output_type": "stream",
     "text": [
      "only 1 class in test data - cannot compute roc curve\n"
     ]
    },
    {
     "name": "stderr",
     "output_type": "stream",
     "text": [
      "C:\\Users\\nshawen\\AppData\\Local\\Continuum\\anaconda3\\lib\\site-packages\\ipykernel_launcher.py:273: RuntimeWarning: invalid value encountered in long_scalars\n",
      "C:\\Users\\nshawen\\AppData\\Local\\Continuum\\anaconda3\\lib\\site-packages\\sklearn\\metrics\\classification.py:1137: UndefinedMetricWarning: F-score is ill-defined and being set to 0.0 due to no true samples.\n",
      "  'recall', 'true', average, warn_for)\n",
      "C:\\Users\\nshawen\\AppData\\Local\\Continuum\\anaconda3\\lib\\site-packages\\sklearn\\metrics\\ranking.py:444: RuntimeWarning: invalid value encountered in true_divide\n",
      "  recall = tps / tps[-1]\n",
      "C:\\Users\\nshawen\\AppData\\Local\\Continuum\\anaconda3\\lib\\site-packages\\sklearn\\metrics\\ranking.py:94: RuntimeWarning: invalid value encountered in less\n",
      "  if np.any(dx < 0):\n",
      "C:\\Users\\nshawen\\AppData\\Local\\Continuum\\anaconda3\\lib\\site-packages\\sklearn\\metrics\\classification.py:1137: UndefinedMetricWarning: Recall is ill-defined and being set to 0.0 due to no true samples.\n",
      "  'recall', 'true', average, warn_for)\n"
     ]
    },
    {
     "name": "stdout",
     "output_type": "stream",
     "text": [
      "only 1 class in test data - cannot compute roc curve\n"
     ]
    },
    {
     "name": "stderr",
     "output_type": "stream",
     "text": [
      "C:\\Users\\nshawen\\AppData\\Local\\Continuum\\anaconda3\\lib\\site-packages\\sklearn\\metrics\\ranking.py:444: RuntimeWarning: invalid value encountered in true_divide\n",
      "  recall = tps / tps[-1]\n",
      "C:\\Users\\nshawen\\AppData\\Local\\Continuum\\anaconda3\\lib\\site-packages\\sklearn\\metrics\\ranking.py:94: RuntimeWarning: invalid value encountered in less\n",
      "  if np.any(dx < 0):\n"
     ]
    },
    {
     "name": "stdout",
     "output_type": "stream",
     "text": [
      "only 1 class in test data - cannot compute roc curve\n"
     ]
    },
    {
     "name": "stderr",
     "output_type": "stream",
     "text": [
      "C:\\Users\\nshawen\\AppData\\Local\\Continuum\\anaconda3\\lib\\site-packages\\sklearn\\metrics\\classification.py:1137: UndefinedMetricWarning: F-score is ill-defined and being set to 0.0 due to no true samples.\n",
      "  'recall', 'true', average, warn_for)\n",
      "C:\\Users\\nshawen\\AppData\\Local\\Continuum\\anaconda3\\lib\\site-packages\\sklearn\\metrics\\ranking.py:444: RuntimeWarning: invalid value encountered in true_divide\n",
      "  recall = tps / tps[-1]\n",
      "C:\\Users\\nshawen\\AppData\\Local\\Continuum\\anaconda3\\lib\\site-packages\\sklearn\\metrics\\ranking.py:94: RuntimeWarning: invalid value encountered in less\n",
      "  if np.any(dx < 0):\n",
      "C:\\Users\\nshawen\\AppData\\Local\\Continuum\\anaconda3\\lib\\site-packages\\sklearn\\metrics\\classification.py:1137: UndefinedMetricWarning: Recall is ill-defined and being set to 0.0 due to no true samples.\n",
      "  'recall', 'true', average, warn_for)\n"
     ]
    },
    {
     "name": "stdout",
     "output_type": "stream",
     "text": [
      "only 1 class in test data - cannot compute roc curve\n"
     ]
    },
    {
     "name": "stderr",
     "output_type": "stream",
     "text": [
      "C:\\Users\\nshawen\\AppData\\Local\\Continuum\\anaconda3\\lib\\site-packages\\sklearn\\metrics\\ranking.py:444: RuntimeWarning: invalid value encountered in true_divide\n",
      "  recall = tps / tps[-1]\n",
      "C:\\Users\\nshawen\\AppData\\Local\\Continuum\\anaconda3\\lib\\site-packages\\sklearn\\metrics\\ranking.py:94: RuntimeWarning: invalid value encountered in less\n",
      "  if np.any(dx < 0):\n"
     ]
    },
    {
     "name": "stdout",
     "output_type": "stream",
     "text": [
      "only 1 class in test data - cannot compute roc curve\n"
     ]
    },
    {
     "name": "stderr",
     "output_type": "stream",
     "text": [
      "C:\\Users\\nshawen\\AppData\\Local\\Continuum\\anaconda3\\lib\\site-packages\\sklearn\\metrics\\classification.py:1135: UndefinedMetricWarning: F-score is ill-defined and being set to 0.0 due to no predicted samples.\n",
      "  'precision', 'predicted', average, warn_for)\n",
      "C:\\Users\\nshawen\\AppData\\Local\\Continuum\\anaconda3\\lib\\site-packages\\sklearn\\metrics\\classification.py:1135: UndefinedMetricWarning: Precision is ill-defined and being set to 0.0 due to no predicted samples.\n",
      "  'precision', 'predicted', average, warn_for)\n",
      "C:\\Users\\nshawen\\AppData\\Local\\Continuum\\anaconda3\\lib\\site-packages\\sklearn\\metrics\\classification.py:1135: UndefinedMetricWarning: F-score is ill-defined and being set to 0.0 due to no predicted samples.\n",
      "  'precision', 'predicted', average, warn_for)\n",
      "C:\\Users\\nshawen\\AppData\\Local\\Continuum\\anaconda3\\lib\\site-packages\\sklearn\\metrics\\classification.py:1135: UndefinedMetricWarning: Precision is ill-defined and being set to 0.0 due to no predicted samples.\n",
      "  'precision', 'predicted', average, warn_for)\n",
      "C:\\Users\\nshawen\\AppData\\Local\\Continuum\\anaconda3\\lib\\site-packages\\sklearn\\metrics\\classification.py:1135: UndefinedMetricWarning: F-score is ill-defined and being set to 0.0 due to no predicted samples.\n",
      "  'precision', 'predicted', average, warn_for)\n",
      "C:\\Users\\nshawen\\AppData\\Local\\Continuum\\anaconda3\\lib\\site-packages\\sklearn\\metrics\\classification.py:1135: UndefinedMetricWarning: Precision is ill-defined and being set to 0.0 due to no predicted samples.\n",
      "  'precision', 'predicted', average, warn_for)\n",
      "C:\\Users\\nshawen\\AppData\\Local\\Continuum\\anaconda3\\lib\\site-packages\\sklearn\\metrics\\classification.py:1137: UndefinedMetricWarning: F-score is ill-defined and being set to 0.0 due to no true samples.\n",
      "  'recall', 'true', average, warn_for)\n",
      "C:\\Users\\nshawen\\AppData\\Local\\Continuum\\anaconda3\\lib\\site-packages\\sklearn\\metrics\\ranking.py:444: RuntimeWarning: invalid value encountered in true_divide\n",
      "  recall = tps / tps[-1]\n",
      "C:\\Users\\nshawen\\AppData\\Local\\Continuum\\anaconda3\\lib\\site-packages\\sklearn\\metrics\\ranking.py:94: RuntimeWarning: invalid value encountered in less\n",
      "  if np.any(dx < 0):\n",
      "C:\\Users\\nshawen\\AppData\\Local\\Continuum\\anaconda3\\lib\\site-packages\\sklearn\\metrics\\classification.py:1137: UndefinedMetricWarning: Recall is ill-defined and being set to 0.0 due to no true samples.\n",
      "  'recall', 'true', average, warn_for)\n"
     ]
    },
    {
     "name": "stdout",
     "output_type": "stream",
     "text": [
      "only 1 class in test data - cannot compute roc curve\n",
      "only 1 class in test data - cannot compute roc curve\n"
     ]
    },
    {
     "name": "stderr",
     "output_type": "stream",
     "text": [
      "C:\\Users\\nshawen\\AppData\\Local\\Continuum\\anaconda3\\lib\\site-packages\\ipykernel_launcher.py:273: RuntimeWarning: invalid value encountered in long_scalars\n"
     ]
    },
    {
     "name": "stdout",
     "output_type": "stream",
     "text": [
      "only 1 class in test data - cannot compute roc curve\n"
     ]
    },
    {
     "name": "stderr",
     "output_type": "stream",
     "text": [
      "C:\\Users\\nshawen\\AppData\\Local\\Continuum\\anaconda3\\lib\\site-packages\\ipykernel_launcher.py:273: RuntimeWarning: invalid value encountered in long_scalars\n"
     ]
    },
    {
     "name": "stdout",
     "output_type": "stream",
     "text": [
      "only 1 class in test data - cannot compute roc curve\n"
     ]
    },
    {
     "name": "stderr",
     "output_type": "stream",
     "text": [
      "C:\\Users\\nshawen\\AppData\\Local\\Continuum\\anaconda3\\lib\\site-packages\\ipykernel_launcher.py:273: RuntimeWarning: invalid value encountered in long_scalars\n"
     ]
    },
    {
     "name": "stdout",
     "output_type": "stream",
     "text": [
      "only 1 class in test data - cannot compute roc curve\n"
     ]
    },
    {
     "name": "stderr",
     "output_type": "stream",
     "text": [
      "C:\\Users\\nshawen\\AppData\\Local\\Continuum\\anaconda3\\lib\\site-packages\\ipykernel_launcher.py:273: RuntimeWarning: invalid value encountered in long_scalars\n"
     ]
    },
    {
     "name": "stdout",
     "output_type": "stream",
     "text": [
      "only 1 class in test data - cannot compute roc curve\n"
     ]
    },
    {
     "name": "stderr",
     "output_type": "stream",
     "text": [
      "C:\\Users\\nshawen\\AppData\\Local\\Continuum\\anaconda3\\lib\\site-packages\\ipykernel_launcher.py:273: RuntimeWarning: invalid value encountered in long_scalars\n"
     ]
    },
    {
     "name": "stdout",
     "output_type": "stream",
     "text": [
      "only 1 class in test data - cannot compute roc curve\n"
     ]
    },
    {
     "name": "stderr",
     "output_type": "stream",
     "text": [
      "C:\\Users\\nshawen\\AppData\\Local\\Continuum\\anaconda3\\lib\\site-packages\\ipykernel_launcher.py:273: RuntimeWarning: invalid value encountered in long_scalars\n"
     ]
    },
    {
     "name": "stdout",
     "output_type": "stream",
     "text": [
      "only 1 class in test data - cannot compute roc curve\n"
     ]
    },
    {
     "name": "stderr",
     "output_type": "stream",
     "text": [
      "C:\\Users\\nshawen\\AppData\\Local\\Continuum\\anaconda3\\lib\\site-packages\\ipykernel_launcher.py:273: RuntimeWarning: invalid value encountered in long_scalars\n"
     ]
    },
    {
     "name": "stdout",
     "output_type": "stream",
     "text": [
      "only 1 class in test data - cannot compute roc curve\n"
     ]
    },
    {
     "name": "stderr",
     "output_type": "stream",
     "text": [
      "C:\\Users\\nshawen\\AppData\\Local\\Continuum\\anaconda3\\lib\\site-packages\\ipykernel_launcher.py:273: RuntimeWarning: invalid value encountered in long_scalars\n",
      "C:\\Users\\nshawen\\AppData\\Local\\Continuum\\anaconda3\\lib\\site-packages\\ipykernel_launcher.py:317: RuntimeWarning: Mean of empty slice\n",
      "C:\\Users\\nshawen\\AppData\\Local\\Continuum\\anaconda3\\lib\\site-packages\\sklearn\\metrics\\ranking.py:444: RuntimeWarning: invalid value encountered in true_divide\n",
      "  recall = tps / tps[-1]\n",
      "C:\\Users\\nshawen\\AppData\\Local\\Continuum\\anaconda3\\lib\\site-packages\\sklearn\\metrics\\ranking.py:94: RuntimeWarning: invalid value encountered in less\n",
      "  if np.any(dx < 0):\n"
     ]
    },
    {
     "name": "stdout",
     "output_type": "stream",
     "text": [
      "only 1 class in test data - cannot compute roc curve\n"
     ]
    },
    {
     "name": "stderr",
     "output_type": "stream",
     "text": [
      "C:\\Users\\nshawen\\AppData\\Local\\Continuum\\anaconda3\\lib\\site-packages\\sklearn\\metrics\\classification.py:1137: UndefinedMetricWarning: F-score is ill-defined and being set to 0.0 due to no true samples.\n",
      "  'recall', 'true', average, warn_for)\n",
      "C:\\Users\\nshawen\\AppData\\Local\\Continuum\\anaconda3\\lib\\site-packages\\sklearn\\metrics\\ranking.py:444: RuntimeWarning: invalid value encountered in true_divide\n",
      "  recall = tps / tps[-1]\n",
      "C:\\Users\\nshawen\\AppData\\Local\\Continuum\\anaconda3\\lib\\site-packages\\sklearn\\metrics\\ranking.py:94: RuntimeWarning: invalid value encountered in less\n",
      "  if np.any(dx < 0):\n",
      "C:\\Users\\nshawen\\AppData\\Local\\Continuum\\anaconda3\\lib\\site-packages\\sklearn\\metrics\\classification.py:1137: UndefinedMetricWarning: Recall is ill-defined and being set to 0.0 due to no true samples.\n",
      "  'recall', 'true', average, warn_for)\n"
     ]
    },
    {
     "name": "stdout",
     "output_type": "stream",
     "text": [
      "only 1 class in test data - cannot compute roc curve\n"
     ]
    },
    {
     "name": "stderr",
     "output_type": "stream",
     "text": [
      "C:\\Users\\nshawen\\AppData\\Local\\Continuum\\anaconda3\\lib\\site-packages\\sklearn\\metrics\\ranking.py:444: RuntimeWarning: invalid value encountered in true_divide\n",
      "  recall = tps / tps[-1]\n",
      "C:\\Users\\nshawen\\AppData\\Local\\Continuum\\anaconda3\\lib\\site-packages\\sklearn\\metrics\\ranking.py:94: RuntimeWarning: invalid value encountered in less\n",
      "  if np.any(dx < 0):\n"
     ]
    },
    {
     "name": "stdout",
     "output_type": "stream",
     "text": [
      "only 1 class in test data - cannot compute roc curve\n"
     ]
    },
    {
     "name": "stderr",
     "output_type": "stream",
     "text": [
      "C:\\Users\\nshawen\\AppData\\Local\\Continuum\\anaconda3\\lib\\site-packages\\sklearn\\metrics\\classification.py:1137: UndefinedMetricWarning: F-score is ill-defined and being set to 0.0 due to no true samples.\n",
      "  'recall', 'true', average, warn_for)\n",
      "C:\\Users\\nshawen\\AppData\\Local\\Continuum\\anaconda3\\lib\\site-packages\\sklearn\\metrics\\ranking.py:444: RuntimeWarning: invalid value encountered in true_divide\n",
      "  recall = tps / tps[-1]\n",
      "C:\\Users\\nshawen\\AppData\\Local\\Continuum\\anaconda3\\lib\\site-packages\\sklearn\\metrics\\ranking.py:94: RuntimeWarning: invalid value encountered in less\n",
      "  if np.any(dx < 0):\n",
      "C:\\Users\\nshawen\\AppData\\Local\\Continuum\\anaconda3\\lib\\site-packages\\sklearn\\metrics\\classification.py:1137: UndefinedMetricWarning: Recall is ill-defined and being set to 0.0 due to no true samples.\n",
      "  'recall', 'true', average, warn_for)\n"
     ]
    },
    {
     "name": "stdout",
     "output_type": "stream",
     "text": [
      "only 1 class in test data - cannot compute roc curve\n"
     ]
    },
    {
     "name": "stderr",
     "output_type": "stream",
     "text": [
      "C:\\Users\\nshawen\\AppData\\Local\\Continuum\\anaconda3\\lib\\site-packages\\sklearn\\metrics\\ranking.py:444: RuntimeWarning: invalid value encountered in true_divide\n",
      "  recall = tps / tps[-1]\n",
      "C:\\Users\\nshawen\\AppData\\Local\\Continuum\\anaconda3\\lib\\site-packages\\sklearn\\metrics\\ranking.py:94: RuntimeWarning: invalid value encountered in less\n",
      "  if np.any(dx < 0):\n"
     ]
    },
    {
     "name": "stdout",
     "output_type": "stream",
     "text": [
      "only 1 class in test data - cannot compute roc curve\n"
     ]
    },
    {
     "name": "stderr",
     "output_type": "stream",
     "text": [
      "C:\\Users\\nshawen\\AppData\\Local\\Continuum\\anaconda3\\lib\\site-packages\\sklearn\\metrics\\ranking.py:444: RuntimeWarning: invalid value encountered in true_divide\n",
      "  recall = tps / tps[-1]\n",
      "C:\\Users\\nshawen\\AppData\\Local\\Continuum\\anaconda3\\lib\\site-packages\\sklearn\\metrics\\ranking.py:94: RuntimeWarning: invalid value encountered in less\n",
      "  if np.any(dx < 0):\n"
     ]
    },
    {
     "name": "stdout",
     "output_type": "stream",
     "text": [
      "only 1 class in test data - cannot compute roc curve\n"
     ]
    },
    {
     "name": "stderr",
     "output_type": "stream",
     "text": [
      "C:\\Users\\nshawen\\AppData\\Local\\Continuum\\anaconda3\\lib\\site-packages\\sklearn\\metrics\\ranking.py:444: RuntimeWarning: invalid value encountered in true_divide\n",
      "  recall = tps / tps[-1]\n",
      "C:\\Users\\nshawen\\AppData\\Local\\Continuum\\anaconda3\\lib\\site-packages\\sklearn\\metrics\\ranking.py:94: RuntimeWarning: invalid value encountered in less\n",
      "  if np.any(dx < 0):\n",
      "C:\\Users\\nshawen\\AppData\\Local\\Continuum\\anaconda3\\lib\\site-packages\\sklearn\\metrics\\ranking.py:444: RuntimeWarning: invalid value encountered in true_divide\n",
      "  recall = tps / tps[-1]\n",
      "C:\\Users\\nshawen\\AppData\\Local\\Continuum\\anaconda3\\lib\\site-packages\\sklearn\\metrics\\ranking.py:94: RuntimeWarning: invalid value encountered in less\n",
      "  if np.any(dx < 0):\n"
     ]
    },
    {
     "name": "stdout",
     "output_type": "stream",
     "text": [
      "only 1 class in test data - cannot compute roc curve\n",
      "only 1 class in test data - cannot compute roc curve\n"
     ]
    },
    {
     "name": "stderr",
     "output_type": "stream",
     "text": [
      "C:\\Users\\nshawen\\AppData\\Local\\Continuum\\anaconda3\\lib\\site-packages\\sklearn\\metrics\\ranking.py:444: RuntimeWarning: invalid value encountered in true_divide\n",
      "  recall = tps / tps[-1]\n",
      "C:\\Users\\nshawen\\AppData\\Local\\Continuum\\anaconda3\\lib\\site-packages\\sklearn\\metrics\\ranking.py:94: RuntimeWarning: invalid value encountered in less\n",
      "  if np.any(dx < 0):\n",
      "C:\\Users\\nshawen\\AppData\\Local\\Continuum\\anaconda3\\lib\\site-packages\\sklearn\\metrics\\ranking.py:444: RuntimeWarning: invalid value encountered in true_divide\n",
      "  recall = tps / tps[-1]\n",
      "C:\\Users\\nshawen\\AppData\\Local\\Continuum\\anaconda3\\lib\\site-packages\\sklearn\\metrics\\ranking.py:94: RuntimeWarning: invalid value encountered in less\n",
      "  if np.any(dx < 0):\n"
     ]
    },
    {
     "name": "stdout",
     "output_type": "stream",
     "text": [
      "only 1 class in test data - cannot compute roc curve\n",
      "only 1 class in test data - cannot compute roc curve\n"
     ]
    },
    {
     "name": "stderr",
     "output_type": "stream",
     "text": [
      "C:\\Users\\nshawen\\AppData\\Local\\Continuum\\anaconda3\\lib\\site-packages\\sklearn\\metrics\\ranking.py:444: RuntimeWarning: invalid value encountered in true_divide\n",
      "  recall = tps / tps[-1]\n",
      "C:\\Users\\nshawen\\AppData\\Local\\Continuum\\anaconda3\\lib\\site-packages\\sklearn\\metrics\\ranking.py:94: RuntimeWarning: invalid value encountered in less\n",
      "  if np.any(dx < 0):\n",
      "C:\\Users\\nshawen\\AppData\\Local\\Continuum\\anaconda3\\lib\\site-packages\\sklearn\\metrics\\ranking.py:444: RuntimeWarning: invalid value encountered in true_divide\n",
      "  recall = tps / tps[-1]\n",
      "C:\\Users\\nshawen\\AppData\\Local\\Continuum\\anaconda3\\lib\\site-packages\\sklearn\\metrics\\ranking.py:94: RuntimeWarning: invalid value encountered in less\n",
      "  if np.any(dx < 0):\n"
     ]
    },
    {
     "name": "stdout",
     "output_type": "stream",
     "text": [
      "only 1 class in test data - cannot compute roc curve\n",
      "only 1 class in test data - cannot compute roc curve\n"
     ]
    },
    {
     "name": "stderr",
     "output_type": "stream",
     "text": [
      "C:\\Users\\nshawen\\AppData\\Local\\Continuum\\anaconda3\\lib\\site-packages\\sklearn\\metrics\\ranking.py:444: RuntimeWarning: invalid value encountered in true_divide\n",
      "  recall = tps / tps[-1]\n",
      "C:\\Users\\nshawen\\AppData\\Local\\Continuum\\anaconda3\\lib\\site-packages\\sklearn\\metrics\\ranking.py:94: RuntimeWarning: invalid value encountered in less\n",
      "  if np.any(dx < 0):\n",
      "C:\\Users\\nshawen\\AppData\\Local\\Continuum\\anaconda3\\lib\\site-packages\\sklearn\\metrics\\ranking.py:444: RuntimeWarning: invalid value encountered in true_divide\n",
      "  recall = tps / tps[-1]\n",
      "C:\\Users\\nshawen\\AppData\\Local\\Continuum\\anaconda3\\lib\\site-packages\\sklearn\\metrics\\ranking.py:94: RuntimeWarning: invalid value encountered in less\n",
      "  if np.any(dx < 0):\n"
     ]
    },
    {
     "name": "stdout",
     "output_type": "stream",
     "text": [
      "only 1 class in test data - cannot compute roc curve\n",
      "only 1 class in test data - cannot compute roc curve\n"
     ]
    },
    {
     "name": "stderr",
     "output_type": "stream",
     "text": [
      "C:\\Users\\nshawen\\AppData\\Local\\Continuum\\anaconda3\\lib\\site-packages\\sklearn\\metrics\\classification.py:1135: UndefinedMetricWarning: F-score is ill-defined and being set to 0.0 due to no predicted samples.\n",
      "  'precision', 'predicted', average, warn_for)\n",
      "C:\\Users\\nshawen\\AppData\\Local\\Continuum\\anaconda3\\lib\\site-packages\\sklearn\\metrics\\classification.py:1135: UndefinedMetricWarning: Precision is ill-defined and being set to 0.0 due to no predicted samples.\n",
      "  'precision', 'predicted', average, warn_for)\n",
      "C:\\Users\\nshawen\\AppData\\Local\\Continuum\\anaconda3\\lib\\site-packages\\sklearn\\metrics\\ranking.py:444: RuntimeWarning: invalid value encountered in true_divide\n",
      "  recall = tps / tps[-1]\n",
      "C:\\Users\\nshawen\\AppData\\Local\\Continuum\\anaconda3\\lib\\site-packages\\sklearn\\metrics\\ranking.py:94: RuntimeWarning: invalid value encountered in less\n",
      "  if np.any(dx < 0):\n"
     ]
    },
    {
     "name": "stdout",
     "output_type": "stream",
     "text": [
      "only 1 class in test data - cannot compute roc curve\n",
      "only 1 class in test data - cannot compute roc curve\n"
     ]
    },
    {
     "name": "stderr",
     "output_type": "stream",
     "text": [
      "C:\\Users\\nshawen\\AppData\\Local\\Continuum\\anaconda3\\lib\\site-packages\\sklearn\\metrics\\classification.py:1137: UndefinedMetricWarning: F-score is ill-defined and being set to 0.0 due to no true samples.\n",
      "  'recall', 'true', average, warn_for)\n",
      "C:\\Users\\nshawen\\AppData\\Local\\Continuum\\anaconda3\\lib\\site-packages\\sklearn\\metrics\\ranking.py:444: RuntimeWarning: invalid value encountered in true_divide\n",
      "  recall = tps / tps[-1]\n",
      "C:\\Users\\nshawen\\AppData\\Local\\Continuum\\anaconda3\\lib\\site-packages\\sklearn\\metrics\\ranking.py:94: RuntimeWarning: invalid value encountered in less\n",
      "  if np.any(dx < 0):\n",
      "C:\\Users\\nshawen\\AppData\\Local\\Continuum\\anaconda3\\lib\\site-packages\\sklearn\\metrics\\classification.py:1137: UndefinedMetricWarning: Recall is ill-defined and being set to 0.0 due to no true samples.\n",
      "  'recall', 'true', average, warn_for)\n",
      "C:\\Users\\nshawen\\AppData\\Local\\Continuum\\anaconda3\\lib\\site-packages\\sklearn\\metrics\\ranking.py:444: RuntimeWarning: invalid value encountered in true_divide\n",
      "  recall = tps / tps[-1]\n",
      "C:\\Users\\nshawen\\AppData\\Local\\Continuum\\anaconda3\\lib\\site-packages\\sklearn\\metrics\\ranking.py:94: RuntimeWarning: invalid value encountered in less\n",
      "  if np.any(dx < 0):\n"
     ]
    },
    {
     "name": "stdout",
     "output_type": "stream",
     "text": [
      "only 1 class in test data - cannot compute roc curve\n",
      "only 1 class in test data - cannot compute roc curve\n"
     ]
    },
    {
     "name": "stderr",
     "output_type": "stream",
     "text": [
      "C:\\Users\\nshawen\\AppData\\Local\\Continuum\\anaconda3\\lib\\site-packages\\sklearn\\metrics\\classification.py:1137: UndefinedMetricWarning: F-score is ill-defined and being set to 0.0 due to no true samples.\n",
      "  'recall', 'true', average, warn_for)\n",
      "C:\\Users\\nshawen\\AppData\\Local\\Continuum\\anaconda3\\lib\\site-packages\\sklearn\\metrics\\ranking.py:444: RuntimeWarning: invalid value encountered in true_divide\n",
      "  recall = tps / tps[-1]\n",
      "C:\\Users\\nshawen\\AppData\\Local\\Continuum\\anaconda3\\lib\\site-packages\\sklearn\\metrics\\ranking.py:94: RuntimeWarning: invalid value encountered in less\n",
      "  if np.any(dx < 0):\n",
      "C:\\Users\\nshawen\\AppData\\Local\\Continuum\\anaconda3\\lib\\site-packages\\sklearn\\metrics\\classification.py:1137: UndefinedMetricWarning: Recall is ill-defined and being set to 0.0 due to no true samples.\n",
      "  'recall', 'true', average, warn_for)\n",
      "C:\\Users\\nshawen\\AppData\\Local\\Continuum\\anaconda3\\lib\\site-packages\\sklearn\\metrics\\classification.py:1137: UndefinedMetricWarning: F-score is ill-defined and being set to 0.0 due to no true samples.\n",
      "  'recall', 'true', average, warn_for)\n",
      "C:\\Users\\nshawen\\AppData\\Local\\Continuum\\anaconda3\\lib\\site-packages\\sklearn\\metrics\\ranking.py:444: RuntimeWarning: invalid value encountered in true_divide\n",
      "  recall = tps / tps[-1]\n",
      "C:\\Users\\nshawen\\AppData\\Local\\Continuum\\anaconda3\\lib\\site-packages\\sklearn\\metrics\\ranking.py:94: RuntimeWarning: invalid value encountered in less\n",
      "  if np.any(dx < 0):\n",
      "C:\\Users\\nshawen\\AppData\\Local\\Continuum\\anaconda3\\lib\\site-packages\\sklearn\\metrics\\classification.py:1137: UndefinedMetricWarning: Recall is ill-defined and being set to 0.0 due to no true samples.\n",
      "  'recall', 'true', average, warn_for)\n"
     ]
    },
    {
     "name": "stdout",
     "output_type": "stream",
     "text": [
      "only 1 class in test data - cannot compute roc curve\n"
     ]
    },
    {
     "name": "stderr",
     "output_type": "stream",
     "text": [
      "C:\\Users\\nshawen\\AppData\\Local\\Continuum\\anaconda3\\lib\\site-packages\\sklearn\\metrics\\ranking.py:444: RuntimeWarning: invalid value encountered in true_divide\n",
      "  recall = tps / tps[-1]\n",
      "C:\\Users\\nshawen\\AppData\\Local\\Continuum\\anaconda3\\lib\\site-packages\\sklearn\\metrics\\ranking.py:94: RuntimeWarning: invalid value encountered in less\n",
      "  if np.any(dx < 0):\n",
      "C:\\Users\\nshawen\\AppData\\Local\\Continuum\\anaconda3\\lib\\site-packages\\sklearn\\metrics\\classification.py:1137: UndefinedMetricWarning: F-score is ill-defined and being set to 0.0 due to no true samples.\n",
      "  'recall', 'true', average, warn_for)\n",
      "C:\\Users\\nshawen\\AppData\\Local\\Continuum\\anaconda3\\lib\\site-packages\\sklearn\\metrics\\ranking.py:444: RuntimeWarning: invalid value encountered in true_divide\n",
      "  recall = tps / tps[-1]\n",
      "C:\\Users\\nshawen\\AppData\\Local\\Continuum\\anaconda3\\lib\\site-packages\\sklearn\\metrics\\ranking.py:94: RuntimeWarning: invalid value encountered in less\n",
      "  if np.any(dx < 0):\n",
      "C:\\Users\\nshawen\\AppData\\Local\\Continuum\\anaconda3\\lib\\site-packages\\sklearn\\metrics\\classification.py:1137: UndefinedMetricWarning: Recall is ill-defined and being set to 0.0 due to no true samples.\n",
      "  'recall', 'true', average, warn_for)\n"
     ]
    },
    {
     "name": "stdout",
     "output_type": "stream",
     "text": [
      "only 1 class in test data - cannot compute roc curve\n",
      "only 1 class in test data - cannot compute roc curve\n"
     ]
    },
    {
     "name": "stderr",
     "output_type": "stream",
     "text": [
      "C:\\Users\\nshawen\\AppData\\Local\\Continuum\\anaconda3\\lib\\site-packages\\sklearn\\metrics\\ranking.py:444: RuntimeWarning: invalid value encountered in true_divide\n",
      "  recall = tps / tps[-1]\n",
      "C:\\Users\\nshawen\\AppData\\Local\\Continuum\\anaconda3\\lib\\site-packages\\sklearn\\metrics\\ranking.py:94: RuntimeWarning: invalid value encountered in less\n",
      "  if np.any(dx < 0):\n",
      "C:\\Users\\nshawen\\AppData\\Local\\Continuum\\anaconda3\\lib\\site-packages\\sklearn\\metrics\\ranking.py:444: RuntimeWarning: invalid value encountered in true_divide\n",
      "  recall = tps / tps[-1]\n",
      "C:\\Users\\nshawen\\AppData\\Local\\Continuum\\anaconda3\\lib\\site-packages\\sklearn\\metrics\\ranking.py:94: RuntimeWarning: invalid value encountered in less\n",
      "  if np.any(dx < 0):\n"
     ]
    },
    {
     "name": "stdout",
     "output_type": "stream",
     "text": [
      "only 1 class in test data - cannot compute roc curve\n",
      "only 1 class in test data - cannot compute roc curve\n",
      "only 1 class in test data - cannot compute roc curve\n"
     ]
    },
    {
     "name": "stderr",
     "output_type": "stream",
     "text": [
      "C:\\Users\\nshawen\\AppData\\Local\\Continuum\\anaconda3\\lib\\site-packages\\ipykernel_launcher.py:273: RuntimeWarning: invalid value encountered in long_scalars\n"
     ]
    },
    {
     "name": "stdout",
     "output_type": "stream",
     "text": [
      "only 1 class in test data - cannot compute roc curve\n"
     ]
    },
    {
     "name": "stderr",
     "output_type": "stream",
     "text": [
      "C:\\Users\\nshawen\\AppData\\Local\\Continuum\\anaconda3\\lib\\site-packages\\ipykernel_launcher.py:273: RuntimeWarning: invalid value encountered in long_scalars\n"
     ]
    },
    {
     "name": "stdout",
     "output_type": "stream",
     "text": [
      "only 1 class in test data - cannot compute roc curve\n"
     ]
    },
    {
     "name": "stderr",
     "output_type": "stream",
     "text": [
      "C:\\Users\\nshawen\\AppData\\Local\\Continuum\\anaconda3\\lib\\site-packages\\ipykernel_launcher.py:273: RuntimeWarning: invalid value encountered in long_scalars\n"
     ]
    },
    {
     "name": "stdout",
     "output_type": "stream",
     "text": [
      "only 1 class in test data - cannot compute roc curve\n"
     ]
    },
    {
     "name": "stderr",
     "output_type": "stream",
     "text": [
      "C:\\Users\\nshawen\\AppData\\Local\\Continuum\\anaconda3\\lib\\site-packages\\ipykernel_launcher.py:273: RuntimeWarning: invalid value encountered in long_scalars\n"
     ]
    },
    {
     "name": "stdout",
     "output_type": "stream",
     "text": [
      "only 1 class in test data - cannot compute roc curve\n"
     ]
    },
    {
     "name": "stderr",
     "output_type": "stream",
     "text": [
      "C:\\Users\\nshawen\\AppData\\Local\\Continuum\\anaconda3\\lib\\site-packages\\ipykernel_launcher.py:273: RuntimeWarning: invalid value encountered in long_scalars\n"
     ]
    },
    {
     "name": "stdout",
     "output_type": "stream",
     "text": [
      "only 1 class in test data - cannot compute roc curve\n"
     ]
    },
    {
     "name": "stderr",
     "output_type": "stream",
     "text": [
      "C:\\Users\\nshawen\\AppData\\Local\\Continuum\\anaconda3\\lib\\site-packages\\ipykernel_launcher.py:273: RuntimeWarning: invalid value encountered in long_scalars\n"
     ]
    },
    {
     "name": "stdout",
     "output_type": "stream",
     "text": [
      "only 1 class in test data - cannot compute roc curve\n"
     ]
    },
    {
     "name": "stderr",
     "output_type": "stream",
     "text": [
      "C:\\Users\\nshawen\\AppData\\Local\\Continuum\\anaconda3\\lib\\site-packages\\ipykernel_launcher.py:273: RuntimeWarning: invalid value encountered in long_scalars\n",
      "C:\\Users\\nshawen\\AppData\\Local\\Continuum\\anaconda3\\lib\\site-packages\\ipykernel_launcher.py:317: RuntimeWarning: Mean of empty slice\n",
      "C:\\Users\\nshawen\\AppData\\Local\\Continuum\\anaconda3\\lib\\site-packages\\sklearn\\metrics\\classification.py:1137: UndefinedMetricWarning: F-score is ill-defined and being set to 0.0 due to no true samples.\n",
      "  'recall', 'true', average, warn_for)\n",
      "C:\\Users\\nshawen\\AppData\\Local\\Continuum\\anaconda3\\lib\\site-packages\\sklearn\\metrics\\ranking.py:444: RuntimeWarning: invalid value encountered in true_divide\n",
      "  recall = tps / tps[-1]\n",
      "C:\\Users\\nshawen\\AppData\\Local\\Continuum\\anaconda3\\lib\\site-packages\\sklearn\\metrics\\ranking.py:94: RuntimeWarning: invalid value encountered in less\n",
      "  if np.any(dx < 0):\n",
      "C:\\Users\\nshawen\\AppData\\Local\\Continuum\\anaconda3\\lib\\site-packages\\sklearn\\metrics\\classification.py:1137: UndefinedMetricWarning: Recall is ill-defined and being set to 0.0 due to no true samples.\n",
      "  'recall', 'true', average, warn_for)\n"
     ]
    },
    {
     "name": "stdout",
     "output_type": "stream",
     "text": [
      "only 1 class in test data - cannot compute roc curve\n"
     ]
    },
    {
     "name": "stderr",
     "output_type": "stream",
     "text": [
      "C:\\Users\\nshawen\\AppData\\Local\\Continuum\\anaconda3\\lib\\site-packages\\sklearn\\metrics\\classification.py:1135: UndefinedMetricWarning: F-score is ill-defined and being set to 0.0 due to no predicted samples.\n",
      "  'precision', 'predicted', average, warn_for)\n",
      "C:\\Users\\nshawen\\AppData\\Local\\Continuum\\anaconda3\\lib\\site-packages\\sklearn\\metrics\\classification.py:1135: UndefinedMetricWarning: Precision is ill-defined and being set to 0.0 due to no predicted samples.\n",
      "  'precision', 'predicted', average, warn_for)\n",
      "C:\\Users\\nshawen\\AppData\\Local\\Continuum\\anaconda3\\lib\\site-packages\\sklearn\\metrics\\ranking.py:444: RuntimeWarning: invalid value encountered in true_divide\n",
      "  recall = tps / tps[-1]\n",
      "C:\\Users\\nshawen\\AppData\\Local\\Continuum\\anaconda3\\lib\\site-packages\\sklearn\\metrics\\ranking.py:94: RuntimeWarning: invalid value encountered in less\n",
      "  if np.any(dx < 0):\n"
     ]
    },
    {
     "name": "stdout",
     "output_type": "stream",
     "text": [
      "only 1 class in test data - cannot compute roc curve\n"
     ]
    },
    {
     "name": "stderr",
     "output_type": "stream",
     "text": [
      "C:\\Users\\nshawen\\AppData\\Local\\Continuum\\anaconda3\\lib\\site-packages\\sklearn\\metrics\\ranking.py:444: RuntimeWarning: invalid value encountered in true_divide\n",
      "  recall = tps / tps[-1]\n",
      "C:\\Users\\nshawen\\AppData\\Local\\Continuum\\anaconda3\\lib\\site-packages\\sklearn\\metrics\\ranking.py:94: RuntimeWarning: invalid value encountered in less\n",
      "  if np.any(dx < 0):\n"
     ]
    },
    {
     "name": "stdout",
     "output_type": "stream",
     "text": [
      "only 1 class in test data - cannot compute roc curve\n"
     ]
    },
    {
     "name": "stderr",
     "output_type": "stream",
     "text": [
      "C:\\Users\\nshawen\\AppData\\Local\\Continuum\\anaconda3\\lib\\site-packages\\sklearn\\metrics\\classification.py:1135: UndefinedMetricWarning: F-score is ill-defined and being set to 0.0 due to no predicted samples.\n",
      "  'precision', 'predicted', average, warn_for)\n",
      "C:\\Users\\nshawen\\AppData\\Local\\Continuum\\anaconda3\\lib\\site-packages\\sklearn\\metrics\\classification.py:1135: UndefinedMetricWarning: Precision is ill-defined and being set to 0.0 due to no predicted samples.\n",
      "  'precision', 'predicted', average, warn_for)\n",
      "C:\\Users\\nshawen\\AppData\\Local\\Continuum\\anaconda3\\lib\\site-packages\\sklearn\\metrics\\classification.py:1137: UndefinedMetricWarning: F-score is ill-defined and being set to 0.0 due to no true samples.\n",
      "  'recall', 'true', average, warn_for)\n",
      "C:\\Users\\nshawen\\AppData\\Local\\Continuum\\anaconda3\\lib\\site-packages\\sklearn\\metrics\\ranking.py:444: RuntimeWarning: invalid value encountered in true_divide\n",
      "  recall = tps / tps[-1]\n",
      "C:\\Users\\nshawen\\AppData\\Local\\Continuum\\anaconda3\\lib\\site-packages\\sklearn\\metrics\\ranking.py:94: RuntimeWarning: invalid value encountered in less\n",
      "  if np.any(dx < 0):\n",
      "C:\\Users\\nshawen\\AppData\\Local\\Continuum\\anaconda3\\lib\\site-packages\\sklearn\\metrics\\classification.py:1137: UndefinedMetricWarning: Recall is ill-defined and being set to 0.0 due to no true samples.\n",
      "  'recall', 'true', average, warn_for)\n"
     ]
    },
    {
     "name": "stdout",
     "output_type": "stream",
     "text": [
      "only 1 class in test data - cannot compute roc curve\n"
     ]
    },
    {
     "name": "stderr",
     "output_type": "stream",
     "text": [
      "C:\\Users\\nshawen\\AppData\\Local\\Continuum\\anaconda3\\lib\\site-packages\\sklearn\\metrics\\classification.py:1137: UndefinedMetricWarning: F-score is ill-defined and being set to 0.0 due to no true samples.\n",
      "  'recall', 'true', average, warn_for)\n",
      "C:\\Users\\nshawen\\AppData\\Local\\Continuum\\anaconda3\\lib\\site-packages\\sklearn\\metrics\\ranking.py:444: RuntimeWarning: invalid value encountered in true_divide\n",
      "  recall = tps / tps[-1]\n",
      "C:\\Users\\nshawen\\AppData\\Local\\Continuum\\anaconda3\\lib\\site-packages\\sklearn\\metrics\\ranking.py:94: RuntimeWarning: invalid value encountered in less\n",
      "  if np.any(dx < 0):\n",
      "C:\\Users\\nshawen\\AppData\\Local\\Continuum\\anaconda3\\lib\\site-packages\\sklearn\\metrics\\classification.py:1137: UndefinedMetricWarning: Recall is ill-defined and being set to 0.0 due to no true samples.\n",
      "  'recall', 'true', average, warn_for)\n"
     ]
    },
    {
     "name": "stdout",
     "output_type": "stream",
     "text": [
      "only 1 class in test data - cannot compute roc curve\n"
     ]
    },
    {
     "name": "stderr",
     "output_type": "stream",
     "text": [
      "C:\\Users\\nshawen\\AppData\\Local\\Continuum\\anaconda3\\lib\\site-packages\\sklearn\\metrics\\classification.py:1135: UndefinedMetricWarning: F-score is ill-defined and being set to 0.0 due to no predicted samples.\n",
      "  'precision', 'predicted', average, warn_for)\n",
      "C:\\Users\\nshawen\\AppData\\Local\\Continuum\\anaconda3\\lib\\site-packages\\sklearn\\metrics\\classification.py:1135: UndefinedMetricWarning: Precision is ill-defined and being set to 0.0 due to no predicted samples.\n",
      "  'precision', 'predicted', average, warn_for)\n",
      "C:\\Users\\nshawen\\AppData\\Local\\Continuum\\anaconda3\\lib\\site-packages\\sklearn\\metrics\\classification.py:1135: UndefinedMetricWarning: F-score is ill-defined and being set to 0.0 due to no predicted samples.\n",
      "  'precision', 'predicted', average, warn_for)\n",
      "C:\\Users\\nshawen\\AppData\\Local\\Continuum\\anaconda3\\lib\\site-packages\\sklearn\\metrics\\classification.py:1135: UndefinedMetricWarning: Precision is ill-defined and being set to 0.0 due to no predicted samples.\n",
      "  'precision', 'predicted', average, warn_for)\n",
      "C:\\Users\\nshawen\\AppData\\Local\\Continuum\\anaconda3\\lib\\site-packages\\sklearn\\metrics\\ranking.py:444: RuntimeWarning: invalid value encountered in true_divide\n",
      "  recall = tps / tps[-1]\n",
      "C:\\Users\\nshawen\\AppData\\Local\\Continuum\\anaconda3\\lib\\site-packages\\sklearn\\metrics\\ranking.py:94: RuntimeWarning: invalid value encountered in less\n",
      "  if np.any(dx < 0):\n"
     ]
    },
    {
     "name": "stdout",
     "output_type": "stream",
     "text": [
      "only 1 class in test data - cannot compute roc curve\n"
     ]
    },
    {
     "name": "stderr",
     "output_type": "stream",
     "text": [
      "C:\\Users\\nshawen\\AppData\\Local\\Continuum\\anaconda3\\lib\\site-packages\\sklearn\\metrics\\ranking.py:444: RuntimeWarning: invalid value encountered in true_divide\n",
      "  recall = tps / tps[-1]\n",
      "C:\\Users\\nshawen\\AppData\\Local\\Continuum\\anaconda3\\lib\\site-packages\\sklearn\\metrics\\ranking.py:94: RuntimeWarning: invalid value encountered in less\n",
      "  if np.any(dx < 0):\n"
     ]
    },
    {
     "name": "stdout",
     "output_type": "stream",
     "text": [
      "only 1 class in test data - cannot compute roc curve\n"
     ]
    },
    {
     "name": "stderr",
     "output_type": "stream",
     "text": [
      "C:\\Users\\nshawen\\AppData\\Local\\Continuum\\anaconda3\\lib\\site-packages\\sklearn\\metrics\\ranking.py:444: RuntimeWarning: invalid value encountered in true_divide\n",
      "  recall = tps / tps[-1]\n",
      "C:\\Users\\nshawen\\AppData\\Local\\Continuum\\anaconda3\\lib\\site-packages\\sklearn\\metrics\\ranking.py:94: RuntimeWarning: invalid value encountered in less\n",
      "  if np.any(dx < 0):\n"
     ]
    },
    {
     "name": "stdout",
     "output_type": "stream",
     "text": [
      "only 1 class in test data - cannot compute roc curve\n"
     ]
    },
    {
     "name": "stderr",
     "output_type": "stream",
     "text": [
      "C:\\Users\\nshawen\\AppData\\Local\\Continuum\\anaconda3\\lib\\site-packages\\sklearn\\metrics\\ranking.py:444: RuntimeWarning: invalid value encountered in true_divide\n",
      "  recall = tps / tps[-1]\n",
      "C:\\Users\\nshawen\\AppData\\Local\\Continuum\\anaconda3\\lib\\site-packages\\sklearn\\metrics\\ranking.py:94: RuntimeWarning: invalid value encountered in less\n",
      "  if np.any(dx < 0):\n"
     ]
    },
    {
     "name": "stdout",
     "output_type": "stream",
     "text": [
      "only 1 class in test data - cannot compute roc curve\n"
     ]
    },
    {
     "name": "stderr",
     "output_type": "stream",
     "text": [
      "C:\\Users\\nshawen\\AppData\\Local\\Continuum\\anaconda3\\lib\\site-packages\\sklearn\\metrics\\ranking.py:444: RuntimeWarning: invalid value encountered in true_divide\n",
      "  recall = tps / tps[-1]\n",
      "C:\\Users\\nshawen\\AppData\\Local\\Continuum\\anaconda3\\lib\\site-packages\\sklearn\\metrics\\ranking.py:94: RuntimeWarning: invalid value encountered in less\n",
      "  if np.any(dx < 0):\n"
     ]
    },
    {
     "name": "stdout",
     "output_type": "stream",
     "text": [
      "only 1 class in test data - cannot compute roc curve\n"
     ]
    },
    {
     "name": "stderr",
     "output_type": "stream",
     "text": [
      "C:\\Users\\nshawen\\AppData\\Local\\Continuum\\anaconda3\\lib\\site-packages\\sklearn\\metrics\\ranking.py:444: RuntimeWarning: invalid value encountered in true_divide\n",
      "  recall = tps / tps[-1]\n",
      "C:\\Users\\nshawen\\AppData\\Local\\Continuum\\anaconda3\\lib\\site-packages\\sklearn\\metrics\\ranking.py:94: RuntimeWarning: invalid value encountered in less\n",
      "  if np.any(dx < 0):\n"
     ]
    },
    {
     "name": "stdout",
     "output_type": "stream",
     "text": [
      "only 1 class in test data - cannot compute roc curve\n"
     ]
    },
    {
     "name": "stderr",
     "output_type": "stream",
     "text": [
      "C:\\Users\\nshawen\\AppData\\Local\\Continuum\\anaconda3\\lib\\site-packages\\sklearn\\metrics\\classification.py:1137: UndefinedMetricWarning: F-score is ill-defined and being set to 0.0 due to no true samples.\n",
      "  'recall', 'true', average, warn_for)\n",
      "C:\\Users\\nshawen\\AppData\\Local\\Continuum\\anaconda3\\lib\\site-packages\\sklearn\\metrics\\ranking.py:444: RuntimeWarning: invalid value encountered in true_divide\n",
      "  recall = tps / tps[-1]\n",
      "C:\\Users\\nshawen\\AppData\\Local\\Continuum\\anaconda3\\lib\\site-packages\\sklearn\\metrics\\ranking.py:94: RuntimeWarning: invalid value encountered in less\n",
      "  if np.any(dx < 0):\n",
      "C:\\Users\\nshawen\\AppData\\Local\\Continuum\\anaconda3\\lib\\site-packages\\sklearn\\metrics\\classification.py:1137: UndefinedMetricWarning: Recall is ill-defined and being set to 0.0 due to no true samples.\n",
      "  'recall', 'true', average, warn_for)\n"
     ]
    },
    {
     "name": "stdout",
     "output_type": "stream",
     "text": [
      "only 1 class in test data - cannot compute roc curve\n"
     ]
    },
    {
     "name": "stderr",
     "output_type": "stream",
     "text": [
      "C:\\Users\\nshawen\\AppData\\Local\\Continuum\\anaconda3\\lib\\site-packages\\sklearn\\metrics\\classification.py:1137: UndefinedMetricWarning: F-score is ill-defined and being set to 0.0 due to no true samples.\n",
      "  'recall', 'true', average, warn_for)\n",
      "C:\\Users\\nshawen\\AppData\\Local\\Continuum\\anaconda3\\lib\\site-packages\\sklearn\\metrics\\ranking.py:444: RuntimeWarning: invalid value encountered in true_divide\n",
      "  recall = tps / tps[-1]\n",
      "C:\\Users\\nshawen\\AppData\\Local\\Continuum\\anaconda3\\lib\\site-packages\\sklearn\\metrics\\ranking.py:94: RuntimeWarning: invalid value encountered in less\n",
      "  if np.any(dx < 0):\n",
      "C:\\Users\\nshawen\\AppData\\Local\\Continuum\\anaconda3\\lib\\site-packages\\sklearn\\metrics\\classification.py:1137: UndefinedMetricWarning: Recall is ill-defined and being set to 0.0 due to no true samples.\n",
      "  'recall', 'true', average, warn_for)\n"
     ]
    },
    {
     "name": "stdout",
     "output_type": "stream",
     "text": [
      "only 1 class in test data - cannot compute roc curve\n"
     ]
    },
    {
     "name": "stderr",
     "output_type": "stream",
     "text": [
      "C:\\Users\\nshawen\\AppData\\Local\\Continuum\\anaconda3\\lib\\site-packages\\sklearn\\metrics\\ranking.py:444: RuntimeWarning: invalid value encountered in true_divide\n",
      "  recall = tps / tps[-1]\n",
      "C:\\Users\\nshawen\\AppData\\Local\\Continuum\\anaconda3\\lib\\site-packages\\sklearn\\metrics\\ranking.py:94: RuntimeWarning: invalid value encountered in less\n",
      "  if np.any(dx < 0):\n"
     ]
    },
    {
     "name": "stdout",
     "output_type": "stream",
     "text": [
      "only 1 class in test data - cannot compute roc curve\n"
     ]
    },
    {
     "name": "stderr",
     "output_type": "stream",
     "text": [
      "C:\\Users\\nshawen\\AppData\\Local\\Continuum\\anaconda3\\lib\\site-packages\\sklearn\\metrics\\classification.py:1137: UndefinedMetricWarning: F-score is ill-defined and being set to 0.0 due to no true samples.\n",
      "  'recall', 'true', average, warn_for)\n",
      "C:\\Users\\nshawen\\AppData\\Local\\Continuum\\anaconda3\\lib\\site-packages\\sklearn\\metrics\\ranking.py:444: RuntimeWarning: invalid value encountered in true_divide\n",
      "  recall = tps / tps[-1]\n",
      "C:\\Users\\nshawen\\AppData\\Local\\Continuum\\anaconda3\\lib\\site-packages\\sklearn\\metrics\\ranking.py:94: RuntimeWarning: invalid value encountered in less\n",
      "  if np.any(dx < 0):\n",
      "C:\\Users\\nshawen\\AppData\\Local\\Continuum\\anaconda3\\lib\\site-packages\\sklearn\\metrics\\classification.py:1137: UndefinedMetricWarning: Recall is ill-defined and being set to 0.0 due to no true samples.\n",
      "  'recall', 'true', average, warn_for)\n"
     ]
    },
    {
     "name": "stdout",
     "output_type": "stream",
     "text": [
      "only 1 class in test data - cannot compute roc curve\n"
     ]
    },
    {
     "name": "stderr",
     "output_type": "stream",
     "text": [
      "C:\\Users\\nshawen\\AppData\\Local\\Continuum\\anaconda3\\lib\\site-packages\\sklearn\\metrics\\classification.py:1137: UndefinedMetricWarning: F-score is ill-defined and being set to 0.0 due to no true samples.\n",
      "  'recall', 'true', average, warn_for)\n",
      "C:\\Users\\nshawen\\AppData\\Local\\Continuum\\anaconda3\\lib\\site-packages\\sklearn\\metrics\\ranking.py:444: RuntimeWarning: invalid value encountered in true_divide\n",
      "  recall = tps / tps[-1]\n",
      "C:\\Users\\nshawen\\AppData\\Local\\Continuum\\anaconda3\\lib\\site-packages\\sklearn\\metrics\\ranking.py:94: RuntimeWarning: invalid value encountered in less\n",
      "  if np.any(dx < 0):\n",
      "C:\\Users\\nshawen\\AppData\\Local\\Continuum\\anaconda3\\lib\\site-packages\\sklearn\\metrics\\classification.py:1137: UndefinedMetricWarning: Recall is ill-defined and being set to 0.0 due to no true samples.\n",
      "  'recall', 'true', average, warn_for)\n"
     ]
    },
    {
     "name": "stdout",
     "output_type": "stream",
     "text": [
      "only 1 class in test data - cannot compute roc curve\n",
      "only 1 class in test data - cannot compute roc curve\n"
     ]
    },
    {
     "name": "stderr",
     "output_type": "stream",
     "text": [
      "C:\\Users\\nshawen\\AppData\\Local\\Continuum\\anaconda3\\lib\\site-packages\\ipykernel_launcher.py:273: RuntimeWarning: invalid value encountered in long_scalars\n",
      "C:\\Users\\nshawen\\AppData\\Local\\Continuum\\anaconda3\\lib\\site-packages\\sklearn\\metrics\\ranking.py:444: RuntimeWarning: invalid value encountered in true_divide\n",
      "  recall = tps / tps[-1]\n",
      "C:\\Users\\nshawen\\AppData\\Local\\Continuum\\anaconda3\\lib\\site-packages\\sklearn\\metrics\\ranking.py:94: RuntimeWarning: invalid value encountered in less\n",
      "  if np.any(dx < 0):\n"
     ]
    },
    {
     "name": "stdout",
     "output_type": "stream",
     "text": [
      "only 1 class in test data - cannot compute roc curve\n"
     ]
    },
    {
     "name": "stderr",
     "output_type": "stream",
     "text": [
      "C:\\Users\\nshawen\\AppData\\Local\\Continuum\\anaconda3\\lib\\site-packages\\sklearn\\metrics\\ranking.py:444: RuntimeWarning: invalid value encountered in true_divide\n",
      "  recall = tps / tps[-1]\n",
      "C:\\Users\\nshawen\\AppData\\Local\\Continuum\\anaconda3\\lib\\site-packages\\sklearn\\metrics\\ranking.py:94: RuntimeWarning: invalid value encountered in less\n",
      "  if np.any(dx < 0):\n"
     ]
    },
    {
     "name": "stdout",
     "output_type": "stream",
     "text": [
      "only 1 class in test data - cannot compute roc curve\n"
     ]
    },
    {
     "name": "stderr",
     "output_type": "stream",
     "text": [
      "C:\\Users\\nshawen\\AppData\\Local\\Continuum\\anaconda3\\lib\\site-packages\\sklearn\\metrics\\ranking.py:444: RuntimeWarning: invalid value encountered in true_divide\n",
      "  recall = tps / tps[-1]\n",
      "C:\\Users\\nshawen\\AppData\\Local\\Continuum\\anaconda3\\lib\\site-packages\\sklearn\\metrics\\ranking.py:94: RuntimeWarning: invalid value encountered in less\n",
      "  if np.any(dx < 0):\n"
     ]
    },
    {
     "name": "stdout",
     "output_type": "stream",
     "text": [
      "only 1 class in test data - cannot compute roc curve\n"
     ]
    },
    {
     "name": "stderr",
     "output_type": "stream",
     "text": [
      "C:\\Users\\nshawen\\AppData\\Local\\Continuum\\anaconda3\\lib\\site-packages\\sklearn\\metrics\\classification.py:1137: UndefinedMetricWarning: F-score is ill-defined and being set to 0.0 due to no true samples.\n",
      "  'recall', 'true', average, warn_for)\n",
      "C:\\Users\\nshawen\\AppData\\Local\\Continuum\\anaconda3\\lib\\site-packages\\sklearn\\metrics\\ranking.py:444: RuntimeWarning: invalid value encountered in true_divide\n",
      "  recall = tps / tps[-1]\n",
      "C:\\Users\\nshawen\\AppData\\Local\\Continuum\\anaconda3\\lib\\site-packages\\sklearn\\metrics\\ranking.py:94: RuntimeWarning: invalid value encountered in less\n",
      "  if np.any(dx < 0):\n",
      "C:\\Users\\nshawen\\AppData\\Local\\Continuum\\anaconda3\\lib\\site-packages\\sklearn\\metrics\\classification.py:1137: UndefinedMetricWarning: Recall is ill-defined and being set to 0.0 due to no true samples.\n",
      "  'recall', 'true', average, warn_for)\n",
      "C:\\Users\\nshawen\\AppData\\Local\\Continuum\\anaconda3\\lib\\site-packages\\sklearn\\metrics\\classification.py:1135: UndefinedMetricWarning: F-score is ill-defined and being set to 0.0 due to no predicted samples.\n",
      "  'precision', 'predicted', average, warn_for)\n"
     ]
    },
    {
     "name": "stdout",
     "output_type": "stream",
     "text": [
      "only 1 class in test data - cannot compute roc curve\n"
     ]
    },
    {
     "name": "stderr",
     "output_type": "stream",
     "text": [
      "C:\\Users\\nshawen\\AppData\\Local\\Continuum\\anaconda3\\lib\\site-packages\\sklearn\\metrics\\classification.py:1135: UndefinedMetricWarning: Precision is ill-defined and being set to 0.0 due to no predicted samples.\n",
      "  'precision', 'predicted', average, warn_for)\n",
      "C:\\Users\\nshawen\\AppData\\Local\\Continuum\\anaconda3\\lib\\site-packages\\sklearn\\metrics\\ranking.py:444: RuntimeWarning: invalid value encountered in true_divide\n",
      "  recall = tps / tps[-1]\n",
      "C:\\Users\\nshawen\\AppData\\Local\\Continuum\\anaconda3\\lib\\site-packages\\sklearn\\metrics\\ranking.py:94: RuntimeWarning: invalid value encountered in less\n",
      "  if np.any(dx < 0):\n"
     ]
    },
    {
     "name": "stdout",
     "output_type": "stream",
     "text": [
      "only 1 class in test data - cannot compute roc curve\n"
     ]
    },
    {
     "name": "stderr",
     "output_type": "stream",
     "text": [
      "C:\\Users\\nshawen\\AppData\\Local\\Continuum\\anaconda3\\lib\\site-packages\\sklearn\\metrics\\ranking.py:444: RuntimeWarning: invalid value encountered in true_divide\n",
      "  recall = tps / tps[-1]\n",
      "C:\\Users\\nshawen\\AppData\\Local\\Continuum\\anaconda3\\lib\\site-packages\\sklearn\\metrics\\ranking.py:94: RuntimeWarning: invalid value encountered in less\n",
      "  if np.any(dx < 0):\n"
     ]
    },
    {
     "name": "stdout",
     "output_type": "stream",
     "text": [
      "only 1 class in test data - cannot compute roc curve\n"
     ]
    },
    {
     "name": "stderr",
     "output_type": "stream",
     "text": [
      "C:\\Users\\nshawen\\AppData\\Local\\Continuum\\anaconda3\\lib\\site-packages\\sklearn\\metrics\\classification.py:1137: UndefinedMetricWarning: F-score is ill-defined and being set to 0.0 due to no true samples.\n",
      "  'recall', 'true', average, warn_for)\n",
      "C:\\Users\\nshawen\\AppData\\Local\\Continuum\\anaconda3\\lib\\site-packages\\sklearn\\metrics\\ranking.py:444: RuntimeWarning: invalid value encountered in true_divide\n",
      "  recall = tps / tps[-1]\n",
      "C:\\Users\\nshawen\\AppData\\Local\\Continuum\\anaconda3\\lib\\site-packages\\sklearn\\metrics\\ranking.py:94: RuntimeWarning: invalid value encountered in less\n",
      "  if np.any(dx < 0):\n",
      "C:\\Users\\nshawen\\AppData\\Local\\Continuum\\anaconda3\\lib\\site-packages\\sklearn\\metrics\\classification.py:1137: UndefinedMetricWarning: Recall is ill-defined and being set to 0.0 due to no true samples.\n",
      "  'recall', 'true', average, warn_for)\n"
     ]
    },
    {
     "name": "stdout",
     "output_type": "stream",
     "text": [
      "only 1 class in test data - cannot compute roc curve\n"
     ]
    },
    {
     "name": "stderr",
     "output_type": "stream",
     "text": [
      "C:\\Users\\nshawen\\AppData\\Local\\Continuum\\anaconda3\\lib\\site-packages\\sklearn\\metrics\\ranking.py:444: RuntimeWarning: invalid value encountered in true_divide\n",
      "  recall = tps / tps[-1]\n",
      "C:\\Users\\nshawen\\AppData\\Local\\Continuum\\anaconda3\\lib\\site-packages\\sklearn\\metrics\\ranking.py:94: RuntimeWarning: invalid value encountered in less\n",
      "  if np.any(dx < 0):\n"
     ]
    },
    {
     "name": "stdout",
     "output_type": "stream",
     "text": [
      "only 1 class in test data - cannot compute roc curve\n"
     ]
    },
    {
     "name": "stderr",
     "output_type": "stream",
     "text": [
      "C:\\Users\\nshawen\\AppData\\Local\\Continuum\\anaconda3\\lib\\site-packages\\sklearn\\metrics\\ranking.py:444: RuntimeWarning: invalid value encountered in true_divide\n",
      "  recall = tps / tps[-1]\n",
      "C:\\Users\\nshawen\\AppData\\Local\\Continuum\\anaconda3\\lib\\site-packages\\sklearn\\metrics\\ranking.py:94: RuntimeWarning: invalid value encountered in less\n",
      "  if np.any(dx < 0):\n",
      "C:\\Users\\nshawen\\AppData\\Local\\Continuum\\anaconda3\\lib\\site-packages\\sklearn\\metrics\\ranking.py:444: RuntimeWarning: invalid value encountered in true_divide\n",
      "  recall = tps / tps[-1]\n",
      "C:\\Users\\nshawen\\AppData\\Local\\Continuum\\anaconda3\\lib\\site-packages\\sklearn\\metrics\\ranking.py:94: RuntimeWarning: invalid value encountered in less\n",
      "  if np.any(dx < 0):\n"
     ]
    },
    {
     "name": "stdout",
     "output_type": "stream",
     "text": [
      "only 1 class in test data - cannot compute roc curve\n",
      "only 1 class in test data - cannot compute roc curve\n"
     ]
    },
    {
     "name": "stderr",
     "output_type": "stream",
     "text": [
      "C:\\Users\\nshawen\\AppData\\Local\\Continuum\\anaconda3\\lib\\site-packages\\sklearn\\metrics\\ranking.py:444: RuntimeWarning: invalid value encountered in true_divide\n",
      "  recall = tps / tps[-1]\n",
      "C:\\Users\\nshawen\\AppData\\Local\\Continuum\\anaconda3\\lib\\site-packages\\sklearn\\metrics\\ranking.py:94: RuntimeWarning: invalid value encountered in less\n",
      "  if np.any(dx < 0):\n"
     ]
    },
    {
     "name": "stdout",
     "output_type": "stream",
     "text": [
      "only 1 class in test data - cannot compute roc curve\n"
     ]
    },
    {
     "name": "stderr",
     "output_type": "stream",
     "text": [
      "C:\\Users\\nshawen\\AppData\\Local\\Continuum\\anaconda3\\lib\\site-packages\\sklearn\\metrics\\ranking.py:444: RuntimeWarning: invalid value encountered in true_divide\n",
      "  recall = tps / tps[-1]\n",
      "C:\\Users\\nshawen\\AppData\\Local\\Continuum\\anaconda3\\lib\\site-packages\\sklearn\\metrics\\ranking.py:94: RuntimeWarning: invalid value encountered in less\n",
      "  if np.any(dx < 0):\n"
     ]
    },
    {
     "name": "stdout",
     "output_type": "stream",
     "text": [
      "only 1 class in test data - cannot compute roc curve\n"
     ]
    },
    {
     "name": "stderr",
     "output_type": "stream",
     "text": [
      "C:\\Users\\nshawen\\AppData\\Local\\Continuum\\anaconda3\\lib\\site-packages\\sklearn\\metrics\\classification.py:1137: UndefinedMetricWarning: F-score is ill-defined and being set to 0.0 due to no true samples.\n",
      "  'recall', 'true', average, warn_for)\n",
      "C:\\Users\\nshawen\\AppData\\Local\\Continuum\\anaconda3\\lib\\site-packages\\sklearn\\metrics\\ranking.py:444: RuntimeWarning: invalid value encountered in true_divide\n",
      "  recall = tps / tps[-1]\n",
      "C:\\Users\\nshawen\\AppData\\Local\\Continuum\\anaconda3\\lib\\site-packages\\sklearn\\metrics\\ranking.py:94: RuntimeWarning: invalid value encountered in less\n",
      "  if np.any(dx < 0):\n",
      "C:\\Users\\nshawen\\AppData\\Local\\Continuum\\anaconda3\\lib\\site-packages\\sklearn\\metrics\\classification.py:1137: UndefinedMetricWarning: Recall is ill-defined and being set to 0.0 due to no true samples.\n",
      "  'recall', 'true', average, warn_for)\n"
     ]
    },
    {
     "name": "stdout",
     "output_type": "stream",
     "text": [
      "only 1 class in test data - cannot compute roc curve\n"
     ]
    },
    {
     "name": "stderr",
     "output_type": "stream",
     "text": [
      "C:\\Users\\nshawen\\AppData\\Local\\Continuum\\anaconda3\\lib\\site-packages\\sklearn\\metrics\\ranking.py:444: RuntimeWarning: invalid value encountered in true_divide\n",
      "  recall = tps / tps[-1]\n",
      "C:\\Users\\nshawen\\AppData\\Local\\Continuum\\anaconda3\\lib\\site-packages\\sklearn\\metrics\\ranking.py:94: RuntimeWarning: invalid value encountered in less\n",
      "  if np.any(dx < 0):\n"
     ]
    },
    {
     "name": "stdout",
     "output_type": "stream",
     "text": [
      "only 1 class in test data - cannot compute roc curve\n",
      "only 1 class in test data - cannot compute roc curve\n"
     ]
    },
    {
     "name": "stderr",
     "output_type": "stream",
     "text": [
      "C:\\Users\\nshawen\\AppData\\Local\\Continuum\\anaconda3\\lib\\site-packages\\ipykernel_launcher.py:273: RuntimeWarning: invalid value encountered in long_scalars\n"
     ]
    },
    {
     "name": "stdout",
     "output_type": "stream",
     "text": [
      "only 1 class in test data - cannot compute roc curve\n"
     ]
    },
    {
     "name": "stderr",
     "output_type": "stream",
     "text": [
      "C:\\Users\\nshawen\\AppData\\Local\\Continuum\\anaconda3\\lib\\site-packages\\ipykernel_launcher.py:273: RuntimeWarning: invalid value encountered in long_scalars\n",
      "C:\\Users\\nshawen\\AppData\\Local\\Continuum\\anaconda3\\lib\\site-packages\\sklearn\\metrics\\classification.py:1137: UndefinedMetricWarning: F-score is ill-defined and being set to 0.0 due to no true samples.\n",
      "  'recall', 'true', average, warn_for)\n",
      "C:\\Users\\nshawen\\AppData\\Local\\Continuum\\anaconda3\\lib\\site-packages\\sklearn\\metrics\\ranking.py:444: RuntimeWarning: invalid value encountered in true_divide\n",
      "  recall = tps / tps[-1]\n",
      "C:\\Users\\nshawen\\AppData\\Local\\Continuum\\anaconda3\\lib\\site-packages\\sklearn\\metrics\\ranking.py:94: RuntimeWarning: invalid value encountered in less\n",
      "  if np.any(dx < 0):\n",
      "C:\\Users\\nshawen\\AppData\\Local\\Continuum\\anaconda3\\lib\\site-packages\\sklearn\\metrics\\classification.py:1137: UndefinedMetricWarning: Recall is ill-defined and being set to 0.0 due to no true samples.\n",
      "  'recall', 'true', average, warn_for)\n"
     ]
    },
    {
     "name": "stdout",
     "output_type": "stream",
     "text": [
      "only 1 class in test data - cannot compute roc curve\n",
      "only 1 class in test data - cannot compute roc curve\n"
     ]
    },
    {
     "name": "stderr",
     "output_type": "stream",
     "text": [
      "C:\\Users\\nshawen\\AppData\\Local\\Continuum\\anaconda3\\lib\\site-packages\\ipykernel_launcher.py:273: RuntimeWarning: invalid value encountered in long_scalars\n",
      "C:\\Users\\nshawen\\AppData\\Local\\Continuum\\anaconda3\\lib\\site-packages\\sklearn\\metrics\\classification.py:1137: UndefinedMetricWarning: F-score is ill-defined and being set to 0.0 due to no true samples.\n",
      "  'recall', 'true', average, warn_for)\n",
      "C:\\Users\\nshawen\\AppData\\Local\\Continuum\\anaconda3\\lib\\site-packages\\sklearn\\metrics\\ranking.py:444: RuntimeWarning: invalid value encountered in true_divide\n",
      "  recall = tps / tps[-1]\n",
      "C:\\Users\\nshawen\\AppData\\Local\\Continuum\\anaconda3\\lib\\site-packages\\sklearn\\metrics\\ranking.py:94: RuntimeWarning: invalid value encountered in less\n",
      "  if np.any(dx < 0):\n",
      "C:\\Users\\nshawen\\AppData\\Local\\Continuum\\anaconda3\\lib\\site-packages\\sklearn\\metrics\\classification.py:1137: UndefinedMetricWarning: Recall is ill-defined and being set to 0.0 due to no true samples.\n",
      "  'recall', 'true', average, warn_for)\n"
     ]
    },
    {
     "name": "stdout",
     "output_type": "stream",
     "text": [
      "only 1 class in test data - cannot compute roc curve\n",
      "only 1 class in test data - cannot compute roc curve\n"
     ]
    },
    {
     "name": "stderr",
     "output_type": "stream",
     "text": [
      "C:\\Users\\nshawen\\AppData\\Local\\Continuum\\anaconda3\\lib\\site-packages\\ipykernel_launcher.py:273: RuntimeWarning: invalid value encountered in long_scalars\n",
      "C:\\Users\\nshawen\\AppData\\Local\\Continuum\\anaconda3\\lib\\site-packages\\sklearn\\metrics\\classification.py:1137: UndefinedMetricWarning: F-score is ill-defined and being set to 0.0 due to no true samples.\n",
      "  'recall', 'true', average, warn_for)\n",
      "C:\\Users\\nshawen\\AppData\\Local\\Continuum\\anaconda3\\lib\\site-packages\\sklearn\\metrics\\ranking.py:444: RuntimeWarning: invalid value encountered in true_divide\n",
      "  recall = tps / tps[-1]\n",
      "C:\\Users\\nshawen\\AppData\\Local\\Continuum\\anaconda3\\lib\\site-packages\\sklearn\\metrics\\ranking.py:94: RuntimeWarning: invalid value encountered in less\n",
      "  if np.any(dx < 0):\n",
      "C:\\Users\\nshawen\\AppData\\Local\\Continuum\\anaconda3\\lib\\site-packages\\sklearn\\metrics\\classification.py:1137: UndefinedMetricWarning: Recall is ill-defined and being set to 0.0 due to no true samples.\n",
      "  'recall', 'true', average, warn_for)\n"
     ]
    },
    {
     "name": "stdout",
     "output_type": "stream",
     "text": [
      "only 1 class in test data - cannot compute roc curve\n"
     ]
    },
    {
     "name": "stderr",
     "output_type": "stream",
     "text": [
      "C:\\Users\\nshawen\\AppData\\Local\\Continuum\\anaconda3\\lib\\site-packages\\sklearn\\metrics\\classification.py:1137: UndefinedMetricWarning: F-score is ill-defined and being set to 0.0 due to no true samples.\n",
      "  'recall', 'true', average, warn_for)\n",
      "C:\\Users\\nshawen\\AppData\\Local\\Continuum\\anaconda3\\lib\\site-packages\\sklearn\\metrics\\ranking.py:444: RuntimeWarning: invalid value encountered in true_divide\n",
      "  recall = tps / tps[-1]\n",
      "C:\\Users\\nshawen\\AppData\\Local\\Continuum\\anaconda3\\lib\\site-packages\\sklearn\\metrics\\ranking.py:94: RuntimeWarning: invalid value encountered in less\n",
      "  if np.any(dx < 0):\n",
      "C:\\Users\\nshawen\\AppData\\Local\\Continuum\\anaconda3\\lib\\site-packages\\sklearn\\metrics\\classification.py:1137: UndefinedMetricWarning: Recall is ill-defined and being set to 0.0 due to no true samples.\n",
      "  'recall', 'true', average, warn_for)\n"
     ]
    },
    {
     "name": "stdout",
     "output_type": "stream",
     "text": [
      "only 1 class in test data - cannot compute roc curve\n",
      "only 1 class in test data - cannot compute roc curve\n"
     ]
    },
    {
     "name": "stderr",
     "output_type": "stream",
     "text": [
      "C:\\Users\\nshawen\\AppData\\Local\\Continuum\\anaconda3\\lib\\site-packages\\ipykernel_launcher.py:273: RuntimeWarning: invalid value encountered in long_scalars\n",
      "C:\\Users\\nshawen\\AppData\\Local\\Continuum\\anaconda3\\lib\\site-packages\\sklearn\\metrics\\classification.py:1137: UndefinedMetricWarning: F-score is ill-defined and being set to 0.0 due to no true samples.\n",
      "  'recall', 'true', average, warn_for)\n",
      "C:\\Users\\nshawen\\AppData\\Local\\Continuum\\anaconda3\\lib\\site-packages\\sklearn\\metrics\\ranking.py:444: RuntimeWarning: invalid value encountered in true_divide\n",
      "  recall = tps / tps[-1]\n",
      "C:\\Users\\nshawen\\AppData\\Local\\Continuum\\anaconda3\\lib\\site-packages\\sklearn\\metrics\\ranking.py:94: RuntimeWarning: invalid value encountered in less\n",
      "  if np.any(dx < 0):\n",
      "C:\\Users\\nshawen\\AppData\\Local\\Continuum\\anaconda3\\lib\\site-packages\\sklearn\\metrics\\classification.py:1137: UndefinedMetricWarning: Recall is ill-defined and being set to 0.0 due to no true samples.\n",
      "  'recall', 'true', average, warn_for)\n"
     ]
    },
    {
     "name": "stdout",
     "output_type": "stream",
     "text": [
      "only 1 class in test data - cannot compute roc curve\n"
     ]
    },
    {
     "name": "stderr",
     "output_type": "stream",
     "text": [
      "C:\\Users\\nshawen\\AppData\\Local\\Continuum\\anaconda3\\lib\\site-packages\\sklearn\\metrics\\classification.py:1137: UndefinedMetricWarning: F-score is ill-defined and being set to 0.0 due to no true samples.\n",
      "  'recall', 'true', average, warn_for)\n",
      "C:\\Users\\nshawen\\AppData\\Local\\Continuum\\anaconda3\\lib\\site-packages\\sklearn\\metrics\\ranking.py:444: RuntimeWarning: invalid value encountered in true_divide\n",
      "  recall = tps / tps[-1]\n",
      "C:\\Users\\nshawen\\AppData\\Local\\Continuum\\anaconda3\\lib\\site-packages\\sklearn\\metrics\\ranking.py:94: RuntimeWarning: invalid value encountered in less\n",
      "  if np.any(dx < 0):\n",
      "C:\\Users\\nshawen\\AppData\\Local\\Continuum\\anaconda3\\lib\\site-packages\\sklearn\\metrics\\classification.py:1137: UndefinedMetricWarning: Recall is ill-defined and being set to 0.0 due to no true samples.\n",
      "  'recall', 'true', average, warn_for)\n",
      "C:\\Users\\nshawen\\AppData\\Local\\Continuum\\anaconda3\\lib\\site-packages\\ipykernel_launcher.py:317: RuntimeWarning: Mean of empty slice\n"
     ]
    },
    {
     "name": "stdout",
     "output_type": "stream",
     "text": [
      "only 1 class in test data - cannot compute roc curve\n",
      "only 1 class in test data - cannot compute roc curve\n"
     ]
    },
    {
     "name": "stderr",
     "output_type": "stream",
     "text": [
      "C:\\Users\\nshawen\\AppData\\Local\\Continuum\\anaconda3\\lib\\site-packages\\ipykernel_launcher.py:273: RuntimeWarning: invalid value encountered in long_scalars\n"
     ]
    },
    {
     "name": "stdout",
     "output_type": "stream",
     "text": [
      "only 1 class in test data - cannot compute roc curve\n"
     ]
    },
    {
     "name": "stderr",
     "output_type": "stream",
     "text": [
      "C:\\Users\\nshawen\\AppData\\Local\\Continuum\\anaconda3\\lib\\site-packages\\ipykernel_launcher.py:273: RuntimeWarning: invalid value encountered in long_scalars\n",
      "C:\\Users\\nshawen\\AppData\\Local\\Continuum\\anaconda3\\lib\\site-packages\\sklearn\\metrics\\classification.py:1135: UndefinedMetricWarning: F-score is ill-defined and being set to 0.0 due to no predicted samples.\n",
      "  'precision', 'predicted', average, warn_for)\n",
      "C:\\Users\\nshawen\\AppData\\Local\\Continuum\\anaconda3\\lib\\site-packages\\sklearn\\metrics\\classification.py:1135: UndefinedMetricWarning: Precision is ill-defined and being set to 0.0 due to no predicted samples.\n",
      "  'precision', 'predicted', average, warn_for)\n",
      "C:\\Users\\nshawen\\AppData\\Local\\Continuum\\anaconda3\\lib\\site-packages\\sklearn\\metrics\\classification.py:1137: UndefinedMetricWarning: F-score is ill-defined and being set to 0.0 due to no true samples.\n",
      "  'recall', 'true', average, warn_for)\n",
      "C:\\Users\\nshawen\\AppData\\Local\\Continuum\\anaconda3\\lib\\site-packages\\sklearn\\metrics\\ranking.py:444: RuntimeWarning: invalid value encountered in true_divide\n",
      "  recall = tps / tps[-1]\n",
      "C:\\Users\\nshawen\\AppData\\Local\\Continuum\\anaconda3\\lib\\site-packages\\sklearn\\metrics\\ranking.py:94: RuntimeWarning: invalid value encountered in less\n",
      "  if np.any(dx < 0):\n",
      "C:\\Users\\nshawen\\AppData\\Local\\Continuum\\anaconda3\\lib\\site-packages\\sklearn\\metrics\\classification.py:1137: UndefinedMetricWarning: Recall is ill-defined and being set to 0.0 due to no true samples.\n",
      "  'recall', 'true', average, warn_for)\n"
     ]
    },
    {
     "name": "stdout",
     "output_type": "stream",
     "text": [
      "only 1 class in test data - cannot compute roc curve\n"
     ]
    },
    {
     "name": "stderr",
     "output_type": "stream",
     "text": [
      "C:\\Users\\nshawen\\AppData\\Local\\Continuum\\anaconda3\\lib\\site-packages\\sklearn\\metrics\\ranking.py:444: RuntimeWarning: invalid value encountered in true_divide\n",
      "  recall = tps / tps[-1]\n",
      "C:\\Users\\nshawen\\AppData\\Local\\Continuum\\anaconda3\\lib\\site-packages\\sklearn\\metrics\\ranking.py:94: RuntimeWarning: invalid value encountered in less\n",
      "  if np.any(dx < 0):\n"
     ]
    },
    {
     "name": "stdout",
     "output_type": "stream",
     "text": [
      "only 1 class in test data - cannot compute roc curve\n"
     ]
    },
    {
     "name": "stderr",
     "output_type": "stream",
     "text": [
      "C:\\Users\\nshawen\\AppData\\Local\\Continuum\\anaconda3\\lib\\site-packages\\sklearn\\metrics\\classification.py:1137: UndefinedMetricWarning: F-score is ill-defined and being set to 0.0 due to no true samples.\n",
      "  'recall', 'true', average, warn_for)\n",
      "C:\\Users\\nshawen\\AppData\\Local\\Continuum\\anaconda3\\lib\\site-packages\\sklearn\\metrics\\ranking.py:444: RuntimeWarning: invalid value encountered in true_divide\n",
      "  recall = tps / tps[-1]\n",
      "C:\\Users\\nshawen\\AppData\\Local\\Continuum\\anaconda3\\lib\\site-packages\\sklearn\\metrics\\ranking.py:94: RuntimeWarning: invalid value encountered in less\n",
      "  if np.any(dx < 0):\n",
      "C:\\Users\\nshawen\\AppData\\Local\\Continuum\\anaconda3\\lib\\site-packages\\sklearn\\metrics\\classification.py:1137: UndefinedMetricWarning: Recall is ill-defined and being set to 0.0 due to no true samples.\n",
      "  'recall', 'true', average, warn_for)\n"
     ]
    },
    {
     "name": "stdout",
     "output_type": "stream",
     "text": [
      "only 1 class in test data - cannot compute roc curve\n"
     ]
    },
    {
     "name": "stderr",
     "output_type": "stream",
     "text": [
      "C:\\Users\\nshawen\\AppData\\Local\\Continuum\\anaconda3\\lib\\site-packages\\sklearn\\metrics\\ranking.py:444: RuntimeWarning: invalid value encountered in true_divide\n",
      "  recall = tps / tps[-1]\n",
      "C:\\Users\\nshawen\\AppData\\Local\\Continuum\\anaconda3\\lib\\site-packages\\sklearn\\metrics\\ranking.py:94: RuntimeWarning: invalid value encountered in less\n",
      "  if np.any(dx < 0):\n"
     ]
    },
    {
     "name": "stdout",
     "output_type": "stream",
     "text": [
      "only 1 class in test data - cannot compute roc curve\n",
      "only 1 class in test data - cannot compute roc curve\n"
     ]
    },
    {
     "name": "stderr",
     "output_type": "stream",
     "text": [
      "C:\\Users\\nshawen\\AppData\\Local\\Continuum\\anaconda3\\lib\\site-packages\\ipykernel_launcher.py:273: RuntimeWarning: invalid value encountered in long_scalars\n"
     ]
    },
    {
     "name": "stdout",
     "output_type": "stream",
     "text": [
      "only 1 class in test data - cannot compute roc curve\n"
     ]
    },
    {
     "name": "stderr",
     "output_type": "stream",
     "text": [
      "C:\\Users\\nshawen\\AppData\\Local\\Continuum\\anaconda3\\lib\\site-packages\\ipykernel_launcher.py:273: RuntimeWarning: invalid value encountered in long_scalars\n",
      "C:\\Users\\nshawen\\AppData\\Local\\Continuum\\anaconda3\\lib\\site-packages\\sklearn\\metrics\\classification.py:1137: UndefinedMetricWarning: F-score is ill-defined and being set to 0.0 due to no true samples.\n",
      "  'recall', 'true', average, warn_for)\n",
      "C:\\Users\\nshawen\\AppData\\Local\\Continuum\\anaconda3\\lib\\site-packages\\sklearn\\metrics\\ranking.py:444: RuntimeWarning: invalid value encountered in true_divide\n",
      "  recall = tps / tps[-1]\n",
      "C:\\Users\\nshawen\\AppData\\Local\\Continuum\\anaconda3\\lib\\site-packages\\sklearn\\metrics\\ranking.py:94: RuntimeWarning: invalid value encountered in less\n",
      "  if np.any(dx < 0):\n",
      "C:\\Users\\nshawen\\AppData\\Local\\Continuum\\anaconda3\\lib\\site-packages\\sklearn\\metrics\\classification.py:1137: UndefinedMetricWarning: Recall is ill-defined and being set to 0.0 due to no true samples.\n",
      "  'recall', 'true', average, warn_for)\n"
     ]
    },
    {
     "name": "stdout",
     "output_type": "stream",
     "text": [
      "only 1 class in test data - cannot compute roc curve\n",
      "only 1 class in test data - cannot compute roc curve\n"
     ]
    },
    {
     "name": "stderr",
     "output_type": "stream",
     "text": [
      "C:\\Users\\nshawen\\AppData\\Local\\Continuum\\anaconda3\\lib\\site-packages\\ipykernel_launcher.py:273: RuntimeWarning: invalid value encountered in long_scalars\n"
     ]
    },
    {
     "name": "stdout",
     "output_type": "stream",
     "text": [
      "only 1 class in test data - cannot compute roc curve\n"
     ]
    },
    {
     "name": "stderr",
     "output_type": "stream",
     "text": [
      "C:\\Users\\nshawen\\AppData\\Local\\Continuum\\anaconda3\\lib\\site-packages\\ipykernel_launcher.py:273: RuntimeWarning: invalid value encountered in long_scalars\n"
     ]
    },
    {
     "name": "stdout",
     "output_type": "stream",
     "text": [
      "only 1 class in test data - cannot compute roc curve\n"
     ]
    },
    {
     "name": "stderr",
     "output_type": "stream",
     "text": [
      "C:\\Users\\nshawen\\AppData\\Local\\Continuum\\anaconda3\\lib\\site-packages\\ipykernel_launcher.py:273: RuntimeWarning: invalid value encountered in long_scalars\n"
     ]
    },
    {
     "name": "stdout",
     "output_type": "stream",
     "text": [
      "only 1 class in test data - cannot compute roc curve\n"
     ]
    },
    {
     "name": "stderr",
     "output_type": "stream",
     "text": [
      "C:\\Users\\nshawen\\AppData\\Local\\Continuum\\anaconda3\\lib\\site-packages\\ipykernel_launcher.py:273: RuntimeWarning: invalid value encountered in long_scalars\n"
     ]
    },
    {
     "name": "stdout",
     "output_type": "stream",
     "text": [
      "only 1 class in test data - cannot compute roc curve\n"
     ]
    },
    {
     "name": "stderr",
     "output_type": "stream",
     "text": [
      "C:\\Users\\nshawen\\AppData\\Local\\Continuum\\anaconda3\\lib\\site-packages\\ipykernel_launcher.py:273: RuntimeWarning: invalid value encountered in long_scalars\n"
     ]
    },
    {
     "name": "stdout",
     "output_type": "stream",
     "text": [
      "only 1 class in test data - cannot compute roc curve\n"
     ]
    },
    {
     "name": "stderr",
     "output_type": "stream",
     "text": [
      "C:\\Users\\nshawen\\AppData\\Local\\Continuum\\anaconda3\\lib\\site-packages\\ipykernel_launcher.py:273: RuntimeWarning: invalid value encountered in long_scalars\n",
      "C:\\Users\\nshawen\\AppData\\Local\\Continuum\\anaconda3\\lib\\site-packages\\ipykernel_launcher.py:317: RuntimeWarning: Mean of empty slice\n"
     ]
    },
    {
     "name": "stdout",
     "output_type": "stream",
     "text": [
      "only 1 class in test data - cannot compute roc curve\n"
     ]
    },
    {
     "name": "stderr",
     "output_type": "stream",
     "text": [
      "C:\\Users\\nshawen\\AppData\\Local\\Continuum\\anaconda3\\lib\\site-packages\\ipykernel_launcher.py:273: RuntimeWarning: invalid value encountered in long_scalars\n"
     ]
    },
    {
     "name": "stdout",
     "output_type": "stream",
     "text": [
      "only 1 class in test data - cannot compute roc curve\n"
     ]
    },
    {
     "name": "stderr",
     "output_type": "stream",
     "text": [
      "C:\\Users\\nshawen\\AppData\\Local\\Continuum\\anaconda3\\lib\\site-packages\\ipykernel_launcher.py:273: RuntimeWarning: invalid value encountered in long_scalars\n"
     ]
    },
    {
     "name": "stdout",
     "output_type": "stream",
     "text": [
      "only 1 class in test data - cannot compute roc curve\n"
     ]
    },
    {
     "name": "stderr",
     "output_type": "stream",
     "text": [
      "C:\\Users\\nshawen\\AppData\\Local\\Continuum\\anaconda3\\lib\\site-packages\\ipykernel_launcher.py:273: RuntimeWarning: invalid value encountered in long_scalars\n"
     ]
    },
    {
     "name": "stdout",
     "output_type": "stream",
     "text": [
      "only 1 class in test data - cannot compute roc curve\n"
     ]
    },
    {
     "name": "stderr",
     "output_type": "stream",
     "text": [
      "C:\\Users\\nshawen\\AppData\\Local\\Continuum\\anaconda3\\lib\\site-packages\\ipykernel_launcher.py:273: RuntimeWarning: invalid value encountered in long_scalars\n"
     ]
    },
    {
     "name": "stdout",
     "output_type": "stream",
     "text": [
      "only 1 class in test data - cannot compute roc curve\n"
     ]
    },
    {
     "name": "stderr",
     "output_type": "stream",
     "text": [
      "C:\\Users\\nshawen\\AppData\\Local\\Continuum\\anaconda3\\lib\\site-packages\\ipykernel_launcher.py:273: RuntimeWarning: invalid value encountered in long_scalars\n"
     ]
    },
    {
     "name": "stdout",
     "output_type": "stream",
     "text": [
      "only 1 class in test data - cannot compute roc curve\n"
     ]
    },
    {
     "name": "stderr",
     "output_type": "stream",
     "text": [
      "C:\\Users\\nshawen\\AppData\\Local\\Continuum\\anaconda3\\lib\\site-packages\\ipykernel_launcher.py:273: RuntimeWarning: invalid value encountered in long_scalars\n"
     ]
    },
    {
     "name": "stdout",
     "output_type": "stream",
     "text": [
      "only 1 class in test data - cannot compute roc curve\n"
     ]
    },
    {
     "name": "stderr",
     "output_type": "stream",
     "text": [
      "C:\\Users\\nshawen\\AppData\\Local\\Continuum\\anaconda3\\lib\\site-packages\\ipykernel_launcher.py:273: RuntimeWarning: invalid value encountered in long_scalars\n"
     ]
    },
    {
     "name": "stdout",
     "output_type": "stream",
     "text": [
      "only 1 class in test data - cannot compute roc curve\n"
     ]
    },
    {
     "name": "stderr",
     "output_type": "stream",
     "text": [
      "C:\\Users\\nshawen\\AppData\\Local\\Continuum\\anaconda3\\lib\\site-packages\\ipykernel_launcher.py:273: RuntimeWarning: invalid value encountered in long_scalars\n",
      "C:\\Users\\nshawen\\AppData\\Local\\Continuum\\anaconda3\\lib\\site-packages\\ipykernel_launcher.py:317: RuntimeWarning: Mean of empty slice\n"
     ]
    },
    {
     "name": "stdout",
     "output_type": "stream",
     "text": [
      "only 1 class in test data - cannot compute roc curve\n"
     ]
    },
    {
     "name": "stderr",
     "output_type": "stream",
     "text": [
      "C:\\Users\\nshawen\\AppData\\Local\\Continuum\\anaconda3\\lib\\site-packages\\ipykernel_launcher.py:273: RuntimeWarning: invalid value encountered in long_scalars\n"
     ]
    },
    {
     "name": "stdout",
     "output_type": "stream",
     "text": [
      "Clinical 0.8735247548054149 (0.7981789902272396, 0.9488705193835902)\n",
      "Walking 0.7779524743115989 (0.6644896801300136, 0.8914152684931841)\n"
     ]
    },
    {
     "name": "stderr",
     "output_type": "stream",
     "text": [
      "C:\\Users\\nshawen\\AppData\\Local\\Continuum\\anaconda3\\lib\\site-packages\\seaborn\\timeseries.py:183: UserWarning: The tsplot function is deprecated and will be removed or replaced (in a substantially altered version) in a future release.\n",
      "  warnings.warn(msg, UserWarning)\n"
     ]
    },
    {
     "name": "stdout",
     "output_type": "stream",
     "text": [
      "Gross Motor 0.6961858206334187 (0.6137415473364669, 0.7786300939303705)\n",
      "Fine Motor 0.8667754771775347 (0.8222353470649296, 0.9113156072901397)\n",
      "Elapsed time = 2.439 min\n"
     ]
    },
    {
     "data": {
      "image/png": "[encoded data removed]",
      "text/plain": [
       "<matplotlib.figure.Figure at 0xf168c88>"
      ]
     },
     "metadata": {},
     "output_type": "display_data"
    }
   ],
   "source": [
    "# Personal Models\n",
    "t1=time.time()\n",
    "res_all = pd.DataFrame()\n",
    "le = LabelEncoder()\n",
    "Data=Data.reset_index(drop=True) #reset index\n",
    "\n",
    "for symptom in ['Bradykinesia']:#, 'Tremor']:\n",
    "    \n",
    "    res_allvisits = {}\n",
    "    for T in tasks:\n",
    "        res_allvisits[tuple(T)] = {'tpr':[],'fpr':[],'auroc':[]}\n",
    "    \n",
    "    #remove nan rows for current symptom\n",
    "    Data = Dataorig.copy() #original unmodified dataframe\n",
    "    Data=Data[~Data[symptom].isnull()]\n",
    "    Data=Data.reset_index(drop=True) #reset index\n",
    "    \n",
    "    X = Data.iloc[:,7:].as_matrix()\n",
    "    # X = StandardScaler().fit_transform(X)\n",
    "    fnames = Data.iloc[:,7:].columns.values\n",
    "\n",
    "    indp = ((Data[symptom]>0))\n",
    "    indp = indp.values\n",
    "    y = indp.astype(int) #target \n",
    "    print('Rows w %s %d/%d = %.2f'%(symptom,sum(indp),len(indp),(sum(indp)/len(indp))))\n",
    "\n",
    "    for s in Data.Subject.unique():\n",
    "        ds = Data.loc[Data.Subject==s]\n",
    "        indp = (ds[symptom]>0).values\n",
    "        y = indp.astype(int) #target \n",
    "        X = ds.iloc[:,7:]\n",
    "        X_std = StandardScaler().fit_transform(X) #standardize input data\n",
    "        groups = le.fit_transform(ds.Visit)\n",
    "        if len(np.unique(groups))<2:\n",
    "            continue\n",
    "        \n",
    "\n",
    "        models = [RandomForestClassifier(n_estimators=50,random_state=2)]          \n",
    "        model_name = ['Random Forest']\n",
    "        models = list(zip(models,model_name))\n",
    "\n",
    "        res,res_group = LOSOCV_Tasks(ds,X_std,y,groups,tasks,models[0][0])\n",
    "        \n",
    "        #loop through visits and remove NaNs\n",
    "        for T in res_group.keys():\n",
    "            NanInds = []\n",
    "            for i in range(len(res_group[T]['auroc'])):\n",
    "                if np.isnan(res_group[T]['auroc'][i]):\n",
    "                    NanInds.append(i)\n",
    "            for i in sorted(NanInds,reverse=True):\n",
    "                del res_group[T]['tpr'][i]\n",
    "                del res_group[T]['auroc'][i]\n",
    "            if len(res_group[T]['auroc'])>0:\n",
    "                res_allvisits[T]['tpr'].append(np.nanmean(res_group[T]['tpr'],axis=0))\n",
    "                res_allvisits[T]['fpr'].append(np.nanmean(res_group[T]['fpr'],axis=0))\n",
    "                res_allvisits[T]['auroc'].append(np.nanmean(res_group[T]['auroc']))\n",
    "        \n",
    "    Tasks = list(res_group.keys())\n",
    "    AX=None\n",
    "#     plt.figure(figsize=(9,6))\n",
    "\n",
    "    figure = plt.figure()\n",
    "    figure.set_dpi(100)\n",
    "    figure.set_size_inches(6.4,4.8)\n",
    "    \n",
    "    cols = ['b','r','g','m','k']\n",
    "    TaskNames = ['Clinical', 'Walking', 'Gross Motor', 'Fine Motor', 'All']\n",
    "    for x,T in zip(range(len(Tasks)),Tasks):\n",
    "        \n",
    "        AUC = res_allvisits[T]['auroc']\n",
    "        print(TaskNames[x],np.mean(AUC),\n",
    "              stats.t.interval(.95,len(AUC)-1, loc=np.mean(AUC), scale=stats.sem(AUC)))\n",
    "        \n",
    "        if AX==None:\n",
    "            AX = plot_roc(res_allvisits[T]['tpr'],res_allvisits[T]['fpr'][0],np.mean(res_allvisits[T]['auroc']),\n",
    "                          plotname=TaskNames[x],col = cols[x])\n",
    "        else:\n",
    "            plot_roc(res_allvisits[T]['tpr'],res_allvisits[T]['fpr'][0],np.mean(res_allvisits[T]['auroc']),\n",
    "                     plotname=TaskNames[x],ax=AX,col=cols[x])\n",
    "\n",
    "    save_object(res_allvisits,symptom+'PersonalDataResults')\n",
    "    plt.savefig(symptom+'Tasks.jpg')\n",
    "    plt.savefig(symptom+'Tasks.png',format='png',dpi=1000)\n",
    "    \n",
    "\n",
    "print('Elapsed time = %.3f min'%((time.time()-t1)/60))  "
   ]
  },
  {
   "cell_type": "code",
   "execution_count": 37,
   "metadata": {},
   "outputs": [],
   "source": [
    "with open('BradykinesiaPersonalDataResults','rb') as file:\n",
    "    BradykinesiaRes = pickle.load(file)\n",
    "    \n",
    "# with open('TremorPersonalDataResults','rb') as file:\n",
    "#     TremorRes = pickle.load(file)"
   ]
  },
  {
   "cell_type": "code",
   "execution_count": 38,
   "metadata": {},
   "outputs": [
    {
     "name": "stdout",
     "output_type": "stream",
     "text": [
      "('Motor #4: Finger to Nose', 'Motor #5: Alternating Hand Movements')\n",
      "Ttest_indResult(statistic=0.0, pvalue=1.0)\n",
      "('Motor #2: Walking', 'Motor #3: Walking while Counting', 'Motor #1: Standing', 'Motor #13: Sitting')\n",
      "Ttest_indResult(statistic=1.445519740597778, pvalue=0.15803501687521393)\n",
      "('Motor #10: Drinking Water', 'Motor #11: Organizing Folder', 'Motor #12: Folding Towels')\n",
      "Ttest_indResult(statistic=3.4016815506537594, pvalue=0.001971846311262386)\n",
      "('Motor #7: Drawing on Paper', 'Motor #8: Typing on a Computer', 'Motor #9: Nuts and Bolts')\n",
      "Ttest_indResult(statistic=0.16965776718290307, pvalue=0.8663150777864876)\n"
     ]
    }
   ],
   "source": [
    "for k in BradykinesiaRes.keys():\n",
    "    print(k)\n",
    "    try:\n",
    "        print(stats.ttest_ind(BradykinesiaRes[('Motor #4: Finger to Nose', 'Motor #5: Alternating Hand Movements')]['auroc'],\n",
    "                              BradykinesiaRes[k]['auroc']))\n",
    "    except:\n",
    "        continue"
   ]
  },
  {
   "cell_type": "code",
   "execution_count": null,
   "metadata": {},
   "outputs": [],
   "source": [
    "for k in TremorRes.keys():\n",
    "    print(k)\n",
    "    try:\n",
    "        print(stats.ttest_ind(TremorRes[('Motor #4: Finger to Nose', 'Motor #5: Alternating Hand Movements')]['auroc'],\n",
    "                              TremorRes[k]['auroc']))\n",
    "    except:\n",
    "        continue"
   ]
  },
  {
   "cell_type": "markdown",
   "metadata": {},
   "source": [
    "# Effect of # of subjects"
   ]
  },
  {
   "cell_type": "code",
   "execution_count": null,
   "metadata": {},
   "outputs": [],
   "source": [
    "# #if want to use only the selected features (to speed up)\n",
    "# topf = ['rangeYacc', 'rangeXgyr', 'Sen_Xgyr', 'xcorr_peakXZgyr',\n",
    "#        'jerk_stdgyr', 'rangeZgyr', 'PSD_meangyr', 'Sen_Zgyr',\n",
    "#        'xcorr_peakXZacc', 'xcor_peakXYacc', 'xcor_peakXYgyr', 'Sen_Ygyr',\n",
    "#        'rangeXacc']"
   ]
  },
  {
   "cell_type": "markdown",
   "metadata": {},
   "source": [
    "### Bradykinesia"
   ]
  },
  {
   "cell_type": "code",
   "execution_count": null,
   "metadata": {},
   "outputs": [],
   "source": [
    "symptom = 'Bradykinesia'\n",
    "Data=Data[~Data[symptom].isnull()]\n",
    "Data=Data.reset_index(drop=True) #reset index"
   ]
  },
  {
   "cell_type": "code",
   "execution_count": null,
   "metadata": {},
   "outputs": [],
   "source": [
    "symptom"
   ]
  },
  {
   "cell_type": "code",
   "execution_count": null,
   "metadata": {
    "scrolled": true
   },
   "outputs": [],
   "source": [
    "#sample p subjects at random for train and test on 1 random remaining subject\n",
    "\n",
    "results = pd.DataFrame()\n",
    "subjs=Data.Subject.unique()\n",
    "nsubj = [4,6,8,12,16] #of subjects to train on\n",
    "clf = RandomForestClassifier(n_estimators=50,random_state=2)\n",
    "auc_all={}\n",
    "testsublist = []\n",
    "t1=time.time()\n",
    "\n",
    "for iteration in range(500):\n",
    "    \n",
    "\n",
    "    trainsubjall = np.random.choice(subjs,size=16,replace=False) #sample 16 subjects at random\n",
    "    \n",
    "    #pick a test subject at random\n",
    "    losubjs = Data[~Data.Subject.isin(trainsubjall)].Subject.unique()\n",
    "    testsubj = np.random.choice(losubjs)\n",
    "    dtest = Data[Data.Subject==testsubj]\n",
    "    testsublist.append(testsubj)\n",
    "    \n",
    "    #use top features\n",
    "    Xte = dtest.iloc[:,7:].as_matrix()\n",
    "#     Xte = dtest[topf].as_matrix()\n",
    "    yte = (dtest[symptom]>0).values.astype(int)\n",
    "\n",
    "    if iteration%10==0:\n",
    "        print(iteration,trainsubjall,testsubj)\n",
    "\n",
    "    #compute and store AUC for an incremental number of train subjects tested on the left out subject\n",
    "    for NS in nsubj:\n",
    "    \n",
    "        trainsubj = trainsubjall[:NS] #add subjects incrementally each time\n",
    "        dtrain = Data[Data.Subject.isin(trainsubj)]\n",
    "\n",
    "        Xtr = dtrain.iloc[:,7:].as_matrix()\n",
    "        #use top features\n",
    "#         Xtr = dtrain[topf].as_matrix()\n",
    "        ytr = (dtrain[symptom]>0).values.astype(int)\n",
    "\n",
    "        if len(np.unique(ytr))<2: #skip if no positive or negative examples are available for training\n",
    "            print('only 1 class available in train data - skipping')\n",
    "            continue\n",
    "        clf.fit(Xtr,ytr)\n",
    "        ypred = clf.predict(Xte)\n",
    "        yscore = clf.predict_proba(Xte)\n",
    "        yscore = yscore[:,1]\n",
    "\n",
    "        if len(np.unique(yte))>1:\n",
    "            auroc = roc_auc_score(yte,yscore)\n",
    "        else:\n",
    "            print('only 1 class in test data - cannot compute roc curve')\n",
    "            auroc = np.nan\n",
    "        auc_all.update({NS:auroc}) #store auc for each grp\n",
    "\n",
    "\n",
    "    results=pd.concat((results,pd.DataFrame(auc_all,index=[iteration])))\n",
    "    \n",
    "\n",
    "\n",
    "#     results.update({ng:auc_all}) #save auc for all runs for each group\n",
    "print('elapsed %.3f min'%((time.time()-t1)/60))\n"
   ]
  },
  {
   "cell_type": "code",
   "execution_count": null,
   "metadata": {},
   "outputs": [],
   "source": [
    "results.to_csv('SimsMultiSubj_Brady.csv')"
   ]
  },
  {
   "cell_type": "code",
   "execution_count": null,
   "metadata": {},
   "outputs": [],
   "source": [
    "np.save('SimsMultiSubj_testsublist_brady.npy',testsublist)"
   ]
  },
  {
   "cell_type": "markdown",
   "metadata": {},
   "source": [
    "Bradykinesia Results"
   ]
  },
  {
   "cell_type": "code",
   "execution_count": null,
   "metadata": {},
   "outputs": [],
   "source": [
    "results=pd.read_csv('SimsMultiSubj_Brady.csv',index_col=False)\n",
    "results=results.drop('Unnamed: 0',axis=1)"
   ]
  },
  {
   "cell_type": "code",
   "execution_count": null,
   "metadata": {},
   "outputs": [],
   "source": [
    "results2=results.iloc[:,1:].copy()"
   ]
  },
  {
   "cell_type": "code",
   "execution_count": null,
   "metadata": {},
   "outputs": [],
   "source": [
    "baseline = results.iloc[:,0].copy()"
   ]
  },
  {
   "cell_type": "code",
   "execution_count": null,
   "metadata": {},
   "outputs": [],
   "source": [
    "diffs = results2.apply(lambda x:x - baseline)"
   ]
  },
  {
   "cell_type": "code",
   "execution_count": null,
   "metadata": {},
   "outputs": [],
   "source": [
    "diffs.plot(kind='box')"
   ]
  },
  {
   "cell_type": "code",
   "execution_count": null,
   "metadata": {},
   "outputs": [],
   "source": [
    "ci = []\n",
    "for c in range(len(diffs.columns.values)):\n",
    "    sns.distplot(diffs.iloc[:,c])\n",
    "    print(np.percentile(diffs.iloc[:,c].values,2.5),np.percentile(diffs.iloc[:,c].values,97.5))\n",
    "    ci.append(np.array([np.percentile(diffs.iloc[:,c].values,2.5),np.percentile(diffs.iloc[:,c].values,97.5)]))"
   ]
  },
  {
   "cell_type": "code",
   "execution_count": null,
   "metadata": {
    "scrolled": true
   },
   "outputs": [],
   "source": [
    "diffs['TestSubj']= testsublist"
   ]
  },
  {
   "cell_type": "code",
   "execution_count": null,
   "metadata": {},
   "outputs": [],
   "source": [
    "# plt.figure(figsize=(12,8))\n",
    "# sns.boxplot(x='TestSubj',y='6',data=diffs)"
   ]
  },
  {
   "cell_type": "code",
   "execution_count": null,
   "metadata": {},
   "outputs": [],
   "source": [
    "# plt.figure(figsize=(12,8))\n",
    "# sns.boxplot(x='TestSubj',y='16',data=diffs)"
   ]
  },
  {
   "cell_type": "code",
   "execution_count": null,
   "metadata": {},
   "outputs": [],
   "source": [
    "a.shape"
   ]
  },
  {
   "cell_type": "markdown",
   "metadata": {},
   "source": [
    "### Tremor Results"
   ]
  },
  {
   "cell_type": "code",
   "execution_count": null,
   "metadata": {},
   "outputs": [],
   "source": [
    "results=pd.read_csv('SimsMultiSubj_Tremor.csv',index_col=False)"
   ]
  },
  {
   "cell_type": "code",
   "execution_count": null,
   "metadata": {},
   "outputs": [],
   "source": [
    "results=results.drop('Unnamed: 0',axis=1)"
   ]
  },
  {
   "cell_type": "code",
   "execution_count": null,
   "metadata": {},
   "outputs": [],
   "source": [
    "results=results.dropna()"
   ]
  },
  {
   "cell_type": "code",
   "execution_count": null,
   "metadata": {},
   "outputs": [],
   "source": [
    "results2=results.iloc[:,1:].copy()"
   ]
  },
  {
   "cell_type": "code",
   "execution_count": null,
   "metadata": {},
   "outputs": [],
   "source": [
    "baseline = results.iloc[:,0].copy()"
   ]
  },
  {
   "cell_type": "code",
   "execution_count": null,
   "metadata": {},
   "outputs": [],
   "source": [
    "diffs = results2.apply(lambda x:x - baseline)"
   ]
  },
  {
   "cell_type": "code",
   "execution_count": null,
   "metadata": {},
   "outputs": [],
   "source": [
    "diffs.plot(kind='box')"
   ]
  },
  {
   "cell_type": "code",
   "execution_count": null,
   "metadata": {},
   "outputs": [],
   "source": [
    "ci = []\n",
    "for c in range(len(diffs.columns.values)):\n",
    "    sns.distplot(diffs.iloc[:,c])\n",
    "    print(np.percentile(diffs.iloc[:,c].values,2.5),np.percentile(diffs.iloc[:,c].values,97.5))\n",
    "    ci.append(np.array([np.percentile(diffs.iloc[:,c].values,2.5),np.percentile(diffs.iloc[:,c].values,97.5)]))"
   ]
  },
  {
   "cell_type": "code",
   "execution_count": null,
   "metadata": {},
   "outputs": [],
   "source": [
    "Xtr.shape"
   ]
  },
  {
   "cell_type": "code",
   "execution_count": null,
   "metadata": {},
   "outputs": [],
   "source": [
    "# y=np.asarray(diffs)\n",
    "# x = diffs.columns.values\n",
    "# sns.tsplot(y,x,ci='sd')"
   ]
  },
  {
   "cell_type": "markdown",
   "metadata": {},
   "source": [
    "## Personal models - Leave One visit out and LOin on Day 1 and Day 2"
   ]
  },
  {
   "cell_type": "code",
   "execution_count": 12,
   "metadata": {},
   "outputs": [
    {
     "data": {
      "text/html": [
       "<div>\n",
       "<style scoped>\n",
       "    .dataframe tbody tr th:only-of-type {\n",
       "        vertical-align: middle;\n",
       "    }\n",
       "\n",
       "    .dataframe tbody tr th {\n",
       "        vertical-align: top;\n",
       "    }\n",
       "\n",
       "    .dataframe thead th {\n",
       "        text-align: right;\n",
       "    }\n",
       "</style>\n",
       "<table border=\"1\" class=\"dataframe\">\n",
       "  <thead>\n",
       "    <tr style=\"text-align: right;\">\n",
       "      <th></th>\n",
       "      <th>Subject</th>\n",
       "      <th>Visit</th>\n",
       "      <th>Side</th>\n",
       "      <th>Task</th>\n",
       "      <th>Tremor</th>\n",
       "      <th>Bradykinesia</th>\n",
       "      <th>Dyskinesia</th>\n",
       "      <th>rangeXacc</th>\n",
       "      <th>rangeYacc</th>\n",
       "      <th>rangeZacc</th>\n",
       "      <th>...</th>\n",
       "      <th>PSD_stdgyr</th>\n",
       "      <th>PSD_skewgyr</th>\n",
       "      <th>PSD_kurgyr</th>\n",
       "      <th>jerk_meangyr</th>\n",
       "      <th>jerk_stdgyr</th>\n",
       "      <th>jerk_skewgyr</th>\n",
       "      <th>jerk_kurgyr</th>\n",
       "      <th>Sen_Xgyr</th>\n",
       "      <th>Sen_Ygyr</th>\n",
       "      <th>Sen_Zgyr</th>\n",
       "    </tr>\n",
       "  </thead>\n",
       "  <tbody>\n",
       "    <tr>\n",
       "      <th>0</th>\n",
       "      <td>1004</td>\n",
       "      <td>2 Weeks: Time 0</td>\n",
       "      <td>left</td>\n",
       "      <td>Motor #2: Walking</td>\n",
       "      <td>0.0</td>\n",
       "      <td>1.0</td>\n",
       "      <td>0.0</td>\n",
       "      <td>0.750286</td>\n",
       "      <td>0.950312</td>\n",
       "      <td>0.792986</td>\n",
       "      <td>...</td>\n",
       "      <td>333.369231</td>\n",
       "      <td>3.587466</td>\n",
       "      <td>15.204802</td>\n",
       "      <td>0.114246</td>\n",
       "      <td>10.726893</td>\n",
       "      <td>0.176444</td>\n",
       "      <td>-0.009173</td>\n",
       "      <td>0.416625</td>\n",
       "      <td>0.571324</td>\n",
       "      <td>0.438326</td>\n",
       "    </tr>\n",
       "    <tr>\n",
       "      <th>1</th>\n",
       "      <td>1004</td>\n",
       "      <td>2 Weeks: Time 0</td>\n",
       "      <td>left</td>\n",
       "      <td>Motor #2: Walking</td>\n",
       "      <td>0.0</td>\n",
       "      <td>1.0</td>\n",
       "      <td>0.0</td>\n",
       "      <td>0.593042</td>\n",
       "      <td>0.814818</td>\n",
       "      <td>0.511329</td>\n",
       "      <td>...</td>\n",
       "      <td>511.580241</td>\n",
       "      <td>4.261274</td>\n",
       "      <td>17.609498</td>\n",
       "      <td>-0.173831</td>\n",
       "      <td>10.278264</td>\n",
       "      <td>0.551148</td>\n",
       "      <td>0.059904</td>\n",
       "      <td>0.321724</td>\n",
       "      <td>0.525199</td>\n",
       "      <td>0.307797</td>\n",
       "    </tr>\n",
       "  </tbody>\n",
       "</table>\n",
       "<p>2 rows × 63 columns</p>\n",
       "</div>"
      ],
      "text/plain": [
       "   Subject            Visit  Side               Task  Tremor  Bradykinesia  \\\n",
       "0     1004  2 Weeks: Time 0  left  Motor #2: Walking     0.0           1.0   \n",
       "1     1004  2 Weeks: Time 0  left  Motor #2: Walking     0.0           1.0   \n",
       "\n",
       "   Dyskinesia  rangeXacc  rangeYacc  rangeZacc    ...     PSD_stdgyr  \\\n",
       "0         0.0   0.750286   0.950312   0.792986    ...     333.369231   \n",
       "1         0.0   0.593042   0.814818   0.511329    ...     511.580241   \n",
       "\n",
       "   PSD_skewgyr  PSD_kurgyr  jerk_meangyr  jerk_stdgyr  jerk_skewgyr  \\\n",
       "0     3.587466   15.204802      0.114246    10.726893      0.176444   \n",
       "1     4.261274   17.609498     -0.173831    10.278264      0.551148   \n",
       "\n",
       "   jerk_kurgyr  Sen_Xgyr  Sen_Ygyr  Sen_Zgyr  \n",
       "0    -0.009173  0.416625  0.571324  0.438326  \n",
       "1     0.059904  0.321724  0.525199  0.307797  \n",
       "\n",
       "[2 rows x 63 columns]"
      ]
     },
     "execution_count": 12,
     "metadata": {},
     "output_type": "execute_result"
    }
   ],
   "source": [
    "Data.head(2)"
   ]
  },
  {
   "cell_type": "markdown",
   "metadata": {},
   "source": [
    "Train on 1 session"
   ]
  },
  {
   "cell_type": "code",
   "execution_count": 13,
   "metadata": {
    "scrolled": true
   },
   "outputs": [
    {
     "name": "stdout",
     "output_type": "stream",
     "text": [
      "Subject 1004\n",
      "Training Random Forest\n",
      "\n",
      "Subj/Visit 0, prec=0.013, rec=1.000, Spec=0.269, auroc_train=1.000, auroc=0.818\n",
      "only 1 class available in train data - skipping\n",
      "only 1 class available in train data - skipping\n",
      "\n",
      "Subj/Visit 1, prec=1.000, rec=0.032, Spec=1.000, auroc_train=1.000, auroc=0.512\n",
      "only 1 class available in train data - skipping\n",
      "only 1 class available in train data - skipping\n",
      "f1_test=0.044+/-0.018, prec=0.507+/-0.493, rec=0.516+/-0.484, auprc=0.155+/-0.094, auroc=0.665+/-0.153\n",
      "Test 1004 on day 2\n",
      "Subject 1016\n",
      "Training Random Forest\n",
      "\n",
      "Subj/Visit 0, prec=0.775, rec=0.853, Spec=0.706, auroc_train=1.000, auroc=0.869\n",
      "\n",
      "Subj/Visit 1, prec=0.850, rec=0.907, Spec=0.820, auroc_train=1.000, auroc=0.927\n",
      "\n",
      "Subj/Visit 2, prec=0.828, rec=0.875, Spec=0.794, auroc_train=1.000, auroc=0.896\n",
      "\n",
      "Subj/Visit 3, prec=0.838, rec=0.874, Spec=0.805, auroc_train=1.000, auroc=0.909\n",
      "\n",
      "Subj/Visit 4, prec=0.832, rec=0.875, Spec=0.802, auroc_train=1.000, auroc=0.907\n",
      "\n",
      "Subj/Visit 5, prec=0.851, rec=0.873, Spec=0.833, auroc_train=1.000, auroc=0.918\n",
      "f1_test=0.852+/-0.020, prec=0.829+/-0.026, rec=0.876+/-0.016, auprc=0.894+/-0.010, auroc=0.904+/-0.019\n",
      "Test 1016 on day 2\n",
      "only 1 class in test data - cannot compute roc curve\n",
      "Subject 1018\n",
      "Training Random Forest\n",
      "\n",
      "Subj/Visit 0, prec=0.423, rec=0.568, Spec=0.935, auroc_train=1.000, auroc=0.870\n",
      "\n",
      "Subj/Visit 1, prec=0.967, rec=0.175, Spec=0.999, auroc_train=1.000, auroc=0.643\n",
      "\n",
      "Subj/Visit 2, prec=1.000, rec=0.178, Spec=1.000, auroc_train=1.000, auroc=0.608\n",
      "\n",
      "Subj/Visit 3, prec=0.685, rec=0.270, Spec=0.987, auroc_train=1.000, auroc=0.826\n",
      "\n",
      "Subj/Visit 4, prec=0.911, rec=0.313, Spec=0.997, auroc_train=1.000, auroc=0.839\n",
      "\n",
      "Subj/Visit 5, prec=1.000, rec=0.210, Spec=1.000, auroc_train=1.000, auroc=0.625\n",
      "f1_test=0.380+/-0.074, prec=0.831+/-0.212, rec=0.286+/-0.135, auprc=0.446+/-0.050, auroc=0.735+/-0.111\n",
      "Test 1018 on day 2\n",
      "Subject 1019\n",
      "Training Random Forest\n",
      "\n",
      "Subj/Visit 0, prec=0.000, rec=0.000, Spec=0.991, auroc_train=1.000, auroc=0.529\n",
      "\n",
      "Subj/Visit 1, prec=0.706, rec=0.164, Spec=0.996, auroc_train=1.000, auroc=0.603\n",
      "\n",
      "Subj/Visit 2, prec=0.800, rec=0.055, Spec=0.999, auroc_train=1.000, auroc=0.602\n",
      "\n",
      "Subj/Visit 3, prec=0.667, rec=0.030, Spec=0.999, auroc_train=1.000, auroc=0.572\n",
      "\n",
      "Subj/Visit 4, prec=0.643, rec=0.123, Spec=0.996, auroc_train=1.000, auroc=0.600\n",
      "\n",
      "Subj/Visit 5, prec=0.800, rec=0.219, Spec=0.997, auroc_train=1.000, auroc=0.576\n",
      "f1_test=0.163+/-0.120, prec=0.603+/-0.276, rec=0.099+/-0.077, auprc=0.184+/-0.089, auroc=0.580+/-0.026\n",
      "Test 1019 on day 2\n",
      "Subject 1024\n",
      "Training Random Forest\n",
      "\n",
      "Subj/Visit 0, prec=0.189, rec=0.943, Spec=0.172, auroc_train=1.000, auroc=0.618\n",
      "\n",
      "Subj/Visit 1, prec=0.583, rec=0.029, Spec=0.991, auroc_train=1.000, auroc=0.611\n",
      "\n",
      "Subj/Visit 2, prec=1.000, rec=0.014, Spec=1.000, auroc_train=1.000, auroc=0.502\n",
      "\n",
      "Subj/Visit 3, prec=0.271, rec=0.776, Spec=0.407, auroc_train=1.000, auroc=0.653\n",
      "\n",
      "Subj/Visit 4, prec=0.556, rec=0.042, Spec=0.986, auroc_train=1.000, auroc=0.668\n"
     ]
    },
    {
     "name": "stderr",
     "output_type": "stream",
     "text": [
      "C:\\Users\\andre\\Anaconda3\\lib\\site-packages\\sklearn\\metrics\\classification.py:1135: UndefinedMetricWarning: F-score is ill-defined and being set to 0.0 due to no predicted samples.\n",
      "  'precision', 'predicted', average, warn_for)\n",
      "C:\\Users\\andre\\Anaconda3\\lib\\site-packages\\sklearn\\metrics\\classification.py:1135: UndefinedMetricWarning: Precision is ill-defined and being set to 0.0 due to no predicted samples.\n",
      "  'precision', 'predicted', average, warn_for)\n"
     ]
    },
    {
     "name": "stdout",
     "output_type": "stream",
     "text": [
      "\n",
      "Subj/Visit 5, prec=0.000, rec=0.000, Spec=1.000, auroc_train=1.000, auroc=0.510\n",
      "f1_test=0.146+/-0.154, prec=0.433+/-0.325, rec=0.301+/-0.398, auprc=0.372+/-0.058, auroc=0.594+/-0.065\n",
      "Test 1024 on day 2\n",
      "Subject 1029\n",
      "Training Random Forest\n",
      "\n",
      "Subj/Visit 0, prec=0.339, rec=0.965, Spec=0.268, auroc_train=1.000, auroc=0.714\n",
      "\n",
      "Subj/Visit 1, prec=0.867, rec=0.019, Spec=0.998, auroc_train=1.000, auroc=0.710\n",
      "\n",
      "Subj/Visit 2, prec=0.850, rec=0.026, Spec=0.997, auroc_train=1.000, auroc=0.628\n",
      "\n",
      "Subj/Visit 3, prec=0.471, rec=0.845, Spec=0.538, auroc_train=1.000, auroc=0.738\n",
      "\n",
      "Subj/Visit 4, prec=0.589, rec=0.535, Spec=0.783, auroc_train=1.000, auroc=0.716\n",
      "\n",
      "Subj/Visit 5, prec=0.664, rec=0.271, Spec=0.913, auroc_train=1.000, auroc=0.733\n",
      "f1_test=0.357+/-0.231, prec=0.630+/-0.190, rec=0.444+/-0.371, auprc=0.557+/-0.043, auroc=0.706+/-0.036\n",
      "Test 1029 on day 2\n",
      "Subject 1030\n",
      "Training Random Forest\n",
      "\n",
      "Subj/Visit 0, prec=0.960, rec=0.250, Spec=0.999, auroc_train=1.000, auroc=0.913\n",
      "\n",
      "Subj/Visit 1, prec=0.875, rec=0.700, Spec=0.993, auroc_train=1.000, auroc=0.936\n",
      "\n",
      "Subj/Visit 2, prec=0.803, rec=0.596, Spec=0.990, auroc_train=1.000, auroc=0.928\n",
      "\n",
      "Subj/Visit 3, prec=0.757, rec=0.683, Spec=0.987, auroc_train=1.000, auroc=0.978\n",
      "\n",
      "Subj/Visit 4, prec=1.000, rec=0.268, Spec=1.000, auroc_train=1.000, auroc=0.924\n",
      "\n",
      "Subj/Visit 5, prec=0.803, rec=0.626, Spec=0.990, auroc_train=1.000, auroc=0.926\n",
      "f1_test=0.617+/-0.150, prec=0.866+/-0.088, rec=0.520+/-0.188, auprc=0.736+/-0.058, auroc=0.934+/-0.021\n",
      "Test 1030 on day 2\n",
      "Subject 1032\n",
      "Training Random Forest\n",
      "\n",
      "Subj/Visit 0, prec=0.370, rec=0.533, Spec=0.964, auroc_train=1.000, auroc=0.874\n",
      "\n",
      "Subj/Visit 1, prec=0.506, rec=0.616, Spec=0.976, auroc_train=1.000, auroc=0.867\n",
      "\n",
      "Subj/Visit 2, prec=0.727, rec=0.558, Spec=0.990, auroc_train=1.000, auroc=0.801\n",
      "\n",
      "Subj/Visit 3, prec=0.935, rec=0.372, Spec=0.999, auroc_train=1.000, auroc=0.826\n",
      "\n",
      "Subj/Visit 4, prec=1.000, rec=0.370, Spec=1.000, auroc_train=1.000, auroc=0.807\n",
      "\n",
      "Subj/Visit 5, prec=0.712, rec=0.547, Spec=0.990, auroc_train=1.000, auroc=0.783\n",
      "f1_test=0.552+/-0.064, prec=0.708+/-0.221, rec=0.499+/-0.095, auprc=0.537+/-0.140, auroc=0.826+/-0.034\n",
      "Test 1032 on day 2\n",
      "Subject 1038\n",
      "Training Random Forest\n",
      "\n",
      "Subj/Visit 0, prec=0.648, rec=0.786, Spec=0.536, auroc_train=1.000, auroc=0.719\n",
      "\n",
      "Subj/Visit 1, prec=0.889, rec=0.525, Spec=0.910, auroc_train=1.000, auroc=0.815\n",
      "\n",
      "Subj/Visit 2, prec=0.874, rec=0.563, Spec=0.893, auroc_train=1.000, auroc=0.806\n",
      "\n",
      "Subj/Visit 3, prec=0.704, rec=0.830, Spec=0.586, auroc_train=1.000, auroc=0.810\n",
      "\n",
      "Subj/Visit 4, prec=0.767, rec=0.830, Spec=0.693, auroc_train=1.000, auroc=0.843\n",
      "\n",
      "Subj/Visit 5, prec=0.706, rec=0.834, Spec=0.586, auroc_train=1.000, auroc=0.787\n",
      "f1_test=0.730+/-0.048, prec=0.765+/-0.090, rec=0.728+/-0.131, auprc=0.829+/-0.046, auroc=0.797+/-0.038\n",
      "Test 1038 on day 2\n",
      "Subject 1044\n",
      "Training Random Forest\n",
      "\n",
      "Subj/Visit 0, prec=0.957, rec=0.710, Spec=0.999, auroc_train=1.000, auroc=0.993\n",
      "\n",
      "Subj/Visit 1, prec=0.683, rec=0.452, Spec=0.991, auroc_train=1.000, auroc=0.971\n",
      "\n",
      "Subj/Visit 2, prec=0.953, rec=0.683, Spec=0.999, auroc_train=1.000, auroc=0.994\n",
      "\n",
      "Subj/Visit 3, prec=0.943, rec=0.550, Spec=0.999, auroc_train=1.000, auroc=0.984\n",
      "\n",
      "Subj/Visit 4, prec=0.891, rec=0.651, Spec=0.997, auroc_train=1.000, auroc=0.951\n",
      "\n",
      "Subj/Visit 5, prec=1.000, rec=0.429, Spec=1.000, auroc_train=1.000, auroc=0.982\n",
      "f1_test=0.700+/-0.100, prec=0.905+/-0.104, rec=0.579+/-0.110, auprc=0.834+/-0.086, auroc=0.979+/-0.015\n",
      "Test 1044 on day 2\n",
      "Subject 1046\n",
      "Training Random Forest\n",
      "\n",
      "Subj/Visit 0, prec=0.908, rec=0.575, Spec=0.985, auroc_train=1.000, auroc=0.952\n",
      "\n",
      "Subj/Visit 1, prec=0.938, rec=0.697, Spec=0.989, auroc_train=1.000, auroc=0.975\n",
      "\n",
      "Subj/Visit 2, prec=1.000, rec=0.466, Spec=1.000, auroc_train=1.000, auroc=0.836\n",
      "\n",
      "Subj/Visit 3, prec=0.936, rec=0.608, Spec=0.990, auroc_train=1.000, auroc=0.971\n",
      "\n",
      "Subj/Visit 4, prec=0.938, rec=0.769, Spec=0.988, auroc_train=1.000, auroc=0.981\n",
      "\n",
      "Subj/Visit 5, prec=0.850, rec=0.857, Spec=0.966, auroc_train=1.000, auroc=0.984\n",
      "f1_test=0.763+/-0.078, prec=0.928+/-0.045, rec=0.662+/-0.129, auprc=0.890+/-0.052, auroc=0.950+/-0.052\n",
      "Test 1046 on day 2\n",
      "Subject 1047\n",
      "Training Random Forest\n",
      "\n",
      "Subj/Visit 0, prec=0.235, rec=0.667, Spec=0.989, auroc_train=1.000, auroc=0.991\n",
      "only 1 class available in train data - skipping\n",
      "only 1 class available in train data - skipping\n",
      "\n",
      "Subj/Visit 1, prec=0.000, rec=0.000, Spec=0.990, auroc_train=1.000, auroc=0.972\n",
      "only 1 class available in train data - skipping\n",
      "only 1 class available in train data - skipping\n",
      "f1_test=0.174+/-0.174, prec=0.118+/-0.118, rec=0.333+/-0.333, auprc=0.252+/-0.177, auroc=0.981+/-0.009\n",
      "Subject 1049\n",
      "Training Random Forest\n",
      "\n",
      "Subj/Visit 0, prec=0.664, rec=0.692, Spec=0.784, auroc_train=1.000, auroc=0.808\n",
      "\n",
      "Subj/Visit 1, prec=0.749, rec=0.654, Spec=0.843, auroc_train=1.000, auroc=0.824\n",
      "\n",
      "Subj/Visit 2, prec=0.820, rec=0.597, Spec=0.905, auroc_train=1.000, auroc=0.841\n",
      "\n",
      "Subj/Visit 3, prec=0.750, rec=0.582, Spec=0.850, auroc_train=1.000, auroc=0.826\n",
      "\n",
      "Subj/Visit 4, prec=0.828, rec=0.607, Spec=0.900, auroc_train=1.000, auroc=0.856\n",
      "\n",
      "Subj/Visit 5, prec=0.744, rec=0.746, Spec=0.818, auroc_train=1.000, auroc=0.855\n",
      "f1_test=0.695+/-0.027, prec=0.759+/-0.055, rec=0.647+/-0.058, auprc=0.787+/-0.039, auroc=0.835+/-0.017\n",
      "Test 1049 on day 2\n",
      "Subject 1051\n",
      "Training Random Forest\n",
      "only 1 class available in train data - skipping\n",
      "only 1 class available in train data - skipping\n",
      "only 1 class available in train data - skipping\n",
      "only 1 class available in train data - skipping\n",
      "only 1 class available in train data - skipping\n",
      "only 1 class available in train data - skipping\n",
      "f1_test=nan+/-nan, prec=nan+/-nan, rec=nan+/-nan, auprc=nan+/-nan, auroc=nan+/-nan\n",
      "only 1 class available in data - skipping\n",
      "Subject 1052\n",
      "Training Random Forest\n"
     ]
    },
    {
     "name": "stderr",
     "output_type": "stream",
     "text": [
      "C:\\Users\\andre\\Anaconda3\\lib\\site-packages\\ipykernel_launcher.py:90: RuntimeWarning: Mean of empty slice\n",
      "C:\\Users\\andre\\Anaconda3\\lib\\site-packages\\numpy\\lib\\nanfunctions.py:1434: RuntimeWarning: Degrees of freedom <= 0 for slice.\n",
      "  keepdims=keepdims)\n",
      "C:\\Users\\andre\\Anaconda3\\lib\\site-packages\\ipykernel_launcher.py:91: RuntimeWarning: Mean of empty slice\n",
      "C:\\Users\\andre\\Anaconda3\\lib\\site-packages\\ipykernel_launcher.py:92: RuntimeWarning: Mean of empty slice\n",
      "C:\\Users\\andre\\Anaconda3\\lib\\site-packages\\ipykernel_launcher.py:99: RuntimeWarning: Mean of empty slice\n"
     ]
    },
    {
     "name": "stdout",
     "output_type": "stream",
     "text": [
      "\n",
      "Subj/Visit 0, prec=0.056, rec=0.667, Spec=0.761, auroc_train=1.000, auroc=0.772\n",
      "only 1 class available in train data - skipping\n",
      "only 1 class available in train data - skipping\n",
      "\n",
      "Subj/Visit 1, prec=1.000, rec=0.032, Spec=1.000, auroc_train=1.000, auroc=0.658\n",
      "only 1 class available in train data - skipping\n",
      "only 1 class available in train data - skipping\n",
      "f1_test=0.082+/-0.021, prec=0.528+/-0.472, rec=0.349+/-0.317, auprc=0.157+/-0.001, auroc=0.715+/-0.057\n",
      "Subject 1053\n",
      "Training Random Forest\n",
      "only 1 class available in train data - skipping\n",
      "only 1 class available in train data - skipping\n",
      "only 1 class available in train data - skipping\n",
      "only 1 class available in train data - skipping\n",
      "only 1 class available in train data - skipping\n",
      "only 1 class available in train data - skipping\n",
      "f1_test=nan+/-nan, prec=nan+/-nan, rec=nan+/-nan, auprc=nan+/-nan, auroc=nan+/-nan\n",
      "only 1 class available in data - skipping\n",
      "Subject 1054\n",
      "Training Random Forest\n",
      "only 1 class in test data - cannot compute roc curve\n",
      "\n",
      "Subj/Visit 0, prec=0.000, rec=0.000, Spec=0.920, auroc_train=1.000, auroc=nan\n",
      "only 1 class available in train data - skipping\n",
      "only 1 class available in train data - skipping\n",
      "only 1 class available in train data - skipping\n",
      "only 1 class available in train data - skipping\n",
      "only 1 class available in train data - skipping\n",
      "f1_test=0.000+/-0.000, prec=0.000+/-0.000, rec=0.000+/-0.000, auprc=nan+/-nan, auroc=nan+/-nan\n",
      "Subject 1055\n",
      "Training Random Forest\n"
     ]
    },
    {
     "name": "stderr",
     "output_type": "stream",
     "text": [
      "C:\\Users\\andre\\Anaconda3\\lib\\site-packages\\ipykernel_launcher.py:90: RuntimeWarning: Mean of empty slice\n",
      "C:\\Users\\andre\\Anaconda3\\lib\\site-packages\\numpy\\lib\\nanfunctions.py:1434: RuntimeWarning: Degrees of freedom <= 0 for slice.\n",
      "  keepdims=keepdims)\n",
      "C:\\Users\\andre\\Anaconda3\\lib\\site-packages\\ipykernel_launcher.py:91: RuntimeWarning: Mean of empty slice\n",
      "C:\\Users\\andre\\Anaconda3\\lib\\site-packages\\ipykernel_launcher.py:92: RuntimeWarning: Mean of empty slice\n",
      "C:\\Users\\andre\\Anaconda3\\lib\\site-packages\\ipykernel_launcher.py:99: RuntimeWarning: Mean of empty slice\n",
      "C:\\Users\\andre\\Anaconda3\\lib\\site-packages\\sklearn\\metrics\\classification.py:1137: UndefinedMetricWarning: F-score is ill-defined and being set to 0.0 due to no true samples.\n",
      "  'recall', 'true', average, warn_for)\n",
      "C:\\Users\\andre\\Anaconda3\\lib\\site-packages\\sklearn\\metrics\\ranking.py:444: RuntimeWarning: invalid value encountered in true_divide\n",
      "  recall = tps / tps[-1]\n",
      "C:\\Users\\andre\\Anaconda3\\lib\\site-packages\\sklearn\\metrics\\ranking.py:94: RuntimeWarning: invalid value encountered in less\n",
      "  if np.any(dx < 0):\n",
      "C:\\Users\\andre\\Anaconda3\\lib\\site-packages\\sklearn\\metrics\\classification.py:1137: UndefinedMetricWarning: Recall is ill-defined and being set to 0.0 due to no true samples.\n",
      "  'recall', 'true', average, warn_for)\n",
      "C:\\Users\\andre\\Anaconda3\\lib\\site-packages\\ipykernel_launcher.py:92: RuntimeWarning: Mean of empty slice\n",
      "C:\\Users\\andre\\Anaconda3\\lib\\site-packages\\numpy\\lib\\nanfunctions.py:1434: RuntimeWarning: Degrees of freedom <= 0 for slice.\n",
      "  keepdims=keepdims)\n",
      "C:\\Users\\andre\\Anaconda3\\lib\\site-packages\\ipykernel_launcher.py:99: RuntimeWarning: Mean of empty slice\n"
     ]
    },
    {
     "name": "stdout",
     "output_type": "stream",
     "text": [
      "\n",
      "Subj/Visit 0, prec=0.787, rec=0.995, Spec=0.007, auroc_train=1.000, auroc=0.574\n",
      "\n",
      "Subj/Visit 1, prec=0.853, rec=0.649, Spec=0.333, auroc_train=1.000, auroc=0.559\n",
      "\n",
      "Subj/Visit 2, prec=0.872, rec=0.821, Spec=0.335, auroc_train=1.000, auroc=0.647\n",
      "\n",
      "Subj/Visit 3, prec=0.821, rec=0.956, Spec=0.185, auroc_train=1.000, auroc=0.600\n",
      "\n",
      "Subj/Visit 4, prec=0.848, rec=0.824, Spec=0.346, auroc_train=1.000, auroc=0.637\n",
      "\n",
      "Subj/Visit 5, prec=0.779, rec=1.000, Spec=0.000, auroc_train=1.000, auroc=0.506\n",
      "f1_test=0.843+/-0.050, prec=0.827+/-0.034, rec=0.874+/-0.125, auprc=0.885+/-0.012, auroc=0.587+/-0.048\n",
      "Subject 1056\n",
      "Training Random Forest\n",
      "\n",
      "Subj/Visit 0, prec=0.720, rec=0.956, Spec=0.068, auroc_train=1.000, auroc=0.519\n",
      "\n",
      "Subj/Visit 1, prec=0.889, rec=0.386, Spec=0.781, auroc_train=1.000, auroc=0.620\n",
      "\n",
      "Subj/Visit 2, prec=0.914, rec=0.161, Spec=0.923, auroc_train=1.000, auroc=0.578\n",
      "\n",
      "Subj/Visit 3, prec=0.714, rec=0.986, Spec=0.048, auroc_train=1.000, auroc=0.592\n",
      "only 1 class available in train data - skipping\n",
      "\n",
      "Subj/Visit 4, prec=0.719, rec=0.993, Spec=0.004, auroc_train=1.000, auroc=0.554\n",
      "f1_test=0.659+/-0.223, prec=0.791+/-0.090, rec=0.696+/-0.353, auprc=0.823+/-0.047, auroc=0.573+/-0.034\n"
     ]
    }
   ],
   "source": [
    "# symptom = 'Bradykinesia'\n",
    "symptom = 'Tremor'\n",
    "le = LabelEncoder()\n",
    "res_all = pd.DataFrame(data=None,index=None)\n",
    "res_visit_all = [] #data from each subject \n",
    "auroc2_1 = []\n",
    "\n",
    "#remove nan rows for current symptom\n",
    "Data = Dataorig.copy() #original unmodified dataframe\n",
    "Data=Data[~Data[symptom].isnull()]\n",
    "Data=Data.reset_index(drop=True) #reset index\n",
    "\n",
    "#train on 1 or all sessions, predict on left out session for each patient (Day 1) and on single Day 2 session\n",
    "for s in Data.Subject.unique():\n",
    "    print('Subject %s'%s)\n",
    "    ds = Data.loc[(Data.Subject==s) & (Data.Visit != '4 Weeks')]\n",
    "    ds2 = Data.loc[(Data.Subject==s) & (Data.Visit == '4 Weeks')] #(Day 2)\n",
    "\n",
    "    #train/test on Day 1\n",
    "    indp = (ds[symptom]>0).values\n",
    "    y = indp.astype(int) #target \n",
    "    X = ds.iloc[:,7:].as_matrix()\n",
    "#     X = StandardScaler().fit_transform(X) #standardize input data\n",
    "    \n",
    "    models = [RandomForestClassifier(n_estimators=50,random_state=2)]#,XGBClassifier()]\n",
    "    model_name = ['Random Forest']#,'XGB']\n",
    "    models = list(zip(models,model_name))\n",
    "    groups = le.fit_transform(ds.Visit)\n",
    "    if len(np.unique(groups))<2:\n",
    "        continue\n",
    "        \n",
    "    #train/test on day 1 (LOin)\n",
    "    res,res_group = LOSOCV(ds,X,y,groups,models,LOin=1)\n",
    "    res.index = res.index+s\n",
    "    res_all=pd.concat((res_all,res))\n",
    "    res_visit_all.append(res_group)\n",
    "    day1_1 = res_all.auroc #mean auc per subject across \n",
    "    \n",
    "    if len(np.unique(y))<2: #skip if no positive or negative examples are available for training\n",
    "        print('only 1 class available in data - skipping')\n",
    "        continue\n",
    "        \n",
    "    #test on day 2    \n",
    "    if ds2.empty is False:\n",
    "        print('Test %s on day 2' %s)\n",
    "        clf = models[0][0]\n",
    "        X2 = ds2.iloc[:,7:].as_matrix()\n",
    "        yte = (ds2[symptom]>0).values.astype(int) \n",
    "        yscore = clf.predict_proba(X2)\n",
    "        yscore = yscore[:,1]\n",
    "        if len(np.unique(yte))>1:\n",
    "            auroc = roc_auc_score(yte,yscore)\n",
    "        else:\n",
    "            print('only 1 class in test data - cannot compute roc curve')\n",
    "            auroc = np.nan\n",
    "        auroc2_1.append(auroc) #auc from each subject when tested on day 2\n",
    "        \n",
    "day1_1 = day1_1[~np.isnan(day1_1)]\n",
    "auroc2_1 = [x for x in auroc2_1 if str(x) != 'nan']\n",
    "\n",
    "# np.save(os.path.join(results_path,'PERS_brady_train1lovo.npy'),[day1_1.values, auroc2_1])\n",
    "np.save(os.path.join(results_path,'PERS_tremor_train1lovo.npy'),[day1_1.values, auroc2_1])"
   ]
  },
  {
   "cell_type": "markdown",
   "metadata": {},
   "source": [
    "Train on 5 sessions"
   ]
  },
  {
   "cell_type": "code",
   "execution_count": 14,
   "metadata": {
    "scrolled": true
   },
   "outputs": [
    {
     "name": "stdout",
     "output_type": "stream",
     "text": [
      "Subject 1004\n",
      "Training Random Forest\n"
     ]
    },
    {
     "name": "stderr",
     "output_type": "stream",
     "text": [
      "C:\\Users\\andre\\Anaconda3\\lib\\site-packages\\sklearn\\metrics\\classification.py:1135: UndefinedMetricWarning: F-score is ill-defined and being set to 0.0 due to no predicted samples.\n",
      "  'precision', 'predicted', average, warn_for)\n",
      "C:\\Users\\andre\\Anaconda3\\lib\\site-packages\\sklearn\\metrics\\classification.py:1135: UndefinedMetricWarning: Precision is ill-defined and being set to 0.0 due to no predicted samples.\n",
      "  'precision', 'predicted', average, warn_for)\n"
     ]
    },
    {
     "name": "stdout",
     "output_type": "stream",
     "text": [
      "\n",
      "Subj/Visit 0, prec=0.000, rec=0.000, Spec=1.000, auroc_train=1.000, auroc=0.563\n"
     ]
    },
    {
     "name": "stderr",
     "output_type": "stream",
     "text": [
      "C:\\Users\\andre\\Anaconda3\\lib\\site-packages\\sklearn\\metrics\\classification.py:1137: UndefinedMetricWarning: F-score is ill-defined and being set to 0.0 due to no true samples.\n",
      "  'recall', 'true', average, warn_for)\n",
      "C:\\Users\\andre\\Anaconda3\\lib\\site-packages\\sklearn\\metrics\\ranking.py:444: RuntimeWarning: invalid value encountered in true_divide\n",
      "  recall = tps / tps[-1]\n",
      "C:\\Users\\andre\\Anaconda3\\lib\\site-packages\\sklearn\\metrics\\ranking.py:94: RuntimeWarning: invalid value encountered in less\n",
      "  if np.any(dx < 0):\n",
      "C:\\Users\\andre\\Anaconda3\\lib\\site-packages\\sklearn\\metrics\\classification.py:1137: UndefinedMetricWarning: Recall is ill-defined and being set to 0.0 due to no true samples.\n",
      "  'recall', 'true', average, warn_for)\n"
     ]
    },
    {
     "name": "stdout",
     "output_type": "stream",
     "text": [
      "only 1 class in test data - cannot compute roc curve\n",
      "\n",
      "Subj/Visit 1, prec=0.000, rec=0.000, Spec=0.996, auroc_train=1.000, auroc=nan\n"
     ]
    },
    {
     "name": "stderr",
     "output_type": "stream",
     "text": [
      "C:\\Users\\andre\\Anaconda3\\lib\\site-packages\\sklearn\\metrics\\ranking.py:444: RuntimeWarning: invalid value encountered in true_divide\n",
      "  recall = tps / tps[-1]\n",
      "C:\\Users\\andre\\Anaconda3\\lib\\site-packages\\sklearn\\metrics\\ranking.py:94: RuntimeWarning: invalid value encountered in less\n",
      "  if np.any(dx < 0):\n"
     ]
    },
    {
     "name": "stdout",
     "output_type": "stream",
     "text": [
      "only 1 class in test data - cannot compute roc curve\n",
      "\n",
      "Subj/Visit 2, prec=0.000, rec=0.000, Spec=1.000, auroc_train=1.000, auroc=nan\n",
      "\n",
      "Subj/Visit 3, prec=0.750, rec=0.923, Spec=0.985, auroc_train=1.000, auroc=0.998\n"
     ]
    },
    {
     "name": "stderr",
     "output_type": "stream",
     "text": [
      "C:\\Users\\andre\\Anaconda3\\lib\\site-packages\\sklearn\\metrics\\classification.py:1137: UndefinedMetricWarning: F-score is ill-defined and being set to 0.0 due to no true samples.\n",
      "  'recall', 'true', average, warn_for)\n",
      "C:\\Users\\andre\\Anaconda3\\lib\\site-packages\\sklearn\\metrics\\ranking.py:444: RuntimeWarning: invalid value encountered in true_divide\n",
      "  recall = tps / tps[-1]\n",
      "C:\\Users\\andre\\Anaconda3\\lib\\site-packages\\sklearn\\metrics\\ranking.py:94: RuntimeWarning: invalid value encountered in less\n",
      "  if np.any(dx < 0):\n",
      "C:\\Users\\andre\\Anaconda3\\lib\\site-packages\\sklearn\\metrics\\classification.py:1137: UndefinedMetricWarning: Recall is ill-defined and being set to 0.0 due to no true samples.\n",
      "  'recall', 'true', average, warn_for)\n"
     ]
    },
    {
     "name": "stdout",
     "output_type": "stream",
     "text": [
      "only 1 class in test data - cannot compute roc curve\n",
      "\n",
      "Subj/Visit 4, prec=0.000, rec=0.000, Spec=0.996, auroc_train=1.000, auroc=nan\n"
     ]
    },
    {
     "name": "stderr",
     "output_type": "stream",
     "text": [
      "C:\\Users\\andre\\Anaconda3\\lib\\site-packages\\sklearn\\metrics\\ranking.py:444: RuntimeWarning: invalid value encountered in true_divide\n",
      "  recall = tps / tps[-1]\n",
      "C:\\Users\\andre\\Anaconda3\\lib\\site-packages\\sklearn\\metrics\\ranking.py:94: RuntimeWarning: invalid value encountered in less\n",
      "  if np.any(dx < 0):\n"
     ]
    },
    {
     "name": "stdout",
     "output_type": "stream",
     "text": [
      "only 1 class in test data - cannot compute roc curve\n",
      "\n",
      "Subj/Visit 5, prec=0.000, rec=0.000, Spec=1.000, auroc_train=1.000, auroc=nan\n",
      "f1_test=0.138+/-0.308, prec=0.125+/-0.280, rec=0.154+/-0.344, auprc=0.813+/-0.160, auroc=0.781+/-0.217\n",
      "Test 1004 on day 2\n",
      "Subject 1016\n",
      "Training Random Forest\n",
      "\n",
      "Subj/Visit 0, prec=0.827, rec=0.872, Spec=0.832, auroc_train=1.000, auroc=0.893\n",
      "\n",
      "Subj/Visit 1, prec=0.849, rec=0.919, Spec=0.807, auroc_train=1.000, auroc=0.947\n",
      "\n",
      "Subj/Visit 2, prec=0.839, rec=0.896, Spec=0.801, auroc_train=1.000, auroc=0.945\n",
      "\n",
      "Subj/Visit 3, prec=0.908, rec=0.946, Spec=0.900, auroc_train=1.000, auroc=0.968\n",
      "\n",
      "Subj/Visit 4, prec=0.922, rec=0.939, Spec=0.904, auroc_train=1.000, auroc=0.977\n",
      "\n",
      "Subj/Visit 5, prec=0.885, rec=0.932, Spec=0.836, auroc_train=1.000, auroc=0.955\n",
      "f1_test=0.894+/-0.030, prec=0.872+/-0.035, rec=0.917+/-0.026, auprc=0.938+/-0.050, auroc=0.948+/-0.027\n",
      "Test 1016 on day 2\n",
      "only 1 class in test data - cannot compute roc curve\n",
      "Subject 1018\n",
      "Training Random Forest\n",
      "\n",
      "Subj/Visit 0, prec=1.000, rec=0.143, Spec=1.000, auroc_train=1.000, auroc=0.799\n",
      "\n",
      "Subj/Visit 1, prec=1.000, rec=0.875, Spec=1.000, auroc_train=1.000, auroc=0.999\n",
      "\n",
      "Subj/Visit 2, prec=1.000, rec=1.000, Spec=1.000, auroc_train=1.000, auroc=1.000\n",
      "\n",
      "Subj/Visit 3, prec=1.000, rec=0.351, Spec=1.000, auroc_train=1.000, auroc=0.892\n",
      "\n",
      "Subj/Visit 4, prec=1.000, rec=0.279, Spec=1.000, auroc_train=1.000, auroc=0.800\n",
      "\n",
      "Subj/Visit 5, prec=1.000, rec=0.917, Spec=1.000, auroc_train=1.000, auroc=0.999\n",
      "f1_test=0.683+/-0.292, prec=1.000+/-0.000, rec=0.594+/-0.344, auprc=0.788+/-0.200, auroc=0.915+/-0.090\n",
      "Test 1018 on day 2\n",
      "Subject 1019\n",
      "Training Random Forest\n",
      "\n",
      "Subj/Visit 0, prec=1.000, rec=0.023, Spec=1.000, auroc_train=1.000, auroc=0.549\n",
      "\n",
      "Subj/Visit 1, prec=1.000, rec=1.000, Spec=1.000, auroc_train=1.000, auroc=1.000\n",
      "\n",
      "Subj/Visit 2, prec=1.000, rec=0.667, Spec=1.000, auroc_train=1.000, auroc=0.999\n",
      "\n",
      "Subj/Visit 3, prec=0.000, rec=0.000, Spec=0.983, auroc_train=1.000, auroc=0.809\n",
      "\n",
      "Subj/Visit 4, prec=0.833, rec=0.833, Spec=0.996, auroc_train=1.000, auroc=0.998\n",
      "\n",
      "Subj/Visit 5, prec=1.000, rec=0.167, Spec=1.000, auroc_train=1.000, auroc=0.997\n",
      "f1_test=0.494+/-0.399, prec=0.806+/-0.365, rec=0.448+/-0.400, auprc=0.681+/-0.360, auroc=0.892+/-0.168\n",
      "Test 1019 on day 2\n",
      "Subject 1024\n",
      "Training Random Forest\n",
      "\n",
      "Subj/Visit 0, prec=0.893, rec=0.094, Spec=0.982, auroc_train=1.000, auroc=0.816\n",
      "\n",
      "Subj/Visit 1, prec=0.273, rec=0.281, Spec=0.905, auroc_train=1.000, auroc=0.800\n",
      "\n",
      "Subj/Visit 2, prec=0.086, rec=0.833, Spec=0.805, auroc_train=1.000, auroc=0.878\n",
      "\n",
      "Subj/Visit 3, prec=0.898, rec=0.263, Spec=0.966, auroc_train=1.000, auroc=0.742\n",
      "\n",
      "Subj/Visit 4, prec=0.417, rec=0.303, Spec=0.942, auroc_train=1.000, auroc=0.816\n",
      "\n",
      "Subj/Visit 5, prec=0.091, rec=0.667, Spec=0.859, auroc_train=1.000, auroc=0.818\n",
      "f1_test=0.254+/-0.099, prec=0.443+/-0.339, rec=0.407+/-0.256, auprc=0.425+/-0.307, auroc=0.812+/-0.040\n",
      "Test 1024 on day 2\n",
      "Subject 1029\n",
      "Training Random Forest\n",
      "\n",
      "Subj/Visit 0, prec=1.000, rec=0.214, Spec=1.000, auroc_train=1.000, auroc=0.874\n",
      "\n",
      "Subj/Visit 1, prec=0.330, rec=0.818, Spec=0.725, auroc_train=1.000, auroc=0.823\n",
      "\n",
      "Subj/Visit 2, prec=0.166, rec=0.511, Spec=0.602, auroc_train=1.000, auroc=0.665\n",
      "\n",
      "Subj/Visit 3, prec=0.944, rec=0.386, Spec=0.973, auroc_train=1.000, auroc=0.866\n",
      "\n",
      "Subj/Visit 4, prec=0.789, rec=0.645, Spec=0.910, auroc_train=1.000, auroc=0.905\n",
      "\n",
      "Subj/Visit 5, prec=0.509, rec=0.756, Spec=0.764, auroc_train=1.000, auroc=0.869\n",
      "f1_test=0.490+/-0.154, prec=0.623+/-0.311, rec=0.555+/-0.210, auprc=0.647+/-0.287, auroc=0.834+/-0.079\n",
      "Test 1029 on day 2\n",
      "Subject 1030\n",
      "Training Random Forest\n",
      "\n",
      "Subj/Visit 0, prec=0.706, rec=0.923, Spec=0.982, auroc_train=1.000, auroc=0.998\n",
      "\n",
      "Subj/Visit 1, prec=1.000, rec=0.632, Spec=1.000, auroc_train=1.000, auroc=0.999\n",
      "\n",
      "Subj/Visit 2, prec=1.000, rec=1.000, Spec=1.000, auroc_train=1.000, auroc=1.000\n",
      "\n",
      "Subj/Visit 3, prec=1.000, rec=0.481, Spec=1.000, auroc_train=1.000, auroc=0.806\n",
      "\n",
      "Subj/Visit 4, prec=0.706, rec=1.000, Spec=0.981, auroc_train=1.000, auroc=0.995\n",
      "\n",
      "Subj/Visit 5, prec=1.000, rec=0.889, Spec=1.000, auroc_train=1.000, auroc=1.000\n",
      "f1_test=0.832+/-0.114, prec=0.902+/-0.139, rec=0.821+/-0.196, auprc=0.927+/-0.107, auroc=0.966+/-0.072\n",
      "Test 1030 on day 2\n",
      "Subject 1032\n",
      "Training Random Forest\n",
      "\n",
      "Subj/Visit 0, prec=0.615, rec=0.348, Spec=0.987, auroc_train=1.000, auroc=0.890\n",
      "\n",
      "Subj/Visit 1, prec=1.000, rec=0.360, Spec=1.000, auroc_train=1.000, auroc=0.982\n",
      "\n",
      "Subj/Visit 2, prec=1.000, rec=1.000, Spec=1.000, auroc_train=1.000, auroc=1.000\n",
      "\n",
      "Subj/Visit 3, prec=0.600, rec=0.300, Spec=0.989, auroc_train=1.000, auroc=0.597\n",
      "\n",
      "Subj/Visit 4, prec=0.600, rec=1.000, Spec=0.989, auroc_train=1.000, auroc=1.000\n",
      "\n",
      "Subj/Visit 5, prec=1.000, rec=1.000, Spec=1.000, auroc_train=1.000, auroc=1.000\n",
      "f1_test=0.687+/-0.247, prec=0.803+/-0.198, rec=0.668+/-0.333, auprc=0.761+/-0.292, auroc=0.912+/-0.146\n",
      "Test 1032 on day 2\n",
      "Subject 1038\n",
      "Training Random Forest\n",
      "\n",
      "Subj/Visit 0, prec=0.894, rec=0.750, Spec=0.798, auroc_train=1.000, auroc=0.894\n",
      "\n",
      "Subj/Visit 1, prec=0.631, rec=0.925, Spec=0.617, auroc_train=1.000, auroc=0.901\n",
      "\n",
      "Subj/Visit 2, prec=0.675, rec=0.885, Spec=0.640, auroc_train=1.000, auroc=0.870\n",
      "\n",
      "Subj/Visit 3, prec=0.896, rec=0.790, Spec=0.865, auroc_train=1.000, auroc=0.876\n",
      "\n",
      "Subj/Visit 4, prec=0.881, rec=0.818, Spec=0.859, auroc_train=1.000, auroc=0.926\n",
      "\n",
      "Subj/Visit 5, prec=0.840, rec=0.688, Spec=0.817, auroc_train=1.000, auroc=0.820\n",
      "f1_test=0.796+/-0.040, prec=0.803+/-0.108, rec=0.809+/-0.079, auprc=0.902+/-0.034, auroc=0.881+/-0.033\n",
      "Test 1038 on day 2\n",
      "Subject 1044\n",
      "Training Random Forest\n",
      "\n",
      "Subj/Visit 0, prec=1.000, rec=0.750, Spec=1.000, auroc_train=1.000, auroc=1.000\n",
      "\n",
      "Subj/Visit 1, prec=1.000, rec=1.000, Spec=1.000, auroc_train=1.000, auroc=1.000\n",
      "\n",
      "Subj/Visit 2, prec=1.000, rec=1.000, Spec=1.000, auroc_train=1.000, auroc=1.000\n",
      "\n",
      "Subj/Visit 3, prec=1.000, rec=0.571, Spec=1.000, auroc_train=1.000, auroc=0.979\n",
      "\n",
      "Subj/Visit 4, prec=1.000, rec=1.000, Spec=1.000, auroc_train=1.000, auroc=1.000\n",
      "\n",
      "Subj/Visit 5, prec=1.000, rec=0.909, Spec=1.000, auroc_train=1.000, auroc=1.000\n",
      "f1_test=0.923+/-0.101, prec=1.000+/-0.000, rec=0.872+/-0.161, auprc=0.965+/-0.078, auroc=0.997+/-0.008\n",
      "Test 1044 on day 2\n",
      "Subject 1046\n",
      "Training Random Forest\n",
      "\n",
      "Subj/Visit 0, prec=0.914, rec=0.727, Spec=0.988, auroc_train=1.000, auroc=0.975\n",
      "\n",
      "Subj/Visit 1, prec=1.000, rec=0.893, Spec=1.000, auroc_train=1.000, auroc=0.996\n",
      "\n",
      "Subj/Visit 2, prec=0.750, rec=0.947, Spec=0.944, auroc_train=1.000, auroc=0.979\n",
      "\n",
      "Subj/Visit 3, prec=1.000, rec=0.962, Spec=1.000, auroc_train=1.000, auroc=1.000\n",
      "\n",
      "Subj/Visit 4, prec=1.000, rec=0.871, Spec=1.000, auroc_train=1.000, auroc=0.998\n",
      "\n",
      "Subj/Visit 5, prec=1.000, rec=0.769, Spec=1.000, auroc_train=1.000, auroc=0.990\n",
      "f1_test=0.895+/-0.061, prec=0.944+/-0.092, rec=0.862+/-0.087, auprc=0.961+/-0.046, auroc=0.990+/-0.010\n",
      "Test 1046 on day 2\n",
      "Subject 1047\n",
      "Training Random Forest\n"
     ]
    },
    {
     "name": "stderr",
     "output_type": "stream",
     "text": [
      "C:\\Users\\andre\\Anaconda3\\lib\\site-packages\\sklearn\\metrics\\classification.py:1135: UndefinedMetricWarning: F-score is ill-defined and being set to 0.0 due to no predicted samples.\n",
      "  'precision', 'predicted', average, warn_for)\n",
      "C:\\Users\\andre\\Anaconda3\\lib\\site-packages\\sklearn\\metrics\\classification.py:1135: UndefinedMetricWarning: Precision is ill-defined and being set to 0.0 due to no predicted samples.\n",
      "  'precision', 'predicted', average, warn_for)\n"
     ]
    },
    {
     "name": "stdout",
     "output_type": "stream",
     "text": [
      "\n",
      "Subj/Visit 0, prec=0.000, rec=0.000, Spec=1.000, auroc_train=1.000, auroc=0.994\n",
      "only 1 class in test data - cannot compute roc curve\n",
      "\n",
      "Subj/Visit 1, prec=0.000, rec=0.000, Spec=1.000, auroc_train=1.000, auroc=nan\n"
     ]
    },
    {
     "name": "stderr",
     "output_type": "stream",
     "text": [
      "C:\\Users\\andre\\Anaconda3\\lib\\site-packages\\sklearn\\metrics\\ranking.py:444: RuntimeWarning: invalid value encountered in true_divide\n",
      "  recall = tps / tps[-1]\n",
      "C:\\Users\\andre\\Anaconda3\\lib\\site-packages\\sklearn\\metrics\\ranking.py:94: RuntimeWarning: invalid value encountered in less\n",
      "  if np.any(dx < 0):\n",
      "C:\\Users\\andre\\Anaconda3\\lib\\site-packages\\sklearn\\metrics\\ranking.py:444: RuntimeWarning: invalid value encountered in true_divide\n",
      "  recall = tps / tps[-1]\n",
      "C:\\Users\\andre\\Anaconda3\\lib\\site-packages\\sklearn\\metrics\\ranking.py:94: RuntimeWarning: invalid value encountered in less\n",
      "  if np.any(dx < 0):\n"
     ]
    },
    {
     "name": "stdout",
     "output_type": "stream",
     "text": [
      "only 1 class in test data - cannot compute roc curve\n",
      "\n",
      "Subj/Visit 2, prec=0.000, rec=0.000, Spec=1.000, auroc_train=1.000, auroc=nan\n",
      "\n",
      "Subj/Visit 3, prec=0.000, rec=0.000, Spec=1.000, auroc_train=1.000, auroc=0.989\n"
     ]
    },
    {
     "name": "stderr",
     "output_type": "stream",
     "text": [
      "C:\\Users\\andre\\Anaconda3\\lib\\site-packages\\sklearn\\metrics\\classification.py:1135: UndefinedMetricWarning: F-score is ill-defined and being set to 0.0 due to no predicted samples.\n",
      "  'precision', 'predicted', average, warn_for)\n",
      "C:\\Users\\andre\\Anaconda3\\lib\\site-packages\\sklearn\\metrics\\classification.py:1135: UndefinedMetricWarning: Precision is ill-defined and being set to 0.0 due to no predicted samples.\n",
      "  'precision', 'predicted', average, warn_for)\n",
      "C:\\Users\\andre\\Anaconda3\\lib\\site-packages\\sklearn\\metrics\\ranking.py:444: RuntimeWarning: invalid value encountered in true_divide\n",
      "  recall = tps / tps[-1]\n",
      "C:\\Users\\andre\\Anaconda3\\lib\\site-packages\\sklearn\\metrics\\ranking.py:94: RuntimeWarning: invalid value encountered in less\n",
      "  if np.any(dx < 0):\n"
     ]
    },
    {
     "name": "stdout",
     "output_type": "stream",
     "text": [
      "only 1 class in test data - cannot compute roc curve\n",
      "\n",
      "Subj/Visit 4, prec=0.000, rec=0.000, Spec=1.000, auroc_train=1.000, auroc=nan\n",
      "only 1 class in test data - cannot compute roc curve\n",
      "\n",
      "Subj/Visit 5, prec=0.000, rec=0.000, Spec=1.000, auroc_train=1.000, auroc=nan\n",
      "f1_test=0.000+/-0.000, prec=0.000+/-0.000, rec=0.000+/-0.000, auprc=0.788+/-0.043, auroc=0.991+/-0.002\n",
      "Subject 1049\n",
      "Training Random Forest\n"
     ]
    },
    {
     "name": "stderr",
     "output_type": "stream",
     "text": [
      "C:\\Users\\andre\\Anaconda3\\lib\\site-packages\\sklearn\\metrics\\ranking.py:444: RuntimeWarning: invalid value encountered in true_divide\n",
      "  recall = tps / tps[-1]\n",
      "C:\\Users\\andre\\Anaconda3\\lib\\site-packages\\sklearn\\metrics\\ranking.py:94: RuntimeWarning: invalid value encountered in less\n",
      "  if np.any(dx < 0):\n"
     ]
    },
    {
     "name": "stdout",
     "output_type": "stream",
     "text": [
      "\n",
      "Subj/Visit 0, prec=0.886, rec=0.732, Spec=0.864, auroc_train=1.000, auroc=0.878\n",
      "\n",
      "Subj/Visit 1, prec=0.837, rec=0.769, Spec=0.886, auroc_train=1.000, auroc=0.898\n",
      "\n",
      "Subj/Visit 2, prec=0.812, rec=0.800, Spec=0.867, auroc_train=1.000, auroc=0.926\n",
      "\n",
      "Subj/Visit 3, prec=0.846, rec=0.393, Spec=0.965, auroc_train=1.000, auroc=0.864\n",
      "\n",
      "Subj/Visit 4, prec=0.806, rec=0.806, Spec=0.917, auroc_train=1.000, auroc=0.948\n",
      "\n",
      "Subj/Visit 5, prec=0.800, rec=0.667, Spec=0.871, auroc_train=1.000, auroc=0.860\n",
      "f1_test=0.747+/-0.098, prec=0.831+/-0.030, rec=0.694+/-0.143, auprc=0.868+/-0.053, auroc=0.896+/-0.032\n",
      "Test 1049 on day 2\n",
      "Subject 1051\n",
      "Training Random Forest\n",
      "only 1 class available in train data - skipping\n",
      "only 1 class available in train data - skipping\n",
      "only 1 class available in train data - skipping\n",
      "only 1 class available in train data - skipping\n",
      "only 1 class available in train data - skipping\n",
      "only 1 class available in train data - skipping\n",
      "f1_test=nan+/-nan, prec=nan+/-nan, rec=nan+/-nan, auprc=nan+/-nan, auroc=nan+/-nan\n",
      "only 1 class available in data - skipping\n",
      "Subject 1052\n",
      "Training Random Forest\n"
     ]
    },
    {
     "name": "stderr",
     "output_type": "stream",
     "text": [
      "C:\\Users\\andre\\Anaconda3\\lib\\site-packages\\ipykernel_launcher.py:90: RuntimeWarning: Mean of empty slice\n",
      "C:\\Users\\andre\\Anaconda3\\lib\\site-packages\\numpy\\lib\\nanfunctions.py:1434: RuntimeWarning: Degrees of freedom <= 0 for slice.\n",
      "  keepdims=keepdims)\n",
      "C:\\Users\\andre\\Anaconda3\\lib\\site-packages\\ipykernel_launcher.py:91: RuntimeWarning: Mean of empty slice\n",
      "C:\\Users\\andre\\Anaconda3\\lib\\site-packages\\ipykernel_launcher.py:92: RuntimeWarning: Mean of empty slice\n",
      "C:\\Users\\andre\\Anaconda3\\lib\\site-packages\\ipykernel_launcher.py:99: RuntimeWarning: Mean of empty slice\n"
     ]
    },
    {
     "name": "stdout",
     "output_type": "stream",
     "text": [
      "\n",
      "Subj/Visit 0, prec=1.000, rec=0.011, Spec=1.000, auroc_train=1.000, auroc=0.687\n"
     ]
    },
    {
     "name": "stderr",
     "output_type": "stream",
     "text": [
      "C:\\Users\\andre\\Anaconda3\\lib\\site-packages\\sklearn\\metrics\\ranking.py:444: RuntimeWarning: invalid value encountered in true_divide\n",
      "  recall = tps / tps[-1]\n",
      "C:\\Users\\andre\\Anaconda3\\lib\\site-packages\\sklearn\\metrics\\ranking.py:94: RuntimeWarning: invalid value encountered in less\n",
      "  if np.any(dx < 0):\n"
     ]
    },
    {
     "name": "stdout",
     "output_type": "stream",
     "text": [
      "only 1 class in test data - cannot compute roc curve\n",
      "\n",
      "Subj/Visit 1, prec=0.000, rec=0.000, Spec=1.000, auroc_train=1.000, auroc=nan\n"
     ]
    },
    {
     "name": "stderr",
     "output_type": "stream",
     "text": [
      "C:\\Users\\andre\\Anaconda3\\lib\\site-packages\\sklearn\\metrics\\ranking.py:444: RuntimeWarning: invalid value encountered in true_divide\n",
      "  recall = tps / tps[-1]\n",
      "C:\\Users\\andre\\Anaconda3\\lib\\site-packages\\sklearn\\metrics\\ranking.py:94: RuntimeWarning: invalid value encountered in less\n",
      "  if np.any(dx < 0):\n"
     ]
    },
    {
     "name": "stdout",
     "output_type": "stream",
     "text": [
      "only 1 class in test data - cannot compute roc curve\n",
      "\n",
      "Subj/Visit 2, prec=0.000, rec=0.000, Spec=1.000, auroc_train=1.000, auroc=nan\n",
      "\n",
      "Subj/Visit 3, prec=0.500, rec=0.033, Spec=0.996, auroc_train=1.000, auroc=0.751\n"
     ]
    },
    {
     "name": "stderr",
     "output_type": "stream",
     "text": [
      "C:\\Users\\andre\\Anaconda3\\lib\\site-packages\\sklearn\\metrics\\ranking.py:444: RuntimeWarning: invalid value encountered in true_divide\n",
      "  recall = tps / tps[-1]\n",
      "C:\\Users\\andre\\Anaconda3\\lib\\site-packages\\sklearn\\metrics\\ranking.py:94: RuntimeWarning: invalid value encountered in less\n",
      "  if np.any(dx < 0):\n"
     ]
    },
    {
     "name": "stdout",
     "output_type": "stream",
     "text": [
      "only 1 class in test data - cannot compute roc curve\n",
      "\n",
      "Subj/Visit 4, prec=0.000, rec=0.000, Spec=1.000, auroc_train=1.000, auroc=nan\n"
     ]
    },
    {
     "name": "stderr",
     "output_type": "stream",
     "text": [
      "C:\\Users\\andre\\Anaconda3\\lib\\site-packages\\sklearn\\metrics\\ranking.py:444: RuntimeWarning: invalid value encountered in true_divide\n",
      "  recall = tps / tps[-1]\n",
      "C:\\Users\\andre\\Anaconda3\\lib\\site-packages\\sklearn\\metrics\\ranking.py:94: RuntimeWarning: invalid value encountered in less\n",
      "  if np.any(dx < 0):\n",
      "C:\\Users\\andre\\Anaconda3\\lib\\site-packages\\ipykernel_launcher.py:90: RuntimeWarning: Mean of empty slice\n",
      "C:\\Users\\andre\\Anaconda3\\lib\\site-packages\\numpy\\lib\\nanfunctions.py:1434: RuntimeWarning: Degrees of freedom <= 0 for slice.\n",
      "  keepdims=keepdims)\n",
      "C:\\Users\\andre\\Anaconda3\\lib\\site-packages\\ipykernel_launcher.py:91: RuntimeWarning: Mean of empty slice\n",
      "C:\\Users\\andre\\Anaconda3\\lib\\site-packages\\ipykernel_launcher.py:92: RuntimeWarning: Mean of empty slice\n",
      "C:\\Users\\andre\\Anaconda3\\lib\\site-packages\\ipykernel_launcher.py:99: RuntimeWarning: Mean of empty slice\n",
      "C:\\Users\\andre\\Anaconda3\\lib\\site-packages\\sklearn\\metrics\\ranking.py:444: RuntimeWarning: invalid value encountered in true_divide\n",
      "  recall = tps / tps[-1]\n",
      "C:\\Users\\andre\\Anaconda3\\lib\\site-packages\\sklearn\\metrics\\ranking.py:94: RuntimeWarning: invalid value encountered in less\n",
      "  if np.any(dx < 0):\n"
     ]
    },
    {
     "name": "stdout",
     "output_type": "stream",
     "text": [
      "only 1 class in test data - cannot compute roc curve\n",
      "\n",
      "Subj/Visit 5, prec=0.000, rec=0.000, Spec=1.000, auroc_train=1.000, auroc=nan\n",
      "f1_test=0.014+/-0.023, prec=0.250+/-0.382, rec=0.007+/-0.012, auprc=0.346+/-0.161, auroc=0.719+/-0.032\n",
      "Subject 1053\n",
      "Training Random Forest\n",
      "only 1 class available in train data - skipping\n",
      "only 1 class available in train data - skipping\n",
      "only 1 class available in train data - skipping\n",
      "only 1 class available in train data - skipping\n",
      "only 1 class available in train data - skipping\n",
      "only 1 class available in train data - skipping\n",
      "f1_test=nan+/-nan, prec=nan+/-nan, rec=nan+/-nan, auprc=nan+/-nan, auroc=nan+/-nan\n",
      "only 1 class available in data - skipping\n",
      "Subject 1054\n",
      "Training Random Forest\n",
      "only 1 class available in train data - skipping\n",
      "only 1 class in test data - cannot compute roc curve\n",
      "\n",
      "Subj/Visit 0, prec=0.000, rec=0.000, Spec=1.000, auroc_train=1.000, auroc=nan\n"
     ]
    },
    {
     "name": "stderr",
     "output_type": "stream",
     "text": [
      "C:\\Users\\andre\\Anaconda3\\lib\\site-packages\\sklearn\\metrics\\ranking.py:444: RuntimeWarning: invalid value encountered in true_divide\n",
      "  recall = tps / tps[-1]\n",
      "C:\\Users\\andre\\Anaconda3\\lib\\site-packages\\sklearn\\metrics\\ranking.py:94: RuntimeWarning: invalid value encountered in less\n",
      "  if np.any(dx < 0):\n",
      "C:\\Users\\andre\\Anaconda3\\lib\\site-packages\\sklearn\\metrics\\ranking.py:444: RuntimeWarning: invalid value encountered in true_divide\n",
      "  recall = tps / tps[-1]\n",
      "C:\\Users\\andre\\Anaconda3\\lib\\site-packages\\sklearn\\metrics\\ranking.py:94: RuntimeWarning: invalid value encountered in less\n",
      "  if np.any(dx < 0):\n"
     ]
    },
    {
     "name": "stdout",
     "output_type": "stream",
     "text": [
      "only 1 class in test data - cannot compute roc curve\n",
      "\n",
      "Subj/Visit 1, prec=0.000, rec=0.000, Spec=1.000, auroc_train=1.000, auroc=nan\n",
      "only 1 class in test data - cannot compute roc curve\n",
      "\n",
      "Subj/Visit 2, prec=0.000, rec=0.000, Spec=1.000, auroc_train=1.000, auroc=nan\n"
     ]
    },
    {
     "name": "stderr",
     "output_type": "stream",
     "text": [
      "C:\\Users\\andre\\Anaconda3\\lib\\site-packages\\sklearn\\metrics\\ranking.py:444: RuntimeWarning: invalid value encountered in true_divide\n",
      "  recall = tps / tps[-1]\n",
      "C:\\Users\\andre\\Anaconda3\\lib\\site-packages\\sklearn\\metrics\\ranking.py:94: RuntimeWarning: invalid value encountered in less\n",
      "  if np.any(dx < 0):\n",
      "C:\\Users\\andre\\Anaconda3\\lib\\site-packages\\sklearn\\metrics\\ranking.py:444: RuntimeWarning: invalid value encountered in true_divide\n",
      "  recall = tps / tps[-1]\n",
      "C:\\Users\\andre\\Anaconda3\\lib\\site-packages\\sklearn\\metrics\\ranking.py:94: RuntimeWarning: invalid value encountered in less\n",
      "  if np.any(dx < 0):\n",
      "C:\\Users\\andre\\Anaconda3\\lib\\site-packages\\ipykernel_launcher.py:92: RuntimeWarning: Mean of empty slice\n",
      "C:\\Users\\andre\\Anaconda3\\lib\\site-packages\\numpy\\lib\\nanfunctions.py:1434: RuntimeWarning: Degrees of freedom <= 0 for slice.\n",
      "  keepdims=keepdims)\n",
      "C:\\Users\\andre\\Anaconda3\\lib\\site-packages\\ipykernel_launcher.py:99: RuntimeWarning: Mean of empty slice\n"
     ]
    },
    {
     "name": "stdout",
     "output_type": "stream",
     "text": [
      "only 1 class in test data - cannot compute roc curve\n",
      "\n",
      "Subj/Visit 3, prec=0.000, rec=0.000, Spec=1.000, auroc_train=1.000, auroc=nan\n",
      "only 1 class in test data - cannot compute roc curve\n",
      "\n",
      "Subj/Visit 4, prec=0.000, rec=0.000, Spec=1.000, auroc_train=1.000, auroc=nan\n",
      "f1_test=0.000+/-0.000, prec=0.000+/-0.000, rec=0.000+/-0.000, auprc=nan+/-nan, auroc=nan+/-nan\n",
      "Subject 1055\n",
      "Training Random Forest\n",
      "\n",
      "Subj/Visit 0, prec=0.955, rec=0.955, Spec=0.083, auroc_train=1.000, auroc=0.628\n",
      "\n",
      "Subj/Visit 1, prec=0.590, rec=0.902, Spec=0.056, auroc_train=1.000, auroc=0.547\n",
      "\n",
      "Subj/Visit 2, prec=0.683, rec=0.960, Spec=0.160, auroc_train=1.000, auroc=0.661\n",
      "\n",
      "Subj/Visit 3, prec=0.937, rec=0.937, Spec=0.444, auroc_train=1.000, auroc=0.877\n",
      "\n",
      "Subj/Visit 4, prec=0.832, rec=0.986, Spec=0.204, auroc_train=1.000, auroc=0.786\n",
      "\n",
      "Subj/Visit 5, prec=0.991, rec=0.913, Spec=0.000, auroc_train=1.000, auroc=0.500\n",
      "f1_test=0.876+/-0.090, prec=0.831+/-0.149, rec=0.942+/-0.029, auprc=0.889+/-0.123, auroc=0.666+/-0.131\n",
      "Subject 1056\n",
      "Training Random Forest\n",
      "\n",
      "Subj/Visit 0, prec=0.954, rec=0.873, Spec=0.519, auroc_train=1.000, auroc=0.778\n",
      "\n",
      "Subj/Visit 1, prec=0.395, rec=0.957, Spec=0.124, auroc_train=1.000, auroc=0.666\n",
      "\n",
      "Subj/Visit 2, prec=0.321, rec=0.970, Spec=0.072, auroc_train=1.000, auroc=0.614\n",
      "\n",
      "Subj/Visit 3, prec=0.973, rec=0.924, Spec=0.385, auroc_train=1.000, auroc=0.878\n",
      "only 1 class in test data - cannot compute roc curve\n",
      "\n",
      "Subj/Visit 4, prec=1.000, rec=0.964, Spec=nan, auroc_train=1.000, auroc=nan\n"
     ]
    },
    {
     "name": "stderr",
     "output_type": "stream",
     "text": [
      "C:\\Users\\andre\\Anaconda3\\lib\\site-packages\\ipykernel_launcher.py:48: RuntimeWarning: invalid value encountered in long_scalars\n"
     ]
    },
    {
     "name": "stdout",
     "output_type": "stream",
     "text": [
      "\n",
      "Subj/Visit 5, prec=0.889, rec=0.932, Spec=0.077, auroc_train=1.000, auroc=0.616\n",
      "f1_test=0.799+/-0.199, prec=0.755+/-0.284, rec=0.937+/-0.033, auprc=0.799+/-0.249, auroc=0.710+/-0.103\n"
     ]
    }
   ],
   "source": [
    "# symptom = 'Bradykinesia'\n",
    "symptom = 'Tremor'\n",
    "le = LabelEncoder()\n",
    "res_all = pd.DataFrame(data=None,index=None)\n",
    "res_visit_all = [] #data from each subject \n",
    "auroc2_5 = []\n",
    "\n",
    "#remove nan rows for current symptom\n",
    "Data = Dataorig.copy() #original unmodified dataframe\n",
    "Data=Data[~Data[symptom].isnull()]\n",
    "Data=Data.reset_index(drop=True) #reset index\n",
    "\n",
    "#train on 1 or all sessions, predict on left out session for each patient (Day 1) and on single Day 2 session\n",
    "for s in Data.Subject.unique():\n",
    "    print('Subject %s'%s)\n",
    "    ds = Data.loc[(Data.Subject==s) & (Data.Visit != '4 Weeks')]\n",
    "    ds2 = Data.loc[(Data.Subject==s) & (Data.Visit == '4 Weeks')] #(Day 2)\n",
    "\n",
    "    #train/test on Day 1\n",
    "    indp = (ds[symptom]>0).values\n",
    "    y = indp.astype(int) #target \n",
    "    X = ds.iloc[:,7:].as_matrix()\n",
    "    #     X = StandardScaler().fit_transform(X) #standardize input data\n",
    "    \n",
    "    models = [RandomForestClassifier(n_estimators=50,random_state=2)]#,XGBClassifier()]\n",
    "    model_name = ['Random Forest']#,'XGB']\n",
    "    models = list(zip(models,model_name))\n",
    "    groups = le.fit_transform(ds.Visit)\n",
    "    if len(np.unique(groups))<2:\n",
    "        continue\n",
    "        \n",
    "    #train/test on day 1 (LOin)\n",
    "    res,res_group = LOSOCV(ds,X,y,groups,models,LOin=0)\n",
    "    res.index = res.index+s\n",
    "    res_all=pd.concat((res_all,res))\n",
    "    res_visit_all.append(res_group)\n",
    "    day1_5 = res_all.auroc #mean auc per subject across \n",
    "\n",
    "    if len(np.unique(y))<2: #skip if no positive or negative examples are available for training\n",
    "        print('only 1 class available in data - skipping')\n",
    "        continue\n",
    "    \n",
    "    #test on day 2    \n",
    "    if ds2.empty is False:\n",
    "        print('Test %s on day 2' %s)\n",
    "        clf = models[0][0]\n",
    "        X2 = ds2.iloc[:,7:].as_matrix()\n",
    "        yte = (ds2[symptom]>0).values.astype(int) \n",
    "        yscore = clf.predict_proba(X2)\n",
    "        yscore = yscore[:,1]\n",
    "        if len(np.unique(yte))>1:\n",
    "            auroc = roc_auc_score(yte,yscore)\n",
    "        else:\n",
    "            print('only 1 class in test data - cannot compute roc curve')\n",
    "            auroc = np.nan\n",
    "        auroc2_5.append(auroc) #auc from each subject when tested on day 2\n",
    "\n",
    "        \n",
    "day1_5 = day1_5[~np.isnan(day1_5)]\n",
    "auroc2_5 = [x for x in auroc2_5 if str(x) != 'nan']\n",
    "\n",
    "# np.save(os.path.join(results_path,'PERS_brady_train5lovo.npy'),[day1_5.values, auroc2_5])\n",
    "np.save(os.path.join(results_path,'PERS_tremor_train5lovo.npy'),[day1_5.values, auroc2_5])"
   ]
  },
  {
   "cell_type": "markdown",
   "metadata": {},
   "source": [
    "#### Run Stats and Plot"
   ]
  },
  {
   "cell_type": "code",
   "execution_count": 90,
   "metadata": {},
   "outputs": [],
   "source": [
    "# brady1 = np.load(os.path.join(results_path,'brady_train1lovo.npy'))\n",
    "# brady5 = np.load(os.path.join(results_path,'brady_train5lovo.npy'))\n",
    "# tremor1 = np.load(os.path.join(results_path,'tremor_train1lovo.npy'))\n",
    "# tremor5 = np.load(os.path.join(results_path,'tremor_train5lovo.npy'))\n",
    "\n",
    "# day1_1 = np.append(brady1[0], tremor1[0]);\n",
    "# auroc2_1 = brady1[1] + tremor1[1];\n",
    "# day1_5 = np.append(brady5[0], tremor5[0]);\n",
    "# auroc2_5 = brady5[1] + tremor5[1];\n",
    "\n",
    "# s1 = (np.shape(brady1[0])[0])*['Bradykinesia'] + (np.shape(tremor1[0])[0])*['Tremor']\n",
    "# s2 = (np.shape(brady1[1])[0])*['Bradykinesia'] + (np.shape(tremor1[1])[0])*['Tremor']\n",
    "# g1 = np.shape(day1_1)[0]*['Day 1']\n",
    "# g2 = np.shape(auroc2_1)[0]*['Day 2']\n",
    "# df = pd.DataFrame.from_dict({'Test Session':(g1 + g2),'1 Session':(list(day1_1) + list(auroc2_1)),\n",
    "#                              '5 Sessions':(list(day1_5) + list(auroc2_5)),\n",
    "#                              'Symptom':(list(s1) + list(s2))})\n",
    "# df_new = pd.melt(df,id_vars=['Test Session','Symptom'],value_vars=['1 Session','5 Sessions'],var_name=['# Training Sessions']);\n",
    "\n",
    "# figure = plt.figure();\n",
    "# figure.set_dpi(100);\n",
    "# figure.set_size_inches(6.4,4.8);\n",
    "# # ax = sns.boxplot(x='Test Session',y='value',data=df_new,hue='# Training Sessions');\n",
    "# ax = sns.factorplot(x='Test Session',y='value',hue='# Training Sessions',data=df_new,col='Symptom',kind='box');\n",
    "# # ax = (ax.map(labelFunc),color='k')\n",
    "# ax.set_titles('{col_name}');\n",
    "\n",
    "# # x3,x4 = 0.8,1.2\n",
    "# # y, h, col = df_new['value'].max() + 0.04, 0.04, 'k'\n",
    "# # plt.plot([x3, x3, x4, x4], [y, y+h, y+h, y], lw=1.5, c=col)\n",
    "\n",
    "# # # if pvalue2 > 0.05:\n",
    "# # plt.text((x3+x4)*.5, y+h, \"ns\", ha='center', va='bottom', color=col,fontsize=16);\n",
    "# # # else:\n",
    "# # plt.text((x3+x4)*.5, y+h, \"***\"%pvalue2, ha='center', va='bottom', color=col,fontsize=16);\n",
    "\n",
    "\n",
    "# # plt.savefig(os.path.join(results_path,'1 and 5 sessions - Bradykinesia.png'),format='png',dpi=1000)\n",
    "# # plt.savefig(os.path.join(results_path,'1 and 5 sessions - Bradykinesia.tiff'),format='tiff',dpi=1000)"
   ]
  },
  {
   "cell_type": "code",
   "execution_count": 5,
   "metadata": {},
   "outputs": [],
   "source": [
    "# day1_1 = np.load(os.path.join(results_path,'brady_train1lovo.npy'))[0]\n",
    "# auroc2_1 = np.load(os.path.join(results_path,'brady_train1lovo.npy'))[1]\n",
    "# day1_5 = np.load(os.path.join(results_path,'brady_train5lovo.npy'))[0]\n",
    "# auroc2_5 = np.load(os.path.join(results_path,'brady_train5lovo.npy'))[1]\n",
    "\n",
    "# g1 = np.shape(day1_1)[0]*['Day 1']\n",
    "# g2 = np.shape(auroc2_1)[0]*['Day 2']\n",
    "# df = pd.DataFrame.from_dict({'Test Session':(g1 + g2),'1 Session':(list(day1_1) + list(auroc2_1)),'5 Sessions':(list(day1_5) + list(auroc2_5))})\n",
    "# df_new = pd.melt(df,id_vars=['Test Session'],value_vars=['1 Session','5 Sessions'],var_name=['# Training Sessions'])\n",
    "\n",
    "# figure = plt.figure()\n",
    "# figure.set_dpi(100)\n",
    "# figure.set_size_inches(6.4,4.8)\n",
    "# ax = sns.boxplot(x='Test Session',y='value',data=df_new,hue='# Training Sessions');\n",
    "# plt.ylabel('AUROC');\n",
    "# plt.title('Bradykinesia');\n",
    "# plt.ylim(0.3,1.15);\n",
    "\n",
    "# #stats\n",
    "# # _, pvalue1 = wilcoxon(day1_1.values,day1_5.values,zero_method='wilcox')\n",
    "# _, pvalue1 = stats.ttest_rel(day1_1,day1_5)\n",
    "# print('Bradykinesia Day 1 mean: %f p-value: %f'%((np.mean(day1_5-day1_1)),pvalue1))\n",
    "\n",
    "# # _, pvalue2 = wilcoxon(auroc2_1,auroc2_5,zero_method='wilcox')\n",
    "# _, pvalue2 = stats.ttest_rel(auroc2_1,auroc2_5)\n",
    "# print('Bradykinesia Day 2 mean: %f p-value: %f'%((np.mean(np.array(auroc2_5)-np.array(auroc2_1))),pvalue2))\n",
    "\n",
    "# x1,x2 = -0.2,0.2\n",
    "# y, h, col = df_new['value'].max() + 0.02, 0.02, 'k'\n",
    "# plt.plot([x1, x1, x2, x2], [y, y+h, y+h, y], lw=1.5, c=col)\n",
    "\n",
    "# if pvalue1 > 0.05:\n",
    "#     plt.text((x1+x2)*.5, y+h+0.01, \"ns\", ha='center', va='bottom', color=col,fontsize=16);\n",
    "# else:\n",
    "#     plt.text((x1+x2)*.5, y+h+0.01, \"***\"%pvalue1, ha='center', va='bottom', color=col,fontsize=16);\n",
    "\n",
    "# x3,x4 = 0.8,1.2\n",
    "# y, h, col = df_new['value'].max() + 0.04, 0.04, 'k'\n",
    "# plt.plot([x3, x3, x4, x4], [y, y+h, y+h, y], lw=1.5, c=col)\n",
    "\n",
    "# if pvalue2 > 0.05:\n",
    "#     plt.text((x3+x4)*.5, y+h, \"ns\", ha='center', va='bottom', color=col,fontsize=16);\n",
    "# else:\n",
    "#     plt.text((x3+x4)*.5, y+h, \"***\"%pvalue2, ha='center', va='bottom', color=col,fontsize=16);\n",
    "\n",
    "\n",
    "# plt.savefig(os.path.join(results_path,'1 and 5 sessions - Bradykinesia.png'),format='png',dpi=1000)\n",
    "# plt.savefig(os.path.join(results_path,'1 and 5 sessions - Bradykinesia.tiff'),format='tiff',dpi=1000)"
   ]
  },
  {
   "cell_type": "code",
   "execution_count": 6,
   "metadata": {
    "scrolled": true
   },
   "outputs": [],
   "source": [
    "# day1_1 = np.load(os.path.join(results_path,'tremor_train1lovo.npy'))[0]\n",
    "# auroc2_1 = np.load(os.path.join(results_path,'tremor_train1lovo.npy'))[1]\n",
    "# day1_5 = np.load(os.path.join(results_path,'tremor_train5lovo.npy'))[0]\n",
    "# auroc2_5 = np.load(os.path.join(results_path,'tremor_train5lovo.npy'))[1]\n",
    "\n",
    "# g1 = np.shape(day1_1)[0]*['Day 1']\n",
    "# g2 = np.shape(auroc2_1)[0]*['Day 2']\n",
    "# df = pd.DataFrame.from_dict({'Test Session':(g1 + g2),'1 Session':(list(day1_1) + list(auroc2_1)),'5 Sessions':(list(day1_5) + list(auroc2_5))})\n",
    "# df_new = pd.melt(df,id_vars=['Test Session'],value_vars=['1 Session','5 Sessions'],var_name=['# Training Sessions'])\n",
    "\n",
    "# figure = plt.figure()\n",
    "# figure.set_dpi(100)\n",
    "# figure.set_size_inches(6.4,4.8)\n",
    "# ax = sns.boxplot(x='Test Session',y='value',data=df_new,hue='# Training Sessions');\n",
    "# plt.ylabel('AUROC');\n",
    "# plt.title('Tremor');\n",
    "# plt.ylim(0.3,1.15);\n",
    "\n",
    "# #stats\n",
    "# # _, pvalue1 = wilcoxon(day1_1.values,day1_5.values,zero_method='wilcox')\n",
    "# _, pvalue1 = stats.ttest_rel(day1_1,day1_5)\n",
    "# print('Tremor Day 1 mean: %f p-value: %f'%((np.mean(day1_5-day1_1)),pvalue1))\n",
    "\n",
    "# # _, pvalue2 = wilcoxon(auroc2_1,auroc2_5,zero_method='wilcox')\n",
    "# _, pvalue2 = stats.ttest_rel(auroc2_1,auroc2_5)\n",
    "# print('Tremor Day 2 mean: %f p-value: %f'%((np.mean(np.array(auroc2_5)-np.array(auroc2_1))),pvalue2))\n",
    "\n",
    "# x1,x2 = -0.2,0.2\n",
    "# y, h, col = df_new['value'].max() + 0.02, 0.02, 'k'\n",
    "# plt.plot([x1, x1, x2, x2], [y, y+h, y+h, y], lw=1.5, c=col)\n",
    "\n",
    "# if pvalue1 > 0.05:\n",
    "#     plt.text((x1+x2)*.5, y+h+0.01, \"ns\", ha='center', va='bottom', color=col,fontsize=16);\n",
    "# else:\n",
    "#     plt.text((x1+x2)*.5, y+h+0.01, \"***\"%pvalue1, ha='center', va='bottom', color=col,fontsize=16);\n",
    "\n",
    "# x3,x4 = 0.8,1.2\n",
    "# y, h, col = df_new['value'].max() + 0.04, 0.04, 'k'\n",
    "# plt.plot([x3, x3, x4, x4], [y, y+h, y+h, y], lw=1.5, c=col)\n",
    "\n",
    "# if pvalue2 > 0.05:\n",
    "#     plt.text((x3+x4)*.5, y+h, \"ns\", ha='center', va='bottom', color=col,fontsize=16);\n",
    "# else:\n",
    "#     plt.text((x3+x4)*.5, y+h, \"***\"%pvalue2, ha='center', va='bottom', color=col,fontsize=16);\n",
    "\n",
    "\n",
    "# plt.savefig(os.path.join(results_path,'1 and 5 sessions - Tremor.png'),format='png',dpi=1000)\n",
    "# plt.savefig(os.path.join(results_path,'1 and 5 sessions - Tremor.tiff'),format='tiff',dpi=1000)"
   ]
  },
  {
   "cell_type": "markdown",
   "metadata": {},
   "source": [
    "# Boxplots"
   ]
  },
  {
   "cell_type": "markdown",
   "metadata": {},
   "source": [
    "## Bradykinesia - Compare Day 1, 1 sessions and all sessions for training, test on remaining"
   ]
  },
  {
   "cell_type": "code",
   "execution_count": 5,
   "metadata": {},
   "outputs": [
    {
     "name": "stdout",
     "output_type": "stream",
     "text": [
      "Bradykinesia Day 1\n",
      "\n",
      "Population Model p-value: 0.013612, mean improvement: 0.013900\n",
      "Personal Model p-value: 0.000000, mean improvement: 0.111878\n"
     ]
    }
   ],
   "source": [
    "global_one = np.load(os.path.join(results_path,'GLOB_brady_train1lovo.npy'))[0]\n",
    "global_one = np.asarray(global_one)[~np.isnan(global_one)]\n",
    "global_all = np.load(os.path.join(results_path,'GLOB_brady_train6lovo.npy'))[0]\n",
    "global_all = np.asarray(global_all)[~np.isnan(global_all)]\n",
    "\n",
    "person_one = np.load(os.path.join(results_path,'PERS_brady_train1lovo.npy'))[0]\n",
    "person_one = np.asarray(person_one)[~np.isnan(person_one)]\n",
    "person_all = np.load(os.path.join(results_path,'PERS_brady_train5lovo.npy'))[0]\n",
    "person_all = np.asarray(person_all)[~np.isnan(person_all)]\n",
    "\n",
    "_, pvalue1 = stats.ttest_rel(global_one,global_all)\n",
    "_, pvalue2 = stats.ttest_rel(person_one,person_all)\n",
    "print('Bradykinesia Day 1\\n')\n",
    "print('Population Model p-value: %f, mean improvement: %f'%(pvalue1,(np.nanmean(global_all) - np.nanmean(global_one))))\n",
    "print('Personal Model p-value: %f, mean improvement: %f'%(pvalue2,(np.nanmean(person_all) - np.nanmean(person_one))))"
   ]
  },
  {
   "cell_type": "code",
   "execution_count": 6,
   "metadata": {},
   "outputs": [
    {
     "data": {
      "image/png": "[encoded data removed]",
      "text/plain": [
       "<matplotlib.figure.Figure at 0x1b8678e7f60>"
      ]
     },
     "metadata": {},
     "output_type": "display_data"
    }
   ],
   "source": [
    "g1 = np.shape(global_one)[0]*['Population']\n",
    "g2 = np.shape(person_one)[0]*['Personal']\n",
    "df = pd.DataFrame.from_dict({'Model':(g1 + g2),'One Session':(list(global_one) + list(person_one)),\n",
    "                             'All Sessions':(list(global_all) + list(person_all))})\n",
    "df_new = pd.melt(df,id_vars=['Model'],value_vars=['One Session','All Sessions'],var_name=['# Training Sessions'])\n",
    "\n",
    "figure = plt.figure()\n",
    "figure.set_dpi(100)\n",
    "figure.set_size_inches(6.4,4.8)\n",
    "ax = sns.boxplot(x='Model',y='value',data=df_new,hue='# Training Sessions');\n",
    "plt.ylabel('AUROC');\n",
    "plt.title('Bradykinesia - Day 1');\n",
    "plt.ylim(0.2,1.1);\n",
    "\n",
    "x1,x2 = -0.2,0.2\n",
    "y, h, col = df_new['value'].max() - 0.05, 0.02, 'k'\n",
    "plt.plot([x1, x1, x2, x2], [y, y+h, y+h, y], lw=1.5, c=col)\n",
    "plt.text((x1+x2)*.5, y+h+0.01, \"*\", ha='center', va='bottom', color=col,fontsize=16);\n",
    "\n",
    "x3,x4 = 0.8,1.2\n",
    "y, h, col = df_new['value'].max() + 0.02, 0.02, 'k'\n",
    "plt.plot([x3, x3, x4, x4], [y, y+h, y+h, y], lw=1.5, c=col)\n",
    "plt.text((x3+x4)*.5, y+h+0.01, \"***\", ha='center', va='bottom', color=col,fontsize=16);\n",
    "\n",
    "plt.savefig(os.path.join(results_path,'Bradykinesia Day 1 Comparison.tiff'),format='tiff',dpi=1000)\n",
    "plt.savefig(os.path.join(results_path,'Bradykinesia Day 1 Comparison.png'),format='png',dpi=1000)"
   ]
  },
  {
   "cell_type": "markdown",
   "metadata": {},
   "source": [
    "## Bradykinesia - Compare Day 2, 1 sessions and all sessions for training, test on remaining"
   ]
  },
  {
   "cell_type": "code",
   "execution_count": 7,
   "metadata": {},
   "outputs": [
    {
     "name": "stdout",
     "output_type": "stream",
     "text": [
      "Bradykinesia Day 2\n",
      "\n",
      "Population Model p-value: 0.394027, mean improvement: 0.009822\n",
      "Personal Model p-value: 0.123859, mean improvement: 0.041002\n"
     ]
    }
   ],
   "source": [
    "global_one = np.load(os.path.join(results_path,'GLOB_brady_train1lovo.npy'))[1]\n",
    "global_one = np.asarray(global_one)[~np.isnan(global_one)]\n",
    "global_all = np.load(os.path.join(results_path,'GLOB_brady_train6lovo.npy'))[1]\n",
    "global_all = np.asarray(global_all)[~np.isnan(global_all)]\n",
    "\n",
    "person_one = np.load(os.path.join(results_path,'PERS_brady_train1lovo.npy'))[1]\n",
    "person_one = np.asarray(person_one)[~np.isnan(person_one)]\n",
    "person_all = np.load(os.path.join(results_path,'PERS_brady_train5lovo.npy'))[1]\n",
    "person_all = np.asarray(person_all)[~np.isnan(person_all)]\n",
    "\n",
    "_, pvalue1 = stats.ttest_rel(global_one,global_all)\n",
    "_, pvalue2 = stats.ttest_rel(person_one,person_all)\n",
    "print('Bradykinesia Day 2\\n')\n",
    "print('Population Model p-value: %f, mean improvement: %f'%(pvalue1,(np.nanmean(global_all) - np.nanmean(global_one))))\n",
    "print('Personal Model p-value: %f, mean improvement: %f'%(pvalue2,(np.nanmean(person_all) - np.nanmean(person_one))))"
   ]
  },
  {
   "cell_type": "code",
   "execution_count": 8,
   "metadata": {},
   "outputs": [
    {
     "data": {
      "image/png": "[encoded data removed]",
      "text/plain": [
       "<matplotlib.figure.Figure at 0x1b8678d6898>"
      ]
     },
     "metadata": {},
     "output_type": "display_data"
    }
   ],
   "source": [
    "g1 = np.shape(global_one)[0]*['Population']\n",
    "g2 = np.shape(person_one)[0]*['Personal']\n",
    "df = pd.DataFrame.from_dict({'Model':(g1 + g2),'One Session':(list(global_one) + list(person_one)),\n",
    "                             'All Sessions':(list(global_all) + list(person_all))})\n",
    "df_new = pd.melt(df,id_vars=['Model'],value_vars=['One Session','All Sessions'],var_name=['# Training Sessions'])\n",
    "\n",
    "figure = plt.figure()\n",
    "figure.set_dpi(100)\n",
    "figure.set_size_inches(6.4,4.8)\n",
    "ax = sns.boxplot(x='Model',y='value',data=df_new,hue='# Training Sessions');\n",
    "plt.ylabel('AUROC');\n",
    "plt.title('Bradykinesia - Day 2');\n",
    "plt.ylim(0,1.15);\n",
    "\n",
    "x1,x2 = -0.2,0.2\n",
    "y, h, col = df_new['value'].max() + 0.02, 0.02, 'k'\n",
    "plt.plot([x1, x1, x2, x2], [y, y+h, y+h, y], lw=1.5, c=col)\n",
    "plt.text((x1+x2)*.5, y+h+0.01, \"ns\", ha='center', va='bottom', color=col,fontsize=16);\n",
    "\n",
    "x3,x4 = 0.8,1.2\n",
    "y, h, col = df_new['value'].max() + 0.02, 0.02, 'k'\n",
    "plt.plot([x3, x3, x4, x4], [y, y+h, y+h, y], lw=1.5, c=col)\n",
    "plt.text((x3+x4)*.5, y+h+0.01, \"ns\", ha='center', va='bottom', color=col,fontsize=16);\n",
    "\n",
    "plt.savefig(os.path.join(results_path,'Bradykinesia Day 2 Comparison.tiff'),format='tiff',dpi=1000)\n",
    "plt.savefig(os.path.join(results_path,'Bradykinesia Day 2 Comparison.png'),format='png',dpi=1000)"
   ]
  },
  {
   "cell_type": "markdown",
   "metadata": {},
   "source": [
    "## Tremor - Compare Day 1, 1 sessions and all sessions for training, test on remaining"
   ]
  },
  {
   "cell_type": "code",
   "execution_count": 9,
   "metadata": {},
   "outputs": [],
   "source": [
    "global_one = np.load(os.path.join(results_path,'GLOB_tremor_train1lovo.npy'))[0]\n",
    "# global_one = np.asarray(global_one)[~np.isnan(global_one)]\n",
    "global_all = np.load(os.path.join(results_path,'GLOB_tremor_train6lovo.npy'))[0]\n",
    "# global_all = np.asarray(global_all)[~np.isnan(global_all)]\n",
    "\n",
    "person_one = np.load(os.path.join(results_path,'PERS_tremor_train1lovo.npy'))[0]\n",
    "# person_one = np.asarray(person_one)[~np.isnan(person_one)]\n",
    "person_all = np.load(os.path.join(results_path,'PERS_tremor_train5lovo.npy'))[0]\n",
    "# person_all = np.asarray(person_all)[~np.isnan(person_all)]"
   ]
  },
  {
   "cell_type": "code",
   "execution_count": 10,
   "metadata": {},
   "outputs": [
    {
     "name": "stdout",
     "output_type": "stream",
     "text": [
      "(16,)\n",
      "(16,)\n",
      "(19,)\n",
      "(19,)\n"
     ]
    }
   ],
   "source": [
    "print(np.shape(person_one))\n",
    "print(np.shape(person_all))\n",
    "print(np.shape(global_one))\n",
    "print(np.shape(global_all))"
   ]
  },
  {
   "cell_type": "code",
   "execution_count": 11,
   "metadata": {},
   "outputs": [],
   "source": [
    "person_all = np.append(person_all,(np.nan,np.nan,np.nan))\n",
    "person_one = np.append(person_one,(np.nan,np.nan,np.nan))"
   ]
  },
  {
   "cell_type": "code",
   "execution_count": 12,
   "metadata": {},
   "outputs": [
    {
     "name": "stdout",
     "output_type": "stream",
     "text": [
      "Tremor Day 1\n",
      "\n",
      "Population Model p-value: 0.000175, mean improvement: 0.029445\n",
      "Personal Model p-value: 0.000340, mean improvement: 0.096639\n"
     ]
    }
   ],
   "source": [
    "_, pvalue1 = stats.ttest_rel(global_one,global_all,nan_policy='omit')\n",
    "_, pvalue2 = stats.ttest_rel(person_one,person_all,nan_policy='omit')\n",
    "print('Tremor Day 1\\n')\n",
    "print('Population Model p-value: %f, mean improvement: %f'%(pvalue1,(np.nanmean(global_all) - np.nanmean(global_one))))\n",
    "print('Personal Model p-value: %f, mean improvement: %f'%(pvalue2,(np.nanmean(person_all) - np.nanmean(person_one))))"
   ]
  },
  {
   "cell_type": "code",
   "execution_count": 13,
   "metadata": {},
   "outputs": [
    {
     "data": {
      "image/png": "[encoded data removed]",
      "text/plain": [
       "<matplotlib.figure.Figure at 0x1b867e686a0>"
      ]
     },
     "metadata": {},
     "output_type": "display_data"
    }
   ],
   "source": [
    "g1 = np.shape(global_one)[0]*['Population']\n",
    "g2 = np.shape(person_one)[0]*['Personal']\n",
    "df = pd.DataFrame.from_dict({'Model':(g1 + g2),'One Session':(list(global_one) + list(person_one)),\n",
    "                             'All Sessions':(list(global_all) + list(person_all))})\n",
    "df_new = pd.melt(df,id_vars=['Model'],value_vars=['One Session','All Sessions'],var_name=['# Training Sessions'])\n",
    "\n",
    "figure = plt.figure()\n",
    "figure.set_dpi(100)\n",
    "figure.set_size_inches(6.4,4.8)\n",
    "ax = sns.boxplot(x='Model',y='value',data=df_new,hue='# Training Sessions');\n",
    "plt.ylabel('AUROC');\n",
    "plt.title('Tremor - Day 1');\n",
    "plt.ylim(0.35,1.1);\n",
    "\n",
    "x1,x2 = -0.2,0.2\n",
    "y, h, col = df_new['value'].max() + 0.02, 0.02, 'k'\n",
    "plt.plot([x1, x1, x2, x2], [y, y+h, y+h, y], lw=1.5, c=col)\n",
    "plt.text((x1+x2)*.5, y+h+0.01, \"***\", ha='center', va='bottom', color=col,fontsize=16);\n",
    "\n",
    "x3,x4 = 0.8,1.2\n",
    "y, h, col = df_new['value'].max() + 0.02, 0.02, 'k'\n",
    "plt.plot([x3, x3, x4, x4], [y, y+h, y+h, y], lw=1.5, c=col)\n",
    "plt.text((x3+x4)*.5, y+h+0.01, \"***\", ha='center', va='bottom', color=col,fontsize=16);\n",
    "\n",
    "plt.savefig(os.path.join(results_path,'Tremor Day 1 Comparison.tiff'),format='tiff',dpi=1000)\n",
    "plt.savefig(os.path.join(results_path,'Tremor Day 1 Comparison.png'),format='png',dpi=1000)"
   ]
  },
  {
   "cell_type": "markdown",
   "metadata": {},
   "source": [
    "## Tremor - Compare Day 2, 1 sessions and all sessions for training, test on remaining"
   ]
  },
  {
   "cell_type": "code",
   "execution_count": 14,
   "metadata": {},
   "outputs": [],
   "source": [
    "global_one = np.load(os.path.join(results_path,'GLOB_tremor_train1lovo.npy'))[1]\n",
    "# global_one = np.asarray(global_one)[~np.isnan(global_one)]\n",
    "global_all = np.load(os.path.join(results_path,'GLOB_tremor_train6lovo.npy'))[1]\n",
    "# global_all = np.asarray(global_all)[~np.isnan(global_all)]\n",
    "\n",
    "person_one = np.load(os.path.join(results_path,'PERS_tremor_train1lovo.npy'))[1]\n",
    "# person_one = np.asarray(person_one)[~np.isnan(person_one)]\n",
    "person_all = np.load(os.path.join(results_path,'PERS_tremor_train5lovo.npy'))[1]\n",
    "# person_all = np.asarray(person_all)[~np.isnan(person_all)]"
   ]
  },
  {
   "cell_type": "code",
   "execution_count": 15,
   "metadata": {},
   "outputs": [
    {
     "name": "stdout",
     "output_type": "stream",
     "text": [
      "(11,)\n",
      "(11,)\n",
      "(19,)\n",
      "(19,)\n"
     ]
    }
   ],
   "source": [
    "print(np.shape(person_one))\n",
    "print(np.shape(person_all))\n",
    "print(np.shape(global_one))\n",
    "print(np.shape(global_all))"
   ]
  },
  {
   "cell_type": "code",
   "execution_count": 16,
   "metadata": {},
   "outputs": [],
   "source": [
    "person_all = np.append(person_all,(np.nan,np.nan,np.nan,np.nan,np.nan,np.nan,np.nan,np.nan))\n",
    "person_one = np.append(person_one,(np.nan,np.nan,np.nan,np.nan,np.nan,np.nan,np.nan,np.nan))"
   ]
  },
  {
   "cell_type": "code",
   "execution_count": 17,
   "metadata": {},
   "outputs": [
    {
     "name": "stdout",
     "output_type": "stream",
     "text": [
      "Tremor Day 2\n",
      "\n",
      "Population Model p-value: 0.000385, mean improvement: 0.034584\n",
      "Personal Model p-value: 0.210448, mean improvement: 0.057183\n"
     ]
    }
   ],
   "source": [
    "_, pvalue1 = stats.ttest_rel(global_one,global_all,nan_policy='omit')\n",
    "_, pvalue2 = stats.ttest_rel(person_one,person_all,nan_policy='omit')\n",
    "print('Tremor Day 2\\n')\n",
    "print('Population Model p-value: %f, mean improvement: %f'%(pvalue1,(np.nanmean(global_all) - np.nanmean(global_one))))\n",
    "print('Personal Model p-value: %f, mean improvement: %f'%(pvalue2,(np.nanmean(person_all) - np.nanmean(person_one))))"
   ]
  },
  {
   "cell_type": "code",
   "execution_count": 18,
   "metadata": {
    "scrolled": false
   },
   "outputs": [
    {
     "data": {
      "image/png": "[encoded data removed]",
      "text/plain": [
       "<matplotlib.figure.Figure at 0x1b86f78a438>"
      ]
     },
     "metadata": {},
     "output_type": "display_data"
    }
   ],
   "source": [
    "g1 = np.shape(global_one)[0]*['Population']\n",
    "g2 = np.shape(person_one)[0]*['Personal']\n",
    "df = pd.DataFrame.from_dict({'Model':(g1 + g2),'One Session':(list(global_one) + list(person_one)),\n",
    "                             'All Sessions':(list(global_all) + list(person_all))})\n",
    "df_new = pd.melt(df,id_vars=['Model'],value_vars=['One Session','All Sessions'],var_name=['# Training Sessions'])\n",
    "\n",
    "figure = plt.figure()\n",
    "figure.set_dpi(100)\n",
    "figure.set_size_inches(6.4,4.8)\n",
    "ax = sns.boxplot(x='Model',y='value',data=df_new,hue='# Training Sessions');\n",
    "plt.ylabel('AUROC');\n",
    "plt.title('Tremor - Day 2');\n",
    "plt.ylim(0.4,1.11);\n",
    "\n",
    "x1,x2 = -0.2,0.2\n",
    "y, h, col = df_new['value'].max() + 0.02, 0.02, 'k'\n",
    "plt.plot([x1, x1, x2, x2], [y, y+h, y+h, y], lw=1.5, c=col)\n",
    "plt.text((x1+x2)*.5, y+h+0.01, \"***\", ha='center', va='bottom', color=col,fontsize=16);\n",
    "\n",
    "x3,x4 = 0.8,1.2\n",
    "y, h, col = df_new['value'].max() + 0.02, 0.02, 'k'\n",
    "plt.plot([x3, x3, x4, x4], [y, y+h, y+h, y], lw=1.5, c=col)\n",
    "plt.text((x3+x4)*.5, y+h+0.01, \"ns\", ha='center', va='bottom', color=col,fontsize=16);\n",
    "\n",
    "plt.savefig(os.path.join(results_path,'Tremor Day 2 Comparison.tiff'),format='tiff',dpi=1000)\n",
    "plt.savefig(os.path.join(results_path,'Tremor Day 2 Comparison.png'),format='png',dpi=1000)"
   ]
  },
  {
   "cell_type": "markdown",
   "metadata": {},
   "source": [
    "## Sensor Analysis"
   ]
  },
  {
   "cell_type": "code",
   "execution_count": null,
   "metadata": {},
   "outputs": [],
   "source": [
    "# filename = 'Features_AllLocs_HP+LP_GyroLP.h5'\n",
    "filename = 'Features_AllLocs_HP.h5'\n",
    "Data = pd.read_hdf(os.path.join(features_path,filename))\n",
    "print(Data.shape)"
   ]
  },
  {
   "cell_type": "code",
   "execution_count": null,
   "metadata": {},
   "outputs": [],
   "source": [
    "#filter empty rows on all locations\n",
    "for s in Data.columns.values[7:]:\n",
    "    print('%s,discarded %d rows'%(s,sum(Data[s].apply(type) == float)))\n",
    "    Data = Data[Data[s].apply(type) != float]\n",
    "    \n",
    "print(Data.shape)"
   ]
  },
  {
   "cell_type": "code",
   "execution_count": null,
   "metadata": {},
   "outputs": [],
   "source": [
    "def featureUnpack(Data, sensor_list):\n",
    "    #unpack features\n",
    "    colnames=['RMSX', 'RMSY', 'RMSZ', 'rangeX', 'rangeY', 'rangeZ', 'meanX',\n",
    "           'meanY', 'meanZ', 'varX', 'varY', 'varZ', 'skewX', 'skewY', 'skewZ',\n",
    "           'kurtX', 'kurtY', 'kurtZ', 'xcor_peakXY', 'xcorr_peakXZ',\n",
    "           'xcorr_peakYZ', 'xcorr_lagXY', 'xcorr_lagXZ', 'xcorr_lagYZ', 'Dom_freq',\n",
    "           'Pdom_rel', 'PSD_mean', 'PSD_std', 'PSD_skew', 'PSD_kur', 'jerk_mean',\n",
    "           'jerk_std', 'jerk_skew', 'jerk_kur', 'Sen_X', 'Sen_Y', 'Sen_Z']\n",
    "\n",
    "    colnames1=[i+'acc' for i in colnames]\n",
    "    colnames2=[i+'gyr' for i in colnames]\n",
    "    colnames=colnames1+colnames2\n",
    "    \n",
    "    Datafinal = pd.DataFrame()\n",
    "\n",
    "    for i in range(len(Data)):\n",
    "        Datatemp=pd.DataFrame()\n",
    "        for sensors in sensor_list:\n",
    "            if sensors!=\"flexor_digitorum_\":\n",
    "                F1 = Data[sensors + '_accel'].iloc[i]\n",
    "                F2 = Data[sensors + '_gyro'].iloc[i]\n",
    "                F = pd.DataFrame(data=np.hstack((F1,F2)).reshape(-1,1).T,index=[i],columns=[i+'_'+sensors for i in colnames])\n",
    "                Datatemp=pd.concat((Datatemp,F),axis=1)\n",
    "            else:\n",
    "                F1 = Data[sensors + '_accel'].iloc[i]\n",
    "                F = pd.DataFrame(data=F1.reshape(-1,1).T,index=[i],columns=[i+'_'+sensors for i in colnames1])\n",
    "                Datatemp=pd.concat((Datatemp,F),axis=1)\n",
    "        Datafinal = pd.concat((Datafinal,Datatemp),axis=0)\n",
    "        \n",
    "    Datafinal=Datafinal.reset_index(drop=True)\n",
    "    Data=Data.reset_index(drop=True)\n",
    "    Datafinal = pd.concat((Data.iloc[:,:7],Datafinal),axis=1)\n",
    "        \n",
    "    return Datafinal"
   ]
  },
  {
   "cell_type": "code",
   "execution_count": null,
   "metadata": {},
   "outputs": [],
   "source": [
    "# sensor_list = ['anterior_thigh_','dorsal_hand_','sacrum']\n",
    "sensor_list = [['dorsal_hand_'],['flexor_digitorum_'],\n",
    "               ['anterior_thigh_'],['dorsal_hand_','flexor_digitorum_','anterior_thigh_']] # just hand sensors"
   ]
  },
  {
   "cell_type": "code",
   "execution_count": null,
   "metadata": {},
   "outputs": [],
   "source": [
    "# symptom = 'Bradykinesia'\n",
    "symptom = 'Tremor'\n",
    "res_all = pd.DataFrame()\n",
    "\n",
    "fileNameList = ['Hand', 'Forearm', 'Thigh', 'Combo']\n",
    "AX = None\n",
    "\n",
    "for x,sList in zip(range(len(sensor_list)),sensor_list):\n",
    "    SData = featureUnpack(Data,sList)\n",
    "    \n",
    "    X = SData.iloc[:,7:].as_matrix()\n",
    "    fnames = SData.iloc[:,7:].columns.values\n",
    "\n",
    "    indp = ((SData[symptom]>0))\n",
    "    indp = indp.values\n",
    "    y = indp.astype(int) #target \n",
    "    print('Rows w %s %d/%d = %.2f'%(symptom,sum(indp),len(indp),(sum(indp)/len(indp))))\n",
    "\n",
    "    models = [RandomForestClassifier(n_estimators=50,random_state=2)]          \n",
    "    model_name = ['Random Forest']\n",
    "    models = list(zip(models,model_name))\n",
    "    groups = SData.Subject.as_matrix()\n",
    "\n",
    "    res,res_group = LOSOCV(SData,X,y,groups,models)\n",
    "    res_all = pd.concat((res_all,res))\n",
    "    \n",
    "    AUC = res_group['Random Forest']['auroc']\n",
    "    \n",
    "    \n",
    "    save_object(res_group,symptom+fileNameList[x]+'DataResults')\n",
    "    \n",
    "    T = 'Random Forest'\n",
    "    NanInds = []\n",
    "    for i in range(len(res_group[T]['auroc'])):\n",
    "        if np.isnan(res_group[T]['auroc'][i]):\n",
    "            NanInds.append(i)\n",
    "    for i in sorted(NanInds,reverse=True):\n",
    "        del res_group[T]['tpr'][i]\n",
    "        del res_group[T]['auroc'][i]\n",
    "    \n",
    "    print(fileNameList[x],np.mean(AUC),\n",
    "          stats.t.interval(.95,len(AUC)-1, loc=np.mean(AUC), scale=stats.sem(AUC)))\n",
    "    \n",
    "    cols = ['b','r','g','m','k']\n",
    "    \n",
    "    if AX==None:\n",
    "        AX = plot_roc(res_group['Random Forest']['tpr'], res_group['Random Forest']['fpr'][0], \n",
    "                      np.nanmean(res_group['Random Forest']['auroc']),plotname=fileNameList[x],col=cols[x])\n",
    "    else:\n",
    "        plot_roc(res_group['Random Forest']['tpr'], res_group['Random Forest']['fpr'][0], \n",
    "                      np.nanmean(res_group['Random Forest']['auroc']),ax=AX,plotname=fileNameList[x],col=cols[x])\n",
    "        \n",
    "plt.savefig(symptom+'SensorsRF.tiff',format='tiff',dpi=1000)\n",
    "plt.savefig(symptom+'SensorsRF.png',format='png',dpi=1000)"
   ]
  }
 ],
 "metadata": {
  "anaconda-cloud": {},
  "celltoolbar": "Raw Cell Format",
  "kernelspec": {
   "display_name": "Python 3",
   "language": "python",
   "name": "python3"
  },
  "language_info": {
   "codemirror_mode": {
    "name": "ipython",
    "version": 3
   },
   "file_extension": ".py",
   "mimetype": "text/x-python",
   "name": "python",
   "nbconvert_exporter": "python",
   "pygments_lexer": "ipython3",
   "version": "3.6.5"
  }
 },
 "nbformat": 4,
 "nbformat_minor": 2
}
